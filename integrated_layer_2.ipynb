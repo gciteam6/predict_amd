{
 "cells": [
  {
   "cell_type": "markdown",
   "metadata": {},
   "source": [
    "# **stackingを_layer_2**"
   ]
  },
  {
   "cell_type": "markdown",
   "metadata": {},
   "source": [
    "### **必要な関数・ライブラリ**"
   ]
  },
  {
   "cell_type": "code",
   "execution_count": 133,
   "metadata": {
    "collapsed": true
   },
   "outputs": [],
   "source": [
    "# データ加工・処理・分析モジュール\n",
    "import numpy as np\n",
    "import pandas as pd\n",
    "import matplotlib.pyplot as plt\n",
    "\n",
    "from sklearn.ensemble import RandomForestRegressor\n",
    "from sklearn.model_selection import train_test_split\n",
    "from sklearn.model_selection import KFold\n",
    "\n",
    "import os\n",
    "import math\n",
    "import random\n",
    "\n",
    "%matplotlib inline\n",
    "\n",
    "import time"
   ]
  },
  {
   "cell_type": "code",
   "execution_count": 134,
   "metadata": {
    "collapsed": true
   },
   "outputs": [],
   "source": [
    "def set_time(dataframe, col_name):\n",
    "    '''\n",
    "    to_datetimeを使うための前処理\n",
    "    '''\n",
    "    dataframe[col_name] = dataframe[col_name].map(lambda x : transform_time(x))\n",
    "    return dataframe"
   ]
  },
  {
   "cell_type": "code",
   "execution_count": 135,
   "metadata": {
    "collapsed": true
   },
   "outputs": [],
   "source": [
    "def add_time_sincos(input_data, key=\"datetime\"):\n",
    "    '''\n",
    "    時間や月のデータを加える\n",
    "    '''\n",
    "    input_data['hour'] = input_data['datetime'].map(lambda x: int(x.hour))\n",
    "    input_data['minute'] = input_data['datetime'].map(lambda x: int(x.minute))\n",
    "    input_data['month'] = input_data['datetime'].map(lambda x: int(x.month))\n",
    "    input_data['month_cos'] = input_data['month'].map(lambda x: np.cos(np.pi * x / 12))\n",
    "    input_data['month_sin'] = input_data['month'].map(lambda x: np.sin(np.pi * x / 12))\n",
    "    input_data['hour_cos'] = input_data['hour'].map(lambda x: np.cos(np.pi * x / 24))\n",
    "    input_data['hour_sin'] = input_data['hour'].map(lambda x: np.sin(np.pi * x / 24))\n",
    "    input_data = input_data.drop(['hour', 'month', 'minute'], axis=1)\n",
    "    return input_data"
   ]
  },
  {
   "cell_type": "code",
   "execution_count": 136,
   "metadata": {
    "collapsed": true
   },
   "outputs": [],
   "source": [
    "def add_time_dummy(input_data, key=\"datetime\"):\n",
    "    '''\n",
    "    時間や月のデータを加える\n",
    "    '''\n",
    "    input_data['hour'] = input_data['datetime'].map(lambda x: str(x.hour))\n",
    "    input_data['month'] = input_data['datetime'].map(lambda x: str(x.month))\n",
    "    input_data['minute'] = input_data['datetime'].map(lambda x: str(x.minute))\n",
    "    input_data = pd.get_dummies(input_data, drop_first=False)\n",
    "    return input_data"
   ]
  },
  {
   "cell_type": "code",
   "execution_count": 137,
   "metadata": {
    "collapsed": true
   },
   "outputs": [],
   "source": [
    "def transform_time(x):\n",
    "    '''\n",
    "    set_time内で使う関数\n",
    "    to_datetimeで24時をサポートしないので00に変更する処理\n",
    "    '''\n",
    "    str_x = str(x)\n",
    "    res = ''\n",
    "    if str(x)[8:10] == '24':\n",
    "        res = str_x[0:4] + '-' + str_x[4:6] + '-' + str_x[6:8] + ' 00:'+str_x[10:12] \n",
    "    else:\n",
    "        res = str_x[0:4] + '-' + str_x[4:6] + '-' + str_x[6:8] + ' '+ str_x[8:10] +':'+str_x[10:12]\n",
    "    return res"
   ]
  },
  {
   "cell_type": "code",
   "execution_count": 138,
   "metadata": {
    "collapsed": true
   },
   "outputs": [],
   "source": [
    "def drop_nan(X, Y):\n",
    "    '''\n",
    "    正解データがnanであるデータの組を削除\n",
    "    '''\n",
    "    mask = np.isnan(Y)\n",
    "    X = X[~mask]\n",
    "    Y = Y[~mask]\n",
    "    return X, Y"
   ]
  },
  {
   "cell_type": "code",
   "execution_count": 139,
   "metadata": {
    "collapsed": true
   },
   "outputs": [],
   "source": [
    "def scaling_output(output_30, momentum=False):\n",
    "    '''\n",
    "    直近2015年の総発電量に合わせて他の年の初で量も合わせる関数\n",
    "    momentumで通年の傾向に従い発電量を割る\n",
    "    '''\n",
    "    output_30['year'] = output_30['datetime'].map(lambda x : x.year)\n",
    "    y_output = output_30.groupby(['year'], as_index=False).sum()\n",
    "    sum_2012 = y_output[\"SOLA0\"+str(target_place)][0]\n",
    "    sum_2013 = y_output[\"SOLA0\"+str(target_place)][1]\n",
    "    sum_2014 = y_output[\"SOLA0\"+str(target_place)][2]\n",
    "    sum_2015 = y_output[\"SOLA0\"+str(target_place)][3]\n",
    "    scaled_2012 = np.array(output_30[output_30['year'] == 2012][\"SOLA0\"+str(target_place)].map(lambda x : x * sum_2015/sum_2012))\n",
    "    scaled_2013 = np.array(output_30[output_30['year'] == 2013][\"SOLA0\"+str(target_place)].map(lambda x : x * sum_2015/sum_2013))\n",
    "    scaled_2014 = np.array(output_30[output_30['year'] == 2014][\"SOLA0\"+str(target_place)].map(lambda x : x * sum_2015/sum_2014))\n",
    "    scaled_2015 = np.array(output_30[output_30['year'] == 2015][\"SOLA0\"+str(target_place)])\n",
    "    tmp = np.r_[scaled_2012, scaled_2013, scaled_2014, scaled_2015]\n",
    "\n",
    "    # 各年の\n",
    "    if momentum:\n",
    "        y_output[\"pre\"] = y_output[\"SOLA0\"+str(target_place)].shift(1)\n",
    "        y_output[\"decline\"] = y_output[\"SOLA0\"+str(target_place)] / y_output[\"pre\"]\n",
    "        tendency= np.array(y_output[\"decline\"].dropna())\n",
    "        scale = 1\n",
    "        for i in tendency:\n",
    "            if i > 1:\n",
    "                i = 1\n",
    "            scale *= i\n",
    "        scale = math.pow(scale, 1.0/3)\n",
    "        tmp = tmp ** scale\n",
    "\n",
    "    output_30[\"SOLA0\"+str(target_place)] = tmp\n",
    "    \n",
    "    return output_30"
   ]
  },
  {
   "cell_type": "code",
   "execution_count": 140,
   "metadata": {
    "collapsed": true
   },
   "outputs": [],
   "source": [
    "def to_zero(prediction):\n",
    "    '''\n",
    "    2012年から2015年の間で一度も発電量がなかった時間帯を0と予測するようにする\n",
    "    '''\n",
    "    mask = np.array([0,0,0,0,0,0,0,0,0,0,1,1,\n",
    "                    1,1,1,1,1,1,1,1,1,1,1,1,\n",
    "                    1,1,1,1,1,1,1,1,1,1,1,1,\n",
    "                    1,1,0,0,0,0,0,0,0,0,0,0])\n",
    "    all_mask = np.array([0,0,0,0,0,0,0,0,0,0,1,1,\n",
    "                        1,1,1,1,1,1,1,1,1,1,1,1,\n",
    "                        1,1,1,1,1,1,1,1,1,1,1,1,\n",
    "                        1,1,0,0,0,0,0,0,0,0,0,0])\n",
    "    length = int(len(prediction)/48)\n",
    "    \n",
    "    for i in range(length-1):\n",
    "        all_mask = np.r_[all_mask, mask]\n",
    "    \n",
    "    return prediction * all_mask"
   ]
  },
  {
   "cell_type": "code",
   "execution_count": 141,
   "metadata": {
    "collapsed": true
   },
   "outputs": [],
   "source": [
    "def to_zero_df(train_prediction):\n",
    "    '''\n",
    "    発電しない時間帯を全て0にする\n",
    "    '''\n",
    "    for column in train_prediction.columns[1:]:\n",
    "        tmp = train_prediction[column]\n",
    "        tmp = np.array(tmp)\n",
    "        tmp = to_zero(tmp)\n",
    "        train_prediction[column] = tmp\n",
    "    return train_prediction"
   ]
  },
  {
   "cell_type": "code",
   "execution_count": 142,
   "metadata": {
    "collapsed": true
   },
   "outputs": [],
   "source": [
    "def minus_to_zero(x):\n",
    "    if x < 0:\n",
    "        return 0\n",
    "    else:\n",
    "        return x"
   ]
  },
  {
   "cell_type": "code",
   "execution_count": 143,
   "metadata": {
    "collapsed": true
   },
   "outputs": [],
   "source": [
    "# 発電量データ\n",
    "all_output_30 = pd.read_csv('data/processed_data/out_put.tsv', delimiter = '\\t')\n",
    "all_output_30['datetime'] = all_output_30['datetime'].map(lambda x : pd.to_datetime(x))"
   ]
  },
  {
   "cell_type": "markdown",
   "metadata": {},
   "source": [
    "### **layer_1の実力をみてみる**"
   ]
  },
  {
   "cell_type": "code",
   "execution_count": 230,
   "metadata": {
    "collapsed": true
   },
   "outputs": [],
   "source": [
    "target_place = 1"
   ]
  },
  {
   "cell_type": "code",
   "execution_count": 231,
   "metadata": {
    "collapsed": true
   },
   "outputs": [],
   "source": [
    "# いろんなモデルの予測値の集合(学習用)\n",
    "train_prediction = pd.read_csv(\"data/layer_1/layer_1_train_SOLA0\"+str(target_place)+\".csv\")\n",
    "# train_prediction = pd.read_csv(\"data/layer_1_2015/layer_1_train_SOLA0\"+str(target_place)+\".csv\")\n",
    "train_prediction['datetime'] = train_prediction['datetime'].map(lambda x : pd.to_datetime(x))\n",
    "\n",
    "# いろんなモデルの予測値の集合(ほんちゃん)\n",
    "test_prediction = pd.read_csv(\"data/layer_1/layer_1_SOLA0\"+str(target_place)+\".csv\")\n",
    "# test_prediction = pd.read_csv(\"data/layer_1_2015/layer_1_SOLA0\"+str(target_place)+\".csv\")\n",
    "test_prediction['datetime'] = test_prediction['datetime'].map(lambda x : pd.to_datetime(x))"
   ]
  },
  {
   "cell_type": "code",
   "execution_count": 232,
   "metadata": {
    "collapsed": true
   },
   "outputs": [],
   "source": [
    "# 発電量が0の時間を0にしておく\n",
    "train_prediction = to_zero_df(train_prediction)\n",
    "test_prediction = to_zero_df(test_prediction)"
   ]
  },
  {
   "cell_type": "code",
   "execution_count": 233,
   "metadata": {
    "collapsed": true
   },
   "outputs": [],
   "source": [
    "s_idx = test_prediction[test_prediction['datetime'] == pd.to_datetime('2016/01/01 00:00')].index[0]\n",
    "e_idx = test_prediction[test_prediction['datetime'] == pd.to_datetime('2017/3/31 23:30')].index[0]\n",
    "predict_data = pd.DataFrame({\"datetime\":test_prediction['datetime'][s_idx:e_idx+1]})\n",
    "predict_data.index = np.arange(len(predict_data))"
   ]
  },
  {
   "cell_type": "code",
   "execution_count": 234,
   "metadata": {},
   "outputs": [
    {
     "data": {
      "text/plain": [
       "Index(['datetime', 'random_forest_1-5folds', 'random_forest_2-5folds',\n",
       "       'random_forest_3-5folds', 'random_forest_4-5folds',\n",
       "       'random_forest_5-5folds'],\n",
       "      dtype='object')"
      ]
     },
     "execution_count": 234,
     "metadata": {},
     "output_type": "execute_result"
    }
   ],
   "source": [
    "test_prediction.columns"
   ]
  },
  {
   "cell_type": "code",
   "execution_count": 235,
   "metadata": {
    "collapsed": true
   },
   "outputs": [],
   "source": [
    "# tmp = test_prediction.drop([\"datetime\"], axis=1)\n",
    "tmp =  test_prediction[['random_forest_1-5folds', 'random_forest_2-5folds',\n",
    "       'random_forest_3-5folds', 'random_forest_4-5folds',\n",
    "       'random_forest_5-5folds']]\n",
    "tmp = tmp.mean(axis = 1)\n",
    "predict_data[\"blending_\"+str(target_place)] = tmp"
   ]
  },
  {
   "cell_type": "code",
   "execution_count": 236,
   "metadata": {
    "collapsed": true
   },
   "outputs": [],
   "source": [
    "target_place = 2"
   ]
  },
  {
   "cell_type": "code",
   "execution_count": 237,
   "metadata": {
    "collapsed": true
   },
   "outputs": [],
   "source": [
    "# いろんなモデルの予測値の集合(学習用)\n",
    "train_prediction = pd.read_csv(\"data/layer_1/layer_1_train_SOLA0\"+str(target_place)+\".csv\")\n",
    "# train_prediction = pd.read_csv(\"data/layer_1_2015/layer_1_train_SOLA0\"+str(target_place)+\".csv\")\n",
    "train_prediction['datetime'] = train_prediction['datetime'].map(lambda x : pd.to_datetime(x))\n",
    "\n",
    "# いろんなモデルの予測値の集合(ほんちゃん)\n",
    "test_prediction = pd.read_csv(\"data/layer_1/layer_1_SOLA0\"+str(target_place)+\".csv\")\n",
    "# test_prediction = pd.read_csv(\"data/layer_1_2015/layer_1_SOLA0\"+str(target_place)+\".csv\")\n",
    "test_prediction['datetime'] = test_prediction['datetime'].map(lambda x : pd.to_datetime(x))"
   ]
  },
  {
   "cell_type": "code",
   "execution_count": 238,
   "metadata": {
    "collapsed": true
   },
   "outputs": [],
   "source": [
    "# 発電量が0の時間を0にしておく\n",
    "train_prediction = to_zero_df(train_prediction)\n",
    "test_prediction = to_zero_df(test_prediction)"
   ]
  },
  {
   "cell_type": "code",
   "execution_count": 239,
   "metadata": {
    "collapsed": true
   },
   "outputs": [],
   "source": [
    "# tmp = test_prediction.drop([\"datetime\"], axis=1)\n",
    "tmp =  test_prediction[['random_forest_1-5folds', 'random_forest_2-5folds',\n",
    "       'random_forest_3-5folds', 'random_forest_4-5folds',\n",
    "       'random_forest_5-5folds']]\n",
    "tmp = tmp.mean(axis = 1)\n",
    "predict_data[\"blending_\"+str(target_place)] = tmp"
   ]
  },
  {
   "cell_type": "code",
   "execution_count": 240,
   "metadata": {
    "collapsed": true
   },
   "outputs": [],
   "source": [
    "target_place = 3"
   ]
  },
  {
   "cell_type": "code",
   "execution_count": 241,
   "metadata": {
    "collapsed": true
   },
   "outputs": [],
   "source": [
    "# いろんなモデルの予測値の集合(学習用)\n",
    "train_prediction = pd.read_csv(\"data/layer_1/layer_1_train_SOLA0\"+str(target_place)+\".csv\")\n",
    "# train_prediction = pd.read_csv(\"data/layer_1_2015/layer_1_train_SOLA0\"+str(target_place)+\".csv\")\n",
    "train_prediction['datetime'] = train_prediction['datetime'].map(lambda x : pd.to_datetime(x))\n",
    "\n",
    "# いろんなモデルの予測値の集合(ほんちゃん)\n",
    "test_prediction = pd.read_csv(\"data/layer_1/layer_1_SOLA0\"+str(target_place)+\".csv\")\n",
    "# test_prediction = pd.read_csv(\"data/layer_1_2015/layer_1_SOLA0\"+str(target_place)+\".csv\")\n",
    "test_prediction['datetime'] = test_prediction['datetime'].map(lambda x : pd.to_datetime(x))"
   ]
  },
  {
   "cell_type": "code",
   "execution_count": 242,
   "metadata": {
    "collapsed": true
   },
   "outputs": [],
   "source": [
    "# 発電量が0の時間を0にしておく\n",
    "train_prediction = to_zero_df(train_prediction)\n",
    "test_prediction = to_zero_df(test_prediction)"
   ]
  },
  {
   "cell_type": "code",
   "execution_count": 243,
   "metadata": {
    "collapsed": true
   },
   "outputs": [],
   "source": [
    "# tmp = test_prediction.drop([\"datetime\"], axis=1)\n",
    "tmp =  test_prediction[['random_forest_1-5folds', 'random_forest_2-5folds',\n",
    "       'random_forest_3-5folds', 'random_forest_4-5folds',\n",
    "       'random_forest_5-5folds']]\n",
    "tmp = tmp.mean(axis = 1)\n",
    "predict_data[\"blending_\"+str(target_place)] = tmp\n",
    "# tmp.to_csv(\"data/layer_1/layer_1_prediction.tsv\", sep=\"\\t\", index=False)"
   ]
  },
  {
   "cell_type": "code",
   "execution_count": 244,
   "metadata": {
    "collapsed": true
   },
   "outputs": [],
   "source": [
    "# 発電しない時間帯を0にする\n",
    "predict_data = to_zero_df(predict_data)\n",
    "\n",
    "predict_data[\"blending_1\"] = predict_data[\"blending_1\"].map(lambda x: minus_to_zero(x))\n",
    "predict_data[\"blending_2\"] = predict_data[\"blending_2\"].map(lambda x: minus_to_zero(x))\n",
    "predict_data[\"blending_3\"] = predict_data[\"blending_3\"].map(lambda x: minus_to_zero(x))"
   ]
  },
  {
   "cell_type": "code",
   "execution_count": 246,
   "metadata": {
    "collapsed": true
   },
   "outputs": [],
   "source": [
    "predict_data.to_csv(\"data/layer_1/layer_1_prediction.tsv\", sep=\"\\t\", index=False)\n",
    "# predict_data.to_csv(\"data/layer_1_2015/layer_1_prediction.tsv\", sep=\"\\t\", index=False)"
   ]
  },
  {
   "cell_type": "markdown",
   "metadata": {},
   "source": [
    "### **浮島発電所について**"
   ]
  },
  {
   "cell_type": "code",
   "execution_count": 161,
   "metadata": {
    "collapsed": true
   },
   "outputs": [],
   "source": [
    "target_place = 1"
   ]
  },
  {
   "cell_type": "code",
   "execution_count": 162,
   "metadata": {},
   "outputs": [
    {
     "name": "stderr",
     "output_type": "stream",
     "text": [
      "/Users/kyojin/anaconda/envs/tf/lib/python3.5/site-packages/ipykernel_launcher.py:6: SettingWithCopyWarning: \n",
      "A value is trying to be set on a copy of a slice from a DataFrame.\n",
      "Try using .loc[row_indexer,col_indexer] = value instead\n",
      "\n",
      "See the caveats in the documentation: http://pandas.pydata.org/pandas-docs/stable/indexing.html#indexing-view-versus-copy\n",
      "  \n",
      "/Users/kyojin/anaconda/envs/tf/lib/python3.5/site-packages/ipykernel_launcher.py:31: SettingWithCopyWarning: \n",
      "A value is trying to be set on a copy of a slice from a DataFrame.\n",
      "Try using .loc[row_indexer,col_indexer] = value instead\n",
      "\n",
      "See the caveats in the documentation: http://pandas.pydata.org/pandas-docs/stable/indexing.html#indexing-view-versus-copy\n"
     ]
    }
   ],
   "source": [
    "# 発電量データ\n",
    "output_30 = all_output_30[['datetime', 'SOLA0'+str(target_place)]]\n",
    "output_30 = scaling_output(output_30)"
   ]
  },
  {
   "cell_type": "code",
   "execution_count": 164,
   "metadata": {
    "collapsed": true
   },
   "outputs": [],
   "source": [
    "# いろんなモデルの予測値の集合(学習用)\n",
    "# train_prediction = pd.read_csv(\"data/layer_1/layer_1_train_SOLA0\"+str(target_place)+\".csv\")\n",
    "train_prediction = pd.read_csv(\"data/layer_1_2015/layer_1_train_SOLA0\"+str(target_place)+\".csv\")\n",
    "train_prediction['datetime'] = train_prediction['datetime'].map(lambda x : pd.to_datetime(x))\n",
    "\n",
    "# いろんなモデルの予測値の集合(ほんちゃん)\n",
    "# test_prediction = pd.read_csv(\"data/layer_1/layer_1_SOLA0\"+str(target_place)+\".csv\")\n",
    "test_prediction = pd.read_csv(\"data/layer_1_2015/layer_1_SOLA0\"+str(target_place)+\".csv\")\n",
    "test_prediction['datetime'] = test_prediction['datetime'].map(lambda x : pd.to_datetime(x))"
   ]
  },
  {
   "cell_type": "code",
   "execution_count": 165,
   "metadata": {
    "collapsed": true
   },
   "outputs": [],
   "source": [
    "# 月, 時間の情報を加える\n",
    "train_prediction = add_time_dummy(train_prediction)\n",
    "test_prediction = add_time_dummy(test_prediction)"
   ]
  },
  {
   "cell_type": "code",
   "execution_count": 166,
   "metadata": {
    "scrolled": false
   },
   "outputs": [
    {
     "data": {
      "text/plain": [
       "(49, 49)"
      ]
     },
     "execution_count": 166,
     "metadata": {},
     "output_type": "execute_result"
    }
   ],
   "source": [
    "len(train_prediction.columns), len(test_prediction.columns)"
   ]
  },
  {
   "cell_type": "code",
   "execution_count": 167,
   "metadata": {
    "collapsed": true
   },
   "outputs": [],
   "source": [
    "t_s_datetime = train_prediction['datetime'][0]\n",
    "t_e_datetime = train_prediction['datetime'][len(train_prediction)-1]\n",
    "train_y_s_idx = output_30[output_30['datetime'] == t_s_datetime].index[0]\n",
    "train_y_e_idx = output_30[output_30['datetime'] == t_e_datetime].index[0]\n",
    "\n",
    "X = np.array(train_prediction.drop([\"datetime\"], axis=1))\n",
    "all_X = np.array(train_prediction.drop([\"datetime\"], axis=1))\n",
    "Y = output_30[\"SOLA0\"+str(target_place)][train_y_s_idx:train_y_e_idx+1]\n",
    "X_test = np.array(test_prediction.drop([\"datetime\"], axis=1))"
   ]
  },
  {
   "cell_type": "code",
   "execution_count": 168,
   "metadata": {
    "collapsed": true
   },
   "outputs": [],
   "source": [
    "X = np.array(X)\n",
    "Y = np.array(Y)\n",
    "X, Y = drop_nan(X, Y)"
   ]
  },
  {
   "cell_type": "code",
   "execution_count": 169,
   "metadata": {
    "collapsed": true
   },
   "outputs": [],
   "source": [
    "# 最適な深さを決める\n",
    "\n",
    "X_train, X_val, Y_train, Y_val = train_test_split(X, Y, test_size=int((X.shape[0] * 0.3)))\n",
    "\n",
    "train_maes = []\n",
    "val_maes = []\n",
    "n = 15\n",
    "n_start = 2\n",
    "for i in range(n):\n",
    "    rf = RandomForestRegressor(n_estimators = 10, max_depth = i+n_start)\n",
    "    rf.fit(X_train, Y_train)\n",
    "    Y_train_pred = rf.predict(X_train)\n",
    "    Y_val_pred = rf.predict(X_val)\n",
    "    train_maes.append(np.abs(Y_train_pred - Y_train).mean())\n",
    "    val_maes.append(np.abs(Y_val_pred - Y_val).mean())\n",
    "#     print(\"train_mae : \", np.abs(Y_train_pred - Y_train).mean())\n",
    "#     print(\"val_mae : \", np.abs(Y_val_pred - Y_val).mean())"
   ]
  },
  {
   "cell_type": "code",
   "execution_count": 170,
   "metadata": {
    "scrolled": false
   },
   "outputs": [
    {
     "data": {
      "text/plain": [
       "<matplotlib.legend.Legend at 0x1175975f8>"
      ]
     },
     "execution_count": 170,
     "metadata": {},
     "output_type": "execute_result"
    },
    {
     "data": {
      "image/png": "[encoded data removed]",
      "text/plain": [
       "<matplotlib.figure.Figure at 0x11756cb70>"
      ]
     },
     "metadata": {},
     "output_type": "display_data"
    }
   ],
   "source": [
    "plt.plot(train_maes[:], label=\"train_maes\")\n",
    "plt.plot(val_maes[:], label=\"validation_maes\")\n",
    "plt.xticks(np.arange(n), np.arange(n)+n_start)\n",
    "plt.xlabel(\"max_depth\")\n",
    "plt.title(\"decide max_depth\")\n",
    "plt.legend()"
   ]
  },
  {
   "cell_type": "code",
   "execution_count": 171,
   "metadata": {
    "collapsed": true
   },
   "outputs": [],
   "source": [
    "# 交差検証\n",
    "t_maes = []\n",
    "v_maes = []\n",
    "n_splits = 5\n",
    "i = 0\n",
    "tmp = pd.DataFrame()\n",
    "for train_idx, test_idx in KFold(n_splits=n_splits).split(X):\n",
    "    X_train = X[train_idx]\n",
    "    Y_train = Y[train_idx]\n",
    "    X_val = X[test_idx]\n",
    "    Y_val = Y[test_idx]\n",
    "    \n",
    "    rf = RandomForestRegressor(n_estimators = 5, max_depth = 12)\n",
    "    rf.fit(X_train, Y_train)\n",
    "\n",
    "    Y_train_pred = rf.predict(X_train)\n",
    "    Y_val_pred = rf.predict(X_val)\n",
    "    \n",
    "    i+=1\n",
    "    tmp[i] = rf.predict(X_test)\n",
    "    \n",
    "    t_maes.append(np.abs(Y_train_pred - Y_train).mean())\n",
    "    v_maes.append( np.abs(Y_val_pred - Y_val).mean())"
   ]
  },
  {
   "cell_type": "code",
   "execution_count": 172,
   "metadata": {
    "scrolled": true
   },
   "outputs": [
    {
     "data": {
      "image/png": "[encoded data removed]",
      "text/plain": [
       "<matplotlib.figure.Figure at 0x115f2bf28>"
      ]
     },
     "metadata": {},
     "output_type": "display_data"
    }
   ],
   "source": [
    "plt.plot(t_maes, 's', label=\"train_maes\")\n",
    "plt.plot(v_maes, 'd', label=\"validation_maes\")\n",
    "plt.legend()\n",
    "plt.title(\"each maes of \"+str(n_splits)+\" folds at target_place_\"+str(target_place))\n",
    "plt.xticks(np.arange(n_splits), np.arange(n_splits)+1)\n",
    "plt.show()"
   ]
  },
  {
   "cell_type": "code",
   "execution_count": 173,
   "metadata": {
    "collapsed": true
   },
   "outputs": [],
   "source": [
    "s_idx = test_prediction[test_prediction['datetime'] == pd.to_datetime('2016/01/01 00:00')].index[0]\n",
    "e_idx = test_prediction[test_prediction['datetime'] == pd.to_datetime('2017/3/31 23:30')].index[0]\n",
    "predict_data = pd.DataFrame({\"datetime\":test_prediction['datetime'][s_idx:e_idx+1]})\n",
    "predict_data.index = np.arange(len(predict_data))"
   ]
  },
  {
   "cell_type": "code",
   "execution_count": 174,
   "metadata": {
    "collapsed": true
   },
   "outputs": [],
   "source": [
    "# 2016/01/01 00:00 ~ 2017/3/31 23:50の予測データを書き出す\n",
    "predict_data[\"blending_\"+str(target_place)] = np.array(tmp.mean(axis=1))"
   ]
  },
  {
   "cell_type": "markdown",
   "metadata": {},
   "source": [
    "### **扇島発電所について**"
   ]
  },
  {
   "cell_type": "code",
   "execution_count": 175,
   "metadata": {
    "collapsed": true
   },
   "outputs": [],
   "source": [
    "target_place = 2"
   ]
  },
  {
   "cell_type": "code",
   "execution_count": 176,
   "metadata": {},
   "outputs": [
    {
     "name": "stderr",
     "output_type": "stream",
     "text": [
      "/Users/kyojin/anaconda/envs/tf/lib/python3.5/site-packages/ipykernel_launcher.py:6: SettingWithCopyWarning: \n",
      "A value is trying to be set on a copy of a slice from a DataFrame.\n",
      "Try using .loc[row_indexer,col_indexer] = value instead\n",
      "\n",
      "See the caveats in the documentation: http://pandas.pydata.org/pandas-docs/stable/indexing.html#indexing-view-versus-copy\n",
      "  \n",
      "/Users/kyojin/anaconda/envs/tf/lib/python3.5/site-packages/ipykernel_launcher.py:31: SettingWithCopyWarning: \n",
      "A value is trying to be set on a copy of a slice from a DataFrame.\n",
      "Try using .loc[row_indexer,col_indexer] = value instead\n",
      "\n",
      "See the caveats in the documentation: http://pandas.pydata.org/pandas-docs/stable/indexing.html#indexing-view-versus-copy\n"
     ]
    }
   ],
   "source": [
    "# 発電量データ\n",
    "output_30 = all_output_30[['datetime', 'SOLA0'+str(target_place)]]\n",
    "output_30 = scaling_output(output_30)"
   ]
  },
  {
   "cell_type": "code",
   "execution_count": 177,
   "metadata": {
    "collapsed": true
   },
   "outputs": [],
   "source": [
    "# いろんなモデルの予測値の集合(学習用)\n",
    "# train_prediction = pd.read_csv(\"data/layer_1/layer_1_train_SOLA0\"+str(target_place)+\".csv\")\n",
    "train_prediction = pd.read_csv(\"data/layer_1_2015/layer_1_train_SOLA0\"+str(target_place)+\".csv\")\n",
    "train_prediction['datetime'] = train_prediction['datetime'].map(lambda x : pd.to_datetime(x))\n",
    "\n",
    "# いろんなモデルの予測値の集合(ほんちゃん)\n",
    "# test_prediction = pd.read_csv(\"data/layer_1/layer_1_SOLA0\"+str(target_place)+\".csv\")\n",
    "test_prediction = pd.read_csv(\"data/layer_1_2015/layer_1_SOLA0\"+str(target_place)+\".csv\")\n",
    "test_prediction['datetime'] = test_prediction['datetime'].map(lambda x : pd.to_datetime(x))"
   ]
  },
  {
   "cell_type": "code",
   "execution_count": 178,
   "metadata": {
    "collapsed": true
   },
   "outputs": [],
   "source": [
    "# 発電量が0の時間を0にしておく\n",
    "train_prediction = to_zero_df(train_prediction)\n",
    "test_prediction = to_zero_df(test_prediction)"
   ]
  },
  {
   "cell_type": "code",
   "execution_count": 179,
   "metadata": {
    "collapsed": true
   },
   "outputs": [],
   "source": [
    "# 月, 時間の情報を加える\n",
    "train_prediction = add_time_dummy(train_prediction)\n",
    "test_prediction = add_time_dummy(test_prediction)"
   ]
  },
  {
   "cell_type": "code",
   "execution_count": 180,
   "metadata": {
    "scrolled": false
   },
   "outputs": [
    {
     "data": {
      "text/plain": [
       "(49, 49)"
      ]
     },
     "execution_count": 180,
     "metadata": {},
     "output_type": "execute_result"
    }
   ],
   "source": [
    "len(train_prediction.columns), len(test_prediction.columns)"
   ]
  },
  {
   "cell_type": "code",
   "execution_count": 181,
   "metadata": {
    "collapsed": true
   },
   "outputs": [],
   "source": [
    "t_s_datetime = train_prediction['datetime'][0]\n",
    "t_e_datetime = train_prediction['datetime'][len(train_prediction)-1]\n",
    "train_y_s_idx = output_30[output_30['datetime'] == t_s_datetime].index[0]\n",
    "train_y_e_idx = output_30[output_30['datetime'] == t_e_datetime].index[0]\n",
    "\n",
    "X = np.array(train_prediction.drop([\"datetime\"], axis=1))\n",
    "all_X = np.array(train_prediction.drop([\"datetime\"], axis=1))\n",
    "Y = output_30[\"SOLA0\"+str(target_place)][train_y_s_idx:train_y_e_idx+1]\n",
    "X_test = np.array(test_prediction.drop([\"datetime\"], axis=1))"
   ]
  },
  {
   "cell_type": "code",
   "execution_count": 182,
   "metadata": {
    "collapsed": true
   },
   "outputs": [],
   "source": [
    "X = np.array(X)\n",
    "Y = np.array(Y)\n",
    "X, Y = drop_nan(X, Y)"
   ]
  },
  {
   "cell_type": "code",
   "execution_count": 183,
   "metadata": {
    "collapsed": true
   },
   "outputs": [],
   "source": [
    "# 最適な深さを決める\n",
    "\n",
    "X_train, X_val, Y_train, Y_val = train_test_split(X, Y, test_size=int((X.shape[0] * 0.3)))\n",
    "\n",
    "train_maes = []\n",
    "val_maes = []\n",
    "n = 15\n",
    "n_start = 2\n",
    "for i in range(n):\n",
    "    rf = RandomForestRegressor(n_estimators = 10, max_depth = i+n_start)\n",
    "    rf.fit(X_train, Y_train)\n",
    "    Y_train_pred = rf.predict(X_train)\n",
    "    Y_val_pred = rf.predict(X_val)\n",
    "    train_maes.append(np.abs(Y_train_pred - Y_train).mean())\n",
    "    val_maes.append(np.abs(Y_val_pred - Y_val).mean())\n",
    "#     print(\"train_mae : \", np.abs(Y_train_pred - Y_train).mean())\n",
    "#     print(\"val_mae : \", np.abs(Y_val_pred - Y_val).mean())"
   ]
  },
  {
   "cell_type": "code",
   "execution_count": 184,
   "metadata": {
    "scrolled": false
   },
   "outputs": [
    {
     "data": {
      "text/plain": [
       "<matplotlib.legend.Legend at 0x117119a90>"
      ]
     },
     "execution_count": 184,
     "metadata": {},
     "output_type": "execute_result"
    },
    {
     "data": {
      "image/png": "[encoded data removed]",
      "text/plain": [
       "<matplotlib.figure.Figure at 0x116c7bb70>"
      ]
     },
     "metadata": {},
     "output_type": "display_data"
    }
   ],
   "source": [
    "plt.plot(train_maes[:], label=\"train_maes\")\n",
    "plt.plot(val_maes[:], label=\"validation_maes\")\n",
    "plt.xticks(np.arange(n), np.arange(n)+n_start)\n",
    "plt.xlabel(\"max_depth\")\n",
    "plt.title(\"decide max_depth\")\n",
    "plt.legend()"
   ]
  },
  {
   "cell_type": "code",
   "execution_count": 185,
   "metadata": {
    "collapsed": true
   },
   "outputs": [],
   "source": [
    "# 交差検証\n",
    "t_maes = []\n",
    "v_maes = []\n",
    "n_splits = 5\n",
    "i = 0\n",
    "tmp = pd.DataFrame()\n",
    "for train_idx, test_idx in KFold(n_splits=n_splits).split(X):\n",
    "    X_train = X[train_idx]\n",
    "    Y_train = Y[train_idx]\n",
    "    X_val = X[test_idx]\n",
    "    Y_val = Y[test_idx]\n",
    "    \n",
    "    rf = RandomForestRegressor(n_estimators = 10, max_depth = 5)\n",
    "    rf.fit(X_train, Y_train)\n",
    "\n",
    "    Y_train_pred = rf.predict(X_train)\n",
    "    Y_val_pred = rf.predict(X_val)\n",
    "    \n",
    "    i+=1\n",
    "    tmp[i] = rf.predict(X_test)\n",
    "    \n",
    "    t_maes.append(np.abs(Y_train_pred - Y_train).mean())\n",
    "    v_maes.append( np.abs(Y_val_pred - Y_val).mean())"
   ]
  },
  {
   "cell_type": "code",
   "execution_count": 186,
   "metadata": {},
   "outputs": [
    {
     "data": {
      "image/png": "[encoded data removed]",
      "text/plain": [
       "<matplotlib.figure.Figure at 0x1163cb2e8>"
      ]
     },
     "metadata": {},
     "output_type": "display_data"
    }
   ],
   "source": [
    "plt.plot(t_maes, 's', label=\"train_maes\")\n",
    "plt.plot(v_maes, 'd', label=\"validation_maes\")\n",
    "plt.legend()\n",
    "plt.title(\"each maes of \"+str(n_splits)+\" folds at target_place_\"+str(target_place))\n",
    "plt.xticks(np.arange(n_splits), np.arange(n_splits)+1)\n",
    "plt.show()"
   ]
  },
  {
   "cell_type": "code",
   "execution_count": 187,
   "metadata": {
    "collapsed": true
   },
   "outputs": [],
   "source": [
    "# 2016/01/01 00:00 ~ 2017/3/31 23:50の予測データを書き出す\n",
    "predict_data[\"blending_\"+str(target_place)] = np.array(tmp.mean(axis=1))"
   ]
  },
  {
   "cell_type": "markdown",
   "metadata": {},
   "source": [
    "### **米倉山について**"
   ]
  },
  {
   "cell_type": "code",
   "execution_count": 188,
   "metadata": {
    "collapsed": true
   },
   "outputs": [],
   "source": [
    "target_place = 3"
   ]
  },
  {
   "cell_type": "code",
   "execution_count": 189,
   "metadata": {},
   "outputs": [
    {
     "name": "stderr",
     "output_type": "stream",
     "text": [
      "/Users/kyojin/anaconda/envs/tf/lib/python3.5/site-packages/ipykernel_launcher.py:6: SettingWithCopyWarning: \n",
      "A value is trying to be set on a copy of a slice from a DataFrame.\n",
      "Try using .loc[row_indexer,col_indexer] = value instead\n",
      "\n",
      "See the caveats in the documentation: http://pandas.pydata.org/pandas-docs/stable/indexing.html#indexing-view-versus-copy\n",
      "  \n",
      "/Users/kyojin/anaconda/envs/tf/lib/python3.5/site-packages/ipykernel_launcher.py:31: SettingWithCopyWarning: \n",
      "A value is trying to be set on a copy of a slice from a DataFrame.\n",
      "Try using .loc[row_indexer,col_indexer] = value instead\n",
      "\n",
      "See the caveats in the documentation: http://pandas.pydata.org/pandas-docs/stable/indexing.html#indexing-view-versus-copy\n"
     ]
    }
   ],
   "source": [
    "# 発電量データ\n",
    "output_30 = all_output_30[['datetime', 'SOLA0'+str(target_place)]]\n",
    "output_30 = scaling_output(output_30)"
   ]
  },
  {
   "cell_type": "code",
   "execution_count": 200,
   "metadata": {
    "collapsed": true
   },
   "outputs": [],
   "source": [
    "# いろんなモデルの予測値の集合(学習用)\n",
    "# train_prediction = pd.read_csv(\"data/layer_1/layer_1_train_SOLA0\"+str(target_place)+\".csv\")\n",
    "train_prediction = pd.read_csv(\"data/layer_1_2015/layer_1_train_SOLA0\"+str(target_place)+\".csv\")\n",
    "train_prediction['datetime'] = train_prediction['datetime'].map(lambda x : pd.to_datetime(x))\n",
    "\n",
    "# いろんなモデルの予測値の集合(ほんちゃん)\n",
    "# test_prediction = pd.read_csv(\"data/layer_1/layer_1_SOLA0\"+str(target_place)+\".csv\")\n",
    "test_prediction = pd.read_csv(\"data/layer_1_2015/layer_1_SOLA0\"+str(target_place)+\".csv\")\n",
    "test_prediction['datetime'] = test_prediction['datetime'].map(lambda x : pd.to_datetime(x))"
   ]
  },
  {
   "cell_type": "code",
   "execution_count": 201,
   "metadata": {
    "collapsed": true
   },
   "outputs": [],
   "source": [
    "# 発電量が0の時間を0にしておく\n",
    "train_prediction = to_zero_df(train_prediction)\n",
    "test_prediction = to_zero_df(test_prediction)"
   ]
  },
  {
   "cell_type": "code",
   "execution_count": 202,
   "metadata": {
    "collapsed": true
   },
   "outputs": [],
   "source": [
    "# 月, 時間の情報を加える\n",
    "# train_prediction = add_time_dummy(train_prediction)\n",
    "# test_prediction = add_time_dummy(test_prediction)"
   ]
  },
  {
   "cell_type": "code",
   "execution_count": 203,
   "metadata": {
    "scrolled": false
   },
   "outputs": [
    {
     "data": {
      "text/plain": [
       "(11, 11)"
      ]
     },
     "execution_count": 203,
     "metadata": {},
     "output_type": "execute_result"
    }
   ],
   "source": [
    "len(train_prediction.columns), len(test_prediction.columns)"
   ]
  },
  {
   "cell_type": "code",
   "execution_count": 204,
   "metadata": {
    "collapsed": true
   },
   "outputs": [],
   "source": [
    "t_s_datetime = train_prediction['datetime'][0]\n",
    "t_e_datetime = train_prediction['datetime'][len(train_prediction)-1]\n",
    "train_y_s_idx = output_30[output_30['datetime'] == t_s_datetime].index[0]\n",
    "train_y_e_idx = output_30[output_30['datetime'] == t_e_datetime].index[0]\n",
    "\n",
    "X = np.array(train_prediction.drop([\"datetime\"], axis=1))\n",
    "all_X = np.array(train_prediction.drop([\"datetime\"], axis=1))\n",
    "Y = output_30[\"SOLA0\"+str(target_place)][train_y_s_idx:train_y_e_idx+1]\n",
    "X_test = np.array(test_prediction.drop([\"datetime\"], axis=1))"
   ]
  },
  {
   "cell_type": "code",
   "execution_count": 205,
   "metadata": {
    "collapsed": true
   },
   "outputs": [],
   "source": [
    "X = np.array(X)\n",
    "Y = np.array(Y)\n",
    "X, Y = drop_nan(X, Y)"
   ]
  },
  {
   "cell_type": "code",
   "execution_count": 206,
   "metadata": {
    "collapsed": true
   },
   "outputs": [],
   "source": [
    "# 最適な深さを決める\n",
    "\n",
    "X_train, X_val, Y_train, Y_val = train_test_split(X, Y, test_size=int((X.shape[0] * 0.3)))\n",
    "\n",
    "train_maes = []\n",
    "val_maes = []\n",
    "n = 15\n",
    "n_start = 2\n",
    "for i in range(n):\n",
    "    rf = RandomForestRegressor(n_estimators = 10, max_depth = i+n_start)\n",
    "    rf.fit(X_train, Y_train)\n",
    "    Y_train_pred = rf.predict(X_train)\n",
    "    Y_val_pred = rf.predict(X_val)\n",
    "    train_maes.append(np.abs(Y_train_pred - Y_train).mean())\n",
    "    val_maes.append(np.abs(Y_val_pred - Y_val).mean())\n",
    "#     print(\"train_mae : \", np.abs(Y_train_pred - Y_train).mean())\n",
    "#     print(\"val_mae : \", np.abs(Y_val_pred - Y_val).mean())"
   ]
  },
  {
   "cell_type": "code",
   "execution_count": 207,
   "metadata": {
    "scrolled": false
   },
   "outputs": [
    {
     "data": {
      "text/plain": [
       "<matplotlib.legend.Legend at 0x1151a4b00>"
      ]
     },
     "execution_count": 207,
     "metadata": {},
     "output_type": "execute_result"
    },
    {
     "data": {
      "image/png": "[encoded data removed]",
      "text/plain": [
       "<matplotlib.figure.Figure at 0x1119bb0b8>"
      ]
     },
     "metadata": {},
     "output_type": "display_data"
    }
   ],
   "source": [
    "plt.plot(train_maes[:], label=\"train_maes\")\n",
    "plt.plot(val_maes[:], label=\"validation_maes\")\n",
    "plt.xticks(np.arange(n), np.arange(n)+n_start)\n",
    "plt.xlabel(\"max_depth\")\n",
    "plt.title(\"decide max_depth\")\n",
    "plt.legend()"
   ]
  },
  {
   "cell_type": "code",
   "execution_count": 208,
   "metadata": {},
   "outputs": [],
   "source": [
    "# 交差検証\n",
    "t_maes = []\n",
    "v_maes = []\n",
    "n_splits = 5\n",
    "i = 0\n",
    "tmp = pd.DataFrame()\n",
    "for train_idx, test_idx in KFold(n_splits=n_splits).split(X):\n",
    "    X_train = X[train_idx]\n",
    "    Y_train = Y[train_idx]\n",
    "    X_val = X[test_idx]\n",
    "    Y_val = Y[test_idx]\n",
    "    \n",
    "    rf = RandomForestRegressor(n_estimators = 10, max_depth = 5)\n",
    "    rf.fit(X_train, Y_train)\n",
    "\n",
    "    Y_train_pred = rf.predict(X_train)\n",
    "    Y_val_pred = rf.predict(X_val)\n",
    "    \n",
    "    i+=1\n",
    "    tmp[i] = rf.predict(X_test)\n",
    "    \n",
    "    t_maes.append(np.abs(Y_train_pred - Y_train).mean())\n",
    "    v_maes.append( np.abs(Y_val_pred - Y_val).mean())"
   ]
  },
  {
   "cell_type": "code",
   "execution_count": 209,
   "metadata": {},
   "outputs": [
    {
     "data": {
      "image/png": "[encoded data removed]",
      "text/plain": [
       "<matplotlib.figure.Figure at 0x115797eb8>"
      ]
     },
     "metadata": {},
     "output_type": "display_data"
    }
   ],
   "source": [
    "plt.plot(t_maes, 's', label=\"train_maes\")\n",
    "plt.plot(v_maes, 'd', label=\"validation_maes\")\n",
    "plt.legend()\n",
    "plt.title(\"each maes of \"+str(n_splits)+\" folds at target_place_\"+str(target_place))\n",
    "plt.xticks(np.arange(n_splits), np.arange(n_splits)+1)\n",
    "plt.show()"
   ]
  },
  {
   "cell_type": "code",
   "execution_count": 210,
   "metadata": {
    "collapsed": true
   },
   "outputs": [],
   "source": [
    "# 2016/01/01 00:00 ~ 2017/3/31 23:50の予測データを書き出す\n",
    "predict_data[\"blending_\"+str(target_place)] = np.array(tmp.mean(axis=1))"
   ]
  },
  {
   "cell_type": "code",
   "execution_count": 211,
   "metadata": {},
   "outputs": [
    {
     "data": {
      "text/html": [
       "<div>\n",
       "<style>\n",
       "    .dataframe thead tr:only-child th {\n",
       "        text-align: right;\n",
       "    }\n",
       "\n",
       "    .dataframe thead th {\n",
       "        text-align: left;\n",
       "    }\n",
       "\n",
       "    .dataframe tbody tr th {\n",
       "        vertical-align: top;\n",
       "    }\n",
       "</style>\n",
       "<table border=\"1\" class=\"dataframe\">\n",
       "  <thead>\n",
       "    <tr style=\"text-align: right;\">\n",
       "      <th></th>\n",
       "      <th>datetime</th>\n",
       "      <th>blending_1</th>\n",
       "      <th>blending_2</th>\n",
       "      <th>blending_3</th>\n",
       "    </tr>\n",
       "  </thead>\n",
       "  <tbody>\n",
       "    <tr>\n",
       "      <th>0</th>\n",
       "      <td>2016-01-01 00:00:00</td>\n",
       "      <td>0.000439</td>\n",
       "      <td>0.471437</td>\n",
       "      <td>0.470664</td>\n",
       "    </tr>\n",
       "    <tr>\n",
       "      <th>1</th>\n",
       "      <td>2016-01-01 00:30:00</td>\n",
       "      <td>0.000439</td>\n",
       "      <td>0.471437</td>\n",
       "      <td>0.470664</td>\n",
       "    </tr>\n",
       "    <tr>\n",
       "      <th>2</th>\n",
       "      <td>2016-01-01 01:00:00</td>\n",
       "      <td>0.000439</td>\n",
       "      <td>0.471437</td>\n",
       "      <td>0.470664</td>\n",
       "    </tr>\n",
       "    <tr>\n",
       "      <th>3</th>\n",
       "      <td>2016-01-01 01:30:00</td>\n",
       "      <td>0.000439</td>\n",
       "      <td>0.471437</td>\n",
       "      <td>0.470664</td>\n",
       "    </tr>\n",
       "    <tr>\n",
       "      <th>4</th>\n",
       "      <td>2016-01-01 02:00:00</td>\n",
       "      <td>0.000439</td>\n",
       "      <td>0.471437</td>\n",
       "      <td>0.470664</td>\n",
       "    </tr>\n",
       "    <tr>\n",
       "      <th>5</th>\n",
       "      <td>2016-01-01 02:30:00</td>\n",
       "      <td>0.000439</td>\n",
       "      <td>0.471437</td>\n",
       "      <td>0.470664</td>\n",
       "    </tr>\n",
       "    <tr>\n",
       "      <th>6</th>\n",
       "      <td>2016-01-01 03:00:00</td>\n",
       "      <td>0.000439</td>\n",
       "      <td>0.471437</td>\n",
       "      <td>0.470664</td>\n",
       "    </tr>\n",
       "    <tr>\n",
       "      <th>7</th>\n",
       "      <td>2016-01-01 03:30:00</td>\n",
       "      <td>0.000439</td>\n",
       "      <td>0.471437</td>\n",
       "      <td>0.470664</td>\n",
       "    </tr>\n",
       "    <tr>\n",
       "      <th>8</th>\n",
       "      <td>2016-01-01 04:00:00</td>\n",
       "      <td>0.009517</td>\n",
       "      <td>0.471437</td>\n",
       "      <td>0.470664</td>\n",
       "    </tr>\n",
       "    <tr>\n",
       "      <th>9</th>\n",
       "      <td>2016-01-01 04:30:00</td>\n",
       "      <td>0.009517</td>\n",
       "      <td>0.471437</td>\n",
       "      <td>0.470664</td>\n",
       "    </tr>\n",
       "    <tr>\n",
       "      <th>10</th>\n",
       "      <td>2016-01-01 05:00:00</td>\n",
       "      <td>0.016036</td>\n",
       "      <td>0.810483</td>\n",
       "      <td>0.470664</td>\n",
       "    </tr>\n",
       "    <tr>\n",
       "      <th>11</th>\n",
       "      <td>2016-01-01 05:30:00</td>\n",
       "      <td>0.000439</td>\n",
       "      <td>0.471437</td>\n",
       "      <td>0.470664</td>\n",
       "    </tr>\n",
       "    <tr>\n",
       "      <th>12</th>\n",
       "      <td>2016-01-01 06:00:00</td>\n",
       "      <td>0.000693</td>\n",
       "      <td>0.810483</td>\n",
       "      <td>1.381672</td>\n",
       "    </tr>\n",
       "    <tr>\n",
       "      <th>13</th>\n",
       "      <td>2016-01-01 06:30:00</td>\n",
       "      <td>1.871210</td>\n",
       "      <td>4.147465</td>\n",
       "      <td>38.364645</td>\n",
       "    </tr>\n",
       "    <tr>\n",
       "      <th>14</th>\n",
       "      <td>2016-01-01 07:00:00</td>\n",
       "      <td>48.395165</td>\n",
       "      <td>140.305218</td>\n",
       "      <td>165.403178</td>\n",
       "    </tr>\n",
       "    <tr>\n",
       "      <th>15</th>\n",
       "      <td>2016-01-01 07:30:00</td>\n",
       "      <td>122.527801</td>\n",
       "      <td>464.082568</td>\n",
       "      <td>439.227946</td>\n",
       "    </tr>\n",
       "    <tr>\n",
       "      <th>16</th>\n",
       "      <td>2016-01-01 08:00:00</td>\n",
       "      <td>635.461384</td>\n",
       "      <td>944.455106</td>\n",
       "      <td>1099.248674</td>\n",
       "    </tr>\n",
       "    <tr>\n",
       "      <th>17</th>\n",
       "      <td>2016-01-01 08:30:00</td>\n",
       "      <td>1121.065937</td>\n",
       "      <td>1448.751774</td>\n",
       "      <td>1646.286849</td>\n",
       "    </tr>\n",
       "    <tr>\n",
       "      <th>18</th>\n",
       "      <td>2016-01-01 09:00:00</td>\n",
       "      <td>1351.439916</td>\n",
       "      <td>2247.332204</td>\n",
       "      <td>1878.866500</td>\n",
       "    </tr>\n",
       "    <tr>\n",
       "      <th>19</th>\n",
       "      <td>2016-01-01 09:30:00</td>\n",
       "      <td>1631.689624</td>\n",
       "      <td>2832.499887</td>\n",
       "      <td>2425.744901</td>\n",
       "    </tr>\n",
       "    <tr>\n",
       "      <th>20</th>\n",
       "      <td>2016-01-01 10:00:00</td>\n",
       "      <td>1966.027484</td>\n",
       "      <td>3083.120420</td>\n",
       "      <td>2559.105742</td>\n",
       "    </tr>\n",
       "    <tr>\n",
       "      <th>21</th>\n",
       "      <td>2016-01-01 10:30:00</td>\n",
       "      <td>1747.792434</td>\n",
       "      <td>3568.927253</td>\n",
       "      <td>2275.428388</td>\n",
       "    </tr>\n",
       "    <tr>\n",
       "      <th>22</th>\n",
       "      <td>2016-01-01 11:00:00</td>\n",
       "      <td>2341.053891</td>\n",
       "      <td>3570.571104</td>\n",
       "      <td>3116.680514</td>\n",
       "    </tr>\n",
       "    <tr>\n",
       "      <th>23</th>\n",
       "      <td>2016-01-01 11:30:00</td>\n",
       "      <td>2305.231711</td>\n",
       "      <td>3551.878457</td>\n",
       "      <td>3181.766084</td>\n",
       "    </tr>\n",
       "    <tr>\n",
       "      <th>24</th>\n",
       "      <td>2016-01-01 12:00:00</td>\n",
       "      <td>2357.594416</td>\n",
       "      <td>3551.878457</td>\n",
       "      <td>3000.092643</td>\n",
       "    </tr>\n",
       "    <tr>\n",
       "      <th>25</th>\n",
       "      <td>2016-01-01 12:30:00</td>\n",
       "      <td>2080.655105</td>\n",
       "      <td>3597.989778</td>\n",
       "      <td>3000.446461</td>\n",
       "    </tr>\n",
       "    <tr>\n",
       "      <th>26</th>\n",
       "      <td>2016-01-01 13:00:00</td>\n",
       "      <td>2099.000057</td>\n",
       "      <td>2962.394354</td>\n",
       "      <td>2754.504329</td>\n",
       "    </tr>\n",
       "    <tr>\n",
       "      <th>27</th>\n",
       "      <td>2016-01-01 13:30:00</td>\n",
       "      <td>1660.337498</td>\n",
       "      <td>2996.608297</td>\n",
       "      <td>2627.945310</td>\n",
       "    </tr>\n",
       "    <tr>\n",
       "      <th>28</th>\n",
       "      <td>2016-01-01 14:00:00</td>\n",
       "      <td>1420.114935</td>\n",
       "      <td>2585.406370</td>\n",
       "      <td>2308.870459</td>\n",
       "    </tr>\n",
       "    <tr>\n",
       "      <th>29</th>\n",
       "      <td>2016-01-01 14:30:00</td>\n",
       "      <td>1426.873711</td>\n",
       "      <td>2234.389124</td>\n",
       "      <td>2270.606575</td>\n",
       "    </tr>\n",
       "    <tr>\n",
       "      <th>...</th>\n",
       "      <td>...</td>\n",
       "      <td>...</td>\n",
       "      <td>...</td>\n",
       "      <td>...</td>\n",
       "    </tr>\n",
       "    <tr>\n",
       "      <th>21858</th>\n",
       "      <td>2017-03-31 09:00:00</td>\n",
       "      <td>783.411185</td>\n",
       "      <td>1985.647254</td>\n",
       "      <td>1628.028842</td>\n",
       "    </tr>\n",
       "    <tr>\n",
       "      <th>21859</th>\n",
       "      <td>2017-03-31 09:30:00</td>\n",
       "      <td>1157.554793</td>\n",
       "      <td>1993.107579</td>\n",
       "      <td>1964.890108</td>\n",
       "    </tr>\n",
       "    <tr>\n",
       "      <th>21860</th>\n",
       "      <td>2017-03-31 10:00:00</td>\n",
       "      <td>909.226290</td>\n",
       "      <td>2112.398879</td>\n",
       "      <td>2310.023602</td>\n",
       "    </tr>\n",
       "    <tr>\n",
       "      <th>21861</th>\n",
       "      <td>2017-03-31 10:30:00</td>\n",
       "      <td>829.850734</td>\n",
       "      <td>2354.360014</td>\n",
       "      <td>2156.785377</td>\n",
       "    </tr>\n",
       "    <tr>\n",
       "      <th>21862</th>\n",
       "      <td>2017-03-31 11:00:00</td>\n",
       "      <td>1068.493170</td>\n",
       "      <td>2286.675505</td>\n",
       "      <td>2394.717504</td>\n",
       "    </tr>\n",
       "    <tr>\n",
       "      <th>21863</th>\n",
       "      <td>2017-03-31 11:30:00</td>\n",
       "      <td>884.351807</td>\n",
       "      <td>2286.805261</td>\n",
       "      <td>2468.608850</td>\n",
       "    </tr>\n",
       "    <tr>\n",
       "      <th>21864</th>\n",
       "      <td>2017-03-31 12:00:00</td>\n",
       "      <td>854.585032</td>\n",
       "      <td>2075.787306</td>\n",
       "      <td>2280.454833</td>\n",
       "    </tr>\n",
       "    <tr>\n",
       "      <th>21865</th>\n",
       "      <td>2017-03-31 12:30:00</td>\n",
       "      <td>800.945526</td>\n",
       "      <td>1929.680138</td>\n",
       "      <td>2400.802504</td>\n",
       "    </tr>\n",
       "    <tr>\n",
       "      <th>21866</th>\n",
       "      <td>2017-03-31 13:00:00</td>\n",
       "      <td>914.113102</td>\n",
       "      <td>1738.682984</td>\n",
       "      <td>2044.456605</td>\n",
       "    </tr>\n",
       "    <tr>\n",
       "      <th>21867</th>\n",
       "      <td>2017-03-31 13:30:00</td>\n",
       "      <td>905.198579</td>\n",
       "      <td>1559.740870</td>\n",
       "      <td>2040.112828</td>\n",
       "    </tr>\n",
       "    <tr>\n",
       "      <th>21868</th>\n",
       "      <td>2017-03-31 14:00:00</td>\n",
       "      <td>673.896816</td>\n",
       "      <td>1411.136131</td>\n",
       "      <td>1438.515157</td>\n",
       "    </tr>\n",
       "    <tr>\n",
       "      <th>21869</th>\n",
       "      <td>2017-03-31 14:30:00</td>\n",
       "      <td>441.995186</td>\n",
       "      <td>1052.364276</td>\n",
       "      <td>1368.709361</td>\n",
       "    </tr>\n",
       "    <tr>\n",
       "      <th>21870</th>\n",
       "      <td>2017-03-31 15:00:00</td>\n",
       "      <td>304.518321</td>\n",
       "      <td>841.560653</td>\n",
       "      <td>996.001749</td>\n",
       "    </tr>\n",
       "    <tr>\n",
       "      <th>21871</th>\n",
       "      <td>2017-03-31 15:30:00</td>\n",
       "      <td>300.342855</td>\n",
       "      <td>643.220070</td>\n",
       "      <td>694.663827</td>\n",
       "    </tr>\n",
       "    <tr>\n",
       "      <th>21872</th>\n",
       "      <td>2017-03-31 16:00:00</td>\n",
       "      <td>127.826303</td>\n",
       "      <td>190.786354</td>\n",
       "      <td>300.113284</td>\n",
       "    </tr>\n",
       "    <tr>\n",
       "      <th>21873</th>\n",
       "      <td>2017-03-31 16:30:00</td>\n",
       "      <td>82.044709</td>\n",
       "      <td>111.432957</td>\n",
       "      <td>236.444820</td>\n",
       "    </tr>\n",
       "    <tr>\n",
       "      <th>21874</th>\n",
       "      <td>2017-03-31 17:00:00</td>\n",
       "      <td>5.797105</td>\n",
       "      <td>12.896507</td>\n",
       "      <td>90.589157</td>\n",
       "    </tr>\n",
       "    <tr>\n",
       "      <th>21875</th>\n",
       "      <td>2017-03-31 17:30:00</td>\n",
       "      <td>0.274546</td>\n",
       "      <td>0.990507</td>\n",
       "      <td>9.204842</td>\n",
       "    </tr>\n",
       "    <tr>\n",
       "      <th>21876</th>\n",
       "      <td>2017-03-31 18:00:00</td>\n",
       "      <td>0.054894</td>\n",
       "      <td>0.471437</td>\n",
       "      <td>28.001143</td>\n",
       "    </tr>\n",
       "    <tr>\n",
       "      <th>21877</th>\n",
       "      <td>2017-03-31 18:30:00</td>\n",
       "      <td>0.012233</td>\n",
       "      <td>0.471437</td>\n",
       "      <td>0.470664</td>\n",
       "    </tr>\n",
       "    <tr>\n",
       "      <th>21878</th>\n",
       "      <td>2017-03-31 19:00:00</td>\n",
       "      <td>0.000439</td>\n",
       "      <td>0.471437</td>\n",
       "      <td>0.470664</td>\n",
       "    </tr>\n",
       "    <tr>\n",
       "      <th>21879</th>\n",
       "      <td>2017-03-31 19:30:00</td>\n",
       "      <td>0.000439</td>\n",
       "      <td>0.471437</td>\n",
       "      <td>0.470664</td>\n",
       "    </tr>\n",
       "    <tr>\n",
       "      <th>21880</th>\n",
       "      <td>2017-03-31 20:00:00</td>\n",
       "      <td>0.000439</td>\n",
       "      <td>0.471437</td>\n",
       "      <td>0.470664</td>\n",
       "    </tr>\n",
       "    <tr>\n",
       "      <th>21881</th>\n",
       "      <td>2017-03-31 20:30:00</td>\n",
       "      <td>0.000439</td>\n",
       "      <td>0.471437</td>\n",
       "      <td>0.470664</td>\n",
       "    </tr>\n",
       "    <tr>\n",
       "      <th>21882</th>\n",
       "      <td>2017-03-31 21:00:00</td>\n",
       "      <td>0.000439</td>\n",
       "      <td>0.471437</td>\n",
       "      <td>0.470664</td>\n",
       "    </tr>\n",
       "    <tr>\n",
       "      <th>21883</th>\n",
       "      <td>2017-03-31 21:30:00</td>\n",
       "      <td>0.000439</td>\n",
       "      <td>0.471437</td>\n",
       "      <td>0.470664</td>\n",
       "    </tr>\n",
       "    <tr>\n",
       "      <th>21884</th>\n",
       "      <td>2017-03-31 22:00:00</td>\n",
       "      <td>0.000439</td>\n",
       "      <td>0.471437</td>\n",
       "      <td>0.470664</td>\n",
       "    </tr>\n",
       "    <tr>\n",
       "      <th>21885</th>\n",
       "      <td>2017-03-31 22:30:00</td>\n",
       "      <td>0.000439</td>\n",
       "      <td>0.471437</td>\n",
       "      <td>0.470664</td>\n",
       "    </tr>\n",
       "    <tr>\n",
       "      <th>21886</th>\n",
       "      <td>2017-03-31 23:00:00</td>\n",
       "      <td>0.000439</td>\n",
       "      <td>0.471437</td>\n",
       "      <td>0.470664</td>\n",
       "    </tr>\n",
       "    <tr>\n",
       "      <th>21887</th>\n",
       "      <td>2017-03-31 23:30:00</td>\n",
       "      <td>0.000439</td>\n",
       "      <td>0.471437</td>\n",
       "      <td>0.470664</td>\n",
       "    </tr>\n",
       "  </tbody>\n",
       "</table>\n",
       "<p>21888 rows × 4 columns</p>\n",
       "</div>"
      ],
      "text/plain": [
       "                 datetime   blending_1   blending_2   blending_3\n",
       "0     2016-01-01 00:00:00     0.000439     0.471437     0.470664\n",
       "1     2016-01-01 00:30:00     0.000439     0.471437     0.470664\n",
       "2     2016-01-01 01:00:00     0.000439     0.471437     0.470664\n",
       "3     2016-01-01 01:30:00     0.000439     0.471437     0.470664\n",
       "4     2016-01-01 02:00:00     0.000439     0.471437     0.470664\n",
       "5     2016-01-01 02:30:00     0.000439     0.471437     0.470664\n",
       "6     2016-01-01 03:00:00     0.000439     0.471437     0.470664\n",
       "7     2016-01-01 03:30:00     0.000439     0.471437     0.470664\n",
       "8     2016-01-01 04:00:00     0.009517     0.471437     0.470664\n",
       "9     2016-01-01 04:30:00     0.009517     0.471437     0.470664\n",
       "10    2016-01-01 05:00:00     0.016036     0.810483     0.470664\n",
       "11    2016-01-01 05:30:00     0.000439     0.471437     0.470664\n",
       "12    2016-01-01 06:00:00     0.000693     0.810483     1.381672\n",
       "13    2016-01-01 06:30:00     1.871210     4.147465    38.364645\n",
       "14    2016-01-01 07:00:00    48.395165   140.305218   165.403178\n",
       "15    2016-01-01 07:30:00   122.527801   464.082568   439.227946\n",
       "16    2016-01-01 08:00:00   635.461384   944.455106  1099.248674\n",
       "17    2016-01-01 08:30:00  1121.065937  1448.751774  1646.286849\n",
       "18    2016-01-01 09:00:00  1351.439916  2247.332204  1878.866500\n",
       "19    2016-01-01 09:30:00  1631.689624  2832.499887  2425.744901\n",
       "20    2016-01-01 10:00:00  1966.027484  3083.120420  2559.105742\n",
       "21    2016-01-01 10:30:00  1747.792434  3568.927253  2275.428388\n",
       "22    2016-01-01 11:00:00  2341.053891  3570.571104  3116.680514\n",
       "23    2016-01-01 11:30:00  2305.231711  3551.878457  3181.766084\n",
       "24    2016-01-01 12:00:00  2357.594416  3551.878457  3000.092643\n",
       "25    2016-01-01 12:30:00  2080.655105  3597.989778  3000.446461\n",
       "26    2016-01-01 13:00:00  2099.000057  2962.394354  2754.504329\n",
       "27    2016-01-01 13:30:00  1660.337498  2996.608297  2627.945310\n",
       "28    2016-01-01 14:00:00  1420.114935  2585.406370  2308.870459\n",
       "29    2016-01-01 14:30:00  1426.873711  2234.389124  2270.606575\n",
       "...                   ...          ...          ...          ...\n",
       "21858 2017-03-31 09:00:00   783.411185  1985.647254  1628.028842\n",
       "21859 2017-03-31 09:30:00  1157.554793  1993.107579  1964.890108\n",
       "21860 2017-03-31 10:00:00   909.226290  2112.398879  2310.023602\n",
       "21861 2017-03-31 10:30:00   829.850734  2354.360014  2156.785377\n",
       "21862 2017-03-31 11:00:00  1068.493170  2286.675505  2394.717504\n",
       "21863 2017-03-31 11:30:00   884.351807  2286.805261  2468.608850\n",
       "21864 2017-03-31 12:00:00   854.585032  2075.787306  2280.454833\n",
       "21865 2017-03-31 12:30:00   800.945526  1929.680138  2400.802504\n",
       "21866 2017-03-31 13:00:00   914.113102  1738.682984  2044.456605\n",
       "21867 2017-03-31 13:30:00   905.198579  1559.740870  2040.112828\n",
       "21868 2017-03-31 14:00:00   673.896816  1411.136131  1438.515157\n",
       "21869 2017-03-31 14:30:00   441.995186  1052.364276  1368.709361\n",
       "21870 2017-03-31 15:00:00   304.518321   841.560653   996.001749\n",
       "21871 2017-03-31 15:30:00   300.342855   643.220070   694.663827\n",
       "21872 2017-03-31 16:00:00   127.826303   190.786354   300.113284\n",
       "21873 2017-03-31 16:30:00    82.044709   111.432957   236.444820\n",
       "21874 2017-03-31 17:00:00     5.797105    12.896507    90.589157\n",
       "21875 2017-03-31 17:30:00     0.274546     0.990507     9.204842\n",
       "21876 2017-03-31 18:00:00     0.054894     0.471437    28.001143\n",
       "21877 2017-03-31 18:30:00     0.012233     0.471437     0.470664\n",
       "21878 2017-03-31 19:00:00     0.000439     0.471437     0.470664\n",
       "21879 2017-03-31 19:30:00     0.000439     0.471437     0.470664\n",
       "21880 2017-03-31 20:00:00     0.000439     0.471437     0.470664\n",
       "21881 2017-03-31 20:30:00     0.000439     0.471437     0.470664\n",
       "21882 2017-03-31 21:00:00     0.000439     0.471437     0.470664\n",
       "21883 2017-03-31 21:30:00     0.000439     0.471437     0.470664\n",
       "21884 2017-03-31 22:00:00     0.000439     0.471437     0.470664\n",
       "21885 2017-03-31 22:30:00     0.000439     0.471437     0.470664\n",
       "21886 2017-03-31 23:00:00     0.000439     0.471437     0.470664\n",
       "21887 2017-03-31 23:30:00     0.000439     0.471437     0.470664\n",
       "\n",
       "[21888 rows x 4 columns]"
      ]
     },
     "execution_count": 211,
     "metadata": {},
     "output_type": "execute_result"
    }
   ],
   "source": [
    "predict_data"
   ]
  },
  {
   "cell_type": "code",
   "execution_count": 213,
   "metadata": {
    "collapsed": true
   },
   "outputs": [],
   "source": [
    "predict_data.to_csv('data/layer_2_2015/layer_2_prediction.csv', index=False)"
   ]
  },
  {
   "cell_type": "code",
   "execution_count": null,
   "metadata": {
    "collapsed": true
   },
   "outputs": [],
   "source": []
  }
 ],
 "metadata": {
  "kernelspec": {
   "display_name": "Python 3",
   "language": "python",
   "name": "python3"
  },
  "language_info": {
   "codemirror_mode": {
    "name": "ipython",
    "version": 3
   },
   "file_extension": ".py",
   "mimetype": "text/x-python",
   "name": "python",
   "nbconvert_exporter": "python",
   "pygments_lexer": "ipython3",
   "version": "3.5.3"
  }
 },
 "nbformat": 4,
 "nbformat_minor": 2
}
