{
 "cells": [
  {
   "cell_type": "markdown",
   "metadata": {},
   "source": [
    "# **前日の20:00までの気象予報データを用いて翌日の00:00~23:30までの発電量を弱学習機で予測する**"
   ]
  },
  {
   "cell_type": "markdown",
   "metadata": {},
   "source": [
    "### **必要な関数・ライブラリ**"
   ]
  },
  {
   "cell_type": "code",
   "execution_count": 1,
   "metadata": {
    "collapsed": true
   },
   "outputs": [],
   "source": [
    "# データ加工・処理・分析モジュール\n",
    "import numpy as np\n",
    "import pandas as pd\n",
    "import matplotlib.pyplot as plt\n",
    "from sklearn.model_selection import train_test_split\n",
    "import os\n",
    "import MLP\n",
    "\n",
    "%matplotlib inline"
   ]
  },
  {
   "cell_type": "code",
   "execution_count": 2,
   "metadata": {
    "collapsed": true
   },
   "outputs": [],
   "source": [
    "def set_time(dataframe, col_name):\n",
    "    '''\n",
    "    to_datetimeを使うための前処理\n",
    "    '''\n",
    "    dataframe[col_name] = dataframe[col_name].map(lambda x : transform_time(x))\n",
    "    return dataframe"
   ]
  },
  {
   "cell_type": "code",
   "execution_count": 3,
   "metadata": {
    "collapsed": true
   },
   "outputs": [],
   "source": [
    "def transform_time(x):\n",
    "    '''\n",
    "    set_time内で使う関数\n",
    "    to_datetimeで24時をサポートしないので00に変更する処理\n",
    "    '''\n",
    "    str_x = str(x)\n",
    "    res = ''\n",
    "    if str(x)[8:10] == '24':\n",
    "        res = str_x[0:4] + '-' + str_x[4:6] + '-' + str_x[6:8] + ' 00:'+str_x[10:12] \n",
    "    else:\n",
    "        res = str_x[0:4] + '-' + str_x[4:6] + '-' + str_x[6:8] + ' '+ str_x[8:10] +':'+str_x[10:12]\n",
    "    return res"
   ]
  },
  {
   "cell_type": "code",
   "execution_count": 4,
   "metadata": {
    "collapsed": true
   },
   "outputs": [],
   "source": [
    "def add_hour_month(input_data):\n",
    "    '''\n",
    "    時間や月のデータを加える\n",
    "    '''\n",
    "    input_data['hour'] = input_data['datetime'].map(lambda x: int(x.hour))\n",
    "    input_data['minute'] = input_data['datetime'].map(lambda x: int(x.minute))\n",
    "    input_data['month'] = input_data['datetime'].map(lambda x: int(x.month))\n",
    "    input_data['month_cos'] = input_data['month'].map(lambda x: np.cos(np.pi * x / 12))\n",
    "    input_data['month_sin'] = input_data['month'].map(lambda x: np.sin(np.pi * x / 12))\n",
    "    input_data['hour_cos'] = input_data['hour'].map(lambda x: np.cos(np.pi * x / 24))\n",
    "    input_data['hour_sin'] = input_data['hour'].map(lambda x: np.sin(np.pi * x / 24))\n",
    "    input_data = input_data.drop(['hour', 'minute', 'month'], axis=1)\n",
    "    return input_data"
   ]
  },
  {
   "cell_type": "code",
   "execution_count": 5,
   "metadata": {
    "collapsed": true
   },
   "outputs": [],
   "source": [
    "def get_30(tmp_data):\n",
    "    '''\n",
    "    必要なカラムだけ拾ってきて30分ごのデータに整形\n",
    "    '''\n",
    "    tmp_data = tmp_data[[\"datetime\", \"pr\", \"max_ws\", \"ave_ws\", \"max_tp\", \"min_tp\", \"sl\"]]\n",
    "    \n",
    "    # 欠損値を一つ前の値で置換/output_data\n",
    "    tmp_data = tmp_data.fillna(method='bfill')\n",
    "    tmp_30 = tmp_data.set_index('datetime').groupby(pd.TimeGrouper(freq='1800s', closed='left')).sum()\n",
    "\n",
    "    # datetimeのカラムを復活させる\n",
    "    tmp_30['datetime'] = tmp_30.index\n",
    "    tmp_30.index = np.arange(len(tmp_30))\n",
    "    tmp_30.head()\n",
    "    return tmp_30"
   ]
  },
  {
   "cell_type": "code",
   "execution_count": 6,
   "metadata": {
    "collapsed": true
   },
   "outputs": [],
   "source": [
    "def add_time_sincos(input_data):\n",
    "    '''\n",
    "    datetimeカラムがあることを前提に月時分の三角関数を足す\n",
    "    '''\n",
    "    input_data['hour'] = input_data['datetime'].map(lambda x: int(x.hour))\n",
    "    input_data['minute'] = input_data['datetime'].map(lambda x: int(x.minute))\n",
    "    input_data['month'] = input_data['datetime'].map(lambda x: int(x.month))\n",
    "    input_data['month_cos'] = input_data['month'].map(lambda x: np.cos(np.pi * x / 12))\n",
    "    input_data['month_sin'] = input_data['month'].map(lambda x: np.sin(np.pi * x / 12))\n",
    "    input_data['hour_cos'] = input_data['hour'].map(lambda x: np.cos(np.pi * x / 24))\n",
    "    input_data['hour_sin'] = input_data['hour'].map(lambda x: np.sin(np.pi * x / 24))\n",
    "    input_data['min_cos'] = input_data['minute'].map(lambda x: np.cos(np.pi * x / 60))\n",
    "    input_data['min_sin'] = input_data['minute'].map(lambda x: np.sin(np.pi * x / 60))\n",
    "    input_data = input_data.drop(['hour', 'minute', 'month'], axis=1)\n",
    "    return input_data"
   ]
  },
  {
   "cell_type": "code",
   "execution_count": 7,
   "metadata": {
    "collapsed": true
   },
   "outputs": [],
   "source": [
    "def normalize_array(x):\n",
    "    '''\n",
    "    min, max, min-max正規化を行なった配列(np.array)を返す\n",
    "    '''\n",
    "    x = np.array(x)\n",
    "    x_min = x.min()\n",
    "    x_max = x.max()\n",
    "    normalized = (x - x_min) / (x_max - x_min) \n",
    "    return x_min, x_max, normalized"
   ]
  },
  {
   "cell_type": "code",
   "execution_count": 8,
   "metadata": {
    "collapsed": true
   },
   "outputs": [],
   "source": [
    "def denormalize_array(normalized_x, x_min, x_max):\n",
    "    '''\n",
    "    正規化前のmin, maxを用いて元のスケールに戻す\n",
    "    '''\n",
    "    normalized_x = np.array(normalized_x)\n",
    "    denormalize_array = (normalized_x) * (x_max - x_min) + x_min\n",
    "    return denormalize_array"
   ]
  },
  {
   "cell_type": "code",
   "execution_count": 184,
   "metadata": {
    "collapsed": true
   },
   "outputs": [],
   "source": [
    "def drop_nan(X, Y):\n",
    "    '''\n",
    "    正解データがnanであるデータの組を削除\n",
    "    '''\n",
    "    mask = np.isnan(Y)\n",
    "    X = X[~mask]\n",
    "    Y = Y[~mask]\n",
    "    return X, Y"
   ]
  },
  {
   "cell_type": "code",
   "execution_count": 12,
   "metadata": {
    "collapsed": true
   },
   "outputs": [],
   "source": [
    "def calc_mae(X, Y):\n",
    "    '''\n",
    "    X, Yがメモリを食いすぎるのでfor文で計算\n",
    "    '''\n",
    "    mse = 0\n",
    "    for i in range(len(X)):\n",
    "        mse += np.abs(X[i]- Y[i])\n",
    "    return mse/len(X)"
   ]
  },
  {
   "cell_type": "markdown",
   "metadata": {},
   "source": [
    "### **データの準備**"
   ]
  },
  {
   "cell_type": "code",
   "execution_count": 152,
   "metadata": {
    "collapsed": true
   },
   "outputs": [],
   "source": [
    "target_place = 1"
   ]
  },
  {
   "cell_type": "code",
   "execution_count": 153,
   "metadata": {
    "collapsed": true
   },
   "outputs": [],
   "source": [
    "# 発電量データ\n",
    "output_30 = pd.read_csv('data/processed_data/out_put.tsv', delimiter = '\\t')\n",
    "output_30['datetime'] = output_30['datetime'].map(lambda x : pd.to_datetime(x))\n",
    "output_30 = output_30[['datetime', 'SOLA0'+str(target_place)]]"
   ]
  },
  {
   "cell_type": "code",
   "execution_count": 154,
   "metadata": {
    "collapsed": true
   },
   "outputs": [],
   "source": [
    "# 天気予報のデータを実は今まで使ってなかった\n",
    "if target_place == 1 or target_place == 2:\n",
    "    fc_data = pd.read_csv('data/raw_data/forecast_kanagawa.tsv', delimiter = '\\t')\n",
    "    fc_data['date'] = fc_data['date'].map(lambda x : pd.to_datetime(x))\n",
    "elif target_place == 3:\n",
    "    fc_data = pd.read_csv('data/raw_data/forecast_yamanashi.tsv', delimiter = '\\t')\n",
    "    fc_data['date'] = fc_data['date'].map(lambda x : pd.to_datetime(x))\n",
    "else:\n",
    "    raise ValueError(\"invalid input target_place\")"
   ]
  },
  {
   "cell_type": "code",
   "execution_count": 155,
   "metadata": {
    "collapsed": true
   },
   "outputs": [],
   "source": [
    "# 各降水確率, 各時間帯の天気, 気温のみを選択\n",
    "fc_data = fc_data.drop(['weather', 'weather_detail', 'wind', 'wave', 'wv_00-03',\n",
    "       'wv_03-06', 'wv_06-09', 'wv_09-12', 'wv_12-15', 'wv_15-18', 'wv_18-21',\n",
    "       'wv_21-24', 'wc_00-03', 'wc_03-06', 'wc_06-09', 'wc_09-12', 'wc_12-15',\n",
    "       'wc_15-18', 'wc_18-21', 'wc_21-24'], axis=1)"
   ]
  },
  {
   "cell_type": "code",
   "execution_count": 156,
   "metadata": {
    "collapsed": true
   },
   "outputs": [],
   "source": [
    "hours = ['we_00-03', 'we_03-06', 'we_06-09', 'we_09-12', 'we_12-15', 'we_15-18', 'we_18-21', 'we_21-24']\n",
    "for hour in hours:\n",
    "    dummy_df = pd.get_dummies(fc_data[[hour]])\n",
    "    fc_data = pd.concat([fc_data, dummy_df], axis=1, join='inner')\n",
    "    fc_data= fc_data.drop([hour], axis=1)"
   ]
  },
  {
   "cell_type": "code",
   "execution_count": 167,
   "metadata": {
    "collapsed": true
   },
   "outputs": [],
   "source": [
    "if target_place == 1 or target_place == 2:\n",
    "    try:\n",
    "        wfc_data = pd.read_csv('data/processed_data/wfc_yokohama_30', delimiter='\\t')\n",
    "        wfc_data['datetime'] =  wfc_data['datetime'].map(lambda x : pd.to_datetime(x))\n",
    "        \n",
    "    except FileNotFoundError:\n",
    "        # input_dataを作る\n",
    "        target_amd_data = pd.read_csv('data/raw_data/amd_46106.tsv', delimiter = '\\t')\n",
    "        target_amd_data = set_time(target_amd_data, 'datetime')\n",
    "        target_amd_data['datetime'] = target_amd_data['datetime'].map(lambda x : pd.to_datetime(x))\n",
    "        target_amd_data = get_30(target_amd_data)\n",
    "        # 時間の情報\n",
    "        input_hours = target_amd_data[['datetime']]\n",
    "        input_hours = add_time_sincos(input_hours)\n",
    "        array = np.array(fc_data.drop([\"date\"], axis=1))\n",
    "        print(\"-- making input_data wfc_yokohama_30 @ data/processed_data/--\")\n",
    "        wfc_data = np.array([])\n",
    "        # 各時間帯に天気予報の情報を複製ながらはめていく\n",
    "        for i in range(len(array)):\n",
    "            for i in range(48):\n",
    "                wfc_data = np.append(wfc_data, array[i])\n",
    "        # dfにして保存\n",
    "        tmp = wfc_data.reshape(int(len(wfc_data)/len(array[0])), len(array[0]))\n",
    "        fc_df = pd.DataFrame(tmp)\n",
    "        fc_df.columns = fc_data.columns[1:47]\n",
    "        # 時間の情報と合体\n",
    "        wfc_data = pd.concat([input_hours, fc_df], axis=1, join='inner')\n",
    "        wfc_data.to_csv('data/processed_data/wfc_yokohama_30', sep = '\\t', index=False)\n",
    "\n",
    "elif target_place == 3:\n",
    "    try:\n",
    "        wfc_data = pd.read_csv('data/processed_data/wfc_yamanashi_30', delimiter='\\t')\n",
    "        wfc_data['datetime'] = wfc_data['datetime'].map(lambda x : pd.to_datetime(x))\n",
    "        \n",
    "    except FileNotFoundError:\n",
    "        # input_dataを作る\n",
    "        target_amd_data = pd.read_csv('data/raw_data/amd_49142.tsv', delimiter = '\\t')\n",
    "        target_amd_data = set_time(target_amd_data, 'datetime')\n",
    "        target_amd_data['datetime'] = target_amd_data['datetime'].map(lambda x : pd.to_datetime(x))\n",
    "        target_amd_data = get_30(target_amd_data)\n",
    "        # 時間の情報\n",
    "        input_hours = target_amd_data[['datetime']]\n",
    "        input_hours = add_time_sincos(input_hours)\n",
    "        array = np.array(fc_data.drop([\"date\"], axis=1))\n",
    "        print(\"-- making input_data wfc_yamanashi_30 @ data/processed_data/--\")\n",
    "        wfc_data = np.array([])\n",
    "        # 各時間帯に天気予報の情報を複製ながらはめていく\n",
    "        for i in range(len(array)):\n",
    "            for i in range(48):\n",
    "                wfc_data = np.append(wfc_data, array[i])\n",
    "        # dfにして保存\n",
    "        tmp = wfc_data.reshape(int(len(wfc_data)/len(array[0])), len(array[0]))\n",
    "        fc_df = pd.DataFrame(tmp)\n",
    "        fc_df.columns = fc_data.columns[1:47]\n",
    "        # 時間の情報と合体\n",
    "        wfc_data = pd.concat([input_hours, fc_df], axis=1, join='inner')\n",
    "        wfc_data.to_csv('data/processed_data/wfc_yamanashi_30', sep = '\\t', index=False)"
   ]
  },
  {
   "cell_type": "code",
   "execution_count": 168,
   "metadata": {},
   "outputs": [
    {
     "data": {
      "text/html": [
       "<div>\n",
       "<style>\n",
       "    .dataframe thead tr:only-child th {\n",
       "        text-align: right;\n",
       "    }\n",
       "\n",
       "    .dataframe thead th {\n",
       "        text-align: left;\n",
       "    }\n",
       "\n",
       "    .dataframe tbody tr th {\n",
       "        vertical-align: top;\n",
       "    }\n",
       "</style>\n",
       "<table border=\"1\" class=\"dataframe\">\n",
       "  <thead>\n",
       "    <tr style=\"text-align: right;\">\n",
       "      <th></th>\n",
       "      <th>datetime</th>\n",
       "      <th>month_cos</th>\n",
       "      <th>month_sin</th>\n",
       "      <th>hour_cos</th>\n",
       "      <th>hour_sin</th>\n",
       "      <th>min_cos</th>\n",
       "      <th>min_sin</th>\n",
       "      <th>pc_00-06</th>\n",
       "      <th>pc_06-12</th>\n",
       "      <th>pc_12-18</th>\n",
       "      <th>...</th>\n",
       "      <th>we_15-18_雨</th>\n",
       "      <th>we_15-18_雪</th>\n",
       "      <th>we_18-21_くもり</th>\n",
       "      <th>we_18-21_晴れ</th>\n",
       "      <th>we_18-21_雨</th>\n",
       "      <th>we_18-21_雪</th>\n",
       "      <th>we_21-24_くもり</th>\n",
       "      <th>we_21-24_晴れ</th>\n",
       "      <th>we_21-24_雨</th>\n",
       "      <th>we_21-24_雪</th>\n",
       "    </tr>\n",
       "  </thead>\n",
       "  <tbody>\n",
       "    <tr>\n",
       "      <th>0</th>\n",
       "      <td>2012-01-01 00:00:00</td>\n",
       "      <td>0.965926</td>\n",
       "      <td>0.258819</td>\n",
       "      <td>1.000000</td>\n",
       "      <td>0.000000</td>\n",
       "      <td>1.000000e+00</td>\n",
       "      <td>0.0</td>\n",
       "      <td>30.0</td>\n",
       "      <td>30.0</td>\n",
       "      <td>10.0</td>\n",
       "      <td>...</td>\n",
       "      <td>0.0</td>\n",
       "      <td>0.0</td>\n",
       "      <td>1.0</td>\n",
       "      <td>0.0</td>\n",
       "      <td>0.0</td>\n",
       "      <td>0.0</td>\n",
       "      <td>0.0</td>\n",
       "      <td>1.0</td>\n",
       "      <td>0.0</td>\n",
       "      <td>0.0</td>\n",
       "    </tr>\n",
       "    <tr>\n",
       "      <th>1</th>\n",
       "      <td>2012-01-01 00:30:00</td>\n",
       "      <td>0.965926</td>\n",
       "      <td>0.258819</td>\n",
       "      <td>1.000000</td>\n",
       "      <td>0.000000</td>\n",
       "      <td>2.832769e-16</td>\n",
       "      <td>1.0</td>\n",
       "      <td>20.0</td>\n",
       "      <td>20.0</td>\n",
       "      <td>10.0</td>\n",
       "      <td>...</td>\n",
       "      <td>0.0</td>\n",
       "      <td>0.0</td>\n",
       "      <td>0.0</td>\n",
       "      <td>1.0</td>\n",
       "      <td>0.0</td>\n",
       "      <td>0.0</td>\n",
       "      <td>1.0</td>\n",
       "      <td>0.0</td>\n",
       "      <td>0.0</td>\n",
       "      <td>0.0</td>\n",
       "    </tr>\n",
       "    <tr>\n",
       "      <th>2</th>\n",
       "      <td>2012-01-01 01:00:00</td>\n",
       "      <td>0.965926</td>\n",
       "      <td>0.258819</td>\n",
       "      <td>0.991445</td>\n",
       "      <td>0.130526</td>\n",
       "      <td>1.000000e+00</td>\n",
       "      <td>0.0</td>\n",
       "      <td>0.0</td>\n",
       "      <td>0.0</td>\n",
       "      <td>10.0</td>\n",
       "      <td>...</td>\n",
       "      <td>0.0</td>\n",
       "      <td>0.0</td>\n",
       "      <td>1.0</td>\n",
       "      <td>0.0</td>\n",
       "      <td>0.0</td>\n",
       "      <td>0.0</td>\n",
       "      <td>1.0</td>\n",
       "      <td>0.0</td>\n",
       "      <td>0.0</td>\n",
       "      <td>0.0</td>\n",
       "    </tr>\n",
       "    <tr>\n",
       "      <th>3</th>\n",
       "      <td>2012-01-01 01:30:00</td>\n",
       "      <td>0.965926</td>\n",
       "      <td>0.258819</td>\n",
       "      <td>0.991445</td>\n",
       "      <td>0.130526</td>\n",
       "      <td>2.832769e-16</td>\n",
       "      <td>1.0</td>\n",
       "      <td>10.0</td>\n",
       "      <td>10.0</td>\n",
       "      <td>30.0</td>\n",
       "      <td>...</td>\n",
       "      <td>0.0</td>\n",
       "      <td>0.0</td>\n",
       "      <td>1.0</td>\n",
       "      <td>0.0</td>\n",
       "      <td>0.0</td>\n",
       "      <td>0.0</td>\n",
       "      <td>1.0</td>\n",
       "      <td>0.0</td>\n",
       "      <td>0.0</td>\n",
       "      <td>0.0</td>\n",
       "    </tr>\n",
       "    <tr>\n",
       "      <th>4</th>\n",
       "      <td>2012-01-01 02:00:00</td>\n",
       "      <td>0.965926</td>\n",
       "      <td>0.258819</td>\n",
       "      <td>0.965926</td>\n",
       "      <td>0.258819</td>\n",
       "      <td>1.000000e+00</td>\n",
       "      <td>0.0</td>\n",
       "      <td>10.0</td>\n",
       "      <td>0.0</td>\n",
       "      <td>0.0</td>\n",
       "      <td>...</td>\n",
       "      <td>0.0</td>\n",
       "      <td>0.0</td>\n",
       "      <td>0.0</td>\n",
       "      <td>1.0</td>\n",
       "      <td>0.0</td>\n",
       "      <td>0.0</td>\n",
       "      <td>0.0</td>\n",
       "      <td>1.0</td>\n",
       "      <td>0.0</td>\n",
       "      <td>0.0</td>\n",
       "    </tr>\n",
       "  </tbody>\n",
       "</table>\n",
       "<p>5 rows × 53 columns</p>\n",
       "</div>"
      ],
      "text/plain": [
       "             datetime  month_cos  month_sin  hour_cos  hour_sin       min_cos  \\\n",
       "0 2012-01-01 00:00:00   0.965926   0.258819  1.000000  0.000000  1.000000e+00   \n",
       "1 2012-01-01 00:30:00   0.965926   0.258819  1.000000  0.000000  2.832769e-16   \n",
       "2 2012-01-01 01:00:00   0.965926   0.258819  0.991445  0.130526  1.000000e+00   \n",
       "3 2012-01-01 01:30:00   0.965926   0.258819  0.991445  0.130526  2.832769e-16   \n",
       "4 2012-01-01 02:00:00   0.965926   0.258819  0.965926  0.258819  1.000000e+00   \n",
       "\n",
       "   min_sin  pc_00-06  pc_06-12  pc_12-18     ...      we_15-18_雨  we_15-18_雪  \\\n",
       "0      0.0      30.0      30.0      10.0     ...             0.0         0.0   \n",
       "1      1.0      20.0      20.0      10.0     ...             0.0         0.0   \n",
       "2      0.0       0.0       0.0      10.0     ...             0.0         0.0   \n",
       "3      1.0      10.0      10.0      30.0     ...             0.0         0.0   \n",
       "4      0.0      10.0       0.0       0.0     ...             0.0         0.0   \n",
       "\n",
       "   we_18-21_くもり  we_18-21_晴れ  we_18-21_雨  we_18-21_雪  we_21-24_くもり  \\\n",
       "0           1.0          0.0         0.0         0.0           0.0   \n",
       "1           0.0          1.0         0.0         0.0           1.0   \n",
       "2           1.0          0.0         0.0         0.0           1.0   \n",
       "3           1.0          0.0         0.0         0.0           1.0   \n",
       "4           0.0          1.0         0.0         0.0           0.0   \n",
       "\n",
       "   we_21-24_晴れ  we_21-24_雨  we_21-24_雪  \n",
       "0          1.0         0.0         0.0  \n",
       "1          0.0         0.0         0.0  \n",
       "2          0.0         0.0         0.0  \n",
       "3          0.0         0.0         0.0  \n",
       "4          1.0         0.0         0.0  \n",
       "\n",
       "[5 rows x 53 columns]"
      ]
     },
     "execution_count": 168,
     "metadata": {},
     "output_type": "execute_result"
    }
   ],
   "source": [
    "wfc_data.head()"
   ]
  },
  {
   "cell_type": "code",
   "execution_count": 185,
   "metadata": {
    "collapsed": true
   },
   "outputs": [],
   "source": [
    "# モデル構築のためにデータを分割する\n",
    "\n",
    "# 学習に必要なデータ\n",
    "# 前日の気象予報のデータで翌日の0:00 ~ 23:30を予測する\n",
    "train_x_s_idx = wfc_data[wfc_data['datetime'] == pd.to_datetime('2012-01-01 00:00')].index[0]\n",
    "train_x_e_idx = wfc_data[wfc_data['datetime'] == pd.to_datetime('2015-12-31 23:30')].index[0]\n",
    "train_y_s_idx = output_30[output_30['datetime'] == pd.to_datetime('2012-01-01 00:00')].index[0]\n",
    "train_y_e_idx = output_30[output_30['datetime'] == pd.to_datetime('2015-12-31 23:30')].index[0]\n",
    "\n",
    "output_kwh = output_30[\"SOLA0\"+str(target_place)][train_y_s_idx:train_y_e_idx+1]\n",
    "input_data = wfc_data.drop([\"datetime\"], axis=1)[train_x_s_idx:train_x_e_idx+1]\n",
    "\n",
    "# 予測に必要なデータ\n",
    "# 前日の00:00 ~ 20:00のデータで翌日の0:00 ~ 23:30を予測する\n",
    "test_x_s_idx = wfc_data[wfc_data[\"datetime\"] == pd.to_datetime('2016-01-01 00:00')].index[0]\n",
    "test_x_e_idx = wfc_data[wfc_data[\"datetime\"] == pd.to_datetime('2017-3-31 23:30')].index[0]\n",
    "\n",
    "test_input_data = wfc_data.drop([\"datetime\"], axis=1)[test_x_s_idx:test_x_e_idx+1]"
   ]
  },
  {
   "cell_type": "markdown",
   "metadata": {},
   "source": [
    "### **線形回帰**"
   ]
  },
  {
   "cell_type": "code",
   "execution_count": 242,
   "metadata": {
    "collapsed": true
   },
   "outputs": [],
   "source": [
    "from sklearn import linear_model"
   ]
  },
  {
   "cell_type": "code",
   "execution_count": 227,
   "metadata": {
    "collapsed": true
   },
   "outputs": [],
   "source": [
    "# min-max正規化しておく\n",
    "normalized_input = (input_data - input_data.min()) / (input_data.max() - input_data.min())\n",
    "normalized_input = normalized_input.dropna(axis=1)\n",
    "normalized_input = np.array(normalized_input)\n",
    "normalized_kwh = (output_kwh - output_kwh.min()) /( output_kwh.max() - output_kwh.min())\n",
    "normalized_kwh = np.array(normalized_kwh)\n",
    "\n",
    "input_list = normalized_input\n",
    "kwh_list =normalized_kwh\n",
    "\n",
    "X, Y = drop_nan(input_list, kwh_list)\n",
    "\n",
    "# testデータの入力を用意\n",
    "normalized_test_input = (test_input_data - test_input_data.min()) / (test_input_data.max() - test_input_data.min())\n",
    "normalized_test_input = normalized_test_input.dropna(axis=1)\n",
    "normalized_test_input = np.array(normalized_test_input)\n",
    "\n",
    "X_test = normalized_test_input\n",
    "\n",
    "# denormalize用\n",
    "kwh_max = float(output_kwh.max())\n",
    "kwh_min = float(output_kwh.min())"
   ]
  },
  {
   "cell_type": "code",
   "execution_count": 228,
   "metadata": {
    "collapsed": true
   },
   "outputs": [],
   "source": [
    "X_train, X_val, Y_train, Y_val = train_test_split(X, Y, test_size=int((X.shape[0] * 0.3)))"
   ]
  },
  {
   "cell_type": "code",
   "execution_count": 229,
   "metadata": {},
   "outputs": [
    {
     "name": "stdout",
     "output_type": "stream",
     "text": [
      "train_mae :  368.519272437\n",
      "test_mae :  368.89336958\n"
     ]
    }
   ],
   "source": [
    "lin_model = linear_model.LinearRegression()\n",
    "lin_model.fit(X_train, Y_train)\n",
    "\n",
    "Y_train_pred = lin_model.predict(X_train)\n",
    "Y_train_pred = denormalize_array(Y_train_pred, kwh_min, kwh_max)\n",
    "Y_train_true = denormalize_array(Y_train, kwh_min, kwh_max)\n",
    "\n",
    "Y_val_pred = lin_model.predict(X_val)\n",
    "Y_val_pred = denormalize_array(Y_val_pred, kwh_min, kwh_max)\n",
    "Y_val_true = denormalize_array(Y_val, kwh_min, kwh_max)\n",
    "\n",
    "print(\"train_mae : \", np.abs(Y_train_pred - Y_train_true).mean())\n",
    "print(\"test_mae : \", np.abs(Y_val_pred - Y_val_true).mean())"
   ]
  },
  {
   "cell_type": "code",
   "execution_count": 231,
   "metadata": {},
   "outputs": [],
   "source": [
    "Y_test_pred = lin_model.predict(X_test)\n",
    "Y_test_pred = denormalize_array(Y_test_pred, kwh_min, kwh_max)"
   ]
  },
  {
   "cell_type": "code",
   "execution_count": 234,
   "metadata": {},
   "outputs": [
    {
     "data": {
      "text/plain": [
       "[<matplotlib.lines.Line2D at 0x11c687d68>]"
      ]
     },
     "execution_count": 234,
     "metadata": {},
     "output_type": "execute_result"
    },
    {
     "data": {
      "image/png": "[encoded data removed]",
      "text/plain": [
       "<matplotlib.figure.Figure at 0x119c2ea20>"
      ]
     },
     "metadata": {},
     "output_type": "display_data"
    }
   ],
   "source": [
    "plt.plot(Y_test_pred[0:100])"
   ]
  },
  {
   "cell_type": "markdown",
   "metadata": {},
   "source": [
    "### **random forest**"
   ]
  },
  {
   "cell_type": "code",
   "execution_count": 241,
   "metadata": {
    "collapsed": true
   },
   "outputs": [],
   "source": [
    "from sklearn.ensemble import RandomForestRegressor"
   ]
  },
  {
   "cell_type": "code",
   "execution_count": 236,
   "metadata": {
    "collapsed": true
   },
   "outputs": [],
   "source": [
    "input_list = np.array(input_data)\n",
    "kwh_list = np.array(output_kwh)\n",
    "\n",
    "X, Y = drop_nan(input_list, kwh_list)\n",
    "\n",
    "# testデータの入力を用意\n",
    "X_test = np.array(test_input_data)"
   ]
  },
  {
   "cell_type": "code",
   "execution_count": 238,
   "metadata": {
    "collapsed": true
   },
   "outputs": [],
   "source": [
    "X_train, X_val, Y_train, Y_val = train_test_split(X, Y, test_size=int((X.shape[0] * 0.3)))"
   ]
  },
  {
   "cell_type": "code",
   "execution_count": 239,
   "metadata": {
    "collapsed": true
   },
   "outputs": [],
   "source": [
    "n_estimators = 20\n",
    "max_depth = 4\n",
    "max_features = \"sqrt\""
   ]
  },
  {
   "cell_type": "code",
   "execution_count": 243,
   "metadata": {},
   "outputs": [
    {
     "name": "stdout",
     "output_type": "stream",
     "text": [
      "train_mae :  345.177661175\n",
      "val_mae :  347.540147257\n"
     ]
    }
   ],
   "source": [
    "rf = RandomForestRegressor(n_estimators = n_estimators, max_depth = max_depth, max_features=max_features)\n",
    "rf.fit(X_train, Y_train)\n",
    "Y_train_pred = rf.predict(X_train)\n",
    "Y_val_pred = rf.predict(X_val)\n",
    "print(\"train_mae : \", np.abs(Y_train_pred - Y_train).mean())\n",
    "print(\"val_mae : \", np.abs(Y_val_pred - Y_val).mean())"
   ]
  },
  {
   "cell_type": "code",
   "execution_count": 244,
   "metadata": {
    "collapsed": true
   },
   "outputs": [],
   "source": [
    "Y_test_pred = rf.predict(X_test)"
   ]
  },
  {
   "cell_type": "code",
   "execution_count": 246,
   "metadata": {},
   "outputs": [
    {
     "data": {
      "text/plain": [
       "[<matplotlib.lines.Line2D at 0x119bca5f8>]"
      ]
     },
     "execution_count": 246,
     "metadata": {},
     "output_type": "execute_result"
    },
    {
     "data": {
      "image/png": "[encoded data removed]",
      "text/plain": [
       "<matplotlib.figure.Figure at 0x11ee15e10>"
      ]
     },
     "metadata": {},
     "output_type": "display_data"
    }
   ],
   "source": [
    "plt.plot(Y_test_pred[0:1000])"
   ]
  },
  {
   "cell_type": "code",
   "execution_count": null,
   "metadata": {
    "collapsed": true
   },
   "outputs": [],
   "source": []
  }
 ],
 "metadata": {
  "kernelspec": {
   "display_name": "Python 3",
   "language": "python",
   "name": "python3"
  },
  "language_info": {
   "codemirror_mode": {
    "name": "ipython",
    "version": 3
   },
   "file_extension": ".py",
   "mimetype": "text/x-python",
   "name": "python",
   "nbconvert_exporter": "python",
   "pygments_lexer": "ipython3",
   "version": "3.5.3"
  }
 },
 "nbformat": 4,
 "nbformat_minor": 2
}
