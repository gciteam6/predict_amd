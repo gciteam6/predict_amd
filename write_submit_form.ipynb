{
 "cells": [
  {
   "cell_type": "markdown",
   "metadata": {},
   "source": [
    "### **特定のモデルの予測値を書き出す**"
   ]
  },
  {
   "cell_type": "code",
   "execution_count": 2,
   "metadata": {
    "collapsed": true
   },
   "outputs": [],
   "source": [
    "# データ加工・処理・分析モジュール\n",
    "import numpy as np\n",
    "import pandas as pd\n",
    "import matplotlib.pyplot as plt\n",
    "\n",
    "from sklearn.ensemble import RandomForestRegressor\n",
    "from sklearn.model_selection import train_test_split\n",
    "from sklearn.model_selection import KFold\n",
    "\n",
    "import os\n",
    "import random\n",
    "\n",
    "%matplotlib inline\n",
    "\n",
    "import time"
   ]
  },
  {
   "cell_type": "code",
   "execution_count": 3,
   "metadata": {
    "collapsed": true
   },
   "outputs": [],
   "source": [
    "def set_time(dataframe, col_name):\n",
    "    '''\n",
    "    to_datetimeを使うための前処理\n",
    "    '''\n",
    "    dataframe[col_name] = dataframe[col_name].map(lambda x : transform_time(x))\n",
    "    return dataframe"
   ]
  },
  {
   "cell_type": "code",
   "execution_count": 4,
   "metadata": {
    "collapsed": true
   },
   "outputs": [],
   "source": [
    "def add_time_sincos(input_data, key=\"datetime\"):\n",
    "    '''\n",
    "    時間や月のデータを加える\n",
    "    '''\n",
    "    input_data['hour'] = input_data['datetime'].map(lambda x: int(x.hour))\n",
    "    input_data['minute'] = input_data['datetime'].map(lambda x: int(x.minute))\n",
    "    input_data['month'] = input_data['datetime'].map(lambda x: int(x.month))\n",
    "    input_data['month_cos'] = input_data['month'].map(lambda x: np.cos(np.pi * x / 12))\n",
    "    input_data['month_sin'] = input_data['month'].map(lambda x: np.sin(np.pi * x / 12))\n",
    "    input_data['hour_cos'] = input_data['hour'].map(lambda x: np.cos(np.pi * x / 24))\n",
    "    input_data['hour_sin'] = input_data['hour'].map(lambda x: np.sin(np.pi * x / 24))\n",
    "    input_data['year'] = input_data['datetime'].map(lambda x: int(x.year))\n",
    "    input_data = input_data.drop(['hour', 'month', 'minute'], axis=1)\n",
    "    return input_data"
   ]
  },
  {
   "cell_type": "code",
   "execution_count": 5,
   "metadata": {
    "collapsed": true
   },
   "outputs": [],
   "source": [
    "def transform_time(x):\n",
    "    '''\n",
    "    set_time内で使う関数\n",
    "    to_datetimeで24時をサポートしないので00に変更する処理\n",
    "    '''\n",
    "    str_x = str(x)\n",
    "    res = ''\n",
    "    if str(x)[8:10] == '24':\n",
    "        res = str_x[0:4] + '-' + str_x[4:6] + '-' + str_x[6:8] + ' 00:'+str_x[10:12] \n",
    "    else:\n",
    "        res = str_x[0:4] + '-' + str_x[4:6] + '-' + str_x[6:8] + ' '+ str_x[8:10] +':'+str_x[10:12]\n",
    "    return res"
   ]
  },
  {
   "cell_type": "code",
   "execution_count": 6,
   "metadata": {
    "collapsed": true
   },
   "outputs": [],
   "source": [
    "def drop_nan(X, Y):\n",
    "    '''\n",
    "    正解データがnanであるデータの組を削除\n",
    "    '''\n",
    "    mask = np.isnan(Y)\n",
    "    X = X[~mask]\n",
    "    Y = Y[~mask]\n",
    "    return X, Y"
   ]
  },
  {
   "cell_type": "code",
   "execution_count": 7,
   "metadata": {
    "collapsed": true
   },
   "outputs": [],
   "source": [
    "def to_zero(prediction):\n",
    "    '''\n",
    "    2012年から2015年の間で一度も発電量がなかった時間帯を0と予測するようにする\n",
    "    '''\n",
    "    mask = np.array([0,0,0,0,0,0,0,0,0,0,1,1,\n",
    "                    1,1,1,1,1,1,1,1,1,1,1,1,\n",
    "                    1,1,1,1,1,1,1,1,1,1,1,1,\n",
    "                    1,1,0,0,0,0,0,0,0,0,0,0])\n",
    "    all_mask = np.array([0,0,0,0,0,0,0,0,0,0,1,1,\n",
    "                        1,1,1,1,1,1,1,1,1,1,1,1,\n",
    "                        1,1,1,1,1,1,1,1,1,1,1,1,\n",
    "                        1,1,0,0,0,0,0,0,0,0,0,0])\n",
    "    length = int(len(prediction)/48)\n",
    "    \n",
    "    for i in range(length-1):\n",
    "        all_mask = np.r_[all_mask, mask]\n",
    "    \n",
    "    return prediction * all_mask"
   ]
  },
  {
   "cell_type": "code",
   "execution_count": 8,
   "metadata": {
    "collapsed": true
   },
   "outputs": [],
   "source": [
    "# 発電量データ\n",
    "all_output_30 = pd.read_csv('data/processed_data/out_put.tsv', delimiter = '\\t')\n",
    "all_output_30['datetime'] = all_output_30['datetime'].map(lambda x : pd.to_datetime(x))"
   ]
  },
  {
   "cell_type": "code",
   "execution_count": 1,
   "metadata": {
    "collapsed": true
   },
   "outputs": [],
   "source": [
    "target_place = 1"
   ]
  },
  {
   "cell_type": "code",
   "execution_count": null,
   "metadata": {
    "collapsed": true
   },
   "outputs": [],
   "source": [
    "# いろんなモデルの予測値の集合(ほんちゃん)\n",
    "test_prediction = pd.read_csv(\"data/predicted_data/predict_SOLA0\"+str(target_place)+\".tsv\", delimiter=\"\\t\")\n",
    "test_prediction['datetime'] = test_prediction['datetime'].map(lambda x : pd.to_datetime(x))"
   ]
  },
  {
   "cell_type": "code",
   "execution_count": null,
   "metadata": {
    "collapsed": true
   },
   "outputs": [],
   "source": [
    "test_prediction.columns"
   ]
  },
  {
   "cell_type": "code",
   "execution_count": null,
   "metadata": {
    "collapsed": true
   },
   "outputs": [],
   "source": [
    "keys = [\"targetplace_1_limited_scaled_kwh_all_wfc_sigmoid_hidden_100_1000_1-3folds\",\n",
    "        \"targetplace_1_limited_scaled_kwh_all_wfc_sigmoid_hidden_100_1000_2-3folds\",\n",
    "        \"targetplace_1_limited_scaled_kwh_all_wfc_sigmoid_hidden_100_1000_3-3folds\"]\n",
    "tmp = test_prediction[keys]\n",
    "tmp = tmp.mean(axis=1)"
   ]
  },
  {
   "cell_type": "code",
   "execution_count": null,
   "metadata": {
    "collapsed": true
   },
   "outputs": [],
   "source": [
    "# 2016/01/01 00:00 ~ 2017/3/31 23:30の予測データを書き出す\n",
    "predict_data[\"blending_\"+str(target_place)] = tmp"
   ]
  },
  {
   "cell_type": "code",
   "execution_count": 1,
   "metadata": {
    "collapsed": true
   },
   "outputs": [],
   "source": [
    "target_place = 2"
   ]
  },
  {
   "cell_type": "code",
   "execution_count": null,
   "metadata": {
    "collapsed": true
   },
   "outputs": [],
   "source": [
    "# いろんなモデルの予測値の集合(ほんちゃん)\n",
    "test_prediction = pd.read_csv(\"data/predicted_data/predict_SOLA0\"+str(target_place)+\".tsv\", delimiter=\"\\t\")\n",
    "test_prediction['datetime'] = test_prediction['datetime'].map(lambda x : pd.to_datetime(x))"
   ]
  },
  {
   "cell_type": "code",
   "execution_count": null,
   "metadata": {
    "collapsed": true
   },
   "outputs": [],
   "source": [
    "test_prediction.columns"
   ]
  },
  {
   "cell_type": "code",
   "execution_count": null,
   "metadata": {
    "collapsed": true
   },
   "outputs": [],
   "source": [
    "keys = [\"targetplace_1_limited_scaled_kwh_all_wfc_sigmoid_hidden_100_1000_1-3folds\",\n",
    "        \"targetplace_1_limited_scaled_kwh_all_wfc_sigmoid_hidden_100_1000_2-3folds\",\n",
    "        \"targetplace_1_limited_scaled_kwh_all_wfc_sigmoid_hidden_100_1000_3-3folds\"]\n",
    "tmp = test_prediction[keys]\n",
    "tmp = tmp.mean(axis=1)"
   ]
  },
  {
   "cell_type": "code",
   "execution_count": null,
   "metadata": {
    "collapsed": true
   },
   "outputs": [],
   "source": [
    "# 2016/01/01 00:00 ~ 2017/3/31 23:30の予測データを書き出す\n",
    "predict_data[\"blending_\"+str(target_place)] = tmp"
   ]
  },
  {
   "cell_type": "code",
   "execution_count": 1,
   "metadata": {
    "collapsed": true
   },
   "outputs": [],
   "source": [
    "target_place = 3"
   ]
  },
  {
   "cell_type": "code",
   "execution_count": null,
   "metadata": {
    "collapsed": true
   },
   "outputs": [],
   "source": [
    "# いろんなモデルの予測値の集合(ほんちゃん)\n",
    "test_prediction = pd.read_csv(\"data/predicted_data/predict_SOLA0\"+str(target_place)+\".tsv\", delimiter=\"\\t\")\n",
    "test_prediction['datetime'] = test_prediction['datetime'].map(lambda x : pd.to_datetime(x))"
   ]
  },
  {
   "cell_type": "code",
   "execution_count": null,
   "metadata": {
    "collapsed": true
   },
   "outputs": [],
   "source": [
    "test_prediction.columns"
   ]
  },
  {
   "cell_type": "code",
   "execution_count": null,
   "metadata": {
    "collapsed": true
   },
   "outputs": [],
   "source": [
    "keys = [\"targetplace_1_limited_scaled_kwh_all_wfc_sigmoid_hidden_100_1000_1-3folds\",\n",
    "        \"targetplace_1_limited_scaled_kwh_all_wfc_sigmoid_hidden_100_1000_2-3folds\",\n",
    "        \"targetplace_1_limited_scaled_kwh_all_wfc_sigmoid_hidden_100_1000_3-3folds\"]\n",
    "tmp = test_prediction[keys]\n",
    "tmp = tmp.mean(axis=1)"
   ]
  },
  {
   "cell_type": "code",
   "execution_count": null,
   "metadata": {
    "collapsed": true
   },
   "outputs": [],
   "source": [
    "# 2016/01/01 00:00 ~ 2017/3/31 23:30の予測データを書き出す\n",
    "predict_data[\"blending_\"+str(target_place)] = tmp"
   ]
  },
  {
   "cell_type": "code",
   "execution_count": null,
   "metadata": {
    "collapsed": true
   },
   "outputs": [],
   "source": [
    "def minus_to_zero(x):\n",
    "    if x < 0:\n",
    "        return 0\n",
    "    else:\n",
    "        return x"
   ]
  },
  {
   "cell_type": "code",
   "execution_count": null,
   "metadata": {
    "collapsed": true
   },
   "outputs": [],
   "source": [
    "predict_data[\"blending_1\"] = predict_data[\"blending_1\"].map(lambda x: minus_to_zero(x))\n",
    "predict_data[\"blending_2\"] = predict_data[\"blending_2\"].map(lambda x: minus_to_zero(x))\n",
    "predict_data[\"blending_3\"] = predict_data[\"blending_3\"].map(lambda x: minus_to_zero(x))"
   ]
  },
  {
   "cell_type": "code",
   "execution_count": null,
   "metadata": {
    "collapsed": true
   },
   "outputs": [],
   "source": [
    "predict_data"
   ]
  },
  {
   "cell_type": "code",
   "execution_count": null,
   "metadata": {
    "collapsed": true
   },
   "outputs": [],
   "source": [
    "predict_data.to_csv('data/predicted_data/simple_blending_prediction.tsv', sep = '\\t', index=False)"
   ]
  }
 ],
 "metadata": {
  "kernelspec": {
   "display_name": "Python 3",
   "language": "python",
   "name": "python3"
  },
  "language_info": {
   "codemirror_mode": {
    "name": "ipython",
    "version": 3
   },
   "file_extension": ".py",
   "mimetype": "text/x-python",
   "name": "python",
   "nbconvert_exporter": "python",
   "pygments_lexer": "ipython3",
   "version": "3.5.3"
  }
 },
 "nbformat": 4,
 "nbformat_minor": 2
}
