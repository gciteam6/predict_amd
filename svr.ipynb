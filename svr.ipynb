{
 "cells": [
  {
   "cell_type": "markdown",
   "metadata": {},
   "source": [
    "# **SVRのパラメーターチューニングを行う**"
   ]
  },
  {
   "cell_type": "markdown",
   "metadata": {},
   "source": [
    "### **必要な関数・ライブラリ**"
   ]
  },
  {
   "cell_type": "code",
   "execution_count": 40,
   "metadata": {
    "collapsed": true
   },
   "outputs": [],
   "source": [
    "# データ加工・処理・分析モジュール\n",
    "import numpy as np\n",
    "import pandas as pd\n",
    "import matplotlib.pyplot as plt\n",
    "\n",
    "from sklearn.model_selection import train_test_split\n",
    "from sklearn.model_selection import KFold\n",
    "\n",
    "from sklearn.externals import joblib\n",
    "\n",
    "%matplotlib inline"
   ]
  },
  {
   "cell_type": "code",
   "execution_count": 2,
   "metadata": {
    "collapsed": true
   },
   "outputs": [],
   "source": [
    "def set_time(dataframe, col_name):\n",
    "    '''\n",
    "    to_datetimeを使うための前処理\n",
    "    '''\n",
    "    dataframe[col_name] = dataframe[col_name].map(lambda x : transform_time(x))\n",
    "    return dataframe"
   ]
  },
  {
   "cell_type": "code",
   "execution_count": 3,
   "metadata": {
    "collapsed": true
   },
   "outputs": [],
   "source": [
    "def transform_time(x):\n",
    "    '''\n",
    "    set_time内で使う関数\n",
    "    to_datetimeで24時をサポートしないので00に変更する処理\n",
    "    '''\n",
    "    str_x = str(x)\n",
    "    res = ''\n",
    "    if str(x)[8:10] == '24':\n",
    "        res = str_x[0:4] + '-' + str_x[4:6] + '-' + str_x[6:8] + ' 00:'+str_x[10:12] \n",
    "    else:\n",
    "        res = str_x[0:4] + '-' + str_x[4:6] + '-' + str_x[6:8] + ' '+ str_x[8:10] +':'+str_x[10:12]\n",
    "    return res"
   ]
  },
  {
   "cell_type": "code",
   "execution_count": 4,
   "metadata": {
    "collapsed": true
   },
   "outputs": [],
   "source": [
    "def add_hour_month(input_data):\n",
    "    '''\n",
    "    時間や月のデータを加える\n",
    "    '''\n",
    "    input_data['hour'] = input_data['datetime'].map(lambda x: int(x.hour))\n",
    "    input_data['minute'] = input_data['datetime'].map(lambda x: int(x.minute))\n",
    "    input_data['month'] = input_data['datetime'].map(lambda x: int(x.month))\n",
    "    input_data['month_cos'] = input_data['month'].map(lambda x: np.cos(np.pi * x / 12))\n",
    "    input_data['month_sin'] = input_data['month'].map(lambda x: np.sin(np.pi * x / 12))\n",
    "    input_data['hour_cos'] = input_data['hour'].map(lambda x: np.cos(np.pi * x / 24))\n",
    "    input_data['hour_sin'] = input_data['hour'].map(lambda x: np.sin(np.pi * x / 24))\n",
    "    input_data = input_data.drop(['hour', 'minute', 'month'], axis=1)\n",
    "    return input_data"
   ]
  },
  {
   "cell_type": "code",
   "execution_count": 5,
   "metadata": {
    "collapsed": true
   },
   "outputs": [],
   "source": [
    "def get_30(tmp_data):\n",
    "    '''\n",
    "    必要なカラムだけ拾ってきて30分ごのデータに整形\n",
    "    '''\n",
    "    tmp_data = tmp_data[[\"datetime\", \"pr\", \"max_ws\", \"ave_ws\", \"max_tp\", \"min_tp\", \"sl\"]]\n",
    "    \n",
    "    # 欠損値を一つ前の値で置換/output_data\n",
    "    tmp_data = tmp_data.fillna(method='bfill')\n",
    "    tmp_30 = tmp_data.set_index('datetime').groupby(pd.TimeGrouper(freq='1800s', closed='left')).sum()\n",
    "\n",
    "    # datetimeのカラムを復活させる\n",
    "    tmp_30['datetime'] = tmp_30.index\n",
    "    tmp_30.index = np.arange(len(tmp_30))\n",
    "    tmp_30.head()\n",
    "    return tmp_30"
   ]
  },
  {
   "cell_type": "code",
   "execution_count": 6,
   "metadata": {
    "collapsed": true
   },
   "outputs": [],
   "source": [
    "def add_time_data(input_data, key=\"datetime\"):\n",
    "    '''\n",
    "    時間や月のデータを加える\n",
    "    '''\n",
    "    input_data['month'] = input_data[key].map(lambda x: int(x.month))\n",
    "    input_data['month_cos'] = input_data['month'].map(lambda x: np.cos(np.pi * x / 12))\n",
    "    input_data['month_sin'] = input_data['month'].map(lambda x: np.sin(np.pi * x / 12))\n",
    "    input_data['hour'] = input_data[key].map(lambda x: int(x.month))\n",
    "    input_data['hour_cos'] = input_data['hour'].map(lambda x: np.cos(np.pi * x / 24))\n",
    "    input_data['hour_sin'] = input_data['hour'].map(lambda x: np.sin(np.pi * x / 24))\n",
    "    input_data = input_data.drop(['month', 'hour'], axis=1)\n",
    "    return input_data"
   ]
  },
  {
   "cell_type": "code",
   "execution_count": 7,
   "metadata": {
    "collapsed": true
   },
   "outputs": [],
   "source": [
    "def normalize_array(x):\n",
    "    '''\n",
    "    min, max, min-max正規化を行なった配列(np.array)を返す\n",
    "    '''\n",
    "    x = np.array(x)\n",
    "    x_min = x.min()\n",
    "    x_max = x.max()\n",
    "    normalized = (x - x_min) / (x_max - x_min) \n",
    "    return x_min, x_max, normalized"
   ]
  },
  {
   "cell_type": "code",
   "execution_count": 8,
   "metadata": {
    "collapsed": true
   },
   "outputs": [],
   "source": [
    "def denormalize_array(normalized_x, x_min, x_max):\n",
    "    '''\n",
    "    正規化前のmin, maxを用いて元のスケールに戻す\n",
    "    '''\n",
    "    normalized_x = np.array(normalized_x)\n",
    "    denormalize_array = (normalized_x) * (x_max - x_min) + x_min\n",
    "    return denormalize_array"
   ]
  },
  {
   "cell_type": "code",
   "execution_count": 9,
   "metadata": {
    "collapsed": true
   },
   "outputs": [],
   "source": [
    "def drop_nan(X, Y):\n",
    "    '''\n",
    "    正解データがnanであるデータの組を削除\n",
    "    '''\n",
    "    mask = np.isnan(Y)\n",
    "    X = X[~mask]\n",
    "    Y = Y[~mask]\n",
    "    return X, Y"
   ]
  },
  {
   "cell_type": "code",
   "execution_count": 10,
   "metadata": {
    "collapsed": true
   },
   "outputs": [],
   "source": [
    "def calc_mae(X, Y):\n",
    "    '''\n",
    "    X, Yがメモリを食いすぎるのでfor文で計算\n",
    "    '''\n",
    "    mse = 0\n",
    "    for i in range(len(X)):\n",
    "        mse += np.abs(X[i]- Y[i])\n",
    "    return mse/len(X)"
   ]
  },
  {
   "cell_type": "code",
   "execution_count": 11,
   "metadata": {
    "collapsed": true
   },
   "outputs": [],
   "source": [
    "def scaling_output(output_30):\n",
    "    '''\n",
    "    直近2015年の総発電量に合わせて他の年の初で量も合わせる関数\n",
    "    '''\n",
    "    output_30['year'] = output_30['datetime'].map(lambda x : x.year)\n",
    "    y_output = output_30.groupby(['year'], as_index=False).sum()\n",
    "    sum_2012 = y_output[\"SOLA0\"+str(target_place)][0]\n",
    "    sum_2013 = y_output[\"SOLA0\"+str(target_place)][1]\n",
    "    sum_2014 = y_output[\"SOLA0\"+str(target_place)][2]\n",
    "    sum_2015 = y_output[\"SOLA0\"+str(target_place)][3]\n",
    "    scaled_2012 = np.array(output_30[output_30['year'] == 2012][\"SOLA0\"+str(target_place)].map(lambda x : x * sum_2015/sum_2012))\n",
    "    scaled_2013 = np.array(output_30[output_30['year'] == 2013][\"SOLA0\"+str(target_place)].map(lambda x : x * sum_2015/sum_2013))\n",
    "    scaled_2014 = np.array(output_30[output_30['year'] == 2014][\"SOLA0\"+str(target_place)].map(lambda x : x * sum_2015/sum_2014))\n",
    "    scaled_2015 = np.array(output_30[output_30['year'] == 2015][\"SOLA0\"+str(target_place)])\n",
    "    tmp = np.r_[scaled_2012, scaled_2013, scaled_2014, scaled_2015]\n",
    "    output_30[\"SOLA0\"+str(target_place)] = tmp\n",
    "    \n",
    "    return output_30"
   ]
  },
  {
   "cell_type": "code",
   "execution_count": 12,
   "metadata": {
    "collapsed": true
   },
   "outputs": [],
   "source": [
    "def wv_to_sin(x):\n",
    "    '''\n",
    "    漢字になってる風向データをsinになおす\n",
    "    '''\n",
    "    if x == \"北\":\n",
    "        return -1.0\n",
    "    elif x == \"北西\":\n",
    "        return -0.5\n",
    "    elif x == \"西\":\n",
    "        return 0.0\n",
    "    elif x == \"南西\":\n",
    "        return 0.5\n",
    "    elif x == \"南\":\n",
    "        return 1.0\n",
    "    elif x == \"南東\":\n",
    "        return 0.5\n",
    "    elif x == \"東\":\n",
    "        return 0\n",
    "    else:\n",
    "        return -0.5"
   ]
  },
  {
   "cell_type": "code",
   "execution_count": 13,
   "metadata": {
    "collapsed": true
   },
   "outputs": [],
   "source": [
    "def wv_to_cos(x):\n",
    "    '''\n",
    "    漢字になってる風向データをcosになおす\n",
    "    '''\n",
    "    \n",
    "    if x == \"北\":\n",
    "        return 0.0\n",
    "    elif x == \"北西\":\n",
    "        return 0.5\n",
    "    elif x == \"西\":\n",
    "        return 1.0\n",
    "    elif x == \"南西\":\n",
    "        return 0.5\n",
    "    elif x == \"南\":\n",
    "        return 0.0\n",
    "    elif x == \"南東\":\n",
    "        return -0.5\n",
    "    elif x == \"東\":\n",
    "        return -1.0\n",
    "    else:\n",
    "        return -0.5"
   ]
  },
  {
   "cell_type": "code",
   "execution_count": 14,
   "metadata": {
    "collapsed": true
   },
   "outputs": [],
   "source": [
    "def extract_hours(output_30):\n",
    "    '''\n",
    "    決まった時間帯のみを予測するための関数\n",
    "    '''\n",
    "    output_30[ \"hour\"] = output_30[\"datetime\"].map(lambda x : x.hour)\n",
    "    output_30 = output_30[output_30[\"hour\"] > 6]\n",
    "    output_30 = output_30[output_30[\"hour\"] < 20]\n",
    "    output_30 = output_30.drop([\"hour\"], axis=1)\n",
    "    return output_30"
   ]
  },
  {
   "cell_type": "code",
   "execution_count": 15,
   "metadata": {
    "collapsed": true
   },
   "outputs": [],
   "source": [
    "def minus_to_zero(x):\n",
    "    if x < 0:\n",
    "        return 0\n",
    "    else:\n",
    "        return x"
   ]
  },
  {
   "cell_type": "markdown",
   "metadata": {},
   "source": [
    "### **データの準備**"
   ]
  },
  {
   "cell_type": "code",
   "execution_count": 16,
   "metadata": {
    "collapsed": true
   },
   "outputs": [],
   "source": [
    "target_place = 3"
   ]
  },
  {
   "cell_type": "code",
   "execution_count": 17,
   "metadata": {
    "collapsed": true
   },
   "outputs": [],
   "source": [
    "# 発電量データ\n",
    "output_30 = pd.read_csv('data/processed_data/out_put.tsv', delimiter = '\\t')\n",
    "output_30['datetime'] = output_30['datetime'].map(lambda x : pd.to_datetime(x))\n",
    "output_30 = output_30[['datetime', 'SOLA0'+str(target_place)]]\n",
    "output_30 = scaling_output(output_30)"
   ]
  },
  {
   "cell_type": "code",
   "execution_count": 18,
   "metadata": {
    "collapsed": true
   },
   "outputs": [],
   "source": [
    "# 天気予報のデータを実は今まで使ってなかった\n",
    "if target_place == 1 or target_place == 2:\n",
    "    fc_data = pd.read_csv('data/raw_data/forecast_kanagawa.tsv', delimiter = '\\t')\n",
    "    fc_data['date'] = fc_data['date'].map(lambda x : pd.to_datetime(x))\n",
    "elif target_place == 3:\n",
    "    fc_data = pd.read_csv('data/raw_data/forecast_yamanashi.tsv', delimiter = '\\t')\n",
    "    fc_data['date'] = fc_data['date'].map(lambda x : pd.to_datetime(x))\n",
    "else:\n",
    "    raise ValueError(\"invalid input target_place\")"
   ]
  },
  {
   "cell_type": "code",
   "execution_count": 19,
   "metadata": {},
   "outputs": [
    {
     "data": {
      "text/plain": [
       "Index(['date', 'weather', 'weather_detail', 'wind', 'wave', 'pc_00-06',\n",
       "       'pc_06-12', 'pc_12-18', 'pc_18-24', 'we_00-03', 'we_03-06', 'we_06-09',\n",
       "       'we_09-12', 'we_12-15', 'we_15-18', 'we_18-21', 'we_21-24', 'wv_00-03',\n",
       "       'wv_03-06', 'wv_06-09', 'wv_09-12', 'wv_12-15', 'wv_15-18', 'wv_18-21',\n",
       "       'wv_21-24', 'wc_00-03', 'wc_03-06', 'wc_06-09', 'wc_09-12', 'wc_12-15',\n",
       "       'wc_15-18', 'wc_18-21', 'wc_21-24', 'min_tp', 'max_tp', 'tp_00-03',\n",
       "       'tp_03-06', 'tp_06-09', 'tp_09-12', 'tp_12-15', 'tp_15-18', 'tp_18-21',\n",
       "       'tp_21-24'],\n",
       "      dtype='object')"
      ]
     },
     "execution_count": 19,
     "metadata": {},
     "output_type": "execute_result"
    }
   ],
   "source": [
    "fc_data.columns"
   ]
  },
  {
   "cell_type": "code",
   "execution_count": 20,
   "metadata": {
    "collapsed": true
   },
   "outputs": [],
   "source": [
    "# 各データ期間のタイムスタンプを作成\n",
    "# 学習＋評価期間：30分間隔\n",
    "total_rng = pd.date_range(\"201201010000\", \"201703312330\", freq=\"30T\")"
   ]
  },
  {
   "cell_type": "code",
   "execution_count": 21,
   "metadata": {
    "collapsed": true
   },
   "outputs": [],
   "source": [
    "input_df= pd.DataFrame()\n",
    "input_df[\"datetime\"] = total_rng"
   ]
  },
  {
   "cell_type": "code",
   "execution_count": 22,
   "metadata": {
    "collapsed": true
   },
   "outputs": [],
   "source": [
    "# 3時間毎天気予報の追加\n",
    "fc_weather = fc_data.loc[:,fc_data.columns.str.startswith(\"we_\")]\n",
    "fc_weather = fc_weather.values.flatten()\n",
    "fc_weather = np.repeat(fc_weather, 6)\n",
    "input_df[\"weather\"] = fc_weather\n",
    "\n",
    "# 3時間毎気温の追加\n",
    "fc_weather = fc_data.loc[:,fc_data.columns.str.startswith(\"tp_\")]\n",
    "fc_weather = fc_weather.values.flatten()\n",
    "fc_weather = np.repeat(fc_weather, 6)\n",
    "input_df[\"tp\"] = fc_weather\n",
    "\n",
    "# 3時間毎風向の追加\n",
    "fc_weather = fc_data.loc[:,fc_data.columns.str.startswith(\"wv_\")]\n",
    "fc_weather = fc_weather.values.flatten()\n",
    "fc_weather = np.repeat(fc_weather, 6)\n",
    "input_df[\"wv\"] = fc_weather\n",
    "input_df[\"wv_cos\"] = input_df[\"wv\"].map(lambda x : wv_to_cos(x))\n",
    "input_df[\"wv_sin\"] = input_df[\"wv\"].map(lambda x : wv_to_sin(x))\n",
    "input_df = input_df.drop([\"wv\"], axis=1)\n",
    "\n",
    "# 3時間毎風速の追加\n",
    "fc_weather = fc_data.loc[:,fc_data.columns.str.startswith(\"wc_\")]\n",
    "fc_weather = fc_weather.values.flatten()\n",
    "fc_weather = np.repeat(fc_weather, 6)\n",
    "input_df[\"wc\"] = fc_weather\n",
    "\n",
    "# 6時間毎降水確率の追加\n",
    "fc_weather = fc_data.loc[:,fc_data.columns.str.startswith(\"pc_\")]\n",
    "fc_weather = fc_weather.values.flatten()\n",
    "fc_weather = np.repeat(fc_weather, 12)\n",
    "input_df[\"pc\"] = fc_weather"
   ]
  },
  {
   "cell_type": "code",
   "execution_count": 23,
   "metadata": {
    "collapsed": true
   },
   "outputs": [],
   "source": [
    "input_df['month'] = input_df['datetime'].map(lambda x: str(x.month))\n",
    "input_df['hour'] = input_df['datetime'].map(lambda x : str(x.hour))"
   ]
  },
  {
   "cell_type": "code",
   "execution_count": 24,
   "metadata": {
    "collapsed": true
   },
   "outputs": [],
   "source": [
    "# sincosのダミー変数は使わない\n",
    "input_df = pd.get_dummies(input_df)"
   ]
  },
  {
   "cell_type": "code",
   "execution_count": 25,
   "metadata": {},
   "outputs": [
    {
     "data": {
      "text/html": [
       "<div>\n",
       "<style>\n",
       "    .dataframe thead tr:only-child th {\n",
       "        text-align: right;\n",
       "    }\n",
       "\n",
       "    .dataframe thead th {\n",
       "        text-align: left;\n",
       "    }\n",
       "\n",
       "    .dataframe tbody tr th {\n",
       "        vertical-align: top;\n",
       "    }\n",
       "</style>\n",
       "<table border=\"1\" class=\"dataframe\">\n",
       "  <thead>\n",
       "    <tr style=\"text-align: right;\">\n",
       "      <th></th>\n",
       "      <th>datetime</th>\n",
       "      <th>tp</th>\n",
       "      <th>wv_cos</th>\n",
       "      <th>wv_sin</th>\n",
       "      <th>wc</th>\n",
       "      <th>pc</th>\n",
       "      <th>weather_くもり</th>\n",
       "      <th>weather_晴れ</th>\n",
       "      <th>weather_雨</th>\n",
       "      <th>weather_雪</th>\n",
       "      <th>...</th>\n",
       "      <th>hour_21</th>\n",
       "      <th>hour_22</th>\n",
       "      <th>hour_23</th>\n",
       "      <th>hour_3</th>\n",
       "      <th>hour_4</th>\n",
       "      <th>hour_5</th>\n",
       "      <th>hour_6</th>\n",
       "      <th>hour_7</th>\n",
       "      <th>hour_8</th>\n",
       "      <th>hour_9</th>\n",
       "    </tr>\n",
       "  </thead>\n",
       "  <tbody>\n",
       "    <tr>\n",
       "      <th>0</th>\n",
       "      <td>2012-01-01 00:00:00</td>\n",
       "      <td>1</td>\n",
       "      <td>0.5</td>\n",
       "      <td>0.5</td>\n",
       "      <td>2</td>\n",
       "      <td>10</td>\n",
       "      <td>1</td>\n",
       "      <td>0</td>\n",
       "      <td>0</td>\n",
       "      <td>0</td>\n",
       "      <td>...</td>\n",
       "      <td>0</td>\n",
       "      <td>0</td>\n",
       "      <td>0</td>\n",
       "      <td>0</td>\n",
       "      <td>0</td>\n",
       "      <td>0</td>\n",
       "      <td>0</td>\n",
       "      <td>0</td>\n",
       "      <td>0</td>\n",
       "      <td>0</td>\n",
       "    </tr>\n",
       "    <tr>\n",
       "      <th>1</th>\n",
       "      <td>2012-01-01 00:30:00</td>\n",
       "      <td>1</td>\n",
       "      <td>0.5</td>\n",
       "      <td>0.5</td>\n",
       "      <td>2</td>\n",
       "      <td>10</td>\n",
       "      <td>1</td>\n",
       "      <td>0</td>\n",
       "      <td>0</td>\n",
       "      <td>0</td>\n",
       "      <td>...</td>\n",
       "      <td>0</td>\n",
       "      <td>0</td>\n",
       "      <td>0</td>\n",
       "      <td>0</td>\n",
       "      <td>0</td>\n",
       "      <td>0</td>\n",
       "      <td>0</td>\n",
       "      <td>0</td>\n",
       "      <td>0</td>\n",
       "      <td>0</td>\n",
       "    </tr>\n",
       "    <tr>\n",
       "      <th>2</th>\n",
       "      <td>2012-01-01 01:00:00</td>\n",
       "      <td>1</td>\n",
       "      <td>0.5</td>\n",
       "      <td>0.5</td>\n",
       "      <td>2</td>\n",
       "      <td>10</td>\n",
       "      <td>1</td>\n",
       "      <td>0</td>\n",
       "      <td>0</td>\n",
       "      <td>0</td>\n",
       "      <td>...</td>\n",
       "      <td>0</td>\n",
       "      <td>0</td>\n",
       "      <td>0</td>\n",
       "      <td>0</td>\n",
       "      <td>0</td>\n",
       "      <td>0</td>\n",
       "      <td>0</td>\n",
       "      <td>0</td>\n",
       "      <td>0</td>\n",
       "      <td>0</td>\n",
       "    </tr>\n",
       "    <tr>\n",
       "      <th>3</th>\n",
       "      <td>2012-01-01 01:30:00</td>\n",
       "      <td>1</td>\n",
       "      <td>0.5</td>\n",
       "      <td>0.5</td>\n",
       "      <td>2</td>\n",
       "      <td>10</td>\n",
       "      <td>1</td>\n",
       "      <td>0</td>\n",
       "      <td>0</td>\n",
       "      <td>0</td>\n",
       "      <td>...</td>\n",
       "      <td>0</td>\n",
       "      <td>0</td>\n",
       "      <td>0</td>\n",
       "      <td>0</td>\n",
       "      <td>0</td>\n",
       "      <td>0</td>\n",
       "      <td>0</td>\n",
       "      <td>0</td>\n",
       "      <td>0</td>\n",
       "      <td>0</td>\n",
       "    </tr>\n",
       "    <tr>\n",
       "      <th>4</th>\n",
       "      <td>2012-01-01 02:00:00</td>\n",
       "      <td>1</td>\n",
       "      <td>0.5</td>\n",
       "      <td>0.5</td>\n",
       "      <td>2</td>\n",
       "      <td>10</td>\n",
       "      <td>1</td>\n",
       "      <td>0</td>\n",
       "      <td>0</td>\n",
       "      <td>0</td>\n",
       "      <td>...</td>\n",
       "      <td>0</td>\n",
       "      <td>0</td>\n",
       "      <td>0</td>\n",
       "      <td>0</td>\n",
       "      <td>0</td>\n",
       "      <td>0</td>\n",
       "      <td>0</td>\n",
       "      <td>0</td>\n",
       "      <td>0</td>\n",
       "      <td>0</td>\n",
       "    </tr>\n",
       "  </tbody>\n",
       "</table>\n",
       "<p>5 rows × 46 columns</p>\n",
       "</div>"
      ],
      "text/plain": [
       "             datetime  tp  wv_cos  wv_sin  wc  pc  weather_くもり  weather_晴れ  \\\n",
       "0 2012-01-01 00:00:00   1     0.5     0.5   2  10            1           0   \n",
       "1 2012-01-01 00:30:00   1     0.5     0.5   2  10            1           0   \n",
       "2 2012-01-01 01:00:00   1     0.5     0.5   2  10            1           0   \n",
       "3 2012-01-01 01:30:00   1     0.5     0.5   2  10            1           0   \n",
       "4 2012-01-01 02:00:00   1     0.5     0.5   2  10            1           0   \n",
       "\n",
       "   weather_雨  weather_雪   ...    hour_21  hour_22  hour_23  hour_3  hour_4  \\\n",
       "0          0          0   ...          0        0        0       0       0   \n",
       "1          0          0   ...          0        0        0       0       0   \n",
       "2          0          0   ...          0        0        0       0       0   \n",
       "3          0          0   ...          0        0        0       0       0   \n",
       "4          0          0   ...          0        0        0       0       0   \n",
       "\n",
       "   hour_5  hour_6  hour_7  hour_8  hour_9  \n",
       "0       0       0       0       0       0  \n",
       "1       0       0       0       0       0  \n",
       "2       0       0       0       0       0  \n",
       "3       0       0       0       0       0  \n",
       "4       0       0       0       0       0  \n",
       "\n",
       "[5 rows x 46 columns]"
      ]
     },
     "execution_count": 25,
     "metadata": {},
     "output_type": "execute_result"
    }
   ],
   "source": [
    "input_df.head()"
   ]
  },
  {
   "cell_type": "code",
   "execution_count": 26,
   "metadata": {
    "collapsed": true
   },
   "outputs": [],
   "source": [
    "# モデル構築のためにデータを分割する\n",
    "wfc_data = input_df\n",
    "\n",
    "# 学習に必要なデータ\n",
    "# 前日の気象予報のデータで翌日の0:00 ~ 23:30を予測する\n",
    "train_x_s_idx = wfc_data[wfc_data['datetime'] == pd.to_datetime('2012-01-01 00:00')].index[0]\n",
    "train_x_e_idx = wfc_data[wfc_data['datetime'] == pd.to_datetime('2015-12-31 23:30')].index[0]\n",
    "train_y_s_idx = output_30[output_30['datetime'] == pd.to_datetime('2012-01-01 00:00')].index[0]\n",
    "train_y_e_idx = output_30[output_30['datetime'] == pd.to_datetime('2015-12-31 23:30')].index[0]\n",
    "\n",
    "# 決まった時間帯のみを予測する\n",
    "# output_kwh = output_30[train_y_s_idx:train_y_e_idx+1]\n",
    "# output_kwh = extract_hours(output_kwh)[\"SOLA0\"+str(target_place)]\n",
    "# input_data = wfc_data[train_x_s_idx:train_x_e_idx+1]\n",
    "# input_data = extract_hours(input_data).drop([\"datetime\"], axis=1)\n",
    "\n",
    "output_kwh = output_30[\"SOLA0\"+str(target_place)][train_y_s_idx:train_y_e_idx+1]\n",
    "input_data = wfc_data.drop([\"datetime\"], axis=1)[train_x_s_idx:train_x_e_idx+1]\n",
    "\n",
    "# 予測に必要なデータ\n",
    "# 前日の00:00 ~ 20:00のデータで翌日の0:00 ~ 23:30を予測する\n",
    "test_x_s_idx = wfc_data[wfc_data[\"datetime\"] == pd.to_datetime('2016-01-01 00:00')].index[0]\n",
    "test_x_e_idx = wfc_data[wfc_data[\"datetime\"] == pd.to_datetime('2017-3-31 23:30')].index[0]\n",
    "\n",
    "# 決まった時間のみを予測する\n",
    "# test_input_data = wfc_data[test_x_s_idx:test_x_e_idx+1]\n",
    "# test_input_data = extract_hours(test_input_data).drop([\"datetime\"], axis=1)\n",
    "\n",
    "test_input_data = wfc_data.drop([\"datetime\"], axis=1)[test_x_s_idx:test_x_e_idx+1]"
   ]
  },
  {
   "cell_type": "code",
   "execution_count": 27,
   "metadata": {
    "collapsed": true
   },
   "outputs": [],
   "source": [
    "# min-max正規化しておく\n",
    "normalized_input = (input_data - input_data.min()) / (input_data.max() - input_data.min())\n",
    "normalized_input = normalized_input.dropna(axis=1)\n",
    "normalized_input = np.array(normalized_input)\n",
    "normalized_kwh = (output_kwh) /( output_kwh.max())\n",
    "normalized_kwh = np.array(normalized_kwh)\n",
    "\n",
    "input_list = normalized_input\n",
    "kwh_list =normalized_kwh\n",
    "\n",
    "X, Y = drop_nan(input_list, kwh_list)\n",
    "\n",
    "# testデータの入力を用意\n",
    "normalized_test_input = (test_input_data - test_input_data.min()) / (test_input_data.max() - test_input_data.min())\n",
    "normalized_test_input = normalized_test_input.dropna(axis=1)\n",
    "normalized_test_input = np.array(normalized_test_input)\n",
    "\n",
    "X_test = normalized_test_input\n",
    "\n",
    "# denormalize用\n",
    "kwh_max = float(output_kwh.max())\n",
    "kwh_min = 0"
   ]
  },
  {
   "cell_type": "code",
   "execution_count": 28,
   "metadata": {
    "collapsed": true
   },
   "outputs": [],
   "source": [
    "X_train, X_val, Y_train, Y_val = train_test_split(X, Y, test_size=int((X.shape[0] * 0.3)))"
   ]
  },
  {
   "cell_type": "markdown",
   "metadata": {},
   "source": [
    "### **とりあえず発電しない時間帯を除かない状態でやってます**"
   ]
  },
  {
   "cell_type": "markdown",
   "metadata": {},
   "source": [
    "### **SVR**"
   ]
  },
  {
   "cell_type": "code",
   "execution_count": 29,
   "metadata": {
    "collapsed": true
   },
   "outputs": [],
   "source": [
    "from sklearn.svm import SVR"
   ]
  },
  {
   "cell_type": "markdown",
   "metadata": {},
   "source": [
    "### **カーネルトリック無しだと思ってたらデフォルトがrbfでした**"
   ]
  },
  {
   "cell_type": "code",
   "execution_count": 32,
   "metadata": {
    "collapsed": true
   },
   "outputs": [],
   "source": [
    "# 最適なepsilonを決めたい\n",
    "C = 0.01\n",
    "t_maes = []\n",
    "v_maes = []\n",
    "epsilons = [0.00001, 0.00003, 0.0001, 0.0003, 0.001, 0.003, 0.01, 0.03, 0.1, 0.3]\n",
    "for epsilon in epsilons:\n",
    "    svr = SVR(C=C, epsilon=epsilon)\n",
    "    svr.fit(X_train, Y_train) \n",
    "\n",
    "    Y_train_pred = svr.predict(X_train)\n",
    "    Y_train_pred = denormalize_array(Y_train_pred, kwh_min, kwh_max)\n",
    "    Y_train_true = denormalize_array(Y_train, kwh_min, kwh_max)\n",
    "\n",
    "    Y_val_pred = svr.predict(X_val)\n",
    "    Y_val_pred = denormalize_array(Y_val_pred, kwh_min, kwh_max)\n",
    "    Y_val_true = denormalize_array(Y_val, kwh_min, kwh_max)\n",
    "    \n",
    "    t_maes.append(np.abs(Y_train_pred - Y_train_true).mean())\n",
    "    v_maes.append(np.abs(Y_val_pred - Y_val_true).mean())\n",
    "#     print(\"train_mae : \", np.abs(Y_train_pred - Y_train_true).mean())\n",
    "#     print(\"val_mae : \", np.abs(Y_val_pred - Y_val_true).mean())"
   ]
  },
  {
   "cell_type": "code",
   "execution_count": 35,
   "metadata": {},
   "outputs": [
    {
     "data": {
      "text/plain": [
       "<matplotlib.legend.Legend at 0x1206b27f0>"
      ]
     },
     "execution_count": 35,
     "metadata": {},
     "output_type": "execute_result"
    },
    {
     "data": {
      "image/png": "[encoded data removed]",
      "text/plain": [
       "<matplotlib.figure.Figure at 0x119b334e0>"
      ]
     },
     "metadata": {},
     "output_type": "display_data"
    }
   ],
   "source": [
    "plt.plot(t_maes, 's', label=\"train_maes\")\n",
    "plt.plot(v_maes, 'd', label=\"validation_maes\")\n",
    "plt.xticks(np.arange(len(epsilons)), epsilons)\n",
    "plt.xlabel(\"epsilon\")\n",
    "plt.title(\"decide epsilon\")\n",
    "plt.legend()"
   ]
  },
  {
   "cell_type": "code",
   "execution_count": 38,
   "metadata": {},
   "outputs": [
    {
     "data": {
      "text/plain": [
       "<matplotlib.legend.Legend at 0x121b37a58>"
      ]
     },
     "execution_count": 38,
     "metadata": {},
     "output_type": "execute_result"
    },
    {
     "data": {
      "image/png": "[encoded data removed]",
      "text/plain": [
       "<matplotlib.figure.Figure at 0x12070c668>"
      ]
     },
     "metadata": {},
     "output_type": "display_data"
    }
   ],
   "source": [
    "plt.plot(t_maes[:-5], 's', label=\"train_maes\")\n",
    "plt.plot(v_maes[:-5], 'd', label=\"validation_maes\")\n",
    "plt.xticks(np.arange(len(epsilons)-5), epsilons[:-5])\n",
    "plt.xlabel(\"epsilon\")\n",
    "plt.title(\"decide epsilon\")\n",
    "plt.legend()"
   ]
  },
  {
   "cell_type": "code",
   "execution_count": 39,
   "metadata": {
    "collapsed": true
   },
   "outputs": [],
   "source": [
    "# 最適なCを決めたい\n",
    "Cs = [0.0001, 0.0003, 0.001, 0.003, 0.01, 0.03, 0.1, 0.3, 1, 3]\n",
    "t_maes = []\n",
    "v_maes = []\n",
    "for C in Cs:\n",
    "    svr = SVR(C=C, epsilon=0.001)\n",
    "    svr.fit(X_train, Y_train) \n",
    "\n",
    "    Y_train_pred = svr.predict(X_train)\n",
    "    Y_train_pred = denormalize_array(Y_train_pred, kwh_min, kwh_max)\n",
    "    Y_train_true = denormalize_array(Y_train, kwh_min, kwh_max)\n",
    "\n",
    "    Y_val_pred = svr.predict(X_val)\n",
    "    Y_val_pred = denormalize_array(Y_val_pred, kwh_min, kwh_max)\n",
    "    Y_val_true = denormalize_array(Y_val, kwh_min, kwh_max)\n",
    "    \n",
    "    t_maes.append(np.abs(Y_train_pred - Y_train_true).mean())\n",
    "    v_maes.append(np.abs(Y_val_pred - Y_val_true).mean())\n",
    "#     print(\"train_mae : \", np.abs(Y_train_pred - Y_train_true).mean())\n",
    "#     print(\"val_mae : \", np.abs(Y_val_pred - Y_val_true).mean())"
   ]
  },
  {
   "cell_type": "code",
   "execution_count": 41,
   "metadata": {},
   "outputs": [
    {
     "data": {
      "text/plain": [
       "<matplotlib.legend.Legend at 0x122afeeb8>"
      ]
     },
     "execution_count": 41,
     "metadata": {},
     "output_type": "execute_result"
    },
    {
     "data": {
      "image/png": "[encoded data removed]",
      "text/plain": [
       "<matplotlib.figure.Figure at 0x121af2ac8>"
      ]
     },
     "metadata": {},
     "output_type": "display_data"
    }
   ],
   "source": [
    "plt.plot(t_maes, 's', label=\"train_maes\")\n",
    "plt.plot(v_maes, 'd', label=\"validation_maes\")\n",
    "plt.xticks(np.arange(len(epsilons)), epsilons)\n",
    "plt.xlabel(\"C\")\n",
    "plt.title(\"decide C\")\n",
    "plt.legend()"
   ]
  },
  {
   "cell_type": "code",
   "execution_count": 44,
   "metadata": {},
   "outputs": [
    {
     "data": {
      "text/plain": [
       "<matplotlib.legend.Legend at 0x12499e9b0>"
      ]
     },
     "execution_count": 44,
     "metadata": {},
     "output_type": "execute_result"
    },
    {
     "data": {
      "image/png": "[encoded data removed]",
      "text/plain": [
       "<matplotlib.figure.Figure at 0x124874b70>"
      ]
     },
     "metadata": {},
     "output_type": "display_data"
    }
   ],
   "source": [
    "plt.plot(t_maes[7:], 's', label=\"train_maes\")\n",
    "plt.plot(v_maes[7:], 'd', label=\"validation_maes\")\n",
    "plt.xticks(np.arange(len(epsilons)-8), epsilons[8:])\n",
    "plt.xlabel(\"C\")\n",
    "plt.title(\"decide C\")\n",
    "plt.legend()"
   ]
  },
  {
   "cell_type": "code",
   "execution_count": 45,
   "metadata": {
    "collapsed": true
   },
   "outputs": [],
   "source": [
    "# 最適なepsilonを決めたい(続く)\n",
    "C = 3\n",
    "t_maes = []\n",
    "v_maes = []\n",
    "epsilons = [0.00001, 0.00003, 0.0001, 0.0003, 0.001, 0.003, 0.01, 0.03, 0.1, 0.3]\n",
    "for epsilon in epsilons:\n",
    "    svr = SVR(C=C, epsilon=epsilon)\n",
    "    svr.fit(X_train, Y_train) \n",
    "\n",
    "    Y_train_pred = svr.predict(X_train)\n",
    "    Y_train_pred = denormalize_array(Y_train_pred, kwh_min, kwh_max)\n",
    "    Y_train_true = denormalize_array(Y_train, kwh_min, kwh_max)\n",
    "\n",
    "    Y_val_pred = svr.predict(X_val)\n",
    "    Y_val_pred = denormalize_array(Y_val_pred, kwh_min, kwh_max)\n",
    "    Y_val_true = denormalize_array(Y_val, kwh_min, kwh_max)\n",
    "    \n",
    "    t_maes.append(np.abs(Y_train_pred - Y_train_true).mean())\n",
    "    v_maes.append(np.abs(Y_val_pred - Y_val_true).mean())\n",
    "#     print(\"train_mae : \", np.abs(Y_train_pred - Y_train_true).mean())\n",
    "#     print(\"val_mae : \", np.abs(Y_val_pred - Y_val_true).mean())"
   ]
  },
  {
   "cell_type": "code",
   "execution_count": 46,
   "metadata": {},
   "outputs": [
    {
     "data": {
      "text/plain": [
       "<matplotlib.legend.Legend at 0x129883c18>"
      ]
     },
     "execution_count": 46,
     "metadata": {},
     "output_type": "execute_result"
    },
    {
     "data": {
      "image/png": "[encoded data removed]",
      "text/plain": [
       "<matplotlib.figure.Figure at 0x1249be4e0>"
      ]
     },
     "metadata": {},
     "output_type": "display_data"
    }
   ],
   "source": [
    "plt.plot(t_maes, 's', label=\"train_maes\")\n",
    "plt.plot(v_maes, 'd', label=\"validation_maes\")\n",
    "plt.xticks(np.arange(len(epsilons)), epsilons)\n",
    "plt.xlabel(\"max_depth\")\n",
    "plt.title(\"decide max_depth\")\n",
    "plt.legend()"
   ]
  },
  {
   "cell_type": "code",
   "execution_count": 49,
   "metadata": {},
   "outputs": [
    {
     "data": {
      "text/plain": [
       "<matplotlib.legend.Legend at 0x1210b2e80>"
      ]
     },
     "execution_count": 49,
     "metadata": {},
     "output_type": "execute_result"
    },
    {
     "data": {
      "image/png": "[encoded data removed]",
      "text/plain": [
       "<matplotlib.figure.Figure at 0x124888630>"
      ]
     },
     "metadata": {},
     "output_type": "display_data"
    }
   ],
   "source": [
    "plt.plot(t_maes[:-5], 's', label=\"train_maes\")\n",
    "plt.plot(v_maes[:-5], 'd', label=\"validation_maes\")\n",
    "plt.xticks(np.arange(len(epsilons)-5), epsilons[:-5])\n",
    "plt.xlabel(\"max_depth\")\n",
    "plt.title(\"decide max_depth\")\n",
    "plt.legend()"
   ]
  },
  {
   "cell_type": "code",
   "execution_count": 37,
   "metadata": {},
   "outputs": [
    {
     "name": "stderr",
     "output_type": "stream",
     "text": [
      "/Users/kyojin/anaconda/envs/tf/lib/python3.5/site-packages/sklearn/svm/base.py:218: ConvergenceWarning: Solver terminated early (max_iter=10000).  Consider pre-processing your data with StandardScaler or MinMaxScaler.\n",
      "  % self.max_iter, ConvergenceWarning)\n"
     ]
    }
   ],
   "source": [
    "# 最適なCを決めたい(続く)\n",
    "Cs = [1, 3, 10, 30, 100]\n",
    "t_maes = []\n",
    "v_maes = []\n",
    "for C in Cs:\n",
    "    svr = SVR(C=C, epsilon=0.001, max_iter = 10000)\n",
    "    svr.fit(X_train, Y_train) \n",
    "\n",
    "    Y_train_pred = svr.predict(X_train)\n",
    "    Y_train_pred = denormalize_array(Y_train_pred, kwh_min, kwh_max)\n",
    "    Y_train_true = denormalize_array(Y_train, kwh_min, kwh_max)\n",
    "\n",
    "    Y_val_pred = svr.predict(X_val)\n",
    "    Y_val_pred = denormalize_array(Y_val_pred, kwh_min, kwh_max)\n",
    "    Y_val_true = denormalize_array(Y_val, kwh_min, kwh_max)\n",
    "    \n",
    "    t_maes.append(np.abs(Y_train_pred - Y_train_true).mean())\n",
    "    v_maes.append(np.abs(Y_val_pred - Y_val_true).mean())\n",
    "#     print(\"train_mae : \", np.abs(Y_train_pred - Y_train_true).mean())\n",
    "#     print(\"val_mae : \", np.abs(Y_val_pred - Y_val_true).mean())"
   ]
  },
  {
   "cell_type": "code",
   "execution_count": 42,
   "metadata": {},
   "outputs": [
    {
     "data": {
      "text/plain": [
       "<matplotlib.legend.Legend at 0x1228fc6d8>"
      ]
     },
     "execution_count": 42,
     "metadata": {},
     "output_type": "execute_result"
    },
    {
     "data": {
      "image/png": "[encoded data removed]",
      "text/plain": [
       "<matplotlib.figure.Figure at 0x12262c4a8>"
      ]
     },
     "metadata": {},
     "output_type": "display_data"
    }
   ],
   "source": [
    "plt.plot(t_maes[:], 's', label=\"train_maes\")\n",
    "plt.plot(v_maes[:], 'd', label=\"validation_maes\")\n",
    "plt.xticks(np.arange(len(Cs)), Cs)\n",
    "plt.xlabel(\"C\")\n",
    "plt.title(\"decide C\")\n",
    "plt.legend()"
   ]
  },
  {
   "cell_type": "markdown",
   "metadata": {},
   "source": [
    "### とりあえずC= 3, epsilon = 0.00001を最適としておきます"
   ]
  },
  {
   "cell_type": "code",
   "execution_count": 44,
   "metadata": {},
   "outputs": [
    {
     "name": "stdout",
     "output_type": "stream",
     "text": [
      "train mae : 219.044554855\n",
      "validation mae :  226.845133986\n"
     ]
    }
   ],
   "source": [
    "svr = SVR(C=3, epsilon=0.00001)\n",
    "svr.fit(X_train, Y_train) \n",
    "\n",
    "Y_train_pred = svr.predict(X_train)\n",
    "Y_train_pred = denormalize_array(Y_train_pred, kwh_min, kwh_max)\n",
    "Y_train_true = denormalize_array(Y_train, kwh_min, kwh_max)\n",
    "\n",
    "Y_val_pred = svr.predict(X_val)\n",
    "Y_val_pred = denormalize_array(Y_val_pred, kwh_min, kwh_max)\n",
    "Y_val_true = denormalize_array(Y_val, kwh_min, kwh_max)\n",
    "\n",
    "print(\"train mae :\", np.abs(Y_train_pred - Y_train_true).mean())\n",
    "print(\"validation mae : \", np.abs(Y_val_pred - Y_val_true).mean())"
   ]
  },
  {
   "cell_type": "code",
   "execution_count": 48,
   "metadata": {},
   "outputs": [
    {
     "name": "stdout",
     "output_type": "stream",
     "text": [
      "1-5 folds\n",
      "train mae : 796.050209842\n",
      "validation mae :  866.083701904\n",
      "\n",
      "2-5 folds\n",
      "train mae : 809.213919143\n",
      "validation mae :  735.925150721\n",
      "\n",
      "3-5 folds\n",
      "train mae : 731.415126152\n",
      "validation mae :  794.566442231\n",
      "\n",
      "4-5 folds\n",
      "train mae : 742.906887214\n",
      "validation mae :  841.100854145\n",
      "\n",
      "5-5 folds\n",
      "train mae : 799.698078482\n",
      "validation mae :  671.14647115\n",
      "\n"
     ]
    }
   ],
   "source": [
    "'''\n",
    "# 交差検証\n",
    "t_maes = []\n",
    "v_maes = []\n",
    "\n",
    "n_splits = 5\n",
    "C = 3\n",
    "epsilon = 0.00001\n",
    "i = 0\n",
    "for train_idx, test_idx in KFold(n_splits=n_splits).split(X):\n",
    "    \n",
    "    X_train = X[train_idx]\n",
    "    Y_train = Y[train_idx]\n",
    "    X_val = X[test_idx]\n",
    "    Y_val = Y[test_idx]\n",
    "    \n",
    "    svr = SVR(C=C, epsilon=epsilon)\n",
    "    svr.fit(X_train, Y_train)\n",
    "    \n",
    "    i += 1\n",
    "    model_name = \"target_place_\"+str(target_place)+\"_svr_C_\"+str(C)\n",
    "    model_name +=\"_e_\"+str(epsilon)+\"_\"+str(i)+\"-\"+str(n_splits)+\"folds\"\n",
    "    model_name += \".pkl\"\n",
    "    \n",
    "    Y_train_pred = svr.predict(X_train)\n",
    "    Y_train_pred = denormalize_array(Y_train_pred, kwh_min, kwh_max)\n",
    "    Y_train_true = denormalize_array(Y_train, kwh_min, kwh_max)\n",
    "\n",
    "    Y_val_pred = svr.predict(X_val)\n",
    "    Y_val_pred = denormalize_array(Y_val_pred, kwh_min, kwh_max)\n",
    "    Y_val_true = denormalize_array(Y_val, kwh_min, kwh_max)\n",
    "    \n",
    "    joblib.dump(svr, \"data/model/\"+model_name) \n",
    "    \n",
    "    t_maes.append(np.abs(Y_train_pred - Y_train_true).mean())\n",
    "    v_maes.append(np.abs(Y_val_pred - Y_val_true).mean())\n",
    "    \n",
    "    print(str(i)+\"-\"+str(n_splits)+\" folds\")\n",
    "    print(\"train mae :\", np.abs(Y_train_pred - Y_train_true).mean())\n",
    "    print(\"validation mae : \", np.abs(Y_val_pred - Y_val_true).mean())\n",
    "    print()\n",
    "'''\n",
    "# 下のmaeはscaleを戻してないから大きくめいているだけです"
   ]
  },
  {
   "cell_type": "code",
   "execution_count": 72,
   "metadata": {},
   "outputs": [
    {
     "data": {
      "text/plain": [
       "[<matplotlib.lines.Line2D at 0x12bd5e470>]"
      ]
     },
     "execution_count": 72,
     "metadata": {},
     "output_type": "execute_result"
    },
    {
     "data": {
      "image/png": "[encoded data removed]",
      "text/plain": [
       "<matplotlib.figure.Figure at 0x12bd46e48>"
      ]
     },
     "metadata": {},
     "output_type": "display_data"
    }
   ],
   "source": [
    "plt.plot(Y_val_pred[0:500])\n",
    "plt.plot(Y_val_true[0:500])"
   ]
  },
  {
   "cell_type": "code",
   "execution_count": 84,
   "metadata": {
    "collapsed": true
   },
   "outputs": [],
   "source": [
    "try:\n",
    "    predict_data = pd.read_csv('data/predicted_data/predict_train_SOLA0'+str(target_place)+'.tsv', delimiter='\\t')\n",
    "\n",
    "except FileNotFoundError:\n",
    "    s_idx = result[result['datetime'] == pd.to_datetime('2012/01/02 00:00')].index[0]\n",
    "    e_idx = result[result['datetime'] == pd.to_datetime('2015/12/31 23:30')].index[0]\n",
    "    predict_data = pd.DataFrame({\"datetime\":result['datetime'][s_idx:e_idx+1]})\n",
    "    predict_data.index = np.arange(len(predict_data))\n",
    "    predict_data.to_csv('data/predicted_data/predict_train_SOLA0'+str(target_place)+'.tsv', sep = '\\t', index=False)"
   ]
  },
  {
   "cell_type": "code",
   "execution_count": 85,
   "metadata": {
    "collapsed": true
   },
   "outputs": [],
   "source": [
    "# 学習済みmodelを書き出す(train)\n",
    "for i in range(n_splits):\n",
    "    i+=1\n",
    "    model_name = 'target_place_'+str(target_place)+'_svr_C_'+str(C)+'_e_'+str(epsilon)+'_'+str(i)+'-5folds'\n",
    "    svr = joblib.load('data/model/'+model_name+'.pkl') \n",
    "\n",
    "    Y_train_pred = svr.predict(input_list)\n",
    "    Y_train_pred = denormalize_array(Y_train_pred, kwh_min, kwh_max)\n",
    "    # Y_train_true = denormalize_array(Y_train, kwh_min, kwh_max)\n",
    "\n",
    "#     Y_val_pred = svr.predict(X_val)\n",
    "#     Y_val_pred = denormalize_array(Y_val_pred, kwh_min, kwh_max)\n",
    "#     Y_val_true = denormalize_array(Y_val, kwh_min, kwh_max)\n",
    "\n",
    "    # print(\"train mae :\", np.abs(Y_train_pred - Y_train_true).mean())\n",
    "#     print(\"validation mae : \", np.abs(Y_val_pred - Y_val_true).mean())\n",
    "    \n",
    "    predict_data[model_name] = Y_train_pred[48:]\n",
    "    predict_data.to_csv('data/predicted_data/predict_train_SOLA0'+str(target_place)+'.tsv', sep = '\\t', index=False)"
   ]
  },
  {
   "cell_type": "code",
   "execution_count": 86,
   "metadata": {
    "collapsed": true
   },
   "outputs": [],
   "source": [
    "try:\n",
    "    predict_data = pd.read_csv('data/predicted_data/predict_SOLA0'+str(target_place)+'.tsv', delimiter='\\t')\n",
    "\n",
    "except FileNotFoundError:\n",
    "    s_idx = result[result['datetime'] == pd.to_datetime('2016/01/01 00:00')].index[0]\n",
    "    e_idx = result[result['datetime'] == pd.to_datetime('2017/3/31 23:30')].index[0]\n",
    "    predict_data = pd.DataFrame({\"datetime\":result['datetime'][s_idx:e_idx+1]})\n",
    "    predict_data.index = np.arange(len(predict_data))\n",
    "    predict_data.to_csv('data/predicted_data/predict_SOLA0'+str(target_place)+'.tsv', sep = '\\t', index=False)"
   ]
  },
  {
   "cell_type": "code",
   "execution_count": 87,
   "metadata": {
    "collapsed": true
   },
   "outputs": [],
   "source": [
    "# 学習済みmodelを書き出す(predict)\n",
    "for i in range(n_splits):\n",
    "    i+=1\n",
    "    model_name = 'target_place_'+str(target_place)+'_svr_C_'+str(C)+'_e_'+str(epsilon)+'_'+str(i)+'-5folds'\n",
    "    svr = joblib.load('data/model/'+model_name+'.pkl') \n",
    "\n",
    "    Y_test_pred = svr.predict(X_test)\n",
    "    Y_test_pred = denormalize_array(Y_test_pred, kwh_min, kwh_max)\n",
    "    \n",
    "    predict_data[model_name] = Y_test_pred\n",
    "    predict_data.to_csv('data/predicted_data/predict_SOLA0'+str(target_place)+'.tsv', sep = '\\t', index=False)"
   ]
  },
  {
   "cell_type": "code",
   "execution_count": 59,
   "metadata": {},
   "outputs": [
    {
     "data": {
      "text/plain": [
       "[<matplotlib.lines.Line2D at 0x1227f1ac8>]"
      ]
     },
     "execution_count": 59,
     "metadata": {},
     "output_type": "execute_result"
    },
    {
     "data": {
      "image/png": "[encoded data removed]",
      "text/plain": [
       "<matplotlib.figure.Figure at 0x122805cf8>"
      ]
     },
     "metadata": {},
     "output_type": "display_data"
    }
   ],
   "source": [
    "plt.plot(Y_test_pred)"
   ]
  },
  {
   "cell_type": "markdown",
   "metadata": {},
   "source": [
    "### **rbfカーネル**"
   ]
  },
  {
   "cell_type": "code",
   "execution_count": 88,
   "metadata": {},
   "outputs": [],
   "source": [
    "# rbfにおける最適なepsilonを探す\n",
    "C = 3\n",
    "t_maes = []\n",
    "v_maes = []\n",
    "epsilons = [0.00001, 0.00003, 0.0001, 0.0003, 0.001, 0.003, 0.01, 0.03, 0.1]\n",
    "for epsilon in epsilons:\n",
    "    svr = SVR(C=C, epsilon=epsilon, kernel=\"rbf\")\n",
    "    svr.fit(X_train, Y_train) \n",
    "\n",
    "    Y_train_pred = svr.predict(X_train)\n",
    "    Y_train_pred = denormalize_array(Y_train_pred, kwh_min, kwh_max)\n",
    "    Y_train_true = denormalize_array(Y_train, kwh_min, kwh_max)\n",
    "\n",
    "    Y_val_pred = svr.predict(X_val)\n",
    "    Y_val_pred = denormalize_array(Y_val_pred, kwh_min, kwh_max)\n",
    "    Y_val_true = denormalize_array(Y_val, kwh_min, kwh_max)\n",
    "    \n",
    "    t_maes.append(np.abs(Y_train_pred - Y_train_true).mean())\n",
    "    v_maes.append(np.abs(Y_val_pred - Y_val_true).mean())\n",
    "#     print(\"train_mae : \", np.abs(Y_train_pred - Y_train_true).mean())\n",
    "#     print(\"val_mae : \", np.abs(Y_val_pred - Y_val_true).mean())"
   ]
  },
  {
   "cell_type": "code",
   "execution_count": 89,
   "metadata": {},
   "outputs": [
    {
     "data": {
      "text/plain": [
       "<matplotlib.legend.Legend at 0x123783a58>"
      ]
     },
     "execution_count": 89,
     "metadata": {},
     "output_type": "execute_result"
    },
    {
     "data": {
      "image/png": "[encoded data removed]",
      "text/plain": [
       "<matplotlib.figure.Figure at 0x12bd51b70>"
      ]
     },
     "metadata": {},
     "output_type": "display_data"
    }
   ],
   "source": [
    "plt.plot(t_maes, 's', label=\"train_maes\")\n",
    "plt.plot(v_maes, 'd', label=\"validation_maes\")\n",
    "plt.xticks(np.arange(len(epsilons)), epsilons)\n",
    "plt.xlabel(\"epsilon\")\n",
    "plt.title(\"decide epsilon\")\n",
    "plt.legend()"
   ]
  },
  {
   "cell_type": "code",
   "execution_count": 91,
   "metadata": {},
   "outputs": [
    {
     "data": {
      "text/plain": [
       "<matplotlib.legend.Legend at 0x1264a3da0>"
      ]
     },
     "execution_count": 91,
     "metadata": {},
     "output_type": "execute_result"
    },
    {
     "data": {
      "image/png": "[encoded data removed]",
      "text/plain": [
       "<matplotlib.figure.Figure at 0x12329feb8>"
      ]
     },
     "metadata": {},
     "output_type": "display_data"
    }
   ],
   "source": [
    "plt.plot(t_maes[:-3], 's', label=\"train_maes\")\n",
    "plt.plot(v_maes[:-3], 'd', label=\"validation_maes\")\n",
    "plt.xticks(np.arange(len(epsilons)-3), epsilons[:-3])\n",
    "plt.xlabel(\"epsilon\")\n",
    "plt.title(\"decide epsilon\")\n",
    "plt.legend()"
   ]
  },
  {
   "cell_type": "code",
   "execution_count": 98,
   "metadata": {},
   "outputs": [],
   "source": [
    "# 最適なCを決めたい(続く)\n",
    "Cs = [0.1, 0.3, 1, 3, 10]\n",
    "t_maes = []\n",
    "v_maes = []\n",
    "for C in Cs:\n",
    "    svr = SVR(C=C, epsilon=0.0003)\n",
    "    svr.fit(X_train, Y_train) \n",
    "\n",
    "    Y_train_pred = svr.predict(X_train)\n",
    "    Y_train_pred = denormalize_array(Y_train_pred, kwh_min, kwh_max)\n",
    "    Y_train_true = denormalize_array(Y_train, kwh_min, kwh_max)\n",
    "\n",
    "    Y_val_pred = svr.predict(X_val)\n",
    "    Y_val_pred = denormalize_array(Y_val_pred, kwh_min, kwh_max)\n",
    "    Y_val_true = denormalize_array(Y_val, kwh_min, kwh_max)\n",
    "    \n",
    "    t_maes.append(np.abs(Y_train_pred - Y_train_true).mean())\n",
    "    v_maes.append(np.abs(Y_val_pred - Y_val_true).mean())\n",
    "#     print(\"train_mae : \", np.abs(Y_train_pred - Y_train_true).mean())\n",
    "#     print(\"val_mae : \", np.abs(Y_val_pred - Y_val_true).mean())"
   ]
  },
  {
   "cell_type": "code",
   "execution_count": 100,
   "metadata": {
    "scrolled": true
   },
   "outputs": [
    {
     "data": {
      "text/plain": [
       "<matplotlib.legend.Legend at 0x12604e5f8>"
      ]
     },
     "execution_count": 100,
     "metadata": {},
     "output_type": "execute_result"
    },
    {
     "data": {
      "image/png": "[encoded data removed]",
      "text/plain": [
       "<matplotlib.figure.Figure at 0x12632bc88>"
      ]
     },
     "metadata": {},
     "output_type": "display_data"
    }
   ],
   "source": [
    "plt.plot(t_maes[1:], 's', label=\"train_maes\")\n",
    "plt.plot(v_maes[1:], 'd', label=\"validation_maes\")\n",
    "plt.xticks(np.arange(len(Cs[1:])), Cs[1:])\n",
    "plt.xlabel(\"epsilon\")\n",
    "plt.title(\"decide epsilon\")\n",
    "plt.legend()"
   ]
  },
  {
   "cell_type": "markdown",
   "metadata": {},
   "source": [
    "### **C =10, epsilon = 0.0003が最適としておきます**"
   ]
  },
  {
   "cell_type": "code",
   "execution_count": 101,
   "metadata": {},
   "outputs": [
    {
     "name": "stdout",
     "output_type": "stream",
     "text": [
      "1-5 folds\n",
      "train mae : 207.599064326\n",
      "validation mae :  269.186026405\n",
      "\n",
      "2-5 folds\n",
      "train mae : 224.910970057\n",
      "validation mae :  188.822298313\n",
      "\n",
      "3-5 folds\n",
      "train mae : 202.812841532\n",
      "validation mae :  280.843564165\n",
      "\n",
      "4-5 folds\n",
      "train mae : 206.304007775\n",
      "validation mae :  255.941687737\n",
      "\n",
      "5-5 folds\n",
      "train mae : 218.594730641\n",
      "validation mae :  203.699860603\n",
      "\n"
     ]
    }
   ],
   "source": [
    "# 交差検証\n",
    "t_maes = []\n",
    "v_maes = []\n",
    "\n",
    "n_splits = 5\n",
    "C = 10\n",
    "epsilon = 0.0003\n",
    "i = 0\n",
    "for train_idx, test_idx in KFold(n_splits=n_splits).split(X):\n",
    "    \n",
    "    X_train = X[train_idx]\n",
    "    Y_train = Y[train_idx]\n",
    "    X_val = X[test_idx]\n",
    "    Y_val = Y[test_idx]\n",
    "    \n",
    "    svr = SVR(C=C, epsilon=epsilon, kernel = \"rbf\")\n",
    "    svr.fit(X_train, Y_train)\n",
    "    \n",
    "    i += 1\n",
    "    model_name = \"target_place_\"+str(target_place)+\"_svr_rbf_C_\"+str(C)\n",
    "    model_name +=\"_e_\"+str(epsilon)+\"_\"+str(i)+\"-\"+str(n_splits)+\"folds\"\n",
    "    model_name += \".pkl\"\n",
    "    \n",
    "    Y_train_pred = svr.predict(X_train)\n",
    "    Y_train_pred = denormalize_array(Y_train_pred, kwh_min, kwh_max)\n",
    "    Y_train_true = denormalize_array(Y_train, kwh_min, kwh_max)\n",
    "\n",
    "    Y_val_pred = svr.predict(X_val)\n",
    "    Y_val_pred = denormalize_array(Y_val_pred, kwh_min, kwh_max)\n",
    "    Y_val_true = denormalize_array(Y_val, kwh_min, kwh_max)\n",
    "    \n",
    "    joblib.dump(svr, \"data/model/\"+model_name) \n",
    "    \n",
    "    t_maes.append(np.abs(Y_train_pred - Y_train_true).mean())\n",
    "    v_maes.append(np.abs(Y_val_pred - Y_val_true).mean())\n",
    "    \n",
    "    print(str(i)+\"-\"+str(n_splits)+\" folds\")\n",
    "    print(\"train mae :\", np.abs(Y_train_pred - Y_train_true).mean())\n",
    "    print(\"validation mae : \", np.abs(Y_val_pred - Y_val_true).mean())\n",
    "    print()"
   ]
  },
  {
   "cell_type": "code",
   "execution_count": 102,
   "metadata": {},
   "outputs": [
    {
     "data": {
      "text/plain": [
       "[<matplotlib.lines.Line2D at 0x12607e1d0>]"
      ]
     },
     "execution_count": 102,
     "metadata": {},
     "output_type": "execute_result"
    },
    {
     "data": {
      "image/png": "[encoded data removed]",
      "text/plain": [
       "<matplotlib.figure.Figure at 0x12607e2b0>"
      ]
     },
     "metadata": {},
     "output_type": "display_data"
    }
   ],
   "source": [
    "plt.plot(Y_val_pred[0:500])\n",
    "plt.plot(Y_val_true[0:500])"
   ]
  },
  {
   "cell_type": "code",
   "execution_count": 103,
   "metadata": {
    "collapsed": true
   },
   "outputs": [],
   "source": [
    "try:\n",
    "    predict_data = pd.read_csv('data/predicted_data/predict_train_SOLA0'+str(target_place)+'.tsv', delimiter='\\t')\n",
    "\n",
    "except FileNotFoundError:\n",
    "    s_idx = result[result['datetime'] == pd.to_datetime('2012/01/02 00:00')].index[0]\n",
    "    e_idx = result[result['datetime'] == pd.to_datetime('2015/12/31 23:30')].index[0]\n",
    "    predict_data = pd.DataFrame({\"datetime\":result['datetime'][s_idx:e_idx+1]})\n",
    "    predict_data.index = np.arange(len(predict_data))\n",
    "    predict_data.to_csv('data/predicted_data/predict_train_SOLA0'+str(target_place)+'.tsv', sep = '\\t', index=False)"
   ]
  },
  {
   "cell_type": "code",
   "execution_count": 104,
   "metadata": {
    "collapsed": true
   },
   "outputs": [],
   "source": [
    "# 学習済みmodelを書き出す(train)\n",
    "for i in range(n_splits):\n",
    "    i+=1\n",
    "    model_name = 'target_place_'+str(target_place)+'_svr_rbf_C_'+str(C)+'_e_'+str(epsilon)+'_'+str(i)+'-5folds'\n",
    "    svr = joblib.load('data/model/'+model_name+'.pkl') \n",
    "\n",
    "    Y_train_pred = svr.predict(input_list)\n",
    "    Y_train_pred = denormalize_array(Y_train_pred, kwh_min, kwh_max)\n",
    "    # Y_train_true = denormalize_array(Y_train, kwh_min, kwh_max)\n",
    "\n",
    "#     Y_val_pred = svr.predict(X_val)\n",
    "#     Y_val_pred = denormalize_array(Y_val_pred, kwh_min, kwh_max)\n",
    "#     Y_val_true = denormalize_array(Y_val, kwh_min, kwh_max)\n",
    "\n",
    "    # print(\"train mae :\", np.abs(Y_train_pred - Y_train_true).mean())\n",
    "#     print(\"validation mae : \", np.abs(Y_val_pred - Y_val_true).mean())\n",
    "    \n",
    "    predict_data[model_name] = Y_train_pred[48:]\n",
    "    predict_data.to_csv('data/predicted_data/predict_train_SOLA0'+str(target_place)+'.tsv', sep = '\\t', index=False)"
   ]
  },
  {
   "cell_type": "code",
   "execution_count": 105,
   "metadata": {
    "collapsed": true
   },
   "outputs": [],
   "source": [
    "try:\n",
    "    predict_data = pd.read_csv('data/predicted_data/predict_SOLA0'+str(target_place)+'.tsv', delimiter='\\t')\n",
    "\n",
    "except FileNotFoundError:\n",
    "    s_idx = result[result['datetime'] == pd.to_datetime('2016/01/01 00:00')].index[0]\n",
    "    e_idx = result[result['datetime'] == pd.to_datetime('2017/3/31 23:30')].index[0]\n",
    "    predict_data = pd.DataFrame({\"datetime\":result['datetime'][s_idx:e_idx+1]})\n",
    "    predict_data.index = np.arange(len(predict_data))\n",
    "    predict_data.to_csv('data/predicted_data/predict_SOLA0'+str(target_place)+'.tsv', sep = '\\t', index=False)"
   ]
  },
  {
   "cell_type": "code",
   "execution_count": 106,
   "metadata": {
    "collapsed": true
   },
   "outputs": [],
   "source": [
    "# 学習済みmodelを書き出す(predict)\n",
    "for i in range(n_splits):\n",
    "    i+=1\n",
    "    model_name = 'target_place_'+str(target_place)+'_svr_rbf_C_'+str(C)+'_e_'+str(epsilon)+'_'+str(i)+'-5folds'\n",
    "    svr = joblib.load('data/model/'+model_name+'.pkl') \n",
    "\n",
    "    Y_test_pred = svr.predict(X_test)\n",
    "    Y_test_pred = denormalize_array(Y_test_pred, kwh_min, kwh_max)\n",
    "    \n",
    "    predict_data[model_name] = Y_test_pred\n",
    "    predict_data.to_csv('data/predicted_data/predict_SOLA0'+str(target_place)+'.tsv', sep = '\\t', index=False)"
   ]
  },
  {
   "cell_type": "code",
   "execution_count": 107,
   "metadata": {
    "scrolled": true
   },
   "outputs": [
    {
     "data": {
      "text/plain": [
       "[<matplotlib.lines.Line2D at 0x126a64be0>]"
      ]
     },
     "execution_count": 107,
     "metadata": {},
     "output_type": "execute_result"
    },
    {
     "data": {
      "image/png": "[encoded data removed]",
      "text/plain": [
       "<matplotlib.figure.Figure at 0x11dae5978>"
      ]
     },
     "metadata": {},
     "output_type": "display_data"
    }
   ],
   "source": [
    "plt.plot(Y_test_pred)"
   ]
  },
  {
   "cell_type": "markdown",
   "metadata": {},
   "source": [
    "### **rbfのガンマを決めよう**"
   ]
  },
  {
   "cell_type": "code",
   "execution_count": 109,
   "metadata": {},
   "outputs": [
    {
     "name": "stdout",
     "output_type": "stream",
     "text": [
      "gamma :  0.0001\n",
      "train_mae :  367.172498929\n",
      "val_mae :  338.09276817\n",
      "\n",
      "gamma :  0.0003\n",
      "train_mae :  340.426225099\n",
      "val_mae :  321.829771874\n",
      "\n",
      "gamma :  0.001\n",
      "train_mae :  330.839467559\n",
      "val_mae :  312.519758763\n",
      "\n",
      "gamma :  0.003\n",
      "train_mae :  305.837805152\n",
      "val_mae :  283.458944842\n",
      "\n",
      "gamma :  0.01\n",
      "train_mae :  243.229826599\n",
      "val_mae :  217.87802029\n",
      "\n",
      "gamma :  0.03\n",
      "train_mae :  220.813270729\n",
      "val_mae :  204.137414981\n",
      "\n",
      "gamma :  0.1\n",
      "train_mae :  206.260486942\n",
      "val_mae :  204.27148425\n",
      "\n",
      "gamma :  0.3\n",
      "train_mae :  188.666016996\n",
      "val_mae :  223.152416398\n",
      "\n",
      "gamma :  1\n",
      "train_mae :  166.665804803\n",
      "val_mae :  245.177889758\n",
      "\n",
      "gamma :  3\n",
      "train_mae :  152.239834968\n",
      "val_mae :  280.125452085\n",
      "\n",
      "gamma :  10\n",
      "train_mae :  138.001827312\n",
      "val_mae :  352.738491955\n",
      "\n"
     ]
    }
   ],
   "source": [
    "# rbfにおける最適なepsilonを探す\n",
    "C = 3\n",
    "t_maes = []\n",
    "v_maes = []\n",
    "epsilons = 0.003\n",
    "gammas = [0.0001, 0.0003, 0.001, 0.003, 0.01, 0.03, 0.1, 0.3, 1, 3, 10]\n",
    "for gamma in gammas:\n",
    "    svr = SVR(C=C, epsilon=epsilon, kernel=\"rbf\", gamma = gamma)\n",
    "    svr.fit(X_train, Y_train) \n",
    "\n",
    "    Y_train_pred = svr.predict(X_train)\n",
    "    Y_train_pred = denormalize_array(Y_train_pred, kwh_min, kwh_max)\n",
    "    Y_train_true = denormalize_array(Y_train, kwh_min, kwh_max)\n",
    "\n",
    "    Y_val_pred = svr.predict(X_val)\n",
    "    Y_val_pred = denormalize_array(Y_val_pred, kwh_min, kwh_max)\n",
    "    Y_val_true = denormalize_array(Y_val, kwh_min, kwh_max)\n",
    "    \n",
    "    t_maes.append(np.abs(Y_train_pred - Y_train_true).mean())\n",
    "    v_maes.append(np.abs(Y_val_pred - Y_val_true).mean())\n",
    "    print(\"gamma : \", gamma)\n",
    "    print(\"train_mae : \", np.abs(Y_train_pred - Y_train_true).mean())\n",
    "    print(\"val_mae : \", np.abs(Y_val_pred - Y_val_true).mean())\n",
    "    print()"
   ]
  },
  {
   "cell_type": "code",
   "execution_count": 113,
   "metadata": {},
   "outputs": [
    {
     "data": {
      "text/plain": [
       "<matplotlib.legend.Legend at 0x122cc2748>"
      ]
     },
     "execution_count": 113,
     "metadata": {},
     "output_type": "execute_result"
    },
    {
     "data": {
      "image/png": "[encoded data removed]",
      "text/plain": [
       "<matplotlib.figure.Figure at 0x122d53fd0>"
      ]
     },
     "metadata": {},
     "output_type": "display_data"
    }
   ],
   "source": [
    "plt.figure(figsize=(7, 5))\n",
    "plt.plot(t_maes, 's', label=\"train_maes\")\n",
    "plt.plot(v_maes, 'd', label=\"validation_maes\")\n",
    "plt.xticks(np.arange(len(gammas)), gammas)\n",
    "plt.xlabel(\"gamma\")\n",
    "plt.title(\"decide gamma\")\n",
    "plt.legend()"
   ]
  },
  {
   "cell_type": "markdown",
   "metadata": {},
   "source": [
    "### **C = 3, epsilon = 0.001, gamma = 0.1を最適としておきます**"
   ]
  },
  {
   "cell_type": "code",
   "execution_count": 114,
   "metadata": {},
   "outputs": [
    {
     "name": "stdout",
     "output_type": "stream",
     "text": [
      "1-5 folds\n",
      "train mae : 213.166709235\n",
      "validation mae :  270.679780001\n",
      "\n",
      "2-5 folds\n",
      "train mae : 231.035880505\n",
      "validation mae :  195.993891982\n",
      "\n",
      "3-5 folds\n",
      "train mae : 208.884042302\n",
      "validation mae :  291.511655917\n",
      "\n",
      "4-5 folds\n",
      "train mae : 212.826875975\n",
      "validation mae :  263.089255061\n",
      "\n",
      "5-5 folds\n",
      "train mae : 225.433280609\n",
      "validation mae :  206.01358463\n",
      "\n"
     ]
    }
   ],
   "source": [
    "# 交差検証\n",
    "t_maes = []\n",
    "v_maes = []\n",
    "\n",
    "n_splits = 5\n",
    "C = 3\n",
    "epsilon = 0.001\n",
    "gamma = 0.1\n",
    "i = 0\n",
    "for train_idx, test_idx in KFold(n_splits=n_splits).split(X):\n",
    "    \n",
    "    X_train = X[train_idx]\n",
    "    Y_train = Y[train_idx]\n",
    "    X_val = X[test_idx]\n",
    "    Y_val = Y[test_idx]\n",
    "    \n",
    "    svr = SVR(C=C, epsilon=epsilon, kernel = \"rbf\")\n",
    "    svr.fit(X_train, Y_train)\n",
    "    \n",
    "    i += 1\n",
    "    model_name = \"target_place_\"+str(target_place)+\"_svr_rbf_C_\"+str(C)\n",
    "    model_name +=\"_e_\"+str(epsilon)+\"_gamma_\"+str(gamma)+\"_\"+str(i)+\"-\"+str(n_splits)+\"folds\"\n",
    "    model_name += \".pkl\"\n",
    "    \n",
    "    Y_train_pred = svr.predict(X_train)\n",
    "    Y_train_pred = denormalize_array(Y_train_pred, kwh_min, kwh_max)\n",
    "    Y_train_true = denormalize_array(Y_train, kwh_min, kwh_max)\n",
    "\n",
    "    Y_val_pred = svr.predict(X_val)\n",
    "    Y_val_pred = denormalize_array(Y_val_pred, kwh_min, kwh_max)\n",
    "    Y_val_true = denormalize_array(Y_val, kwh_min, kwh_max)\n",
    "    \n",
    "    joblib.dump(svr, \"data/model/\"+model_name) \n",
    "    \n",
    "    t_maes.append(np.abs(Y_train_pred - Y_train_true).mean())\n",
    "    v_maes.append(np.abs(Y_val_pred - Y_val_true).mean())\n",
    "    \n",
    "    print(str(i)+\"-\"+str(n_splits)+\" folds\")\n",
    "    print(\"train mae :\", np.abs(Y_train_pred - Y_train_true).mean())\n",
    "    print(\"validation mae : \", np.abs(Y_val_pred - Y_val_true).mean())\n",
    "    print()"
   ]
  },
  {
   "cell_type": "code",
   "execution_count": 115,
   "metadata": {},
   "outputs": [
    {
     "data": {
      "text/plain": [
       "[<matplotlib.lines.Line2D at 0x12b3b5240>]"
      ]
     },
     "execution_count": 115,
     "metadata": {},
     "output_type": "execute_result"
    },
    {
     "data": {
      "image/png": "[encoded data removed]",
      "text/plain": [
       "<matplotlib.figure.Figure at 0x12b3b55c0>"
      ]
     },
     "metadata": {},
     "output_type": "display_data"
    }
   ],
   "source": [
    "plt.plot(Y_val_pred[0:500])\n",
    "plt.plot(Y_val_true[0:500])"
   ]
  },
  {
   "cell_type": "code",
   "execution_count": 116,
   "metadata": {
    "collapsed": true
   },
   "outputs": [],
   "source": [
    "try:\n",
    "    predict_data = pd.read_csv('data/predicted_data/predict_train_SOLA0'+str(target_place)+'.tsv', delimiter='\\t')\n",
    "\n",
    "except FileNotFoundError:\n",
    "    s_idx = result[result['datetime'] == pd.to_datetime('2012/01/02 00:00')].index[0]\n",
    "    e_idx = result[result['datetime'] == pd.to_datetime('2015/12/31 23:30')].index[0]\n",
    "    predict_data = pd.DataFrame({\"datetime\":result['datetime'][s_idx:e_idx+1]})\n",
    "    predict_data.index = np.arange(len(predict_data))\n",
    "    predict_data.to_csv('data/predicted_data/predict_train_SOLA0'+str(target_place)+'.tsv', sep = '\\t', index=False)"
   ]
  },
  {
   "cell_type": "code",
   "execution_count": 117,
   "metadata": {
    "collapsed": true
   },
   "outputs": [],
   "source": [
    "# 学習済みmodelを書き出す(train)\n",
    "for i in range(n_splits):\n",
    "    i+=1\n",
    "    model_name = 'target_place_'+str(target_place)+'_svr_rbf_C_'+str(C)+\"_e_\"+str(epsilon)+\"_gamma_\"+str(gamma)+\"_\"+str(i)+\"-\"+str(n_splits)+\"folds\"\n",
    "    svr = joblib.load('data/model/'+model_name+'.pkl') \n",
    "\n",
    "    Y_train_pred = svr.predict(input_list)\n",
    "    Y_train_pred = denormalize_array(Y_train_pred, kwh_min, kwh_max)\n",
    "    # Y_train_true = denormalize_array(Y_train, kwh_min, kwh_max)\n",
    "\n",
    "#     Y_val_pred = svr.predict(X_val)\n",
    "#     Y_val_pred = denormalize_array(Y_val_pred, kwh_min, kwh_max)\n",
    "#     Y_val_true = denormalize_array(Y_val, kwh_min, kwh_max)\n",
    "\n",
    "    # print(\"train mae :\", np.abs(Y_train_pred - Y_train_true).mean())\n",
    "#     print(\"validation mae : \", np.abs(Y_val_pred - Y_val_true).mean())\n",
    "    \n",
    "    predict_data[model_name] = Y_train_pred[48:]\n",
    "    predict_data.to_csv('data/predicted_data/predict_train_SOLA0'+str(target_place)+'.tsv', sep = '\\t', index=False)"
   ]
  },
  {
   "cell_type": "code",
   "execution_count": 118,
   "metadata": {
    "collapsed": true
   },
   "outputs": [],
   "source": [
    "try:\n",
    "    predict_data = pd.read_csv('data/predicted_data/predict_SOLA0'+str(target_place)+'.tsv', delimiter='\\t')\n",
    "\n",
    "except FileNotFoundError:\n",
    "    s_idx = result[result['datetime'] == pd.to_datetime('2016/01/01 00:00')].index[0]\n",
    "    e_idx = result[result['datetime'] == pd.to_datetime('2017/3/31 23:30')].index[0]\n",
    "    predict_data = pd.DataFrame({\"datetime\":result['datetime'][s_idx:e_idx+1]})\n",
    "    predict_data.index = np.arange(len(predict_data))\n",
    "    predict_data.to_csv('data/predicted_data/predict_SOLA0'+str(target_place)+'.tsv', sep = '\\t', index=False)"
   ]
  },
  {
   "cell_type": "code",
   "execution_count": 119,
   "metadata": {
    "collapsed": true
   },
   "outputs": [],
   "source": [
    "# 学習済みmodelを書き出す(predict)\n",
    "for i in range(n_splits):\n",
    "    i+=1\n",
    "    model_name = 'target_place_'+str(target_place)+'_svr_rbf_C_'+str(C)+\"_e_\"+str(epsilon)+\"_gamma_\"+str(gamma)+\"_\"+str(i)+\"-\"+str(n_splits)+\"folds\"\n",
    "    svr = joblib.load('data/model/'+model_name+'.pkl') \n",
    "\n",
    "    Y_test_pred = svr.predict(X_test)\n",
    "    Y_test_pred = denormalize_array(Y_test_pred, kwh_min, kwh_max)\n",
    "    \n",
    "    predict_data[model_name] = Y_test_pred\n",
    "    predict_data.to_csv('data/predicted_data/predict_SOLA0'+str(target_place)+'.tsv', sep = '\\t', index=False)"
   ]
  },
  {
   "cell_type": "code",
   "execution_count": 120,
   "metadata": {
    "scrolled": true
   },
   "outputs": [
    {
     "data": {
      "text/plain": [
       "[<matplotlib.lines.Line2D at 0x126750e10>]"
      ]
     },
     "execution_count": 120,
     "metadata": {},
     "output_type": "execute_result"
    },
    {
     "data": {
      "image/png": "[encoded data removed]",
      "text/plain": [
       "<matplotlib.figure.Figure at 0x122d680f0>"
      ]
     },
     "metadata": {},
     "output_type": "display_data"
    }
   ],
   "source": [
    "plt.plot(Y_test_pred)"
   ]
  },
  {
   "cell_type": "code",
   "execution_count": 59,
   "metadata": {},
   "outputs": [
    {
     "name": "stdout",
     "output_type": "stream",
     "text": [
      "train_mae :  669.616521403\n",
      "val_mae :  560.938476063\n"
     ]
    }
   ],
   "source": [
    "C = 0.1\n",
    "epsilon = 0.001\n",
    "svr = SVR(C=C, epsilon=epsilon, kernel=\"poly\", degree=3)\n",
    "svr.fit(X_train, Y_train) \n",
    "\n",
    "Y_train_pred = svr.predict(X_train)\n",
    "Y_train_pred = denormalize_array(Y_train_pred, kwh_min, kwh_max)\n",
    "Y_train_true = denormalize_array(Y_train, kwh_min, kwh_max)\n",
    "\n",
    "Y_val_pred = svr.predict(X_val)\n",
    "Y_val_pred = denormalize_array(Y_val_pred, kwh_min, kwh_max)\n",
    "Y_val_true = denormalize_array(Y_val, kwh_min, kwh_max)\n",
    "\n",
    "print(\"train_mae : \", np.abs(Y_train_pred - Y_train_true).mean())\n",
    "print(\"val_mae : \", np.abs(Y_val_pred - Y_val_true).mean())"
   ]
  },
  {
   "cell_type": "code",
   "execution_count": 60,
   "metadata": {},
   "outputs": [
    {
     "data": {
      "text/plain": [
       "[<matplotlib.lines.Line2D at 0x11f3d6940>]"
      ]
     },
     "execution_count": 60,
     "metadata": {},
     "output_type": "execute_result"
    },
    {
     "data": {
      "image/png": "[encoded data removed]",
      "text/plain": [
       "<matplotlib.figure.Figure at 0x11f3d6b38>"
      ]
     },
     "metadata": {},
     "output_type": "display_data"
    }
   ],
   "source": [
    "plt.plot(Y_val_pred[0:500])\n",
    "plt.plot(Y_val_true[0:500])"
   ]
  },
  {
   "cell_type": "markdown",
   "metadata": {},
   "source": [
    "### **パラメータチューニングすれば可能性を感じなくもない**\n",
    "**train, valの分かれ方が偶然簡単だった説はある**"
   ]
  }
 ],
 "metadata": {
  "kernelspec": {
   "display_name": "Python 3",
   "language": "python",
   "name": "python3"
  },
  "language_info": {
   "codemirror_mode": {
    "name": "ipython",
    "version": 3
   },
   "file_extension": ".py",
   "mimetype": "text/x-python",
   "name": "python",
   "nbconvert_exporter": "python",
   "pygments_lexer": "ipython3",
   "version": "3.5.3"
  }
 },
 "nbformat": 4,
 "nbformat_minor": 2
}
