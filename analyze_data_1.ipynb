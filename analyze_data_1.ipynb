{
 "cells": [
  {
   "cell_type": "markdown",
   "metadata": {},
   "source": [
    "# **発電量のデータを分析する**"
   ]
  },
  {
   "cell_type": "markdown",
   "metadata": {},
   "source": [
    "### **必要な関数・モジュール**"
   ]
  },
  {
   "cell_type": "code",
   "execution_count": 2,
   "metadata": {
    "collapsed": false
   },
   "outputs": [],
   "source": [
    "# データ加工・処理・分析モジュール\n",
    "import numpy as np\n",
    "import pandas as pd\n",
    "import matplotlib.pyplot as plt\n",
    "import os\n",
    "\n",
    "%matplotlib inline\n",
    "\n",
    "import time"
   ]
  },
  {
   "cell_type": "code",
   "execution_count": 4,
   "metadata": {
    "collapsed": true
   },
   "outputs": [],
   "source": [
    "def set_time(dataframe, col_name):\n",
    "    '''\n",
    "    to_datetimeを使うための前処理\n",
    "    '''\n",
    "    dataframe[col_name] = dataframe[col_name].map(lambda x : transform_time(x))\n",
    "    return dataframe"
   ]
  },
  {
   "cell_type": "code",
   "execution_count": 5,
   "metadata": {
    "collapsed": true
   },
   "outputs": [],
   "source": [
    "def transform_time(x):\n",
    "    '''\n",
    "    set_time内で使う関数\n",
    "    to_datetimeで24時をサポートしないので00に変更する処理\n",
    "    '''\n",
    "    str_x = str(x)\n",
    "    res = ''\n",
    "    if str(x)[8:10] == '24':\n",
    "        res = str_x[0:4] + '-' + str_x[4:6] + '-' + str_x[6:8] + ' 00:'+str_x[10:12] \n",
    "    else:\n",
    "        res = str_x[0:4] + '-' + str_x[4:6] + '-' + str_x[6:8] + ' '+ str_x[8:10] +':'+str_x[10:12]\n",
    "    return res"
   ]
  },
  {
   "cell_type": "code",
   "execution_count": 6,
   "metadata": {
    "collapsed": true
   },
   "outputs": [],
   "source": [
    "def get_hours(x):\n",
    "    '''\n",
    "    時間帯毎に分類するための関数\n",
    "    '''\n",
    "    num = 0\n",
    "    num += int(x.hour) * 2\n",
    "    if int(x.minute) == 30:\n",
    "        num += 1\n",
    "    return num"
   ]
  },
  {
   "cell_type": "code",
   "execution_count": 7,
   "metadata": {
    "collapsed": true
   },
   "outputs": [],
   "source": [
    "def add_times(df):\n",
    "    '''\n",
    "    datetimeカラムがあることを前提に年, 月, 時カラムを足す\n",
    "    '''\n",
    "    df['hours'] = df['datetime'].map(lambda x: get_hours(x))\n",
    "    df['month'] = df['datetime'].map(lambda x: x.month)\n",
    "    df['year'] = df['datetime'].map(lambda x: x.year)\n",
    "    return df"
   ]
  },
  {
   "cell_type": "code",
   "execution_count": 8,
   "metadata": {
    "collapsed": true
   },
   "outputs": [],
   "source": [
    "def denormalize_array(normalized_x, x_min, x_max):\n",
    "    '''\n",
    "    正規化前のmin, maxを用いて元のスケールに戻す\n",
    "    '''\n",
    "    normalized_x = np.array(normalized_x)\n",
    "    denormalize_array = (normalized_x) * (x_max - x_min) + x_min\n",
    "    return denormalize_array"
   ]
  },
  {
   "cell_type": "code",
   "execution_count": 9,
   "metadata": {
    "collapsed": true
   },
   "outputs": [],
   "source": [
    "def get_input_data(X):\n",
    "    '''\n",
    "    全時系列データから00:00 ~ 20:00までのデータごとに分割する\n",
    "    '''\n",
    "    input_list = []\n",
    "    # 一日は48個の時間帯に分けられる\n",
    "    total_size = len(X) // 48\n",
    "    reshaped_size = X[0:41].shape[0] * X[0:41].shape[1]\n",
    "    for i in range(total_size+1):\n",
    "        each_data = X[(i*48):(i*48+41)]\n",
    "        reshaped = each_data.reshape(reshaped_size)\n",
    "        input_list.append(list(reshaped))\n",
    "    input_list = np.array(input_list)\n",
    "    return input_list"
   ]
  },
  {
   "cell_type": "code",
   "execution_count": 10,
   "metadata": {
    "collapsed": true
   },
   "outputs": [],
   "source": [
    "def get_output_data(Y):\n",
    "    '''\n",
    "    全時系列データから00:00 ~ 23:30までのデータごとに分割する\n",
    "    '''\n",
    "    output_list = []\n",
    "    # 一日は48個の時間帯に分けられる\n",
    "    total_size = len(Y) // 48\n",
    "    for i in range(total_size):\n",
    "        each_data = Y[(i*48):(i*48+48)]\n",
    "        reshaped = each_data.reshape(48)\n",
    "        output_list.append(list(reshaped))\n",
    "    output_list = np.array(output_list)\n",
    "    return output_list"
   ]
  },
  {
   "cell_type": "code",
   "execution_count": 11,
   "metadata": {
    "collapsed": true
   },
   "outputs": [],
   "source": [
    "def drop_nan(X, Y):\n",
    "    '''\n",
    "    Yにnanが含まれるペアを削除(他のとこにあるdrop_nanとは別物なので注意)\n",
    "    '''\n",
    "    mask = []\n",
    "    for i in range(len(Y)):\n",
    "        if np.isnan(Y[i]).sum() == 0:\n",
    "            mask.append(True)\n",
    "        else:\n",
    "            mask.append(False)\n",
    "    X = X[mask]\n",
    "    Y = Y[mask]\n",
    "    return X, Y"
   ]
  },
  {
   "cell_type": "code",
   "execution_count": 12,
   "metadata": {
    "collapsed": true
   },
   "outputs": [],
   "source": [
    "def calc_mae(X, Y):\n",
    "    '''\n",
    "    X, Yがメモリを食いすぎるのでfor文で計算\n",
    "    '''\n",
    "    mse = 0\n",
    "    for i in range(len(X)):\n",
    "        mse += np.abs(X[i]- Y[i])\n",
    "    return mse/len(X)"
   ]
  },
  {
   "cell_type": "markdown",
   "metadata": {},
   "source": [
    "### **データを読み込む**"
   ]
  },
  {
   "cell_type": "code",
   "execution_count": 13,
   "metadata": {
    "collapsed": true
   },
   "outputs": [],
   "source": [
    "target_place = 1"
   ]
  },
  {
   "cell_type": "code",
   "execution_count": 14,
   "metadata": {
    "collapsed": true
   },
   "outputs": [],
   "source": [
    "# 発電量データ\n",
    "output_30 = pd.read_csv('data/processed_data/out_put.tsv', delimiter = '\\t')\n",
    "output_30['datetime'] = output_30['datetime'].map(lambda x : pd.to_datetime(x))"
   ]
  },
  {
   "cell_type": "code",
   "execution_count": 15,
   "metadata": {
    "collapsed": true
   },
   "outputs": [],
   "source": [
    "# 予測データ\n",
    "predict_30 = pd.read_csv('data/predicted_data/predict_SOLA01.tsv', delimiter = '\\t')\n",
    "predict_30['datetime'] = predict_30['datetime'].map(lambda x : pd.to_datetime(x))\n",
    "predict_30 = predict_30[['datetime', 'predict_SOLA0'+str(target_place)]]\n",
    "predict_30.columns = [['datetime', 'prediction']]"
   ]
  },
  {
   "cell_type": "markdown",
   "metadata": {},
   "source": [
    "### **分析スタート**"
   ]
  },
  {
   "cell_type": "code",
   "execution_count": 16,
   "metadata": {
    "collapsed": true
   },
   "outputs": [],
   "source": [
    "output_30 = output_30[['datetime', 'SOLA0'+str(target_place)]]\n",
    "output_30.columns = [['datetime', 'actual']]"
   ]
  },
  {
   "cell_type": "code",
   "execution_count": 17,
   "metadata": {
    "collapsed": true
   },
   "outputs": [],
   "source": [
    "output_30 = add_times(output_30)"
   ]
  },
  {
   "cell_type": "code",
   "execution_count": 18,
   "metadata": {
    "collapsed": true
   },
   "outputs": [],
   "source": [
    "predict_30 = add_times(predict_30)"
   ]
  },
  {
   "cell_type": "code",
   "execution_count": 19,
   "metadata": {
    "collapsed": true
   },
   "outputs": [],
   "source": [
    "hours_output = output_30.groupby(['hours'], as_index=False).mean()\n",
    "hours_predict = predict_30.groupby(['hours'], as_index=False).mean()"
   ]
  },
  {
   "cell_type": "code",
   "execution_count": 20,
   "metadata": {
    "collapsed": false,
    "scrolled": false
   },
   "outputs": [
    {
     "data": {
      "text/plain": [
       "<matplotlib.text.Text at 0x10c3bbd30>"
      ]
     },
     "execution_count": 20,
     "metadata": {},
     "output_type": "execute_result"
    },
    {
     "data": {
      "image/png": "[encoded data removed]",
      "text/plain": [
       "<matplotlib.figure.Figure at 0x10c3769e8>"
      ]
     },
     "metadata": {},
     "output_type": "display_data"
    }
   ],
   "source": [
    "left_1 = np.array(hours_output['hours']) - 0.15\n",
    "height_1 = np.array(hours_output['actual'])\n",
    "left_2 = np.array(hours_predict['hours']) + 0.15\n",
    "height_2 = np.array(hours_predict['prediction'])\n",
    "plt.figure(figsize=(20, 10))\n",
    "plt.bar(left_1, height_1, width=0.3, label = \"actual value\", align=\"center\")\n",
    "plt.bar(left_2, height_2, width=0.3, label = \"predicted value\", align=\"center\")\n",
    "plt.title(\"actual output vs prediction\")\n",
    "plt.legend()\n",
    "plt.xticks(left_1+0.15, np.array(hours_output['hours']))\n",
    "plt.xlabel(\"each hours\")\n",
    "plt.ylabel(\"output kwh\")"
   ]
  },
  {
   "cell_type": "markdown",
   "metadata": {},
   "source": [
    "** 0:00 ~ 4:00, 19:00 ~ 23:30の間は4年間一度も発電してない(当たり前) ** \n",
    "\n",
    "** この時間帯は予測の対象から外してもいいかも?(スコアは数ポイントしか改善しなさそう)**"
   ]
  },
  {
   "cell_type": "code",
   "execution_count": 21,
   "metadata": {
    "collapsed": false
   },
   "outputs": [
    {
     "data": {
      "text/plain": [
       "<matplotlib.text.Text at 0x103aede80>"
      ]
     },
     "execution_count": 21,
     "metadata": {},
     "output_type": "execute_result"
    },
    {
     "data": {
      "image/png": "[encoded data removed]",
      "text/plain": [
       "<matplotlib.figure.Figure at 0x10c35dd30>"
      ]
     },
     "metadata": {},
     "output_type": "display_data"
    }
   ],
   "source": [
    "left = np.array(hours_output['hours'])\n",
    "height = np.array(hours_output['actual']) - np.array(hours_predict['prediction'])\n",
    "plt.figure(figsize=(20, 10))\n",
    "plt.bar(left, height, width=0.8, align=\"center\")\n",
    "plt.title(\"diff\")\n",
    "plt.xticks(left, np.array(hours_output['hours']))\n",
    "plt.xlabel(\"each hours\")\n",
    "plt.ylabel(\"output kwh\")"
   ]
  },
  {
   "cell_type": "markdown",
   "metadata": {},
   "source": [
    "### **ピーク時の発電量の予測は意外とうまくいってる**"
   ]
  },
  {
   "cell_type": "markdown",
   "metadata": {},
   "source": [
    "### **発電量自体の分析**"
   ]
  },
  {
   "cell_type": "code",
   "execution_count": 22,
   "metadata": {
    "collapsed": true
   },
   "outputs": [],
   "source": [
    "ymh_output = output_30.groupby(['year', 'month', 'hours'], as_index=False).mean()"
   ]
  },
  {
   "cell_type": "code",
   "execution_count": 23,
   "metadata": {
    "collapsed": false
   },
   "outputs": [
    {
     "data": {
      "text/plain": [
       "<matplotlib.text.Text at 0x10c8a3f28>"
      ]
     },
     "execution_count": 23,
     "metadata": {},
     "output_type": "execute_result"
    },
    {
     "data": {
      "image/png": "[encoded data removed]",
      "text/plain": [
       "<matplotlib.figure.Figure at 0x10c35d9e8>"
      ]
     },
     "metadata": {},
     "output_type": "display_data"
    }
   ],
   "source": [
    "tmp = ymh_output.groupby(['year'], as_index = False).sum()\n",
    "left = np.array(tmp['year'])\n",
    "height = np.array(tmp['actual'])\n",
    "plt.bar(left, height, tick_label = [2012, 2013, 2014, 2015], width=0.8)\n",
    "plt.title(\"yealy tendency\")\n",
    "plt.xlabel(\"year\")\n",
    "plt.ylabel(\"output kwh\")"
   ]
  },
  {
   "cell_type": "code",
   "execution_count": 24,
   "metadata": {
    "collapsed": true
   },
   "outputs": [],
   "source": [
    "monthly_output = output_30.groupby(['month'], as_index=False).sum()"
   ]
  },
  {
   "cell_type": "code",
   "execution_count": 25,
   "metadata": {
    "collapsed": false
   },
   "outputs": [
    {
     "data": {
      "text/plain": [
       "<matplotlib.text.Text at 0x10d063f60>"
      ]
     },
     "execution_count": 25,
     "metadata": {},
     "output_type": "execute_result"
    },
    {
     "data": {
      "image/png": "[encoded data removed]",
      "text/plain": [
       "<matplotlib.figure.Figure at 0x103a5f0b8>"
      ]
     },
     "metadata": {},
     "output_type": "display_data"
    }
   ],
   "source": [
    "plt.bar(monthly_output['month'], monthly_output['actual'], tick_label=np.arange(12)+1, width = 0.8)\n",
    "plt.xlabel(\"month\")\n",
    "plt.ylabel(\"output kwh\")\n",
    "plt.title(\"monthly tendency\")"
   ]
  },
  {
   "cell_type": "code",
   "execution_count": 26,
   "metadata": {
    "collapsed": true
   },
   "outputs": [],
   "source": [
    "ym_output = output_30.groupby(['year', 'month'], as_index=False).sum()"
   ]
  },
  {
   "cell_type": "code",
   "execution_count": 41,
   "metadata": {
    "collapsed": false
   },
   "outputs": [
    {
     "data": {
      "text/plain": [
       "<matplotlib.text.Text at 0x111bdf0f0>"
      ]
     },
     "execution_count": 41,
     "metadata": {},
     "output_type": "execute_result"
    },
    {
     "data": {
      "image/png": "[encoded data removed]",
      "text/plain": [
       "<matplotlib.figure.Figure at 0x111a23eb8>"
      ]
     },
     "metadata": {},
     "output_type": "display_data"
    }
   ],
   "source": [
    "plt.figure(figsize=(20, 10))\n",
    "plt.bar(np.arange(len(ym_output)), ym_output['actual'], width = 0.5)\n",
    "plt.xticks(np.arange(len(ym_output)), np.arange(48)+1)\n",
    "plt.xlabel(\"month\")\n",
    "plt.ylabel(\"output kwh\")\n",
    "plt.title(\"monthly tendency\")"
   ]
  },
  {
   "cell_type": "code",
   "execution_count": null,
   "metadata": {
    "collapsed": true
   },
   "outputs": [],
   "source": [
    "\n",
    "plt.figure(figsize=(20, 10))\n",
    "plt.bar(np.arange(12)), ym_output['actual'], width = 0.5)\n",
    "plt.xticks(np.arange(len(ym_output)), np.arange(48)+1)\n",
    "plt.xlabel(\"month\")\n",
    "plt.ylabel(\"output kwh\")\n",
    "plt.title(\"monthly tendency\")"
   ]
  },
  {
   "cell_type": "markdown",
   "metadata": {},
   "source": [
    "### **予測値との比較**"
   ]
  },
  {
   "cell_type": "code",
   "execution_count": 30,
   "metadata": {
    "collapsed": false
   },
   "outputs": [
    {
     "data": {
      "text/plain": [
       "array([[   2012, 9958169,  412848,  114432],\n",
       "       [   2013, 9989160,  411720,  114336],\n",
       "       [   2014, 9675173,  411720,  114336],\n",
       "       [   2015, 9658947,  411720,  114336]])"
      ]
     },
     "execution_count": 30,
     "metadata": {},
     "output_type": "execute_result"
    }
   ],
   "source": [
    "height_1"
   ]
  },
  {
   "cell_type": "code",
   "execution_count": 34,
   "metadata": {
    "collapsed": false
   },
   "outputs": [
    {
     "data": {
      "text/plain": [
       "array([ 9410147.20758229,  2187435.81649828])"
      ]
     },
     "execution_count": 34,
     "metadata": {},
     "output_type": "execute_result"
    }
   ],
   "source": [
    "height_2"
   ]
  },
  {
   "cell_type": "code",
   "execution_count": 38,
   "metadata": {
    "collapsed": false
   },
   "outputs": [
    {
     "data": {
      "text/plain": [
       "<matplotlib.text.Text at 0x10df13dd8>"
      ]
     },
     "execution_count": 38,
     "metadata": {},
     "output_type": "execute_result"
    },
    {
     "data": {
      "image/png": "[encoded data removed]",
      "text/plain": [
       "<matplotlib.figure.Figure at 0x10d04f2b0>"
      ]
     },
     "metadata": {},
     "output_type": "display_data"
    }
   ],
   "source": [
    "height_1 = np.array(output_30.groupby(['month'], as_index = False).mean()['actual'])\n",
    "height_2 = np.array(predict_30.groupby(['month'], as_index = False).mean()['prediction'])\n",
    "left_1 = np.arange(12) - 0.15\n",
    "left_2 = np.arange(12) + 0.15\n",
    "plt.bar(left_1, height_1, width=0.3)\n",
    "plt.bar(left_2, height_2, width=0.3)\n",
    "plt.xticks(left_1+0.15, np.arange(12)+1)\n",
    "plt.title(\"yealy tendency\")\n",
    "plt.xlabel(\"year\")\n",
    "plt.ylabel(\"output kwh\")"
   ]
  },
  {
   "cell_type": "code",
   "execution_count": null,
   "metadata": {
    "collapsed": true
   },
   "outputs": [],
   "source": []
  }
 ],
 "metadata": {
  "kernelspec": {
   "display_name": "Python 3",
   "language": "python",
   "name": "python3"
  },
  "language_info": {
   "codemirror_mode": {
    "name": "ipython",
    "version": 3
   },
   "file_extension": ".py",
   "mimetype": "text/x-python",
   "name": "python",
   "nbconvert_exporter": "python",
   "pygments_lexer": "ipython3",
   "version": "3.6.0"
  }
 },
 "nbformat": 4,
 "nbformat_minor": 2
}
