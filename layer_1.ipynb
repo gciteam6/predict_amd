{
 "cells": [
  {
   "cell_type": "markdown",
   "metadata": {},
   "source": [
    "# **stackingを試してみる**"
   ]
  },
  {
   "cell_type": "markdown",
   "metadata": {},
   "source": [
    "### **必要な関数・ライブラリ**"
   ]
  },
  {
   "cell_type": "code",
   "execution_count": 1,
   "metadata": {
    "collapsed": true
   },
   "outputs": [],
   "source": [
    "# データ加工・処理・分析モジュール\n",
    "import numpy as np\n",
    "import pandas as pd\n",
    "import matplotlib.pyplot as plt\n",
    "\n",
    "from sklearn.ensemble import RandomForestRegressor\n",
    "from sklearn.model_selection import train_test_split\n",
    "from sklearn.model_selection import KFold\n",
    "\n",
    "import os\n",
    "import math\n",
    "import random\n",
    "\n",
    "%matplotlib inline\n",
    "\n",
    "import time"
   ]
  },
  {
   "cell_type": "code",
   "execution_count": 2,
   "metadata": {
    "collapsed": true
   },
   "outputs": [],
   "source": [
    "def set_time(dataframe, col_name):\n",
    "    '''\n",
    "    to_datetimeを使うための前処理\n",
    "    '''\n",
    "    dataframe[col_name] = dataframe[col_name].map(lambda x : transform_time(x))\n",
    "    return dataframe"
   ]
  },
  {
   "cell_type": "code",
   "execution_count": 3,
   "metadata": {
    "collapsed": true
   },
   "outputs": [],
   "source": [
    "def add_time_sincos(input_data, key=\"datetime\"):\n",
    "    '''\n",
    "    時間や月のデータを加える\n",
    "    '''\n",
    "    input_data['hour'] = input_data['datetime'].map(lambda x: int(x.hour))\n",
    "    input_data['minute'] = input_data['datetime'].map(lambda x: int(x.minute))\n",
    "    input_data['month'] = input_data['datetime'].map(lambda x: int(x.month))\n",
    "    input_data['month_cos'] = input_data['month'].map(lambda x: np.cos(np.pi * x / 12))\n",
    "    input_data['month_sin'] = input_data['month'].map(lambda x: np.sin(np.pi * x / 12))\n",
    "    input_data['hour_cos'] = input_data['hour'].map(lambda x: np.cos(np.pi * x / 24))\n",
    "    input_data['hour_sin'] = input_data['hour'].map(lambda x: np.sin(np.pi * x / 24))\n",
    "    input_data['year'] = input_data['datetime'].map(lambda x: int(x.year))\n",
    "    input_data = input_data.drop(['hour', 'month', 'minute'], axis=1)\n",
    "    return input_data"
   ]
  },
  {
   "cell_type": "code",
   "execution_count": 4,
   "metadata": {
    "collapsed": true
   },
   "outputs": [],
   "source": [
    "def transform_time(x):\n",
    "    '''\n",
    "    set_time内で使う関数\n",
    "    to_datetimeで24時をサポートしないので00に変更する処理\n",
    "    '''\n",
    "    str_x = str(x)\n",
    "    res = ''\n",
    "    if str(x)[8:10] == '24':\n",
    "        res = str_x[0:4] + '-' + str_x[4:6] + '-' + str_x[6:8] + ' 00:'+str_x[10:12] \n",
    "    else:\n",
    "        res = str_x[0:4] + '-' + str_x[4:6] + '-' + str_x[6:8] + ' '+ str_x[8:10] +':'+str_x[10:12]\n",
    "    return res"
   ]
  },
  {
   "cell_type": "code",
   "execution_count": 5,
   "metadata": {
    "collapsed": true
   },
   "outputs": [],
   "source": [
    "def drop_nan(X, Y):\n",
    "    '''\n",
    "    正解データがnanであるデータの組を削除\n",
    "    '''\n",
    "    mask = np.isnan(Y)\n",
    "    X = X[~mask]\n",
    "    Y = Y[~mask]\n",
    "    return X, Y"
   ]
  },
  {
   "cell_type": "code",
   "execution_count": 6,
   "metadata": {
    "collapsed": true
   },
   "outputs": [],
   "source": [
    "-"
   ]
  },
  {
   "cell_type": "code",
   "execution_count": 7,
   "metadata": {
    "collapsed": true
   },
   "outputs": [],
   "source": [
    "def to_zero(prediction):\n",
    "    '''\n",
    "    2012年から2015年の間で一度も発電量がなかった時間帯を0と予測するようにする\n",
    "    '''\n",
    "    mask = np.array([0,0,0,0,0,0,0,0,0,0,1,1,\n",
    "                    1,1,1,1,1,1,1,1,1,1,1,1,\n",
    "                    1,1,1,1,1,1,1,1,1,1,1,1,\n",
    "                    1,1,0,0,0,0,0,0,0,0,0,0])\n",
    "    all_mask = np.array([0,0,0,0,0,0,0,0,0,0,1,1,\n",
    "                        1,1,1,1,1,1,1,1,1,1,1,1,\n",
    "                        1,1,1,1,1,1,1,1,1,1,1,1,\n",
    "                        1,1,0,0,0,0,0,0,0,0,0,0])\n",
    "    length = int(len(prediction)/48)\n",
    "    \n",
    "    for i in range(length-1):\n",
    "        all_mask = np.r_[all_mask, mask]\n",
    "    \n",
    "    return prediction * all_mask"
   ]
  },
  {
   "cell_type": "code",
   "execution_count": 8,
   "metadata": {
    "collapsed": true
   },
   "outputs": [],
   "source": [
    "def to_zero_df(train_prediction):\n",
    "    '''\n",
    "    発電しない時間帯を全て0にする\n",
    "    '''\n",
    "    for column in train_prediction.columns[1:]:\n",
    "        tmp = train_prediction[column]\n",
    "        tmp = np.array(tmp)\n",
    "        tmp = to_zero(tmp)\n",
    "        train_prediction[column] = tmp\n",
    "    return train_prediction"
   ]
  },
  {
   "cell_type": "code",
   "execution_count": 9,
   "metadata": {
    "collapsed": true
   },
   "outputs": [],
   "source": [
    "def minus_to_zero(x):\n",
    "    if x < 0:\n",
    "        return 0\n",
    "    else:\n",
    "        return x"
   ]
  },
  {
   "cell_type": "code",
   "execution_count": 10,
   "metadata": {
    "collapsed": true
   },
   "outputs": [],
   "source": [
    "n_estimators = 20\n",
    "max_depth = 5\n",
    "max_features = \"sqrt\""
   ]
  },
  {
   "cell_type": "code",
   "execution_count": 11,
   "metadata": {
    "collapsed": true
   },
   "outputs": [],
   "source": [
    "# 発電量データ\n",
    "all_output_30 = pd.read_csv('data/processed_data/out_put.tsv', delimiter = '\\t')\n",
    "all_output_30['datetime'] = all_output_30['datetime'].map(lambda x : pd.to_datetime(x))"
   ]
  },
  {
   "cell_type": "markdown",
   "metadata": {},
   "source": [
    "### **ランダムフォレスト**"
   ]
  },
  {
   "cell_type": "markdown",
   "metadata": {},
   "source": [
    "### **浮島発電所について**"
   ]
  },
  {
   "cell_type": "code",
   "execution_count": 12,
   "metadata": {
    "collapsed": true
   },
   "outputs": [],
   "source": [
    "target_place = 1"
   ]
  },
  {
   "cell_type": "code",
   "execution_count": 13,
   "metadata": {},
   "outputs": [
    {
     "name": "stderr",
     "output_type": "stream",
     "text": [
      "/Users/kyojin/anaconda/envs/tf/lib/python3.5/site-packages/ipykernel_launcher.py:6: SettingWithCopyWarning: \n",
      "A value is trying to be set on a copy of a slice from a DataFrame.\n",
      "Try using .loc[row_indexer,col_indexer] = value instead\n",
      "\n",
      "See the caveats in the documentation: http://pandas.pydata.org/pandas-docs/stable/indexing.html#indexing-view-versus-copy\n",
      "  \n",
      "/Users/kyojin/anaconda/envs/tf/lib/python3.5/site-packages/ipykernel_launcher.py:31: SettingWithCopyWarning: \n",
      "A value is trying to be set on a copy of a slice from a DataFrame.\n",
      "Try using .loc[row_indexer,col_indexer] = value instead\n",
      "\n",
      "See the caveats in the documentation: http://pandas.pydata.org/pandas-docs/stable/indexing.html#indexing-view-versus-copy\n"
     ]
    }
   ],
   "source": [
    "# 発電量データ\n",
    "output_30 = all_output_30[['datetime', 'SOLA0'+str(target_place)]]\n",
    "output_30 = scaling_output(output_30)"
   ]
  },
  {
   "cell_type": "code",
   "execution_count": 14,
   "metadata": {
    "collapsed": true
   },
   "outputs": [],
   "source": [
    "# いろんなモデルの予測値の集合(学習用)\n",
    "train_prediction = pd.read_csv(\"data/predicted_data/predict_train_SOLA0\"+str(target_place)+\".tsv\", delimiter=\"\\t\")\n",
    "train_prediction['datetime'] = train_prediction['datetime'].map(lambda x : pd.to_datetime(x))\n",
    "\n",
    "# いろんなモデルの予測値の集合(ほんちゃん)\n",
    "test_prediction = pd.read_csv(\"data/predicted_data/predict_SOLA0\"+str(target_place)+\".tsv\", delimiter=\"\\t\")\n",
    "test_prediction['datetime'] = test_prediction['datetime'].map(lambda x : pd.to_datetime(x))"
   ]
  },
  {
   "cell_type": "code",
   "execution_count": 15,
   "metadata": {
    "collapsed": true
   },
   "outputs": [],
   "source": [
    "# 発電量が0の時間を0にしておく\n",
    "train_prediction = to_zero_df(train_prediction)\n",
    "test_prediction = to_zero_df(test_prediction)"
   ]
  },
  {
   "cell_type": "code",
   "execution_count": 16,
   "metadata": {
    "collapsed": true
   },
   "outputs": [],
   "source": [
    "# 月, 時間の情報を加える\n",
    "train_prediction = add_time_sincos(train_prediction)\n",
    "test_prediction = add_time_sincos(test_prediction)"
   ]
  },
  {
   "cell_type": "code",
   "execution_count": 17,
   "metadata": {
    "scrolled": false
   },
   "outputs": [
    {
     "data": {
      "text/plain": [
       "(39, 39)"
      ]
     },
     "execution_count": 17,
     "metadata": {},
     "output_type": "execute_result"
    }
   ],
   "source": [
    "len(train_prediction.columns), len(test_prediction.columns)"
   ]
  },
  {
   "cell_type": "code",
   "execution_count": 18,
   "metadata": {
    "collapsed": true
   },
   "outputs": [],
   "source": [
    "t_s_datetime = train_prediction['datetime'][0]\n",
    "t_e_datetime = train_prediction['datetime'][len(train_prediction)-1]\n",
    "train_y_s_idx = output_30[output_30['datetime'] == t_s_datetime].index[0]\n",
    "train_y_e_idx = output_30[output_30['datetime'] == t_e_datetime].index[0]\n",
    "\n",
    "X = np.array(train_prediction.drop([\"datetime\"], axis=1))\n",
    "all_X = np.array(train_prediction.drop([\"datetime\"], axis=1))\n",
    "Y = output_30[\"SOLA0\"+str(target_place)][train_y_s_idx:train_y_e_idx+1]\n",
    "X_test = np.array(test_prediction.drop([\"datetime\"], axis=1))"
   ]
  },
  {
   "cell_type": "code",
   "execution_count": 19,
   "metadata": {
    "collapsed": true
   },
   "outputs": [],
   "source": [
    "X = np.array(X)\n",
    "Y = np.array(Y)\n",
    "X, Y = drop_nan(X, Y)"
   ]
  },
  {
   "cell_type": "code",
   "execution_count": 20,
   "metadata": {
    "collapsed": true
   },
   "outputs": [],
   "source": [
    "# 最適な深さを決める\n",
    "\n",
    "X_train, X_val, Y_train, Y_val = train_test_split(X, Y, test_size=int((X.shape[0] * 0.3)))\n",
    "\n",
    "train_maes = []\n",
    "val_maes = []\n",
    "n = 15\n",
    "n_start = 2\n",
    "for i in range(n):\n",
    "    rf = RandomForestRegressor(n_estimators = 10, max_depth = i+n_start, max_features=max_features)\n",
    "    rf.fit(X_train, Y_train)\n",
    "    Y_train_pred = rf.predict(X_train)\n",
    "    Y_val_pred = rf.predict(X_val)\n",
    "    train_maes.append(np.abs(Y_train_pred - Y_train).mean())\n",
    "    val_maes.append(np.abs(Y_val_pred - Y_val).mean())\n",
    "#     print(\"train_mae : \", np.abs(Y_train_pred - Y_train).mean())\n",
    "#     print(\"val_mae : \", np.abs(Y_val_pred - Y_val).mean())"
   ]
  },
  {
   "cell_type": "code",
   "execution_count": 21,
   "metadata": {
    "scrolled": false
   },
   "outputs": [
    {
     "data": {
      "text/plain": [
       "<matplotlib.legend.Legend at 0x113a5a588>"
      ]
     },
     "execution_count": 21,
     "metadata": {},
     "output_type": "execute_result"
    },
    {
     "data": {
      "image/png": "[encoded data removed]",
      "text/plain": [
       "<matplotlib.figure.Figure at 0x1123912b0>"
      ]
     },
     "metadata": {},
     "output_type": "display_data"
    }
   ],
   "source": [
    "plt.plot(train_maes[:], label=\"train_maes\")\n",
    "plt.plot(val_maes[:], label=\"validation_maes\")\n",
    "plt.xticks(np.arange(n), np.arange(n)+n_start)\n",
    "plt.xlabel(\"max_depth\")\n",
    "plt.title(\"decide max_depth\")\n",
    "plt.legend()"
   ]
  },
  {
   "cell_type": "code",
   "execution_count": 22,
   "metadata": {
    "collapsed": true
   },
   "outputs": [],
   "source": [
    "# layer_1におけるtrain\n",
    "try:\n",
    "    train_data = pd.read_csv('data/predicted_data/layer_1_train_SOLA0'+str(target_place)+'.csv')\n",
    "\n",
    "except FileNotFoundError:\n",
    "    s_idx = train_prediction[train_prediction['datetime'] == pd.to_datetime('2012/01/02 00:00')].index[0]\n",
    "    e_idx = train_prediction[train_prediction['datetime'] == pd.to_datetime('2015/12/31 23:30')].index[0]\n",
    "    train_data = pd.DataFrame({\"datetime\":train_prediction['datetime'][s_idx:e_idx+1]})\n",
    "    train_data.index = np.arange(len(train_data))\n",
    "    train_data.to_csv('data/predicted_data/layer_1_train_SOLA0'+str(target_place)+'.csv', index=False)\n",
    "\n",
    "# layer_1におけるtest\n",
    "try:\n",
    "    predict_data = pd.read_csv('data/predicted_data/layer_1_SOLA0'+str(target_place)+'.csv')\n",
    "\n",
    "except FileNotFoundError:\n",
    "    s_idx = test_prediction[test_prediction['datetime'] == pd.to_datetime('2016/01/01 00:00')].index[0]\n",
    "    e_idx = test_prediction[test_prediction['datetime'] == pd.to_datetime('2017/3/31 23:30')].index[0]\n",
    "    predict_data = pd.DataFrame({\"datetime\":test_prediction['datetime'][s_idx:e_idx+1]})\n",
    "    predict_data.index = np.arange(len(predict_data))\n",
    "    predict_data.to_csv('data/predicted_data/layer_1_SOLA0'+str(target_place)+'.csv', index=False)"
   ]
  },
  {
   "cell_type": "code",
   "execution_count": 23,
   "metadata": {
    "collapsed": true
   },
   "outputs": [],
   "source": [
    "# 交差検証\n",
    "t_maes = []\n",
    "v_maes = []\n",
    "n_splits = 5\n",
    "i = 0\n",
    "for train_idx, test_idx in KFold(n_splits=n_splits).split(X):\n",
    "    X_train = X[train_idx]\n",
    "    Y_train = Y[train_idx]\n",
    "    X_val = X[test_idx]\n",
    "    Y_val = Y[test_idx]\n",
    "    \n",
    "    rf = RandomForestRegressor(n_estimators = n_estimators, max_depth = 11, max_features=max_features)\n",
    "    rf.fit(X_train, Y_train)\n",
    "\n",
    "    Y_train_pred = rf.predict(X_train)\n",
    "    Y_val_pred = rf.predict(X_val)\n",
    "    \n",
    "    i += 1\n",
    "    train_data[\"random_forest_\"+str(i)+\"-\"+str(n_splits)+\"folds\"] = rf.predict(all_X)\n",
    "    predict_data[\"random_forest_\"+str(i)+\"-\"+str(n_splits)+\"folds\"] = rf.predict(X_test)\n",
    "    \n",
    "    t_maes.append(np.abs(Y_train_pred - Y_train).mean())\n",
    "    v_maes.append( np.abs(Y_val_pred - Y_val).mean())"
   ]
  },
  {
   "cell_type": "code",
   "execution_count": 24,
   "metadata": {},
   "outputs": [
    {
     "data": {
      "image/png": "[encoded data removed]",
      "text/plain": [
       "<matplotlib.figure.Figure at 0x113a3eda0>"
      ]
     },
     "metadata": {},
     "output_type": "display_data"
    }
   ],
   "source": [
    "plt.plot(t_maes, 's', label=\"train_maes\")\n",
    "plt.plot(v_maes, 'd', label=\"validation_maes\")\n",
    "plt.legend()\n",
    "plt.title(\"each maes of \"+str(n_splits)+\" folds at target_place_\"+str(target_place))\n",
    "plt.xticks(np.arange(n_splits), np.arange(n_splits)+1)\n",
    "plt.show()"
   ]
  },
  {
   "cell_type": "code",
   "execution_count": 25,
   "metadata": {
    "collapsed": true
   },
   "outputs": [],
   "source": [
    "predict_data.to_csv('data/predicted_data/layer_1_SOLA0'+str(target_place)+'.csv', index=False)\n",
    "train_data.to_csv('data/predicted_data/layer_1_train_SOLA0'+str(target_place)+'.csv', index=False)"
   ]
  },
  {
   "cell_type": "markdown",
   "metadata": {},
   "source": [
    "### **扇島発電所について**"
   ]
  },
  {
   "cell_type": "code",
   "execution_count": 26,
   "metadata": {
    "collapsed": true
   },
   "outputs": [],
   "source": [
    "target_place = 2"
   ]
  },
  {
   "cell_type": "code",
   "execution_count": 27,
   "metadata": {},
   "outputs": [
    {
     "name": "stderr",
     "output_type": "stream",
     "text": [
      "/Users/kyojin/anaconda/envs/tf/lib/python3.5/site-packages/ipykernel_launcher.py:6: SettingWithCopyWarning: \n",
      "A value is trying to be set on a copy of a slice from a DataFrame.\n",
      "Try using .loc[row_indexer,col_indexer] = value instead\n",
      "\n",
      "See the caveats in the documentation: http://pandas.pydata.org/pandas-docs/stable/indexing.html#indexing-view-versus-copy\n",
      "  \n",
      "/Users/kyojin/anaconda/envs/tf/lib/python3.5/site-packages/ipykernel_launcher.py:31: SettingWithCopyWarning: \n",
      "A value is trying to be set on a copy of a slice from a DataFrame.\n",
      "Try using .loc[row_indexer,col_indexer] = value instead\n",
      "\n",
      "See the caveats in the documentation: http://pandas.pydata.org/pandas-docs/stable/indexing.html#indexing-view-versus-copy\n"
     ]
    }
   ],
   "source": [
    "# 発電量データ\n",
    "output_30 = all_output_30[['datetime', 'SOLA0'+str(target_place)]]\n",
    "output_30 = scaling_output(output_30)"
   ]
  },
  {
   "cell_type": "code",
   "execution_count": 28,
   "metadata": {
    "collapsed": true
   },
   "outputs": [],
   "source": [
    "# いろんなモデルの予測値の集合(学習用)\n",
    "train_prediction = pd.read_csv(\"data/predicted_data/predict_train_SOLA0\"+str(target_place)+\".tsv\", delimiter=\"\\t\")\n",
    "train_prediction['datetime'] = train_prediction['datetime'].map(lambda x : pd.to_datetime(x))\n",
    "\n",
    "# いろんなモデルの予測値の集合(ほんちゃん)\n",
    "test_prediction = pd.read_csv(\"data/predicted_data/predict_SOLA0\"+str(target_place)+\".tsv\", delimiter=\"\\t\")\n",
    "test_prediction['datetime'] = test_prediction['datetime'].map(lambda x : pd.to_datetime(x))"
   ]
  },
  {
   "cell_type": "code",
   "execution_count": 29,
   "metadata": {
    "collapsed": true
   },
   "outputs": [],
   "source": [
    "# 発電量が0の時間を0にしておく\n",
    "train_prediction = to_zero_df(train_prediction)\n",
    "test_prediction = to_zero_df(test_prediction)"
   ]
  },
  {
   "cell_type": "code",
   "execution_count": 30,
   "metadata": {
    "collapsed": true
   },
   "outputs": [],
   "source": [
    "# 月, 時間の情報を加える\n",
    "train_prediction = add_time_sincos(train_prediction)\n",
    "test_prediction = add_time_sincos(test_prediction)"
   ]
  },
  {
   "cell_type": "code",
   "execution_count": 31,
   "metadata": {
    "scrolled": false
   },
   "outputs": [
    {
     "data": {
      "text/plain": [
       "(39, 39)"
      ]
     },
     "execution_count": 31,
     "metadata": {},
     "output_type": "execute_result"
    }
   ],
   "source": [
    "len(train_prediction.columns), len(test_prediction.columns)"
   ]
  },
  {
   "cell_type": "code",
   "execution_count": 32,
   "metadata": {
    "collapsed": true
   },
   "outputs": [],
   "source": [
    "t_s_datetime = train_prediction['datetime'][0]\n",
    "t_e_datetime = train_prediction['datetime'][len(train_prediction)-1]\n",
    "train_y_s_idx = output_30[output_30['datetime'] == t_s_datetime].index[0]\n",
    "train_y_e_idx = output_30[output_30['datetime'] == t_e_datetime].index[0]\n",
    "\n",
    "X = np.array(train_prediction.drop([\"datetime\"], axis=1))\n",
    "all_X = np.array(train_prediction.drop([\"datetime\"], axis=1))\n",
    "Y = output_30[\"SOLA0\"+str(target_place)][train_y_s_idx:train_y_e_idx+1]\n",
    "X_test = np.array(test_prediction.drop([\"datetime\"], axis=1))"
   ]
  },
  {
   "cell_type": "code",
   "execution_count": 33,
   "metadata": {
    "collapsed": true
   },
   "outputs": [],
   "source": [
    "X = np.array(X)\n",
    "Y = np.array(Y)\n",
    "X, Y = drop_nan(X, Y)"
   ]
  },
  {
   "cell_type": "code",
   "execution_count": 34,
   "metadata": {
    "collapsed": true
   },
   "outputs": [],
   "source": [
    "# 最適な深さを決める\n",
    "\n",
    "X_train, X_val, Y_train, Y_val = train_test_split(X, Y, test_size=int((X.shape[0] * 0.3)))\n",
    "\n",
    "train_maes = []\n",
    "val_maes = []\n",
    "n = 15\n",
    "n_start = 2\n",
    "for i in range(n):\n",
    "    rf = RandomForestRegressor(n_estimators = 10, max_depth = i+n_start, max_features=max_features)\n",
    "    rf.fit(X_train, Y_train)\n",
    "    Y_train_pred = rf.predict(X_train)\n",
    "    Y_val_pred = rf.predict(X_val)\n",
    "    train_maes.append(np.abs(Y_train_pred - Y_train).mean())\n",
    "    val_maes.append(np.abs(Y_val_pred - Y_val).mean())\n",
    "#     print(\"train_mae : \", np.abs(Y_train_pred - Y_train).mean())\n",
    "#     print(\"val_mae : \", np.abs(Y_val_pred - Y_val).mean())"
   ]
  },
  {
   "cell_type": "code",
   "execution_count": 35,
   "metadata": {
    "scrolled": false
   },
   "outputs": [
    {
     "data": {
      "text/plain": [
       "<matplotlib.legend.Legend at 0x114db94a8>"
      ]
     },
     "execution_count": 35,
     "metadata": {},
     "output_type": "execute_result"
    },
    {
     "data": {
      "image/png": "[encoded data removed]",
      "text/plain": [
       "<matplotlib.figure.Figure at 0x112914128>"
      ]
     },
     "metadata": {},
     "output_type": "display_data"
    }
   ],
   "source": [
    "plt.plot(train_maes[:], label=\"train_maes\")\n",
    "plt.plot(val_maes[:], label=\"validation_maes\")\n",
    "plt.xticks(np.arange(n), np.arange(n)+n_start)\n",
    "plt.xlabel(\"max_depth\")\n",
    "plt.title(\"decide max_depth\")\n",
    "plt.legend()"
   ]
  },
  {
   "cell_type": "code",
   "execution_count": 36,
   "metadata": {
    "collapsed": true
   },
   "outputs": [],
   "source": [
    "# layer_1におけるtrain\n",
    "try:\n",
    "    train_data = pd.read_csv('data/predicted_data/layer_1_train_SOLA0'+str(target_place)+'.csv')\n",
    "\n",
    "except FileNotFoundError:\n",
    "    s_idx = train_prediction[train_prediction['datetime'] == pd.to_datetime('2012/01/02 00:00')].index[0]\n",
    "    e_idx = train_prediction[train_prediction['datetime'] == pd.to_datetime('2015/12/31 23:30')].index[0]\n",
    "    train_data = pd.DataFrame({\"datetime\":train_prediction['datetime'][s_idx:e_idx+1]})\n",
    "    train_data.index = np.arange(len(train_data))\n",
    "    train_data.to_csv('data/predicted_data/layer_1_train_SOLA0'+str(target_place)+'.csv', index=False)\n",
    "\n",
    "# layer_1におけるtest\n",
    "try:\n",
    "    predict_data = pd.read_csv('data/predicted_data/layer_1_SOLA0'+str(target_place)+'.csv')\n",
    "\n",
    "except FileNotFoundError:\n",
    "    s_idx = test_prediction[test_prediction['datetime'] == pd.to_datetime('2016/01/01 00:00')].index[0]\n",
    "    e_idx = test_prediction[test_prediction['datetime'] == pd.to_datetime('2017/3/31 23:30')].index[0]\n",
    "    predict_data = pd.DataFrame({\"datetime\":test_prediction['datetime'][s_idx:e_idx+1]})\n",
    "    predict_data.index = np.arange(len(predict_data))\n",
    "    predict_data.to_csv('data/predicted_data/layer_1_SOLA0'+str(target_place)+'.csv', index=False)"
   ]
  },
  {
   "cell_type": "code",
   "execution_count": 37,
   "metadata": {
    "collapsed": true
   },
   "outputs": [],
   "source": [
    "# 交差検証\n",
    "t_maes = []\n",
    "v_maes = []\n",
    "n_splits = 5\n",
    "i = 0\n",
    "for train_idx, test_idx in KFold(n_splits=n_splits).split(X):\n",
    "    X_train = X[train_idx]\n",
    "    Y_train = Y[train_idx]\n",
    "    X_val = X[test_idx]\n",
    "    Y_val = Y[test_idx]\n",
    "    \n",
    "    rf = RandomForestRegressor(n_estimators = n_estimators, max_depth = 10, max_features=max_features)\n",
    "    rf.fit(X_train, Y_train)\n",
    "\n",
    "    Y_train_pred = rf.predict(X_train)\n",
    "    Y_val_pred = rf.predict(X_val)\n",
    "    \n",
    "    i += 1\n",
    "    train_data[\"random_forest_\"+str(i)+\"-\"+str(n_splits)+\"folds\"] = rf.predict(all_X)\n",
    "    predict_data[\"random_forest_\"+str(i)+\"-\"+str(n_splits)+\"folds\"] = rf.predict(X_test)\n",
    "    \n",
    "    t_maes.append(np.abs(Y_train_pred - Y_train).mean())\n",
    "    v_maes.append( np.abs(Y_val_pred - Y_val).mean())"
   ]
  },
  {
   "cell_type": "code",
   "execution_count": 38,
   "metadata": {},
   "outputs": [
    {
     "data": {
      "image/png": "[encoded data removed]",
      "text/plain": [
       "<matplotlib.figure.Figure at 0x114dc04a8>"
      ]
     },
     "metadata": {},
     "output_type": "display_data"
    }
   ],
   "source": [
    "plt.plot(t_maes, 's', label=\"train_maes\")\n",
    "plt.plot(v_maes, 'd', label=\"validation_maes\")\n",
    "plt.legend()\n",
    "plt.title(\"each maes of \"+str(n_splits)+\" folds at target_place_\"+str(target_place))\n",
    "plt.xticks(np.arange(n_splits), np.arange(n_splits)+1)\n",
    "plt.show()"
   ]
  },
  {
   "cell_type": "code",
   "execution_count": 39,
   "metadata": {
    "collapsed": true
   },
   "outputs": [],
   "source": [
    "predict_data.to_csv('data/predicted_data/layer_1_SOLA0'+str(target_place)+'.csv', index=False)\n",
    "train_data.to_csv('data/predicted_data/layer_1_train_SOLA0'+str(target_place)+'.csv', index=False)"
   ]
  },
  {
   "cell_type": "markdown",
   "metadata": {},
   "source": [
    "### **米倉山発電所について**"
   ]
  },
  {
   "cell_type": "code",
   "execution_count": 40,
   "metadata": {
    "collapsed": true
   },
   "outputs": [],
   "source": [
    "target_place = 3"
   ]
  },
  {
   "cell_type": "code",
   "execution_count": 41,
   "metadata": {},
   "outputs": [
    {
     "name": "stderr",
     "output_type": "stream",
     "text": [
      "/Users/kyojin/anaconda/envs/tf/lib/python3.5/site-packages/ipykernel_launcher.py:6: SettingWithCopyWarning: \n",
      "A value is trying to be set on a copy of a slice from a DataFrame.\n",
      "Try using .loc[row_indexer,col_indexer] = value instead\n",
      "\n",
      "See the caveats in the documentation: http://pandas.pydata.org/pandas-docs/stable/indexing.html#indexing-view-versus-copy\n",
      "  \n",
      "/Users/kyojin/anaconda/envs/tf/lib/python3.5/site-packages/ipykernel_launcher.py:31: SettingWithCopyWarning: \n",
      "A value is trying to be set on a copy of a slice from a DataFrame.\n",
      "Try using .loc[row_indexer,col_indexer] = value instead\n",
      "\n",
      "See the caveats in the documentation: http://pandas.pydata.org/pandas-docs/stable/indexing.html#indexing-view-versus-copy\n"
     ]
    }
   ],
   "source": [
    "# 発電量データ\n",
    "output_30 = all_output_30[['datetime', 'SOLA0'+str(target_place)]]\n",
    "output_30 = scaling_output(output_30)"
   ]
  },
  {
   "cell_type": "code",
   "execution_count": 42,
   "metadata": {
    "collapsed": true
   },
   "outputs": [],
   "source": [
    "# いろんなモデルの予測値の集合(学習用)\n",
    "train_prediction = pd.read_csv(\"data/predicted_data/predict_train_SOLA0\"+str(target_place)+\".tsv\", delimiter=\"\\t\")\n",
    "train_prediction['datetime'] = train_prediction['datetime'].map(lambda x : pd.to_datetime(x))\n",
    "\n",
    "# いろんなモデルの予測値の集合(ほんちゃん)\n",
    "test_prediction = pd.read_csv(\"data/predicted_data/predict_SOLA0\"+str(target_place)+\".tsv\", delimiter=\"\\t\")\n",
    "test_prediction['datetime'] = test_prediction['datetime'].map(lambda x : pd.to_datetime(x))"
   ]
  },
  {
   "cell_type": "code",
   "execution_count": 43,
   "metadata": {
    "collapsed": true
   },
   "outputs": [],
   "source": [
    "# 発電量が0の時間を0にしておく\n",
    "train_prediction = to_zero_df(train_prediction)\n",
    "test_prediction = to_zero_df(test_prediction)"
   ]
  },
  {
   "cell_type": "code",
   "execution_count": 44,
   "metadata": {
    "collapsed": true
   },
   "outputs": [],
   "source": [
    "# 月, 時間の情報を加える\n",
    "train_prediction = add_time_sincos(train_prediction)\n",
    "test_prediction = add_time_sincos(test_prediction)"
   ]
  },
  {
   "cell_type": "code",
   "execution_count": 45,
   "metadata": {
    "scrolled": false
   },
   "outputs": [
    {
     "data": {
      "text/plain": [
       "(39, 39)"
      ]
     },
     "execution_count": 45,
     "metadata": {},
     "output_type": "execute_result"
    }
   ],
   "source": [
    "len(train_prediction.columns), len(test_prediction.columns)"
   ]
  },
  {
   "cell_type": "code",
   "execution_count": 46,
   "metadata": {
    "collapsed": true
   },
   "outputs": [],
   "source": [
    "t_s_datetime = train_prediction['datetime'][0]\n",
    "t_e_datetime = train_prediction['datetime'][len(train_prediction)-1]\n",
    "train_y_s_idx = output_30[output_30['datetime'] == t_s_datetime].index[0]\n",
    "train_y_e_idx = output_30[output_30['datetime'] == t_e_datetime].index[0]\n",
    "\n",
    "X = np.array(train_prediction.drop([\"datetime\"], axis=1))\n",
    "all_X = np.array(train_prediction.drop([\"datetime\"], axis=1))\n",
    "Y = output_30[\"SOLA0\"+str(target_place)][train_y_s_idx:train_y_e_idx+1]\n",
    "X_test = np.array(test_prediction.drop([\"datetime\"], axis=1))"
   ]
  },
  {
   "cell_type": "code",
   "execution_count": 47,
   "metadata": {
    "collapsed": true
   },
   "outputs": [],
   "source": [
    "X = np.array(X)\n",
    "Y = np.array(Y)\n",
    "X, Y = drop_nan(X, Y)"
   ]
  },
  {
   "cell_type": "code",
   "execution_count": 48,
   "metadata": {
    "collapsed": true
   },
   "outputs": [],
   "source": [
    "# 最適な深さを決める\n",
    "\n",
    "X_train, X_val, Y_train, Y_val = train_test_split(X, Y, test_size=int((X.shape[0] * 0.3)))\n",
    "\n",
    "train_maes = []\n",
    "val_maes = []\n",
    "n = 15\n",
    "n_start = 2\n",
    "for i in range(n):\n",
    "    rf = RandomForestRegressor(n_estimators = 10, max_depth = i+n_start, max_features=max_features)\n",
    "    rf.fit(X_train, Y_train)\n",
    "    Y_train_pred = rf.predict(X_train)\n",
    "    Y_val_pred = rf.predict(X_val)\n",
    "    train_maes.append(np.abs(Y_train_pred - Y_train).mean())\n",
    "    val_maes.append(np.abs(Y_val_pred - Y_val).mean())\n",
    "#     print(\"train_mae : \", np.abs(Y_train_pred - Y_train).mean())\n",
    "#     print(\"val_mae : \", np.abs(Y_val_pred - Y_val).mean())"
   ]
  },
  {
   "cell_type": "code",
   "execution_count": 49,
   "metadata": {
    "scrolled": false
   },
   "outputs": [
    {
     "data": {
      "text/plain": [
       "<matplotlib.legend.Legend at 0x1128edda0>"
      ]
     },
     "execution_count": 49,
     "metadata": {},
     "output_type": "execute_result"
    },
    {
     "data": {
      "image/png": "[encoded data removed]",
      "text/plain": [
       "<matplotlib.figure.Figure at 0x114f87908>"
      ]
     },
     "metadata": {},
     "output_type": "display_data"
    }
   ],
   "source": [
    "plt.plot(train_maes[:], label=\"train_maes\")\n",
    "plt.plot(val_maes[:], label=\"validation_maes\")\n",
    "plt.xticks(np.arange(n), np.arange(n)+n_start)\n",
    "plt.xlabel(\"max_depth\")\n",
    "plt.title(\"decide max_depth\")\n",
    "plt.legend()"
   ]
  },
  {
   "cell_type": "code",
   "execution_count": 50,
   "metadata": {
    "collapsed": true
   },
   "outputs": [],
   "source": [
    "# layer_1におけるtrain\n",
    "try:\n",
    "    train_data = pd.read_csv('data/predicted_data/layer_1_train_SOLA0'+str(target_place)+'.csv')\n",
    "\n",
    "except FileNotFoundError:\n",
    "    s_idx = train_prediction[train_prediction['datetime'] == pd.to_datetime('2012/01/02 00:00')].index[0]\n",
    "    e_idx = train_prediction[train_prediction['datetime'] == pd.to_datetime('2015/12/31 23:30')].index[0]\n",
    "    train_data = pd.DataFrame({\"datetime\":train_prediction['datetime'][s_idx:e_idx+1]})\n",
    "    train_data.index = np.arange(len(train_data))\n",
    "    train_data.to_csv('data/predicted_data/layer_1_train_SOLA0'+str(target_place)+'.csv', index=False)\n",
    "\n",
    "# layer_1におけるtest\n",
    "try:\n",
    "    predict_data = pd.read_csv('data/predicted_data/layer_1_SOLA0'+str(target_place)+'.csv')\n",
    "\n",
    "except FileNotFoundError:\n",
    "    s_idx = test_prediction[test_prediction['datetime'] == pd.to_datetime('2016/01/01 00:00')].index[0]\n",
    "    e_idx = test_prediction[test_prediction['datetime'] == pd.to_datetime('2017/3/31 23:30')].index[0]\n",
    "    predict_data = pd.DataFrame({\"datetime\":test_prediction['datetime'][s_idx:e_idx+1]})\n",
    "    predict_data.index = np.arange(len(predict_data))\n",
    "    predict_data.to_csv('data/predicted_data/layer_1_SOLA0'+str(target_place)+'.csv', index=False)"
   ]
  },
  {
   "cell_type": "code",
   "execution_count": 51,
   "metadata": {
    "collapsed": true
   },
   "outputs": [],
   "source": [
    "# 交差検証\n",
    "t_maes = []\n",
    "v_maes = []\n",
    "n_splits = 5\n",
    "i = 0\n",
    "for train_idx, test_idx in KFold(n_splits=n_splits).split(X):\n",
    "    X_train = X[train_idx]\n",
    "    Y_train = Y[train_idx]\n",
    "    X_val = X[test_idx]\n",
    "    Y_val = Y[test_idx]\n",
    "    \n",
    "    rf = RandomForestRegressor(n_estimators = n_estimators, max_depth = 10, max_features=max_features)\n",
    "    rf.fit(X_train, Y_train)\n",
    "\n",
    "    Y_train_pred = rf.predict(X_train)\n",
    "    Y_val_pred = rf.predict(X_val)\n",
    "    \n",
    "    i += 1\n",
    "    train_data[\"random_forest_\"+str(i)+\"-\"+str(n_splits)+\"folds\"] = rf.predict(all_X)\n",
    "    predict_data[\"random_forest_\"+str(i)+\"-\"+str(n_splits)+\"folds\"] = rf.predict(X_test)\n",
    "    \n",
    "    t_maes.append(np.abs(Y_train_pred - Y_train).mean())\n",
    "    v_maes.append( np.abs(Y_val_pred - Y_val).mean())"
   ]
  },
  {
   "cell_type": "code",
   "execution_count": 52,
   "metadata": {},
   "outputs": [
    {
     "data": {
      "image/png": "[encoded data removed]",
      "text/plain": [
       "<matplotlib.figure.Figure at 0x11705dc18>"
      ]
     },
     "metadata": {},
     "output_type": "display_data"
    }
   ],
   "source": [
    "plt.plot(t_maes, 's', label=\"train_maes\")\n",
    "plt.plot(v_maes, 'd', label=\"validation_maes\")\n",
    "plt.legend()\n",
    "plt.title(\"each maes of \"+str(n_splits)+\" folds at target_place_\"+str(target_place))\n",
    "plt.xticks(np.arange(n_splits), np.arange(n_splits)+1)\n",
    "plt.show()"
   ]
  },
  {
   "cell_type": "code",
   "execution_count": 53,
   "metadata": {
    "collapsed": true
   },
   "outputs": [],
   "source": [
    "predict_data.to_csv('data/predicted_data/layer_1_SOLA0'+str(target_place)+'.csv', index=False)\n",
    "train_data.to_csv('data/predicted_data/layer_1_train_SOLA0'+str(target_place)+'.csv', index=False)"
   ]
  },
  {
   "cell_type": "markdown",
   "metadata": {},
   "source": [
    "### 線形モデルでやってみる"
   ]
  },
  {
   "cell_type": "code",
   "execution_count": 54,
   "metadata": {
    "collapsed": true
   },
   "outputs": [],
   "source": [
    "from sklearn import linear_model"
   ]
  },
  {
   "cell_type": "markdown",
   "metadata": {},
   "source": [
    "### **浮島**"
   ]
  },
  {
   "cell_type": "code",
   "execution_count": 55,
   "metadata": {
    "collapsed": true
   },
   "outputs": [],
   "source": [
    "target_place = 1"
   ]
  },
  {
   "cell_type": "code",
   "execution_count": 56,
   "metadata": {},
   "outputs": [
    {
     "name": "stderr",
     "output_type": "stream",
     "text": [
      "/Users/kyojin/anaconda/envs/tf/lib/python3.5/site-packages/ipykernel_launcher.py:6: SettingWithCopyWarning: \n",
      "A value is trying to be set on a copy of a slice from a DataFrame.\n",
      "Try using .loc[row_indexer,col_indexer] = value instead\n",
      "\n",
      "See the caveats in the documentation: http://pandas.pydata.org/pandas-docs/stable/indexing.html#indexing-view-versus-copy\n",
      "  \n",
      "/Users/kyojin/anaconda/envs/tf/lib/python3.5/site-packages/ipykernel_launcher.py:31: SettingWithCopyWarning: \n",
      "A value is trying to be set on a copy of a slice from a DataFrame.\n",
      "Try using .loc[row_indexer,col_indexer] = value instead\n",
      "\n",
      "See the caveats in the documentation: http://pandas.pydata.org/pandas-docs/stable/indexing.html#indexing-view-versus-copy\n"
     ]
    }
   ],
   "source": [
    "# 発電量データ\n",
    "output_30 = all_output_30[['datetime', 'SOLA0'+str(target_place)]]\n",
    "output_30 = scaling_output(output_30)"
   ]
  },
  {
   "cell_type": "code",
   "execution_count": 57,
   "metadata": {
    "collapsed": true
   },
   "outputs": [],
   "source": [
    "# いろんなモデルの予測値の集合(学習用)\n",
    "train_prediction = pd.read_csv(\"data/predicted_data/predict_train_SOLA0\"+str(target_place)+\".tsv\", delimiter=\"\\t\")\n",
    "train_prediction['datetime'] = train_prediction['datetime'].map(lambda x : pd.to_datetime(x))\n",
    "\n",
    "# いろんなモデルの予測値の集合(ほんちゃん)\n",
    "test_prediction = pd.read_csv(\"data/predicted_data/predict_SOLA0\"+str(target_place)+\".tsv\", delimiter=\"\\t\")\n",
    "test_prediction['datetime'] = test_prediction['datetime'].map(lambda x : pd.to_datetime(x))"
   ]
  },
  {
   "cell_type": "code",
   "execution_count": 58,
   "metadata": {
    "collapsed": true
   },
   "outputs": [],
   "source": [
    "# 発電量が0の時間を0にしておく\n",
    "train_prediction = to_zero_df(train_prediction)\n",
    "test_prediction = to_zero_df(test_prediction)"
   ]
  },
  {
   "cell_type": "code",
   "execution_count": 59,
   "metadata": {},
   "outputs": [
    {
     "data": {
      "text/plain": [
       "(34, 34)"
      ]
     },
     "execution_count": 59,
     "metadata": {},
     "output_type": "execute_result"
    }
   ],
   "source": [
    "len(train_prediction.columns), len(test_prediction.columns)"
   ]
  },
  {
   "cell_type": "code",
   "execution_count": 60,
   "metadata": {},
   "outputs": [
    {
     "name": "stdout",
     "output_type": "stream",
     "text": [
      "\n"
     ]
    }
   ],
   "source": [
    "# 月,時間ダミーを入れてみてもいいかも\n",
    "'''\n",
    "train_prediction[\"month\"] = train_prediction[\"datetime\"].map(lambda x :str(x.month))\n",
    "train_prediction[\"hour\"] = train_prediction[\"datetime\"].map(lambda x : str(x.hour))\n",
    "test_prediction[\"month\"] = test_prediction[\"datetime\"].map(lambda x :str(x.month))\n",
    "test_prediction[\"hour\"] = test_prediction[\"datetime\"].map(lambda x :str(x.hour))\n",
    "\n",
    "train_prediction =pd.get_dummies(train_prediction)\n",
    "test_prediction =pd.get_dummies(test_prediction)\n",
    "'''\n",
    "\n",
    "print()"
   ]
  },
  {
   "cell_type": "code",
   "execution_count": 61,
   "metadata": {
    "collapsed": true
   },
   "outputs": [],
   "source": [
    "t_s_datetime = train_prediction['datetime'][0]\n",
    "t_e_datetime = train_prediction['datetime'][len(train_prediction)-1]\n",
    "train_y_s_idx = output_30[output_30['datetime'] == t_s_datetime].index[0]\n",
    "train_y_e_idx = output_30[output_30['datetime'] == t_e_datetime].index[0]\n",
    "\n",
    "X = np.array(train_prediction.drop([\"datetime\"], axis=1))\n",
    "all_X = np.array(train_prediction.drop([\"datetime\"], axis=1))\n",
    "Y = output_30[\"SOLA0\"+str(target_place)][train_y_s_idx:train_y_e_idx+1]\n",
    "X_test = np.array(test_prediction.drop([\"datetime\"], axis=1))"
   ]
  },
  {
   "cell_type": "code",
   "execution_count": 62,
   "metadata": {
    "collapsed": true
   },
   "outputs": [],
   "source": [
    "X, Y = drop_nan(X, Y)\n",
    "X = np.array(X)\n",
    "Y = np.array(Y)"
   ]
  },
  {
   "cell_type": "code",
   "execution_count": 63,
   "metadata": {
    "collapsed": true
   },
   "outputs": [],
   "source": [
    "# layer_1におけるtrain\n",
    "try:\n",
    "    train_data = pd.read_csv('data/predicted_data/layer_1_train_SOLA0'+str(target_place)+'.csv')\n",
    "\n",
    "except FileNotFoundError:\n",
    "    s_idx = train_prediction[train_prediction['datetime'] == pd.to_datetime('2012/01/02 00:00')].index[0]\n",
    "    e_idx = train_prediction[train_prediction['datetime'] == pd.to_datetime('2015/12/31 23:30')].index[0]\n",
    "    train_data = pd.DataFrame({\"datetime\":train_prediction['datetime'][s_idx:e_idx+1]})\n",
    "    train_data.index = np.arange(len(train_data))\n",
    "    train_data.to_csv('data/predicted_data/layer_1_train_SOLA0'+str(target_place)+'.csv', index=False)\n",
    "\n",
    "# layer_1におけるtest\n",
    "try:\n",
    "    predict_data = pd.read_csv('data/predicted_data/layer_1_SOLA0'+str(target_place)+'.csv')\n",
    "\n",
    "except FileNotFoundError:\n",
    "    s_idx = test_prediction[test_prediction['datetime'] == pd.to_datetime('2016/01/01 00:00')].index[0]\n",
    "    e_idx = test_prediction[test_prediction['datetime'] == pd.to_datetime('2017/3/31 23:30')].index[0]\n",
    "    predict_data = pd.DataFrame({\"datetime\":test_prediction['datetime'][s_idx:e_idx+1]})\n",
    "    predict_data.index = np.arange(len(predict_data))\n",
    "    predict_data.to_csv('data/predicted_data/layer_1_SOLA0'+str(target_place)+'.csv', index=False)"
   ]
  },
  {
   "cell_type": "code",
   "execution_count": 64,
   "metadata": {},
   "outputs": [
    {
     "name": "stderr",
     "output_type": "stream",
     "text": [
      "/Users/kyojin/anaconda/envs/tf/lib/python3.5/site-packages/scipy/linalg/basic.py:1018: RuntimeWarning: internal gelsd driver lwork query error, required iwork dimension not returned. This is likely the result of LAPACK bug 0038, fixed in LAPACK 3.2.2 (released July 21, 2010). Falling back to 'gelss' driver.\n",
      "  warnings.warn(mesg, RuntimeWarning)\n"
     ]
    }
   ],
   "source": [
    "# 交差検証\n",
    "t_maes = []\n",
    "v_maes = []\n",
    "n_splits = 5\n",
    "i = 0\n",
    "for train_idx, test_idx in KFold(n_splits=n_splits).split(X):\n",
    "    X_train = X[train_idx]\n",
    "    Y_train = Y[train_idx]\n",
    "    X_val = X[test_idx]\n",
    "    Y_val = Y[test_idx]\n",
    "    lin_model = linear_model.LinearRegression(fit_intercept=False)\n",
    "    lin_model.fit(X_train, Y_train)\n",
    "    Y_train_pred = lin_model.predict(X_train)\n",
    "    Y_val_pred = lin_model.predict(X_val)\n",
    "    \n",
    "    i += 1\n",
    "    train_data[\"linear_regression_\"+str(i)+\"-\"+str(n_splits)+\"folds\"] = lin_model.predict(all_X)\n",
    "    predict_data[\"linear_regression_\"+str(i)+\"-\"+str(n_splits)+\"folds\"] = lin_model.predict(X_test)\n",
    "\n",
    "    t_maes.append(np.abs(Y_train_pred - Y_train).mean())\n",
    "    v_maes.append( np.abs(Y_val_pred - Y_val).mean())"
   ]
  },
  {
   "cell_type": "code",
   "execution_count": 65,
   "metadata": {},
   "outputs": [
    {
     "data": {
      "image/png": "[encoded data removed]",
      "text/plain": [
       "<matplotlib.figure.Figure at 0x1142e02b0>"
      ]
     },
     "metadata": {},
     "output_type": "display_data"
    }
   ],
   "source": [
    "plt.plot(t_maes, 's', label=\"train_maes\")\n",
    "plt.plot(v_maes, 'd', label=\"validation_maes\")\n",
    "plt.legend()\n",
    "plt.title(\"each maes of \"+str(n_splits)+\" folds at target_place_\"+str(target_place))\n",
    "plt.xticks(np.arange(n_splits), np.arange(n_splits)+1)\n",
    "plt.show()"
   ]
  },
  {
   "cell_type": "code",
   "execution_count": 66,
   "metadata": {
    "collapsed": true
   },
   "outputs": [],
   "source": [
    "predict_data.to_csv('data/predicted_data/layer_1_SOLA0'+str(target_place)+'.csv', index=False)\n",
    "train_data.to_csv('data/predicted_data/layer_1_train_SOLA0'+str(target_place)+'.csv', index=False)"
   ]
  },
  {
   "cell_type": "markdown",
   "metadata": {},
   "source": [
    "### **扇島**"
   ]
  },
  {
   "cell_type": "code",
   "execution_count": 67,
   "metadata": {
    "collapsed": true
   },
   "outputs": [],
   "source": [
    "target_place = 2"
   ]
  },
  {
   "cell_type": "code",
   "execution_count": 68,
   "metadata": {},
   "outputs": [
    {
     "name": "stderr",
     "output_type": "stream",
     "text": [
      "/Users/kyojin/anaconda/envs/tf/lib/python3.5/site-packages/ipykernel_launcher.py:6: SettingWithCopyWarning: \n",
      "A value is trying to be set on a copy of a slice from a DataFrame.\n",
      "Try using .loc[row_indexer,col_indexer] = value instead\n",
      "\n",
      "See the caveats in the documentation: http://pandas.pydata.org/pandas-docs/stable/indexing.html#indexing-view-versus-copy\n",
      "  \n",
      "/Users/kyojin/anaconda/envs/tf/lib/python3.5/site-packages/ipykernel_launcher.py:31: SettingWithCopyWarning: \n",
      "A value is trying to be set on a copy of a slice from a DataFrame.\n",
      "Try using .loc[row_indexer,col_indexer] = value instead\n",
      "\n",
      "See the caveats in the documentation: http://pandas.pydata.org/pandas-docs/stable/indexing.html#indexing-view-versus-copy\n"
     ]
    }
   ],
   "source": [
    "# 発電量データ\n",
    "output_30 = all_output_30[['datetime', 'SOLA0'+str(target_place)]]\n",
    "output_30 = scaling_output(output_30)"
   ]
  },
  {
   "cell_type": "code",
   "execution_count": 69,
   "metadata": {
    "collapsed": true
   },
   "outputs": [],
   "source": [
    "# いろんなモデルの予測値の集合(学習用)\n",
    "train_prediction = pd.read_csv(\"data/predicted_data/predict_train_SOLA0\"+str(target_place)+\".tsv\", delimiter=\"\\t\")\n",
    "train_prediction['datetime'] = train_prediction['datetime'].map(lambda x : pd.to_datetime(x))\n",
    "\n",
    "# いろんなモデルの予測値の集合(ほんちゃん)\n",
    "test_prediction = pd.read_csv(\"data/predicted_data/predict_SOLA0\"+str(target_place)+\".tsv\", delimiter=\"\\t\")\n",
    "test_prediction['datetime'] = test_prediction['datetime'].map(lambda x : pd.to_datetime(x))"
   ]
  },
  {
   "cell_type": "code",
   "execution_count": 70,
   "metadata": {
    "collapsed": true
   },
   "outputs": [],
   "source": [
    "# 発電量が0の時間を0にしておく\n",
    "train_prediction = to_zero_df(train_prediction)\n",
    "test_prediction = to_zero_df(test_prediction)"
   ]
  },
  {
   "cell_type": "code",
   "execution_count": 71,
   "metadata": {},
   "outputs": [
    {
     "data": {
      "text/plain": [
       "(34, 34)"
      ]
     },
     "execution_count": 71,
     "metadata": {},
     "output_type": "execute_result"
    }
   ],
   "source": [
    "len(train_prediction.columns), len(test_prediction.columns)"
   ]
  },
  {
   "cell_type": "code",
   "execution_count": 72,
   "metadata": {},
   "outputs": [
    {
     "name": "stdout",
     "output_type": "stream",
     "text": [
      "\n"
     ]
    }
   ],
   "source": [
    "# 月,時間ダミーを入れてみてもいいかも\n",
    "'''\n",
    "train_prediction[\"month\"] = train_prediction[\"datetime\"].map(lambda x :str(x.month))\n",
    "train_prediction[\"hour\"] = train_prediction[\"datetime\"].map(lambda x : str(x.hour))\n",
    "test_prediction[\"month\"] = test_prediction[\"datetime\"].map(lambda x :str(x.month))\n",
    "test_prediction[\"hour\"] = test_prediction[\"datetime\"].map(lambda x :str(x.hour))\n",
    "\n",
    "train_prediction =pd.get_dummies(train_prediction)\n",
    "test_prediction =pd.get_dummies(test_prediction)\n",
    "'''\n",
    "\n",
    "print()"
   ]
  },
  {
   "cell_type": "code",
   "execution_count": 73,
   "metadata": {
    "collapsed": true
   },
   "outputs": [],
   "source": [
    "t_s_datetime = train_prediction['datetime'][0]\n",
    "t_e_datetime = train_prediction['datetime'][len(train_prediction)-1]\n",
    "train_y_s_idx = output_30[output_30['datetime'] == t_s_datetime].index[0]\n",
    "train_y_e_idx = output_30[output_30['datetime'] == t_e_datetime].index[0]\n",
    "\n",
    "X = np.array(train_prediction.drop([\"datetime\"], axis=1))\n",
    "all_X = np.array(train_prediction.drop([\"datetime\"], axis=1))\n",
    "Y = output_30[\"SOLA0\"+str(target_place)][train_y_s_idx:train_y_e_idx+1]\n",
    "X_test = np.array(test_prediction.drop([\"datetime\"], axis=1))"
   ]
  },
  {
   "cell_type": "code",
   "execution_count": 74,
   "metadata": {
    "collapsed": true
   },
   "outputs": [],
   "source": [
    "X, Y = drop_nan(X, Y)\n",
    "X = np.array(X)\n",
    "Y = np.array(Y)"
   ]
  },
  {
   "cell_type": "code",
   "execution_count": 75,
   "metadata": {
    "collapsed": true
   },
   "outputs": [],
   "source": [
    "# layer_1におけるtrain\n",
    "try:\n",
    "    train_data = pd.read_csv('data/predicted_data/layer_1_train_SOLA0'+str(target_place)+'.csv')\n",
    "\n",
    "except FileNotFoundError:\n",
    "    s_idx = train_prediction[train_prediction['datetime'] == pd.to_datetime('2012/01/02 00:00')].index[0]\n",
    "    e_idx = train_prediction[train_prediction['datetime'] == pd.to_datetime('2015/12/31 23:30')].index[0]\n",
    "    train_data = pd.DataFrame({\"datetime\":train_prediction['datetime'][s_idx:e_idx+1]})\n",
    "    train_data.index = np.arange(len(train_data))\n",
    "    train_data.to_csv('data/predicted_data/layer_1_train_SOLA0'+str(target_place)+'.csv', index=False)\n",
    "\n",
    "# layer_1におけるtest\n",
    "try:\n",
    "    predict_data = pd.read_csv('data/predicted_data/layer_1_SOLA0'+str(target_place)+'.csv')\n",
    "\n",
    "except FileNotFoundError:\n",
    "    s_idx = test_prediction[test_prediction['datetime'] == pd.to_datetime('2016/01/01 00:00')].index[0]\n",
    "    e_idx = test_prediction[test_prediction['datetime'] == pd.to_datetime('2017/3/31 23:30')].index[0]\n",
    "    predict_data = pd.DataFrame({\"datetime\":test_prediction['datetime'][s_idx:e_idx+1]})\n",
    "    predict_data.index = np.arange(len(predict_data))\n",
    "    predict_data.to_csv('data/predicted_data/layer_1_SOLA0'+str(target_place)+'.csv', index=False)"
   ]
  },
  {
   "cell_type": "code",
   "execution_count": 76,
   "metadata": {
    "collapsed": true
   },
   "outputs": [],
   "source": [
    "# 交差検証\n",
    "t_maes = []\n",
    "v_maes = []\n",
    "n_splits = 5\n",
    "i = 0\n",
    "for train_idx, test_idx in KFold(n_splits=n_splits).split(X):\n",
    "    X_train = X[train_idx]\n",
    "    Y_train = Y[train_idx]\n",
    "    X_val = X[test_idx]\n",
    "    Y_val = Y[test_idx]\n",
    "    lin_model = linear_model.LinearRegression(fit_intercept=False)\n",
    "    lin_model.fit(X_train, Y_train)\n",
    "    Y_train_pred = lin_model.predict(X_train)\n",
    "    Y_val_pred = lin_model.predict(X_val)\n",
    "    \n",
    "    i += 1\n",
    "    train_data[\"linear_regression_\"+str(i)+\"-\"+str(n_splits)+\"folds\"] = lin_model.predict(all_X)\n",
    "    predict_data[\"linear_regression_\"+str(i)+\"-\"+str(n_splits)+\"folds\"] = lin_model.predict(X_test)\n",
    "\n",
    "    t_maes.append(np.abs(Y_train_pred - Y_train).mean())\n",
    "    v_maes.append( np.abs(Y_val_pred - Y_val).mean())"
   ]
  },
  {
   "cell_type": "code",
   "execution_count": 77,
   "metadata": {},
   "outputs": [
    {
     "data": {
      "image/png": "[encoded data removed]",
      "text/plain": [
       "<matplotlib.figure.Figure at 0x116ed0f28>"
      ]
     },
     "metadata": {},
     "output_type": "display_data"
    }
   ],
   "source": [
    "plt.plot(t_maes, 's', label=\"train_maes\")\n",
    "plt.plot(v_maes, 'd', label=\"validation_maes\")\n",
    "plt.legend()\n",
    "plt.title(\"each maes of \"+str(n_splits)+\" folds at target_place_\"+str(target_place))\n",
    "plt.xticks(np.arange(n_splits), np.arange(n_splits)+1)\n",
    "plt.show()"
   ]
  },
  {
   "cell_type": "code",
   "execution_count": 78,
   "metadata": {
    "collapsed": true
   },
   "outputs": [],
   "source": [
    "predict_data.to_csv('data/predicted_data/layer_1_SOLA0'+str(target_place)+'.csv', index=False)\n",
    "train_data.to_csv('data/predicted_data/layer_1_train_SOLA0'+str(target_place)+'.csv', index=False)"
   ]
  },
  {
   "cell_type": "markdown",
   "metadata": {},
   "source": [
    "### **米倉山**"
   ]
  },
  {
   "cell_type": "code",
   "execution_count": 79,
   "metadata": {
    "collapsed": true
   },
   "outputs": [],
   "source": [
    "target_place = 3"
   ]
  },
  {
   "cell_type": "code",
   "execution_count": 80,
   "metadata": {},
   "outputs": [
    {
     "name": "stderr",
     "output_type": "stream",
     "text": [
      "/Users/kyojin/anaconda/envs/tf/lib/python3.5/site-packages/ipykernel_launcher.py:6: SettingWithCopyWarning: \n",
      "A value is trying to be set on a copy of a slice from a DataFrame.\n",
      "Try using .loc[row_indexer,col_indexer] = value instead\n",
      "\n",
      "See the caveats in the documentation: http://pandas.pydata.org/pandas-docs/stable/indexing.html#indexing-view-versus-copy\n",
      "  \n",
      "/Users/kyojin/anaconda/envs/tf/lib/python3.5/site-packages/ipykernel_launcher.py:31: SettingWithCopyWarning: \n",
      "A value is trying to be set on a copy of a slice from a DataFrame.\n",
      "Try using .loc[row_indexer,col_indexer] = value instead\n",
      "\n",
      "See the caveats in the documentation: http://pandas.pydata.org/pandas-docs/stable/indexing.html#indexing-view-versus-copy\n"
     ]
    }
   ],
   "source": [
    "# 発電量データ\n",
    "output_30 = all_output_30[['datetime', 'SOLA0'+str(target_place)]]\n",
    "output_30 = scaling_output(output_30)"
   ]
  },
  {
   "cell_type": "code",
   "execution_count": 81,
   "metadata": {
    "collapsed": true
   },
   "outputs": [],
   "source": [
    "# いろんなモデルの予測値の集合(学習用)\n",
    "train_prediction = pd.read_csv(\"data/predicted_data/predict_train_SOLA0\"+str(target_place)+\".tsv\", delimiter=\"\\t\")\n",
    "train_prediction['datetime'] = train_prediction['datetime'].map(lambda x : pd.to_datetime(x))\n",
    "\n",
    "# いろんなモデルの予測値の集合(ほんちゃん)\n",
    "test_prediction = pd.read_csv(\"data/predicted_data/predict_SOLA0\"+str(target_place)+\".tsv\", delimiter=\"\\t\")\n",
    "test_prediction['datetime'] = test_prediction['datetime'].map(lambda x : pd.to_datetime(x))"
   ]
  },
  {
   "cell_type": "code",
   "execution_count": 82,
   "metadata": {
    "collapsed": true
   },
   "outputs": [],
   "source": [
    "# 発電量が0の時間を0にしておく\n",
    "train_prediction = to_zero_df(train_prediction)\n",
    "test_prediction = to_zero_df(test_prediction)"
   ]
  },
  {
   "cell_type": "code",
   "execution_count": 83,
   "metadata": {},
   "outputs": [
    {
     "data": {
      "text/plain": [
       "(34, 34)"
      ]
     },
     "execution_count": 83,
     "metadata": {},
     "output_type": "execute_result"
    }
   ],
   "source": [
    "len(train_prediction.columns), len(test_prediction.columns)"
   ]
  },
  {
   "cell_type": "code",
   "execution_count": 84,
   "metadata": {},
   "outputs": [
    {
     "name": "stdout",
     "output_type": "stream",
     "text": [
      "\n"
     ]
    }
   ],
   "source": [
    "# 月,時間ダミーを入れてみてもいいかも\n",
    "'''\n",
    "train_prediction[\"month\"] = train_prediction[\"datetime\"].map(lambda x :str(x.month))\n",
    "train_prediction[\"hour\"] = train_prediction[\"datetime\"].map(lambda x : str(x.hour))\n",
    "test_prediction[\"month\"] = test_prediction[\"datetime\"].map(lambda x :str(x.month))\n",
    "test_prediction[\"hour\"] = test_prediction[\"datetime\"].map(lambda x :str(x.hour))\n",
    "\n",
    "train_prediction =pd.get_dummies(train_prediction)\n",
    "test_prediction =pd.get_dummies(test_prediction)\n",
    "'''\n",
    "\n",
    "print()"
   ]
  },
  {
   "cell_type": "code",
   "execution_count": 85,
   "metadata": {
    "collapsed": true
   },
   "outputs": [],
   "source": [
    "t_s_datetime = train_prediction['datetime'][0]\n",
    "t_e_datetime = train_prediction['datetime'][len(train_prediction)-1]\n",
    "train_y_s_idx = output_30[output_30['datetime'] == t_s_datetime].index[0]\n",
    "train_y_e_idx = output_30[output_30['datetime'] == t_e_datetime].index[0]\n",
    "\n",
    "X = np.array(train_prediction.drop([\"datetime\"], axis=1))\n",
    "all_X = np.array(train_prediction.drop([\"datetime\"], axis=1))\n",
    "Y = output_30[\"SOLA0\"+str(target_place)][train_y_s_idx:train_y_e_idx+1]\n",
    "X_test = np.array(test_prediction.drop([\"datetime\"], axis=1))"
   ]
  },
  {
   "cell_type": "code",
   "execution_count": 86,
   "metadata": {
    "collapsed": true
   },
   "outputs": [],
   "source": [
    "X, Y = drop_nan(X, Y)\n",
    "X = np.array(X)\n",
    "Y = np.array(Y)"
   ]
  },
  {
   "cell_type": "code",
   "execution_count": 87,
   "metadata": {
    "collapsed": true
   },
   "outputs": [],
   "source": [
    "# layer_1におけるtrain\n",
    "try:\n",
    "    train_data = pd.read_csv('data/predicted_data/layer_1_train_SOLA0'+str(target_place)+'.csv')\n",
    "\n",
    "except FileNotFoundError:\n",
    "    s_idx = train_prediction[train_prediction['datetime'] == pd.to_datetime('2012/01/02 00:00')].index[0]\n",
    "    e_idx = train_prediction[train_prediction['datetime'] == pd.to_datetime('2015/12/31 23:30')].index[0]\n",
    "    train_data = pd.DataFrame({\"datetime\":train_prediction['datetime'][s_idx:e_idx+1]})\n",
    "    train_data.index = np.arange(len(train_data))\n",
    "    train_data.to_csv('data/predicted_data/layer_1_train_SOLA0'+str(target_place)+'.csv', index=False)\n",
    "\n",
    "# layer_1におけるtest\n",
    "try:\n",
    "    predict_data = pd.read_csv('data/predicted_data/layer_1_SOLA0'+str(target_place)+'.csv')\n",
    "\n",
    "except FileNotFoundError:\n",
    "    s_idx = test_prediction[test_prediction['datetime'] == pd.to_datetime('2016/01/01 00:00')].index[0]\n",
    "    e_idx = test_prediction[test_prediction['datetime'] == pd.to_datetime('2017/3/31 23:30')].index[0]\n",
    "    predict_data = pd.DataFrame({\"datetime\":test_prediction['datetime'][s_idx:e_idx+1]})\n",
    "    predict_data.index = np.arange(len(predict_data))\n",
    "    predict_data.to_csv('data/predicted_data/layer_1_SOLA0'+str(target_place)+'.csv', index=False)"
   ]
  },
  {
   "cell_type": "code",
   "execution_count": 88,
   "metadata": {
    "collapsed": true
   },
   "outputs": [],
   "source": [
    "# 交差検証\n",
    "t_maes = []\n",
    "v_maes = []\n",
    "n_splits = 5\n",
    "i = 0\n",
    "for train_idx, test_idx in KFold(n_splits=n_splits).split(X):\n",
    "    X_train = X[train_idx]\n",
    "    Y_train = Y[train_idx]\n",
    "    X_val = X[test_idx]\n",
    "    Y_val = Y[test_idx]\n",
    "    lin_model = linear_model.LinearRegression(fit_intercept=False)\n",
    "    lin_model.fit(X_train, Y_train)\n",
    "    Y_train_pred = lin_model.predict(X_train)\n",
    "    Y_val_pred = lin_model.predict(X_val)\n",
    "    \n",
    "    i += 1\n",
    "    train_data[\"linear_regression_\"+str(i)+\"-\"+str(n_splits)+\"folds\"] = lin_model.predict(all_X)\n",
    "    predict_data[\"linear_regression_\"+str(i)+\"-\"+str(n_splits)+\"folds\"] = lin_model.predict(X_test)\n",
    "\n",
    "    t_maes.append(np.abs(Y_train_pred - Y_train).mean())\n",
    "    v_maes.append( np.abs(Y_val_pred - Y_val).mean())"
   ]
  },
  {
   "cell_type": "code",
   "execution_count": 89,
   "metadata": {},
   "outputs": [
    {
     "data": {
      "image/png": "[encoded data removed]",
      "text/plain": [
       "<matplotlib.figure.Figure at 0x115939c88>"
      ]
     },
     "metadata": {},
     "output_type": "display_data"
    }
   ],
   "source": [
    "plt.plot(t_maes, 's', label=\"train_maes\")\n",
    "plt.plot(v_maes, 'd', label=\"validation_maes\")\n",
    "plt.legend()\n",
    "plt.title(\"each maes of \"+str(n_splits)+\" folds at target_place_\"+str(target_place))\n",
    "plt.xticks(np.arange(n_splits), np.arange(n_splits)+1)\n",
    "plt.show()"
   ]
  },
  {
   "cell_type": "code",
   "execution_count": 90,
   "metadata": {
    "collapsed": true
   },
   "outputs": [],
   "source": [
    "predict_data.to_csv('data/predicted_data/layer_1_SOLA0'+str(target_place)+'.csv', index=False)\n",
    "train_data.to_csv('data/predicted_data/layer_1_train_SOLA0'+str(target_place)+'.csv', index=False)"
   ]
  },
  {
   "cell_type": "markdown",
   "metadata": {},
   "source": [
    "### **線形モデル(PLS)をつかう**"
   ]
  },
  {
   "cell_type": "code",
   "execution_count": 91,
   "metadata": {
    "collapsed": true
   },
   "outputs": [],
   "source": [
    "from sklearn.cross_decomposition import PLSRegression\n",
    "from sklearn.preprocessing import StandardScaler"
   ]
  },
  {
   "cell_type": "markdown",
   "metadata": {},
   "source": [
    "### **浮島**"
   ]
  },
  {
   "cell_type": "code",
   "execution_count": 92,
   "metadata": {
    "collapsed": true
   },
   "outputs": [],
   "source": [
    "target_place = 1"
   ]
  },
  {
   "cell_type": "code",
   "execution_count": 93,
   "metadata": {},
   "outputs": [
    {
     "name": "stderr",
     "output_type": "stream",
     "text": [
      "/Users/kyojin/anaconda/envs/tf/lib/python3.5/site-packages/ipykernel_launcher.py:6: SettingWithCopyWarning: \n",
      "A value is trying to be set on a copy of a slice from a DataFrame.\n",
      "Try using .loc[row_indexer,col_indexer] = value instead\n",
      "\n",
      "See the caveats in the documentation: http://pandas.pydata.org/pandas-docs/stable/indexing.html#indexing-view-versus-copy\n",
      "  \n",
      "/Users/kyojin/anaconda/envs/tf/lib/python3.5/site-packages/ipykernel_launcher.py:31: SettingWithCopyWarning: \n",
      "A value is trying to be set on a copy of a slice from a DataFrame.\n",
      "Try using .loc[row_indexer,col_indexer] = value instead\n",
      "\n",
      "See the caveats in the documentation: http://pandas.pydata.org/pandas-docs/stable/indexing.html#indexing-view-versus-copy\n"
     ]
    }
   ],
   "source": [
    "# 発電量データ\n",
    "output_30 = all_output_30[['datetime', 'SOLA0'+str(target_place)]]\n",
    "output_30 = scaling_output(output_30)"
   ]
  },
  {
   "cell_type": "code",
   "execution_count": 94,
   "metadata": {
    "collapsed": true
   },
   "outputs": [],
   "source": [
    "# いろんなモデルの予測値の集合(学習用)\n",
    "train_prediction = pd.read_csv(\"data/predicted_data/predict_train_SOLA0\"+str(target_place)+\".tsv\", delimiter=\"\\t\")\n",
    "train_prediction['datetime'] = train_prediction['datetime'].map(lambda x : pd.to_datetime(x))\n",
    "\n",
    "# いろんなモデルの予測値の集合(ほんちゃん)\n",
    "test_prediction = pd.read_csv(\"data/predicted_data/predict_SOLA0\"+str(target_place)+\".tsv\", delimiter=\"\\t\")\n",
    "test_prediction['datetime'] = test_prediction['datetime'].map(lambda x : pd.to_datetime(x))"
   ]
  },
  {
   "cell_type": "code",
   "execution_count": 95,
   "metadata": {},
   "outputs": [
    {
     "data": {
      "text/plain": [
       "(34, 34)"
      ]
     },
     "execution_count": 95,
     "metadata": {},
     "output_type": "execute_result"
    }
   ],
   "source": [
    "len(train_prediction.columns), len(test_prediction.columns)"
   ]
  },
  {
   "cell_type": "code",
   "execution_count": 96,
   "metadata": {
    "collapsed": true
   },
   "outputs": [],
   "source": [
    "t_s_datetime = train_prediction['datetime'][0]\n",
    "t_e_datetime = train_prediction['datetime'][len(train_prediction)-1]\n",
    "train_y_s_idx = output_30[output_30['datetime'] == t_s_datetime].index[0]\n",
    "train_y_e_idx = output_30[output_30['datetime'] == t_e_datetime].index[0]\n",
    "\n",
    "X = np.array(train_prediction.drop([\"datetime\"], axis=1))\n",
    "all_X = np.array(train_prediction.drop([\"datetime\"], axis=1))\n",
    "Y = output_30[\"SOLA0\"+str(target_place)][train_y_s_idx:train_y_e_idx+1]\n",
    "X_test = np.array(test_prediction.drop([\"datetime\"], axis=1))"
   ]
  },
  {
   "cell_type": "code",
   "execution_count": 97,
   "metadata": {
    "collapsed": true
   },
   "outputs": [],
   "source": [
    "X = np.array(X)\n",
    "Y = np.array(Y)\n",
    "X, Y = drop_nan(X, Y)\n",
    "Y = Y.reshape(-1,1)"
   ]
  },
  {
   "cell_type": "code",
   "execution_count": 98,
   "metadata": {
    "collapsed": true
   },
   "outputs": [],
   "source": [
    "X_scaler = StandardScaler()\n",
    "Y_scaler = StandardScaler()\n",
    "scaled_X = X_scaler.fit_transform(X)\n",
    "scaled_Y = Y_scaler.fit_transform(Y)"
   ]
  },
  {
   "cell_type": "code",
   "execution_count": 99,
   "metadata": {
    "collapsed": true
   },
   "outputs": [],
   "source": [
    "# layer_1におけるtrain\n",
    "try:\n",
    "    train_data = pd.read_csv('data/predicted_data/layer_1_train_SOLA0'+str(target_place)+'.csv')\n",
    "\n",
    "except FileNotFoundError:\n",
    "    s_idx = train_prediction[train_prediction['datetime'] == pd.to_datetime('2012/01/02 00:00')].index[0]\n",
    "    e_idx = train_prediction[train_prediction['datetime'] == pd.to_datetime('2015/12/31 23:30')].index[0]\n",
    "    train_data = pd.DataFrame({\"datetime\":train_prediction['datetime'][s_idx:e_idx+1]})\n",
    "    train_data.index = np.arange(len(train_data))\n",
    "    train_data.to_csv('data/predicted_data/layer_1_train_SOLA0'+str(target_place)+'.csv', index=False)\n",
    "\n",
    "# layer_1におけるtest\n",
    "try:\n",
    "    predict_data = pd.read_csv('data/predicted_data/layer_1_SOLA0'+str(target_place)+'.csv')\n",
    "\n",
    "except FileNotFoundError:\n",
    "    s_idx = test_prediction[test_prediction['datetime'] == pd.to_datetime('2016/01/01 00:00')].index[0]\n",
    "    e_idx = test_prediction[test_prediction['datetime'] == pd.to_datetime('2017/3/31 23:30')].index[0]\n",
    "    predict_data = pd.DataFrame({\"datetime\":test_prediction['datetime'][s_idx:e_idx+1]})\n",
    "    predict_data.index = np.arange(len(predict_data))\n",
    "    predict_data.to_csv('data/predicted_data/layer_1_SOLA0'+str(target_place)+'.csv', index=False)"
   ]
  },
  {
   "cell_type": "code",
   "execution_count": 100,
   "metadata": {
    "collapsed": true
   },
   "outputs": [],
   "source": [
    "# 交差検証\n",
    "t_maes = []\n",
    "v_maes = []\n",
    "n_splits = 5\n",
    "i = 0\n",
    "for train_idx, test_idx in KFold(n_splits=n_splits).split(X):\n",
    "    X_train = scaled_X[train_idx]\n",
    "    Y_train = scaled_Y[train_idx]\n",
    "    X_val = scaled_X[test_idx]\n",
    "    Y_val = scaled_Y[test_idx]\n",
    "    pls = PLSRegression(n_components = 3)\n",
    "    pls.fit(X_train, Y_train)\n",
    "    Y_train_pred = Y_scaler.inverse_transform(pls.predict(X_train))\n",
    "    Y_val_pred = Y_scaler.inverse_transform(pls.predict(X_val))\n",
    "    \n",
    "    i += 1\n",
    "    train_data[\"pls_\"+str(i)+\"-\"+str(n_splits)+\"folds\"] = Y_scaler.inverse_transform(pls.predict(all_X))\n",
    "    predict_data[\"pls_\"+str(i)+\"-\"+str(n_splits)+\"folds\"] = Y_scaler.inverse_transform(pls.predict(X_test))\n",
    "    \n",
    "    t_maes.append(np.abs(Y_train_pred - Y_scaler.inverse_transform(Y_train)).mean())\n",
    "    v_maes.append(np.abs(Y_val_pred - Y_scaler.inverse_transform(Y_val)).mean())"
   ]
  },
  {
   "cell_type": "code",
   "execution_count": 101,
   "metadata": {},
   "outputs": [
    {
     "data": {
      "image/png": "[encoded data removed]",
      "text/plain": [
       "<matplotlib.figure.Figure at 0x11707ab38>"
      ]
     },
     "metadata": {},
     "output_type": "display_data"
    }
   ],
   "source": [
    "plt.plot(t_maes, 's', label=\"train_maes\")\n",
    "plt.plot(v_maes, 'd', label=\"validation_maes\")\n",
    "plt.legend()\n",
    "plt.title(\"each maes of \"+str(n_splits)+\" folds at target_place_\"+str(target_place))\n",
    "plt.xticks(np.arange(n_splits), np.arange(n_splits)+1)\n",
    "plt.show()"
   ]
  },
  {
   "cell_type": "code",
   "execution_count": 102,
   "metadata": {
    "collapsed": true
   },
   "outputs": [],
   "source": [
    "predict_data.to_csv('data/predicted_data/layer_1_SOLA0'+str(target_place)+'.csv', index=False)\n",
    "train_data.to_csv('data/predicted_data/layer_1_train_SOLA0'+str(target_place)+'.csv', index=False)"
   ]
  },
  {
   "cell_type": "markdown",
   "metadata": {},
   "source": [
    "### **扇島**"
   ]
  },
  {
   "cell_type": "code",
   "execution_count": 103,
   "metadata": {
    "collapsed": true
   },
   "outputs": [],
   "source": [
    "target_place = 2"
   ]
  },
  {
   "cell_type": "code",
   "execution_count": 104,
   "metadata": {},
   "outputs": [
    {
     "name": "stderr",
     "output_type": "stream",
     "text": [
      "/Users/kyojin/anaconda/envs/tf/lib/python3.5/site-packages/ipykernel_launcher.py:6: SettingWithCopyWarning: \n",
      "A value is trying to be set on a copy of a slice from a DataFrame.\n",
      "Try using .loc[row_indexer,col_indexer] = value instead\n",
      "\n",
      "See the caveats in the documentation: http://pandas.pydata.org/pandas-docs/stable/indexing.html#indexing-view-versus-copy\n",
      "  \n",
      "/Users/kyojin/anaconda/envs/tf/lib/python3.5/site-packages/ipykernel_launcher.py:31: SettingWithCopyWarning: \n",
      "A value is trying to be set on a copy of a slice from a DataFrame.\n",
      "Try using .loc[row_indexer,col_indexer] = value instead\n",
      "\n",
      "See the caveats in the documentation: http://pandas.pydata.org/pandas-docs/stable/indexing.html#indexing-view-versus-copy\n"
     ]
    }
   ],
   "source": [
    "# 発電量データ\n",
    "output_30 = all_output_30[['datetime', 'SOLA0'+str(target_place)]]\n",
    "output_30 = scaling_output(output_30)"
   ]
  },
  {
   "cell_type": "code",
   "execution_count": 105,
   "metadata": {
    "collapsed": true
   },
   "outputs": [],
   "source": [
    "# いろんなモデルの予測値の集合(学習用)\n",
    "train_prediction = pd.read_csv(\"data/predicted_data/predict_train_SOLA0\"+str(target_place)+\".tsv\", delimiter=\"\\t\")\n",
    "train_prediction['datetime'] = train_prediction['datetime'].map(lambda x : pd.to_datetime(x))\n",
    "\n",
    "# いろんなモデルの予測値の集合(ほんちゃん)\n",
    "test_prediction = pd.read_csv(\"data/predicted_data/predict_SOLA0\"+str(target_place)+\".tsv\", delimiter=\"\\t\")\n",
    "test_prediction['datetime'] = test_prediction['datetime'].map(lambda x : pd.to_datetime(x))"
   ]
  },
  {
   "cell_type": "code",
   "execution_count": 106,
   "metadata": {},
   "outputs": [
    {
     "data": {
      "text/plain": [
       "(34, 34)"
      ]
     },
     "execution_count": 106,
     "metadata": {},
     "output_type": "execute_result"
    }
   ],
   "source": [
    "len(train_prediction.columns), len(test_prediction.columns)"
   ]
  },
  {
   "cell_type": "code",
   "execution_count": 107,
   "metadata": {
    "collapsed": true
   },
   "outputs": [],
   "source": [
    "t_s_datetime = train_prediction['datetime'][0]\n",
    "t_e_datetime = train_prediction['datetime'][len(train_prediction)-1]\n",
    "train_y_s_idx = output_30[output_30['datetime'] == t_s_datetime].index[0]\n",
    "train_y_e_idx = output_30[output_30['datetime'] == t_e_datetime].index[0]\n",
    "\n",
    "X = np.array(train_prediction.drop([\"datetime\"], axis=1))\n",
    "all_X = np.array(train_prediction.drop([\"datetime\"], axis=1))\n",
    "Y = output_30[\"SOLA0\"+str(target_place)][train_y_s_idx:train_y_e_idx+1]\n",
    "X_test = np.array(test_prediction.drop([\"datetime\"], axis=1))"
   ]
  },
  {
   "cell_type": "code",
   "execution_count": 108,
   "metadata": {
    "collapsed": true
   },
   "outputs": [],
   "source": [
    "X = np.array(X)\n",
    "Y = np.array(Y)\n",
    "X, Y = drop_nan(X, Y)\n",
    "Y = Y.reshape(-1,1)"
   ]
  },
  {
   "cell_type": "code",
   "execution_count": 109,
   "metadata": {
    "collapsed": true
   },
   "outputs": [],
   "source": [
    "X_scaler = StandardScaler()\n",
    "Y_scaler = StandardScaler()\n",
    "scaled_X = X_scaler.fit_transform(X)\n",
    "scaled_Y = Y_scaler.fit_transform(Y)"
   ]
  },
  {
   "cell_type": "code",
   "execution_count": 110,
   "metadata": {
    "collapsed": true
   },
   "outputs": [],
   "source": [
    "# layer_1におけるtrain\n",
    "try:\n",
    "    train_data = pd.read_csv('data/predicted_data/layer_1_train_SOLA0'+str(target_place)+'.csv')\n",
    "\n",
    "except FileNotFoundError:\n",
    "    s_idx = train_prediction[train_prediction['datetime'] == pd.to_datetime('2012/01/02 00:00')].index[0]\n",
    "    e_idx = train_prediction[train_prediction['datetime'] == pd.to_datetime('2015/12/31 23:30')].index[0]\n",
    "    train_data = pd.DataFrame({\"datetime\":train_prediction['datetime'][s_idx:e_idx+1]})\n",
    "    train_data.index = np.arange(len(train_data))\n",
    "    train_data.to_csv('data/predicted_data/layer_1_train_SOLA0'+str(target_place)+'.csv', index=False)\n",
    "\n",
    "# layer_1におけるtest\n",
    "try:\n",
    "    predict_data = pd.read_csv('data/predicted_data/layer_1_SOLA0'+str(target_place)+'.csv')\n",
    "\n",
    "except FileNotFoundError:\n",
    "    s_idx = test_prediction[test_prediction['datetime'] == pd.to_datetime('2016/01/01 00:00')].index[0]\n",
    "    e_idx = test_prediction[test_prediction['datetime'] == pd.to_datetime('2017/3/31 23:30')].index[0]\n",
    "    predict_data = pd.DataFrame({\"datetime\":test_prediction['datetime'][s_idx:e_idx+1]})\n",
    "    predict_data.index = np.arange(len(predict_data))\n",
    "    predict_data.to_csv('data/predicted_data/layer_1_SOLA0'+str(target_place)+'.csv', index=False)"
   ]
  },
  {
   "cell_type": "code",
   "execution_count": 111,
   "metadata": {
    "collapsed": true
   },
   "outputs": [],
   "source": [
    "# 交差検証\n",
    "t_maes = []\n",
    "v_maes = []\n",
    "n_splits = 5\n",
    "i = 0\n",
    "for train_idx, test_idx in KFold(n_splits=n_splits).split(X):\n",
    "    X_train = scaled_X[train_idx]\n",
    "    Y_train = scaled_Y[train_idx]\n",
    "    X_val = scaled_X[test_idx]\n",
    "    Y_val = scaled_Y[test_idx]\n",
    "    pls = PLSRegression(n_components = 3)\n",
    "    pls.fit(X_train, Y_train)\n",
    "    Y_train_pred = Y_scaler.inverse_transform(pls.predict(X_train))\n",
    "    Y_val_pred = Y_scaler.inverse_transform(pls.predict(X_val))\n",
    "    \n",
    "    i += 1\n",
    "    train_data[\"pls_\"+str(i)+\"-\"+str(n_splits)+\"folds\"] = Y_scaler.inverse_transform(pls.predict(all_X))\n",
    "    predict_data[\"pls_\"+str(i)+\"-\"+str(n_splits)+\"folds\"] = Y_scaler.inverse_transform(pls.predict(X_test))\n",
    "    \n",
    "    t_maes.append(np.abs(Y_train_pred - Y_scaler.inverse_transform(Y_train)).mean())\n",
    "    v_maes.append(np.abs(Y_val_pred - Y_scaler.inverse_transform(Y_val)).mean())"
   ]
  },
  {
   "cell_type": "code",
   "execution_count": 112,
   "metadata": {},
   "outputs": [
    {
     "data": {
      "image/png": "[encoded data removed]",
      "text/plain": [
       "<matplotlib.figure.Figure at 0x11392acf8>"
      ]
     },
     "metadata": {},
     "output_type": "display_data"
    }
   ],
   "source": [
    "plt.plot(t_maes, 's', label=\"train_maes\")\n",
    "plt.plot(v_maes, 'd', label=\"validation_maes\")\n",
    "plt.legend()\n",
    "plt.title(\"each maes of \"+str(n_splits)+\" folds at target_place_\"+str(target_place))\n",
    "plt.xticks(np.arange(n_splits), np.arange(n_splits)+1)\n",
    "plt.show()"
   ]
  },
  {
   "cell_type": "code",
   "execution_count": 113,
   "metadata": {
    "collapsed": true
   },
   "outputs": [],
   "source": [
    "predict_data.to_csv('data/predicted_data/layer_1_SOLA0'+str(target_place)+'.csv', index=False)\n",
    "train_data.to_csv('data/predicted_data/layer_1_train_SOLA0'+str(target_place)+'.csv', index=False)"
   ]
  },
  {
   "cell_type": "markdown",
   "metadata": {},
   "source": [
    "### **米倉山**"
   ]
  },
  {
   "cell_type": "code",
   "execution_count": 114,
   "metadata": {
    "collapsed": true
   },
   "outputs": [],
   "source": [
    "target_place = 3"
   ]
  },
  {
   "cell_type": "code",
   "execution_count": 115,
   "metadata": {},
   "outputs": [
    {
     "name": "stderr",
     "output_type": "stream",
     "text": [
      "/Users/kyojin/anaconda/envs/tf/lib/python3.5/site-packages/ipykernel_launcher.py:6: SettingWithCopyWarning: \n",
      "A value is trying to be set on a copy of a slice from a DataFrame.\n",
      "Try using .loc[row_indexer,col_indexer] = value instead\n",
      "\n",
      "See the caveats in the documentation: http://pandas.pydata.org/pandas-docs/stable/indexing.html#indexing-view-versus-copy\n",
      "  \n",
      "/Users/kyojin/anaconda/envs/tf/lib/python3.5/site-packages/ipykernel_launcher.py:31: SettingWithCopyWarning: \n",
      "A value is trying to be set on a copy of a slice from a DataFrame.\n",
      "Try using .loc[row_indexer,col_indexer] = value instead\n",
      "\n",
      "See the caveats in the documentation: http://pandas.pydata.org/pandas-docs/stable/indexing.html#indexing-view-versus-copy\n"
     ]
    }
   ],
   "source": [
    "# 発電量データ\n",
    "output_30 = all_output_30[['datetime', 'SOLA0'+str(target_place)]]\n",
    "output_30 = scaling_output(output_30)"
   ]
  },
  {
   "cell_type": "code",
   "execution_count": 116,
   "metadata": {
    "collapsed": true
   },
   "outputs": [],
   "source": [
    "# いろんなモデルの予測値の集合(学習用)\n",
    "train_prediction = pd.read_csv(\"data/predicted_data/predict_train_SOLA0\"+str(target_place)+\".tsv\", delimiter=\"\\t\")\n",
    "train_prediction['datetime'] = train_prediction['datetime'].map(lambda x : pd.to_datetime(x))\n",
    "\n",
    "# いろんなモデルの予測値の集合(ほんちゃん)\n",
    "test_prediction = pd.read_csv(\"data/predicted_data/predict_SOLA0\"+str(target_place)+\".tsv\", delimiter=\"\\t\")\n",
    "test_prediction['datetime'] = test_prediction['datetime'].map(lambda x : pd.to_datetime(x))"
   ]
  },
  {
   "cell_type": "code",
   "execution_count": 117,
   "metadata": {},
   "outputs": [
    {
     "data": {
      "text/plain": [
       "(34, 34)"
      ]
     },
     "execution_count": 117,
     "metadata": {},
     "output_type": "execute_result"
    }
   ],
   "source": [
    "len(train_prediction.columns), len(test_prediction.columns)"
   ]
  },
  {
   "cell_type": "code",
   "execution_count": 118,
   "metadata": {
    "collapsed": true
   },
   "outputs": [],
   "source": [
    "t_s_datetime = train_prediction['datetime'][0]\n",
    "t_e_datetime = train_prediction['datetime'][len(train_prediction)-1]\n",
    "train_y_s_idx = output_30[output_30['datetime'] == t_s_datetime].index[0]\n",
    "train_y_e_idx = output_30[output_30['datetime'] == t_e_datetime].index[0]\n",
    "\n",
    "X = np.array(train_prediction.drop([\"datetime\"], axis=1))\n",
    "all_X = np.array(train_prediction.drop([\"datetime\"], axis=1))\n",
    "Y = output_30[\"SOLA0\"+str(target_place)][train_y_s_idx:train_y_e_idx+1]\n",
    "X_test = np.array(test_prediction.drop([\"datetime\"], axis=1))"
   ]
  },
  {
   "cell_type": "code",
   "execution_count": 119,
   "metadata": {
    "collapsed": true
   },
   "outputs": [],
   "source": [
    "X = np.array(X)\n",
    "Y = np.array(Y)\n",
    "X, Y = drop_nan(X, Y)\n",
    "Y = Y.reshape(-1,1)"
   ]
  },
  {
   "cell_type": "code",
   "execution_count": 120,
   "metadata": {
    "collapsed": true
   },
   "outputs": [],
   "source": [
    "X_scaler = StandardScaler()\n",
    "Y_scaler = StandardScaler()\n",
    "scaled_X = X_scaler.fit_transform(X)\n",
    "scaled_Y = Y_scaler.fit_transform(Y)"
   ]
  },
  {
   "cell_type": "code",
   "execution_count": 121,
   "metadata": {
    "collapsed": true
   },
   "outputs": [],
   "source": [
    "# layer_1におけるtrain\n",
    "try:\n",
    "    train_data = pd.read_csv('data/predicted_data/layer_1_train_SOLA0'+str(target_place)+'.csv')\n",
    "\n",
    "except FileNotFoundError:\n",
    "    s_idx = train_prediction[train_prediction['datetime'] == pd.to_datetime('2012/01/02 00:00')].index[0]\n",
    "    e_idx = train_prediction[train_prediction['datetime'] == pd.to_datetime('2015/12/31 23:30')].index[0]\n",
    "    train_data = pd.DataFrame({\"datetime\":train_prediction['datetime'][s_idx:e_idx+1]})\n",
    "    train_data.index = np.arange(len(train_data))\n",
    "    train_data.to_csv('data/predicted_data/layer_1_train_SOLA0'+str(target_place)+'.csv', index=False)\n",
    "\n",
    "# layer_1におけるtest\n",
    "try:\n",
    "    predict_data = pd.read_csv('data/predicted_data/layer_1_SOLA0'+str(target_place)+'.csv')\n",
    "\n",
    "except FileNotFoundError:\n",
    "    s_idx = test_prediction[test_prediction['datetime'] == pd.to_datetime('2016/01/01 00:00')].index[0]\n",
    "    e_idx = test_prediction[test_prediction['datetime'] == pd.to_datetime('2017/3/31 23:30')].index[0]\n",
    "    predict_data = pd.DataFrame({\"datetime\":test_prediction['datetime'][s_idx:e_idx+1]})\n",
    "    predict_data.index = np.arange(len(predict_data))\n",
    "    predict_data.to_csv('data/predicted_data/layer_1_SOLA0'+str(target_place)+'.csv', index=False)"
   ]
  },
  {
   "cell_type": "code",
   "execution_count": 122,
   "metadata": {
    "collapsed": true
   },
   "outputs": [],
   "source": [
    "# 交差検証\n",
    "t_maes = []\n",
    "v_maes = []\n",
    "n_splits = 5\n",
    "i = 0\n",
    "for train_idx, test_idx in KFold(n_splits=n_splits).split(X):\n",
    "    X_train = scaled_X[train_idx]\n",
    "    Y_train = scaled_Y[train_idx]\n",
    "    X_val = scaled_X[test_idx]\n",
    "    Y_val = scaled_Y[test_idx]\n",
    "    pls = PLSRegression(n_components = 3)\n",
    "    pls.fit(X_train, Y_train)\n",
    "    Y_train_pred = Y_scaler.inverse_transform(pls.predict(X_train))\n",
    "    Y_val_pred = Y_scaler.inverse_transform(pls.predict(X_val))\n",
    "    \n",
    "    i += 1\n",
    "    train_data[\"pls_\"+str(i)+\"-\"+str(n_splits)+\"folds\"] = Y_scaler.inverse_transform(pls.predict(all_X))\n",
    "    predict_data[\"pls_\"+str(i)+\"-\"+str(n_splits)+\"folds\"] = Y_scaler.inverse_transform(pls.predict(X_test))\n",
    "    \n",
    "    t_maes.append(np.abs(Y_train_pred - Y_scaler.inverse_transform(Y_train)).mean())\n",
    "    v_maes.append(np.abs(Y_val_pred - Y_scaler.inverse_transform(Y_val)).mean())"
   ]
  },
  {
   "cell_type": "code",
   "execution_count": 123,
   "metadata": {},
   "outputs": [
    {
     "data": {
      "image/png": "[encoded data removed]",
      "text/plain": [
       "<matplotlib.figure.Figure at 0x11706d940>"
      ]
     },
     "metadata": {},
     "output_type": "display_data"
    }
   ],
   "source": [
    "plt.plot(t_maes, 's', label=\"train_maes\")\n",
    "plt.plot(v_maes, 'd', label=\"validation_maes\")\n",
    "plt.legend()\n",
    "plt.title(\"each maes of \"+str(n_splits)+\" folds at target_place_\"+str(target_place))\n",
    "plt.xticks(np.arange(n_splits), np.arange(n_splits)+1)\n",
    "plt.show()"
   ]
  },
  {
   "cell_type": "code",
   "execution_count": 124,
   "metadata": {
    "collapsed": true
   },
   "outputs": [],
   "source": [
    "predict_data.to_csv('data/predicted_data/layer_1_SOLA0'+str(target_place)+'.csv', index=False)\n",
    "train_data.to_csv('data/predicted_data/layer_1_train_SOLA0'+str(target_place)+'.csv', index=False)"
   ]
  },
  {
   "cell_type": "code",
   "execution_count": null,
   "metadata": {
    "collapsed": true
   },
   "outputs": [],
   "source": []
  }
 ],
 "metadata": {
  "kernelspec": {
   "display_name": "Python 3",
   "language": "python",
   "name": "python3"
  },
  "language_info": {
   "codemirror_mode": {
    "name": "ipython",
    "version": 3
   },
   "file_extension": ".py",
   "mimetype": "text/x-python",
   "name": "python",
   "nbconvert_exporter": "python",
   "pygments_lexer": "ipython3",
   "version": "3.5.3"
  }
 },
 "nbformat": 4,
 "nbformat_minor": 2
}
