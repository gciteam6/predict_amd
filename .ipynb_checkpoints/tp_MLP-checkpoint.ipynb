{
 "cells": [
  {
   "cell_type": "markdown",
   "metadata": {},
   "source": [
    "# **前日の20:00までのデータを用いて翌日の00:00~23:50までの気温をMLPで予測する**"
   ]
  },
  {
   "cell_type": "markdown",
   "metadata": {},
   "source": [
    "### **必要な関数・ライブラリ**"
   ]
  },
  {
   "cell_type": "code",
   "execution_count": 1,
   "metadata": {
    "collapsed": true
   },
   "outputs": [],
   "source": [
    "# データ加工・処理・分析モジュール\n",
    "import numpy as np\n",
    "import pandas as pd\n",
    "import tensorflow as tf\n",
    "import matplotlib.pyplot as plt\n",
    "from sklearn.model_selection import train_test_split\n",
    "import os\n",
    "import random\n",
    "\n",
    "%matplotlib inline\n",
    "\n",
    "import time"
   ]
  },
  {
   "cell_type": "code",
   "execution_count": 2,
   "metadata": {
    "collapsed": true
   },
   "outputs": [],
   "source": [
    "def set_time(dataframe, col_name):\n",
    "    '''\n",
    "    to_datetimeを使うための前処理\n",
    "    '''\n",
    "    dataframe[col_name] = dataframe[col_name].map(lambda x : transform_time(x))\n",
    "    return dataframe"
   ]
  },
  {
   "cell_type": "code",
   "execution_count": 3,
   "metadata": {
    "collapsed": true
   },
   "outputs": [],
   "source": [
    "def transform_time(x):\n",
    "    '''\n",
    "    set_time内で使う関数\n",
    "    to_datetimeで24時をサポートしないので00に変更する処理\n",
    "    '''\n",
    "    str_x = str(x)\n",
    "    res = ''\n",
    "    if str(x)[8:10] == '24':\n",
    "        res = str_x[0:4] + '-' + str_x[4:6] + '-' + str_x[6:8] + ' 00:'+str_x[10:12] \n",
    "    else:\n",
    "        res = str_x[0:4] + '-' + str_x[4:6] + '-' + str_x[6:8] + ' '+ str_x[8:10] +':'+str_x[10:12]\n",
    "    return res"
   ]
  },
  {
   "cell_type": "code",
   "execution_count": 4,
   "metadata": {
    "collapsed": true
   },
   "outputs": [],
   "source": [
    "def normalize_array(x):\n",
    "    '''\n",
    "    min, max, min-max正規化を行なった配列(np.array)を返す\n",
    "    '''\n",
    "    x = np.array(x)\n",
    "    x_min = x.min()\n",
    "    x_max = x.max()\n",
    "    normalized = (x - x_min) / (x_max - x_min) \n",
    "    return x_min, x_max, normalized"
   ]
  },
  {
   "cell_type": "code",
   "execution_count": 5,
   "metadata": {
    "collapsed": true
   },
   "outputs": [],
   "source": [
    "def denormalize_array(normalized_x, x_min, x_max):\n",
    "    '''\n",
    "    正規化前のmin, maxを用いて元のスケールに戻す\n",
    "    '''\n",
    "    normalized_x = np.array(normalized_x)\n",
    "    denormalize_array = (normalized_x) * (x_max - x_min) + x_min\n",
    "    return denormalize_array"
   ]
  },
  {
   "cell_type": "code",
   "execution_count": 6,
   "metadata": {
    "collapsed": true
   },
   "outputs": [],
   "source": [
    "def get_chunked_data(x, chunk_size):\n",
    "    '''\n",
    "    rnnに突っ込むためのchunk_sizeごとに区切った系列データを作る\n",
    "    '''\n",
    "    input_list = []\n",
    "    for i in range(0, len(x) - chunk_size + 1):\n",
    "        input_list.append(x[i : i + chunk_size])\n",
    "    input_list = np.array(input_list)\n",
    "    return input_list"
   ]
  },
  {
   "cell_type": "code",
   "execution_count": 7,
   "metadata": {
    "collapsed": true
   },
   "outputs": [],
   "source": [
    "def drop_nan(X, Y):\n",
    "    '''\n",
    "    正解データがnanであるデータの組を削除\n",
    "    '''\n",
    "    mask = np.isnan(Y)\n",
    "    X = X[~mask]\n",
    "    Y = Y[~mask]\n",
    "    return X, Y"
   ]
  },
  {
   "cell_type": "code",
   "execution_count": 8,
   "metadata": {
    "collapsed": true
   },
   "outputs": [],
   "source": [
    "def calc_mse(X, Y):\n",
    "    '''\n",
    "    X, Yがでかすぎるのでnp系が使えない\n",
    "    '''\n",
    "    mse = 0\n",
    "    for i in range(len(X)):\n",
    "        mse += (X[i]- Y[i]) ** 2\n",
    "    return mse/len(X)"
   ]
  },
  {
   "cell_type": "code",
   "execution_count": 9,
   "metadata": {
    "collapsed": true
   },
   "outputs": [],
   "source": [
    "def calc_mae(X, Y):\n",
    "    mse = 0\n",
    "    for i in range(len(X)):\n",
    "        mse += np.abs(X[i]- Y[i])\n",
    "    return mse/len(X)"
   ]
  },
  {
   "cell_type": "markdown",
   "metadata": {},
   "source": [
    "### **データの準備**"
   ]
  },
  {
   "cell_type": "code",
   "execution_count": 10,
   "metadata": {},
   "outputs": [
    {
     "name": "stdout",
     "output_type": "stream",
     "text": [
      "file exists\n"
     ]
    }
   ],
   "source": [
    "# 予測する発電所番号を決める\n",
    "target_place = 1\n",
    "chunk_size = 12\n",
    "model_name = \"model_\"+str(target_place)+'_chunk_'+str(chunk_size)\n",
    "try:\n",
    "    os.mkdir('./data/'+model_name)\n",
    "except:\n",
    "    print(\"file exists\")"
   ]
  },
  {
   "cell_type": "code",
   "execution_count": 9,
   "metadata": {
    "collapsed": true
   },
   "outputs": [],
   "source": [
    "# アメダスデータの読み込み\n",
    "\n",
    "if target_place == 1 or target_place == 2:\n",
    "    # 横浜アメダスのデータを使って予測する, amd_46106\n",
    "    # 各amdidはamd_masterに記載されている\n",
    "    amd_data = pd.read_csv('data/raw_data/amd_46106.tsv', delimiter = '\\t')\n",
    "    amd_data = set_time(amd_data, 'datetime')\n",
    "    amd_data['datetime'] = amd_data['datetime'].map(lambda x : pd.to_datetime(x))\n",
    "    amd_data.head()\n",
    "elif target_place == 3:\n",
    "    # 甲府アメダスのデータを使って予測する, amd_49142\n",
    "    # 各amdidはamd_masterに記載されている\n",
    "    amd_data = pd.read_csv('data/raw_data/amd_49142.tsv', delimiter = '\\t')\n",
    "    amd_data = set_time(amd_data, 'datetime')\n",
    "    amd_data['datetime'] = amd_data['datetime'].map(lambda x : pd.to_datetime(x))\n",
    "    amd_data.head()\n",
    "else:\n",
    "    raise ValueError(\"invalid input target_place_num\")"
   ]
  },
  {
   "cell_type": "code",
   "execution_count": 10,
   "metadata": {},
   "outputs": [
    {
     "data": {
      "text/html": [
       "<div>\n",
       "<style>\n",
       "    .dataframe thead tr:only-child th {\n",
       "        text-align: right;\n",
       "    }\n",
       "\n",
       "    .dataframe thead th {\n",
       "        text-align: left;\n",
       "    }\n",
       "\n",
       "    .dataframe tbody tr th {\n",
       "        vertical-align: top;\n",
       "    }\n",
       "</style>\n",
       "<table border=\"1\" class=\"dataframe\">\n",
       "  <thead>\n",
       "    <tr style=\"text-align: right;\">\n",
       "      <th></th>\n",
       "      <th>datetime</th>\n",
       "      <th>pr</th>\n",
       "      <th>f_pr</th>\n",
       "      <th>max_ws</th>\n",
       "      <th>f_max_ws</th>\n",
       "      <th>ave_wv</th>\n",
       "      <th>f_ave_wv</th>\n",
       "      <th>ave_ws</th>\n",
       "      <th>f_ave_ws</th>\n",
       "      <th>max_tp</th>\n",
       "      <th>f_max_tp</th>\n",
       "      <th>min_tp</th>\n",
       "      <th>f_min_tp</th>\n",
       "      <th>sl</th>\n",
       "      <th>f_sl</th>\n",
       "      <th>sd</th>\n",
       "      <th>f_sd</th>\n",
       "      <th>dsd</th>\n",
       "      <th>f_dsd</th>\n",
       "    </tr>\n",
       "  </thead>\n",
       "  <tbody>\n",
       "    <tr>\n",
       "      <th>276043</th>\n",
       "      <td>2017-03-31 23:20:00</td>\n",
       "      <td>0</td>\n",
       "      <td>0</td>\n",
       "      <td>56.0</td>\n",
       "      <td>0</td>\n",
       "      <td>1.0</td>\n",
       "      <td>0</td>\n",
       "      <td>32.0</td>\n",
       "      <td>0</td>\n",
       "      <td>54.0</td>\n",
       "      <td>0</td>\n",
       "      <td>53.0</td>\n",
       "      <td>0</td>\n",
       "      <td>0.0</td>\n",
       "      <td>2</td>\n",
       "      <td>0.0</td>\n",
       "      <td>0</td>\n",
       "      <td>0.0</td>\n",
       "      <td>0</td>\n",
       "    </tr>\n",
       "    <tr>\n",
       "      <th>276044</th>\n",
       "      <td>2017-03-31 23:30:00</td>\n",
       "      <td>5</td>\n",
       "      <td>0</td>\n",
       "      <td>61.0</td>\n",
       "      <td>0</td>\n",
       "      <td>1.0</td>\n",
       "      <td>0</td>\n",
       "      <td>35.0</td>\n",
       "      <td>0</td>\n",
       "      <td>54.0</td>\n",
       "      <td>0</td>\n",
       "      <td>53.0</td>\n",
       "      <td>0</td>\n",
       "      <td>0.0</td>\n",
       "      <td>2</td>\n",
       "      <td>0.0</td>\n",
       "      <td>0</td>\n",
       "      <td>0.0</td>\n",
       "      <td>0</td>\n",
       "    </tr>\n",
       "    <tr>\n",
       "      <th>276045</th>\n",
       "      <td>2017-03-31 23:40:00</td>\n",
       "      <td>0</td>\n",
       "      <td>0</td>\n",
       "      <td>55.0</td>\n",
       "      <td>0</td>\n",
       "      <td>1.0</td>\n",
       "      <td>0</td>\n",
       "      <td>33.0</td>\n",
       "      <td>0</td>\n",
       "      <td>54.0</td>\n",
       "      <td>0</td>\n",
       "      <td>53.0</td>\n",
       "      <td>0</td>\n",
       "      <td>0.0</td>\n",
       "      <td>2</td>\n",
       "      <td>0.0</td>\n",
       "      <td>0</td>\n",
       "      <td>0.0</td>\n",
       "      <td>0</td>\n",
       "    </tr>\n",
       "    <tr>\n",
       "      <th>276046</th>\n",
       "      <td>2017-03-31 23:50:00</td>\n",
       "      <td>5</td>\n",
       "      <td>0</td>\n",
       "      <td>65.0</td>\n",
       "      <td>0</td>\n",
       "      <td>36.0</td>\n",
       "      <td>0</td>\n",
       "      <td>39.0</td>\n",
       "      <td>0</td>\n",
       "      <td>54.0</td>\n",
       "      <td>0</td>\n",
       "      <td>52.0</td>\n",
       "      <td>0</td>\n",
       "      <td>0.0</td>\n",
       "      <td>2</td>\n",
       "      <td>0.0</td>\n",
       "      <td>0</td>\n",
       "      <td>0.0</td>\n",
       "      <td>0</td>\n",
       "    </tr>\n",
       "    <tr>\n",
       "      <th>276047</th>\n",
       "      <td>2017-03-31 00:00:00</td>\n",
       "      <td>0</td>\n",
       "      <td>0</td>\n",
       "      <td>72.0</td>\n",
       "      <td>0</td>\n",
       "      <td>36.0</td>\n",
       "      <td>0</td>\n",
       "      <td>45.0</td>\n",
       "      <td>0</td>\n",
       "      <td>54.0</td>\n",
       "      <td>0</td>\n",
       "      <td>53.0</td>\n",
       "      <td>0</td>\n",
       "      <td>0.0</td>\n",
       "      <td>2</td>\n",
       "      <td>0.0</td>\n",
       "      <td>0</td>\n",
       "      <td>0.0</td>\n",
       "      <td>0</td>\n",
       "    </tr>\n",
       "  </tbody>\n",
       "</table>\n",
       "</div>"
      ],
      "text/plain": [
       "                  datetime  pr  f_pr  max_ws  f_max_ws  ave_wv  f_ave_wv  \\\n",
       "276043 2017-03-31 23:20:00   0     0    56.0         0     1.0         0   \n",
       "276044 2017-03-31 23:30:00   5     0    61.0         0     1.0         0   \n",
       "276045 2017-03-31 23:40:00   0     0    55.0         0     1.0         0   \n",
       "276046 2017-03-31 23:50:00   5     0    65.0         0    36.0         0   \n",
       "276047 2017-03-31 00:00:00   0     0    72.0         0    36.0         0   \n",
       "\n",
       "        ave_ws  f_ave_ws  max_tp  f_max_tp  min_tp  f_min_tp   sl  f_sl   sd  \\\n",
       "276043    32.0         0    54.0         0    53.0         0  0.0     2  0.0   \n",
       "276044    35.0         0    54.0         0    53.0         0  0.0     2  0.0   \n",
       "276045    33.0         0    54.0         0    53.0         0  0.0     2  0.0   \n",
       "276046    39.0         0    54.0         0    52.0         0  0.0     2  0.0   \n",
       "276047    45.0         0    54.0         0    53.0         0  0.0     2  0.0   \n",
       "\n",
       "        f_sd  dsd  f_dsd  \n",
       "276043     0  0.0      0  \n",
       "276044     0  0.0      0  \n",
       "276045     0  0.0      0  \n",
       "276046     0  0.0      0  \n",
       "276047     0  0.0      0  "
      ]
     },
     "execution_count": 10,
     "metadata": {},
     "output_type": "execute_result"
    }
   ],
   "source": [
    "amd_data.tail()"
   ]
  },
  {
   "cell_type": "code",
   "execution_count": 11,
   "metadata": {
    "collapsed": true
   },
   "outputs": [],
   "source": [
    "# モデル構築のためにデータを分割する\n",
    "\n",
    "# 日射量の欠損値を一つ前の値で置換/output_data\n",
    "amd_data['max_tp'] = amd_data['max_tp'].fillna(method='bfill')\n",
    "\n",
    "# 学習に必要なデータ\n",
    "# 144ステップ分のデータで次ステップを予測する\n",
    "train_x_s_idx = amd_data[amd_data['datetime'] == pd.to_datetime('2012-01-01 00:10')].index[0]\n",
    "train_x_e_idx = amd_data[amd_data['datetime'] == pd.to_datetime('2015-12-31 23:40')].index[0]\n",
    "train_y_s_idx = train_x_s_idx + chunk_size\n",
    "train_y_e_idx = amd_data[amd_data['datetime'] == pd.to_datetime('2015-12-31 23:50')].index[0]\n",
    "\n",
    "output_tp = amd_data[['max_tp']][train_y_s_idx:train_y_e_idx+1]\n",
    "input_tp = amd_data[['max_tp']][train_x_s_idx:train_x_e_idx+1]\n",
    "\n",
    "# 予測に必要なデータ\n",
    "# 144ステップ分のデータで次の予測をする\n",
    "test_y_s_idx = amd_data[amd_data['datetime'] == pd.to_datetime('2015-12-31 00:00')].index[0]\n",
    "test_y_e_idx = amd_data[amd_data['datetime'] == pd.to_datetime('2017-3-31 23:50')].index[0]\n",
    "test_x_s_idx = test_y_s_idx - chunk_size\n",
    "test_x_e_idx = amd_data[amd_data['datetime'] == pd.to_datetime('2017-3-31 23:40')].index[0]\n",
    "\n",
    "test_input_tp = amd_data[['max_tp']][test_x_s_idx:test_x_e_idx+1]\n",
    "test_output_tp = amd_data[['max_tp']][test_y_s_idx:test_y_e_idx+1]"
   ]
  },
  {
   "cell_type": "code",
   "execution_count": 12,
   "metadata": {
    "collapsed": true
   },
   "outputs": [],
   "source": [
    "# rnnに突っ込むための準備\n",
    "\n",
    "# rnnに突っ込むためにmin-max正規化しておく\n",
    "normalized_input = (input_tp - input_tp.min()) / (input_tp.max() - input_tp.min())\n",
    "normalized_input = np.array(normalized_input)\n",
    "normalized_output = (output_tp - output_tp.min()) / (output_tp.max() - output_tp.min())\n",
    "normalized_output = np.array(normalized_output)\n",
    "\n",
    "# 時系列データのリストにする\n",
    "input_list = get_chunked_data(normalized_input, chunk_size)\n",
    "\n",
    "# testデータの入力を用意\n",
    "normalized_test_input = (test_input_tp - test_input_tp.min()) / (test_input_tp.max() - test_input_tp.min())\n",
    "normalized_test_input = np.array(normalized_test_input)\n",
    "test_input_list = get_chunked_data(normalized_test_input, chunk_size)\n",
    "\n",
    "# denormalize用\n",
    "output_max = float(input_tp.max())\n",
    "output_min = float(input_tp.min())\n",
    "\n",
    "# RNNに突っ込むためにデータを整形\n",
    "X = np.array(input_list).reshape(len(input_list), chunk_size, input_list.shape[2])\n",
    "Y = np.array(normalized_output).reshape(len(input_list), 1)\n",
    "X_predict = np.array(test_input_list).reshape(len(test_input_list), chunk_size, test_input_list.shape[2])"
   ]
  },
  {
   "cell_type": "code",
   "execution_count": 13,
   "metadata": {},
   "outputs": [
    {
     "data": {
      "text/plain": [
       "[<matplotlib.lines.Line2D at 0x11de853c8>]"
      ]
     },
     "execution_count": 13,
     "metadata": {},
     "output_type": "execute_result"
    },
    {
     "data": {
      "image/png": "[encoded data removed]",
      "text/plain": [
       "<matplotlib.figure.Figure at 0x11a3eacc0>"
      ]
     },
     "metadata": {},
     "output_type": "display_data"
    }
   ],
   "source": [
    "plt.plot(input_tp['max_tp'][0:1000])"
   ]
  },
  {
   "cell_type": "markdown",
   "metadata": {},
   "source": [
    "### **モデルの構築**"
   ]
  },
  {
   "cell_type": "markdown",
   "metadata": {},
   "source": [
    "条件:翌日の気温を予測するには前日の20:00までの気象情報しか使えない\n",
    "\n",
    "モデル:翌日の30分毎の気温を前日の20:00までの各所のアメダスの気象情報で予測させる\n",
    "\n",
    "入力:各所のアメダス情報の配列\n",
    "\n",
    "出力:0:00, 0:30, .... , 23:00, 23:30の気温の配列\n"
   ]
  },
  {
   "cell_type": "code",
   "execution_count": null,
   "metadata": {
    "collapsed": true
   },
   "outputs": [],
   "source": []
  }
 ],
 "metadata": {
  "kernelspec": {
   "display_name": "Python 3",
   "language": "python",
   "name": "python3"
  },
  "language_info": {
   "codemirror_mode": {
    "name": "ipython",
    "version": 3
   },
   "file_extension": ".py",
   "mimetype": "text/x-python",
   "name": "python",
   "nbconvert_exporter": "python",
   "pygments_lexer": "ipython3",
   "version": "3.6.2"
  }
 },
 "nbformat": 4,
 "nbformat_minor": 2
}
