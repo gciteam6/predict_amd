{
 "cells": [
  {
   "cell_type": "markdown",
   "metadata": {},
   "source": [
    "# **前日の20:00までのデータを用いて翌日の00:00~23:50までの気温が予測する(30分単位データ)**"
   ]
  },
  {
   "cell_type": "markdown",
   "metadata": {},
   "source": [
    "### **必要な関数・ライブラリ**"
   ]
  },
  {
   "cell_type": "code",
   "execution_count": 1,
   "metadata": {
    "collapsed": true
   },
   "outputs": [],
   "source": [
    "# データ加工・処理・分析モジュール\n",
    "import numpy as np\n",
    "import pandas as pd\n",
    "import tensorflow as tf\n",
    "import matplotlib.pyplot as plt\n",
    "from sklearn.model_selection import train_test_split\n",
    "import os\n",
    "import random\n",
    "\n",
    "%matplotlib inline\n",
    "\n",
    "import time"
   ]
  },
  {
   "cell_type": "code",
   "execution_count": 2,
   "metadata": {
    "collapsed": true
   },
   "outputs": [],
   "source": [
    "def set_time(dataframe, col_name):\n",
    "    '''\n",
    "    to_datetimeを使うための前処理\n",
    "    '''\n",
    "    dataframe[col_name] = dataframe[col_name].map(lambda x : transform_time(x))\n",
    "    return dataframe"
   ]
  },
  {
   "cell_type": "code",
   "execution_count": 3,
   "metadata": {
    "collapsed": true
   },
   "outputs": [],
   "source": [
    "def transform_time(x):\n",
    "    '''\n",
    "    set_time内で使う関数\n",
    "    to_datetimeで24時をサポートしないので00に変更する処理\n",
    "    '''\n",
    "    str_x = str(x)\n",
    "    res = ''\n",
    "    if str(x)[8:10] == '24':\n",
    "        res = str_x[0:4] + '-' + str_x[4:6] + '-' + str_x[6:8] + ' 00:'+str_x[10:12] \n",
    "    else:\n",
    "        res = str_x[0:4] + '-' + str_x[4:6] + '-' + str_x[6:8] + ' '+ str_x[8:10] +':'+str_x[10:12]\n",
    "    return res"
   ]
  },
  {
   "cell_type": "code",
   "execution_count": 4,
   "metadata": {
    "collapsed": true
   },
   "outputs": [],
   "source": [
    "def normalize_array(x):\n",
    "    '''\n",
    "    min, max, min-max正規化を行なった配列(np.array)を返す\n",
    "    '''\n",
    "    x = np.array(x)\n",
    "    x_min = x.min()\n",
    "    x_max = x.max()\n",
    "    normalized = (x - x_min) / (x_max - x_min) \n",
    "    return x_min, x_max, normalized"
   ]
  },
  {
   "cell_type": "code",
   "execution_count": 5,
   "metadata": {
    "collapsed": true
   },
   "outputs": [],
   "source": [
    "def denormalize_array(normalized_x, x_min, x_max):\n",
    "    '''\n",
    "    正規化前のmin, maxを用いて元のスケールに戻す\n",
    "    '''\n",
    "    normalized_x = np.array(normalized_x)\n",
    "    denormalize_array = (normalized_x) * (x_max - x_min) + x_min\n",
    "    return denormalize_array"
   ]
  },
  {
   "cell_type": "code",
   "execution_count": 6,
   "metadata": {
    "collapsed": true
   },
   "outputs": [],
   "source": [
    "def get_chunked_data(x, chunk_size):\n",
    "    '''\n",
    "    rnnに突っ込むためのchunk_sizeごとに区切った系列データを作る\n",
    "    '''\n",
    "    input_list = []\n",
    "    for i in range(0, len(x) - chunk_size + 1):\n",
    "        input_list.append(x[i : i + chunk_size])\n",
    "    input_list = np.array(input_list)\n",
    "    return input_list"
   ]
  },
  {
   "cell_type": "code",
   "execution_count": 7,
   "metadata": {
    "collapsed": true
   },
   "outputs": [],
   "source": [
    "def drop_nan(X, Y):\n",
    "    '''\n",
    "    正解データがnanであるデータの組を削除\n",
    "    '''\n",
    "    mask = np.isnan(Y)\n",
    "    X = X[~mask]\n",
    "    Y = Y[~mask]\n",
    "    return X, Y"
   ]
  },
  {
   "cell_type": "code",
   "execution_count": 8,
   "metadata": {
    "collapsed": true
   },
   "outputs": [],
   "source": [
    "def calc_mse(X, Y):\n",
    "    '''\n",
    "    X, Yがでかすぎるのでnp系が使えない\n",
    "    '''\n",
    "    mse = 0\n",
    "    for i in range(len(X)):\n",
    "        mse += (X[i]- Y[i]) ** 2\n",
    "    return mse/len(X)"
   ]
  },
  {
   "cell_type": "code",
   "execution_count": 9,
   "metadata": {
    "collapsed": true
   },
   "outputs": [],
   "source": [
    "def calc_mae(X, Y):\n",
    "    mse = 0\n",
    "    for i in range(len(X)):\n",
    "        mse += np.abs(X[i]- Y[i])\n",
    "    return mse/len(X)"
   ]
  },
  {
   "cell_type": "markdown",
   "metadata": {},
   "source": [
    "### **データの準備**"
   ]
  },
  {
   "cell_type": "code",
   "execution_count": 10,
   "metadata": {},
   "outputs": [
    {
     "name": "stdout",
     "output_type": "stream",
     "text": [
      "file exists\n"
     ]
    }
   ],
   "source": [
    "# 予測する発電所番号を決める\n",
    "target_place = 1"
   ]
  },
  {
   "cell_type": "code",
   "execution_count": 11,
   "metadata": {
    "collapsed": true
   },
   "outputs": [],
   "source": [
    "# アメダスデータの読み込み\n",
    "\n",
    "if target_place == 1 or target_place == 2:\n",
    "    # 横浜アメダスのデータを使って予測する, amd_46106\n",
    "    # 各amdidはamd_masterに記載されている\n",
    "    amd_data = pd.read_csv('data/raw_data/amd_46106.tsv', delimiter = '\\t')\n",
    "    amd_data = set_time(amd_data, 'datetime')\n",
    "    amd_data['datetime'] = amd_data['datetime'].map(lambda x : pd.to_datetime(x))\n",
    "    amd_data.head()\n",
    "elif target_place == 3:\n",
    "    # 甲府アメダスのデータを使って予測する, amd_49142\n",
    "    # 各amdidはamd_masterに記載されている\n",
    "    amd_data = pd.read_csv('data/raw_data/amd_49142.tsv', delimiter = '\\t')\n",
    "    amd_data = set_time(amd_data, 'datetime')\n",
    "    amd_data['datetime'] = amd_data['datetime'].map(lambda x : pd.to_datetime(x))\n",
    "    amd_data.head()\n",
    "else:\n",
    "    raise ValueError(\"invalid input target_place_num\")"
   ]
  },
  {
   "cell_type": "code",
   "execution_count": 47,
   "metadata": {},
   "outputs": [
    {
     "name": "stdout",
     "output_type": "stream",
     "text": [
      "file exists\n"
     ]
    }
   ],
   "source": [
    "chunk_size = 12\n",
    "model_name = \"30_model_\"+str(target_place)+'_chunk_'+str(chunk_size)\n",
    "try:\n",
    "    os.mkdir('./data/'+model_name)\n",
    "except:\n",
    "    print(\"file exists\")"
   ]
  },
  {
   "cell_type": "code",
   "execution_count": 48,
   "metadata": {
    "scrolled": true
   },
   "outputs": [
    {
     "data": {
      "text/html": [
       "<div>\n",
       "<style>\n",
       "    .dataframe thead tr:only-child th {\n",
       "        text-align: right;\n",
       "    }\n",
       "\n",
       "    .dataframe thead th {\n",
       "        text-align: left;\n",
       "    }\n",
       "\n",
       "    .dataframe tbody tr th {\n",
       "        vertical-align: top;\n",
       "    }\n",
       "</style>\n",
       "<table border=\"1\" class=\"dataframe\">\n",
       "  <thead>\n",
       "    <tr style=\"text-align: right;\">\n",
       "      <th></th>\n",
       "      <th>datetime</th>\n",
       "      <th>pr</th>\n",
       "      <th>f_pr</th>\n",
       "      <th>max_ws</th>\n",
       "      <th>f_max_ws</th>\n",
       "      <th>ave_wv</th>\n",
       "      <th>f_ave_wv</th>\n",
       "      <th>ave_ws</th>\n",
       "      <th>f_ave_ws</th>\n",
       "      <th>max_tp</th>\n",
       "      <th>f_max_tp</th>\n",
       "      <th>min_tp</th>\n",
       "      <th>f_min_tp</th>\n",
       "      <th>sl</th>\n",
       "      <th>f_sl</th>\n",
       "      <th>sd</th>\n",
       "      <th>f_sd</th>\n",
       "      <th>dsd</th>\n",
       "      <th>f_dsd</th>\n",
       "    </tr>\n",
       "  </thead>\n",
       "  <tbody>\n",
       "    <tr>\n",
       "      <th>0</th>\n",
       "      <td>2012-01-01 00:10:00</td>\n",
       "      <td>0</td>\n",
       "      <td>0</td>\n",
       "      <td>48.0</td>\n",
       "      <td>0</td>\n",
       "      <td>36.0</td>\n",
       "      <td>0</td>\n",
       "      <td>32.0</td>\n",
       "      <td>0</td>\n",
       "      <td>57.0</td>\n",
       "      <td>0</td>\n",
       "      <td>56.0</td>\n",
       "      <td>0</td>\n",
       "      <td>0.0</td>\n",
       "      <td>2</td>\n",
       "      <td>0.0</td>\n",
       "      <td>0</td>\n",
       "      <td>0.0</td>\n",
       "      <td>0</td>\n",
       "    </tr>\n",
       "    <tr>\n",
       "      <th>1</th>\n",
       "      <td>2012-01-01 00:20:00</td>\n",
       "      <td>0</td>\n",
       "      <td>0</td>\n",
       "      <td>48.0</td>\n",
       "      <td>0</td>\n",
       "      <td>36.0</td>\n",
       "      <td>0</td>\n",
       "      <td>35.0</td>\n",
       "      <td>0</td>\n",
       "      <td>56.0</td>\n",
       "      <td>0</td>\n",
       "      <td>55.0</td>\n",
       "      <td>0</td>\n",
       "      <td>0.0</td>\n",
       "      <td>2</td>\n",
       "      <td>0.0</td>\n",
       "      <td>0</td>\n",
       "      <td>0.0</td>\n",
       "      <td>0</td>\n",
       "    </tr>\n",
       "    <tr>\n",
       "      <th>2</th>\n",
       "      <td>2012-01-01 00:30:00</td>\n",
       "      <td>0</td>\n",
       "      <td>0</td>\n",
       "      <td>49.0</td>\n",
       "      <td>0</td>\n",
       "      <td>36.0</td>\n",
       "      <td>0</td>\n",
       "      <td>32.0</td>\n",
       "      <td>0</td>\n",
       "      <td>56.0</td>\n",
       "      <td>0</td>\n",
       "      <td>55.0</td>\n",
       "      <td>0</td>\n",
       "      <td>0.0</td>\n",
       "      <td>2</td>\n",
       "      <td>0.0</td>\n",
       "      <td>0</td>\n",
       "      <td>0.0</td>\n",
       "      <td>0</td>\n",
       "    </tr>\n",
       "    <tr>\n",
       "      <th>3</th>\n",
       "      <td>2012-01-01 00:40:00</td>\n",
       "      <td>0</td>\n",
       "      <td>0</td>\n",
       "      <td>49.0</td>\n",
       "      <td>0</td>\n",
       "      <td>35.0</td>\n",
       "      <td>0</td>\n",
       "      <td>35.0</td>\n",
       "      <td>0</td>\n",
       "      <td>56.0</td>\n",
       "      <td>0</td>\n",
       "      <td>54.0</td>\n",
       "      <td>0</td>\n",
       "      <td>0.0</td>\n",
       "      <td>2</td>\n",
       "      <td>0.0</td>\n",
       "      <td>0</td>\n",
       "      <td>0.0</td>\n",
       "      <td>0</td>\n",
       "    </tr>\n",
       "    <tr>\n",
       "      <th>4</th>\n",
       "      <td>2012-01-01 00:50:00</td>\n",
       "      <td>0</td>\n",
       "      <td>0</td>\n",
       "      <td>61.0</td>\n",
       "      <td>0</td>\n",
       "      <td>35.0</td>\n",
       "      <td>0</td>\n",
       "      <td>34.0</td>\n",
       "      <td>0</td>\n",
       "      <td>55.0</td>\n",
       "      <td>0</td>\n",
       "      <td>53.0</td>\n",
       "      <td>0</td>\n",
       "      <td>0.0</td>\n",
       "      <td>2</td>\n",
       "      <td>0.0</td>\n",
       "      <td>0</td>\n",
       "      <td>0.0</td>\n",
       "      <td>0</td>\n",
       "    </tr>\n",
       "  </tbody>\n",
       "</table>\n",
       "</div>"
      ],
      "text/plain": [
       "             datetime  pr  f_pr  max_ws  f_max_ws  ave_wv  f_ave_wv  ave_ws  \\\n",
       "0 2012-01-01 00:10:00   0     0    48.0         0    36.0         0    32.0   \n",
       "1 2012-01-01 00:20:00   0     0    48.0         0    36.0         0    35.0   \n",
       "2 2012-01-01 00:30:00   0     0    49.0         0    36.0         0    32.0   \n",
       "3 2012-01-01 00:40:00   0     0    49.0         0    35.0         0    35.0   \n",
       "4 2012-01-01 00:50:00   0     0    61.0         0    35.0         0    34.0   \n",
       "\n",
       "   f_ave_ws  max_tp  f_max_tp  min_tp  f_min_tp   sl  f_sl   sd  f_sd  dsd  \\\n",
       "0         0    57.0         0    56.0         0  0.0     2  0.0     0  0.0   \n",
       "1         0    56.0         0    55.0         0  0.0     2  0.0     0  0.0   \n",
       "2         0    56.0         0    55.0         0  0.0     2  0.0     0  0.0   \n",
       "3         0    56.0         0    54.0         0  0.0     2  0.0     0  0.0   \n",
       "4         0    55.0         0    53.0         0  0.0     2  0.0     0  0.0   \n",
       "\n",
       "   f_dsd  \n",
       "0      0  \n",
       "1      0  \n",
       "2      0  \n",
       "3      0  \n",
       "4      0  "
      ]
     },
     "execution_count": 48,
     "metadata": {},
     "output_type": "execute_result"
    }
   ],
   "source": [
    "amd_data.head()"
   ]
  },
  {
   "cell_type": "code",
   "execution_count": 49,
   "metadata": {
    "collapsed": true
   },
   "outputs": [],
   "source": [
    "# 日射量の欠損値を一つ前の値で置換/output_data\n",
    "amd_data['max_tp'] = amd_data['max_tp'].fillna(method='bfill')\n",
    "amd_30 = amd_data.set_index('datetime').groupby(pd.TimeGrouper(freq='1800s', closed='left')).sum()"
   ]
  },
  {
   "cell_type": "code",
   "execution_count": 50,
   "metadata": {},
   "outputs": [],
   "source": [
    "amd_30['datetime'] = amd_30.index\n",
    "amd_30.index = np.arange(len(amd_30))"
   ]
  },
  {
   "cell_type": "code",
   "execution_count": 51,
   "metadata": {},
   "outputs": [],
   "source": [
    "# モデル構築のためにデータを分割する\n",
    "\n",
    "# 学習に必要なデータ\n",
    "# 144ステップ分のデータで次ステップを予測する\n",
    "train_x_s_idx = 0\n",
    "train_x_e_idx = amd_30[amd_30['datetime'] == pd.to_datetime('2015-12-31 23:00')].index[0]\n",
    "train_y_s_idx = train_x_s_idx + chunk_size\n",
    "train_y_e_idx = amd_30[amd_30['datetime'] == pd.to_datetime('2015-12-31 23:30')].index[0]\n",
    "\n",
    "output_tp = amd_30[['max_tp']][train_y_s_idx:train_y_e_idx+1]\n",
    "input_tp = amd_30[['max_tp']][train_x_s_idx:train_x_e_idx+1]\n",
    "\n",
    "# 予測に必要なデータ\n",
    "# 144ステップ分のデータで次の予測をする\n",
    "test_y_s_idx = amd_30[amd_30['datetime'] == pd.to_datetime('2015-12-31 00:00')].index[0]\n",
    "test_y_e_idx = amd_30[amd_30['datetime'] == pd.to_datetime('2017-3-31 23:30')].index[0]\n",
    "test_x_s_idx = test_y_s_idx - chunk_size\n",
    "test_x_e_idx = amd_30[amd_30['datetime'] == pd.to_datetime('2017-3-31 23:00')].index[0]\n",
    "\n",
    "test_input_tp = amd_30[['max_tp']][test_x_s_idx:test_x_e_idx+1]\n",
    "test_output_tp = amd_30[['max_tp']][test_y_s_idx:test_y_e_idx+1]"
   ]
  },
  {
   "cell_type": "code",
   "execution_count": 52,
   "metadata": {},
   "outputs": [],
   "source": [
    "# rnnに突っ込むための準備\n",
    "\n",
    "# rnnに突っ込むためにmin-max正規化しておく\n",
    "normalized_input = (input_tp - input_tp.min()) / (input_tp.max() - input_tp.min())\n",
    "normalized_input = np.array(normalized_input)\n",
    "normalized_output = (output_tp - output_tp.min()) / (output_tp.max() - output_tp.min())\n",
    "normalized_output = np.array(normalized_output)\n",
    "\n",
    "# 時系列データのリストにする\n",
    "input_list = get_chunked_data(normalized_input, chunk_size)\n",
    "\n",
    "# testデータの入力を用意\n",
    "normalized_test_input = (test_input_tp - test_input_tp.min()) / (test_input_tp.max() - test_input_tp.min())\n",
    "normalized_test_input = np.array(normalized_test_input)\n",
    "test_input_list = get_chunked_data(normalized_test_input, chunk_size)\n",
    "\n",
    "# denormalize用\n",
    "output_max = float(input_tp.max())\n",
    "output_min = float(input_tp.min())\n",
    "\n",
    "# RNNに突っ込むためにデータを整形\n",
    "X = np.array(input_list).reshape(len(input_list), chunk_size, input_list.shape[2])\n",
    "Y = np.array(normalized_output).reshape(len(input_list), 1)\n",
    "X_predict = np.array(test_input_list).reshape(len(test_input_list), chunk_size, test_input_list.shape[2])"
   ]
  },
  {
   "cell_type": "code",
   "execution_count": 53,
   "metadata": {},
   "outputs": [
    {
     "data": {
      "text/plain": [
       "[<matplotlib.lines.Line2D at 0x1211fe048>]"
      ]
     },
     "execution_count": 53,
     "metadata": {},
     "output_type": "execute_result"
    },
    {
     "data": {
      "image/png": "[encoded data removed]",
      "text/plain": [
       "<matplotlib.figure.Figure at 0x1204d6198>"
      ]
     },
     "metadata": {},
     "output_type": "display_data"
    }
   ],
   "source": [
    "plt.plot(input_tp['max_tp'][0:1000])"
   ]
  },
  {
   "cell_type": "markdown",
   "metadata": {},
   "source": [
    "### **モデルの構築**"
   ]
  },
  {
   "cell_type": "markdown",
   "metadata": {},
   "source": [
    "条件:翌日の気温を予測するには前日の20:00までの気象情報しか使えない\n",
    "\n",
    "モデル：8/17の00:00 ~ 23:50までのデータを予測するとき\n",
    "\n",
    "8/15 20:10 ~ 8/16 20:00のデータから8/16の20:10のデータを\n",
    "\n",
    "8/15 20:20 ~ 8/16 20:10のデータから8/16の20:20のデータを\n",
    "\n",
    "....\n",
    "\n",
    "8/16 23:50 ~ 8/17 23:40のデータから8/17の23:50のデータを予測する\n"
   ]
  },
  {
   "cell_type": "code",
   "execution_count": 54,
   "metadata": {
    "collapsed": true
   },
   "outputs": [],
   "source": [
    "# 今までLSTMやってたからとりあえずLSTMでやってみる\n",
    "\n",
    "class simpleLSTM:\n",
    "    def __init__(self, X, Y, epochs = 100, batch_size = 150, model_name = \"test_model\"):\n",
    "        # 学習データと検証用データに分けておく\n",
    "        X_train, X_val, Y_train, Y_val = train_test_split(X, Y, test_size=int((X.shape[0] * 0.1)))\n",
    "        self.X = X # 入力\n",
    "        self.Y = Y # 教師\n",
    "        self.X_val = X_val # 検証用\n",
    "        self.Y_val = Y_val #検証用\n",
    "        \n",
    "        '''\n",
    "        諸変数の設定\n",
    "        '''\n",
    "        self.input_layer_size = self.X.shape[2] #入力層の数\n",
    "        self.hidden_layer_size = 100 # 隠れ層の数、適当\n",
    "        self.output_layer_size = 1 #出力層の数、求める値は時間あたりの発電量の値1つなので1\n",
    "        self.batch_size = batch_size #バッチサイズ、適当\n",
    "        self.chunk_size = self.X.shape[1] # 一回の系列データの長さ\n",
    "        self.learning_rate = 0.01 # 学習率 適当\n",
    "        self.forget_bias = 0.9  # 忘却率\n",
    "        self.epochs = epochs #エポック数\n",
    "        \n",
    "        # 学習データの保存\n",
    "        self.model_name = str(model_name)\n",
    "        \n",
    "        \n",
    "    def shuffle(self):\n",
    "        '''\n",
    "        ミニバッチかする際にランダムにシャッフル\n",
    "        '''\n",
    "        idx = [i for i in range(self.X.shape[0])]\n",
    "        np.random.shuffle(idx)\n",
    "        xs = np.array([[y for y in list(self.X[r])] for r in idx])\n",
    "        ys = np.array([self.Y[r] for r in idx])\n",
    "        return xs, ys\n",
    "        \n",
    "    def inference(self, input_ph, inistate_ph):\n",
    "        '''\n",
    "        グラフの構築\n",
    "        '''\n",
    "        \n",
    "        # 重みとバイアスの初期化\n",
    "        hidden_w = tf.Variable(tf.truncated_normal([self.input_layer_size, self.hidden_layer_size], stddev=0.01), name='hidden_w')\n",
    "        hidden_b = tf.Variable(tf.truncated_normal([self.hidden_layer_size]), name='hidden_b')\n",
    "        output_w = tf.Variable(tf.truncated_normal([self.hidden_layer_size, self.output_layer_size], stddev=0.01), name='output_w')\n",
    "        output_b = tf.Variable(tf.truncated_normal([self.output_layer_size]), name='output_b')\n",
    "        \n",
    "        #　input_phの整型  \n",
    "        in1 = tf.transpose(input_ph, [1, 0, 2]) \n",
    "        in2 = tf.reshape(in1, [-1, self.input_layer_size]) \n",
    "        in3 = tf.matmul(in2, hidden_w) + hidden_b\n",
    "        in4 = tf.split(in3, self.chunk_size, 0)\n",
    "          \n",
    "        # BasicLSTMCellを定義\n",
    "        cell = tf.contrib.rnn.BasicLSTMCell(self.hidden_layer_size, forget_bias=self.forget_bias, state_is_tuple=False)\n",
    "        rnn_outputs, states = tf.contrib.rnn.static_rnn(cell, in4, initial_state=inistate_ph)\n",
    "        output = tf.matmul(rnn_outputs[-1], output_w) + output_b\n",
    "        results = [hidden_w, output_w, hidden_w, hidden_b]\n",
    "        return output, states, results\n",
    "        \n",
    "    def loss(self, output_ph, actual_ph):\n",
    "        '''\n",
    "        お題と同じmean absolute errorを仕様\n",
    "        '''\n",
    "        cost = tf.reduce_mean(tf.abs((output_ph - actual_ph)))\n",
    "        tf.summary.scalar('loss', cost)\n",
    "        return cost\n",
    "    \n",
    "    def training(self, cost):\n",
    "        '''\n",
    "        adamを仕様beta1, beta2は元論文の推奨値を仕様\n",
    "        '''\n",
    "        with tf.name_scope(\"training\") as scope:\n",
    "            optimizer = tf.train.AdamOptimizer(learning_rate=self.learning_rate, beta1=0.9, beta2=0.999).minimize(cost)\n",
    "            return optimizer\n",
    "    \n",
    "    def train(self):\n",
    "        '''\n",
    "        学習\n",
    "        '''\n",
    "        random.seed(0)\n",
    "        np.random.seed(0)\n",
    "        tf.set_random_seed(0)\n",
    "        n_batch = self.X.shape[0] // self.batch_size\n",
    "        \n",
    "        with tf.Graph().as_default():\n",
    "            # 変数の用意\n",
    "            input_ph = tf.placeholder('float', [None, self.chunk_size, self.input_layer_size], name='input')\n",
    "            actual_ph = tf.placeholder('float', [None, self.output_layer_size], name='actual_value')\n",
    "            inistate_ph = tf.placeholder('float', [None, self.hidden_layer_size * 2], name='inistate')\n",
    "\n",
    "            prediction, state, weights = self.inference(input_ph, inistate_ph)\n",
    "            cost = self.loss(prediction, actual_ph)\n",
    "            optimizer = self.training(cost)\n",
    "\n",
    "            # TensorBoardで可視化する\n",
    "            summary = tf.summary.merge_all()\n",
    "            # 初期化\n",
    "            init = tf.global_variables_initializer()\n",
    "                \n",
    "            # ここから学習\n",
    "            with tf.Session() as sess:\n",
    "                # 学習したモデルも保存しておく\n",
    "                saver = tf.train.Saver()\n",
    "                summary_writer = tf.summary.FileWriter(\"/tmp/tensorflow_log\", graph=sess.graph)\n",
    "                sess.run(init)\n",
    "\n",
    "                for epoch in range(self.epochs):\n",
    "                    X_, Y_ = self.shuffle()\n",
    "                    for i in range(n_batch):\n",
    "                        start = i * self.batch_size\n",
    "                        end = start + self.batch_size\n",
    "                        inputs  = X_[start:end]\n",
    "                        actuals = Y_[start:end]\n",
    "                        train_dict = {\n",
    "                            input_ph:      inputs,\n",
    "                            actual_ph:     actuals,\n",
    "                            inistate_ph:     np.zeros((self.batch_size, self.hidden_layer_size * 2)),\n",
    "                        }\n",
    "                    \n",
    "                    sess.run(optimizer, feed_dict=train_dict)\n",
    "\n",
    "                    if (epoch) % (self.epochs//10) == 0:\n",
    "                        val_dict = {\n",
    "                            input_ph:      self.X_val,\n",
    "                            actual_ph:     self.Y_val,\n",
    "                            inistate_ph:     np.zeros((self.X_val.shape[0], self.hidden_layer_size * 2)),\n",
    "                        }\n",
    "                        summary_str, train_loss = sess.run([summary, cost], feed_dict=val_dict)\n",
    "                        print(\"train#%d, validation loss: %e\" % (epoch, train_loss))\n",
    "                        summary_writer.add_summary(summary_str, epoch)\n",
    "                        \n",
    "                    datas = sess.run(weights)\n",
    "                    saver.save(sess,  \"./data/\" + str(self.model_name) + \"/\" + str(self.model_name) + \".ckpt\")\n",
    "                    \n",
    "                datas = sess.run(weights)\n",
    "                saver.save(sess, \"./data/\" + str(self.model_name) + \"/\" + str(self.model_name) + \".ckpt\")\n",
    "                \n",
    "    def predict(self, X_predict, model_name = \"test_model\"):\n",
    "        '''\n",
    "        予測期間に該当するデータから予測\n",
    "        '''\n",
    "        # 予測に使う変数の用意\n",
    "        tf.reset_default_graph()\n",
    "        input_ph = tf.placeholder(\"float\", [None, self.chunk_size, self.input_layer_size], name='input')\n",
    "        inistate_ph = tf.placeholder(\"float\", [None, self.hidden_layer_size * 2], name='inistate')\n",
    "        prediction, state, weights = self.inference(input_ph, inistate_ph)\n",
    "        pre_dict = {\n",
    "            input_ph: X_predict,\n",
    "            inistate_ph: np.zeros((X_predict.shape[0], self.hidden_layer_size*2))\n",
    "        }\n",
    "        \n",
    "        # 初期化\n",
    "        init = tf.global_variables_initializer()\n",
    "\n",
    "        with tf.Session() as sess:\n",
    "            # 保存したモデルをロード\n",
    "            saver = tf.train.Saver()\n",
    "            saver.restore(sess,  \"./data/\" + str(self.model_name) + \"/\" + str(self.model_name) + \".ckpt\")\n",
    "\n",
    "            # ロードしたモデルを使って予測結果を計算\n",
    "            expected_output = sess.run([prediction], feed_dict=pre_dict)\n",
    "\n",
    "\n",
    "        return expected_output"
   ]
  },
  {
   "cell_type": "code",
   "execution_count": 55,
   "metadata": {},
   "outputs": [],
   "source": [
    "tp_lstm = simpleLSTM(X, Y, epochs = 800, model_name = model_name)"
   ]
  },
  {
   "cell_type": "code",
   "execution_count": 56,
   "metadata": {},
   "outputs": [
    {
     "name": "stdout",
     "output_type": "stream",
     "text": [
      "WARNING:tensorflow:<tensorflow.contrib.rnn.python.ops.core_rnn_cell_impl.BasicLSTMCell object at 0x1254384a8>: Using a concatenated state is slower and will soon be deprecated.  Use state_is_tuple=True.\n",
      "train#0, validation loss: 5.046801e-01\n",
      "train#80, validation loss: 8.234954e-02\n",
      "train#160, validation loss: 5.619441e-02\n",
      "train#240, validation loss: 2.467636e-02\n",
      "train#320, validation loss: 8.745939e-03\n",
      "train#400, validation loss: 1.767835e-02\n",
      "train#480, validation loss: 8.406297e-03\n",
      "train#560, validation loss: 8.779991e-03\n",
      "train#640, validation loss: 9.161949e-03\n",
      "train#720, validation loss: 1.821551e-02\n"
     ]
    }
   ],
   "source": [
    "tp_lstm.train()"
   ]
  },
  {
   "cell_type": "code",
   "execution_count": 57,
   "metadata": {},
   "outputs": [
    {
     "name": "stdout",
     "output_type": "stream",
     "text": [
      "---- predict 0 ~ 10000 ----\n",
      "WARNING:tensorflow:<tensorflow.contrib.rnn.python.ops.core_rnn_cell_impl.BasicLSTMCell object at 0x12bc5ad68>: Using a concatenated state is slower and will soon be deprecated.  Use state_is_tuple=True.\n",
      "---- predict 10000 ~ 20000 ----\n",
      "WARNING:tensorflow:<tensorflow.contrib.rnn.python.ops.core_rnn_cell_impl.BasicLSTMCell object at 0x12bc26da0>: Using a concatenated state is slower and will soon be deprecated.  Use state_is_tuple=True.\n",
      "---- predict 20000 ~ 21936 ----\n",
      "WARNING:tensorflow:<tensorflow.contrib.rnn.python.ops.core_rnn_cell_impl.BasicLSTMCell object at 0x1228d2b70>: Using a concatenated state is slower and will soon be deprecated.  Use state_is_tuple=True.\n"
     ]
    }
   ],
   "source": [
    "batch_size = 10000\n",
    "n_batch = len(test_input_list) // batch_size\n",
    "processed_predict = np.array([])\n",
    "for i in range(n_batch+1):\n",
    "    s_idx = i * batch_size\n",
    "    e_idx = (i+1) * batch_size\n",
    "    if e_idx > len(test_input_list):\n",
    "        e_idx = len(test_input_list)\n",
    "    print(\"---- predict \" + str(s_idx) + \" ~ \" + str(e_idx)+ \" ----\")\n",
    "    predict = tp_lstm.predict(test_input_list[s_idx:e_idx], model_name)\n",
    "    predict = np.array(predict).reshape(len(predict[0]))\n",
    "    tmp_predict = denormalize_array(predict, output_min, output_max)\n",
    "    processed_predict = np.r_[processed_predict, tmp_predict]"
   ]
  },
  {
   "cell_type": "code",
   "execution_count": 58,
   "metadata": {},
   "outputs": [
    {
     "data": {
      "text/plain": [
       "array([ 24.15566243])"
      ]
     },
     "execution_count": 58,
     "metadata": {},
     "output_type": "execute_result"
    }
   ],
   "source": [
    "calc_mae(processed_predict, np.array(test_output_tp))"
   ]
  },
  {
   "cell_type": "code",
   "execution_count": 59,
   "metadata": {},
   "outputs": [
    {
     "data": {
      "text/plain": [
       "<matplotlib.legend.Legend at 0x12b7f2908>"
      ]
     },
     "execution_count": 59,
     "metadata": {},
     "output_type": "execute_result"
    },
    {
     "data": {
      "image/png": "[encoded data removed]",
      "text/plain": [
       "<matplotlib.figure.Figure at 0x1214d7e80>"
      ]
     },
     "metadata": {},
     "output_type": "display_data"
    }
   ],
   "source": [
    "plt.plot(processed_predict[0:300], label = \"predict\")\n",
    "plt.plot(np.array(test_output_tp)[0:300], label = \"true\")\n",
    "plt.ylim(0, 600)\n",
    "plt.legend()"
   ]
  },
  {
   "cell_type": "code",
   "execution_count": 60,
   "metadata": {},
   "outputs": [
    {
     "name": "stdout",
     "output_type": "stream",
     "text": [
      "[ 242.  261.  253.  251.  239.  219.  184.  157.  152.  142.  137.  138.\n",
      "  139.  142.  147.  148.  147.  163.  176.  188.  224.  251.  268.  287.\n",
      "  310.  313.  293.  288.  291.  289.  289.  282.  273.  262.  258.  260.\n",
      "  267.  273.  273.  269.  252.  243.  234.  230.  220.  220.  214.  202.\n",
      "  193.  184.  175.  170.  167.  166.  173.  176.  169.  171.  177.  178.\n",
      "  181.  176.  177.  182.  187.  205.  225.  259.  291.  310.  319.  331.\n",
      "  348.  352.  377.  384.  387.  376.  366.  348.  332.  311.  303.  300.\n",
      "  299.  298.  289.  284.  278.  270.  260.  243.  231.  220.  213.  203.\n",
      "  205.  185.  181.  169.]\n"
     ]
    }
   ],
   "source": [
    "print(np.array(test_output_tp).reshape(len(test_output_tp))[0:100])"
   ]
  },
  {
   "cell_type": "code",
   "execution_count": 61,
   "metadata": {
    "scrolled": true
   },
   "outputs": [
    {
     "name": "stdout",
     "output_type": "stream",
     "text": [
      "[ 235.28643799  218.54330444  242.02575684  229.83795166  229.2265625\n",
      "  216.01846313  195.77903748  160.58096313  135.80531311  133.08757019\n",
      "  122.9264679   118.66897583  120.15322876  121.07266235  124.1315918\n",
      "  129.09567261  129.64625549  128.52389526  145.62019348  157.69459534\n",
      "  169.22351074  207.33410645  232.42932129  248.01501465  267.30001831\n",
      "  290.73428345  290.43585205  267.68536377  265.43878174  269.20559692\n",
      "  266.36587524  266.78890991  258.79467773  249.80862427  238.75161743\n",
      "  235.81790161  238.47897339  245.98272705  251.67974854  250.85092163\n",
      "  246.45925903  228.08831787  220.56130981  211.62742615  208.37503052\n",
      "  197.83222961  199.13923645  192.44056702  180.21556091  171.9309082\n",
      "  163.22906494  154.58825684  150.20927429  147.50518799  146.73884583\n",
      "  154.29821777  156.68687439  148.9499054   151.894104    158.01651001\n",
      "  158.40724182  161.56439209  155.86750793  157.54577637  162.74066162\n",
      "  167.53507996  186.52391052  206.17198181  241.59906006  272.88790894\n",
      "  289.84777832  297.48605347  310.1164856   327.78063965  329.34695435\n",
      "  358.51095581  361.25479126  364.30255127  350.76434326  341.58569336\n",
      "  322.27810669  307.11407471  285.52297974  279.7923584   277.26522827\n",
      "  276.51669312  275.49212646  265.41577148  261.25189209  255.08807373\n",
      "  246.97091675  236.91430664  219.40457153  208.45936584  197.80690002\n",
      "  191.48985291  181.40924072  184.78062439  162.89279175  160.99827576]\n"
     ]
    }
   ],
   "source": [
    "print(processed_predict[0:100])"
   ]
  },
  {
   "cell_type": "code",
   "execution_count": 67,
   "metadata": {
    "collapsed": true
   },
   "outputs": [],
   "source": [
    "import warnings\n",
    "warnings.filterwarnings('ignore')"
   ]
  },
  {
   "cell_type": "code",
   "execution_count": 102,
   "metadata": {
    "collapsed": true
   },
   "outputs": [],
   "source": [
    "import os\n",
    "os.environ['TF_CPP_MIN_LOG_LEVEL'] = '1'"
   ]
  },
  {
   "cell_type": "code",
   "execution_count": 103,
   "metadata": {},
   "outputs": [
    {
     "name": "stdout",
     "output_type": "stream",
     "text": [
      "WARNING:tensorflow:<tensorflow.contrib.rnn.python.ops.core_rnn_cell_impl.BasicLSTMCell object at 0x1275ddb38>: Using a concatenated state is slower and will soon be deprecated.  Use state_is_tuple=True.\n",
      "WARNING:tensorflow:<tensorflow.contrib.rnn.python.ops.core_rnn_cell_impl.BasicLSTMCell object at 0x1255219b0>: Using a concatenated state is slower and will soon be deprecated.  Use state_is_tuple=True.\n",
      "WARNING:tensorflow:<tensorflow.contrib.rnn.python.ops.core_rnn_cell_impl.BasicLSTMCell object at 0x10ebe7588>: Using a concatenated state is slower and will soon be deprecated.  Use state_is_tuple=True.\n",
      "WARNING:tensorflow:<tensorflow.contrib.rnn.python.ops.core_rnn_cell_impl.BasicLSTMCell object at 0x1214a6c18>: Using a concatenated state is slower and will soon be deprecated.  Use state_is_tuple=True.\n",
      "WARNING:tensorflow:<tensorflow.contrib.rnn.python.ops.core_rnn_cell_impl.BasicLSTMCell object at 0x11fe525f8>: Using a concatenated state is slower and will soon be deprecated.  Use state_is_tuple=True.\n",
      "WARNING:tensorflow:<tensorflow.contrib.rnn.python.ops.core_rnn_cell_impl.BasicLSTMCell object at 0x121407a58>: Using a concatenated state is slower and will soon be deprecated.  Use state_is_tuple=True.\n",
      "WARNING:tensorflow:<tensorflow.contrib.rnn.python.ops.core_rnn_cell_impl.BasicLSTMCell object at 0x1257dcc18>: Using a concatenated state is slower and will soon be deprecated.  Use state_is_tuple=True.\n",
      "WARNING:tensorflow:<tensorflow.contrib.rnn.python.ops.core_rnn_cell_impl.BasicLSTMCell object at 0x12c60e7f0>: Using a concatenated state is slower and will soon be deprecated.  Use state_is_tuple=True.\n",
      "WARNING:tensorflow:<tensorflow.contrib.rnn.python.ops.core_rnn_cell_impl.BasicLSTMCell object at 0x10ec20f60>: Using a concatenated state is slower and will soon be deprecated.  Use state_is_tuple=True.\n",
      "WARNING:tensorflow:<tensorflow.contrib.rnn.python.ops.core_rnn_cell_impl.BasicLSTMCell object at 0x1214a3c18>: Using a concatenated state is slower and will soon be deprecated.  Use state_is_tuple=True.\n",
      "WARNING:tensorflow:<tensorflow.contrib.rnn.python.ops.core_rnn_cell_impl.BasicLSTMCell object at 0x12548df28>: Using a concatenated state is slower and will soon be deprecated.  Use state_is_tuple=True.\n",
      "WARNING:tensorflow:<tensorflow.contrib.rnn.python.ops.core_rnn_cell_impl.BasicLSTMCell object at 0x11fb396d8>: Using a concatenated state is slower and will soon be deprecated.  Use state_is_tuple=True.\n",
      "WARNING:tensorflow:<tensorflow.contrib.rnn.python.ops.core_rnn_cell_impl.BasicLSTMCell object at 0x1257dfc18>: Using a concatenated state is slower and will soon be deprecated.  Use state_is_tuple=True.\n",
      "WARNING:tensorflow:<tensorflow.contrib.rnn.python.ops.core_rnn_cell_impl.BasicLSTMCell object at 0x11faa69e8>: Using a concatenated state is slower and will soon be deprecated.  Use state_is_tuple=True.\n",
      "WARNING:tensorflow:<tensorflow.contrib.rnn.python.ops.core_rnn_cell_impl.BasicLSTMCell object at 0x1256c4198>: Using a concatenated state is slower and will soon be deprecated.  Use state_is_tuple=True.\n",
      "WARNING:tensorflow:<tensorflow.contrib.rnn.python.ops.core_rnn_cell_impl.BasicLSTMCell object at 0x12b809240>: Using a concatenated state is slower and will soon be deprecated.  Use state_is_tuple=True.\n",
      "WARNING:tensorflow:<tensorflow.contrib.rnn.python.ops.core_rnn_cell_impl.BasicLSTMCell object at 0x125504c18>: Using a concatenated state is slower and will soon be deprecated.  Use state_is_tuple=True.\n",
      "WARNING:tensorflow:<tensorflow.contrib.rnn.python.ops.core_rnn_cell_impl.BasicLSTMCell object at 0x11fb5a320>: Using a concatenated state is slower and will soon be deprecated.  Use state_is_tuple=True.\n",
      "WARNING:tensorflow:<tensorflow.contrib.rnn.python.ops.core_rnn_cell_impl.BasicLSTMCell object at 0x12baedc18>: Using a concatenated state is slower and will soon be deprecated.  Use state_is_tuple=True.\n",
      "WARNING:tensorflow:<tensorflow.contrib.rnn.python.ops.core_rnn_cell_impl.BasicLSTMCell object at 0x1259b1c18>: Using a concatenated state is slower and will soon be deprecated.  Use state_is_tuple=True.\n",
      "WARNING:tensorflow:<tensorflow.contrib.rnn.python.ops.core_rnn_cell_impl.BasicLSTMCell object at 0x1322649e8>: Using a concatenated state is slower and will soon be deprecated.  Use state_is_tuple=True.\n",
      "WARNING:tensorflow:<tensorflow.contrib.rnn.python.ops.core_rnn_cell_impl.BasicLSTMCell object at 0x125a28470>: Using a concatenated state is slower and will soon be deprecated.  Use state_is_tuple=True.\n",
      "WARNING:tensorflow:<tensorflow.contrib.rnn.python.ops.core_rnn_cell_impl.BasicLSTMCell object at 0x121432a58>: Using a concatenated state is slower and will soon be deprecated.  Use state_is_tuple=True.\n",
      "WARNING:tensorflow:<tensorflow.contrib.rnn.python.ops.core_rnn_cell_impl.BasicLSTMCell object at 0x12786ac18>: Using a concatenated state is slower and will soon be deprecated.  Use state_is_tuple=True.\n",
      "WARNING:tensorflow:<tensorflow.contrib.rnn.python.ops.core_rnn_cell_impl.BasicLSTMCell object at 0x1255cb160>: Using a concatenated state is slower and will soon be deprecated.  Use state_is_tuple=True.\n",
      "WARNING:tensorflow:<tensorflow.contrib.rnn.python.ops.core_rnn_cell_impl.BasicLSTMCell object at 0x12c6804e0>: Using a concatenated state is slower and will soon be deprecated.  Use state_is_tuple=True.\n",
      "WARNING:tensorflow:<tensorflow.contrib.rnn.python.ops.core_rnn_cell_impl.BasicLSTMCell object at 0x1259cfc18>: Using a concatenated state is slower and will soon be deprecated.  Use state_is_tuple=True.\n",
      "WARNING:tensorflow:<tensorflow.contrib.rnn.python.ops.core_rnn_cell_impl.BasicLSTMCell object at 0x1211999e8>: Using a concatenated state is slower and will soon be deprecated.  Use state_is_tuple=True.\n",
      "WARNING:tensorflow:<tensorflow.contrib.rnn.python.ops.core_rnn_cell_impl.BasicLSTMCell object at 0x1213fa630>: Using a concatenated state is slower and will soon be deprecated.  Use state_is_tuple=True.\n",
      "WARNING:tensorflow:<tensorflow.contrib.rnn.python.ops.core_rnn_cell_impl.BasicLSTMCell object at 0x12c60da58>: Using a concatenated state is slower and will soon be deprecated.  Use state_is_tuple=True.\n",
      "WARNING:tensorflow:<tensorflow.contrib.rnn.python.ops.core_rnn_cell_impl.BasicLSTMCell object at 0x12e8fdc18>: Using a concatenated state is slower and will soon be deprecated.  Use state_is_tuple=True.\n",
      "WARNING:tensorflow:<tensorflow.contrib.rnn.python.ops.core_rnn_cell_impl.BasicLSTMCell object at 0x1258618d0>: Using a concatenated state is slower and will soon be deprecated.  Use state_is_tuple=True.\n",
      "WARNING:tensorflow:<tensorflow.contrib.rnn.python.ops.core_rnn_cell_impl.BasicLSTMCell object at 0x1272659b0>: Using a concatenated state is slower and will soon be deprecated.  Use state_is_tuple=True.\n",
      "WARNING:tensorflow:<tensorflow.contrib.rnn.python.ops.core_rnn_cell_impl.BasicLSTMCell object at 0x1254e4c18>: Using a concatenated state is slower and will soon be deprecated.  Use state_is_tuple=True.\n",
      "WARNING:tensorflow:<tensorflow.contrib.rnn.python.ops.core_rnn_cell_impl.BasicLSTMCell object at 0x127896b38>: Using a concatenated state is slower and will soon be deprecated.  Use state_is_tuple=True.\n",
      "WARNING:tensorflow:<tensorflow.contrib.rnn.python.ops.core_rnn_cell_impl.BasicLSTMCell object at 0x1200a3da0>: Using a concatenated state is slower and will soon be deprecated.  Use state_is_tuple=True.\n",
      "WARNING:tensorflow:<tensorflow.contrib.rnn.python.ops.core_rnn_cell_impl.BasicLSTMCell object at 0x1273f1a58>: Using a concatenated state is slower and will soon be deprecated.  Use state_is_tuple=True.\n",
      "WARNING:tensorflow:<tensorflow.contrib.rnn.python.ops.core_rnn_cell_impl.BasicLSTMCell object at 0x1211a4c18>: Using a concatenated state is slower and will soon be deprecated.  Use state_is_tuple=True.\n",
      "WARNING:tensorflow:<tensorflow.contrib.rnn.python.ops.core_rnn_cell_impl.BasicLSTMCell object at 0x12774c9e8>: Using a concatenated state is slower and will soon be deprecated.  Use state_is_tuple=True.\n",
      "WARNING:tensorflow:<tensorflow.contrib.rnn.python.ops.core_rnn_cell_impl.BasicLSTMCell object at 0x12549aa58>: Using a concatenated state is slower and will soon be deprecated.  Use state_is_tuple=True.\n",
      "WARNING:tensorflow:<tensorflow.contrib.rnn.python.ops.core_rnn_cell_impl.BasicLSTMCell object at 0x125a0bc18>: Using a concatenated state is slower and will soon be deprecated.  Use state_is_tuple=True.\n"
     ]
    },
    {
     "name": "stdout",
     "output_type": "stream",
     "text": [
      "WARNING:tensorflow:<tensorflow.contrib.rnn.python.ops.core_rnn_cell_impl.BasicLSTMCell object at 0x12580b278>: Using a concatenated state is slower and will soon be deprecated.  Use state_is_tuple=True.\n",
      "WARNING:tensorflow:<tensorflow.contrib.rnn.python.ops.core_rnn_cell_impl.BasicLSTMCell object at 0x12bc492b0>: Using a concatenated state is slower and will soon be deprecated.  Use state_is_tuple=True.\n",
      "WARNING:tensorflow:<tensorflow.contrib.rnn.python.ops.core_rnn_cell_impl.BasicLSTMCell object at 0x125521c18>: Using a concatenated state is slower and will soon be deprecated.  Use state_is_tuple=True.\n",
      "WARNING:tensorflow:<tensorflow.contrib.rnn.python.ops.core_rnn_cell_impl.BasicLSTMCell object at 0x11fbf49e8>: Using a concatenated state is slower and will soon be deprecated.  Use state_is_tuple=True.\n",
      "WARNING:tensorflow:<tensorflow.contrib.rnn.python.ops.core_rnn_cell_impl.BasicLSTMCell object at 0x1272358d0>: Using a concatenated state is slower and will soon be deprecated.  Use state_is_tuple=True.\n",
      "WARNING:tensorflow:<tensorflow.contrib.rnn.python.ops.core_rnn_cell_impl.BasicLSTMCell object at 0x11fe62cc0>: Using a concatenated state is slower and will soon be deprecated.  Use state_is_tuple=True.\n",
      "WARNING:tensorflow:<tensorflow.contrib.rnn.python.ops.core_rnn_cell_impl.BasicLSTMCell object at 0x120922c18>: Using a concatenated state is slower and will soon be deprecated.  Use state_is_tuple=True.\n",
      "WARNING:tensorflow:<tensorflow.contrib.rnn.python.ops.core_rnn_cell_impl.BasicLSTMCell object at 0x1273d6668>: Using a concatenated state is slower and will soon be deprecated.  Use state_is_tuple=True.\n",
      "WARNING:tensorflow:<tensorflow.contrib.rnn.python.ops.core_rnn_cell_impl.BasicLSTMCell object at 0x11fe52780>: Using a concatenated state is slower and will soon be deprecated.  Use state_is_tuple=True.\n"
     ]
    }
   ],
   "source": [
    "# 初期値を与えて予測させてみる\n",
    "predictions = np.array([])\n",
    "tmp_input = test_input_list[0].reshape(chunk_size)\n",
    "for i in range(50):\n",
    "    lstm_input = tmp_input.reshape(1, chunk_size, 1)\n",
    "    predict = tp_lstm.predict(lstm_input, model_name)\n",
    "    predict = np.array(predict).reshape(len(predict[0]))\n",
    "    predictions = np.append(predictions, predict)\n",
    "    tmp_input = np.append(tmp_input, predict)\n",
    "    tmp_input = np.delete(tmp_input, 0)"
   ]
  },
  {
   "cell_type": "code",
   "execution_count": 100,
   "metadata": {
    "collapsed": true
   },
   "outputs": [],
   "source": [
    "processed_predictions = denormalize_array(predictions, output_min, output_max)"
   ]
  },
  {
   "cell_type": "code",
   "execution_count": 101,
   "metadata": {},
   "outputs": [
    {
     "data": {
      "text/plain": [
       "<matplotlib.legend.Legend at 0x127a0d978>"
      ]
     },
     "execution_count": 101,
     "metadata": {},
     "output_type": "execute_result"
    },
    {
     "data": {
      "image/png": "[encoded data removed]",
      "text/plain": [
       "<matplotlib.figure.Figure at 0x1279e5898>"
      ]
     },
     "metadata": {},
     "output_type": "display_data"
    }
   ],
   "source": [
    "plt.plot(processed_predictions[0:100], label = \"predict\")\n",
    "plt.plot(np.array(test_output_tp)[0:100], label = \"true\")\n",
    "plt.ylim(0, 600)\n",
    "plt.legend()"
   ]
  },
  {
   "cell_type": "code",
   "execution_count": null,
   "metadata": {
    "collapsed": true
   },
   "outputs": [],
   "source": []
  }
 ],
 "metadata": {
  "kernelspec": {
   "display_name": "Python 3",
   "language": "python",
   "name": "python3"
  },
  "language_info": {
   "codemirror_mode": {
    "name": "ipython",
    "version": 3
   },
   "file_extension": ".py",
   "mimetype": "text/x-python",
   "name": "python",
   "nbconvert_exporter": "python",
   "pygments_lexer": "ipython3",
   "version": "3.5.3"
  }
 },
 "nbformat": 4,
 "nbformat_minor": 2
}
