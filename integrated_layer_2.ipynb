{
 "cells": [
  {
   "cell_type": "markdown",
   "metadata": {},
   "source": [
    "# **stackingを_layer_2**"
   ]
  },
  {
   "cell_type": "markdown",
   "metadata": {},
   "source": [
    "### **必要な関数・ライブラリ**"
   ]
  },
  {
   "cell_type": "code",
   "execution_count": 69,
   "metadata": {
    "collapsed": true
   },
   "outputs": [],
   "source": [
    "# データ加工・処理・分析モジュール\n",
    "import numpy as np\n",
    "import pandas as pd\n",
    "import matplotlib.pyplot as plt\n",
    "\n",
    "from sklearn.ensemble import RandomForestRegressor\n",
    "from sklearn.model_selection import train_test_split\n",
    "from sklearn.model_selection import KFold\n",
    "\n",
    "import os\n",
    "import math\n",
    "import random\n",
    "\n",
    "%matplotlib inline\n",
    "\n",
    "import time"
   ]
  },
  {
   "cell_type": "code",
   "execution_count": 70,
   "metadata": {
    "collapsed": true
   },
   "outputs": [],
   "source": [
    "def set_time(dataframe, col_name):\n",
    "    '''\n",
    "    to_datetimeを使うための前処理\n",
    "    '''\n",
    "    dataframe[col_name] = dataframe[col_name].map(lambda x : transform_time(x))\n",
    "    return dataframe"
   ]
  },
  {
   "cell_type": "code",
   "execution_count": 71,
   "metadata": {
    "collapsed": true
   },
   "outputs": [],
   "source": [
    "def add_time_sincos(input_data, key=\"datetime\"):\n",
    "    '''\n",
    "    時間や月のデータを加える\n",
    "    '''\n",
    "    input_data['hour'] = input_data['datetime'].map(lambda x: int(x.hour))\n",
    "    input_data['minute'] = input_data['datetime'].map(lambda x: int(x.minute))\n",
    "    input_data['month'] = input_data['datetime'].map(lambda x: int(x.month))\n",
    "    input_data['month_cos'] = input_data['month'].map(lambda x: np.cos(np.pi * x / 12))\n",
    "    input_data['month_sin'] = input_data['month'].map(lambda x: np.sin(np.pi * x / 12))\n",
    "    input_data['hour_cos'] = input_data['hour'].map(lambda x: np.cos(np.pi * x / 24))\n",
    "    input_data['hour_sin'] = input_data['hour'].map(lambda x: np.sin(np.pi * x / 24))\n",
    "    input_data = input_data.drop(['hour', 'month', 'minute'], axis=1)\n",
    "    return input_data"
   ]
  },
  {
   "cell_type": "code",
   "execution_count": 72,
   "metadata": {
    "collapsed": true
   },
   "outputs": [],
   "source": [
    "def add_time_dummy(input_data, key=\"datetime\"):\n",
    "    '''\n",
    "    時間や月のデータを加える\n",
    "    '''\n",
    "    input_data['hour'] = input_data['datetime'].map(lambda x: str(x.hour))\n",
    "    input_data['month'] = input_data['datetime'].map(lambda x: str(x.month))\n",
    "    input_data['minute'] = input_data['datetime'].map(lambda x: str(x.minute))\n",
    "    input_data = pd.get_dummies(input_data, drop_first=False)\n",
    "    return input_data"
   ]
  },
  {
   "cell_type": "code",
   "execution_count": 73,
   "metadata": {
    "collapsed": true
   },
   "outputs": [],
   "source": [
    "def transform_time(x):\n",
    "    '''\n",
    "    set_time内で使う関数\n",
    "    to_datetimeで24時をサポートしないので00に変更する処理\n",
    "    '''\n",
    "    str_x = str(x)\n",
    "    res = ''\n",
    "    if str(x)[8:10] == '24':\n",
    "        res = str_x[0:4] + '-' + str_x[4:6] + '-' + str_x[6:8] + ' 00:'+str_x[10:12] \n",
    "    else:\n",
    "        res = str_x[0:4] + '-' + str_x[4:6] + '-' + str_x[6:8] + ' '+ str_x[8:10] +':'+str_x[10:12]\n",
    "    return res"
   ]
  },
  {
   "cell_type": "code",
   "execution_count": 74,
   "metadata": {
    "collapsed": true
   },
   "outputs": [],
   "source": [
    "def drop_nan(X, Y):\n",
    "    '''\n",
    "    正解データがnanであるデータの組を削除\n",
    "    '''\n",
    "    mask = np.isnan(Y)\n",
    "    X = X[~mask]\n",
    "    Y = Y[~mask]\n",
    "    return X, Y"
   ]
  },
  {
   "cell_type": "code",
   "execution_count": 75,
   "metadata": {
    "collapsed": true
   },
   "outputs": [],
   "source": [
    "def scaling_output(output_30, momentum=False):\n",
    "    '''\n",
    "    直近2015年の総発電量に合わせて他の年の初で量も合わせる関数\n",
    "    momentumで通年の傾向に従い発電量を割る\n",
    "    '''\n",
    "    output_30['year'] = output_30['datetime'].map(lambda x : x.year)\n",
    "    y_output = output_30.groupby(['year'], as_index=False).sum()\n",
    "    sum_2012 = y_output[\"SOLA0\"+str(target_place)][0]\n",
    "    sum_2013 = y_output[\"SOLA0\"+str(target_place)][1]\n",
    "    sum_2014 = y_output[\"SOLA0\"+str(target_place)][2]\n",
    "    sum_2015 = y_output[\"SOLA0\"+str(target_place)][3]\n",
    "    scaled_2012 = np.array(output_30[output_30['year'] == 2012][\"SOLA0\"+str(target_place)].map(lambda x : x * sum_2015/sum_2012))\n",
    "    scaled_2013 = np.array(output_30[output_30['year'] == 2013][\"SOLA0\"+str(target_place)].map(lambda x : x * sum_2015/sum_2013))\n",
    "    scaled_2014 = np.array(output_30[output_30['year'] == 2014][\"SOLA0\"+str(target_place)].map(lambda x : x * sum_2015/sum_2014))\n",
    "    scaled_2015 = np.array(output_30[output_30['year'] == 2015][\"SOLA0\"+str(target_place)])\n",
    "    tmp = np.r_[scaled_2012, scaled_2013, scaled_2014, scaled_2015]\n",
    "\n",
    "    # 各年の\n",
    "    if momentum:\n",
    "        y_output[\"pre\"] = y_output[\"SOLA0\"+str(target_place)].shift(1)\n",
    "        y_output[\"decline\"] = y_output[\"SOLA0\"+str(target_place)] / y_output[\"pre\"]\n",
    "        tendency= np.array(y_output[\"decline\"].dropna())\n",
    "        scale = 1\n",
    "        for i in tendency:\n",
    "            if i > 1:\n",
    "                i = 1\n",
    "            scale *= i\n",
    "        scale = math.pow(scale, 1.0/3)\n",
    "        tmp = tmp ** scale\n",
    "\n",
    "    output_30[\"SOLA0\"+str(target_place)] = tmp\n",
    "    \n",
    "    return output_30"
   ]
  },
  {
   "cell_type": "code",
   "execution_count": 76,
   "metadata": {
    "collapsed": true
   },
   "outputs": [],
   "source": [
    "def to_zero(prediction):\n",
    "    '''\n",
    "    2012年から2015年の間で一度も発電量がなかった時間帯を0と予測するようにする\n",
    "    '''\n",
    "    mask = np.array([0,0,0,0,0,0,0,0,0,0,1,1,\n",
    "                    1,1,1,1,1,1,1,1,1,1,1,1,\n",
    "                    1,1,1,1,1,1,1,1,1,1,1,1,\n",
    "                    1,1,0,0,0,0,0,0,0,0,0,0])\n",
    "    all_mask = np.array([0,0,0,0,0,0,0,0,0,0,1,1,\n",
    "                        1,1,1,1,1,1,1,1,1,1,1,1,\n",
    "                        1,1,1,1,1,1,1,1,1,1,1,1,\n",
    "                        1,1,0,0,0,0,0,0,0,0,0,0])\n",
    "    length = int(len(prediction)/48)\n",
    "    \n",
    "    for i in range(length-1):\n",
    "        all_mask = np.r_[all_mask, mask]\n",
    "    \n",
    "    return prediction * all_mask"
   ]
  },
  {
   "cell_type": "code",
   "execution_count": 77,
   "metadata": {
    "collapsed": true
   },
   "outputs": [],
   "source": [
    "def to_zero_df(train_prediction):\n",
    "    '''\n",
    "    発電しない時間帯を全て0にする\n",
    "    '''\n",
    "    for column in train_prediction.columns[1:]:\n",
    "        tmp = train_prediction[column]\n",
    "        tmp = np.array(tmp)\n",
    "        tmp = to_zero(tmp)\n",
    "        train_prediction[column] = tmp\n",
    "    return train_prediction"
   ]
  },
  {
   "cell_type": "code",
   "execution_count": 78,
   "metadata": {
    "collapsed": true
   },
   "outputs": [],
   "source": [
    "def minus_to_zero(x):\n",
    "    if x < 0:\n",
    "        return 0\n",
    "    else:\n",
    "        return x"
   ]
  },
  {
   "cell_type": "code",
   "execution_count": 79,
   "metadata": {
    "collapsed": true
   },
   "outputs": [],
   "source": [
    "# 発電量データ\n",
    "all_output_30 = pd.read_csv('data/processed_data/out_put.tsv', delimiter = '\\t')\n",
    "all_output_30['datetime'] = all_output_30['datetime'].map(lambda x : pd.to_datetime(x))"
   ]
  },
  {
   "cell_type": "markdown",
   "metadata": {},
   "source": [
    "### **layer_1の実力をみてみる**"
   ]
  },
  {
   "cell_type": "code",
   "execution_count": 80,
   "metadata": {
    "collapsed": true
   },
   "outputs": [],
   "source": [
    "target_place = 1"
   ]
  },
  {
   "cell_type": "code",
   "execution_count": 81,
   "metadata": {
    "collapsed": true
   },
   "outputs": [],
   "source": [
    "# いろんなモデルの予測値の集合(学習用)\n",
    "train_prediction = pd.read_csv(\"data/layer_1/layer_1_train_SOLA0\"+str(target_place)+\".csv\")\n",
    "train_prediction['datetime'] = train_prediction['datetime'].map(lambda x : pd.to_datetime(x))\n",
    "\n",
    "# いろんなモデルの予測値の集合(ほんちゃん)\n",
    "test_prediction = pd.read_csv(\"data/layer_1/layer_1_SOLA0\"+str(target_place)+\".csv\")\n",
    "test_prediction['datetime'] = test_prediction['datetime'].map(lambda x : pd.to_datetime(x))"
   ]
  },
  {
   "cell_type": "code",
   "execution_count": 82,
   "metadata": {
    "collapsed": true
   },
   "outputs": [],
   "source": [
    "# 発電量が0の時間を0にしておく\n",
    "train_prediction = to_zero_df(train_prediction)\n",
    "test_prediction = to_zero_df(test_prediction)"
   ]
  },
  {
   "cell_type": "code",
   "execution_count": 83,
   "metadata": {
    "collapsed": true
   },
   "outputs": [],
   "source": [
    "s_idx = test_prediction[test_prediction['datetime'] == pd.to_datetime('2016/01/01 00:00')].index[0]\n",
    "e_idx = test_prediction[test_prediction['datetime'] == pd.to_datetime('2017/3/31 23:30')].index[0]\n",
    "predict_data = pd.DataFrame({\"datetime\":test_prediction['datetime'][s_idx:e_idx+1]})\n",
    "predict_data.index = np.arange(len(predict_data))"
   ]
  },
  {
   "cell_type": "code",
   "execution_count": 84,
   "metadata": {},
   "outputs": [
    {
     "data": {
      "text/plain": [
       "Index(['datetime', 'random_forest_1-5folds', 'random_forest_2-5folds',\n",
       "       'random_forest_3-5folds', 'random_forest_4-5folds',\n",
       "       'random_forest_5-5folds', 'pls_1-5folds', 'pls_2-5folds',\n",
       "       'pls_3-5folds', 'pls_4-5folds', 'pls_5-5folds'],\n",
       "      dtype='object')"
      ]
     },
     "execution_count": 84,
     "metadata": {},
     "output_type": "execute_result"
    }
   ],
   "source": [
    "test_prediction.columns"
   ]
  },
  {
   "cell_type": "code",
   "execution_count": 85,
   "metadata": {
    "collapsed": true
   },
   "outputs": [],
   "source": [
    "# tmp = test_prediction.drop([\"datetime\"], axis=1)\n",
    "tmp =  test_prediction[['random_forest_1-5folds', 'random_forest_2-5folds',\n",
    "       'random_forest_3-5folds', 'random_forest_4-5folds',\n",
    "       'random_forest_5-5folds']]\n",
    "tmp = tmp.mean(axis = 1)\n",
    "predict_data[\"blending_\"+str(target_place)] = tmp"
   ]
  },
  {
   "cell_type": "code",
   "execution_count": 86,
   "metadata": {
    "collapsed": true
   },
   "outputs": [],
   "source": [
    "target_place = 2"
   ]
  },
  {
   "cell_type": "code",
   "execution_count": 87,
   "metadata": {
    "collapsed": true
   },
   "outputs": [],
   "source": [
    "# いろんなモデルの予測値の集合(学習用)\n",
    "train_prediction = pd.read_csv(\"data/layer_1/layer_1_train_SOLA0\"+str(target_place)+\".csv\")\n",
    "train_prediction['datetime'] = train_prediction['datetime'].map(lambda x : pd.to_datetime(x))\n",
    "\n",
    "# いろんなモデルの予測値の集合(ほんちゃん)\n",
    "test_prediction = pd.read_csv(\"data/layer_1/layer_1_SOLA0\"+str(target_place)+\".csv\")\n",
    "test_prediction['datetime'] = test_prediction['datetime'].map(lambda x : pd.to_datetime(x))"
   ]
  },
  {
   "cell_type": "code",
   "execution_count": 88,
   "metadata": {
    "collapsed": true
   },
   "outputs": [],
   "source": [
    "# 発電量が0の時間を0にしておく\n",
    "train_prediction = to_zero_df(train_prediction)\n",
    "test_prediction = to_zero_df(test_prediction)"
   ]
  },
  {
   "cell_type": "code",
   "execution_count": 89,
   "metadata": {
    "collapsed": true
   },
   "outputs": [],
   "source": [
    "# tmp = test_prediction.drop([\"datetime\"], axis=1)\n",
    "tmp =  test_prediction[['random_forest_1-5folds', 'random_forest_2-5folds',\n",
    "       'random_forest_3-5folds', 'random_forest_4-5folds',\n",
    "       'random_forest_5-5folds']]\n",
    "tmp = tmp.mean(axis = 1)\n",
    "predict_data[\"blending_\"+str(target_place)] = tmp"
   ]
  },
  {
   "cell_type": "code",
   "execution_count": 90,
   "metadata": {
    "collapsed": true
   },
   "outputs": [],
   "source": [
    "target_place = 3"
   ]
  },
  {
   "cell_type": "code",
   "execution_count": 91,
   "metadata": {
    "collapsed": true
   },
   "outputs": [],
   "source": [
    "# いろんなモデルの予測値の集合(学習用)\n",
    "train_prediction = pd.read_csv(\"data/layer_1/layer_1_train_SOLA0\"+str(target_place)+\".csv\")\n",
    "train_prediction['datetime'] = train_prediction['datetime'].map(lambda x : pd.to_datetime(x))\n",
    "\n",
    "# いろんなモデルの予測値の集合(ほんちゃん)\n",
    "test_prediction = pd.read_csv(\"data/layer_1/layer_1_SOLA0\"+str(target_place)+\".csv\")\n",
    "test_prediction['datetime'] = test_prediction['datetime'].map(lambda x : pd.to_datetime(x))"
   ]
  },
  {
   "cell_type": "code",
   "execution_count": 92,
   "metadata": {
    "collapsed": true
   },
   "outputs": [],
   "source": [
    "# 発電量が0の時間を0にしておく\n",
    "train_prediction = to_zero_df(train_prediction)\n",
    "test_prediction = to_zero_df(test_prediction)"
   ]
  },
  {
   "cell_type": "code",
   "execution_count": 93,
   "metadata": {
    "collapsed": true
   },
   "outputs": [],
   "source": [
    "# tmp = test_prediction.drop([\"datetime\"], axis=1)\n",
    "tmp =  test_prediction[['random_forest_1-5folds', 'random_forest_2-5folds',\n",
    "       'random_forest_3-5folds', 'random_forest_4-5folds',\n",
    "       'random_forest_5-5folds']]\n",
    "tmp = tmp.mean(axis = 1)\n",
    "predict_data[\"blending_\"+str(target_place)] = tmp\n",
    "# tmp.to_csv(\"data/layer_1/layer_1_prediction.tsv\", sep=\"\\t\", index=False)"
   ]
  },
  {
   "cell_type": "code",
   "execution_count": 94,
   "metadata": {
    "collapsed": true
   },
   "outputs": [],
   "source": [
    "# 発電しない時間帯を0にする\n",
    "predict_data = to_zero_df(predict_data)\n",
    "\n",
    "predict_data[\"blending_1\"] = predict_data[\"blending_1\"].map(lambda x: minus_to_zero(x))\n",
    "predict_data[\"blending_2\"] = predict_data[\"blending_2\"].map(lambda x: minus_to_zero(x))\n",
    "predict_data[\"blending_3\"] = predict_data[\"blending_3\"].map(lambda x: minus_to_zero(x))"
   ]
  },
  {
   "cell_type": "code",
   "execution_count": 95,
   "metadata": {
    "collapsed": true
   },
   "outputs": [],
   "source": [
    "predict_data.to_csv(\"data/layer_1/layer_1_prediction.tsv\", sep=\"\\t\", index=False)"
   ]
  },
  {
   "cell_type": "markdown",
   "metadata": {},
   "source": [
    "### **浮島発電所について**"
   ]
  },
  {
   "cell_type": "code",
   "execution_count": 96,
   "metadata": {
    "collapsed": true
   },
   "outputs": [],
   "source": [
    "target_place = 1"
   ]
  },
  {
   "cell_type": "code",
   "execution_count": 97,
   "metadata": {},
   "outputs": [
    {
     "name": "stderr",
     "output_type": "stream",
     "text": [
      "/Users/kyojin/anaconda/envs/tf/lib/python3.5/site-packages/ipykernel_launcher.py:6: SettingWithCopyWarning: \n",
      "A value is trying to be set on a copy of a slice from a DataFrame.\n",
      "Try using .loc[row_indexer,col_indexer] = value instead\n",
      "\n",
      "See the caveats in the documentation: http://pandas.pydata.org/pandas-docs/stable/indexing.html#indexing-view-versus-copy\n",
      "  \n",
      "/Users/kyojin/anaconda/envs/tf/lib/python3.5/site-packages/ipykernel_launcher.py:31: SettingWithCopyWarning: \n",
      "A value is trying to be set on a copy of a slice from a DataFrame.\n",
      "Try using .loc[row_indexer,col_indexer] = value instead\n",
      "\n",
      "See the caveats in the documentation: http://pandas.pydata.org/pandas-docs/stable/indexing.html#indexing-view-versus-copy\n"
     ]
    }
   ],
   "source": [
    "# 発電量データ\n",
    "output_30 = all_output_30[['datetime', 'SOLA0'+str(target_place)]]\n",
    "output_30 = scaling_output(output_30)"
   ]
  },
  {
   "cell_type": "code",
   "execution_count": 98,
   "metadata": {
    "collapsed": true
   },
   "outputs": [],
   "source": [
    "# いろんなモデルの予測値の集合(学習用)\n",
    "train_prediction = pd.read_csv(\"data/layer_1/layer_1_train_SOLA0\"+str(target_place)+\".csv\")\n",
    "train_prediction['datetime'] = train_prediction['datetime'].map(lambda x : pd.to_datetime(x))\n",
    "\n",
    "# いろんなモデルの予測値の集合(ほんちゃん)\n",
    "test_prediction = pd.read_csv(\"data/layer_1/layer_1_SOLA0\"+str(target_place)+\".csv\")\n",
    "test_prediction['datetime'] = test_prediction['datetime'].map(lambda x : pd.to_datetime(x))"
   ]
  },
  {
   "cell_type": "code",
   "execution_count": 99,
   "metadata": {
    "collapsed": true
   },
   "outputs": [],
   "source": [
    "# 月, 時間の情報を加える\n",
    "train_prediction = add_time_dummy(train_prediction)\n",
    "test_prediction = add_time_dummy(test_prediction)"
   ]
  },
  {
   "cell_type": "code",
   "execution_count": 100,
   "metadata": {
    "scrolled": false
   },
   "outputs": [
    {
     "data": {
      "text/plain": [
       "(49, 49)"
      ]
     },
     "execution_count": 100,
     "metadata": {},
     "output_type": "execute_result"
    }
   ],
   "source": [
    "len(train_prediction.columns), len(test_prediction.columns)"
   ]
  },
  {
   "cell_type": "code",
   "execution_count": 101,
   "metadata": {
    "collapsed": true
   },
   "outputs": [],
   "source": [
    "t_s_datetime = train_prediction['datetime'][0]\n",
    "t_e_datetime = train_prediction['datetime'][len(train_prediction)-1]\n",
    "train_y_s_idx = output_30[output_30['datetime'] == t_s_datetime].index[0]\n",
    "train_y_e_idx = output_30[output_30['datetime'] == t_e_datetime].index[0]\n",
    "\n",
    "X = np.array(train_prediction.drop([\"datetime\"], axis=1))\n",
    "all_X = np.array(train_prediction.drop([\"datetime\"], axis=1))\n",
    "Y = output_30[\"SOLA0\"+str(target_place)][train_y_s_idx:train_y_e_idx+1]\n",
    "X_test = np.array(test_prediction.drop([\"datetime\"], axis=1))"
   ]
  },
  {
   "cell_type": "code",
   "execution_count": 102,
   "metadata": {
    "collapsed": true
   },
   "outputs": [],
   "source": [
    "X = np.array(X)\n",
    "Y = np.array(Y)\n",
    "X, Y = drop_nan(X, Y)"
   ]
  },
  {
   "cell_type": "code",
   "execution_count": 103,
   "metadata": {
    "collapsed": true
   },
   "outputs": [],
   "source": [
    "# 最適な深さを決める\n",
    "\n",
    "X_train, X_val, Y_train, Y_val = train_test_split(X, Y, test_size=int((X.shape[0] * 0.3)))\n",
    "\n",
    "train_maes = []\n",
    "val_maes = []\n",
    "n = 15\n",
    "n_start = 2\n",
    "for i in range(n):\n",
    "    rf = RandomForestRegressor(n_estimators = 10, max_depth = i+n_start)\n",
    "    rf.fit(X_train, Y_train)\n",
    "    Y_train_pred = rf.predict(X_train)\n",
    "    Y_val_pred = rf.predict(X_val)\n",
    "    train_maes.append(np.abs(Y_train_pred - Y_train).mean())\n",
    "    val_maes.append(np.abs(Y_val_pred - Y_val).mean())\n",
    "#     print(\"train_mae : \", np.abs(Y_train_pred - Y_train).mean())\n",
    "#     print(\"val_mae : \", np.abs(Y_val_pred - Y_val).mean())"
   ]
  },
  {
   "cell_type": "code",
   "execution_count": 104,
   "metadata": {
    "scrolled": false
   },
   "outputs": [
    {
     "data": {
      "text/plain": [
       "<matplotlib.legend.Legend at 0x1156fda20>"
      ]
     },
     "execution_count": 104,
     "metadata": {},
     "output_type": "execute_result"
    },
    {
     "data": {
      "image/png": "[encoded data removed]",
      "text/plain": [
       "<matplotlib.figure.Figure at 0x115f58748>"
      ]
     },
     "metadata": {},
     "output_type": "display_data"
    }
   ],
   "source": [
    "plt.plot(train_maes[:], label=\"train_maes\")\n",
    "plt.plot(val_maes[:], label=\"validation_maes\")\n",
    "plt.xticks(np.arange(n), np.arange(n)+n_start)\n",
    "plt.xlabel(\"max_depth\")\n",
    "plt.title(\"decide max_depth\")\n",
    "plt.legend()"
   ]
  },
  {
   "cell_type": "code",
   "execution_count": 105,
   "metadata": {
    "collapsed": true
   },
   "outputs": [],
   "source": [
    "# 交差検証\n",
    "t_maes = []\n",
    "v_maes = []\n",
    "n_splits = 5\n",
    "i = 0\n",
    "tmp = pd.DataFrame()\n",
    "for train_idx, test_idx in KFold(n_splits=n_splits).split(X):\n",
    "    X_train = X[train_idx]\n",
    "    Y_train = Y[train_idx]\n",
    "    X_val = X[test_idx]\n",
    "    Y_val = Y[test_idx]\n",
    "    \n",
    "    rf = RandomForestRegressor(n_estimators = 8, max_depth = 12)\n",
    "    rf.fit(X_train, Y_train)\n",
    "\n",
    "    Y_train_pred = rf.predict(X_train)\n",
    "    Y_val_pred = rf.predict(X_val)\n",
    "    \n",
    "    i+=1\n",
    "    tmp[i] = rf.predict(X_test)\n",
    "    \n",
    "    t_maes.append(np.abs(Y_train_pred - Y_train).mean())\n",
    "    v_maes.append( np.abs(Y_val_pred - Y_val).mean())"
   ]
  },
  {
   "cell_type": "code",
   "execution_count": 106,
   "metadata": {
    "scrolled": true
   },
   "outputs": [
    {
     "data": {
      "image/png": "[encoded data removed]",
      "text/plain": [
       "<matplotlib.figure.Figure at 0x115f58ef0>"
      ]
     },
     "metadata": {},
     "output_type": "display_data"
    }
   ],
   "source": [
    "plt.plot(t_maes, 's', label=\"train_maes\")\n",
    "plt.plot(v_maes, 'd', label=\"validation_maes\")\n",
    "plt.legend()\n",
    "plt.title(\"each maes of \"+str(n_splits)+\" folds at target_place_\"+str(target_place))\n",
    "plt.xticks(np.arange(n_splits), np.arange(n_splits)+1)\n",
    "plt.show()"
   ]
  },
  {
   "cell_type": "code",
   "execution_count": 107,
   "metadata": {
    "collapsed": true
   },
   "outputs": [],
   "source": [
    "s_idx = test_prediction[test_prediction['datetime'] == pd.to_datetime('2016/01/01 00:00')].index[0]\n",
    "e_idx = test_prediction[test_prediction['datetime'] == pd.to_datetime('2017/3/31 23:30')].index[0]\n",
    "predict_data = pd.DataFrame({\"datetime\":test_prediction['datetime'][s_idx:e_idx+1]})\n",
    "predict_data.index = np.arange(len(predict_data))"
   ]
  },
  {
   "cell_type": "code",
   "execution_count": 108,
   "metadata": {
    "collapsed": true
   },
   "outputs": [],
   "source": [
    "# 2016/01/01 00:00 ~ 2017/3/31 23:50の予測データを書き出す\n",
    "predict_data[\"blending_\"+str(target_place)] = np.array(tmp.mean(axis=1))"
   ]
  },
  {
   "cell_type": "markdown",
   "metadata": {},
   "source": [
    "### **扇島発電所について**"
   ]
  },
  {
   "cell_type": "code",
   "execution_count": 109,
   "metadata": {
    "collapsed": true
   },
   "outputs": [],
   "source": [
    "target_place = 2"
   ]
  },
  {
   "cell_type": "code",
   "execution_count": 110,
   "metadata": {},
   "outputs": [
    {
     "name": "stderr",
     "output_type": "stream",
     "text": [
      "/Users/kyojin/anaconda/envs/tf/lib/python3.5/site-packages/ipykernel_launcher.py:6: SettingWithCopyWarning: \n",
      "A value is trying to be set on a copy of a slice from a DataFrame.\n",
      "Try using .loc[row_indexer,col_indexer] = value instead\n",
      "\n",
      "See the caveats in the documentation: http://pandas.pydata.org/pandas-docs/stable/indexing.html#indexing-view-versus-copy\n",
      "  \n",
      "/Users/kyojin/anaconda/envs/tf/lib/python3.5/site-packages/ipykernel_launcher.py:31: SettingWithCopyWarning: \n",
      "A value is trying to be set on a copy of a slice from a DataFrame.\n",
      "Try using .loc[row_indexer,col_indexer] = value instead\n",
      "\n",
      "See the caveats in the documentation: http://pandas.pydata.org/pandas-docs/stable/indexing.html#indexing-view-versus-copy\n"
     ]
    }
   ],
   "source": [
    "# 発電量データ\n",
    "output_30 = all_output_30[['datetime', 'SOLA0'+str(target_place)]]\n",
    "output_30 = scaling_output(output_30)"
   ]
  },
  {
   "cell_type": "code",
   "execution_count": 111,
   "metadata": {
    "collapsed": true
   },
   "outputs": [],
   "source": [
    "# いろんなモデルの予測値の集合(学習用)\n",
    "train_prediction = pd.read_csv(\"data/layer_1/layer_1_train_SOLA0\"+str(target_place)+\".csv\")\n",
    "train_prediction['datetime'] = train_prediction['datetime'].map(lambda x : pd.to_datetime(x))\n",
    "\n",
    "# いろんなモデルの予測値の集合(ほんちゃん)\n",
    "test_prediction = pd.read_csv(\"data/layer_1/layer_1_SOLA0\"+str(target_place)+\".csv\")\n",
    "test_prediction['datetime'] = test_prediction['datetime'].map(lambda x : pd.to_datetime(x))"
   ]
  },
  {
   "cell_type": "code",
   "execution_count": 112,
   "metadata": {
    "collapsed": true
   },
   "outputs": [],
   "source": [
    "# 発電量が0の時間を0にしておく\n",
    "train_prediction = to_zero_df(train_prediction)\n",
    "test_prediction = to_zero_df(test_prediction)"
   ]
  },
  {
   "cell_type": "code",
   "execution_count": 113,
   "metadata": {
    "collapsed": true
   },
   "outputs": [],
   "source": [
    "# 月, 時間の情報を加える\n",
    "train_prediction = add_time_dummy(train_prediction)\n",
    "test_prediction = add_time_dummy(test_prediction)"
   ]
  },
  {
   "cell_type": "code",
   "execution_count": 114,
   "metadata": {
    "scrolled": false
   },
   "outputs": [
    {
     "data": {
      "text/plain": [
       "(49, 49)"
      ]
     },
     "execution_count": 114,
     "metadata": {},
     "output_type": "execute_result"
    }
   ],
   "source": [
    "len(train_prediction.columns), len(test_prediction.columns)"
   ]
  },
  {
   "cell_type": "code",
   "execution_count": 115,
   "metadata": {
    "collapsed": true
   },
   "outputs": [],
   "source": [
    "t_s_datetime = train_prediction['datetime'][0]\n",
    "t_e_datetime = train_prediction['datetime'][len(train_prediction)-1]\n",
    "train_y_s_idx = output_30[output_30['datetime'] == t_s_datetime].index[0]\n",
    "train_y_e_idx = output_30[output_30['datetime'] == t_e_datetime].index[0]\n",
    "\n",
    "X = np.array(train_prediction.drop([\"datetime\"], axis=1))\n",
    "all_X = np.array(train_prediction.drop([\"datetime\"], axis=1))\n",
    "Y = output_30[\"SOLA0\"+str(target_place)][train_y_s_idx:train_y_e_idx+1]\n",
    "X_test = np.array(test_prediction.drop([\"datetime\"], axis=1))"
   ]
  },
  {
   "cell_type": "code",
   "execution_count": 116,
   "metadata": {
    "collapsed": true
   },
   "outputs": [],
   "source": [
    "X = np.array(X)\n",
    "Y = np.array(Y)\n",
    "X, Y = drop_nan(X, Y)"
   ]
  },
  {
   "cell_type": "code",
   "execution_count": 49,
   "metadata": {
    "collapsed": true
   },
   "outputs": [],
   "source": [
    "# 最適な深さを決める\n",
    "\n",
    "X_train, X_val, Y_train, Y_val = train_test_split(X, Y, test_size=int((X.shape[0] * 0.3)))\n",
    "\n",
    "train_maes = []\n",
    "val_maes = []\n",
    "n = 15\n",
    "n_start = 2\n",
    "for i in range(n):\n",
    "    rf = RandomForestRegressor(n_estimators = 10, max_depth = i+n_start)\n",
    "    rf.fit(X_train, Y_train)\n",
    "    Y_train_pred = rf.predict(X_train)\n",
    "    Y_val_pred = rf.predict(X_val)\n",
    "    train_maes.append(np.abs(Y_train_pred - Y_train).mean())\n",
    "    val_maes.append(np.abs(Y_val_pred - Y_val).mean())\n",
    "#     print(\"train_mae : \", np.abs(Y_train_pred - Y_train).mean())\n",
    "#     print(\"val_mae : \", np.abs(Y_val_pred - Y_val).mean())"
   ]
  },
  {
   "cell_type": "code",
   "execution_count": 50,
   "metadata": {
    "scrolled": false
   },
   "outputs": [
    {
     "data": {
      "text/plain": [
       "<matplotlib.legend.Legend at 0x115575da0>"
      ]
     },
     "execution_count": 50,
     "metadata": {},
     "output_type": "execute_result"
    },
    {
     "data": {
      "image/png": "[encoded data removed]",
      "text/plain": [
       "<matplotlib.figure.Figure at 0x115e54278>"
      ]
     },
     "metadata": {},
     "output_type": "display_data"
    }
   ],
   "source": [
    "plt.plot(train_maes[:], label=\"train_maes\")\n",
    "plt.plot(val_maes[:], label=\"validation_maes\")\n",
    "plt.xticks(np.arange(n), np.arange(n)+n_start)\n",
    "plt.xlabel(\"max_depth\")\n",
    "plt.title(\"decide max_depth\")\n",
    "plt.legend()"
   ]
  },
  {
   "cell_type": "code",
   "execution_count": 117,
   "metadata": {
    "collapsed": true
   },
   "outputs": [],
   "source": [
    "# 交差検証\n",
    "t_maes = []\n",
    "v_maes = []\n",
    "n_splits = 5\n",
    "i = 0\n",
    "tmp = pd.DataFrame()\n",
    "for train_idx, test_idx in KFold(n_splits=n_splits).split(X):\n",
    "    X_train = X[train_idx]\n",
    "    Y_train = Y[train_idx]\n",
    "    X_val = X[test_idx]\n",
    "    Y_val = Y[test_idx]\n",
    "    \n",
    "    rf = RandomForestRegressor(n_estimators = 10, max_depth = 8)\n",
    "    rf.fit(X_train, Y_train)\n",
    "\n",
    "    Y_train_pred = rf.predict(X_train)\n",
    "    Y_val_pred = rf.predict(X_val)\n",
    "    \n",
    "    i+=1\n",
    "    tmp[i] = rf.predict(X_test)\n",
    "    \n",
    "    t_maes.append(np.abs(Y_train_pred - Y_train).mean())\n",
    "    v_maes.append( np.abs(Y_val_pred - Y_val).mean())"
   ]
  },
  {
   "cell_type": "code",
   "execution_count": 118,
   "metadata": {},
   "outputs": [
    {
     "data": {
      "image/png": "[encoded data removed]",
      "text/plain": [
       "<matplotlib.figure.Figure at 0x1163cb2b0>"
      ]
     },
     "metadata": {},
     "output_type": "display_data"
    }
   ],
   "source": [
    "plt.plot(t_maes, 's', label=\"train_maes\")\n",
    "plt.plot(v_maes, 'd', label=\"validation_maes\")\n",
    "plt.legend()\n",
    "plt.title(\"each maes of \"+str(n_splits)+\" folds at target_place_\"+str(target_place))\n",
    "plt.xticks(np.arange(n_splits), np.arange(n_splits)+1)\n",
    "plt.show()"
   ]
  },
  {
   "cell_type": "code",
   "execution_count": 119,
   "metadata": {
    "collapsed": true
   },
   "outputs": [],
   "source": [
    "# 2016/01/01 00:00 ~ 2017/3/31 23:50の予測データを書き出す\n",
    "predict_data[\"blending_\"+str(target_place)] = np.array(tmp.mean(axis=1))"
   ]
  },
  {
   "cell_type": "markdown",
   "metadata": {},
   "source": [
    "### **米倉山について**"
   ]
  },
  {
   "cell_type": "code",
   "execution_count": 120,
   "metadata": {
    "collapsed": true
   },
   "outputs": [],
   "source": [
    "target_place = 3"
   ]
  },
  {
   "cell_type": "code",
   "execution_count": 121,
   "metadata": {},
   "outputs": [
    {
     "name": "stderr",
     "output_type": "stream",
     "text": [
      "/Users/kyojin/anaconda/envs/tf/lib/python3.5/site-packages/ipykernel_launcher.py:6: SettingWithCopyWarning: \n",
      "A value is trying to be set on a copy of a slice from a DataFrame.\n",
      "Try using .loc[row_indexer,col_indexer] = value instead\n",
      "\n",
      "See the caveats in the documentation: http://pandas.pydata.org/pandas-docs/stable/indexing.html#indexing-view-versus-copy\n",
      "  \n",
      "/Users/kyojin/anaconda/envs/tf/lib/python3.5/site-packages/ipykernel_launcher.py:31: SettingWithCopyWarning: \n",
      "A value is trying to be set on a copy of a slice from a DataFrame.\n",
      "Try using .loc[row_indexer,col_indexer] = value instead\n",
      "\n",
      "See the caveats in the documentation: http://pandas.pydata.org/pandas-docs/stable/indexing.html#indexing-view-versus-copy\n"
     ]
    }
   ],
   "source": [
    "# 発電量データ\n",
    "output_30 = all_output_30[['datetime', 'SOLA0'+str(target_place)]]\n",
    "output_30 = scaling_output(output_30)"
   ]
  },
  {
   "cell_type": "code",
   "execution_count": 122,
   "metadata": {
    "collapsed": true
   },
   "outputs": [],
   "source": [
    "# いろんなモデルの予測値の集合(学習用)\n",
    "train_prediction = pd.read_csv(\"data/layer_1/layer_1_train_SOLA0\"+str(target_place)+\".csv\")\n",
    "train_prediction['datetime'] = train_prediction['datetime'].map(lambda x : pd.to_datetime(x))\n",
    "\n",
    "# いろんなモデルの予測値の集合(ほんちゃん)\n",
    "test_prediction = pd.read_csv(\"data/layer_1/layer_1_SOLA0\"+str(target_place)+\".csv\")\n",
    "test_prediction['datetime'] = test_prediction['datetime'].map(lambda x : pd.to_datetime(x))"
   ]
  },
  {
   "cell_type": "code",
   "execution_count": 123,
   "metadata": {
    "collapsed": true
   },
   "outputs": [],
   "source": [
    "# 発電量が0の時間を0にしておく\n",
    "train_prediction = to_zero_df(train_prediction)\n",
    "test_prediction = to_zero_df(test_prediction)"
   ]
  },
  {
   "cell_type": "code",
   "execution_count": 124,
   "metadata": {
    "collapsed": true
   },
   "outputs": [],
   "source": [
    "# 月, 時間の情報を加える\n",
    "train_prediction = add_time_dummy(train_prediction)\n",
    "test_prediction = add_time_dummy(test_prediction)"
   ]
  },
  {
   "cell_type": "code",
   "execution_count": 125,
   "metadata": {
    "scrolled": false
   },
   "outputs": [
    {
     "data": {
      "text/plain": [
       "(49, 49)"
      ]
     },
     "execution_count": 125,
     "metadata": {},
     "output_type": "execute_result"
    }
   ],
   "source": [
    "len(train_prediction.columns), len(test_prediction.columns)"
   ]
  },
  {
   "cell_type": "code",
   "execution_count": 126,
   "metadata": {
    "collapsed": true
   },
   "outputs": [],
   "source": [
    "t_s_datetime = train_prediction['datetime'][0]\n",
    "t_e_datetime = train_prediction['datetime'][len(train_prediction)-1]\n",
    "train_y_s_idx = output_30[output_30['datetime'] == t_s_datetime].index[0]\n",
    "train_y_e_idx = output_30[output_30['datetime'] == t_e_datetime].index[0]\n",
    "\n",
    "X = np.array(train_prediction.drop([\"datetime\"], axis=1))\n",
    "all_X = np.array(train_prediction.drop([\"datetime\"], axis=1))\n",
    "Y = output_30[\"SOLA0\"+str(target_place)][train_y_s_idx:train_y_e_idx+1]\n",
    "X_test = np.array(test_prediction.drop([\"datetime\"], axis=1))"
   ]
  },
  {
   "cell_type": "code",
   "execution_count": 127,
   "metadata": {
    "collapsed": true
   },
   "outputs": [],
   "source": [
    "X = np.array(X)\n",
    "Y = np.array(Y)\n",
    "X, Y = drop_nan(X, Y)"
   ]
  },
  {
   "cell_type": "code",
   "execution_count": 62,
   "metadata": {
    "collapsed": true
   },
   "outputs": [],
   "source": [
    "# 最適な深さを決める\n",
    "\n",
    "X_train, X_val, Y_train, Y_val = train_test_split(X, Y, test_size=int((X.shape[0] * 0.3)))\n",
    "\n",
    "train_maes = []\n",
    "val_maes = []\n",
    "n = 15\n",
    "n_start = 2\n",
    "for i in range(n):\n",
    "    rf = RandomForestRegressor(n_estimators = 10, max_depth = i+n_start)\n",
    "    rf.fit(X_train, Y_train)\n",
    "    Y_train_pred = rf.predict(X_train)\n",
    "    Y_val_pred = rf.predict(X_val)\n",
    "    train_maes.append(np.abs(Y_train_pred - Y_train).mean())\n",
    "    val_maes.append(np.abs(Y_val_pred - Y_val).mean())\n",
    "#     print(\"train_mae : \", np.abs(Y_train_pred - Y_train).mean())\n",
    "#     print(\"val_mae : \", np.abs(Y_val_pred - Y_val).mean())"
   ]
  },
  {
   "cell_type": "code",
   "execution_count": 63,
   "metadata": {
    "scrolled": false
   },
   "outputs": [
    {
     "data": {
      "text/plain": [
       "<matplotlib.legend.Legend at 0x115572f98>"
      ]
     },
     "execution_count": 63,
     "metadata": {},
     "output_type": "execute_result"
    },
    {
     "data": {
      "image/png": "[encoded data removed]",
      "text/plain": [
       "<matplotlib.figure.Figure at 0x11532d550>"
      ]
     },
     "metadata": {},
     "output_type": "display_data"
    }
   ],
   "source": [
    "plt.plot(train_maes[:], label=\"train_maes\")\n",
    "plt.plot(val_maes[:], label=\"validation_maes\")\n",
    "plt.xticks(np.arange(n), np.arange(n)+n_start)\n",
    "plt.xlabel(\"max_depth\")\n",
    "plt.title(\"decide max_depth\")\n",
    "plt.legend()"
   ]
  },
  {
   "cell_type": "code",
   "execution_count": 128,
   "metadata": {
    "collapsed": true
   },
   "outputs": [],
   "source": [
    "# 交差検証\n",
    "t_maes = []\n",
    "v_maes = []\n",
    "n_splits = 5\n",
    "i = 0\n",
    "tmp = pd.DataFrame()\n",
    "for train_idx, test_idx in KFold(n_splits=n_splits).split(X):\n",
    "    X_train = X[train_idx]\n",
    "    Y_train = Y[train_idx]\n",
    "    X_val = X[test_idx]\n",
    "    Y_val = Y[test_idx]\n",
    "    \n",
    "    rf = RandomForestRegressor(n_estimators = 10, max_depth = 8)\n",
    "    rf.fit(X_train, Y_train)\n",
    "\n",
    "    Y_train_pred = rf.predict(X_train)\n",
    "    Y_val_pred = rf.predict(X_val)\n",
    "    \n",
    "    i+=1\n",
    "    tmp[i] = rf.predict(X_test)\n",
    "    \n",
    "    t_maes.append(np.abs(Y_train_pred - Y_train).mean())\n",
    "    v_maes.append( np.abs(Y_val_pred - Y_val).mean())"
   ]
  },
  {
   "cell_type": "code",
   "execution_count": 129,
   "metadata": {},
   "outputs": [
    {
     "data": {
      "image/png": "[encoded data removed]",
      "text/plain": [
       "<matplotlib.figure.Figure at 0x114417e10>"
      ]
     },
     "metadata": {},
     "output_type": "display_data"
    }
   ],
   "source": [
    "plt.plot(t_maes, 's', label=\"train_maes\")\n",
    "plt.plot(v_maes, 'd', label=\"validation_maes\")\n",
    "plt.legend()\n",
    "plt.title(\"each maes of \"+str(n_splits)+\" folds at target_place_\"+str(target_place))\n",
    "plt.xticks(np.arange(n_splits), np.arange(n_splits)+1)\n",
    "plt.show()"
   ]
  },
  {
   "cell_type": "code",
   "execution_count": 130,
   "metadata": {
    "collapsed": true
   },
   "outputs": [],
   "source": [
    "# 2016/01/01 00:00 ~ 2017/3/31 23:50の予測データを書き出す\n",
    "predict_data[\"blending_\"+str(target_place)] = np.array(tmp.mean(axis=1))"
   ]
  },
  {
   "cell_type": "code",
   "execution_count": 131,
   "metadata": {},
   "outputs": [
    {
     "data": {
      "text/html": [
       "<div>\n",
       "<style>\n",
       "    .dataframe thead tr:only-child th {\n",
       "        text-align: right;\n",
       "    }\n",
       "\n",
       "    .dataframe thead th {\n",
       "        text-align: left;\n",
       "    }\n",
       "\n",
       "    .dataframe tbody tr th {\n",
       "        vertical-align: top;\n",
       "    }\n",
       "</style>\n",
       "<table border=\"1\" class=\"dataframe\">\n",
       "  <thead>\n",
       "    <tr style=\"text-align: right;\">\n",
       "      <th></th>\n",
       "      <th>datetime</th>\n",
       "      <th>blending_1</th>\n",
       "      <th>blending_2</th>\n",
       "      <th>blending_3</th>\n",
       "    </tr>\n",
       "  </thead>\n",
       "  <tbody>\n",
       "    <tr>\n",
       "      <th>0</th>\n",
       "      <td>2016-01-01 00:00:00</td>\n",
       "      <td>0.001085</td>\n",
       "      <td>0.017478</td>\n",
       "      <td>0.007157</td>\n",
       "    </tr>\n",
       "    <tr>\n",
       "      <th>1</th>\n",
       "      <td>2016-01-01 00:30:00</td>\n",
       "      <td>0.001085</td>\n",
       "      <td>0.017478</td>\n",
       "      <td>0.007157</td>\n",
       "    </tr>\n",
       "    <tr>\n",
       "      <th>2</th>\n",
       "      <td>2016-01-01 01:00:00</td>\n",
       "      <td>0.001085</td>\n",
       "      <td>0.017478</td>\n",
       "      <td>0.007157</td>\n",
       "    </tr>\n",
       "    <tr>\n",
       "      <th>3</th>\n",
       "      <td>2016-01-01 01:30:00</td>\n",
       "      <td>0.001085</td>\n",
       "      <td>0.017478</td>\n",
       "      <td>0.007157</td>\n",
       "    </tr>\n",
       "    <tr>\n",
       "      <th>4</th>\n",
       "      <td>2016-01-01 02:00:00</td>\n",
       "      <td>0.001085</td>\n",
       "      <td>0.017478</td>\n",
       "      <td>0.007157</td>\n",
       "    </tr>\n",
       "    <tr>\n",
       "      <th>5</th>\n",
       "      <td>2016-01-01 02:30:00</td>\n",
       "      <td>0.001085</td>\n",
       "      <td>0.017478</td>\n",
       "      <td>0.007157</td>\n",
       "    </tr>\n",
       "    <tr>\n",
       "      <th>6</th>\n",
       "      <td>2016-01-01 03:00:00</td>\n",
       "      <td>0.001085</td>\n",
       "      <td>0.017478</td>\n",
       "      <td>0.007157</td>\n",
       "    </tr>\n",
       "    <tr>\n",
       "      <th>7</th>\n",
       "      <td>2016-01-01 03:30:00</td>\n",
       "      <td>0.001085</td>\n",
       "      <td>0.017478</td>\n",
       "      <td>0.007157</td>\n",
       "    </tr>\n",
       "    <tr>\n",
       "      <th>8</th>\n",
       "      <td>2016-01-01 04:00:00</td>\n",
       "      <td>0.010858</td>\n",
       "      <td>0.017478</td>\n",
       "      <td>0.007157</td>\n",
       "    </tr>\n",
       "    <tr>\n",
       "      <th>9</th>\n",
       "      <td>2016-01-01 04:30:00</td>\n",
       "      <td>0.010858</td>\n",
       "      <td>0.017478</td>\n",
       "      <td>0.007157</td>\n",
       "    </tr>\n",
       "    <tr>\n",
       "      <th>10</th>\n",
       "      <td>2016-01-01 05:00:00</td>\n",
       "      <td>0.002632</td>\n",
       "      <td>1.501800</td>\n",
       "      <td>0.007157</td>\n",
       "    </tr>\n",
       "    <tr>\n",
       "      <th>11</th>\n",
       "      <td>2016-01-01 05:30:00</td>\n",
       "      <td>0.002457</td>\n",
       "      <td>0.017478</td>\n",
       "      <td>0.007157</td>\n",
       "    </tr>\n",
       "    <tr>\n",
       "      <th>12</th>\n",
       "      <td>2016-01-01 06:00:00</td>\n",
       "      <td>0.070358</td>\n",
       "      <td>0.690612</td>\n",
       "      <td>0.175053</td>\n",
       "    </tr>\n",
       "    <tr>\n",
       "      <th>13</th>\n",
       "      <td>2016-01-01 06:30:00</td>\n",
       "      <td>2.798136</td>\n",
       "      <td>6.383410</td>\n",
       "      <td>3.383243</td>\n",
       "    </tr>\n",
       "    <tr>\n",
       "      <th>14</th>\n",
       "      <td>2016-01-01 07:00:00</td>\n",
       "      <td>148.328327</td>\n",
       "      <td>161.269521</td>\n",
       "      <td>113.949295</td>\n",
       "    </tr>\n",
       "    <tr>\n",
       "      <th>15</th>\n",
       "      <td>2016-01-01 07:30:00</td>\n",
       "      <td>138.234852</td>\n",
       "      <td>426.268809</td>\n",
       "      <td>290.257862</td>\n",
       "    </tr>\n",
       "    <tr>\n",
       "      <th>16</th>\n",
       "      <td>2016-01-01 08:00:00</td>\n",
       "      <td>552.150481</td>\n",
       "      <td>1000.818490</td>\n",
       "      <td>778.307655</td>\n",
       "    </tr>\n",
       "    <tr>\n",
       "      <th>17</th>\n",
       "      <td>2016-01-01 08:30:00</td>\n",
       "      <td>1246.106816</td>\n",
       "      <td>1463.170546</td>\n",
       "      <td>1584.310883</td>\n",
       "    </tr>\n",
       "    <tr>\n",
       "      <th>18</th>\n",
       "      <td>2016-01-01 09:00:00</td>\n",
       "      <td>1399.198820</td>\n",
       "      <td>2174.037832</td>\n",
       "      <td>1618.729183</td>\n",
       "    </tr>\n",
       "    <tr>\n",
       "      <th>19</th>\n",
       "      <td>2016-01-01 09:30:00</td>\n",
       "      <td>1831.646200</td>\n",
       "      <td>2593.037854</td>\n",
       "      <td>2119.368255</td>\n",
       "    </tr>\n",
       "    <tr>\n",
       "      <th>20</th>\n",
       "      <td>2016-01-01 10:00:00</td>\n",
       "      <td>1849.936555</td>\n",
       "      <td>2994.865444</td>\n",
       "      <td>1940.102213</td>\n",
       "    </tr>\n",
       "    <tr>\n",
       "      <th>21</th>\n",
       "      <td>2016-01-01 10:30:00</td>\n",
       "      <td>2102.137506</td>\n",
       "      <td>3311.910214</td>\n",
       "      <td>2739.047820</td>\n",
       "    </tr>\n",
       "    <tr>\n",
       "      <th>22</th>\n",
       "      <td>2016-01-01 11:00:00</td>\n",
       "      <td>2172.529231</td>\n",
       "      <td>3110.229092</td>\n",
       "      <td>2560.980886</td>\n",
       "    </tr>\n",
       "    <tr>\n",
       "      <th>23</th>\n",
       "      <td>2016-01-01 11:30:00</td>\n",
       "      <td>2138.558787</td>\n",
       "      <td>3407.364769</td>\n",
       "      <td>2796.849730</td>\n",
       "    </tr>\n",
       "    <tr>\n",
       "      <th>24</th>\n",
       "      <td>2016-01-01 12:00:00</td>\n",
       "      <td>2021.567222</td>\n",
       "      <td>3214.709017</td>\n",
       "      <td>2575.483257</td>\n",
       "    </tr>\n",
       "    <tr>\n",
       "      <th>25</th>\n",
       "      <td>2016-01-01 12:30:00</td>\n",
       "      <td>2251.222903</td>\n",
       "      <td>3140.658720</td>\n",
       "      <td>2462.596774</td>\n",
       "    </tr>\n",
       "    <tr>\n",
       "      <th>26</th>\n",
       "      <td>2016-01-01 13:00:00</td>\n",
       "      <td>2201.253360</td>\n",
       "      <td>3299.808886</td>\n",
       "      <td>2629.985497</td>\n",
       "    </tr>\n",
       "    <tr>\n",
       "      <th>27</th>\n",
       "      <td>2016-01-01 13:30:00</td>\n",
       "      <td>1813.855002</td>\n",
       "      <td>3131.588523</td>\n",
       "      <td>1924.667802</td>\n",
       "    </tr>\n",
       "    <tr>\n",
       "      <th>28</th>\n",
       "      <td>2016-01-01 14:00:00</td>\n",
       "      <td>1815.008618</td>\n",
       "      <td>2611.265411</td>\n",
       "      <td>2065.657480</td>\n",
       "    </tr>\n",
       "    <tr>\n",
       "      <th>29</th>\n",
       "      <td>2016-01-01 14:30:00</td>\n",
       "      <td>1409.196975</td>\n",
       "      <td>1743.835559</td>\n",
       "      <td>1589.803345</td>\n",
       "    </tr>\n",
       "    <tr>\n",
       "      <th>...</th>\n",
       "      <td>...</td>\n",
       "      <td>...</td>\n",
       "      <td>...</td>\n",
       "      <td>...</td>\n",
       "    </tr>\n",
       "    <tr>\n",
       "      <th>21858</th>\n",
       "      <td>2017-03-31 09:00:00</td>\n",
       "      <td>1027.396917</td>\n",
       "      <td>1357.818481</td>\n",
       "      <td>1074.946888</td>\n",
       "    </tr>\n",
       "    <tr>\n",
       "      <th>21859</th>\n",
       "      <td>2017-03-31 09:30:00</td>\n",
       "      <td>1165.765448</td>\n",
       "      <td>1992.250358</td>\n",
       "      <td>1271.097774</td>\n",
       "    </tr>\n",
       "    <tr>\n",
       "      <th>21860</th>\n",
       "      <td>2017-03-31 10:00:00</td>\n",
       "      <td>1097.139384</td>\n",
       "      <td>2014.775705</td>\n",
       "      <td>1982.904451</td>\n",
       "    </tr>\n",
       "    <tr>\n",
       "      <th>21861</th>\n",
       "      <td>2017-03-31 10:30:00</td>\n",
       "      <td>1108.240120</td>\n",
       "      <td>1864.399930</td>\n",
       "      <td>1613.655467</td>\n",
       "    </tr>\n",
       "    <tr>\n",
       "      <th>21862</th>\n",
       "      <td>2017-03-31 11:00:00</td>\n",
       "      <td>1210.600748</td>\n",
       "      <td>1272.331954</td>\n",
       "      <td>1770.173325</td>\n",
       "    </tr>\n",
       "    <tr>\n",
       "      <th>21863</th>\n",
       "      <td>2017-03-31 11:30:00</td>\n",
       "      <td>979.108537</td>\n",
       "      <td>1260.355882</td>\n",
       "      <td>1679.568133</td>\n",
       "    </tr>\n",
       "    <tr>\n",
       "      <th>21864</th>\n",
       "      <td>2017-03-31 12:00:00</td>\n",
       "      <td>1009.687763</td>\n",
       "      <td>1862.340323</td>\n",
       "      <td>2074.103752</td>\n",
       "    </tr>\n",
       "    <tr>\n",
       "      <th>21865</th>\n",
       "      <td>2017-03-31 12:30:00</td>\n",
       "      <td>946.064403</td>\n",
       "      <td>1805.397528</td>\n",
       "      <td>1769.888649</td>\n",
       "    </tr>\n",
       "    <tr>\n",
       "      <th>21866</th>\n",
       "      <td>2017-03-31 13:00:00</td>\n",
       "      <td>837.151381</td>\n",
       "      <td>1536.205895</td>\n",
       "      <td>2178.642607</td>\n",
       "    </tr>\n",
       "    <tr>\n",
       "      <th>21867</th>\n",
       "      <td>2017-03-31 13:30:00</td>\n",
       "      <td>720.963507</td>\n",
       "      <td>1364.160752</td>\n",
       "      <td>2108.051130</td>\n",
       "    </tr>\n",
       "    <tr>\n",
       "      <th>21868</th>\n",
       "      <td>2017-03-31 14:00:00</td>\n",
       "      <td>726.724208</td>\n",
       "      <td>1123.685092</td>\n",
       "      <td>1511.332708</td>\n",
       "    </tr>\n",
       "    <tr>\n",
       "      <th>21869</th>\n",
       "      <td>2017-03-31 14:30:00</td>\n",
       "      <td>508.336217</td>\n",
       "      <td>934.252896</td>\n",
       "      <td>1340.066672</td>\n",
       "    </tr>\n",
       "    <tr>\n",
       "      <th>21870</th>\n",
       "      <td>2017-03-31 15:00:00</td>\n",
       "      <td>311.662735</td>\n",
       "      <td>641.952234</td>\n",
       "      <td>1303.847741</td>\n",
       "    </tr>\n",
       "    <tr>\n",
       "      <th>21871</th>\n",
       "      <td>2017-03-31 15:30:00</td>\n",
       "      <td>294.304124</td>\n",
       "      <td>452.898629</td>\n",
       "      <td>495.389727</td>\n",
       "    </tr>\n",
       "    <tr>\n",
       "      <th>21872</th>\n",
       "      <td>2017-03-31 16:00:00</td>\n",
       "      <td>128.607019</td>\n",
       "      <td>162.088627</td>\n",
       "      <td>284.108556</td>\n",
       "    </tr>\n",
       "    <tr>\n",
       "      <th>21873</th>\n",
       "      <td>2017-03-31 16:30:00</td>\n",
       "      <td>63.156574</td>\n",
       "      <td>85.676120</td>\n",
       "      <td>136.710007</td>\n",
       "    </tr>\n",
       "    <tr>\n",
       "      <th>21874</th>\n",
       "      <td>2017-03-31 17:00:00</td>\n",
       "      <td>1.546155</td>\n",
       "      <td>7.622325</td>\n",
       "      <td>32.960342</td>\n",
       "    </tr>\n",
       "    <tr>\n",
       "      <th>21875</th>\n",
       "      <td>2017-03-31 17:30:00</td>\n",
       "      <td>0.938783</td>\n",
       "      <td>5.370777</td>\n",
       "      <td>5.571695</td>\n",
       "    </tr>\n",
       "    <tr>\n",
       "      <th>21876</th>\n",
       "      <td>2017-03-31 18:00:00</td>\n",
       "      <td>0.021126</td>\n",
       "      <td>0.017478</td>\n",
       "      <td>0.582507</td>\n",
       "    </tr>\n",
       "    <tr>\n",
       "      <th>21877</th>\n",
       "      <td>2017-03-31 18:30:00</td>\n",
       "      <td>0.001085</td>\n",
       "      <td>0.017478</td>\n",
       "      <td>0.139979</td>\n",
       "    </tr>\n",
       "    <tr>\n",
       "      <th>21878</th>\n",
       "      <td>2017-03-31 19:00:00</td>\n",
       "      <td>0.001085</td>\n",
       "      <td>0.017478</td>\n",
       "      <td>0.007157</td>\n",
       "    </tr>\n",
       "    <tr>\n",
       "      <th>21879</th>\n",
       "      <td>2017-03-31 19:30:00</td>\n",
       "      <td>0.001085</td>\n",
       "      <td>0.017478</td>\n",
       "      <td>0.007157</td>\n",
       "    </tr>\n",
       "    <tr>\n",
       "      <th>21880</th>\n",
       "      <td>2017-03-31 20:00:00</td>\n",
       "      <td>0.001085</td>\n",
       "      <td>0.017478</td>\n",
       "      <td>0.007157</td>\n",
       "    </tr>\n",
       "    <tr>\n",
       "      <th>21881</th>\n",
       "      <td>2017-03-31 20:30:00</td>\n",
       "      <td>0.001085</td>\n",
       "      <td>0.017478</td>\n",
       "      <td>0.007157</td>\n",
       "    </tr>\n",
       "    <tr>\n",
       "      <th>21882</th>\n",
       "      <td>2017-03-31 21:00:00</td>\n",
       "      <td>0.001085</td>\n",
       "      <td>0.017478</td>\n",
       "      <td>0.007157</td>\n",
       "    </tr>\n",
       "    <tr>\n",
       "      <th>21883</th>\n",
       "      <td>2017-03-31 21:30:00</td>\n",
       "      <td>0.001085</td>\n",
       "      <td>0.017478</td>\n",
       "      <td>0.007157</td>\n",
       "    </tr>\n",
       "    <tr>\n",
       "      <th>21884</th>\n",
       "      <td>2017-03-31 22:00:00</td>\n",
       "      <td>0.001085</td>\n",
       "      <td>0.017478</td>\n",
       "      <td>0.007157</td>\n",
       "    </tr>\n",
       "    <tr>\n",
       "      <th>21885</th>\n",
       "      <td>2017-03-31 22:30:00</td>\n",
       "      <td>0.001085</td>\n",
       "      <td>0.017478</td>\n",
       "      <td>0.007157</td>\n",
       "    </tr>\n",
       "    <tr>\n",
       "      <th>21886</th>\n",
       "      <td>2017-03-31 23:00:00</td>\n",
       "      <td>0.001085</td>\n",
       "      <td>0.017478</td>\n",
       "      <td>0.007157</td>\n",
       "    </tr>\n",
       "    <tr>\n",
       "      <th>21887</th>\n",
       "      <td>2017-03-31 23:30:00</td>\n",
       "      <td>0.001085</td>\n",
       "      <td>0.017478</td>\n",
       "      <td>0.007157</td>\n",
       "    </tr>\n",
       "  </tbody>\n",
       "</table>\n",
       "<p>21888 rows × 4 columns</p>\n",
       "</div>"
      ],
      "text/plain": [
       "                 datetime   blending_1   blending_2   blending_3\n",
       "0     2016-01-01 00:00:00     0.001085     0.017478     0.007157\n",
       "1     2016-01-01 00:30:00     0.001085     0.017478     0.007157\n",
       "2     2016-01-01 01:00:00     0.001085     0.017478     0.007157\n",
       "3     2016-01-01 01:30:00     0.001085     0.017478     0.007157\n",
       "4     2016-01-01 02:00:00     0.001085     0.017478     0.007157\n",
       "5     2016-01-01 02:30:00     0.001085     0.017478     0.007157\n",
       "6     2016-01-01 03:00:00     0.001085     0.017478     0.007157\n",
       "7     2016-01-01 03:30:00     0.001085     0.017478     0.007157\n",
       "8     2016-01-01 04:00:00     0.010858     0.017478     0.007157\n",
       "9     2016-01-01 04:30:00     0.010858     0.017478     0.007157\n",
       "10    2016-01-01 05:00:00     0.002632     1.501800     0.007157\n",
       "11    2016-01-01 05:30:00     0.002457     0.017478     0.007157\n",
       "12    2016-01-01 06:00:00     0.070358     0.690612     0.175053\n",
       "13    2016-01-01 06:30:00     2.798136     6.383410     3.383243\n",
       "14    2016-01-01 07:00:00   148.328327   161.269521   113.949295\n",
       "15    2016-01-01 07:30:00   138.234852   426.268809   290.257862\n",
       "16    2016-01-01 08:00:00   552.150481  1000.818490   778.307655\n",
       "17    2016-01-01 08:30:00  1246.106816  1463.170546  1584.310883\n",
       "18    2016-01-01 09:00:00  1399.198820  2174.037832  1618.729183\n",
       "19    2016-01-01 09:30:00  1831.646200  2593.037854  2119.368255\n",
       "20    2016-01-01 10:00:00  1849.936555  2994.865444  1940.102213\n",
       "21    2016-01-01 10:30:00  2102.137506  3311.910214  2739.047820\n",
       "22    2016-01-01 11:00:00  2172.529231  3110.229092  2560.980886\n",
       "23    2016-01-01 11:30:00  2138.558787  3407.364769  2796.849730\n",
       "24    2016-01-01 12:00:00  2021.567222  3214.709017  2575.483257\n",
       "25    2016-01-01 12:30:00  2251.222903  3140.658720  2462.596774\n",
       "26    2016-01-01 13:00:00  2201.253360  3299.808886  2629.985497\n",
       "27    2016-01-01 13:30:00  1813.855002  3131.588523  1924.667802\n",
       "28    2016-01-01 14:00:00  1815.008618  2611.265411  2065.657480\n",
       "29    2016-01-01 14:30:00  1409.196975  1743.835559  1589.803345\n",
       "...                   ...          ...          ...          ...\n",
       "21858 2017-03-31 09:00:00  1027.396917  1357.818481  1074.946888\n",
       "21859 2017-03-31 09:30:00  1165.765448  1992.250358  1271.097774\n",
       "21860 2017-03-31 10:00:00  1097.139384  2014.775705  1982.904451\n",
       "21861 2017-03-31 10:30:00  1108.240120  1864.399930  1613.655467\n",
       "21862 2017-03-31 11:00:00  1210.600748  1272.331954  1770.173325\n",
       "21863 2017-03-31 11:30:00   979.108537  1260.355882  1679.568133\n",
       "21864 2017-03-31 12:00:00  1009.687763  1862.340323  2074.103752\n",
       "21865 2017-03-31 12:30:00   946.064403  1805.397528  1769.888649\n",
       "21866 2017-03-31 13:00:00   837.151381  1536.205895  2178.642607\n",
       "21867 2017-03-31 13:30:00   720.963507  1364.160752  2108.051130\n",
       "21868 2017-03-31 14:00:00   726.724208  1123.685092  1511.332708\n",
       "21869 2017-03-31 14:30:00   508.336217   934.252896  1340.066672\n",
       "21870 2017-03-31 15:00:00   311.662735   641.952234  1303.847741\n",
       "21871 2017-03-31 15:30:00   294.304124   452.898629   495.389727\n",
       "21872 2017-03-31 16:00:00   128.607019   162.088627   284.108556\n",
       "21873 2017-03-31 16:30:00    63.156574    85.676120   136.710007\n",
       "21874 2017-03-31 17:00:00     1.546155     7.622325    32.960342\n",
       "21875 2017-03-31 17:30:00     0.938783     5.370777     5.571695\n",
       "21876 2017-03-31 18:00:00     0.021126     0.017478     0.582507\n",
       "21877 2017-03-31 18:30:00     0.001085     0.017478     0.139979\n",
       "21878 2017-03-31 19:00:00     0.001085     0.017478     0.007157\n",
       "21879 2017-03-31 19:30:00     0.001085     0.017478     0.007157\n",
       "21880 2017-03-31 20:00:00     0.001085     0.017478     0.007157\n",
       "21881 2017-03-31 20:30:00     0.001085     0.017478     0.007157\n",
       "21882 2017-03-31 21:00:00     0.001085     0.017478     0.007157\n",
       "21883 2017-03-31 21:30:00     0.001085     0.017478     0.007157\n",
       "21884 2017-03-31 22:00:00     0.001085     0.017478     0.007157\n",
       "21885 2017-03-31 22:30:00     0.001085     0.017478     0.007157\n",
       "21886 2017-03-31 23:00:00     0.001085     0.017478     0.007157\n",
       "21887 2017-03-31 23:30:00     0.001085     0.017478     0.007157\n",
       "\n",
       "[21888 rows x 4 columns]"
      ]
     },
     "execution_count": 131,
     "metadata": {},
     "output_type": "execute_result"
    }
   ],
   "source": [
    "predict_data"
   ]
  },
  {
   "cell_type": "code",
   "execution_count": 132,
   "metadata": {
    "collapsed": true
   },
   "outputs": [],
   "source": [
    "predict_data.to_csv('data/layer_2/layer_2_prediction.csv', index=False)"
   ]
  },
  {
   "cell_type": "code",
   "execution_count": null,
   "metadata": {
    "collapsed": true
   },
   "outputs": [],
   "source": []
  }
 ],
 "metadata": {
  "kernelspec": {
   "display_name": "Python 3",
   "language": "python",
   "name": "python3"
  },
  "language_info": {
   "codemirror_mode": {
    "name": "ipython",
    "version": 3
   },
   "file_extension": ".py",
   "mimetype": "text/x-python",
   "name": "python",
   "nbconvert_exporter": "python",
   "pygments_lexer": "ipython3",
   "version": "3.5.3"
  }
 },
 "nbformat": 4,
 "nbformat_minor": 2
}
