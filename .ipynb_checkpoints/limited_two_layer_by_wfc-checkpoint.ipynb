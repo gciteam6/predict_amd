{
 "cells": [
  {
   "cell_type": "markdown",
   "metadata": {},
   "source": [
    "# **気象予報データ全てを用いて翌日の05:30 ~ 18:30までの発電量をMLPで予測する**"
   ]
  },
  {
   "cell_type": "markdown",
   "metadata": {},
   "source": [
    "### **必要な関数・ライブラリ**"
   ]
  },
  {
   "cell_type": "code",
   "execution_count": 1,
   "metadata": {},
   "outputs": [],
   "source": [
    "# データ加工・処理・分析モジュール\n",
    "import numpy as np\n",
    "import pandas as pd\n",
    "import matplotlib.pyplot as plt\n",
    "from sklearn.model_selection import train_test_split\n",
    "from sklearn.model_selection import KFold\n",
    "import os\n",
    "from two_layer import two_layer\n",
    "\n",
    "%matplotlib inline"
   ]
  },
  {
   "cell_type": "code",
   "execution_count": 2,
   "metadata": {
    "collapsed": true
   },
   "outputs": [],
   "source": [
    "def set_time(dataframe, col_name):\n",
    "    '''\n",
    "    to_datetimeを使うための前処理\n",
    "    '''\n",
    "    dataframe[col_name] = dataframe[col_name].map(lambda x : transform_time(x))\n",
    "    return dataframe"
   ]
  },
  {
   "cell_type": "code",
   "execution_count": 3,
   "metadata": {
    "collapsed": true
   },
   "outputs": [],
   "source": [
    "def transform_time(x):\n",
    "    '''\n",
    "    set_time内で使う関数\n",
    "    to_datetimeで24時をサポートしないので00に変更する処理\n",
    "    '''\n",
    "    str_x = str(x)\n",
    "    res = ''\n",
    "    if str(x)[8:10] == '24':\n",
    "        res = str_x[0:4] + '-' + str_x[4:6] + '-' + str_x[6:8] + ' 00:'+str_x[10:12] \n",
    "    else:\n",
    "        res = str_x[0:4] + '-' + str_x[4:6] + '-' + str_x[6:8] + ' '+ str_x[8:10] +':'+str_x[10:12]\n",
    "    return res"
   ]
  },
  {
   "cell_type": "code",
   "execution_count": 4,
   "metadata": {
    "collapsed": true
   },
   "outputs": [],
   "source": [
    "def add_month_date(input_data, key=\"datetime\"):\n",
    "    '''\n",
    "    時間や月のデータを加える\n",
    "    '''\n",
    "    input_data['month'] = input_data[key].map(lambda x: int(x.month))\n",
    "    input_data['month_cos'] = input_data['month'].map(lambda x: np.cos(np.pi * x / 12))\n",
    "    input_data['month_sin'] = input_data['month'].map(lambda x: np.sin(np.pi * x / 12))\n",
    "    input_data = input_data.drop(['month'], axis=1)\n",
    "    return input_data"
   ]
  },
  {
   "cell_type": "code",
   "execution_count": 5,
   "metadata": {
    "collapsed": true
   },
   "outputs": [],
   "source": [
    "def get_30(tmp_data):\n",
    "    '''\n",
    "    必要なカラムだけ拾ってきて30分ごのデータに整形\n",
    "    '''\n",
    "    tmp_data = tmp_data[[\"datetime\", \"pr\", \"max_ws\", \"ave_ws\", \"max_tp\", \"min_tp\", \"sl\"]]\n",
    "    \n",
    "    # 欠損値を一つ前の値で置換/output_data\n",
    "    tmp_data = tmp_data.fillna(method='bfill')\n",
    "    tmp_30 = tmp_data.set_index('datetime').groupby(pd.TimeGrouper(freq='1800s', closed='left')).sum()\n",
    "\n",
    "    # datetimeのカラムを復活させる\n",
    "    tmp_30['datetime'] = tmp_30.index\n",
    "    tmp_30.index = np.arange(len(tmp_30))\n",
    "    tmp_30.head()\n",
    "    return tmp_30"
   ]
  },
  {
   "cell_type": "code",
   "execution_count": 6,
   "metadata": {
    "collapsed": true
   },
   "outputs": [],
   "source": [
    "def get_output_data(Y):\n",
    "    '''\n",
    "    全時系列データから05:30 ~ 18:30までのデータごとに分割する\n",
    "    他のipynbとは違う関数であることに注意\n",
    "    発電量がないところはそもそも予測しないことにする\n",
    "    '''\n",
    "    output_list = []\n",
    "    # 一日は48個の時間帯に分けられる\n",
    "    total_size = len(Y) // 48\n",
    "    for i in range(total_size):\n",
    "        each_data = Y[(i*48+10):(i*48+37)]\n",
    "        reshaped = each_data.reshape(27)\n",
    "        output_list.append(list(reshaped))\n",
    "    output_list = np.array(output_list)\n",
    "    return output_list"
   ]
  },
  {
   "cell_type": "code",
   "execution_count": 7,
   "metadata": {
    "collapsed": true
   },
   "outputs": [],
   "source": [
    "def process_output_data(Y):\n",
    "    '''\n",
    "    取り除いて時間を足し戻す\n",
    "    返り値は一次元配列\n",
    "    '''\n",
    "    Y = np.array(Y)\n",
    "    Y_s = []\n",
    "    for i in range(len(Y)):\n",
    "        tmp = [0,0,0,0,0,0,0,0,0,0]+list(Y[i])+[0,0,0,0,0,0,0,0,0,0,0]\n",
    "        Y_s.append(tmp)\n",
    "    Y_s = np.array(Y_s)\n",
    "    Y_s = Y_s.reshape(Y_s.shape[0] *Y_s.shape[1])\n",
    "    return Y_s"
   ]
  },
  {
   "cell_type": "code",
   "execution_count": 8,
   "metadata": {
    "collapsed": true
   },
   "outputs": [],
   "source": [
    "def normalize_array(x):\n",
    "    '''\n",
    "    min, max, min-max正規化を行なった配列(np.array)を返す\n",
    "    '''\n",
    "    x = np.array(x)\n",
    "    x_min = x.min()\n",
    "    x_max = x.max()\n",
    "    normalized = (x - x_min) / (x_max - x_min) \n",
    "    return x_min, x_max, normalized"
   ]
  },
  {
   "cell_type": "code",
   "execution_count": 9,
   "metadata": {
    "collapsed": true
   },
   "outputs": [],
   "source": [
    "def denormalize_array(normalized_x, x_min, x_max):\n",
    "    '''\n",
    "    正規化前のmin, maxを用いて元のスケールに戻す\n",
    "    '''\n",
    "    normalized_x = np.array(normalized_x)\n",
    "    denormalize_array = (normalized_x) * (x_max - x_min) + x_min\n",
    "    return denormalize_array"
   ]
  },
  {
   "cell_type": "code",
   "execution_count": 10,
   "metadata": {
    "collapsed": true
   },
   "outputs": [],
   "source": [
    "def drop_nan(X, Y):\n",
    "    '''\n",
    "    Yにnanが含まれるペアを削除(他のとこにあるdrop_nanとは別物なので注意)\n",
    "    '''\n",
    "    mask = []\n",
    "    for i in range(len(Y)):\n",
    "        if np.isnan(Y[i]).sum() == 0:\n",
    "            mask.append(True)\n",
    "        else:\n",
    "            mask.append(False)\n",
    "    X = X[mask]\n",
    "    Y = Y[mask]\n",
    "    return X, Y"
   ]
  },
  {
   "cell_type": "code",
   "execution_count": 11,
   "metadata": {
    "collapsed": true
   },
   "outputs": [],
   "source": [
    "def calc_mae(X, Y):\n",
    "    '''\n",
    "    X, Yがメモリを食いすぎるのでfor文で計算\n",
    "    '''\n",
    "    mse = 0\n",
    "    for i in range(len(X)):\n",
    "        mse += np.abs(X[i]- Y[i])\n",
    "    return mse/len(X)"
   ]
  },
  {
   "cell_type": "code",
   "execution_count": 12,
   "metadata": {
    "collapsed": true
   },
   "outputs": [],
   "source": [
    "def wv_to_sin(x):\n",
    "    '''\n",
    "    漢字になってる風向データをsinになおす\n",
    "    '''\n",
    "    if x == \"北\":\n",
    "        return -1.0\n",
    "    elif x == \"北西\":\n",
    "        return -0.5\n",
    "    elif x == \"西\":\n",
    "        return 0.0\n",
    "    elif x == \"南西\":\n",
    "        return 0.5\n",
    "    elif x == \"南\":\n",
    "        return 1.0\n",
    "    elif x == \"南東\":\n",
    "        return 0.5\n",
    "    elif x == \"東\":\n",
    "        return 0\n",
    "    else:\n",
    "        return -0.5"
   ]
  },
  {
   "cell_type": "code",
   "execution_count": 13,
   "metadata": {
    "collapsed": true
   },
   "outputs": [],
   "source": [
    "def wv_to_cos(x):\n",
    "    '''\n",
    "    漢字になってる風向データをcosになおす\n",
    "    '''\n",
    "    \n",
    "    if x == \"北\":\n",
    "        return 0.0\n",
    "    elif x == \"北西\":\n",
    "        return 0.5\n",
    "    elif x == \"西\":\n",
    "        return 1.0\n",
    "    elif x == \"南西\":\n",
    "        return 0.5\n",
    "    elif x == \"南\":\n",
    "        return 0.0\n",
    "    elif x == \"南東\":\n",
    "        return -0.5\n",
    "    elif x == \"東\":\n",
    "        return -1.0\n",
    "    else:\n",
    "        return -0.5"
   ]
  },
  {
   "cell_type": "markdown",
   "metadata": {},
   "source": [
    "### **データの準備**"
   ]
  },
  {
   "cell_type": "code",
   "execution_count": 14,
   "metadata": {
    "collapsed": true
   },
   "outputs": [],
   "source": [
    "target_place = 1"
   ]
  },
  {
   "cell_type": "code",
   "execution_count": 15,
   "metadata": {
    "collapsed": true
   },
   "outputs": [],
   "source": [
    "# 発電量データ\n",
    "output_30 = pd.read_csv('data/processed_data/out_put.tsv', delimiter = '\\t')\n",
    "output_30['datetime'] = output_30['datetime'].map(lambda x : pd.to_datetime(x))\n",
    "output_30 = output_30[['datetime', 'SOLA0'+str(target_place)]]"
   ]
  },
  {
   "cell_type": "code",
   "execution_count": 16,
   "metadata": {
    "collapsed": true
   },
   "outputs": [],
   "source": [
    "# 太陽電池の劣化に対応するためのスケーリング(必要かどうかはわからない)\n",
    "# 米倉山は欠損地が多いのでこれには適さない\n",
    "if target_place == 1 or target_place == 2:\n",
    "    output_30['year'] = output_30['datetime'].map(lambda x : x.year)\n",
    "    y_output = output_30.groupby(['year'], as_index=False).sum()\n",
    "    sum_2012 = y_output[\"SOLA0\"+str(target_place)][0]\n",
    "    sum_2013 = y_output[\"SOLA0\"+str(target_place)][1]\n",
    "    sum_2014 = y_output[\"SOLA0\"+str(target_place)][2]\n",
    "    sum_2015 = y_output[\"SOLA0\"+str(target_place)][3]\n",
    "    scaled_2012 = np.array(output_30[output_30['year'] == 2012][\"SOLA0\"+str(target_place)].map(lambda x : x * sum_2015/sum_2012))\n",
    "    scaled_2013 = np.array(output_30[output_30['year'] == 2013][\"SOLA0\"+str(target_place)].map(lambda x : x * sum_2015/sum_2013))\n",
    "    scaled_2014 = np.array(output_30[output_30['year'] == 2014][\"SOLA0\"+str(target_place)].map(lambda x : x * sum_2015/sum_2014))\n",
    "    scaled_2015 = np.array(output_30[output_30['year'] == 2015][\"SOLA0\"+str(target_place)])\n",
    "    tmp = np.r_[scaled_2012, scaled_2013, scaled_2014, scaled_2015]\n",
    "    output_30[\"SOLA0\"+str(target_place)] = tmp"
   ]
  },
  {
   "cell_type": "code",
   "execution_count": 17,
   "metadata": {
    "collapsed": true
   },
   "outputs": [],
   "source": [
    "# 天気予報のデータを実は今まで使ってなかった\n",
    "if target_place == 1 or target_place == 2:\n",
    "    fc_data = pd.read_csv('data/raw_data/forecast_kanagawa.tsv', delimiter = '\\t')\n",
    "    fc_data['date'] = fc_data['date'].map(lambda x : pd.to_datetime(x))\n",
    "elif target_place == 3:\n",
    "    fc_data = pd.read_csv('data/raw_data/forecast_yamanashi.tsv', delimiter = '\\t')\n",
    "    fc_data['date'] = fc_data['date'].map(lambda x : pd.to_datetime(x))\n",
    "else:\n",
    "    raise ValueError(\"invalid input target_place\")"
   ]
  },
  {
   "cell_type": "code",
   "execution_count": 18,
   "metadata": {
    "collapsed": true
   },
   "outputs": [],
   "source": [
    "# 各降水確率, 各時間帯の天気, 気温のみを選択\n",
    "fc_data = fc_data.drop(['weather', 'weather_detail', 'wind', 'wave'], axis=1)"
   ]
  },
  {
   "cell_type": "code",
   "execution_count": 19,
   "metadata": {
    "collapsed": true
   },
   "outputs": [],
   "source": [
    "hours = ['we_00-03', 'we_03-06', 'we_06-09', 'we_09-12', 'we_12-15', 'we_15-18', 'we_18-21', 'we_21-24']\n",
    "for hour in hours:\n",
    "    dummy_df = pd.get_dummies(fc_data[[hour]])\n",
    "    fc_data = pd.concat([fc_data, dummy_df], axis=1, join='inner')\n",
    "    fc_data= fc_data.drop([hour], axis=1)"
   ]
  },
  {
   "cell_type": "code",
   "execution_count": 20,
   "metadata": {
    "collapsed": true
   },
   "outputs": [],
   "source": [
    "hours = ['wv_00-03', 'wv_03-06', 'wv_06-09', 'wv_09-12', 'wv_12-15', 'wv_15-18', 'wv_18-21', 'wv_21-24']\n",
    "for hour in hours:\n",
    "    fc_data[hour+'_cos'] = fc_data[hour].map(lambda x:wv_to_cos(x))\n",
    "    fc_data[hour+'_sin'] = fc_data[hour].map(lambda x:wv_to_sin(x))\n",
    "    fc_data= fc_data.drop([hour], axis=1)"
   ]
  },
  {
   "cell_type": "code",
   "execution_count": 21,
   "metadata": {
    "collapsed": true
   },
   "outputs": [],
   "source": [
    "fc_with_date = add_month_date(fc_data, key=\"date\")"
   ]
  },
  {
   "cell_type": "code",
   "execution_count": 22,
   "metadata": {},
   "outputs": [
    {
     "data": {
      "text/html": [
       "<div>\n",
       "<style>\n",
       "    .dataframe thead tr:only-child th {\n",
       "        text-align: right;\n",
       "    }\n",
       "\n",
       "    .dataframe thead th {\n",
       "        text-align: left;\n",
       "    }\n",
       "\n",
       "    .dataframe tbody tr th {\n",
       "        vertical-align: top;\n",
       "    }\n",
       "</style>\n",
       "<table border=\"1\" class=\"dataframe\">\n",
       "  <thead>\n",
       "    <tr style=\"text-align: right;\">\n",
       "      <th></th>\n",
       "      <th>date</th>\n",
       "      <th>pc_00-06</th>\n",
       "      <th>pc_06-12</th>\n",
       "      <th>pc_12-18</th>\n",
       "      <th>pc_18-24</th>\n",
       "      <th>wc_00-03</th>\n",
       "      <th>wc_03-06</th>\n",
       "      <th>wc_06-09</th>\n",
       "      <th>wc_09-12</th>\n",
       "      <th>wc_12-15</th>\n",
       "      <th>...</th>\n",
       "      <th>wv_12-15_cos</th>\n",
       "      <th>wv_12-15_sin</th>\n",
       "      <th>wv_15-18_cos</th>\n",
       "      <th>wv_15-18_sin</th>\n",
       "      <th>wv_18-21_cos</th>\n",
       "      <th>wv_18-21_sin</th>\n",
       "      <th>wv_21-24_cos</th>\n",
       "      <th>wv_21-24_sin</th>\n",
       "      <th>month_cos</th>\n",
       "      <th>month_sin</th>\n",
       "    </tr>\n",
       "  </thead>\n",
       "  <tbody>\n",
       "    <tr>\n",
       "      <th>0</th>\n",
       "      <td>2012-01-01</td>\n",
       "      <td>30</td>\n",
       "      <td>30</td>\n",
       "      <td>10</td>\n",
       "      <td>30</td>\n",
       "      <td>2</td>\n",
       "      <td>2</td>\n",
       "      <td>2</td>\n",
       "      <td>2</td>\n",
       "      <td>3</td>\n",
       "      <td>...</td>\n",
       "      <td>0.5</td>\n",
       "      <td>0.5</td>\n",
       "      <td>0.5</td>\n",
       "      <td>0.5</td>\n",
       "      <td>0.5</td>\n",
       "      <td>0.5</td>\n",
       "      <td>1.0</td>\n",
       "      <td>0.0</td>\n",
       "      <td>0.965926</td>\n",
       "      <td>0.258819</td>\n",
       "    </tr>\n",
       "    <tr>\n",
       "      <th>1</th>\n",
       "      <td>2012-01-02</td>\n",
       "      <td>20</td>\n",
       "      <td>20</td>\n",
       "      <td>10</td>\n",
       "      <td>10</td>\n",
       "      <td>2</td>\n",
       "      <td>2</td>\n",
       "      <td>3</td>\n",
       "      <td>4</td>\n",
       "      <td>4</td>\n",
       "      <td>...</td>\n",
       "      <td>0.0</td>\n",
       "      <td>-1.0</td>\n",
       "      <td>0.0</td>\n",
       "      <td>-1.0</td>\n",
       "      <td>0.0</td>\n",
       "      <td>-1.0</td>\n",
       "      <td>0.0</td>\n",
       "      <td>-1.0</td>\n",
       "      <td>0.965926</td>\n",
       "      <td>0.258819</td>\n",
       "    </tr>\n",
       "    <tr>\n",
       "      <th>2</th>\n",
       "      <td>2012-01-03</td>\n",
       "      <td>0</td>\n",
       "      <td>0</td>\n",
       "      <td>10</td>\n",
       "      <td>10</td>\n",
       "      <td>4</td>\n",
       "      <td>4</td>\n",
       "      <td>4</td>\n",
       "      <td>2</td>\n",
       "      <td>1</td>\n",
       "      <td>...</td>\n",
       "      <td>-1.0</td>\n",
       "      <td>0.0</td>\n",
       "      <td>-0.5</td>\n",
       "      <td>-0.5</td>\n",
       "      <td>-0.5</td>\n",
       "      <td>-0.5</td>\n",
       "      <td>0.0</td>\n",
       "      <td>-1.0</td>\n",
       "      <td>0.965926</td>\n",
       "      <td>0.258819</td>\n",
       "    </tr>\n",
       "    <tr>\n",
       "      <th>3</th>\n",
       "      <td>2012-01-04</td>\n",
       "      <td>10</td>\n",
       "      <td>10</td>\n",
       "      <td>30</td>\n",
       "      <td>20</td>\n",
       "      <td>2</td>\n",
       "      <td>1</td>\n",
       "      <td>2</td>\n",
       "      <td>2</td>\n",
       "      <td>2</td>\n",
       "      <td>...</td>\n",
       "      <td>1.0</td>\n",
       "      <td>0.0</td>\n",
       "      <td>0.0</td>\n",
       "      <td>-1.0</td>\n",
       "      <td>0.0</td>\n",
       "      <td>-1.0</td>\n",
       "      <td>0.0</td>\n",
       "      <td>-1.0</td>\n",
       "      <td>0.965926</td>\n",
       "      <td>0.258819</td>\n",
       "    </tr>\n",
       "    <tr>\n",
       "      <th>4</th>\n",
       "      <td>2012-01-05</td>\n",
       "      <td>10</td>\n",
       "      <td>0</td>\n",
       "      <td>0</td>\n",
       "      <td>0</td>\n",
       "      <td>4</td>\n",
       "      <td>4</td>\n",
       "      <td>2</td>\n",
       "      <td>2</td>\n",
       "      <td>2</td>\n",
       "      <td>...</td>\n",
       "      <td>0.5</td>\n",
       "      <td>-0.5</td>\n",
       "      <td>0.5</td>\n",
       "      <td>-0.5</td>\n",
       "      <td>0.0</td>\n",
       "      <td>-1.0</td>\n",
       "      <td>0.0</td>\n",
       "      <td>-1.0</td>\n",
       "      <td>0.965926</td>\n",
       "      <td>0.258819</td>\n",
       "    </tr>\n",
       "  </tbody>\n",
       "</table>\n",
       "<p>5 rows × 73 columns</p>\n",
       "</div>"
      ],
      "text/plain": [
       "        date  pc_00-06  pc_06-12  pc_12-18  pc_18-24  wc_00-03  wc_03-06  \\\n",
       "0 2012-01-01        30        30        10        30         2         2   \n",
       "1 2012-01-02        20        20        10        10         2         2   \n",
       "2 2012-01-03         0         0        10        10         4         4   \n",
       "3 2012-01-04        10        10        30        20         2         1   \n",
       "4 2012-01-05        10         0         0         0         4         4   \n",
       "\n",
       "   wc_06-09  wc_09-12  wc_12-15    ...      wv_12-15_cos  wv_12-15_sin  \\\n",
       "0         2         2         3    ...               0.5           0.5   \n",
       "1         3         4         4    ...               0.0          -1.0   \n",
       "2         4         2         1    ...              -1.0           0.0   \n",
       "3         2         2         2    ...               1.0           0.0   \n",
       "4         2         2         2    ...               0.5          -0.5   \n",
       "\n",
       "   wv_15-18_cos  wv_15-18_sin  wv_18-21_cos  wv_18-21_sin  wv_21-24_cos  \\\n",
       "0           0.5           0.5           0.5           0.5           1.0   \n",
       "1           0.0          -1.0           0.0          -1.0           0.0   \n",
       "2          -0.5          -0.5          -0.5          -0.5           0.0   \n",
       "3           0.0          -1.0           0.0          -1.0           0.0   \n",
       "4           0.5          -0.5           0.0          -1.0           0.0   \n",
       "\n",
       "   wv_21-24_sin  month_cos  month_sin  \n",
       "0           0.0   0.965926   0.258819  \n",
       "1          -1.0   0.965926   0.258819  \n",
       "2          -1.0   0.965926   0.258819  \n",
       "3          -1.0   0.965926   0.258819  \n",
       "4          -1.0   0.965926   0.258819  \n",
       "\n",
       "[5 rows x 73 columns]"
      ]
     },
     "execution_count": 22,
     "metadata": {},
     "output_type": "execute_result"
    }
   ],
   "source": [
    "fc_with_date.head()"
   ]
  },
  {
   "cell_type": "code",
   "execution_count": 23,
   "metadata": {
    "collapsed": true
   },
   "outputs": [],
   "source": [
    "# モデル構築のためにデータを分割する\n",
    "\n",
    "# 学習に必要なデータ\n",
    "# 前日の気象予報のデータで翌日の0:00 ~ 23:30を予測する\n",
    "train_x_s_idx = fc_data[fc_data['date'] == pd.to_datetime('2012-01-01')].index[0]\n",
    "train_x_e_idx = fc_data[fc_data['date'] == pd.to_datetime('2015-12-31')].index[0]\n",
    "train_y_s_idx = output_30[output_30['datetime'] == pd.to_datetime('2012-01-01 00:00')].index[0]\n",
    "train_y_e_idx = output_30[output_30['datetime'] == pd.to_datetime('2015-12-31 23:30')].index[0]\n",
    "\n",
    "output_kwh = output_30[\"SOLA0\"+str(target_place)][train_y_s_idx:train_y_e_idx+1]\n",
    "input_data = fc_data.drop([\"date\"], axis=1)[train_x_s_idx:train_x_e_idx+1]\n",
    "\n",
    "# 予測に必要なデータ\n",
    "# 前日の00:00 ~ 20:00のデータで翌日の0:00 ~ 23:30を予測する\n",
    "test_x_s_idx = fc_data[fc_data[\"date\"] == pd.to_datetime('2016-01-01')].index[0]\n",
    "test_x_e_idx = fc_data[fc_data[\"date\"] == pd.to_datetime('2017-3-31')].index[0]\n",
    "\n",
    "test_input_data = fc_data.drop([\"date\"], axis=1)[test_x_s_idx:test_x_e_idx+1]"
   ]
  },
  {
   "cell_type": "code",
   "execution_count": 24,
   "metadata": {
    "collapsed": true
   },
   "outputs": [],
   "source": [
    "# MLPに突っ込むための準備をする\n",
    "\n",
    "# min-max正規化しておく\n",
    "normalized_input = (input_data - input_data.min()) / (input_data.max() - input_data.min())\n",
    "normalized_input = np.array(normalized_input)\n",
    "normalized_kwh = (output_kwh - output_kwh.min()) /(output_kwh.max() - output_kwh.min())\n",
    "normalized_kwh = np.array(normalized_kwh)\n",
    "\n",
    "# input_dataに関しては正規化すればそのまま使える\n",
    "input_list = normalized_input\n",
    "kwh_list = get_output_data(normalized_kwh)\n",
    "\n",
    "# outputがnanであれば取り除く\n",
    "filtered_input_list, filtered_kwh_list = drop_nan(input_list, kwh_list)\n",
    "\n",
    "# testデータの入力を用意\n",
    "normalized_test_input = (test_input_data - input_data.min()) / (input_data.max() - input_data.min())\n",
    "normalized_test_input = np.array(normalized_test_input)\n",
    "\n",
    "test_input_list = normalized_test_input\n",
    "\n",
    "# denormalize用\n",
    "kwh_max = float(output_kwh.max())\n",
    "kwh_min = float(output_kwh.min())\n",
    "\n",
    "# MLPに突っ込むためにデータを整形\n",
    "X = np.array(filtered_input_list).reshape(filtered_input_list.shape[0], filtered_input_list.shape[1])\n",
    "all_X = np.array(input_list).reshape(input_list.shape[0], input_list.shape[1])\n",
    "KWH = np.array(filtered_kwh_list).reshape(filtered_kwh_list.shape[0],filtered_kwh_list.shape[1])\n",
    "X_predict = np.array(test_input_list).reshape(test_input_list.shape[0], test_input_list.shape[1])"
   ]
  },
  {
   "cell_type": "markdown",
   "metadata": {},
   "source": [
    "### **モデルの構築**"
   ]
  },
  {
   "cell_type": "markdown",
   "metadata": {},
   "source": [
    "条件:翌日の気温を予測するには前日の20:00までの気象情報しか使えない\n",
    "\n",
    "モデル:翌日の気象予報だけのデータで翌日の発電量を予測する\n",
    "\n",
    "入力:対象日の気象予報のデータ\n",
    "\n",
    "出力:0:00, 0:30, .... , 23:00, 23:30の気温の配列"
   ]
  },
  {
   "cell_type": "code",
   "execution_count": 42,
   "metadata": {
    "collapsed": true
   },
   "outputs": [],
   "source": [
    "X_train, X_val, Y_train, Y_val = train_test_split(X, KWH, test_size=0.33)"
   ]
  },
  {
   "cell_type": "code",
   "execution_count": 57,
   "metadata": {
    "collapsed": true
   },
   "outputs": [],
   "source": [
    "from new_MLP import MLP"
   ]
  },
  {
   "cell_type": "code",
   "execution_count": 58,
   "metadata": {},
   "outputs": [
    {
     "name": "stdout",
     "output_type": "stream",
     "text": [
      "directory already exists\n",
      "test\n"
     ]
    }
   ],
   "source": [
    "epochs = 2000\n",
    "hidden_1 = 50\n",
    "hidden_2 = 50\n",
    "activation = \"tanh\"\n",
    "model_name = \"test\"\n",
    "try:\n",
    "    os.mkdir('./data/model/'+model_name)\n",
    "    print(\"make save directory\")\n",
    "except :\n",
    "    print(\"directory already exists\")\n",
    "\n",
    "print(model_name)"
   ]
  },
  {
   "cell_type": "code",
   "execution_count": 59,
   "metadata": {},
   "outputs": [],
   "source": [
    "mlp_model = two_layer(X_train, Y_train, X_val, Y_val, epochs = epochs, hidden_1 = hidden_1, hidden_2 = hidden_2, batch_size = 100, model_name = model_name, activation = activation)"
   ]
  },
  {
   "cell_type": "code",
   "execution_count": 60,
   "metadata": {},
   "outputs": [
    {
     "name": "stdout",
     "output_type": "stream",
     "text": [
      "train#0, validation loss: 5.157652e-01\n"
     ]
    },
    {
     "ename": "KeyboardInterrupt",
     "evalue": "",
     "output_type": "error",
     "traceback": [
      "\u001b[0;31m---------------------------------------------------------------------------\u001b[0m",
      "\u001b[0;31mKeyboardInterrupt\u001b[0m                         Traceback (most recent call last)",
      "\u001b[0;32m<ipython-input-60-63f4cbd225fd>\u001b[0m in \u001b[0;36m<module>\u001b[0;34m()\u001b[0m\n\u001b[0;32m----> 1\u001b[0;31m \u001b[0mmlp_model\u001b[0m\u001b[0;34m.\u001b[0m\u001b[0mtrain\u001b[0m\u001b[0;34m(\u001b[0m\u001b[0;34m)\u001b[0m\u001b[0;34m\u001b[0m\u001b[0m\n\u001b[0m",
      "\u001b[0;32m~/Documents/final/predict_amd/two_layer.py\u001b[0m in \u001b[0;36mtrain\u001b[0;34m(self)\u001b[0m\n\u001b[1;32m    147\u001b[0m \u001b[0;34m\u001b[0m\u001b[0m\n\u001b[1;32m    148\u001b[0m                     \u001b[0mdatas\u001b[0m \u001b[0;34m=\u001b[0m \u001b[0msess\u001b[0m\u001b[0;34m.\u001b[0m\u001b[0mrun\u001b[0m\u001b[0;34m(\u001b[0m\u001b[0mweights\u001b[0m\u001b[0;34m)\u001b[0m\u001b[0;34m\u001b[0m\u001b[0m\n\u001b[0;32m--> 149\u001b[0;31m                     \u001b[0msaver\u001b[0m\u001b[0;34m.\u001b[0m\u001b[0msave\u001b[0m\u001b[0;34m(\u001b[0m\u001b[0msess\u001b[0m\u001b[0;34m,\u001b[0m  \u001b[0;34m\"./data/model/\"\u001b[0m \u001b[0;34m+\u001b[0m \u001b[0mstr\u001b[0m\u001b[0;34m(\u001b[0m\u001b[0mself\u001b[0m\u001b[0;34m.\u001b[0m\u001b[0mmodel_name\u001b[0m\u001b[0;34m)\u001b[0m \u001b[0;34m+\u001b[0m \u001b[0;34m\"/\"\u001b[0m \u001b[0;34m+\u001b[0m \u001b[0mstr\u001b[0m\u001b[0;34m(\u001b[0m\u001b[0mself\u001b[0m\u001b[0;34m.\u001b[0m\u001b[0mmodel_name\u001b[0m\u001b[0;34m)\u001b[0m \u001b[0;34m+\u001b[0m \u001b[0;34m\".ckpt\"\u001b[0m\u001b[0;34m)\u001b[0m\u001b[0;34m\u001b[0m\u001b[0m\n\u001b[0m\u001b[1;32m    150\u001b[0m \u001b[0;34m\u001b[0m\u001b[0m\n\u001b[1;32m    151\u001b[0m                 \u001b[0;31m# datas = sess.run(weights)\u001b[0m\u001b[0;34m\u001b[0m\u001b[0;34m\u001b[0m\u001b[0m\n",
      "\u001b[0;32m~/anaconda/envs/tf/lib/python3.5/site-packages/tensorflow/python/training/saver.py\u001b[0m in \u001b[0;36msave\u001b[0;34m(self, sess, save_path, global_step, latest_filename, meta_graph_suffix, write_meta_graph, write_state)\u001b[0m\n\u001b[1;32m   1384\u001b[0m           checkpoint_file, meta_graph_suffix=meta_graph_suffix)\n\u001b[1;32m   1385\u001b[0m       \u001b[0;32mwith\u001b[0m \u001b[0msess\u001b[0m\u001b[0;34m.\u001b[0m\u001b[0mgraph\u001b[0m\u001b[0;34m.\u001b[0m\u001b[0mas_default\u001b[0m\u001b[0;34m(\u001b[0m\u001b[0;34m)\u001b[0m\u001b[0;34m:\u001b[0m\u001b[0;34m\u001b[0m\u001b[0m\n\u001b[0;32m-> 1386\u001b[0;31m         \u001b[0mself\u001b[0m\u001b[0;34m.\u001b[0m\u001b[0mexport_meta_graph\u001b[0m\u001b[0;34m(\u001b[0m\u001b[0mmeta_graph_filename\u001b[0m\u001b[0;34m)\u001b[0m\u001b[0;34m\u001b[0m\u001b[0m\n\u001b[0m\u001b[1;32m   1387\u001b[0m \u001b[0;34m\u001b[0m\u001b[0m\n\u001b[1;32m   1388\u001b[0m     \u001b[0;32mif\u001b[0m \u001b[0mself\u001b[0m\u001b[0;34m.\u001b[0m\u001b[0m_is_empty\u001b[0m\u001b[0;34m:\u001b[0m\u001b[0;34m\u001b[0m\u001b[0m\n",
      "\u001b[0;32m~/anaconda/envs/tf/lib/python3.5/site-packages/tensorflow/python/training/saver.py\u001b[0m in \u001b[0;36mexport_meta_graph\u001b[0;34m(self, filename, collection_list, as_text, export_scope, clear_devices)\u001b[0m\n\u001b[1;32m   1417\u001b[0m         \u001b[0mas_text\u001b[0m\u001b[0;34m=\u001b[0m\u001b[0mas_text\u001b[0m\u001b[0;34m,\u001b[0m\u001b[0;34m\u001b[0m\u001b[0m\n\u001b[1;32m   1418\u001b[0m         \u001b[0mexport_scope\u001b[0m\u001b[0;34m=\u001b[0m\u001b[0mexport_scope\u001b[0m\u001b[0;34m,\u001b[0m\u001b[0;34m\u001b[0m\u001b[0m\n\u001b[0;32m-> 1419\u001b[0;31m         clear_devices=clear_devices)\n\u001b[0m\u001b[1;32m   1420\u001b[0m \u001b[0;34m\u001b[0m\u001b[0m\n\u001b[1;32m   1421\u001b[0m   \u001b[0;32mdef\u001b[0m \u001b[0mrestore\u001b[0m\u001b[0;34m(\u001b[0m\u001b[0mself\u001b[0m\u001b[0;34m,\u001b[0m \u001b[0msess\u001b[0m\u001b[0;34m,\u001b[0m \u001b[0msave_path\u001b[0m\u001b[0;34m)\u001b[0m\u001b[0;34m:\u001b[0m\u001b[0;34m\u001b[0m\u001b[0m\n",
      "\u001b[0;32m~/anaconda/envs/tf/lib/python3.5/site-packages/tensorflow/python/training/saver.py\u001b[0m in \u001b[0;36mexport_meta_graph\u001b[0;34m(filename, meta_info_def, graph_def, saver_def, collection_list, as_text, graph, export_scope, clear_devices, **kwargs)\u001b[0m\n\u001b[1;32m   1639\u001b[0m       \u001b[0mexport_scope\u001b[0m\u001b[0;34m=\u001b[0m\u001b[0mexport_scope\u001b[0m\u001b[0;34m,\u001b[0m\u001b[0;34m\u001b[0m\u001b[0m\n\u001b[1;32m   1640\u001b[0m       \u001b[0mclear_devices\u001b[0m\u001b[0;34m=\u001b[0m\u001b[0mclear_devices\u001b[0m\u001b[0;34m,\u001b[0m\u001b[0;34m\u001b[0m\u001b[0m\n\u001b[0;32m-> 1641\u001b[0;31m       **kwargs)\n\u001b[0m\u001b[1;32m   1642\u001b[0m   \u001b[0;32mreturn\u001b[0m \u001b[0mmeta_graph_def\u001b[0m\u001b[0;34m\u001b[0m\u001b[0m\n\u001b[1;32m   1643\u001b[0m \u001b[0;34m\u001b[0m\u001b[0m\n",
      "\u001b[0;32m~/anaconda/envs/tf/lib/python3.5/site-packages/tensorflow/python/framework/meta_graph.py\u001b[0m in \u001b[0;36mexport_scoped_meta_graph\u001b[0;34m(filename, graph_def, graph, export_scope, as_text, unbound_inputs_col_name, clear_devices, **kwargs)\u001b[0m\n\u001b[1;32m    645\u001b[0m         \u001b[0mos\u001b[0m\u001b[0;34m.\u001b[0m\u001b[0mpath\u001b[0m\u001b[0;34m.\u001b[0m\u001b[0mdirname\u001b[0m\u001b[0;34m(\u001b[0m\u001b[0mfilename\u001b[0m\u001b[0;34m)\u001b[0m\u001b[0;34m,\u001b[0m\u001b[0;34m\u001b[0m\u001b[0m\n\u001b[1;32m    646\u001b[0m         \u001b[0mos\u001b[0m\u001b[0;34m.\u001b[0m\u001b[0mpath\u001b[0m\u001b[0;34m.\u001b[0m\u001b[0mbasename\u001b[0m\u001b[0;34m(\u001b[0m\u001b[0mfilename\u001b[0m\u001b[0;34m)\u001b[0m\u001b[0;34m,\u001b[0m\u001b[0;34m\u001b[0m\u001b[0m\n\u001b[0;32m--> 647\u001b[0;31m         as_text=as_text)\n\u001b[0m\u001b[1;32m    648\u001b[0m \u001b[0;34m\u001b[0m\u001b[0m\n\u001b[1;32m    649\u001b[0m   \u001b[0;32mreturn\u001b[0m \u001b[0mscoped_meta_graph_def\u001b[0m\u001b[0;34m,\u001b[0m \u001b[0mvar_list\u001b[0m\u001b[0;34m\u001b[0m\u001b[0m\n",
      "\u001b[0;32m~/anaconda/envs/tf/lib/python3.5/site-packages/tensorflow/python/framework/graph_io.py\u001b[0m in \u001b[0;36mwrite_graph\u001b[0;34m(graph_or_graph_def, logdir, name, as_text)\u001b[0m\n\u001b[1;32m     67\u001b[0m     \u001b[0mfile_io\u001b[0m\u001b[0;34m.\u001b[0m\u001b[0matomic_write_string_to_file\u001b[0m\u001b[0;34m(\u001b[0m\u001b[0mpath\u001b[0m\u001b[0;34m,\u001b[0m \u001b[0mstr\u001b[0m\u001b[0;34m(\u001b[0m\u001b[0mgraph_def\u001b[0m\u001b[0;34m)\u001b[0m\u001b[0;34m)\u001b[0m\u001b[0;34m\u001b[0m\u001b[0m\n\u001b[1;32m     68\u001b[0m   \u001b[0;32melse\u001b[0m\u001b[0;34m:\u001b[0m\u001b[0;34m\u001b[0m\u001b[0m\n\u001b[0;32m---> 69\u001b[0;31m     \u001b[0mfile_io\u001b[0m\u001b[0;34m.\u001b[0m\u001b[0matomic_write_string_to_file\u001b[0m\u001b[0;34m(\u001b[0m\u001b[0mpath\u001b[0m\u001b[0;34m,\u001b[0m \u001b[0mgraph_def\u001b[0m\u001b[0;34m.\u001b[0m\u001b[0mSerializeToString\u001b[0m\u001b[0;34m(\u001b[0m\u001b[0;34m)\u001b[0m\u001b[0;34m)\u001b[0m\u001b[0;34m\u001b[0m\u001b[0m\n\u001b[0m\u001b[1;32m     70\u001b[0m   \u001b[0;32mreturn\u001b[0m \u001b[0mpath\u001b[0m\u001b[0;34m\u001b[0m\u001b[0m\n",
      "\u001b[0;32m~/anaconda/envs/tf/lib/python3.5/site-packages/google/protobuf/internal/python_message.py\u001b[0m in \u001b[0;36mSerializeToString\u001b[0;34m(self)\u001b[0m\n\u001b[1;32m   1034\u001b[0m           'Message %s is missing required fields: %s' % (\n\u001b[1;32m   1035\u001b[0m           self.DESCRIPTOR.full_name, ','.join(self.FindInitializationErrors())))\n\u001b[0;32m-> 1036\u001b[0;31m     \u001b[0;32mreturn\u001b[0m \u001b[0mself\u001b[0m\u001b[0;34m.\u001b[0m\u001b[0mSerializePartialToString\u001b[0m\u001b[0;34m(\u001b[0m\u001b[0;34m)\u001b[0m\u001b[0;34m\u001b[0m\u001b[0m\n\u001b[0m\u001b[1;32m   1037\u001b[0m   \u001b[0mcls\u001b[0m\u001b[0;34m.\u001b[0m\u001b[0mSerializeToString\u001b[0m \u001b[0;34m=\u001b[0m \u001b[0mSerializeToString\u001b[0m\u001b[0;34m\u001b[0m\u001b[0m\n\u001b[1;32m   1038\u001b[0m \u001b[0;34m\u001b[0m\u001b[0m\n",
      "\u001b[0;32m~/anaconda/envs/tf/lib/python3.5/site-packages/google/protobuf/internal/python_message.py\u001b[0m in \u001b[0;36mSerializePartialToString\u001b[0;34m(self)\u001b[0m\n\u001b[1;32m   1043\u001b[0m   \u001b[0;32mdef\u001b[0m \u001b[0mSerializePartialToString\u001b[0m\u001b[0;34m(\u001b[0m\u001b[0mself\u001b[0m\u001b[0;34m)\u001b[0m\u001b[0;34m:\u001b[0m\u001b[0;34m\u001b[0m\u001b[0m\n\u001b[1;32m   1044\u001b[0m     \u001b[0mout\u001b[0m \u001b[0;34m=\u001b[0m \u001b[0mBytesIO\u001b[0m\u001b[0;34m(\u001b[0m\u001b[0;34m)\u001b[0m\u001b[0;34m\u001b[0m\u001b[0m\n\u001b[0;32m-> 1045\u001b[0;31m     \u001b[0mself\u001b[0m\u001b[0;34m.\u001b[0m\u001b[0m_InternalSerialize\u001b[0m\u001b[0;34m(\u001b[0m\u001b[0mout\u001b[0m\u001b[0;34m.\u001b[0m\u001b[0mwrite\u001b[0m\u001b[0;34m)\u001b[0m\u001b[0;34m\u001b[0m\u001b[0m\n\u001b[0m\u001b[1;32m   1046\u001b[0m     \u001b[0;32mreturn\u001b[0m \u001b[0mout\u001b[0m\u001b[0;34m.\u001b[0m\u001b[0mgetvalue\u001b[0m\u001b[0;34m(\u001b[0m\u001b[0;34m)\u001b[0m\u001b[0;34m\u001b[0m\u001b[0m\n\u001b[1;32m   1047\u001b[0m   \u001b[0mcls\u001b[0m\u001b[0;34m.\u001b[0m\u001b[0mSerializePartialToString\u001b[0m \u001b[0;34m=\u001b[0m \u001b[0mSerializePartialToString\u001b[0m\u001b[0;34m\u001b[0m\u001b[0m\n",
      "\u001b[0;32m~/anaconda/envs/tf/lib/python3.5/site-packages/google/protobuf/internal/python_message.py\u001b[0m in \u001b[0;36mInternalSerialize\u001b[0;34m(self, write_bytes)\u001b[0m\n\u001b[1;32m   1049\u001b[0m   \u001b[0;32mdef\u001b[0m \u001b[0mInternalSerialize\u001b[0m\u001b[0;34m(\u001b[0m\u001b[0mself\u001b[0m\u001b[0;34m,\u001b[0m \u001b[0mwrite_bytes\u001b[0m\u001b[0;34m)\u001b[0m\u001b[0;34m:\u001b[0m\u001b[0;34m\u001b[0m\u001b[0m\n\u001b[1;32m   1050\u001b[0m     \u001b[0;32mfor\u001b[0m \u001b[0mfield_descriptor\u001b[0m\u001b[0;34m,\u001b[0m \u001b[0mfield_value\u001b[0m \u001b[0;32min\u001b[0m \u001b[0mself\u001b[0m\u001b[0;34m.\u001b[0m\u001b[0mListFields\u001b[0m\u001b[0;34m(\u001b[0m\u001b[0;34m)\u001b[0m\u001b[0;34m:\u001b[0m\u001b[0;34m\u001b[0m\u001b[0m\n\u001b[0;32m-> 1051\u001b[0;31m       \u001b[0mfield_descriptor\u001b[0m\u001b[0;34m.\u001b[0m\u001b[0m_encoder\u001b[0m\u001b[0;34m(\u001b[0m\u001b[0mwrite_bytes\u001b[0m\u001b[0;34m,\u001b[0m \u001b[0mfield_value\u001b[0m\u001b[0;34m)\u001b[0m\u001b[0;34m\u001b[0m\u001b[0m\n\u001b[0m\u001b[1;32m   1052\u001b[0m     \u001b[0;32mfor\u001b[0m \u001b[0mtag_bytes\u001b[0m\u001b[0;34m,\u001b[0m \u001b[0mvalue_bytes\u001b[0m \u001b[0;32min\u001b[0m \u001b[0mself\u001b[0m\u001b[0;34m.\u001b[0m\u001b[0m_unknown_fields\u001b[0m\u001b[0;34m:\u001b[0m\u001b[0;34m\u001b[0m\u001b[0m\n\u001b[1;32m   1053\u001b[0m       \u001b[0mwrite_bytes\u001b[0m\u001b[0;34m(\u001b[0m\u001b[0mtag_bytes\u001b[0m\u001b[0;34m)\u001b[0m\u001b[0;34m\u001b[0m\u001b[0m\n",
      "\u001b[0;32m~/anaconda/envs/tf/lib/python3.5/site-packages/google/protobuf/internal/encoder.py\u001b[0m in \u001b[0;36mEncodeField\u001b[0;34m(write, value)\u001b[0m\n\u001b[1;32m    764\u001b[0m       \u001b[0mwrite\u001b[0m\u001b[0;34m(\u001b[0m\u001b[0mtag\u001b[0m\u001b[0;34m)\u001b[0m\u001b[0;34m\u001b[0m\u001b[0m\n\u001b[1;32m    765\u001b[0m       \u001b[0mlocal_EncodeVarint\u001b[0m\u001b[0;34m(\u001b[0m\u001b[0mwrite\u001b[0m\u001b[0;34m,\u001b[0m \u001b[0mvalue\u001b[0m\u001b[0;34m.\u001b[0m\u001b[0mByteSize\u001b[0m\u001b[0;34m(\u001b[0m\u001b[0;34m)\u001b[0m\u001b[0;34m)\u001b[0m\u001b[0;34m\u001b[0m\u001b[0m\n\u001b[0;32m--> 766\u001b[0;31m       \u001b[0;32mreturn\u001b[0m \u001b[0mvalue\u001b[0m\u001b[0;34m.\u001b[0m\u001b[0m_InternalSerialize\u001b[0m\u001b[0;34m(\u001b[0m\u001b[0mwrite\u001b[0m\u001b[0;34m)\u001b[0m\u001b[0;34m\u001b[0m\u001b[0m\n\u001b[0m\u001b[1;32m    767\u001b[0m     \u001b[0;32mreturn\u001b[0m \u001b[0mEncodeField\u001b[0m\u001b[0;34m\u001b[0m\u001b[0m\n\u001b[1;32m    768\u001b[0m \u001b[0;34m\u001b[0m\u001b[0m\n",
      "\u001b[0;32m~/anaconda/envs/tf/lib/python3.5/site-packages/google/protobuf/internal/python_message.py\u001b[0m in \u001b[0;36mInternalSerialize\u001b[0;34m(self, write_bytes)\u001b[0m\n\u001b[1;32m   1049\u001b[0m   \u001b[0;32mdef\u001b[0m \u001b[0mInternalSerialize\u001b[0m\u001b[0;34m(\u001b[0m\u001b[0mself\u001b[0m\u001b[0;34m,\u001b[0m \u001b[0mwrite_bytes\u001b[0m\u001b[0;34m)\u001b[0m\u001b[0;34m:\u001b[0m\u001b[0;34m\u001b[0m\u001b[0m\n\u001b[1;32m   1050\u001b[0m     \u001b[0;32mfor\u001b[0m \u001b[0mfield_descriptor\u001b[0m\u001b[0;34m,\u001b[0m \u001b[0mfield_value\u001b[0m \u001b[0;32min\u001b[0m \u001b[0mself\u001b[0m\u001b[0;34m.\u001b[0m\u001b[0mListFields\u001b[0m\u001b[0;34m(\u001b[0m\u001b[0;34m)\u001b[0m\u001b[0;34m:\u001b[0m\u001b[0;34m\u001b[0m\u001b[0m\n\u001b[0;32m-> 1051\u001b[0;31m       \u001b[0mfield_descriptor\u001b[0m\u001b[0;34m.\u001b[0m\u001b[0m_encoder\u001b[0m\u001b[0;34m(\u001b[0m\u001b[0mwrite_bytes\u001b[0m\u001b[0;34m,\u001b[0m \u001b[0mfield_value\u001b[0m\u001b[0;34m)\u001b[0m\u001b[0;34m\u001b[0m\u001b[0m\n\u001b[0m\u001b[1;32m   1052\u001b[0m     \u001b[0;32mfor\u001b[0m \u001b[0mtag_bytes\u001b[0m\u001b[0;34m,\u001b[0m \u001b[0mvalue_bytes\u001b[0m \u001b[0;32min\u001b[0m \u001b[0mself\u001b[0m\u001b[0;34m.\u001b[0m\u001b[0m_unknown_fields\u001b[0m\u001b[0;34m:\u001b[0m\u001b[0;34m\u001b[0m\u001b[0m\n\u001b[1;32m   1053\u001b[0m       \u001b[0mwrite_bytes\u001b[0m\u001b[0;34m(\u001b[0m\u001b[0mtag_bytes\u001b[0m\u001b[0;34m)\u001b[0m\u001b[0;34m\u001b[0m\u001b[0m\n",
      "\u001b[0;32m~/anaconda/envs/tf/lib/python3.5/site-packages/google/protobuf/internal/encoder.py\u001b[0m in \u001b[0;36mEncodeRepeatedField\u001b[0;34m(write, value)\u001b[0m\n\u001b[1;32m    758\u001b[0m         \u001b[0mwrite\u001b[0m\u001b[0;34m(\u001b[0m\u001b[0mtag\u001b[0m\u001b[0;34m)\u001b[0m\u001b[0;34m\u001b[0m\u001b[0m\n\u001b[1;32m    759\u001b[0m         \u001b[0mlocal_EncodeVarint\u001b[0m\u001b[0;34m(\u001b[0m\u001b[0mwrite\u001b[0m\u001b[0;34m,\u001b[0m \u001b[0melement\u001b[0m\u001b[0;34m.\u001b[0m\u001b[0mByteSize\u001b[0m\u001b[0;34m(\u001b[0m\u001b[0;34m)\u001b[0m\u001b[0;34m)\u001b[0m\u001b[0;34m\u001b[0m\u001b[0m\n\u001b[0;32m--> 760\u001b[0;31m         \u001b[0melement\u001b[0m\u001b[0;34m.\u001b[0m\u001b[0m_InternalSerialize\u001b[0m\u001b[0;34m(\u001b[0m\u001b[0mwrite\u001b[0m\u001b[0;34m)\u001b[0m\u001b[0;34m\u001b[0m\u001b[0m\n\u001b[0m\u001b[1;32m    761\u001b[0m     \u001b[0;32mreturn\u001b[0m \u001b[0mEncodeRepeatedField\u001b[0m\u001b[0;34m\u001b[0m\u001b[0m\n\u001b[1;32m    762\u001b[0m   \u001b[0;32melse\u001b[0m\u001b[0;34m:\u001b[0m\u001b[0;34m\u001b[0m\u001b[0m\n",
      "\u001b[0;32m~/anaconda/envs/tf/lib/python3.5/site-packages/google/protobuf/internal/python_message.py\u001b[0m in \u001b[0;36mInternalSerialize\u001b[0;34m(self, write_bytes)\u001b[0m\n\u001b[1;32m   1049\u001b[0m   \u001b[0;32mdef\u001b[0m \u001b[0mInternalSerialize\u001b[0m\u001b[0;34m(\u001b[0m\u001b[0mself\u001b[0m\u001b[0;34m,\u001b[0m \u001b[0mwrite_bytes\u001b[0m\u001b[0;34m)\u001b[0m\u001b[0;34m:\u001b[0m\u001b[0;34m\u001b[0m\u001b[0m\n\u001b[1;32m   1050\u001b[0m     \u001b[0;32mfor\u001b[0m \u001b[0mfield_descriptor\u001b[0m\u001b[0;34m,\u001b[0m \u001b[0mfield_value\u001b[0m \u001b[0;32min\u001b[0m \u001b[0mself\u001b[0m\u001b[0;34m.\u001b[0m\u001b[0mListFields\u001b[0m\u001b[0;34m(\u001b[0m\u001b[0;34m)\u001b[0m\u001b[0;34m:\u001b[0m\u001b[0;34m\u001b[0m\u001b[0m\n\u001b[0;32m-> 1051\u001b[0;31m       \u001b[0mfield_descriptor\u001b[0m\u001b[0;34m.\u001b[0m\u001b[0m_encoder\u001b[0m\u001b[0;34m(\u001b[0m\u001b[0mwrite_bytes\u001b[0m\u001b[0;34m,\u001b[0m \u001b[0mfield_value\u001b[0m\u001b[0;34m)\u001b[0m\u001b[0;34m\u001b[0m\u001b[0m\n\u001b[0m\u001b[1;32m   1052\u001b[0m     \u001b[0;32mfor\u001b[0m \u001b[0mtag_bytes\u001b[0m\u001b[0;34m,\u001b[0m \u001b[0mvalue_bytes\u001b[0m \u001b[0;32min\u001b[0m \u001b[0mself\u001b[0m\u001b[0;34m.\u001b[0m\u001b[0m_unknown_fields\u001b[0m\u001b[0;34m:\u001b[0m\u001b[0;34m\u001b[0m\u001b[0m\n\u001b[1;32m   1053\u001b[0m       \u001b[0mwrite_bytes\u001b[0m\u001b[0;34m(\u001b[0m\u001b[0mtag_bytes\u001b[0m\u001b[0;34m)\u001b[0m\u001b[0;34m\u001b[0m\u001b[0m\n",
      "\u001b[0;32m~/anaconda/envs/tf/lib/python3.5/site-packages/google/protobuf/internal/encoder.py\u001b[0m in \u001b[0;36mEncodeField\u001b[0;34m(write, value)\u001b[0m\n\u001b[1;32m    822\u001b[0m     \u001b[0;32mfor\u001b[0m \u001b[0mkey\u001b[0m \u001b[0;32min\u001b[0m \u001b[0mvalue\u001b[0m\u001b[0;34m:\u001b[0m\u001b[0;34m\u001b[0m\u001b[0m\n\u001b[1;32m    823\u001b[0m       \u001b[0mentry_msg\u001b[0m \u001b[0;34m=\u001b[0m \u001b[0mmessage_type\u001b[0m\u001b[0;34m.\u001b[0m\u001b[0m_concrete_class\u001b[0m\u001b[0;34m(\u001b[0m\u001b[0mkey\u001b[0m\u001b[0;34m=\u001b[0m\u001b[0mkey\u001b[0m\u001b[0;34m,\u001b[0m \u001b[0mvalue\u001b[0m\u001b[0;34m=\u001b[0m\u001b[0mvalue\u001b[0m\u001b[0;34m[\u001b[0m\u001b[0mkey\u001b[0m\u001b[0;34m]\u001b[0m\u001b[0;34m)\u001b[0m\u001b[0;34m\u001b[0m\u001b[0m\n\u001b[0;32m--> 824\u001b[0;31m       \u001b[0mencode_message\u001b[0m\u001b[0;34m(\u001b[0m\u001b[0mwrite\u001b[0m\u001b[0;34m,\u001b[0m \u001b[0mentry_msg\u001b[0m\u001b[0;34m)\u001b[0m\u001b[0;34m\u001b[0m\u001b[0m\n\u001b[0m\u001b[1;32m    825\u001b[0m \u001b[0;34m\u001b[0m\u001b[0m\n\u001b[1;32m    826\u001b[0m   \u001b[0;32mreturn\u001b[0m \u001b[0mEncodeField\u001b[0m\u001b[0;34m\u001b[0m\u001b[0m\n",
      "\u001b[0;32m~/anaconda/envs/tf/lib/python3.5/site-packages/google/protobuf/internal/encoder.py\u001b[0m in \u001b[0;36mEncodeField\u001b[0;34m(write, value)\u001b[0m\n\u001b[1;32m    764\u001b[0m       \u001b[0mwrite\u001b[0m\u001b[0;34m(\u001b[0m\u001b[0mtag\u001b[0m\u001b[0;34m)\u001b[0m\u001b[0;34m\u001b[0m\u001b[0m\n\u001b[1;32m    765\u001b[0m       \u001b[0mlocal_EncodeVarint\u001b[0m\u001b[0;34m(\u001b[0m\u001b[0mwrite\u001b[0m\u001b[0;34m,\u001b[0m \u001b[0mvalue\u001b[0m\u001b[0;34m.\u001b[0m\u001b[0mByteSize\u001b[0m\u001b[0;34m(\u001b[0m\u001b[0;34m)\u001b[0m\u001b[0;34m)\u001b[0m\u001b[0;34m\u001b[0m\u001b[0m\n\u001b[0;32m--> 766\u001b[0;31m       \u001b[0;32mreturn\u001b[0m \u001b[0mvalue\u001b[0m\u001b[0;34m.\u001b[0m\u001b[0m_InternalSerialize\u001b[0m\u001b[0;34m(\u001b[0m\u001b[0mwrite\u001b[0m\u001b[0;34m)\u001b[0m\u001b[0;34m\u001b[0m\u001b[0m\n\u001b[0m\u001b[1;32m    767\u001b[0m     \u001b[0;32mreturn\u001b[0m \u001b[0mEncodeField\u001b[0m\u001b[0;34m\u001b[0m\u001b[0m\n\u001b[1;32m    768\u001b[0m \u001b[0;34m\u001b[0m\u001b[0m\n",
      "\u001b[0;32m~/anaconda/envs/tf/lib/python3.5/site-packages/google/protobuf/internal/python_message.py\u001b[0m in \u001b[0;36mInternalSerialize\u001b[0;34m(self, write_bytes)\u001b[0m\n\u001b[1;32m   1049\u001b[0m   \u001b[0;32mdef\u001b[0m \u001b[0mInternalSerialize\u001b[0m\u001b[0;34m(\u001b[0m\u001b[0mself\u001b[0m\u001b[0;34m,\u001b[0m \u001b[0mwrite_bytes\u001b[0m\u001b[0;34m)\u001b[0m\u001b[0;34m:\u001b[0m\u001b[0;34m\u001b[0m\u001b[0m\n\u001b[1;32m   1050\u001b[0m     \u001b[0;32mfor\u001b[0m \u001b[0mfield_descriptor\u001b[0m\u001b[0;34m,\u001b[0m \u001b[0mfield_value\u001b[0m \u001b[0;32min\u001b[0m \u001b[0mself\u001b[0m\u001b[0;34m.\u001b[0m\u001b[0mListFields\u001b[0m\u001b[0;34m(\u001b[0m\u001b[0;34m)\u001b[0m\u001b[0;34m:\u001b[0m\u001b[0;34m\u001b[0m\u001b[0m\n\u001b[0;32m-> 1051\u001b[0;31m       \u001b[0mfield_descriptor\u001b[0m\u001b[0;34m.\u001b[0m\u001b[0m_encoder\u001b[0m\u001b[0;34m(\u001b[0m\u001b[0mwrite_bytes\u001b[0m\u001b[0;34m,\u001b[0m \u001b[0mfield_value\u001b[0m\u001b[0;34m)\u001b[0m\u001b[0;34m\u001b[0m\u001b[0m\n\u001b[0m\u001b[1;32m   1052\u001b[0m     \u001b[0;32mfor\u001b[0m \u001b[0mtag_bytes\u001b[0m\u001b[0;34m,\u001b[0m \u001b[0mvalue_bytes\u001b[0m \u001b[0;32min\u001b[0m \u001b[0mself\u001b[0m\u001b[0;34m.\u001b[0m\u001b[0m_unknown_fields\u001b[0m\u001b[0;34m:\u001b[0m\u001b[0;34m\u001b[0m\u001b[0m\n\u001b[1;32m   1053\u001b[0m       \u001b[0mwrite_bytes\u001b[0m\u001b[0;34m(\u001b[0m\u001b[0mtag_bytes\u001b[0m\u001b[0;34m)\u001b[0m\u001b[0;34m\u001b[0m\u001b[0m\n",
      "\u001b[0;32m~/anaconda/envs/tf/lib/python3.5/site-packages/google/protobuf/internal/encoder.py\u001b[0m in \u001b[0;36mEncodeField\u001b[0;34m(write, value)\u001b[0m\n\u001b[1;32m    764\u001b[0m       \u001b[0mwrite\u001b[0m\u001b[0;34m(\u001b[0m\u001b[0mtag\u001b[0m\u001b[0;34m)\u001b[0m\u001b[0;34m\u001b[0m\u001b[0m\n\u001b[1;32m    765\u001b[0m       \u001b[0mlocal_EncodeVarint\u001b[0m\u001b[0;34m(\u001b[0m\u001b[0mwrite\u001b[0m\u001b[0;34m,\u001b[0m \u001b[0mvalue\u001b[0m\u001b[0;34m.\u001b[0m\u001b[0mByteSize\u001b[0m\u001b[0;34m(\u001b[0m\u001b[0;34m)\u001b[0m\u001b[0;34m)\u001b[0m\u001b[0;34m\u001b[0m\u001b[0m\n\u001b[0;32m--> 766\u001b[0;31m       \u001b[0;32mreturn\u001b[0m \u001b[0mvalue\u001b[0m\u001b[0;34m.\u001b[0m\u001b[0m_InternalSerialize\u001b[0m\u001b[0;34m(\u001b[0m\u001b[0mwrite\u001b[0m\u001b[0;34m)\u001b[0m\u001b[0;34m\u001b[0m\u001b[0m\n\u001b[0m\u001b[1;32m    767\u001b[0m     \u001b[0;32mreturn\u001b[0m \u001b[0mEncodeField\u001b[0m\u001b[0;34m\u001b[0m\u001b[0m\n\u001b[1;32m    768\u001b[0m \u001b[0;34m\u001b[0m\u001b[0m\n",
      "\u001b[0;32m~/anaconda/envs/tf/lib/python3.5/site-packages/google/protobuf/internal/python_message.py\u001b[0m in \u001b[0;36mInternalSerialize\u001b[0;34m(self, write_bytes)\u001b[0m\n\u001b[1;32m   1049\u001b[0m   \u001b[0;32mdef\u001b[0m \u001b[0mInternalSerialize\u001b[0m\u001b[0;34m(\u001b[0m\u001b[0mself\u001b[0m\u001b[0;34m,\u001b[0m \u001b[0mwrite_bytes\u001b[0m\u001b[0;34m)\u001b[0m\u001b[0;34m:\u001b[0m\u001b[0;34m\u001b[0m\u001b[0m\n\u001b[1;32m   1050\u001b[0m     \u001b[0;32mfor\u001b[0m \u001b[0mfield_descriptor\u001b[0m\u001b[0;34m,\u001b[0m \u001b[0mfield_value\u001b[0m \u001b[0;32min\u001b[0m \u001b[0mself\u001b[0m\u001b[0;34m.\u001b[0m\u001b[0mListFields\u001b[0m\u001b[0;34m(\u001b[0m\u001b[0;34m)\u001b[0m\u001b[0;34m:\u001b[0m\u001b[0;34m\u001b[0m\u001b[0m\n\u001b[0;32m-> 1051\u001b[0;31m       \u001b[0mfield_descriptor\u001b[0m\u001b[0;34m.\u001b[0m\u001b[0m_encoder\u001b[0m\u001b[0;34m(\u001b[0m\u001b[0mwrite_bytes\u001b[0m\u001b[0;34m,\u001b[0m \u001b[0mfield_value\u001b[0m\u001b[0;34m)\u001b[0m\u001b[0;34m\u001b[0m\u001b[0m\n\u001b[0m\u001b[1;32m   1052\u001b[0m     \u001b[0;32mfor\u001b[0m \u001b[0mtag_bytes\u001b[0m\u001b[0;34m,\u001b[0m \u001b[0mvalue_bytes\u001b[0m \u001b[0;32min\u001b[0m \u001b[0mself\u001b[0m\u001b[0;34m.\u001b[0m\u001b[0m_unknown_fields\u001b[0m\u001b[0;34m:\u001b[0m\u001b[0;34m\u001b[0m\u001b[0m\n\u001b[1;32m   1053\u001b[0m       \u001b[0mwrite_bytes\u001b[0m\u001b[0;34m(\u001b[0m\u001b[0mtag_bytes\u001b[0m\u001b[0;34m)\u001b[0m\u001b[0;34m\u001b[0m\u001b[0m\n",
      "\u001b[0;32m~/anaconda/envs/tf/lib/python3.5/site-packages/google/protobuf/internal/encoder.py\u001b[0m in \u001b[0;36mEncodeField\u001b[0;34m(write, value)\u001b[0m\n\u001b[1;32m    764\u001b[0m       \u001b[0mwrite\u001b[0m\u001b[0;34m(\u001b[0m\u001b[0mtag\u001b[0m\u001b[0;34m)\u001b[0m\u001b[0;34m\u001b[0m\u001b[0m\n\u001b[1;32m    765\u001b[0m       \u001b[0mlocal_EncodeVarint\u001b[0m\u001b[0;34m(\u001b[0m\u001b[0mwrite\u001b[0m\u001b[0;34m,\u001b[0m \u001b[0mvalue\u001b[0m\u001b[0;34m.\u001b[0m\u001b[0mByteSize\u001b[0m\u001b[0;34m(\u001b[0m\u001b[0;34m)\u001b[0m\u001b[0;34m)\u001b[0m\u001b[0;34m\u001b[0m\u001b[0m\n\u001b[0;32m--> 766\u001b[0;31m       \u001b[0;32mreturn\u001b[0m \u001b[0mvalue\u001b[0m\u001b[0;34m.\u001b[0m\u001b[0m_InternalSerialize\u001b[0m\u001b[0;34m(\u001b[0m\u001b[0mwrite\u001b[0m\u001b[0;34m)\u001b[0m\u001b[0;34m\u001b[0m\u001b[0m\n\u001b[0m\u001b[1;32m    767\u001b[0m     \u001b[0;32mreturn\u001b[0m \u001b[0mEncodeField\u001b[0m\u001b[0;34m\u001b[0m\u001b[0m\n\u001b[1;32m    768\u001b[0m \u001b[0;34m\u001b[0m\u001b[0m\n",
      "\u001b[0;31mKeyboardInterrupt\u001b[0m: "
     ]
    }
   ],
   "source": [
    "mlp_model.train()"
   ]
  },
  {
   "cell_type": "code",
   "execution_count": 45,
   "metadata": {},
   "outputs": [
    {
     "name": "stdout",
     "output_type": "stream",
     "text": [
      "\n"
     ]
    }
   ],
   "source": [
    "'''\n",
    "plt.plot([1.76E-02, 1.83E-02 ,1.83E-02, 1.91E-02, 1.67E-02, 1.70E-02, 1.67E-02, 1.64E-02, 1.80E-02, 1.69E-02, 1.77E-02, 1.80E-02, 1.88E-02, 2.01E-02, 1.96E-02, 2.00E-02, 2.06E-02, 2.10E-02, 2.29E-02])\n",
    "plt.xticks(np.arange(19), (np.arange(19)+1))\n",
    "plt.title(\"validation loss during training\")\n",
    "plt.xlabel(\"* 100 epochs\")\n",
    "'''\n",
    "print()"
   ]
  },
  {
   "cell_type": "code",
   "execution_count": 46,
   "metadata": {
    "collapsed": true
   },
   "outputs": [],
   "source": [
    "predictions = mlp_model.predict(X)[0]\n",
    "processed_prediction = process_output_data(predictions)\n",
    "processed_prediction = denormalize_array(processed_prediction, kwh_min, kwh_max)"
   ]
  },
  {
   "cell_type": "code",
   "execution_count": 47,
   "metadata": {
    "collapsed": true
   },
   "outputs": [],
   "source": [
    "true = process_output_data(filtered_kwh_list)\n",
    "true = denormalize_array(true, kwh_min, kwh_max)"
   ]
  },
  {
   "cell_type": "code",
   "execution_count": 48,
   "metadata": {},
   "outputs": [
    {
     "data": {
      "text/plain": [
       "<matplotlib.text.Text at 0x11fdc6898>"
      ]
     },
     "execution_count": 48,
     "metadata": {},
     "output_type": "execute_result"
    },
    {
     "data": {
      "image/png": "[encoded data removed]",
      "text/plain": [
       "<matplotlib.figure.Figure at 0x11fff9ba8>"
      ]
     },
     "metadata": {},
     "output_type": "display_data"
    }
   ],
   "source": [
    "plt.figure(figsize=(20, 5))\n",
    "plt.plot(processed_prediction[500:1000], label = \"prediction\")\n",
    "plt.plot(true[500:1000], label = \"true\")\n",
    "plt.legend()\n",
    "plt.title(\"predict kwh\")"
   ]
  },
  {
   "cell_type": "code",
   "execution_count": 49,
   "metadata": {},
   "outputs": [
    {
     "name": "stdout",
     "output_type": "stream",
     "text": [
      "training mae : 160.283769247\n"
     ]
    }
   ],
   "source": [
    "print('training mae :', calc_mae(processed_prediction, true))"
   ]
  },
  {
   "cell_type": "code",
   "execution_count": 50,
   "metadata": {
    "collapsed": true
   },
   "outputs": [],
   "source": [
    "validation = mlp_model.predict(mlp_model.X_val)[0]\n",
    "processed_validation = process_output_data(validation)\n",
    "processed_validation = denormalize_array(processed_validation, kwh_min, kwh_max)"
   ]
  },
  {
   "cell_type": "code",
   "execution_count": 51,
   "metadata": {
    "collapsed": true
   },
   "outputs": [],
   "source": [
    "val = process_output_data(mlp_model.Y_val)\n",
    "val = denormalize_array(val, kwh_min, kwh_max)"
   ]
  },
  {
   "cell_type": "code",
   "execution_count": 52,
   "metadata": {},
   "outputs": [
    {
     "data": {
      "text/plain": [
       "<matplotlib.text.Text at 0x1160712b0>"
      ]
     },
     "execution_count": 52,
     "metadata": {},
     "output_type": "execute_result"
    },
    {
     "data": {
      "image/png": "[encoded data removed]",
      "text/plain": [
       "<matplotlib.figure.Figure at 0x11f640e10>"
      ]
     },
     "metadata": {},
     "output_type": "display_data"
    }
   ],
   "source": [
    "plt.figure(figsize=(20, 5))\n",
    "plt.plot(processed_validation[500:1000], label = \"prediction\")\n",
    "plt.plot(val[500:1000], label = \"true\")\n",
    "plt.legend()\n",
    "plt.title(\"predict output\")"
   ]
  },
  {
   "cell_type": "code",
   "execution_count": 53,
   "metadata": {},
   "outputs": [
    {
     "name": "stdout",
     "output_type": "stream",
     "text": [
      "validation mae : 173.406451121\n"
     ]
    }
   ],
   "source": [
    "print('validation mae :', calc_mae(processed_validation, val))"
   ]
  },
  {
   "cell_type": "code",
   "execution_count": 199,
   "metadata": {
    "collapsed": true
   },
   "outputs": [],
   "source": [
    "predictions = mlp_model.predict(all_X)[0]\n",
    "processed_prediction = process_output_data(predictions)\n",
    "processed_prediction = denormalize_array(processed_prediction, kwh_min, kwh_max)"
   ]
  },
  {
   "cell_type": "code",
   "execution_count": 200,
   "metadata": {
    "collapsed": true
   },
   "outputs": [],
   "source": [
    "try:\n",
    "    predict_data = pd.read_csv('data/predicted_data/predict_train_SOLA0'+str(target_place)+'.tsv', delimiter='\\t')\n",
    "    \n",
    "except FileNotFoundError:\n",
    "    s_idx = result[result['datetime'] == pd.to_datetime('2012/01/02 00:00')].index[0]\n",
    "    e_idx = result[result['datetime'] == pd.to_datetime('2015/12/31 23:30')].index[0]\n",
    "    predict_data = pd.DataFrame({\"datetime\":result['datetime'][s_idx:e_idx+1]})\n",
    "    predict_data.index = np.arange(len(predict_data))\n",
    "    predict_data.to_csv('data/predicted_data/predict_train_SOLA0'+str(target_place)+'.tsv', sep = '\\t', index=False)"
   ]
  },
  {
   "cell_type": "code",
   "execution_count": 201,
   "metadata": {
    "collapsed": true
   },
   "outputs": [],
   "source": [
    "# 2012/01/02 00:00 ~ 2015/12/31 23:30の予測データを書き出す\n",
    "predict_data[model_name] = np.append(processed_prediction[48:-1], processed_prediction[-1])"
   ]
  },
  {
   "cell_type": "code",
   "execution_count": 202,
   "metadata": {
    "collapsed": true
   },
   "outputs": [],
   "source": [
    "predict_data.to_csv('data/predicted_data/predict_train_SOLA0'+str(target_place)+'.tsv', sep = '\\t', index=False)"
   ]
  },
  {
   "cell_type": "code",
   "execution_count": 207,
   "metadata": {
    "collapsed": true
   },
   "outputs": [],
   "source": [
    "# X_predictによる予測\n",
    "predictions = mlp_model.predict(X_predict)[0]\n",
    "processed_prediction = process_output_data(predictions)\n",
    "processed_prediction = denormalize_array(processed_prediction, kwh_min, kwh_max)"
   ]
  },
  {
   "cell_type": "code",
   "execution_count": 81,
   "metadata": {
    "collapsed": true
   },
   "outputs": [],
   "source": [
    "try:\n",
    "    predict_data = pd.read_csv('data/predicted_data/predict_SOLA0'+str(target_place)+'.tsv', delimiter='\\t')\n",
    "    \n",
    "except FileNotFoundError:\n",
    "    s_idx = result[result['datetime'] == pd.to_datetime('2016/01/01 00:00')].index[0]\n",
    "    e_idx = result[result['datetime'] == pd.to_datetime('2017/3/31 23:30')].index[0]\n",
    "    predict_data = pd.DataFrame({\"datetime\":result['datetime'][s_idx:e_idx+1]})\n",
    "    predict_data.index = np.arange(len(predict_data))\n",
    "    predict_data.to_csv('data/predicted_data/predict_SOLA0'+str(target_place)+'.tsv', sep = '\\t', index=False)"
   ]
  },
  {
   "cell_type": "code",
   "execution_count": 82,
   "metadata": {
    "collapsed": true
   },
   "outputs": [],
   "source": [
    "# 2016/01/01 00:00 ~ 2017/3/31 23:30の予測データを書き出す\n",
    "predict_data[model_name] = processed_prediction"
   ]
  },
  {
   "cell_type": "code",
   "execution_count": 83,
   "metadata": {
    "collapsed": true
   },
   "outputs": [],
   "source": [
    "predict_data.to_csv('data/predicted_data/predict_SOLA0'+str(target_place)+'.tsv', sep = '\\t', index=False)"
   ]
  },
  {
   "cell_type": "code",
   "execution_count": null,
   "metadata": {
    "collapsed": true
   },
   "outputs": [],
   "source": [
    "# いろんなエポックのやつをまとめて学習して保存するやつ\n",
    "'''\n",
    "epochs = [500, 1000, 2000, 3000, 4000]\n",
    "for epoch in epochs:\n",
    "    \n",
    "    model_name = \"targetplace_\"+str(target_place)+\"_kwh_all_wfc_month_one_layer_hidden_50_\"+str(epoch)\n",
    "    \n",
    "    try:\n",
    "        os.mkdir('./data/model/'+model_name)\n",
    "        print(\"make save directory\")\n",
    "    except :\n",
    "        print(\"directory already exists\")\n",
    "\n",
    "    print(model_name) \n",
    "    \n",
    "    mlp_model = MLP.MLP(X, KWH, epochs = epoch, hidden_size = 50, batch_size = 100, model_name = model_name)\n",
    "    \n",
    "    mlp_model.train()\n",
    "    \n",
    "    predictions = mlp_model.predict(all_X)[0]\n",
    "    predictions = predictions.reshape(predictions.shape[0] * predictions.shape[1])\n",
    "    processed_prediction = denormalize_array(predictions, kwh_min, kwh_max)\n",
    "    \n",
    "    try:\n",
    "        predict_data = pd.read_csv('data/predicted_data/predict_train_SOLA0'+str(target_place)+'.tsv', delimiter='\\t')\n",
    "    \n",
    "    except FileNotFoundError:\n",
    "        s_idx = result[result['datetime'] == pd.to_datetime('2012/01/02 00:00')].index[0]\n",
    "        e_idx = result[result['datetime'] == pd.to_datetime('2015/12/31 23:30')].index[0]\n",
    "        predict_data = pd.DataFrame({\"datetime\":result['datetime'][s_idx:e_idx+1]})\n",
    "        predict_data.index = np.arange(len(predict_data))\n",
    "        predict_data.to_csv('data/predicted_data/predict_train_SOLA0'+str(target_place)+'.tsv', sep = '\\t', index=False)\n",
    "    \n",
    "    # 2012/01/02 00:00 ~ 2015/12/31 23:30の予測データを書き出す\n",
    "    predict_data[model_name] = np.append(processed_prediction[48:-1], processed_prediction[-1])\n",
    "    \n",
    "    # X_predictによる予測\n",
    "    predictions = mlp_model.predict(X_predict)[0]\n",
    "    predictions = predictions.reshape(predictions.shape[0] * predictions.shape[1])\n",
    "    processed_prediction = denormalize_array(predictions, kwh_min, kwh_max)\n",
    "    \n",
    "    try:\n",
    "        predict_data = pd.read_csv('data/predicted_data/predict_SOLA0'+str(target_place)+'.tsv', delimiter='\\t')\n",
    "    \n",
    "    except FileNotFoundError:\n",
    "        s_idx = result[result['datetime'] == pd.to_datetime('2016/01/01 00:00')].index[0]\n",
    "        e_idx = result[result['datetime'] == pd.to_datetime('2017/3/31 23:30')].index[0]\n",
    "        predict_data = pd.DataFrame({\"datetime\":result['datetime'][s_idx:e_idx+1]})\n",
    "        predict_data.index = np.arange(len(predict_data))\n",
    "        predict_data.to_csv('data/predicted_data/predict_SOLA0'+str(target_place)+'.tsv', sep = '\\t', index=False)\n",
    "    \n",
    "    # 2016/01/01 00:00 ~ 2017/3/31 23:30の予測データを書き出す\n",
    "    predict_data[model_name] = processed_prediction\n",
    "    \n",
    "    predict_data.to_csv('data/predicted_data/predict_SOLA0'+str(target_place)+'.tsv', sep = '\\t', index=False)\n",
    "'''    "
   ]
  },
  {
   "cell_type": "code",
   "execution_count": 88,
   "metadata": {
    "scrolled": true
   },
   "outputs": [
    {
     "name": "stdout",
     "output_type": "stream",
     "text": [
      "\n"
     ]
    }
   ],
   "source": [
    "# いろんな活性化関数を比べるためのやつ\n",
    "'''\n",
    "t_maes = []\n",
    "v_maes = []\n",
    "\n",
    "for i in range(5):\n",
    "    X_train, X_val, Y_train, Y_val = train_test_split(X, KWH, test_size=0.33)\n",
    "    mlp_model = MLP(X_train, Y_train, X_val, Y_val, epochs = epochs, hidden_size = hidden_size, batch_size = 100, model_name = model_name, activation = activation)\n",
    "    mlp_model.train()\n",
    "    \n",
    "    predictions = mlp_model.predict(X)[0]\n",
    "    processed_prediction = process_output_data(predictions)\n",
    "    processed_prediction = denormalize_array(processed_prediction, kwh_min, kwh_max)\n",
    "    \n",
    "    true = process_output_data(filtered_kwh_list)\n",
    "    true = denormalize_array(true, kwh_min, kwh_max)\n",
    "    \n",
    "    t_maes.append(calc_mae(processed_prediction, true))\n",
    "    \n",
    "    validation = mlp_model.predict(mlp_model.X_val)[0]\n",
    "    processed_validation = process_output_data(validation)\n",
    "    processed_validation = denormalize_array(processed_validation, kwh_min, kwh_max)\n",
    "    \n",
    "    val = process_output_data(mlp_model.Y_val)\n",
    "    val = denormalize_array(val, kwh_min, kwh_max)\n",
    "    \n",
    "    v_maes.append(calc_mae(processed_validation, val))\n",
    "'''\n",
    "print()"
   ]
  },
  {
   "cell_type": "code",
   "execution_count": 25,
   "metadata": {},
   "outputs": [
    {
     "name": "stdout",
     "output_type": "stream",
     "text": [
      "directory already exists\n",
      "targetplace_1_limited_scaled_kwh_all_wfc_sigmoid_hidden_100_1000_1-5folds\n",
      "train#0, validation loss: 8.082917e-01\n",
      "train#50, validation loss: 3.363991e-02\n",
      "train#100, validation loss: 2.046612e-02\n",
      "train#150, validation loss: 1.861351e-02\n",
      "train#200, validation loss: 1.871553e-02\n",
      "train#250, validation loss: 1.841954e-02\n",
      "train#300, validation loss: 1.821994e-02\n",
      "train#350, validation loss: 1.766363e-02\n",
      "train#400, validation loss: 1.794554e-02\n",
      "train#450, validation loss: 1.739469e-02\n",
      "train#500, validation loss: 1.730364e-02\n",
      "train#550, validation loss: 1.789586e-02\n",
      "train#600, validation loss: 1.711398e-02\n",
      "train#650, validation loss: 1.726789e-02\n",
      "train#700, validation loss: 1.734976e-02\n",
      "train#750, validation loss: 1.713007e-02\n",
      "train#800, validation loss: 1.728029e-02\n",
      "train#850, validation loss: 1.740671e-02\n",
      "do early stopping\n",
      "directory already exists\n",
      "targetplace_1_limited_scaled_kwh_all_wfc_sigmoid_hidden_100_1000_2-5folds\n",
      "train#0, validation loss: 4.955848e-01\n",
      "train#50, validation loss: 3.004701e-02\n",
      "train#100, validation loss: 1.900028e-02\n",
      "train#150, validation loss: 1.648535e-02\n",
      "train#200, validation loss: 1.643310e-02\n",
      "train#250, validation loss: 1.552631e-02\n",
      "train#300, validation loss: 1.567036e-02\n",
      "train#350, validation loss: 1.546875e-02\n",
      "train#400, validation loss: 1.497247e-02\n",
      "train#450, validation loss: 1.474087e-02\n",
      "train#500, validation loss: 1.502533e-02\n",
      "train#550, validation loss: 1.479893e-02\n",
      "train#600, validation loss: 1.565049e-02\n",
      "do early stopping\n",
      "directory already exists\n",
      "targetplace_1_limited_scaled_kwh_all_wfc_sigmoid_hidden_100_1000_3-5folds\n",
      "train#0, validation loss: 4.855198e-01\n",
      "train#50, validation loss: 3.239471e-02\n",
      "train#100, validation loss: 1.946322e-02\n",
      "train#150, validation loss: 1.724048e-02\n",
      "train#200, validation loss: 1.698151e-02\n",
      "train#250, validation loss: 1.665072e-02\n",
      "train#300, validation loss: 1.591527e-02\n",
      "train#350, validation loss: 1.579631e-02\n",
      "train#400, validation loss: 1.556699e-02\n",
      "train#450, validation loss: 1.550308e-02\n",
      "train#500, validation loss: 1.588315e-02\n",
      "do early stopping\n",
      "directory already exists\n",
      "targetplace_1_limited_scaled_kwh_all_wfc_sigmoid_hidden_100_1000_4-5folds\n",
      "train#0, validation loss: 2.953928e-01\n",
      "train#50, validation loss: 2.735015e-02\n",
      "train#100, validation loss: 1.797330e-02\n",
      "train#150, validation loss: 1.467896e-02\n",
      "train#200, validation loss: 1.463094e-02\n",
      "train#250, validation loss: 1.517547e-02\n",
      "train#300, validation loss: 1.369205e-02\n",
      "train#350, validation loss: 1.381908e-02\n",
      "train#400, validation loss: 1.399968e-02\n",
      "train#450, validation loss: 1.352770e-02\n",
      "train#500, validation loss: 1.354871e-02\n",
      "train#550, validation loss: 1.343045e-02\n",
      "train#600, validation loss: 1.562032e-02\n",
      "do early stopping\n",
      "directory already exists\n",
      "targetplace_1_limited_scaled_kwh_all_wfc_sigmoid_hidden_100_1000_5-5folds\n",
      "train#0, validation loss: 6.793900e-01\n",
      "train#50, validation loss: 3.552619e-02\n",
      "train#100, validation loss: 1.984180e-02\n",
      "train#150, validation loss: 1.865236e-02\n",
      "train#200, validation loss: 1.901845e-02\n",
      "train#250, validation loss: 1.740215e-02\n",
      "train#300, validation loss: 1.754927e-02\n",
      "train#350, validation loss: 1.747571e-02\n",
      "train#400, validation loss: 1.710965e-02\n",
      "train#450, validation loss: 1.938490e-02\n",
      "do early stopping\n",
      "\n"
     ]
    }
   ],
   "source": [
    "# kfoldsでやるやつ\n",
    "\n",
    "epochs = 1000\n",
    "hidden_size = 100\n",
    "activation = \"sigmoid\"\n",
    "\n",
    "t_maes = []\n",
    "v_maes = []\n",
    "i = 0\n",
    "n_splits = 5\n",
    "\n",
    "for train_idx, test_idx in KFold(n_splits=n_splits).split(X):\n",
    "    X_train = X[train_idx]\n",
    "    Y_train = KWH[train_idx]\n",
    "    X_val = X[test_idx]\n",
    "    Y_val = KWH[test_idx]\n",
    "    \n",
    "    i += 1\n",
    "    model_name = \"targetplace_\"+str(target_place)+\"_limited_scaled_kwh_all_wfc_\"+activation\n",
    "    model_name += \"_hidden_\"+str(hidden_size)+\"_\"+str(epochs)\n",
    "    model_name += \"_\"+str(i)+\"-\"+str(n_splits)+\"folds\"\n",
    "    \n",
    "    try:\n",
    "        os.mkdir('./data/model/'+model_name)\n",
    "        print(\"make save directory\")\n",
    "    except :\n",
    "        print(\"directory already exists\")\n",
    "\n",
    "    print(model_name)\n",
    "    \n",
    "    mlp_model = MLP(X_train, Y_train, X_val, Y_val, epochs = epochs, hidden_size = hidden_size, batch_size = 100, model_name = model_name, activation = activation)\n",
    "\n",
    "    # train\n",
    "    mlp_model.train()\n",
    "    \n",
    "    # cal train mae\n",
    "    predictions = mlp_model.predict(X)[0]\n",
    "    processed_prediction = process_output_data(predictions)\n",
    "    processed_prediction = denormalize_array(processed_prediction, kwh_min, kwh_max)\n",
    "    \n",
    "    true = process_output_data(filtered_kwh_list)\n",
    "    true = denormalize_array(true, kwh_min, kwh_max)\n",
    "    \n",
    "    t_maes.append(calc_mae(processed_prediction, true))\n",
    "    \n",
    "    # calc validation mae\n",
    "    validation = mlp_model.predict(mlp_model.X_val)[0]\n",
    "    processed_validation = process_output_data(validation)\n",
    "    processed_validation = denormalize_array(processed_validation, kwh_min, kwh_max)\n",
    "    \n",
    "    Y_val = process_output_data(mlp_model.Y_val)\n",
    "    Y_val = denormalize_array(Y_val, kwh_min, kwh_max)\n",
    "    \n",
    "    v_maes.append(calc_mae(processed_validation, Y_val))\n",
    "    \n",
    "    # make train prediction data for stacking\n",
    "    predictions = mlp_model.predict(all_X)[0]\n",
    "    processed_prediction = process_output_data(predictions)\n",
    "    processed_prediction = denormalize_array(processed_prediction, kwh_min, kwh_max)\n",
    "    \n",
    "    try:\n",
    "        predict_data = pd.read_csv('data/predicted_data/predict_train_SOLA0'+str(target_place)+'.tsv', delimiter='\\t')\n",
    "    \n",
    "    except FileNotFoundError:\n",
    "        s_idx = result[result['datetime'] == pd.to_datetime('2012/01/02 00:00')].index[0]\n",
    "        e_idx = result[result['datetime'] == pd.to_datetime('2015/12/31 23:30')].index[0]\n",
    "        predict_data = pd.DataFrame({\"datetime\":result['datetime'][s_idx:e_idx+1]})\n",
    "        predict_data.index = np.arange(len(predict_data))\n",
    "        predict_data.to_csv('data/predicted_data/predict_train_SOLA0'+str(target_place)+'.tsv', sep = '\\t', index=False)\n",
    "        \n",
    "    # 2012/01/02 00:00 ~ 2015/12/31 23:30の予測データを書き出す\n",
    "    predict_data[model_name] = np.append(processed_prediction[48:-1], processed_prediction[-1])\n",
    "    predict_data.to_csv('data/predicted_data/predict_train_SOLA0'+str(target_place)+'.tsv', sep = '\\t', index=False)\n",
    "    \n",
    "    # X_predictによる予測\n",
    "    predictions = mlp_model.predict(X_predict)[0]\n",
    "    processed_prediction = process_output_data(predictions)\n",
    "    processed_prediction = denormalize_array(processed_prediction, kwh_min, kwh_max)\n",
    "    \n",
    "    try:\n",
    "        predict_data = pd.read_csv('data/predicted_data/predict_SOLA0'+str(target_place)+'.tsv', delimiter='\\t')\n",
    "    \n",
    "    except FileNotFoundError:\n",
    "        s_idx = result[result['datetime'] == pd.to_datetime('2016/01/01 00:00')].index[0]\n",
    "        e_idx = result[result['datetime'] == pd.to_datetime('2017/3/31 23:30')].index[0]\n",
    "        predict_data = pd.DataFrame({\"datetime\":result['datetime'][s_idx:e_idx+1]})\n",
    "        predict_data.index = np.arange(len(predict_data))\n",
    "        predict_data.to_csv('data/predicted_data/predict_SOLA0'+str(target_place)+'.tsv', sep = '\\t', index=False)\n",
    "    \n",
    "    # 2016/01/01 00:00 ~ 2017/3/31 23:30の予測データを書き出す\n",
    "    predict_data[model_name] = processed_prediction\n",
    "    predict_data.to_csv('data/predicted_data/predict_SOLA0'+str(target_place)+'.tsv', sep = '\\t', index=False)\n",
    "\n",
    "print()"
   ]
  },
  {
   "cell_type": "code",
   "execution_count": 32,
   "metadata": {},
   "outputs": [
    {
     "data": {
      "image/png": "[encoded data removed]",
      "text/plain": [
       "<matplotlib.figure.Figure at 0x10dc84e48>"
      ]
     },
     "metadata": {},
     "output_type": "display_data"
    },
    {
     "name": "stdout",
     "output_type": "stream",
     "text": [
      "\n"
     ]
    }
   ],
   "source": [
    "\n",
    "plt.plot(t_maes, 's', label=\"train_maes\")\n",
    "plt.plot(v_maes, 'D', label=\"validation_maes\")\n",
    "plt.legend()\n",
    "plt.title(\"each maes of \"+str(n_splits)+\" folds at target_place_\"+str(target_place))\n",
    "plt.xticks(np.arange(n_splits), np.arange(n_splits)+1)\n",
    "plt.show()\n",
    "\n",
    "print()"
   ]
  },
  {
   "cell_type": "code",
   "execution_count": null,
   "metadata": {
    "collapsed": true
   },
   "outputs": [],
   "source": []
  }
 ],
 "metadata": {
  "kernelspec": {
   "display_name": "Python 3",
   "language": "python",
   "name": "python3"
  },
  "language_info": {
   "codemirror_mode": {
    "name": "ipython",
    "version": 3
   },
   "file_extension": ".py",
   "mimetype": "text/x-python",
   "name": "python",
   "nbconvert_exporter": "python",
   "pygments_lexer": "ipython3",
   "version": "3.5.3"
  }
 },
 "nbformat": 4,
 "nbformat_minor": 2
}
