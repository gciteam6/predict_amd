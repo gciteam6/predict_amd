{
 "cells": [
  {
   "cell_type": "markdown",
   "metadata": {},
   "source": [
    "# **前日の20:00までの気象予報データ全てを用いて翌日の00:00~23:30までのslをMLPで予測する**"
   ]
  },
  {
   "cell_type": "markdown",
   "metadata": {},
   "source": [
    "### **必要な関数・ライブラリ**"
   ]
  },
  {
   "cell_type": "code",
   "execution_count": 1,
   "metadata": {
    "collapsed": true
   },
   "outputs": [],
   "source": [
    "# データ加工・処理・分析モジュール\n",
    "import numpy as np\n",
    "import pandas as pd\n",
    "import matplotlib.pyplot as plt\n",
    "from sklearn.model_selection import train_test_split\n",
    "import os\n",
    "import MLP\n",
    "\n",
    "%matplotlib inline"
   ]
  },
  {
   "cell_type": "code",
   "execution_count": 2,
   "metadata": {
    "collapsed": true
   },
   "outputs": [],
   "source": [
    "def set_time(dataframe, col_name):\n",
    "    '''\n",
    "    to_datetimeを使うための前処理\n",
    "    '''\n",
    "    dataframe[col_name] = dataframe[col_name].map(lambda x : transform_time(x))\n",
    "    return dataframe"
   ]
  },
  {
   "cell_type": "code",
   "execution_count": 3,
   "metadata": {
    "collapsed": true
   },
   "outputs": [],
   "source": [
    "def transform_time(x):\n",
    "    '''\n",
    "    set_time内で使う関数\n",
    "    to_datetimeで24時をサポートしないので00に変更する処理\n",
    "    '''\n",
    "    str_x = str(x)\n",
    "    res = ''\n",
    "    if str(x)[8:10] == '24':\n",
    "        res = str_x[0:4] + '-' + str_x[4:6] + '-' + str_x[6:8] + ' 00:'+str_x[10:12] \n",
    "    else:\n",
    "        res = str_x[0:4] + '-' + str_x[4:6] + '-' + str_x[6:8] + ' '+ str_x[8:10] +':'+str_x[10:12]\n",
    "    return res"
   ]
  },
  {
   "cell_type": "code",
   "execution_count": 4,
   "metadata": {
    "collapsed": true
   },
   "outputs": [],
   "source": [
    "def set_datetime(x):\n",
    "    '''\n",
    "    指定されたdatetime形式になるように整形\n",
    "    '''\n",
    "    str_month = str(x.month)\n",
    "    if x.month - 10 < 0:\n",
    "        str_month = \"0\"+str(x.month)\n",
    "    str_day = str(x.day)\n",
    "    if x.day - 10 < 0:\n",
    "        str_day = \"0\"+str(x.day)\n",
    "    str_hour = str(x.hour)\n",
    "    if x.hour - 10 < 0:\n",
    "        str_hour = \"0\"+str(x.hour)\n",
    "    str_minute = str(x.minute)\n",
    "    if x.minute == 0:\n",
    "        str_minute = \"00\"\n",
    "    if x.minute == 0 and x.hour == 0:\n",
    "        str_minute = \"00\"\n",
    "        str_hour = \"24\"\n",
    "        str_day = str(x.day - 1)\n",
    "        if (x.day - 1) - 10 < 0:\n",
    "            str_day = \"0\"+str(x.day - 1)\n",
    "                              \n",
    "    return str(x.year)+str_month+str_day+str_hour+str_minute"
   ]
  },
  {
   "cell_type": "code",
   "execution_count": 5,
   "metadata": {
    "collapsed": true
   },
   "outputs": [],
   "source": [
    "def add_month_date(input_data, key=\"datetime\"):\n",
    "    '''\n",
    "    時間や月のデータを加える\n",
    "    '''\n",
    "    input_data['month'] = input_data[key].map(lambda x: int(x.month))\n",
    "    input_data['month_cos'] = input_data['month'].map(lambda x: np.cos(np.pi * x / 12))\n",
    "    input_data['month_sin'] = input_data['month'].map(lambda x: np.sin(np.pi * x / 12))\n",
    "    input_data = input_data.drop(['month'], axis=1)\n",
    "    return input_data"
   ]
  },
  {
   "cell_type": "code",
   "execution_count": 6,
   "metadata": {
    "collapsed": true
   },
   "outputs": [],
   "source": [
    "def get_30(tmp_data):\n",
    "    '''\n",
    "    必要なカラムだけ拾ってきて30分ごのデータに整形\n",
    "    '''\n",
    "    tmp_data = tmp_data[[\"datetime\", \"pr\", \"max_ws\", \"ave_ws\", \"max_tp\", \"min_tp\", \"sl\"]]\n",
    "    \n",
    "    # 欠損値を一つ前の値で置換/output_data\n",
    "    tmp_data = tmp_data.fillna(method='bfill')\n",
    "    tmp_30 = tmp_data.set_index('datetime').groupby(pd.TimeGrouper(freq='1800s', closed='left')).sum()\n",
    "\n",
    "    # datetimeのカラムを復活させる\n",
    "    tmp_30['datetime'] = tmp_30.index\n",
    "    tmp_30.index = np.arange(len(tmp_30))\n",
    "    tmp_30.head()\n",
    "    return tmp_30"
   ]
  },
  {
   "cell_type": "code",
   "execution_count": 7,
   "metadata": {
    "collapsed": true
   },
   "outputs": [],
   "source": [
    "def add_time_sincos(input_data):\n",
    "    '''\n",
    "    datetimeカラムがあることを前提に月時分の三角関数を足す\n",
    "    '''\n",
    "    input_data['hour'] = input_data['datetime'].map(lambda x: int(x.hour))\n",
    "    input_data['minute'] = input_data['datetime'].map(lambda x: int(x.minute))\n",
    "    input_data['month'] = input_data['datetime'].map(lambda x: int(x.month))\n",
    "    input_data['month_cos'] = input_data['month'].map(lambda x: np.cos(np.pi * x / 12))\n",
    "    input_data['month_sin'] = input_data['month'].map(lambda x: np.sin(np.pi * x / 12))\n",
    "    input_data['hour_cos'] = input_data['hour'].map(lambda x: np.cos(np.pi * x / 24))\n",
    "    input_data['hour_sin'] = input_data['hour'].map(lambda x: np.sin(np.pi * x / 24))\n",
    "    input_data['min_cos'] = input_data['minute'].map(lambda x: np.cos(np.pi * x / 60))\n",
    "    input_data['min_sin'] = input_data['minute'].map(lambda x: np.sin(np.pi * x / 60))\n",
    "    return input_data"
   ]
  },
  {
   "cell_type": "code",
   "execution_count": 8,
   "metadata": {
    "collapsed": true
   },
   "outputs": [],
   "source": [
    "def get_output_data(Y):\n",
    "    '''\n",
    "    全時系列データから00:00 ~ 23:30までのデータごとに分割する\n",
    "    '''\n",
    "    output_list = []\n",
    "    # 一日は48個の時間帯に分けられる\n",
    "    total_size = len(Y) // 48\n",
    "    for i in range(total_size):\n",
    "        each_data = Y[(i*48):(i*48+48)]\n",
    "        reshaped = each_data.reshape(48)\n",
    "        output_list.append(list(reshaped))\n",
    "    output_list = np.array(output_list)\n",
    "    return output_list"
   ]
  },
  {
   "cell_type": "code",
   "execution_count": 9,
   "metadata": {
    "collapsed": true
   },
   "outputs": [],
   "source": [
    "def normalize_array(x):\n",
    "    '''\n",
    "    min, max, min-max正規化を行なった配列(np.array)を返す\n",
    "    '''\n",
    "    x = np.array(x)\n",
    "    x_min = x.min()\n",
    "    x_max = x.max()\n",
    "    normalized = (x - x_min) / (x_max - x_min) \n",
    "    return x_min, x_max, normalized"
   ]
  },
  {
   "cell_type": "code",
   "execution_count": 10,
   "metadata": {
    "collapsed": true
   },
   "outputs": [],
   "source": [
    "def denormalize_array(normalized_x, x_min, x_max):\n",
    "    '''\n",
    "    正規化前のmin, maxを用いて元のスケールに戻す\n",
    "    '''\n",
    "    normalized_x = np.array(normalized_x)\n",
    "    denormalize_array = (normalized_x) * (x_max - x_min) + x_min\n",
    "    return denormalize_array"
   ]
  },
  {
   "cell_type": "code",
   "execution_count": 11,
   "metadata": {
    "collapsed": true
   },
   "outputs": [],
   "source": [
    "def drop_nan(X, Y):\n",
    "    '''\n",
    "    Yにnanが含まれるペアを削除(他のとこにあるdrop_nanとは別物なので注意)\n",
    "    '''\n",
    "    mask = []\n",
    "    for i in range(len(Y)):\n",
    "        if np.isnan(Y[i]).sum() == 0:\n",
    "            mask.append(True)\n",
    "        else:\n",
    "            mask.append(False)\n",
    "    X = X[mask]\n",
    "    Y = Y[mask]\n",
    "    return X, Y"
   ]
  },
  {
   "cell_type": "code",
   "execution_count": 12,
   "metadata": {
    "collapsed": true
   },
   "outputs": [],
   "source": [
    "def calc_mae(X, Y):\n",
    "    '''\n",
    "    X, Yがメモリを食いすぎるのでfor文で計算\n",
    "    '''\n",
    "    mse = 0\n",
    "    for i in range(len(X)):\n",
    "        mse += np.abs(X[i]- Y[i])\n",
    "    return mse/len(X)"
   ]
  },
  {
   "cell_type": "code",
   "execution_count": 13,
   "metadata": {
    "collapsed": true
   },
   "outputs": [],
   "source": [
    "def wv_to_sin(x):\n",
    "    '''\n",
    "    漢字になってる風向データをsinになおす\n",
    "    '''\n",
    "    if x == \"北\":\n",
    "        return -1.0\n",
    "    elif x == \"北西\":\n",
    "        return -0.5\n",
    "    elif x == \"西\":\n",
    "        return 0.0\n",
    "    elif x == \"南西\":\n",
    "        return 0.5\n",
    "    elif x == \"南\":\n",
    "        return 1.0\n",
    "    elif x == \"南東\":\n",
    "        return 0.5\n",
    "    elif x == \"東\":\n",
    "        return 0\n",
    "    else:\n",
    "        return -0.5"
   ]
  },
  {
   "cell_type": "code",
   "execution_count": 14,
   "metadata": {
    "collapsed": true
   },
   "outputs": [],
   "source": [
    "def wv_to_cos(x):\n",
    "    '''\n",
    "    漢字になってる風向データをcosになおす\n",
    "    '''\n",
    "    \n",
    "    if x == \"北\":\n",
    "        return 0.0\n",
    "    elif x == \"北西\":\n",
    "        return 0.5\n",
    "    elif x == \"西\":\n",
    "        return 1.0\n",
    "    elif x == \"南西\":\n",
    "        return 0.5\n",
    "    elif x == \"南\":\n",
    "        return 0.0\n",
    "    elif x == \"南東\":\n",
    "        return -0.5\n",
    "    elif x == \"東\":\n",
    "        return -1.0\n",
    "    else:\n",
    "        return -0.5"
   ]
  },
  {
   "cell_type": "markdown",
   "metadata": {},
   "source": [
    "### **データの準備**"
   ]
  },
  {
   "cell_type": "code",
   "execution_count": 78,
   "metadata": {
    "collapsed": true
   },
   "outputs": [],
   "source": [
    "target_place = 3"
   ]
  },
  {
   "cell_type": "code",
   "execution_count": 79,
   "metadata": {
    "collapsed": true
   },
   "outputs": [],
   "source": [
    "# 発電量データ\n",
    "output_30 = pd.read_csv('data/processed_data/out_put.tsv', delimiter = '\\t')\n",
    "output_30['datetime'] = output_30['datetime'].map(lambda x : pd.to_datetime(x))\n",
    "output_30 = output_30[['datetime', 'SOLA0'+str(target_place)]]"
   ]
  },
  {
   "cell_type": "code",
   "execution_count": 80,
   "metadata": {
    "collapsed": true
   },
   "outputs": [],
   "source": [
    "# 天気予報のデータを実は今まで使ってなかった\n",
    "if target_place == 1 or target_place == 2:\n",
    "    fc_data = pd.read_csv('data/raw_data/forecast_kanagawa.tsv', delimiter = '\\t')\n",
    "    fc_data['date'] = fc_data['date'].map(lambda x : pd.to_datetime(x))\n",
    "elif target_place == 3:\n",
    "    fc_data = pd.read_csv('data/raw_data/forecast_yamanashi.tsv', delimiter = '\\t')\n",
    "    fc_data['date'] = fc_data['date'].map(lambda x : pd.to_datetime(x))\n",
    "else:\n",
    "    raise ValueError(\"invalid input target_place\")"
   ]
  },
  {
   "cell_type": "code",
   "execution_count": 81,
   "metadata": {
    "collapsed": true
   },
   "outputs": [],
   "source": [
    "# 各降水確率, 各時間帯の天気, 気温のみを選択\n",
    "fc_data = fc_data.drop(['weather', 'weather_detail', 'wind', 'wave'], axis=1)"
   ]
  },
  {
   "cell_type": "code",
   "execution_count": 82,
   "metadata": {
    "collapsed": true
   },
   "outputs": [],
   "source": [
    "hours = ['we_00-03', 'we_03-06', 'we_06-09', 'we_09-12', 'we_12-15', 'we_15-18', 'we_18-21', 'we_21-24']\n",
    "for hour in hours:\n",
    "    dummy_df = pd.get_dummies(fc_data[[hour]])\n",
    "    fc_data = pd.concat([fc_data, dummy_df], axis=1, join='inner')\n",
    "    fc_data= fc_data.drop([hour], axis=1)"
   ]
  },
  {
   "cell_type": "code",
   "execution_count": 83,
   "metadata": {
    "collapsed": true
   },
   "outputs": [],
   "source": [
    "hours = ['wv_00-03', 'wv_03-06', 'wv_06-09', 'wv_09-12', 'wv_12-15', 'wv_15-18', 'wv_18-21', 'wv_21-24']\n",
    "for hour in hours:\n",
    "    fc_data[hour+'_cos'] = fc_data[hour].map(lambda x:wv_to_cos(x))\n",
    "    fc_data[hour+'_sin'] = fc_data[hour].map(lambda x:wv_to_sin(x))\n",
    "    fc_data= fc_data.drop([hour], axis=1)"
   ]
  },
  {
   "cell_type": "code",
   "execution_count": 84,
   "metadata": {
    "collapsed": true
   },
   "outputs": [],
   "source": [
    "fc_with_date = add_month_date(fc_data, key=\"date\")"
   ]
  },
  {
   "cell_type": "code",
   "execution_count": 85,
   "metadata": {},
   "outputs": [
    {
     "data": {
      "text/html": [
       "<div>\n",
       "<style>\n",
       "    .dataframe thead tr:only-child th {\n",
       "        text-align: right;\n",
       "    }\n",
       "\n",
       "    .dataframe thead th {\n",
       "        text-align: left;\n",
       "    }\n",
       "\n",
       "    .dataframe tbody tr th {\n",
       "        vertical-align: top;\n",
       "    }\n",
       "</style>\n",
       "<table border=\"1\" class=\"dataframe\">\n",
       "  <thead>\n",
       "    <tr style=\"text-align: right;\">\n",
       "      <th></th>\n",
       "      <th>date</th>\n",
       "      <th>pc_00-06</th>\n",
       "      <th>pc_06-12</th>\n",
       "      <th>pc_12-18</th>\n",
       "      <th>pc_18-24</th>\n",
       "      <th>wc_00-03</th>\n",
       "      <th>wc_03-06</th>\n",
       "      <th>wc_06-09</th>\n",
       "      <th>wc_09-12</th>\n",
       "      <th>wc_12-15</th>\n",
       "      <th>...</th>\n",
       "      <th>wv_12-15_cos</th>\n",
       "      <th>wv_12-15_sin</th>\n",
       "      <th>wv_15-18_cos</th>\n",
       "      <th>wv_15-18_sin</th>\n",
       "      <th>wv_18-21_cos</th>\n",
       "      <th>wv_18-21_sin</th>\n",
       "      <th>wv_21-24_cos</th>\n",
       "      <th>wv_21-24_sin</th>\n",
       "      <th>month_cos</th>\n",
       "      <th>month_sin</th>\n",
       "    </tr>\n",
       "  </thead>\n",
       "  <tbody>\n",
       "    <tr>\n",
       "      <th>0</th>\n",
       "      <td>2012-01-01</td>\n",
       "      <td>10</td>\n",
       "      <td>10</td>\n",
       "      <td>10</td>\n",
       "      <td>20</td>\n",
       "      <td>2</td>\n",
       "      <td>2</td>\n",
       "      <td>2</td>\n",
       "      <td>2</td>\n",
       "      <td>2</td>\n",
       "      <td>...</td>\n",
       "      <td>0.5</td>\n",
       "      <td>0.5</td>\n",
       "      <td>0.5</td>\n",
       "      <td>-0.5</td>\n",
       "      <td>0.5</td>\n",
       "      <td>-0.5</td>\n",
       "      <td>0.5</td>\n",
       "      <td>-0.5</td>\n",
       "      <td>0.965926</td>\n",
       "      <td>0.258819</td>\n",
       "    </tr>\n",
       "    <tr>\n",
       "      <th>1</th>\n",
       "      <td>2012-01-02</td>\n",
       "      <td>10</td>\n",
       "      <td>10</td>\n",
       "      <td>0</td>\n",
       "      <td>10</td>\n",
       "      <td>2</td>\n",
       "      <td>2</td>\n",
       "      <td>3</td>\n",
       "      <td>4</td>\n",
       "      <td>4</td>\n",
       "      <td>...</td>\n",
       "      <td>0.5</td>\n",
       "      <td>-0.5</td>\n",
       "      <td>0.5</td>\n",
       "      <td>-0.5</td>\n",
       "      <td>0.5</td>\n",
       "      <td>-0.5</td>\n",
       "      <td>0.5</td>\n",
       "      <td>-0.5</td>\n",
       "      <td>0.965926</td>\n",
       "      <td>0.258819</td>\n",
       "    </tr>\n",
       "    <tr>\n",
       "      <th>2</th>\n",
       "      <td>2012-01-03</td>\n",
       "      <td>10</td>\n",
       "      <td>0</td>\n",
       "      <td>10</td>\n",
       "      <td>10</td>\n",
       "      <td>2</td>\n",
       "      <td>2</td>\n",
       "      <td>2</td>\n",
       "      <td>2</td>\n",
       "      <td>2</td>\n",
       "      <td>...</td>\n",
       "      <td>0.5</td>\n",
       "      <td>-0.5</td>\n",
       "      <td>0.5</td>\n",
       "      <td>-0.5</td>\n",
       "      <td>0.5</td>\n",
       "      <td>-0.5</td>\n",
       "      <td>0.5</td>\n",
       "      <td>-0.5</td>\n",
       "      <td>0.965926</td>\n",
       "      <td>0.258819</td>\n",
       "    </tr>\n",
       "    <tr>\n",
       "      <th>3</th>\n",
       "      <td>2012-01-04</td>\n",
       "      <td>10</td>\n",
       "      <td>10</td>\n",
       "      <td>20</td>\n",
       "      <td>10</td>\n",
       "      <td>1</td>\n",
       "      <td>1</td>\n",
       "      <td>1</td>\n",
       "      <td>2</td>\n",
       "      <td>3</td>\n",
       "      <td>...</td>\n",
       "      <td>0.5</td>\n",
       "      <td>-0.5</td>\n",
       "      <td>0.5</td>\n",
       "      <td>-0.5</td>\n",
       "      <td>0.5</td>\n",
       "      <td>-0.5</td>\n",
       "      <td>0.5</td>\n",
       "      <td>-0.5</td>\n",
       "      <td>0.965926</td>\n",
       "      <td>0.258819</td>\n",
       "    </tr>\n",
       "    <tr>\n",
       "      <th>4</th>\n",
       "      <td>2012-01-05</td>\n",
       "      <td>0</td>\n",
       "      <td>0</td>\n",
       "      <td>0</td>\n",
       "      <td>0</td>\n",
       "      <td>1</td>\n",
       "      <td>1</td>\n",
       "      <td>2</td>\n",
       "      <td>2</td>\n",
       "      <td>3</td>\n",
       "      <td>...</td>\n",
       "      <td>0.5</td>\n",
       "      <td>-0.5</td>\n",
       "      <td>0.5</td>\n",
       "      <td>-0.5</td>\n",
       "      <td>0.5</td>\n",
       "      <td>-0.5</td>\n",
       "      <td>0.5</td>\n",
       "      <td>-0.5</td>\n",
       "      <td>0.965926</td>\n",
       "      <td>0.258819</td>\n",
       "    </tr>\n",
       "  </tbody>\n",
       "</table>\n",
       "<p>5 rows × 73 columns</p>\n",
       "</div>"
      ],
      "text/plain": [
       "        date  pc_00-06  pc_06-12  pc_12-18  pc_18-24  wc_00-03  wc_03-06  \\\n",
       "0 2012-01-01        10        10        10        20         2         2   \n",
       "1 2012-01-02        10        10         0        10         2         2   \n",
       "2 2012-01-03        10         0        10        10         2         2   \n",
       "3 2012-01-04        10        10        20        10         1         1   \n",
       "4 2012-01-05         0         0         0         0         1         1   \n",
       "\n",
       "   wc_06-09  wc_09-12  wc_12-15    ...      wv_12-15_cos  wv_12-15_sin  \\\n",
       "0         2         2         2    ...               0.5           0.5   \n",
       "1         3         4         4    ...               0.5          -0.5   \n",
       "2         2         2         2    ...               0.5          -0.5   \n",
       "3         1         2         3    ...               0.5          -0.5   \n",
       "4         2         2         3    ...               0.5          -0.5   \n",
       "\n",
       "   wv_15-18_cos  wv_15-18_sin  wv_18-21_cos  wv_18-21_sin  wv_21-24_cos  \\\n",
       "0           0.5          -0.5           0.5          -0.5           0.5   \n",
       "1           0.5          -0.5           0.5          -0.5           0.5   \n",
       "2           0.5          -0.5           0.5          -0.5           0.5   \n",
       "3           0.5          -0.5           0.5          -0.5           0.5   \n",
       "4           0.5          -0.5           0.5          -0.5           0.5   \n",
       "\n",
       "   wv_21-24_sin  month_cos  month_sin  \n",
       "0          -0.5   0.965926   0.258819  \n",
       "1          -0.5   0.965926   0.258819  \n",
       "2          -0.5   0.965926   0.258819  \n",
       "3          -0.5   0.965926   0.258819  \n",
       "4          -0.5   0.965926   0.258819  \n",
       "\n",
       "[5 rows x 73 columns]"
      ]
     },
     "execution_count": 85,
     "metadata": {},
     "output_type": "execute_result"
    }
   ],
   "source": [
    "fc_with_date.head()"
   ]
  },
  {
   "cell_type": "code",
   "execution_count": 86,
   "metadata": {
    "collapsed": true
   },
   "outputs": [],
   "source": [
    "# 発電所近くのamedas\n",
    "# アメダスデータの読み込み\n",
    "if target_place == 1 or target_place == 2:\n",
    "    # 対象アメダスは横浜アメダス, amd_46106\n",
    "    # 各amdidはamd_masterに記載されている\n",
    "    target_amd_data = pd.read_csv('data/raw_data/amd_46106.tsv', delimiter = '\\t')\n",
    "    target_amd_data = set_time(target_amd_data, 'datetime')\n",
    "    target_amd_data['datetime'] = target_amd_data['datetime'].map(lambda x : pd.to_datetime(x))\n",
    "elif target_place == 3:\n",
    "    # 甲府アメダスのデータを使って予測する, amd_49142\n",
    "    # 各amdidはamd_masterに記載されている\n",
    "    target_amd_data = pd.read_csv('data/raw_data/amd_49142.tsv', delimiter = '\\t')\n",
    "    target_amd_data = set_time(target_amd_data, 'datetime')\n",
    "    target_amd_data['datetime'] = target_amd_data['datetime'].map(lambda x : pd.to_datetime(x))\n",
    "else:\n",
    "    raise ValueError(\"invalid input target_place\")"
   ]
  },
  {
   "cell_type": "code",
   "execution_count": 87,
   "metadata": {
    "collapsed": true
   },
   "outputs": [],
   "source": [
    "def get_30(tmp_data):\n",
    "    '''\n",
    "    必要なカラムだけ拾ってきて30分ごのデータに整形\n",
    "    '''\n",
    "    tmp_data = tmp_data[[\"datetime\", \"pr\", \"max_ws\", \"ave_ws\", \"max_tp\", \"min_tp\", \"sl\"]]\n",
    "    \n",
    "    # 欠損値を一つ前の値で置換/output_data\n",
    "    tmp_data = tmp_data.fillna(method='bfill')\n",
    "    tmp_30 = tmp_data.set_index('datetime').groupby(pd.TimeGrouper(freq='1800s', closed='left')).sum()\n",
    "\n",
    "    # datetimeのカラムを復活させる\n",
    "    tmp_30['datetime'] = tmp_30.index\n",
    "    tmp_30.index = np.arange(len(tmp_30))\n",
    "    tmp_30.head()\n",
    "    return tmp_30"
   ]
  },
  {
   "cell_type": "code",
   "execution_count": 88,
   "metadata": {
    "collapsed": true
   },
   "outputs": [],
   "source": [
    "target_amd_data = target_amd_data.fillna(method='bfill')\n",
    "\n",
    "result = get_30(target_amd_data)"
   ]
  },
  {
   "cell_type": "code",
   "execution_count": 89,
   "metadata": {},
   "outputs": [],
   "source": [
    "# モデル構築のためにデータを分割する\n",
    "\n",
    "# 学習に必要なデータ\n",
    "# 前日の気象予報のデータで翌日の0:00 ~ 23:30を予測する\n",
    "train_x_s_idx = fc_data[fc_data['date'] == pd.to_datetime('2012-01-01')].index[0]\n",
    "train_x_e_idx = fc_data[fc_data['date'] == pd.to_datetime('2015-12-31')].index[0]\n",
    "train_y_s_idx = result[result['datetime'] == pd.to_datetime('2012-01-01 00:00')].index[0]\n",
    "train_y_e_idx = result[result['datetime'] == pd.to_datetime('2015-12-31 23:30')].index[0]\n",
    "\n",
    "output_kwh = result[\"sl\"][train_y_s_idx:train_y_e_idx+1]\n",
    "input_data = fc_data.drop([\"date\"], axis=1)[train_x_s_idx:train_x_e_idx+1]\n",
    "\n",
    "# 予測に必要なデータ\n",
    "# 前日の00:00 ~ 20:00のデータで翌日の0:00 ~ 23:30を予測する\n",
    "test_x_s_idx = fc_data[fc_data[\"date\"] == pd.to_datetime('2016-01-01')].index[0]\n",
    "test_x_e_idx = fc_data[fc_data[\"date\"] == pd.to_datetime('2017-3-31')].index[0]\n",
    "\n",
    "test_input_data = fc_data.drop([\"date\"], axis=1)[test_x_s_idx:test_x_e_idx+1]"
   ]
  },
  {
   "cell_type": "code",
   "execution_count": 90,
   "metadata": {
    "collapsed": true
   },
   "outputs": [],
   "source": [
    "# MLPに突っ込むための準備をする\n",
    "\n",
    "# min-max正規化しておく\n",
    "normalized_input = (input_data - input_data.min()) / (input_data.max() - input_data.min())\n",
    "normalized_input = np.array(normalized_input)\n",
    "normalized_kwh = (output_kwh - output_kwh.min()) /( output_kwh.max() - output_kwh.min())\n",
    "normalized_kwh = np.array(normalized_kwh)\n",
    "\n",
    "# input_dataに関しては正規化すればそのまま使える\n",
    "input_list = normalized_input\n",
    "kwh_list = get_output_data(normalized_kwh)\n",
    "\n",
    "# outputがnanであれば取り除く\n",
    "filtered_input_list, filtered_kwh_list = drop_nan(input_list, kwh_list)\n",
    "\n",
    "# testデータの入力を用意\n",
    "normalized_test_input = (test_input_data - input_data.min()) / (input_data.max() - input_data.min())\n",
    "normalized_test_input = np.array(normalized_test_input)\n",
    "\n",
    "test_input_list = normalized_test_input\n",
    "\n",
    "# denormalize用\n",
    "kwh_max = float(output_kwh.max())\n",
    "kwh_min = float(output_kwh.min())\n",
    "\n",
    "# MLPに突っ込むためにデータを整形\n",
    "X = np.array(filtered_input_list).reshape(filtered_input_list.shape[0], filtered_input_list.shape[1])\n",
    "all_X = np.array(input_list).reshape(input_list.shape[0], input_list.shape[1])\n",
    "KWH = np.array(filtered_kwh_list).reshape(filtered_kwh_list.shape[0],filtered_kwh_list.shape[1])\n",
    "X_predict = np.array(test_input_list).reshape(test_input_list.shape[0], test_input_list.shape[1])"
   ]
  },
  {
   "cell_type": "markdown",
   "metadata": {},
   "source": [
    "### **モデルの構築**"
   ]
  },
  {
   "cell_type": "markdown",
   "metadata": {},
   "source": [
    "条件:翌日の気温を予測するには前日の20:00までの気象情報しか使えない\n",
    "\n",
    "モデル:翌日の気象予報だけのデータで翌日の発電量を予測する\n",
    "\n",
    "入力:対象日の気象予報のデータ\n",
    "\n",
    "出力:0:00, 0:30, .... , 23:00, 23:30の気温の配列"
   ]
  },
  {
   "cell_type": "code",
   "execution_count": 91,
   "metadata": {},
   "outputs": [
    {
     "data": {
      "text/plain": [
       "'\\nepochs = [1000, 2000, 3000, 4000, 5000]\\nfor epoch in epochs:\\n    \\n    model_name = \"targetplace_\"+str(target_place)+\"_kwh_all_wfc_month_one_layer_\"+str(epoch)\\n    \\n    try:\\n        os.mkdir(\\'./data/model/\\'+model_name)\\n        print(\"make save directory\")\\n    except :\\n        print(\"directory already exists\")\\n\\n    print(model_name) \\n    \\n    mlp_model = MLP.MLP(X, KWH, epochs = epoch, hidden_size = 100, batch_size = 100, model_name = model_name)\\n    \\n    mlp_model.train()\\n'"
      ]
     },
     "execution_count": 91,
     "metadata": {},
     "output_type": "execute_result"
    }
   ],
   "source": [
    "'''\n",
    "epochs = [1000, 2000, 3000, 4000, 5000]\n",
    "for epoch in epochs:\n",
    "    \n",
    "    model_name = \"targetplace_\"+str(target_place)+\"_kwh_all_wfc_month_one_layer_\"+str(epoch)\n",
    "    \n",
    "    try:\n",
    "        os.mkdir('./data/model/'+model_name)\n",
    "        print(\"make save directory\")\n",
    "    except :\n",
    "        print(\"directory already exists\")\n",
    "\n",
    "    print(model_name) \n",
    "    \n",
    "    mlp_model = MLP.MLP(X, KWH, epochs = epoch, hidden_size = 100, batch_size = 100, model_name = model_name)\n",
    "    \n",
    "    mlp_model.train()\n",
    "'''"
   ]
  },
  {
   "cell_type": "code",
   "execution_count": 118,
   "metadata": {},
   "outputs": [
    {
     "name": "stdout",
     "output_type": "stream",
     "text": [
      "make save directory\n",
      "targetplace_3_sl_fc_with_wc_month_one_layer_2000\n"
     ]
    }
   ],
   "source": [
    "epochs = 8000\n",
    "model_name = \"targetplace_\"+str(target_place)+\"_sl_fc_with_wc_month_one_layer_\"+str(epochs)\n",
    "try:\n",
    "    os.mkdir('./data/model/'+model_name)\n",
    "    print(\"make save directory\")\n",
    "except :\n",
    "    print(\"directory already exists\")\n",
    "\n",
    "print(model_name)"
   ]
  },
  {
   "cell_type": "code",
   "execution_count": 119,
   "metadata": {
    "collapsed": true
   },
   "outputs": [],
   "source": [
    "mlp_model = MLP.MLP(X, KWH, epochs = epochs, hidden_size = 50, batch_size = 100, model_name = model_name)"
   ]
  },
  {
   "cell_type": "code",
   "execution_count": 120,
   "metadata": {},
   "outputs": [
    {
     "name": "stdout",
     "output_type": "stream",
     "text": [
      "train#0, validation loss: 2.557787e-01\n",
      "train#100, validation loss: 5.583098e-02\n",
      "train#200, validation loss: 5.138665e-02\n",
      "train#300, validation loss: 4.894051e-02\n",
      "train#400, validation loss: 4.673415e-02\n",
      "train#500, validation loss: 4.669630e-02\n",
      "train#600, validation loss: 4.560695e-02\n",
      "train#700, validation loss: 4.565859e-02\n",
      "train#800, validation loss: 4.434660e-02\n",
      "train#900, validation loss: 4.390524e-02\n",
      "train#1000, validation loss: 4.333208e-02\n",
      "train#1100, validation loss: 4.296109e-02\n",
      "train#1200, validation loss: 4.363914e-02\n",
      "train#1300, validation loss: 4.173682e-02\n",
      "train#1400, validation loss: 4.123487e-02\n",
      "train#1500, validation loss: 4.072471e-02\n",
      "train#1600, validation loss: 4.029156e-02\n",
      "train#1700, validation loss: 3.978846e-02\n",
      "train#1800, validation loss: 3.910906e-02\n",
      "train#1900, validation loss: 3.946202e-02\n"
     ]
    }
   ],
   "source": [
    "mlp_model.train()"
   ]
  },
  {
   "cell_type": "code",
   "execution_count": 121,
   "metadata": {
    "collapsed": true
   },
   "outputs": [],
   "source": [
    "predictions = mlp_model.predict(X)[0]\n",
    "predictions = predictions.reshape(predictions.shape[0] * predictions.shape[1])\n",
    "processed_prediction = denormalize_array(predictions, kwh_min, kwh_max)"
   ]
  },
  {
   "cell_type": "code",
   "execution_count": 122,
   "metadata": {
    "collapsed": true
   },
   "outputs": [],
   "source": [
    "true = denormalize_array(filtered_kwh_list.reshape(filtered_kwh_list.shape[0] * filtered_kwh_list.shape[1]), kwh_min, kwh_max)"
   ]
  },
  {
   "cell_type": "code",
   "execution_count": 123,
   "metadata": {},
   "outputs": [
    {
     "data": {
      "text/plain": [
       "<matplotlib.text.Text at 0x1338cadd8>"
      ]
     },
     "execution_count": 123,
     "metadata": {},
     "output_type": "execute_result"
    },
    {
     "data": {
      "image/png": "[encoded data removed]",
      "text/plain": [
       "<matplotlib.figure.Figure at 0x123409630>"
      ]
     },
     "metadata": {},
     "output_type": "display_data"
    }
   ],
   "source": [
    "plt.figure(figsize=(20, 5))\n",
    "plt.plot(processed_prediction[0:1000], label = \"prediction\")\n",
    "plt.plot(true[0:1000], label = \"true\")\n",
    "plt.legend()\n",
    "plt.title(\"predict kwh\")"
   ]
  },
  {
   "cell_type": "code",
   "execution_count": 124,
   "metadata": {},
   "outputs": [
    {
     "name": "stdout",
     "output_type": "stream",
     "text": [
      "training mae : 169.169553243\n"
     ]
    }
   ],
   "source": [
    "print('training mae :', calc_mae(processed_prediction, true))"
   ]
  },
  {
   "cell_type": "code",
   "execution_count": 99,
   "metadata": {
    "collapsed": true
   },
   "outputs": [],
   "source": [
    "predictions = mlp_model.predict(all_X)[0]\n",
    "predictions = predictions.reshape(predictions.shape[0] * predictions.shape[1])\n",
    "processed_prediction = denormalize_array(predictions, kwh_min, kwh_max)"
   ]
  },
  {
   "cell_type": "code",
   "execution_count": 100,
   "metadata": {
    "collapsed": true
   },
   "outputs": [],
   "source": [
    "try:\n",
    "    predict_data = pd.read_csv('data/predicted_data/predict_train_sl_'+str(target_place)+'.tsv', delimiter='\\t')\n",
    "    \n",
    "except FileNotFoundError:\n",
    "    s_idx = result[result['datetime'] == pd.to_datetime('2012/01/02 00:00')].index[0]\n",
    "    e_idx = result[result['datetime'] == pd.to_datetime('2015/12/31 23:30')].index[0]\n",
    "    predict_data = pd.DataFrame({\"datetime\":result['datetime'][s_idx:e_idx+1]})\n",
    "    predict_data.index = np.arange(len(predict_data))\n",
    "    predict_data.to_csv('data/predicted_data/predict_train_sl_'+str(target_place)+'.tsv', sep = '\\t', index=False)"
   ]
  },
  {
   "cell_type": "code",
   "execution_count": 101,
   "metadata": {
    "collapsed": true
   },
   "outputs": [],
   "source": [
    "# 2012/01/02 00:00 ~ 2015/12/31 23:30の予測データを書き出す\n",
    "predict_data[model_name] = np.append(processed_prediction[48:-1], processed_prediction[-1])"
   ]
  },
  {
   "cell_type": "code",
   "execution_count": 102,
   "metadata": {
    "collapsed": true
   },
   "outputs": [],
   "source": [
    "predict_data.to_csv('data/predicted_data/predict_train_sl_'+str(target_place)+'.tsv', sep = '\\t', index=False)"
   ]
  },
  {
   "cell_type": "code",
   "execution_count": 103,
   "metadata": {
    "collapsed": true
   },
   "outputs": [],
   "source": [
    "validation = mlp_model.predict(mlp_model.X_val)[0]\n",
    "validation = validation.reshape(validation.shape[0] * validation.shape[1])\n",
    "processed_validation = denormalize_array(validation, kwh_min, kwh_max)"
   ]
  },
  {
   "cell_type": "code",
   "execution_count": 104,
   "metadata": {
    "collapsed": true
   },
   "outputs": [],
   "source": [
    "Y_val = mlp_model.Y_val\n",
    "Y_val = Y_val.reshape(Y_val.shape[0] * Y_val.shape[1])\n",
    "Y_val = denormalize_array(Y_val, kwh_min, kwh_max)"
   ]
  },
  {
   "cell_type": "code",
   "execution_count": 111,
   "metadata": {},
   "outputs": [
    {
     "data": {
      "text/plain": [
       "<matplotlib.text.Text at 0x12341e630>"
      ]
     },
     "execution_count": 111,
     "metadata": {},
     "output_type": "execute_result"
    },
    {
     "data": {
      "image/png": "[encoded data removed]",
      "text/plain": [
       "<matplotlib.figure.Figure at 0x1236bca20>"
      ]
     },
     "metadata": {},
     "output_type": "display_data"
    }
   ],
   "source": [
    "plt.figure(figsize=(20, 5))\n",
    "plt.plot(processed_validation[0:1000], label = \"prediction\")\n",
    "plt.plot(Y_val[0:1000], label = \"true\")\n",
    "plt.xlabel(\"hours\")\n",
    "plt.ylabel(\"sl\")\n",
    "plt.legend()\n",
    "plt.title(\"predict sl\")"
   ]
  },
  {
   "cell_type": "code",
   "execution_count": 106,
   "metadata": {},
   "outputs": [
    {
     "name": "stdout",
     "output_type": "stream",
     "text": [
      "validation mae : 59.4030289533\n"
     ]
    }
   ],
   "source": [
    "print('validation mae :', calc_mae(processed_validation, Y_val))"
   ]
  },
  {
   "cell_type": "code",
   "execution_count": 107,
   "metadata": {
    "collapsed": true
   },
   "outputs": [],
   "source": [
    "# X_predictによる予測\n",
    "predictions = mlp_model.predict(X_predict)[0]\n",
    "predictions = predictions.reshape(predictions.shape[0] * predictions.shape[1])\n",
    "processed_prediction = denormalize_array(predictions, kwh_min, kwh_max)"
   ]
  },
  {
   "cell_type": "code",
   "execution_count": 108,
   "metadata": {
    "collapsed": true
   },
   "outputs": [],
   "source": [
    "try:\n",
    "    predict_data = pd.read_csv('data/predicted_data/predict_sl_'+str(target_place)+'.tsv', delimiter='\\t')\n",
    "    \n",
    "except FileNotFoundError:\n",
    "    s_idx = result[result['datetime'] == pd.to_datetime('2016/01/01 00:00')].index[0]\n",
    "    e_idx = result[result['datetime'] == pd.to_datetime('2017/3/31 23:30')].index[0]\n",
    "    predict_data = pd.DataFrame({\"datetime\":result['datetime'][s_idx:e_idx+1]})\n",
    "    predict_data.index = np.arange(len(predict_data))\n",
    "    predict_data.to_csv('data/predicted_data/predict_sl_'+str(target_place)+'.tsv', sep = '\\t', index=False)"
   ]
  },
  {
   "cell_type": "code",
   "execution_count": 109,
   "metadata": {
    "collapsed": true
   },
   "outputs": [],
   "source": [
    "# 2016/01/01 00:00 ~ 2017/3/31 23:30の予測データを書き出す\n",
    "predict_data[model_name] = processed_prediction"
   ]
  },
  {
   "cell_type": "code",
   "execution_count": 110,
   "metadata": {
    "collapsed": true
   },
   "outputs": [],
   "source": [
    "predict_data.to_csv('data/predicted_data/predict_sl_'+str(target_place)+'.tsv', sep = '\\t', index=False)"
   ]
  },
  {
   "cell_type": "code",
   "execution_count": null,
   "metadata": {
    "collapsed": true
   },
   "outputs": [],
   "source": []
  },
  {
   "cell_type": "code",
   "execution_count": null,
   "metadata": {
    "collapsed": true
   },
   "outputs": [],
   "source": []
  }
 ],
 "metadata": {
  "kernelspec": {
   "display_name": "Python 3",
   "language": "python",
   "name": "python3"
  },
  "language_info": {
   "codemirror_mode": {
    "name": "ipython",
    "version": 3
   },
   "file_extension": ".py",
   "mimetype": "text/x-python",
   "name": "python",
   "nbconvert_exporter": "python",
   "pygments_lexer": "ipython3",
   "version": "3.5.3"
  }
 },
 "nbformat": 4,
 "nbformat_minor": 2
}
