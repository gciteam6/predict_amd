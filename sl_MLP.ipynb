{
 "cells": [
  {
   "cell_type": "markdown",
   "metadata": {},
   "source": [
    "# **前日の20:00までのデータを用いて翌日の00:00~23:30までの日射時間(sl)をMLPで予測する**"
   ]
  },
  {
   "cell_type": "markdown",
   "metadata": {},
   "source": [
    "### **必要な関数・ライブラリ**"
   ]
  },
  {
   "cell_type": "code",
   "execution_count": 1,
   "metadata": {
    "collapsed": true
   },
   "outputs": [],
   "source": [
    "# データ加工・処理・分析モジュール\n",
    "import numpy as np\n",
    "import pandas as pd\n",
    "import tensorflow as tf\n",
    "import matplotlib.pyplot as plt\n",
    "from sklearn.model_selection import train_test_split\n",
    "import os\n",
    "import random\n",
    "\n",
    "%matplotlib inline\n",
    "\n",
    "import time"
   ]
  },
  {
   "cell_type": "code",
   "execution_count": 2,
   "metadata": {
    "collapsed": true
   },
   "outputs": [],
   "source": [
    "def set_time(dataframe, col_name):\n",
    "    '''\n",
    "    to_datetimeを使うための前処理\n",
    "    '''\n",
    "    dataframe[col_name] = dataframe[col_name].map(lambda x : transform_time(x))\n",
    "    return dataframe"
   ]
  },
  {
   "cell_type": "code",
   "execution_count": 3,
   "metadata": {
    "collapsed": true
   },
   "outputs": [],
   "source": [
    "def transform_time(x):\n",
    "    '''\n",
    "    set_time内で使う関数\n",
    "    to_datetimeで24時をサポートしないので00に変更する処理\n",
    "    '''\n",
    "    str_x = str(x)\n",
    "    res = ''\n",
    "    if str(x)[8:10] == '24':\n",
    "        res = str_x[0:4] + '-' + str_x[4:6] + '-' + str_x[6:8] + ' 00:'+str_x[10:12] \n",
    "    else:\n",
    "        res = str_x[0:4] + '-' + str_x[4:6] + '-' + str_x[6:8] + ' '+ str_x[8:10] +':'+str_x[10:12]\n",
    "    return res"
   ]
  },
  {
   "cell_type": "code",
   "execution_count": 4,
   "metadata": {
    "collapsed": true
   },
   "outputs": [],
   "source": [
    "def normalize_array(x):\n",
    "    '''\n",
    "    min, max, min-max正規化を行なった配列(np.array)を返す\n",
    "    '''\n",
    "    x = np.array(x)\n",
    "    x_min = x.min()\n",
    "    x_max = x.max()\n",
    "    normalized = (x - x_min) / (x_max - x_min) \n",
    "    return x_min, x_max, normalized"
   ]
  },
  {
   "cell_type": "code",
   "execution_count": 5,
   "metadata": {
    "collapsed": true
   },
   "outputs": [],
   "source": [
    "def denormalize_array(normalized_x, x_min, x_max):\n",
    "    '''\n",
    "    正規化前のmin, maxを用いて元のスケールに戻す\n",
    "    '''\n",
    "    normalized_x = np.array(normalized_x)\n",
    "    denormalize_array = (normalized_x) * (x_max - x_min) + x_min\n",
    "    return denormalize_array"
   ]
  },
  {
   "cell_type": "code",
   "execution_count": 6,
   "metadata": {
    "collapsed": true
   },
   "outputs": [],
   "source": [
    "def get_input_data(X):\n",
    "    '''\n",
    "    全時系列データから00:00 ~ 20:00までのデータごとに分割する\n",
    "    '''\n",
    "    input_list = []\n",
    "    # 一日は48個の時間帯に分けられる\n",
    "    total_size = len(X) // 48\n",
    "    reshaped_size = X[0:41].shape[0] * X[0:41].shape[1]\n",
    "    for i in range(total_size+1):\n",
    "        each_data = X[(i*48):(i*48+41)]\n",
    "        reshaped = each_data.reshape(reshaped_size)\n",
    "        input_list.append(list(reshaped))\n",
    "    return input_list"
   ]
  },
  {
   "cell_type": "code",
   "execution_count": 7,
   "metadata": {
    "collapsed": true
   },
   "outputs": [],
   "source": [
    "def get_output_data(Y):\n",
    "    '''\n",
    "    全時系列データから00:00 ~ 23:30までのデータごとに分割する\n",
    "    '''\n",
    "    output_list = []\n",
    "    # 一日は48個の時間帯に分けられる\n",
    "    total_size = len(Y) // 48\n",
    "    for i in range(total_size):\n",
    "        each_data = Y[(i*48):(i*48+48)]\n",
    "        reshaped = each_data.reshape(48)\n",
    "        output_list.append(list(reshaped))\n",
    "    return output_list"
   ]
  },
  {
   "cell_type": "code",
   "execution_count": 8,
   "metadata": {
    "collapsed": true
   },
   "outputs": [],
   "source": [
    "def drop_nan(X, Y):\n",
    "    '''\n",
    "    正解データがnanであるデータの組を削除\n",
    "    '''\n",
    "    mask = np.isnan(Y)\n",
    "    X = X[~mask]\n",
    "    Y = Y[~mask]\n",
    "    return X, Y"
   ]
  },
  {
   "cell_type": "code",
   "execution_count": 9,
   "metadata": {
    "collapsed": true
   },
   "outputs": [],
   "source": [
    "def calc_mae(X, Y):\n",
    "    '''\n",
    "    X, Yがメモリを食いすぎるのでfor文で計算\n",
    "    '''\n",
    "    mse = 0\n",
    "    for i in range(len(X)):\n",
    "        mse += np.abs(X[i]- Y[i])\n",
    "    return mse/len(X)"
   ]
  },
  {
   "cell_type": "markdown",
   "metadata": {},
   "source": [
    "### **データの準備**"
   ]
  },
  {
   "cell_type": "code",
   "execution_count": 10,
   "metadata": {},
   "outputs": [
    {
     "name": "stdout",
     "output_type": "stream",
     "text": [
      "file exists\n"
     ]
    }
   ],
   "source": [
    "# 予測する発電所番号を決める\n",
    "target_place = 1\n",
    "chunk_size = 12\n",
    "model_name = \"model_\"+str(target_place)+'_chunk_'+str(chunk_size)\n",
    "try:\n",
    "    os.mkdir('./data/'+model_name)\n",
    "except:\n",
    "    print(\"file exists\")"
   ]
  },
  {
   "cell_type": "code",
   "execution_count": 21,
   "metadata": {
    "collapsed": true
   },
   "outputs": [],
   "source": [
    "# アメダスデータの読み込み\n",
    "if target_place == 1 or target_place == 2:\n",
    "    # 名古屋アメダスのデータを使って予測する, amd_51106\n",
    "    # 対象アメダスは横浜アメダス, amd_46106\n",
    "    # 各amdidはamd_masterに記載されている\n",
    "    amd_data = pd.read_csv('data/raw_data/amd_51106.tsv', delimiter = '\\t')\n",
    "    amd_data = set_time(amd_data, 'datetime')\n",
    "    amd_data['datetime'] = amd_data['datetime'].map(lambda x : pd.to_datetime(x))\n",
    "    target_amd_data = pd.read_csv('data/raw_data/amd_46106.tsv', delimiter = '\\t')\n",
    "    target_amd_data = set_time(target_amd_data, 'datetime')\n",
    "    target_amd_data['datetime'] = target_amd_data['datetime'].map(lambda x : pd.to_datetime(x))\n",
    "elif target_place == 3:\n",
    "    # 甲府アメダスのデータを使って予測する, amd_49142\n",
    "    # 各amdidはamd_masterに記載されている\n",
    "    amd_data = pd.read_csv('data/raw_data/amd_49142.tsv', delimiter = '\\t')\n",
    "    amd_data = set_time(amd_data, 'datetime')\n",
    "    amd_data['datetime'] = amd_data['datetime'].map(lambda x : pd.to_datetime(x))\n",
    "else:\n",
    "    raise ValueError(\"invalid input target_place_num\")"
   ]
  },
  {
   "cell_type": "code",
   "execution_count": 24,
   "metadata": {},
   "outputs": [
    {
     "data": {
      "text/html": [
       "<div>\n",
       "<style>\n",
       "    .dataframe thead tr:only-child th {\n",
       "        text-align: right;\n",
       "    }\n",
       "\n",
       "    .dataframe thead th {\n",
       "        text-align: left;\n",
       "    }\n",
       "\n",
       "    .dataframe tbody tr th {\n",
       "        vertical-align: top;\n",
       "    }\n",
       "</style>\n",
       "<table border=\"1\" class=\"dataframe\">\n",
       "  <thead>\n",
       "    <tr style=\"text-align: right;\">\n",
       "      <th></th>\n",
       "      <th>pr</th>\n",
       "      <th>max_ws</th>\n",
       "      <th>ave_ws</th>\n",
       "      <th>max_tp</th>\n",
       "      <th>min_tp</th>\n",
       "      <th>sl</th>\n",
       "      <th>datetime</th>\n",
       "    </tr>\n",
       "  </thead>\n",
       "  <tbody>\n",
       "    <tr>\n",
       "      <th>0</th>\n",
       "      <td>0</td>\n",
       "      <td>68.0</td>\n",
       "      <td>41.0</td>\n",
       "      <td>73.0</td>\n",
       "      <td>68.0</td>\n",
       "      <td>0.0</td>\n",
       "      <td>2012-01-01 00:00:00</td>\n",
       "    </tr>\n",
       "    <tr>\n",
       "      <th>1</th>\n",
       "      <td>0</td>\n",
       "      <td>81.0</td>\n",
       "      <td>56.0</td>\n",
       "      <td>46.0</td>\n",
       "      <td>39.0</td>\n",
       "      <td>0.0</td>\n",
       "      <td>2012-01-01 00:30:00</td>\n",
       "    </tr>\n",
       "    <tr>\n",
       "      <th>2</th>\n",
       "      <td>0</td>\n",
       "      <td>81.0</td>\n",
       "      <td>52.0</td>\n",
       "      <td>43.0</td>\n",
       "      <td>40.0</td>\n",
       "      <td>0.0</td>\n",
       "      <td>2012-01-01 01:00:00</td>\n",
       "    </tr>\n",
       "    <tr>\n",
       "      <th>3</th>\n",
       "      <td>0</td>\n",
       "      <td>67.0</td>\n",
       "      <td>40.0</td>\n",
       "      <td>44.0</td>\n",
       "      <td>39.0</td>\n",
       "      <td>0.0</td>\n",
       "      <td>2012-01-01 01:30:00</td>\n",
       "    </tr>\n",
       "    <tr>\n",
       "      <th>4</th>\n",
       "      <td>0</td>\n",
       "      <td>33.0</td>\n",
       "      <td>20.0</td>\n",
       "      <td>43.0</td>\n",
       "      <td>37.0</td>\n",
       "      <td>0.0</td>\n",
       "      <td>2012-01-01 02:00:00</td>\n",
       "    </tr>\n",
       "  </tbody>\n",
       "</table>\n",
       "</div>"
      ],
      "text/plain": [
       "   pr  max_ws  ave_ws  max_tp  min_tp   sl            datetime\n",
       "0   0    68.0    41.0    73.0    68.0  0.0 2012-01-01 00:00:00\n",
       "1   0    81.0    56.0    46.0    39.0  0.0 2012-01-01 00:30:00\n",
       "2   0    81.0    52.0    43.0    40.0  0.0 2012-01-01 01:00:00\n",
       "3   0    67.0    40.0    44.0    39.0  0.0 2012-01-01 01:30:00\n",
       "4   0    33.0    20.0    43.0    37.0  0.0 2012-01-01 02:00:00"
      ]
     },
     "execution_count": 24,
     "metadata": {},
     "output_type": "execute_result"
    }
   ],
   "source": [
    "# 30分毎のデータに編集\n",
    "amd_data = amd_data[[\"datetime\", \"pr\", \"max_ws\", \"ave_ws\", \"max_tp\", \"min_tp\", \"sl\"]]\n",
    "\n",
    "# 欠損値を一つ前の値で置換/output_data\n",
    "amd_data = amd_data.fillna(method='bfill')\n",
    "amd_30 = amd_data.set_index('datetime').groupby(pd.TimeGrouper(freq='1800s', closed='left')).sum()\n",
    "\n",
    "# datetimeのカラムを復活させる\n",
    "amd_30['datetime'] = amd_30.index\n",
    "amd_30.index = np.arange(len(amd_30))\n",
    "amd_30.head()"
   ]
  },
  {
   "cell_type": "code",
   "execution_count": 27,
   "metadata": {},
   "outputs": [
    {
     "data": {
      "text/html": [
       "<div>\n",
       "<style>\n",
       "    .dataframe thead tr:only-child th {\n",
       "        text-align: right;\n",
       "    }\n",
       "\n",
       "    .dataframe thead th {\n",
       "        text-align: left;\n",
       "    }\n",
       "\n",
       "    .dataframe tbody tr th {\n",
       "        vertical-align: top;\n",
       "    }\n",
       "</style>\n",
       "<table border=\"1\" class=\"dataframe\">\n",
       "  <thead>\n",
       "    <tr style=\"text-align: right;\">\n",
       "      <th></th>\n",
       "      <th>sl</th>\n",
       "      <th>datetime</th>\n",
       "    </tr>\n",
       "  </thead>\n",
       "  <tbody>\n",
       "    <tr>\n",
       "      <th>0</th>\n",
       "      <td>0.0</td>\n",
       "      <td>2012-01-01 00:00:00</td>\n",
       "    </tr>\n",
       "    <tr>\n",
       "      <th>1</th>\n",
       "      <td>0.0</td>\n",
       "      <td>2012-01-01 00:30:00</td>\n",
       "    </tr>\n",
       "    <tr>\n",
       "      <th>2</th>\n",
       "      <td>0.0</td>\n",
       "      <td>2012-01-01 01:00:00</td>\n",
       "    </tr>\n",
       "    <tr>\n",
       "      <th>3</th>\n",
       "      <td>0.0</td>\n",
       "      <td>2012-01-01 01:30:00</td>\n",
       "    </tr>\n",
       "    <tr>\n",
       "      <th>4</th>\n",
       "      <td>0.0</td>\n",
       "      <td>2012-01-01 02:00:00</td>\n",
       "    </tr>\n",
       "  </tbody>\n",
       "</table>\n",
       "</div>"
      ],
      "text/plain": [
       "    sl            datetime\n",
       "0  0.0 2012-01-01 00:00:00\n",
       "1  0.0 2012-01-01 00:30:00\n",
       "2  0.0 2012-01-01 01:00:00\n",
       "3  0.0 2012-01-01 01:30:00\n",
       "4  0.0 2012-01-01 02:00:00"
      ]
     },
     "execution_count": 27,
     "metadata": {},
     "output_type": "execute_result"
    }
   ],
   "source": [
    "# 30分毎のデータに編集\n",
    "target_amd_data = target_amd_data[[\"datetime\", \"sl\"]]\n",
    "\n",
    "# 欠損値を一つ前の値で置換/output_data\n",
    "target_amd_data = target_amd_data.fillna(method='bfill')\n",
    "target_30 = target_amd_data.set_index('datetime').groupby(pd.TimeGrouper(freq='1800s', closed='left')).sum()\n",
    "\n",
    "# datetimeのカラムを復活させる\n",
    "target_30['datetime'] = target_30.index\n",
    "target_30.index = np.arange(len(target_30))\n",
    "target_30.head()"
   ]
  },
  {
   "cell_type": "code",
   "execution_count": 28,
   "metadata": {
    "collapsed": true
   },
   "outputs": [],
   "source": [
    "# モデル構築のためにデータを分割する\n",
    "\n",
    "# 学習に必要なデータ\n",
    "# 前日の00:00 ~ 20:00のデータで翌日の0:00 ~ 23:30を予測する\n",
    "train_x_s_idx = amd_30[amd_30['datetime'] == pd.to_datetime('2012-01-01 00:00')].index[0]\n",
    "train_x_e_idx = amd_30[amd_30['datetime'] == pd.to_datetime('2015-12-30 20:00')].index[0]\n",
    "train_y_s_idx = amd_30[amd_30['datetime'] == pd.to_datetime('2012-01-02 00:00')].index[0]\n",
    "train_y_e_idx = amd_30[amd_30['datetime'] == pd.to_datetime('2015-12-31 23:30')].index[0]\n",
    "\n",
    "output_tp = target_30[\"sl\"][train_y_s_idx:train_y_e_idx+1]\n",
    "input_data = amd_30[[ \"pr\", \"max_ws\", \"ave_ws\", \"max_tp\", \"min_tp\", \"sl\"]][train_x_s_idx:train_x_e_idx+1]\n",
    "\n",
    "# 予測に必要なデータ\n",
    "# 前日の00:00 ~ 20:00のデータで翌日の0:00 ~ 23:30を予測する\n",
    "# test_y_s_idx = amd_data[amd_data['datetime'] == pd.to_datetime('2015-12-31 00:00')].index[0]\n",
    "# test_y_e_idx = amd_data[amd_data['datetime'] == pd.to_datetime('2017-3-31 23:50')].index[0]\n",
    "# test_x_s_idx = test_y_s_idx - chunk_size\n",
    "# test_x_e_idx = amd_data[amd_data['datetime'] == pd.to_datetime('2017-3-31 23:40')].index[0]\n",
    "\n",
    "# test_input_tp = amd_data[test_x_s_idx:test_x_e_idx+1]\n",
    "# test_output_tp = amd_data[test_y_s_idx:test_y_e_idx+1]"
   ]
  },
  {
   "cell_type": "code",
   "execution_count": 29,
   "metadata": {},
   "outputs": [],
   "source": [
    "# MLPに突っ込むための準備をする\n",
    "\n",
    "# rnnに突っ込むためにmin-max正規化しておく\n",
    "normalized_input = (input_data - input_data.min()) / (input_data.max() - input_data.min())\n",
    "normalized_input = np.array(normalized_input)\n",
    "normalized_output = (output_tp - output_tp.min()) / (output_tp.max() - output_tp.min())\n",
    "normalized_output = np.array(normalized_output)\n",
    "\n",
    "input_list = get_input_data(normalized_input)\n",
    "output_list = get_output_data(normalized_output)\n",
    "\n",
    "# testデータの入力を用意\n",
    "# normalized_test_input = (test_input_tp - test_input_tp.min()) / (test_input_tp.max() - test_input_tp.min())\n",
    "# normalized_test_input = np.array(normalized_test_input)\n",
    "# test_input_list = get_chunked_data(normalized_test_input, chunk_size)\n",
    "\n",
    "# denormalize用\n",
    "output_max = float(output_tp.max())\n",
    "output_min = float(output_tp.min())\n",
    "\n",
    "# RNNに突っ込むためにデータを整形\n",
    "# X = np.array(input_list).reshape(len(input_list), chunk_size, input_list.shape[2])\n",
    "# Y = np.array(normalized_output).reshape(len(input_list), 1)\n",
    "# X_predict = np.array(test_input_list).reshape(len(test_input_list), chunk_size, test_input_list.shape[2])"
   ]
  },
  {
   "cell_type": "code",
   "execution_count": 30,
   "metadata": {},
   "outputs": [
    {
     "data": {
      "text/plain": [
       "1800.0"
      ]
     },
     "execution_count": 30,
     "metadata": {},
     "output_type": "execute_result"
    }
   ],
   "source": [
    "output_max"
   ]
  },
  {
   "cell_type": "code",
   "execution_count": 31,
   "metadata": {
    "scrolled": true
   },
   "outputs": [
    {
     "data": {
      "text/plain": [
       "0.0"
      ]
     },
     "execution_count": 31,
     "metadata": {},
     "output_type": "execute_result"
    }
   ],
   "source": [
    "output_min"
   ]
  },
  {
   "cell_type": "code",
   "execution_count": 32,
   "metadata": {},
   "outputs": [
    {
     "data": {
      "text/plain": [
       "(1460, 1460)"
      ]
     },
     "execution_count": 32,
     "metadata": {},
     "output_type": "execute_result"
    }
   ],
   "source": [
    "len(input_list), len(output_list)"
   ]
  },
  {
   "cell_type": "code",
   "execution_count": 34,
   "metadata": {},
   "outputs": [
    {
     "data": {
      "text/plain": [
       "array([ 0.        ,  0.        ,  0.        ,  0.        ,  0.        ,\n",
       "        0.        ,  0.        ,  0.        ,  0.        ,  0.        ,\n",
       "        0.        ,  0.        ,  0.        ,  0.        ,  0.        ,\n",
       "        0.        ,  0.        ,  0.        ,  0.        ,  0.71111111,\n",
       "        0.66666667,  0.91666667,  0.98333333,  0.17222222,  0.06666667,\n",
       "        0.54444444,  1.        ,  0.68333333,  0.96666667,  1.        ,\n",
       "        1.        ,  1.        ,  0.78888889,  0.06666667,  0.        ,\n",
       "        0.        ,  0.        ,  0.        ,  0.        ,  0.        ,\n",
       "        0.        ,  0.        ,  0.        ,  0.        ,  0.        ,\n",
       "        0.        ,  0.        ,  0.        ])"
      ]
     },
     "execution_count": 34,
     "metadata": {},
     "output_type": "execute_result"
    }
   ],
   "source": [
    "np.array(output_list[0])"
   ]
  },
  {
   "cell_type": "code",
   "execution_count": 35,
   "metadata": {},
   "outputs": [
    {
     "data": {
      "text/plain": [
       "array([ 0.        ,  0.0807947 ,  0.09133489,  0.16834756,  0.1734375 ,\n",
       "        0.        ,  0.        ,  0.09801325,  0.1264637 ,  0.14740109,\n",
       "        0.15078125,  0.        ,  0.        ,  0.09801325,  0.11709602,\n",
       "        0.1450737 ,  0.1515625 ,  0.        ,  0.        ,  0.0794702 ,\n",
       "        0.08899297,  0.1458495 ,  0.15078125,  0.        ,  0.        ,\n",
       "        0.03443709,  0.04215457,  0.1450737 ,  0.14921875,  0.        ,\n",
       "        0.        ,  0.03178808,  0.02810304,  0.14740109,  0.15      ,\n",
       "        0.        ,  0.        ,  0.04503311,  0.06088993,  0.14197052,\n",
       "        0.1421875 ,  0.        ,  0.        ,  0.05695364,  0.06557377,\n",
       "        0.13421257,  0.13515625,  0.        ,  0.        ,  0.06225166,\n",
       "        0.09836066,  0.128782  ,  0.12421875,  0.        ,  0.        ,\n",
       "        0.08344371,  0.12412178,  0.12412723,  0.121875  ,  0.        ,\n",
       "        0.        ,  0.06754967,  0.09601874,  0.12024825,  0.11640625,\n",
       "        0.        ,  0.        ,  0.06887417,  0.08430913,  0.11947246,\n",
       "        0.11484375,  0.        ,  0.        ,  0.09006623,  0.12177986,\n",
       "        0.10705974,  0.1078125 ,  0.        ,  0.        ,  0.09403974,\n",
       "        0.11007026,  0.11481769,  0.1140625 ,  0.        ,  0.        ,\n",
       "        0.09006623,  0.09601874,  0.11636928,  0.1203125 ,  0.03333333,\n",
       "        0.        ,  0.08344371,  0.08899297,  0.12490303,  0.128125  ,\n",
       "        0.91666667,  0.        ,  0.0781457 ,  0.09367681,  0.14119472,\n",
       "        0.1453125 ,  0.7       ,  0.        ,  0.09271523,  0.09836066,\n",
       "        0.15050427,  0.153125  ,  0.61666667,  0.        ,  0.0410596 ,\n",
       "        0.04215457,  0.16757176,  0.16640625,  0.        ,  0.        ,\n",
       "        0.10066225,  0.12412178,  0.19006982,  0.18359375,  0.        ,\n",
       "        0.        ,  0.08874172,  0.1030445 ,  0.18774244,  0.18828125,\n",
       "        0.        ,  0.        ,  0.09536424,  0.1147541 ,  0.20248254,\n",
       "        0.1984375 ,  0.        ,  0.        ,  0.12715232,  0.15925059,\n",
       "        0.20868891,  0.21015625,  0.        ,  0.        ,  0.18543046,\n",
       "        0.19906323,  0.23196276,  0.221875  ,  0.06666667,  0.        ,\n",
       "        0.14304636,  0.16627635,  0.24903026,  0.246875  ,  0.38333333,\n",
       "        0.        ,  0.1192053 ,  0.13583138,  0.25989139,  0.25078125,\n",
       "        0.11666667,  0.        ,  0.09801325,  0.11709602,  0.25989139,\n",
       "        0.2609375 ,  0.05      ,  0.        ,  0.08211921,  0.08196721,\n",
       "        0.26454616,  0.26640625,  0.01666667,  0.        ,  0.04635762,\n",
       "        0.03747073,  0.27928627,  0.27578125,  0.3       ,  0.        ,\n",
       "        0.05960265,  0.05620609,  0.29247479,  0.29296875,  0.61666667,\n",
       "        0.        ,  0.06357616,  0.06791569,  0.29480217,  0.2984375 ,\n",
       "        0.05      ,  0.        ,  0.02913907,  0.02810304,  0.29247479,\n",
       "        0.296875  ,  0.31666667,  0.        ,  0.05165563,  0.06557377,\n",
       "        0.29325058,  0.29921875,  0.96666667,  0.        ,  0.05033113,\n",
       "        0.06323185,  0.28859581,  0.29296875,  0.28333333,  0.        ,\n",
       "        0.06357616,  0.08665105,  0.27773468,  0.2765625 ,  0.        ,\n",
       "        0.        ,  0.02516556,  0.02576112,  0.26687355,  0.26953125,\n",
       "        0.        ,  0.        ,  0.05960265,  0.09367681,  0.257564  ,\n",
       "        0.253125  ,  0.        ,  0.        ,  0.07682119,  0.11007026,\n",
       "        0.25290923,  0.24296875,  0.        ,  0.        ,  0.05298013,\n",
       "        0.06791569,  0.23118697,  0.21953125,  0.        ,  0.        ,\n",
       "        0.01721854,  0.0234192 ,  0.21489527,  0.209375  ,  0.        ,\n",
       "        0.        ,  0.04238411,  0.04683841,  0.20248254,  0.19375   ,  0.        ])"
      ]
     },
     "execution_count": 35,
     "metadata": {},
     "output_type": "execute_result"
    }
   ],
   "source": [
    "np.array(input_list[0])"
   ]
  },
  {
   "cell_type": "markdown",
   "metadata": {},
   "source": [
    "### **モデルの構築**"
   ]
  },
  {
   "cell_type": "markdown",
   "metadata": {},
   "source": [
    "条件:翌日の気温を予測するには前日の20:00までの気象情報しか使えない\n",
    "\n",
    "モデル:翌日の30分毎の気温を前日の20:00までの各所のアメダスの気象情報で予測させる\n",
    "\n",
    "入力:各所のアメダス情報の配列\n",
    "\n",
    "出力:0:00, 0:30, .... , 23:00, 23:30の気温の配列\n",
    "\n",
    "とりあえず一つの箇所のデータを使って予測\n"
   ]
  },
  {
   "cell_type": "code",
   "execution_count": null,
   "metadata": {
    "collapsed": true
   },
   "outputs": [],
   "source": []
  }
 ],
 "metadata": {
  "kernelspec": {
   "display_name": "Python 3",
   "language": "python",
   "name": "python3"
  },
  "language_info": {
   "codemirror_mode": {
    "name": "ipython",
    "version": 3
   },
   "file_extension": ".py",
   "mimetype": "text/x-python",
   "name": "python",
   "nbconvert_exporter": "python",
   "pygments_lexer": "ipython3",
   "version": "3.6.2"
  }
 },
 "nbformat": 4,
 "nbformat_minor": 2
}
