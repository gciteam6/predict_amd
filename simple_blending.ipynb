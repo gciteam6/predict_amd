{
 "cells": [
  {
   "cell_type": "markdown",
   "metadata": {},
   "source": [
    "# **シンプルなブレンディングを試してみる**"
   ]
  },
  {
   "cell_type": "markdown",
   "metadata": {},
   "source": [
    "### **必要な関数・ライブラリ**"
   ]
  },
  {
   "cell_type": "code",
   "execution_count": 526,
   "metadata": {},
   "outputs": [],
   "source": [
    "# データ加工・処理・分析モジュール\n",
    "import numpy as np\n",
    "import pandas as pd\n",
    "import matplotlib.pyplot as plt\n",
    "\n",
    "from sklearn.ensemble import RandomForestRegressor\n",
    "from sklearn.model_selection import KFold\n",
    "\n",
    "import os\n",
    "import random\n",
    "\n",
    "%matplotlib inline\n",
    "\n",
    "import time"
   ]
  },
  {
   "cell_type": "code",
   "execution_count": 455,
   "metadata": {
    "collapsed": true
   },
   "outputs": [],
   "source": [
    "def set_time(dataframe, col_name):\n",
    "    '''\n",
    "    to_datetimeを使うための前処理\n",
    "    '''\n",
    "    dataframe[col_name] = dataframe[col_name].map(lambda x : transform_time(x))\n",
    "    return dataframe"
   ]
  },
  {
   "cell_type": "code",
   "execution_count": 456,
   "metadata": {
    "collapsed": true
   },
   "outputs": [],
   "source": [
    "def add_time_sincos(input_data, key=\"datetime\"):\n",
    "    '''\n",
    "    時間や月のデータを加える\n",
    "    '''\n",
    "    input_data['hour'] = input_data['datetime'].map(lambda x: int(x.hour))\n",
    "    input_data['minute'] = input_data['datetime'].map(lambda x: int(x.minute))\n",
    "    input_data['month'] = input_data['datetime'].map(lambda x: int(x.month))\n",
    "    input_data['month_cos'] = input_data['month'].map(lambda x: np.cos(np.pi * x / 12))\n",
    "    input_data['month_sin'] = input_data['month'].map(lambda x: np.sin(np.pi * x / 12))\n",
    "    input_data['hour_cos'] = input_data['hour'].map(lambda x: np.cos(np.pi * x / 24))\n",
    "    input_data['hour_sin'] = input_data['hour'].map(lambda x: np.sin(np.pi * x / 24))\n",
    "    input_data['year'] = input_data['datetime'].map(lambda x: int(x.year))\n",
    "    input_data = input_data.drop(['hour', 'month', 'minute'], axis=1)\n",
    "    return input_data"
   ]
  },
  {
   "cell_type": "code",
   "execution_count": 457,
   "metadata": {
    "collapsed": true
   },
   "outputs": [],
   "source": [
    "def transform_time(x):\n",
    "    '''\n",
    "    set_time内で使う関数\n",
    "    to_datetimeで24時をサポートしないので00に変更する処理\n",
    "    '''\n",
    "    str_x = str(x)\n",
    "    res = ''\n",
    "    if str(x)[8:10] == '24':\n",
    "        res = str_x[0:4] + '-' + str_x[4:6] + '-' + str_x[6:8] + ' 00:'+str_x[10:12] \n",
    "    else:\n",
    "        res = str_x[0:4] + '-' + str_x[4:6] + '-' + str_x[6:8] + ' '+ str_x[8:10] +':'+str_x[10:12]\n",
    "    return res"
   ]
  },
  {
   "cell_type": "code",
   "execution_count": 458,
   "metadata": {
    "collapsed": true
   },
   "outputs": [],
   "source": [
    "def drop_nan(X, Y):\n",
    "    '''\n",
    "    正解データがnanであるデータの組を削除\n",
    "    '''\n",
    "    mask = np.isnan(Y)\n",
    "    X = X[~mask]\n",
    "    Y = Y[~mask]\n",
    "    return X, Y"
   ]
  },
  {
   "cell_type": "code",
   "execution_count": 459,
   "metadata": {
    "collapsed": true
   },
   "outputs": [],
   "source": [
    "def to_zero(prediction):\n",
    "    '''\n",
    "    2012年から2015年の間で一度も発電量がなかった時間帯を0と予測するようにする\n",
    "    '''\n",
    "    mask = np.array([0,0,0,0,0,0,0,0,0,0,1,1,\n",
    "                    1,1,1,1,1,1,1,1,1,1,1,1,\n",
    "                    1,1,1,1,1,1,1,1,1,1,1,1,\n",
    "                    1,1,0,0,0,0,0,0,0,0,0,0])\n",
    "    all_mask = np.array([0,0,0,0,0,0,0,0,0,0,1,1,\n",
    "                        1,1,1,1,1,1,1,1,1,1,1,1,\n",
    "                        1,1,1,1,1,1,1,1,1,1,1,1,\n",
    "                        1,1,0,0,0,0,0,0,0,0,0,0])\n",
    "    length = int(len(prediction)/48)\n",
    "    \n",
    "    for i in range(length-1):\n",
    "        all_mask = np.r_[all_mask, mask]\n",
    "    \n",
    "    return prediction * all_mask"
   ]
  },
  {
   "cell_type": "code",
   "execution_count": 460,
   "metadata": {
    "collapsed": true
   },
   "outputs": [],
   "source": [
    "n_estimators = 20\n",
    "max_depth = 5\n",
    "max_features = \"sqrt\""
   ]
  },
  {
   "cell_type": "code",
   "execution_count": 461,
   "metadata": {
    "collapsed": true
   },
   "outputs": [],
   "source": [
    "# 発電量データ\n",
    "all_output_30 = pd.read_csv('data/processed_data/out_put.tsv', delimiter = '\\t')\n",
    "all_output_30['datetime'] = all_output_30['datetime'].map(lambda x : pd.to_datetime(x))"
   ]
  },
  {
   "cell_type": "markdown",
   "metadata": {},
   "source": [
    "### **浮島発電所について**"
   ]
  },
  {
   "cell_type": "code",
   "execution_count": 462,
   "metadata": {
    "collapsed": true
   },
   "outputs": [],
   "source": [
    "target_place = 1"
   ]
  },
  {
   "cell_type": "code",
   "execution_count": 463,
   "metadata": {
    "collapsed": true
   },
   "outputs": [],
   "source": [
    "# 発電量データ\n",
    "output_30 = all_output_30[['datetime', 'SOLA0'+str(target_place)]]"
   ]
  },
  {
   "cell_type": "code",
   "execution_count": 464,
   "metadata": {
    "collapsed": true
   },
   "outputs": [],
   "source": [
    "# いろんなモデルの予測値の集合(学習用)\n",
    "train_prediction = pd.read_csv(\"data/predicted_data/predict_train_SOLA0\"+str(target_place)+\".tsv\", delimiter=\"\\t\")\n",
    "train_prediction['datetime'] = train_prediction['datetime'].map(lambda x : pd.to_datetime(x))"
   ]
  },
  {
   "cell_type": "code",
   "execution_count": 465,
   "metadata": {
    "collapsed": true
   },
   "outputs": [],
   "source": [
    "# いろんなモデルの予測値の集合(ほんちゃん)\n",
    "test_prediction = pd.read_csv(\"data/predicted_data/predict_SOLA0\"+str(target_place)+\".tsv\", delimiter=\"\\t\")\n",
    "test_prediction['datetime'] = test_prediction['datetime'].map(lambda x : pd.to_datetime(x))"
   ]
  },
  {
   "cell_type": "code",
   "execution_count": 466,
   "metadata": {
    "collapsed": true
   },
   "outputs": [],
   "source": [
    "# 月, 時間の情報を加える\n",
    "train_prediction = add_time_sincos(train_prediction)\n",
    "test_prediction = add_time_sincos(test_prediction)"
   ]
  },
  {
   "cell_type": "code",
   "execution_count": 467,
   "metadata": {
    "scrolled": false
   },
   "outputs": [
    {
     "data": {
      "text/plain": [
       "(14, 14)"
      ]
     },
     "execution_count": 467,
     "metadata": {},
     "output_type": "execute_result"
    }
   ],
   "source": [
    "len(train_prediction.columns), len(test_prediction.columns)"
   ]
  },
  {
   "cell_type": "code",
   "execution_count": 16,
   "metadata": {
    "collapsed": true
   },
   "outputs": [],
   "source": [
    "t_s_datetime = train_prediction['datetime'][0]\n",
    "t_e_datetime = train_prediction['datetime'][len(train_prediction)-1]\n",
    "train_y_s_idx = output_30[output_30['datetime'] == t_s_datetime].index[0]\n",
    "train_y_e_idx = output_30[output_30['datetime'] == t_e_datetime].index[0]\n",
    "\n",
    "X = np.array(train_prediction.drop([\"datetime\"], axis=1))\n",
    "Y = output_30[\"SOLA0\"+str(target_place)][train_y_s_idx:train_y_e_idx+1]\n",
    "X_test = np.array(test_prediction.drop([\"datetime\"], axis=1))"
   ]
  },
  {
   "cell_type": "code",
   "execution_count": 17,
   "metadata": {
    "collapsed": true
   },
   "outputs": [],
   "source": [
    "X, Y = drop_nan(X, Y)"
   ]
  },
  {
   "cell_type": "code",
   "execution_count": 18,
   "metadata": {
    "collapsed": true
   },
   "outputs": [],
   "source": [
    "X_train, X_val, Y_train, Y_val = train_test_split(X, Y, test_size=int((X.shape[0] * 0.3)))"
   ]
  },
  {
   "cell_type": "code",
   "execution_count": 24,
   "metadata": {
    "collapsed": true
   },
   "outputs": [],
   "source": [
    "train_maes = []\n",
    "val_maes = []\n",
    "for i in range(10):\n",
    "    rf = RandomForestRegressor(n_estimators = 10, max_depth = i+1, max_features=max_features)\n",
    "    rf.fit(X_train, Y_train)\n",
    "    Y_train_pred = rf.predict(X_train)\n",
    "    Y_val_pred = rf.predict(X_val)\n",
    "    train_maes.append(np.abs(Y_train_pred - Y_train).mean())\n",
    "    val_maes.append(np.abs(Y_val_pred - Y_val).mean())\n",
    "#     print(\"train_mae : \", np.abs(Y_train_pred - Y_train).mean())\n",
    "#     print(\"val_mae : \", np.abs(Y_val_pred - Y_val).mean())"
   ]
  },
  {
   "cell_type": "code",
   "execution_count": 25,
   "metadata": {},
   "outputs": [
    {
     "data": {
      "text/plain": [
       "<matplotlib.legend.Legend at 0x10f91ef60>"
      ]
     },
     "execution_count": 25,
     "metadata": {},
     "output_type": "execute_result"
    },
    {
     "data": {
      "image/png": "[encoded data removed]",
      "text/plain": [
       "<matplotlib.figure.Figure at 0x1107f26d8>"
      ]
     },
     "metadata": {},
     "output_type": "display_data"
    }
   ],
   "source": [
    "plt.plot(train_maes, label=\"train_maes\")\n",
    "plt.plot(val_maes, label=\"validation_maes\")\n",
    "plt.xlabel(\"max_depth\")\n",
    "plt.title(\"decide max_depth\")\n",
    "plt.legend()"
   ]
  },
  {
   "cell_type": "code",
   "execution_count": 26,
   "metadata": {},
   "outputs": [
    {
     "name": "stdout",
     "output_type": "stream",
     "text": [
      "train_mae :  87.8785882331\n",
      "val_mae :  90.426966473\n"
     ]
    }
   ],
   "source": [
    "# ランダムフォレストリグレッサー\n",
    "# rf = RandomForestRegressor(n_estimators = n_estimators, max_depth = max_depth, max_features=max_features)\n",
    "rf = RandomForestRegressor(n_estimators = n_estimators, max_depth = 4, max_features=max_features)\n",
    "\n",
    "rf.fit(X_train, Y_train)\n",
    "Y_train_pred = rf.predict(X_train)\n",
    "Y_val_pred = rf.predict(X_val)\n",
    "print(\"train_mae : \", np.abs(Y_train_pred - Y_train).mean())\n",
    "print(\"val_mae : \", np.abs(Y_val_pred - Y_val).mean())"
   ]
  },
  {
   "cell_type": "code",
   "execution_count": 27,
   "metadata": {
    "collapsed": true
   },
   "outputs": [],
   "source": [
    "Y_test_pred = rf.predict(X_test)"
   ]
  },
  {
   "cell_type": "code",
   "execution_count": 28,
   "metadata": {
    "collapsed": true
   },
   "outputs": [],
   "source": [
    "s_idx = test_prediction[test_prediction['datetime'] == pd.to_datetime('2016/01/01 00:00')].index[0]\n",
    "e_idx = test_prediction[test_prediction['datetime'] == pd.to_datetime('2017/3/31 23:30')].index[0]\n",
    "predict_data = pd.DataFrame({\"datetime\":test_prediction['datetime'][s_idx:e_idx+1]})\n",
    "predict_data.index = np.arange(len(predict_data))"
   ]
  },
  {
   "cell_type": "code",
   "execution_count": 29,
   "metadata": {
    "collapsed": true
   },
   "outputs": [],
   "source": [
    "# 2016/01/01 00:00 ~ 2017/3/31 23:50の予測データを書き出す\n",
    "predict_data[\"blending_\"+str(target_place)] = Y_test_pred"
   ]
  },
  {
   "cell_type": "markdown",
   "metadata": {},
   "source": [
    "### **扇島発電所について**"
   ]
  },
  {
   "cell_type": "code",
   "execution_count": 30,
   "metadata": {
    "collapsed": true
   },
   "outputs": [],
   "source": [
    "target_place = 2"
   ]
  },
  {
   "cell_type": "code",
   "execution_count": 31,
   "metadata": {
    "collapsed": true
   },
   "outputs": [],
   "source": [
    "# 発電量データ\n",
    "output_30 = all_output_30[['datetime', 'SOLA0'+str(target_place)]]"
   ]
  },
  {
   "cell_type": "code",
   "execution_count": 32,
   "metadata": {
    "collapsed": true
   },
   "outputs": [],
   "source": [
    "# いろんなモデルの予測値の集合(学習用)\n",
    "train_prediction = pd.read_csv(\"data/predicted_data/predict_train_SOLA0\"+str(target_place)+\".tsv\", delimiter=\"\\t\")\n",
    "train_prediction['datetime'] = train_prediction['datetime'].map(lambda x : pd.to_datetime(x))"
   ]
  },
  {
   "cell_type": "code",
   "execution_count": 33,
   "metadata": {
    "collapsed": true
   },
   "outputs": [],
   "source": [
    "# いろんなモデルの予測値の集合(ほんちゃん)\n",
    "test_prediction = pd.read_csv(\"data/predicted_data/predict_SOLA0\"+str(target_place)+\".tsv\", delimiter=\"\\t\")\n",
    "test_prediction['datetime'] = test_prediction['datetime'].map(lambda x : pd.to_datetime(x))"
   ]
  },
  {
   "cell_type": "code",
   "execution_count": 34,
   "metadata": {
    "collapsed": true
   },
   "outputs": [],
   "source": [
    "# 月, 時間の情報を加える\n",
    "train_prediction = add_time_sincos(train_prediction)\n",
    "test_prediction = add_time_sincos(test_prediction)"
   ]
  },
  {
   "cell_type": "code",
   "execution_count": 35,
   "metadata": {},
   "outputs": [
    {
     "data": {
      "text/plain": [
       "(25, 25)"
      ]
     },
     "execution_count": 35,
     "metadata": {},
     "output_type": "execute_result"
    }
   ],
   "source": [
    "len(train_prediction.columns), len(test_prediction.columns)"
   ]
  },
  {
   "cell_type": "code",
   "execution_count": 36,
   "metadata": {
    "collapsed": true
   },
   "outputs": [],
   "source": [
    "t_s_datetime = train_prediction['datetime'][0]\n",
    "t_e_datetime = train_prediction['datetime'][len(train_prediction)-1]\n",
    "train_y_s_idx = output_30[output_30['datetime'] == t_s_datetime].index[0]\n",
    "train_y_e_idx = output_30[output_30['datetime'] == t_e_datetime].index[0]\n",
    "\n",
    "X = np.array(train_prediction.drop([\"datetime\"], axis=1))\n",
    "Y = output_30[\"SOLA0\"+str(target_place)][train_y_s_idx:train_y_e_idx+1]\n",
    "X_test = np.array(test_prediction.drop([\"datetime\"], axis=1))"
   ]
  },
  {
   "cell_type": "code",
   "execution_count": 37,
   "metadata": {
    "collapsed": true
   },
   "outputs": [],
   "source": [
    "X, Y = drop_nan(X, Y)"
   ]
  },
  {
   "cell_type": "code",
   "execution_count": 38,
   "metadata": {
    "collapsed": true
   },
   "outputs": [],
   "source": [
    "X_train, X_val, Y_train, Y_val = train_test_split(X, Y, test_size=int((X.shape[0] * 0.3)))"
   ]
  },
  {
   "cell_type": "code",
   "execution_count": 39,
   "metadata": {
    "collapsed": true
   },
   "outputs": [],
   "source": [
    "train_maes = []\n",
    "val_maes = []\n",
    "for i in range(10):\n",
    "    rf = RandomForestRegressor(n_estimators = 10, max_depth = i+1, max_features=max_features)\n",
    "    rf.fit(X_train, Y_train)\n",
    "    Y_train_pred = rf.predict(X_train)\n",
    "    Y_val_pred = rf.predict(X_val)\n",
    "    train_maes.append(np.abs(Y_train_pred - Y_train).mean())\n",
    "    val_maes.append(np.abs(Y_val_pred - Y_val).mean())\n",
    "#     print(\"train_mae : \", np.abs(Y_train_pred - Y_train).mean())\n",
    "#     print(\"val_mae : \", np.abs(Y_val_pred - Y_val).mean())"
   ]
  },
  {
   "cell_type": "code",
   "execution_count": 40,
   "metadata": {},
   "outputs": [
    {
     "data": {
      "text/plain": [
       "<matplotlib.legend.Legend at 0x1153c2898>"
      ]
     },
     "execution_count": 40,
     "metadata": {},
     "output_type": "execute_result"
    },
    {
     "data": {
      "image/png": "[encoded data removed]",
      "text/plain": [
       "<matplotlib.figure.Figure at 0x110805940>"
      ]
     },
     "metadata": {},
     "output_type": "display_data"
    }
   ],
   "source": [
    "plt.plot(train_maes, label=\"train_maes\")\n",
    "plt.plot(val_maes, label=\"validation_maes\")\n",
    "plt.xlabel(\"max_depth\")\n",
    "plt.title(\"decide max_depth\")\n",
    "plt.legend()"
   ]
  },
  {
   "cell_type": "code",
   "execution_count": 41,
   "metadata": {},
   "outputs": [
    {
     "name": "stdout",
     "output_type": "stream",
     "text": [
      "train_mae :  148.301059637\n",
      "val_mae :  153.129295683\n"
     ]
    }
   ],
   "source": [
    "# ランダムフォレストリグレッサー\n",
    "rf = RandomForestRegressor(n_estimators = 10, max_depth = 4, max_features=max_features)\n",
    "rf.fit(X_train, Y_train)\n",
    "Y_train_pred = rf.predict(X_train)\n",
    "Y_val_pred = rf.predict(X_val)\n",
    "print(\"train_mae : \", np.abs(Y_train_pred - Y_train).mean())\n",
    "print(\"val_mae : \", np.abs(Y_val_pred - Y_val).mean())"
   ]
  },
  {
   "cell_type": "code",
   "execution_count": 42,
   "metadata": {
    "collapsed": true
   },
   "outputs": [],
   "source": [
    "Y_test_pred = rf.predict(X_test)"
   ]
  },
  {
   "cell_type": "code",
   "execution_count": 43,
   "metadata": {
    "collapsed": true
   },
   "outputs": [],
   "source": [
    "# 2016/01/01 00:00 ~ 2017/3/31 23:50の予測データを書き出す\n",
    "predict_data[\"blending_\"+str(target_place)] = Y_test_pred"
   ]
  },
  {
   "cell_type": "markdown",
   "metadata": {},
   "source": [
    "### **米倉山発電所について**"
   ]
  },
  {
   "cell_type": "code",
   "execution_count": 44,
   "metadata": {
    "collapsed": true
   },
   "outputs": [],
   "source": [
    "target_place = 3"
   ]
  },
  {
   "cell_type": "code",
   "execution_count": 45,
   "metadata": {
    "collapsed": true
   },
   "outputs": [],
   "source": [
    "# 発電量データ\n",
    "output_30 = all_output_30[['datetime', 'SOLA0'+str(target_place)]]"
   ]
  },
  {
   "cell_type": "code",
   "execution_count": 46,
   "metadata": {
    "collapsed": true
   },
   "outputs": [],
   "source": [
    "# いろんなモデルの予測値の集合(学習用)\n",
    "train_prediction = pd.read_csv(\"data/predicted_data/predict_train_SOLA0\"+str(target_place)+\".tsv\", delimiter=\"\\t\")\n",
    "train_prediction['datetime'] = train_prediction['datetime'].map(lambda x : pd.to_datetime(x))"
   ]
  },
  {
   "cell_type": "code",
   "execution_count": 47,
   "metadata": {
    "collapsed": true
   },
   "outputs": [],
   "source": [
    "# いろんなモデルの予測値の集合(ほんちゃん)\n",
    "test_prediction = pd.read_csv(\"data/predicted_data/predict_SOLA0\"+str(target_place)+\".tsv\", delimiter=\"\\t\")\n",
    "test_prediction['datetime'] = test_prediction['datetime'].map(lambda x : pd.to_datetime(x))"
   ]
  },
  {
   "cell_type": "code",
   "execution_count": 48,
   "metadata": {
    "collapsed": true
   },
   "outputs": [],
   "source": [
    "# 月, 時間の情報を加える\n",
    "train_prediction = add_time_sincos(train_prediction)\n",
    "test_prediction = add_time_sincos(test_prediction)"
   ]
  },
  {
   "cell_type": "code",
   "execution_count": 49,
   "metadata": {},
   "outputs": [
    {
     "data": {
      "text/plain": [
       "(25, 25)"
      ]
     },
     "execution_count": 49,
     "metadata": {},
     "output_type": "execute_result"
    }
   ],
   "source": [
    "len(train_prediction.columns), len(train_prediction.columns)"
   ]
  },
  {
   "cell_type": "code",
   "execution_count": 50,
   "metadata": {
    "collapsed": true
   },
   "outputs": [],
   "source": [
    "t_s_datetime = train_prediction['datetime'][0]\n",
    "t_e_datetime = train_prediction['datetime'][len(train_prediction)-1]\n",
    "train_y_s_idx = output_30[output_30['datetime'] == t_s_datetime].index[0]\n",
    "train_y_e_idx = output_30[output_30['datetime'] == t_e_datetime].index[0]\n",
    "\n",
    "X = np.array(train_prediction.drop([\"datetime\"], axis=1))\n",
    "Y = output_30[\"SOLA0\"+str(target_place)][train_y_s_idx:train_y_e_idx+1]\n",
    "X_test = np.array(test_prediction.drop([\"datetime\"], axis=1))"
   ]
  },
  {
   "cell_type": "code",
   "execution_count": 51,
   "metadata": {
    "collapsed": true
   },
   "outputs": [],
   "source": [
    "X, Y = drop_nan(X, Y)"
   ]
  },
  {
   "cell_type": "code",
   "execution_count": 52,
   "metadata": {
    "collapsed": true
   },
   "outputs": [],
   "source": [
    "X_train, X_val, Y_train, Y_val = train_test_split(X, Y, test_size=int((X.shape[0] * 0.3)))"
   ]
  },
  {
   "cell_type": "code",
   "execution_count": 53,
   "metadata": {
    "collapsed": true
   },
   "outputs": [],
   "source": [
    "train_maes = []\n",
    "val_maes = []\n",
    "for i in range(10):\n",
    "    rf = RandomForestRegressor(n_estimators = 10, max_depth = i+1, max_features=max_features)\n",
    "    rf.fit(X_train, Y_train)\n",
    "    Y_train_pred = rf.predict(X_train)\n",
    "    Y_val_pred = rf.predict(X_val)\n",
    "    train_maes.append(np.abs(Y_train_pred - Y_train).mean())\n",
    "    val_maes.append(np.abs(Y_val_pred - Y_val).mean())\n",
    "#     print(\"train_mae : \", np.abs(Y_train_pred - Y_train).mean())\n",
    "#     print(\"val_mae : \", np.abs(Y_val_pred - Y_val).mean())"
   ]
  },
  {
   "cell_type": "code",
   "execution_count": 54,
   "metadata": {},
   "outputs": [
    {
     "data": {
      "text/plain": [
       "<matplotlib.legend.Legend at 0x1133f6d30>"
      ]
     },
     "execution_count": 54,
     "metadata": {},
     "output_type": "execute_result"
    },
    {
     "data": {
      "image/png": "[encoded data removed]",
      "text/plain": [
       "<matplotlib.figure.Figure at 0x1153d5d68>"
      ]
     },
     "metadata": {},
     "output_type": "display_data"
    }
   ],
   "source": [
    "plt.plot(train_maes, label=\"train_maes\")\n",
    "plt.plot(val_maes, label=\"validation_maes\")\n",
    "plt.xlabel(\"max_depth\")\n",
    "plt.title(\"decide max_depth\")\n",
    "plt.legend()"
   ]
  },
  {
   "cell_type": "code",
   "execution_count": 55,
   "metadata": {},
   "outputs": [
    {
     "name": "stdout",
     "output_type": "stream",
     "text": [
      "train_mae :  118.339154157\n",
      "val_mae :  118.906755957\n"
     ]
    }
   ],
   "source": [
    "# ランダムフォレストリグレッサー\n",
    "rf = RandomForestRegressor(n_estimators = n_estimators, max_depth = 4, max_features=max_features)\n",
    "rf.fit(X_train, Y_train)\n",
    "Y_train_pred = rf.predict(X_train)\n",
    "Y_val_pred = rf.predict(X_val)\n",
    "print(\"train_mae : \", np.abs(Y_train_pred - Y_train).mean())\n",
    "print(\"val_mae : \", np.abs(Y_val_pred - Y_val).mean())"
   ]
  },
  {
   "cell_type": "code",
   "execution_count": 56,
   "metadata": {
    "collapsed": true
   },
   "outputs": [],
   "source": [
    "Y_test_pred = rf.predict(X_test)"
   ]
  },
  {
   "cell_type": "code",
   "execution_count": 57,
   "metadata": {
    "collapsed": true
   },
   "outputs": [],
   "source": [
    "# 2016/01/01 00:00 ~ 2017/3/31 23:50の予測データを書き出す\n",
    "predict_data[\"blending_\"+str(target_place)] = Y_test_pred"
   ]
  },
  {
   "cell_type": "markdown",
   "metadata": {},
   "source": [
    "### **書き出す**"
   ]
  },
  {
   "cell_type": "code",
   "execution_count": 58,
   "metadata": {
    "collapsed": true
   },
   "outputs": [],
   "source": [
    "predict_data.to_csv('data/predicted_data/simple_blending_prediction.tsv', sep = '\\t', index=False)"
   ]
  },
  {
   "cell_type": "markdown",
   "metadata": {},
   "source": [
    "### 線形モデルでやってみる"
   ]
  },
  {
   "cell_type": "code",
   "execution_count": 468,
   "metadata": {
    "collapsed": true
   },
   "outputs": [],
   "source": [
    "from sklearn.preprocessing import StandardScaler\n",
    "from sklearn import linear_model"
   ]
  },
  {
   "cell_type": "markdown",
   "metadata": {},
   "source": [
    "### **浮島**"
   ]
  },
  {
   "cell_type": "code",
   "execution_count": 590,
   "metadata": {
    "collapsed": true
   },
   "outputs": [],
   "source": [
    "target_place = 1"
   ]
  },
  {
   "cell_type": "code",
   "execution_count": 591,
   "metadata": {
    "collapsed": true
   },
   "outputs": [],
   "source": [
    "# 発電量データ\n",
    "output_30 = all_output_30[['datetime', 'SOLA0'+str(target_place)]]"
   ]
  },
  {
   "cell_type": "code",
   "execution_count": 592,
   "metadata": {},
   "outputs": [
    {
     "name": "stderr",
     "output_type": "stream",
     "text": [
      "/Users/kyojin/anaconda/envs/tf/lib/python3.5/site-packages/ipykernel_launcher.py:4: SettingWithCopyWarning: \n",
      "A value is trying to be set on a copy of a slice from a DataFrame.\n",
      "Try using .loc[row_indexer,col_indexer] = value instead\n",
      "\n",
      "See the caveats in the documentation: http://pandas.pydata.org/pandas-docs/stable/indexing.html#indexing-view-versus-copy\n",
      "  after removing the cwd from sys.path.\n",
      "/Users/kyojin/anaconda/envs/tf/lib/python3.5/site-packages/ipykernel_launcher.py:15: SettingWithCopyWarning: \n",
      "A value is trying to be set on a copy of a slice from a DataFrame.\n",
      "Try using .loc[row_indexer,col_indexer] = value instead\n",
      "\n",
      "See the caveats in the documentation: http://pandas.pydata.org/pandas-docs/stable/indexing.html#indexing-view-versus-copy\n",
      "  from ipykernel import kernelapp as app\n"
     ]
    }
   ],
   "source": [
    "# 太陽電池の劣化に対応するためのスケーリング(必要かどうかはわからない)\n",
    "# 米倉山は欠損地が多いのでこれには適さない\n",
    "if target_place == 1 or target_place == 2:\n",
    "    output_30['year'] = output_30['datetime'].map(lambda x : x.year)\n",
    "    y_output = output_30.groupby(['year'], as_index=False).sum()\n",
    "    sum_2012 = y_output[\"SOLA0\"+str(target_place)][0]\n",
    "    sum_2013 = y_output[\"SOLA0\"+str(target_place)][1]\n",
    "    sum_2014 = y_output[\"SOLA0\"+str(target_place)][2]\n",
    "    sum_2015 = y_output[\"SOLA0\"+str(target_place)][3]\n",
    "    scaled_2012 = np.array(output_30[output_30['year'] == 2012][\"SOLA0\"+str(target_place)].map(lambda x : x * sum_2015/sum_2012))\n",
    "    scaled_2013 = np.array(output_30[output_30['year'] == 2013][\"SOLA0\"+str(target_place)].map(lambda x : x * sum_2015/sum_2013))\n",
    "    scaled_2014 = np.array(output_30[output_30['year'] == 2014][\"SOLA0\"+str(target_place)].map(lambda x : x * sum_2015/sum_2014))\n",
    "    scaled_2015 = np.array(output_30[output_30['year'] == 2015][\"SOLA0\"+str(target_place)])\n",
    "    tmp = np.r_[scaled_2012, scaled_2013, scaled_2014, scaled_2015]\n",
    "    output_30[\"SOLA0\"+str(target_place)] = tmp"
   ]
  },
  {
   "cell_type": "code",
   "execution_count": 593,
   "metadata": {},
   "outputs": [],
   "source": [
    "# いろんなモデルの予測値の集合(学習用)\n",
    "train_prediction = pd.read_csv(\"data/predicted_data/predict_train_SOLA0\"+str(target_place)+\".tsv\", delimiter=\"\\t\")\n",
    "train_prediction['datetime'] = train_prediction['datetime'].map(lambda x : pd.to_datetime(x))\n",
    "\n",
    "'''\n",
    "# 限られたモデルだけを使う\n",
    "keys = [\"targetplace_\"+str(target_place)+\"_limited_scaled_kwh_all_wfc_sigmoid_hidden_100_1000_1-3folds\",\n",
    "        \"targetplace_\"+str(target_place)+\"_limited_scaled_kwh_all_wfc_sigmoid_hidden_100_1000_2-3folds\",\n",
    "        \"targetplace_\"+str(target_place)+\"_limited_scaled_kwh_all_wfc_sigmoid_hidden_100_1000_3-3folds\"]\n",
    "\n",
    "keys.append(\"datetime\")\n",
    "train_prediction = train_prediction[keys]\n",
    "'''\n",
    "\n",
    "# いろんなモデルの予測値の集合(ほんちゃん)\n",
    "test_prediction = pd.read_csv(\"data/predicted_data/predict_SOLA0\"+str(target_place)+\".tsv\", delimiter=\"\\t\")\n",
    "test_prediction['datetime'] = test_prediction['datetime'].map(lambda x : pd.to_datetime(x))\n",
    "\n",
    "# test_prediction = test_prediction[keys]"
   ]
  },
  {
   "cell_type": "code",
   "execution_count": 594,
   "metadata": {},
   "outputs": [
    {
     "data": {
      "text/plain": [
       "Index(['datetime',\n",
       "       'targetplace_1_limited_scaled_kwh_all_wfc_sigmoid_hidden_100_1000_1-3folds',\n",
       "       'targetplace_1_limited_scaled_kwh_all_wfc_sigmoid_hidden_100_1000_2-3folds',\n",
       "       'targetplace_1_limited_scaled_kwh_all_wfc_sigmoid_hidden_100_1000_3-3folds',\n",
       "       'targetplace_1_limited_scaled_kwh_all_wfc_sigmoid_hidden_100_1000_1-5folds',\n",
       "       'targetplace_1_limited_scaled_kwh_all_wfc_sigmoid_hidden_100_1000_2-5folds',\n",
       "       'targetplace_1_limited_scaled_kwh_all_wfc_sigmoid_hidden_100_1000_3-5folds',\n",
       "       'targetplace_1_limited_scaled_kwh_all_wfc_sigmoid_hidden_100_1000_4-5folds',\n",
       "       'targetplace_1_limited_scaled_kwh_all_wfc_sigmoid_hidden_100_1000_5-5folds'],\n",
       "      dtype='object')"
      ]
     },
     "execution_count": 594,
     "metadata": {},
     "output_type": "execute_result"
    }
   ],
   "source": [
    "train_prediction.columns"
   ]
  },
  {
   "cell_type": "code",
   "execution_count": 595,
   "metadata": {},
   "outputs": [
    {
     "data": {
      "text/plain": [
       "Index(['datetime',\n",
       "       'targetplace_1_limited_scaled_kwh_all_wfc_sigmoid_hidden_100_1000_1-3folds',\n",
       "       'targetplace_1_limited_scaled_kwh_all_wfc_sigmoid_hidden_100_1000_2-3folds',\n",
       "       'targetplace_1_limited_scaled_kwh_all_wfc_sigmoid_hidden_100_1000_3-3folds',\n",
       "       'targetplace_1_limited_scaled_kwh_all_wfc_sigmoid_hidden_100_1000_1-5folds',\n",
       "       'targetplace_1_limited_scaled_kwh_all_wfc_sigmoid_hidden_100_1000_2-5folds',\n",
       "       'targetplace_1_limited_scaled_kwh_all_wfc_sigmoid_hidden_100_1000_3-5folds',\n",
       "       'targetplace_1_limited_scaled_kwh_all_wfc_sigmoid_hidden_100_1000_4-5folds',\n",
       "       'targetplace_1_limited_scaled_kwh_all_wfc_sigmoid_hidden_100_1000_5-5folds'],\n",
       "      dtype='object')"
      ]
     },
     "execution_count": 595,
     "metadata": {},
     "output_type": "execute_result"
    }
   ],
   "source": [
    "test_prediction.columns"
   ]
  },
  {
   "cell_type": "code",
   "execution_count": 596,
   "metadata": {
    "collapsed": true
   },
   "outputs": [],
   "source": [
    "t_s_datetime = train_prediction['datetime'][0]\n",
    "t_e_datetime = train_prediction['datetime'][len(train_prediction)-1]\n",
    "train_y_s_idx = output_30[output_30['datetime'] == t_s_datetime].index[0]\n",
    "train_y_e_idx = output_30[output_30['datetime'] == t_e_datetime].index[0]\n",
    "\n",
    "X = np.array(train_prediction.drop([\"datetime\"], axis=1))\n",
    "Y = output_30[\"SOLA0\"+str(target_place)][train_y_s_idx:train_y_e_idx+1]\n",
    "X_test = np.array(test_prediction.drop([\"datetime\"], axis=1))"
   ]
  },
  {
   "cell_type": "code",
   "execution_count": 597,
   "metadata": {
    "collapsed": true
   },
   "outputs": [],
   "source": [
    "X, Y = drop_nan(X, Y)\n",
    "X = np.array(X)\n",
    "Y = np.array(Y)"
   ]
  },
  {
   "cell_type": "code",
   "execution_count": 598,
   "metadata": {},
   "outputs": [],
   "source": [
    "# 交差検証\n",
    "t_maes = []\n",
    "v_maes = []\n",
    "n_splits = 5\n",
    "for train_idx, test_idx in KFold(n_splits=n_splits).split(X):\n",
    "    X_train = X[train_idx]\n",
    "    Y_train = Y[train_idx]\n",
    "    X_val = X[test_idx]\n",
    "    Y_val = Y[test_idx]\n",
    "    lin_model = linear_model.LinearRegression(fit_intercept=False)\n",
    "    lin_model.fit(X_train, Y_train)\n",
    "    Y_train_pred = lin_model.predict(X_train)\n",
    "    Y_val_pred = lin_model.predict(X_val)\n",
    "    t_maes.append(np.abs(Y_train_pred - Y_train).mean())\n",
    "    v_maes.append( np.abs(Y_val_pred - Y_val).mean())"
   ]
  },
  {
   "cell_type": "code",
   "execution_count": 599,
   "metadata": {},
   "outputs": [
    {
     "data": {
      "image/png": "[encoded data removed]",
      "text/plain": [
       "<matplotlib.figure.Figure at 0x10fc27f28>"
      ]
     },
     "metadata": {},
     "output_type": "display_data"
    }
   ],
   "source": [
    "plt.plot(t_maes, 's', label=\"train_maes\")\n",
    "plt.plot(v_maes, 'd', label=\"validation_maes\")\n",
    "plt.legend()\n",
    "plt.title(\"each maes of \"+str(n_splits)+\" folds at target_place_\"+str(target_place))\n",
    "plt.xticks(np.arange(n_splits), np.arange(n_splits)+1)\n",
    "plt.show()"
   ]
  },
  {
   "cell_type": "code",
   "execution_count": 600,
   "metadata": {},
   "outputs": [
    {
     "data": {
      "text/plain": [
       "LinearRegression(copy_X=True, fit_intercept=False, n_jobs=1, normalize=False)"
      ]
     },
     "execution_count": 600,
     "metadata": {},
     "output_type": "execute_result"
    }
   ],
   "source": [
    "lin_model = linear_model.LinearRegression(fit_intercept=False)\n",
    "lin_model.fit(X, Y)\n",
    "# Y_train_pred = lin_model.predict(X)"
   ]
  },
  {
   "cell_type": "code",
   "execution_count": 601,
   "metadata": {},
   "outputs": [],
   "source": [
    "Y_test_pred = lin_model.predict(X_test)"
   ]
  },
  {
   "cell_type": "code",
   "execution_count": 602,
   "metadata": {
    "collapsed": true
   },
   "outputs": [],
   "source": [
    "# 2016/01/01 00:00 ~ 2017/3/31 23:50の予測データを書き出す\n",
    "predict_data[\"blending_\"+str(target_place)] = Y_test_pred"
   ]
  },
  {
   "cell_type": "markdown",
   "metadata": {},
   "source": [
    "### **扇島**"
   ]
  },
  {
   "cell_type": "code",
   "execution_count": 603,
   "metadata": {
    "collapsed": true
   },
   "outputs": [],
   "source": [
    "target_place = 2"
   ]
  },
  {
   "cell_type": "code",
   "execution_count": 604,
   "metadata": {},
   "outputs": [
    {
     "name": "stderr",
     "output_type": "stream",
     "text": [
      "/Users/kyojin/anaconda/envs/tf/lib/python3.5/site-packages/ipykernel_launcher.py:7: SettingWithCopyWarning: \n",
      "A value is trying to be set on a copy of a slice from a DataFrame.\n",
      "Try using .loc[row_indexer,col_indexer] = value instead\n",
      "\n",
      "See the caveats in the documentation: http://pandas.pydata.org/pandas-docs/stable/indexing.html#indexing-view-versus-copy\n",
      "  import sys\n",
      "/Users/kyojin/anaconda/envs/tf/lib/python3.5/site-packages/ipykernel_launcher.py:18: SettingWithCopyWarning: \n",
      "A value is trying to be set on a copy of a slice from a DataFrame.\n",
      "Try using .loc[row_indexer,col_indexer] = value instead\n",
      "\n",
      "See the caveats in the documentation: http://pandas.pydata.org/pandas-docs/stable/indexing.html#indexing-view-versus-copy\n"
     ]
    }
   ],
   "source": [
    "# 発電量データ\n",
    "output_30 = all_output_30[['datetime', 'SOLA0'+str(target_place)]]\n",
    "\n",
    "# 太陽電池の劣化に対応するためのスケーリング(必要かどうかはわからない)\n",
    "# 米倉山は欠損地が多いのでこれには適さない\n",
    "if target_place == 1 or target_place == 2:\n",
    "    output_30['year'] = output_30['datetime'].map(lambda x : x.year)\n",
    "    y_output = output_30.groupby(['year'], as_index=False).sum()\n",
    "    sum_2012 = y_output[\"SOLA0\"+str(target_place)][0]\n",
    "    sum_2013 = y_output[\"SOLA0\"+str(target_place)][1]\n",
    "    sum_2014 = y_output[\"SOLA0\"+str(target_place)][2]\n",
    "    sum_2015 = y_output[\"SOLA0\"+str(target_place)][3]\n",
    "    scaled_2012 = np.array(output_30[output_30['year'] == 2012][\"SOLA0\"+str(target_place)].map(lambda x : x * sum_2015/sum_2012))\n",
    "    scaled_2013 = np.array(output_30[output_30['year'] == 2013][\"SOLA0\"+str(target_place)].map(lambda x : x * sum_2015/sum_2013))\n",
    "    scaled_2014 = np.array(output_30[output_30['year'] == 2014][\"SOLA0\"+str(target_place)].map(lambda x : x * sum_2015/sum_2014))\n",
    "    scaled_2015 = np.array(output_30[output_30['year'] == 2015][\"SOLA0\"+str(target_place)])\n",
    "    tmp = np.r_[scaled_2012, scaled_2013, scaled_2014, scaled_2015]\n",
    "    output_30[\"SOLA0\"+str(target_place)] = tmp"
   ]
  },
  {
   "cell_type": "code",
   "execution_count": 605,
   "metadata": {
    "collapsed": true
   },
   "outputs": [],
   "source": [
    "# いろんなモデルの予測値の集合(学習用)\n",
    "train_prediction = pd.read_csv(\"data/predicted_data/predict_train_SOLA0\"+str(target_place)+\".tsv\", delimiter=\"\\t\")\n",
    "train_prediction['datetime'] = train_prediction['datetime'].map(lambda x : pd.to_datetime(x))\n",
    "\n",
    "'''\n",
    "# 限られたモデルだけを使う\n",
    "keys = [\"targetplace_\"+str(target_place)+\"_limited_scaled_kwh_all_wfc_sigmoid_hidden_100_1000_1-3folds\",\n",
    "        \"targetplace_\"+str(target_place)+\"_limited_scaled_kwh_all_wfc_sigmoid_hidden_100_1000_2-3folds\",\n",
    "        \"targetplace_\"+str(target_place)+\"_limited_scaled_kwh_all_wfc_sigmoid_hidden_100_1000_3-3folds\"]\n",
    "\n",
    "keys.append(\"datetime\")\n",
    "train_prediction = train_prediction[keys]\n",
    "'''\n",
    "\n",
    "# いろんなモデルの予測値の集合(ほんちゃん)\n",
    "test_prediction = pd.read_csv(\"data/predicted_data/predict_SOLA0\"+str(target_place)+\".tsv\", delimiter=\"\\t\")\n",
    "test_prediction['datetime'] = test_prediction['datetime'].map(lambda x : pd.to_datetime(x))\n",
    "\n",
    "# test_prediction = test_prediction[keys]"
   ]
  },
  {
   "cell_type": "code",
   "execution_count": 606,
   "metadata": {},
   "outputs": [
    {
     "data": {
      "text/plain": [
       "Index(['datetime',\n",
       "       'targetplace_2_limited_scaled_kwh_all_wfc_sigmoid_hidden_100_1000_1-3folds',\n",
       "       'targetplace_2_limited_scaled_kwh_all_wfc_sigmoid_hidden_100_1000_2-3folds',\n",
       "       'targetplace_2_limited_scaled_kwh_all_wfc_sigmoid_hidden_100_1000_3-3folds',\n",
       "       'targetplace_2_limited_scaled_kwh_all_wfc_sigmoid_hidden_100_1000_1-5folds',\n",
       "       'targetplace_2_limited_scaled_kwh_all_wfc_sigmoid_hidden_100_1000_2-5folds',\n",
       "       'targetplace_2_limited_scaled_kwh_all_wfc_sigmoid_hidden_100_1000_3-5folds',\n",
       "       'targetplace_2_limited_scaled_kwh_all_wfc_sigmoid_hidden_100_1000_4-5folds',\n",
       "       'targetplace_2_limited_scaled_kwh_all_wfc_sigmoid_hidden_100_1000_5-5folds'],\n",
       "      dtype='object')"
      ]
     },
     "execution_count": 606,
     "metadata": {},
     "output_type": "execute_result"
    }
   ],
   "source": [
    "train_prediction.columns"
   ]
  },
  {
   "cell_type": "code",
   "execution_count": 607,
   "metadata": {},
   "outputs": [
    {
     "data": {
      "text/plain": [
       "Index(['datetime',\n",
       "       'targetplace_2_limited_scaled_kwh_all_wfc_sigmoid_hidden_100_1000_1-3folds',\n",
       "       'targetplace_2_limited_scaled_kwh_all_wfc_sigmoid_hidden_100_1000_2-3folds',\n",
       "       'targetplace_2_limited_scaled_kwh_all_wfc_sigmoid_hidden_100_1000_3-3folds',\n",
       "       'targetplace_2_limited_scaled_kwh_all_wfc_sigmoid_hidden_100_1000_1-5folds',\n",
       "       'targetplace_2_limited_scaled_kwh_all_wfc_sigmoid_hidden_100_1000_2-5folds',\n",
       "       'targetplace_2_limited_scaled_kwh_all_wfc_sigmoid_hidden_100_1000_3-5folds',\n",
       "       'targetplace_2_limited_scaled_kwh_all_wfc_sigmoid_hidden_100_1000_4-5folds',\n",
       "       'targetplace_2_limited_scaled_kwh_all_wfc_sigmoid_hidden_100_1000_5-5folds'],\n",
       "      dtype='object')"
      ]
     },
     "execution_count": 607,
     "metadata": {},
     "output_type": "execute_result"
    }
   ],
   "source": [
    "test_prediction.columns"
   ]
  },
  {
   "cell_type": "code",
   "execution_count": 608,
   "metadata": {},
   "outputs": [
    {
     "data": {
      "text/plain": [
       "(9, 9)"
      ]
     },
     "execution_count": 608,
     "metadata": {},
     "output_type": "execute_result"
    }
   ],
   "source": [
    "len(train_prediction.columns), len(test_prediction.columns)"
   ]
  },
  {
   "cell_type": "code",
   "execution_count": 609,
   "metadata": {
    "collapsed": true
   },
   "outputs": [],
   "source": [
    "t_s_datetime = train_prediction['datetime'][0]\n",
    "t_e_datetime = train_prediction['datetime'][len(train_prediction)-1]\n",
    "train_y_s_idx = output_30[output_30['datetime'] == t_s_datetime].index[0]\n",
    "train_y_e_idx = output_30[output_30['datetime'] == t_e_datetime].index[0]\n",
    "\n",
    "X = np.array(train_prediction.drop([\"datetime\"], axis=1))\n",
    "Y = output_30[\"SOLA0\"+str(target_place)][train_y_s_idx:train_y_e_idx+1]\n",
    "X_test = np.array(test_prediction.drop([\"datetime\"], axis=1))"
   ]
  },
  {
   "cell_type": "code",
   "execution_count": 610,
   "metadata": {
    "collapsed": true
   },
   "outputs": [],
   "source": [
    "X, Y = drop_nan(X, Y)\n",
    "X = np.array(X)\n",
    "Y = np.array(Y)"
   ]
  },
  {
   "cell_type": "code",
   "execution_count": 611,
   "metadata": {
    "collapsed": true
   },
   "outputs": [],
   "source": [
    "# 交差検証\n",
    "t_maes = []\n",
    "v_maes = []\n",
    "n_splits = 5\n",
    "for train_idx, test_idx in KFold(n_splits=n_splits).split(X):\n",
    "    X_train = X[train_idx]\n",
    "    Y_train = Y[train_idx]\n",
    "    X_val = X[test_idx]\n",
    "    Y_val = Y[test_idx]\n",
    "    lin_model = linear_model.LinearRegression(fit_intercept=False)\n",
    "    lin_model.fit(X_train, Y_train)\n",
    "    Y_train_pred = lin_model.predict(X_train)\n",
    "    Y_val_pred = lin_model.predict(X_val)\n",
    "    t_maes.append(np.abs(Y_train_pred - Y_train).mean())\n",
    "    v_maes.append( np.abs(Y_val_pred - Y_val).mean())"
   ]
  },
  {
   "cell_type": "code",
   "execution_count": 612,
   "metadata": {},
   "outputs": [
    {
     "data": {
      "image/png": "[encoded data removed]",
      "text/plain": [
       "<matplotlib.figure.Figure at 0x113425a90>"
      ]
     },
     "metadata": {},
     "output_type": "display_data"
    }
   ],
   "source": [
    "plt.plot(t_maes, 's', label=\"train_maes\")\n",
    "plt.plot(v_maes, 'd', label=\"validation_maes\")\n",
    "plt.legend()\n",
    "plt.title(\"each maes of \"+str(n_splits)+\" folds at target_place_\"+str(target_place))\n",
    "plt.xticks(np.arange(n_splits), np.arange(n_splits)+1)\n",
    "plt.show()"
   ]
  },
  {
   "cell_type": "code",
   "execution_count": 613,
   "metadata": {},
   "outputs": [
    {
     "data": {
      "text/plain": [
       "LinearRegression(copy_X=True, fit_intercept=False, n_jobs=1, normalize=False)"
      ]
     },
     "execution_count": 613,
     "metadata": {},
     "output_type": "execute_result"
    }
   ],
   "source": [
    "lin_model = linear_model.LinearRegression(fit_intercept=False)\n",
    "lin_model.fit(X, Y)\n",
    "# Y_train_pred = lin_model.predict(X)"
   ]
  },
  {
   "cell_type": "code",
   "execution_count": 614,
   "metadata": {
    "collapsed": true
   },
   "outputs": [],
   "source": [
    "Y_test_pred = lin_model.predict(X_test)"
   ]
  },
  {
   "cell_type": "code",
   "execution_count": 615,
   "metadata": {
    "collapsed": true
   },
   "outputs": [],
   "source": [
    "# 2016/01/01 00:00 ~ 2017/3/31 23:50の予測データを書き出す\n",
    "predict_data[\"blending_\"+str(target_place)] = Y_test_pred"
   ]
  },
  {
   "cell_type": "markdown",
   "metadata": {},
   "source": [
    "### **米倉山**"
   ]
  },
  {
   "cell_type": "code",
   "execution_count": 616,
   "metadata": {
    "collapsed": true
   },
   "outputs": [],
   "source": [
    "target_place = 3"
   ]
  },
  {
   "cell_type": "code",
   "execution_count": 617,
   "metadata": {
    "collapsed": true
   },
   "outputs": [],
   "source": [
    "# 発電量データ\n",
    "output_30 = all_output_30[['datetime', 'SOLA0'+str(target_place)]]"
   ]
  },
  {
   "cell_type": "code",
   "execution_count": 618,
   "metadata": {
    "collapsed": true
   },
   "outputs": [],
   "source": [
    "# いろんなモデルの予測値の集合(学習用)\n",
    "train_prediction = pd.read_csv(\"data/predicted_data/predict_train_SOLA0\"+str(target_place)+\".tsv\", delimiter=\"\\t\")\n",
    "train_prediction['datetime'] = train_prediction['datetime'].map(lambda x : pd.to_datetime(x))\n",
    "\n",
    "'''\n",
    "# 限られたモデルだけを使う\n",
    "keys = [\"targetplace_\"+str(target_place)+\"_limited_scaled_kwh_all_wfc_sigmoid_hidden_100_1000_1-3folds\",\n",
    "        \"targetplace_\"+str(target_place)+\"_limited_scaled_kwh_all_wfc_sigmoid_hidden_100_1000_2-3folds\",\n",
    "        \"targetplace_\"+str(target_place)+\"_limited_scaled_kwh_all_wfc_sigmoid_hidden_100_1000_3-3folds\"]\n",
    "\n",
    "keys.append(\"datetime\")\n",
    "train_prediction = train_prediction[keys]\n",
    "'''\n",
    "\n",
    "# いろんなモデルの予測値の集合(ほんちゃん)\n",
    "test_prediction = pd.read_csv(\"data/predicted_data/predict_SOLA0\"+str(target_place)+\".tsv\", delimiter=\"\\t\")\n",
    "test_prediction['datetime'] = test_prediction['datetime'].map(lambda x : pd.to_datetime(x))\n",
    "\n",
    "# test_prediction = test_prediction[keys]"
   ]
  },
  {
   "cell_type": "code",
   "execution_count": 619,
   "metadata": {},
   "outputs": [
    {
     "data": {
      "text/plain": [
       "Index(['datetime',\n",
       "       'targetplace_3_limited_scaled_kwh_all_wfc_sigmoid_hidden_100_1000_1-3folds',\n",
       "       'targetplace_3_limited_scaled_kwh_all_wfc_sigmoid_hidden_100_1000_2-3folds',\n",
       "       'targetplace_3_limited_scaled_kwh_all_wfc_sigmoid_hidden_100_1000_3-3folds',\n",
       "       'targetplace_3_limited_scaled_kwh_all_wfc_sigmoid_hidden_100_1000_1-5folds',\n",
       "       'targetplace_3_limited_scaled_kwh_all_wfc_sigmoid_hidden_100_1000_2-5folds',\n",
       "       'targetplace_3_limited_scaled_kwh_all_wfc_sigmoid_hidden_100_1000_3-5folds',\n",
       "       'targetplace_3_limited_scaled_kwh_all_wfc_sigmoid_hidden_100_1000_4-5folds',\n",
       "       'targetplace_3_limited_scaled_kwh_all_wfc_sigmoid_hidden_100_1000_5-5folds'],\n",
       "      dtype='object')"
      ]
     },
     "execution_count": 619,
     "metadata": {},
     "output_type": "execute_result"
    }
   ],
   "source": [
    "train_prediction.columns"
   ]
  },
  {
   "cell_type": "code",
   "execution_count": 620,
   "metadata": {},
   "outputs": [
    {
     "data": {
      "text/plain": [
       "Index(['datetime',\n",
       "       'targetplace_3_limited_scaled_kwh_all_wfc_sigmoid_hidden_100_1000_1-3folds',\n",
       "       'targetplace_3_limited_scaled_kwh_all_wfc_sigmoid_hidden_100_1000_2-3folds',\n",
       "       'targetplace_3_limited_scaled_kwh_all_wfc_sigmoid_hidden_100_1000_3-3folds',\n",
       "       'targetplace_3_limited_scaled_kwh_all_wfc_sigmoid_hidden_100_1000_1-5folds',\n",
       "       'targetplace_3_limited_scaled_kwh_all_wfc_sigmoid_hidden_100_1000_2-5folds',\n",
       "       'targetplace_3_limited_scaled_kwh_all_wfc_sigmoid_hidden_100_1000_3-5folds',\n",
       "       'targetplace_3_limited_scaled_kwh_all_wfc_sigmoid_hidden_100_1000_4-5folds',\n",
       "       'targetplace_3_limited_scaled_kwh_all_wfc_sigmoid_hidden_100_1000_5-5folds'],\n",
       "      dtype='object')"
      ]
     },
     "execution_count": 620,
     "metadata": {},
     "output_type": "execute_result"
    }
   ],
   "source": [
    "test_prediction.columns"
   ]
  },
  {
   "cell_type": "code",
   "execution_count": 621,
   "metadata": {},
   "outputs": [
    {
     "data": {
      "text/plain": [
       "(9, 9)"
      ]
     },
     "execution_count": 621,
     "metadata": {},
     "output_type": "execute_result"
    }
   ],
   "source": [
    "len(train_prediction.columns), len(test_prediction.columns)"
   ]
  },
  {
   "cell_type": "code",
   "execution_count": 622,
   "metadata": {
    "collapsed": true
   },
   "outputs": [],
   "source": [
    "t_s_datetime = train_prediction['datetime'][0]\n",
    "t_e_datetime = train_prediction['datetime'][len(train_prediction)-1]\n",
    "train_y_s_idx = output_30[output_30['datetime'] == t_s_datetime].index[0]\n",
    "train_y_e_idx = output_30[output_30['datetime'] == t_e_datetime].index[0]\n",
    "\n",
    "X = np.array(train_prediction.drop([\"datetime\"], axis=1))\n",
    "Y = output_30[\"SOLA0\"+str(target_place)][train_y_s_idx:train_y_e_idx+1]\n",
    "X_test = np.array(test_prediction.drop([\"datetime\"], axis=1))"
   ]
  },
  {
   "cell_type": "code",
   "execution_count": 623,
   "metadata": {
    "collapsed": true
   },
   "outputs": [],
   "source": [
    "X, Y = drop_nan(X, Y)\n",
    "X = np.array(X)\n",
    "Y = np.array(Y)"
   ]
  },
  {
   "cell_type": "code",
   "execution_count": 624,
   "metadata": {
    "collapsed": true
   },
   "outputs": [],
   "source": [
    "# 交差検証\n",
    "t_maes = []\n",
    "v_maes = []\n",
    "n_splits = 5\n",
    "for train_idx, test_idx in KFold(n_splits=n_splits).split(X):\n",
    "    X_train = X[train_idx]\n",
    "    Y_train = Y[train_idx]\n",
    "    X_val = X[test_idx]\n",
    "    Y_val = Y[test_idx]\n",
    "    lin_model = linear_model.LinearRegression(fit_intercept=False)\n",
    "    lin_model.fit(X_train, Y_train)\n",
    "    Y_train_pred = lin_model.predict(X_train)\n",
    "    Y_val_pred = lin_model.predict(X_val)\n",
    "    t_maes.append(np.abs(Y_train_pred - Y_train).mean())\n",
    "    v_maes.append( np.abs(Y_val_pred - Y_val).mean())"
   ]
  },
  {
   "cell_type": "code",
   "execution_count": 625,
   "metadata": {},
   "outputs": [
    {
     "data": {
      "image/png": "[encoded data removed]",
      "text/plain": [
       "<matplotlib.figure.Figure at 0x1108b6ac8>"
      ]
     },
     "metadata": {},
     "output_type": "display_data"
    }
   ],
   "source": [
    "plt.plot(t_maes, 's', label=\"train_maes\")\n",
    "plt.plot(v_maes, 'd', label=\"validation_maes\")\n",
    "plt.legend()\n",
    "plt.title(\"each maes of \"+str(n_splits)+\" folds at target_place_\"+str(target_place))\n",
    "plt.xticks(np.arange(n_splits), np.arange(n_splits)+1)\n",
    "plt.show()"
   ]
  },
  {
   "cell_type": "code",
   "execution_count": 626,
   "metadata": {},
   "outputs": [
    {
     "data": {
      "text/plain": [
       "LinearRegression(copy_X=True, fit_intercept=False, n_jobs=1, normalize=False)"
      ]
     },
     "execution_count": 626,
     "metadata": {},
     "output_type": "execute_result"
    }
   ],
   "source": [
    "lin_model = linear_model.LinearRegression(fit_intercept=False)\n",
    "lin_model.fit(X, Y)\n",
    "# Y_train_pred = lin_model.predict(X)"
   ]
  },
  {
   "cell_type": "code",
   "execution_count": 627,
   "metadata": {
    "collapsed": true
   },
   "outputs": [],
   "source": [
    "Y_test_pred = lin_model.predict(X_test)"
   ]
  },
  {
   "cell_type": "code",
   "execution_count": 628,
   "metadata": {
    "collapsed": true
   },
   "outputs": [],
   "source": [
    "# 2016/01/01 00:00 ~ 2017/3/31 23:50の予測データを書き出す\n",
    "predict_data[\"blending_\"+str(target_place)] = Y_test_pred"
   ]
  },
  {
   "cell_type": "markdown",
   "metadata": {},
   "source": [
    "### **書き出す**"
   ]
  },
  {
   "cell_type": "code",
   "execution_count": 629,
   "metadata": {
    "collapsed": true
   },
   "outputs": [],
   "source": [
    "predict_data[\"blending_1\"] = predict_data[\"blending_1\"].map(lambda x: minus_to_zero(x))\n",
    "predict_data[\"blending_2\"] = predict_data[\"blending_2\"].map(lambda x: minus_to_zero(x))\n",
    "predict_data[\"blending_3\"] = predict_data[\"blending_3\"].map(lambda x: minus_to_zero(x))"
   ]
  },
  {
   "cell_type": "code",
   "execution_count": 630,
   "metadata": {
    "collapsed": true
   },
   "outputs": [],
   "source": [
    "predict_data.to_csv('data/predicted_data/simple_blending_prediction.tsv', sep = '\\t', index=False)"
   ]
  },
  {
   "cell_type": "markdown",
   "metadata": {},
   "source": [
    "### **特定のモデルを書き出す**"
   ]
  },
  {
   "cell_type": "code",
   "execution_count": 292,
   "metadata": {
    "collapsed": true
   },
   "outputs": [],
   "source": [
    "target_place = 1"
   ]
  },
  {
   "cell_type": "code",
   "execution_count": 293,
   "metadata": {
    "collapsed": true
   },
   "outputs": [],
   "source": [
    "# いろんなモデルの予測値の集合(ほんちゃん)\n",
    "test_prediction = pd.read_csv(\"data/predicted_data/predict_SOLA0\"+str(target_place)+\".tsv\", delimiter=\"\\t\")\n",
    "test_prediction['datetime'] = test_prediction['datetime'].map(lambda x : pd.to_datetime(x))"
   ]
  },
  {
   "cell_type": "code",
   "execution_count": 175,
   "metadata": {
    "scrolled": true
   },
   "outputs": [
    {
     "data": {
      "text/plain": [
       "Index(['datetime', 'targetplace_1_kwh_fc_one_layer_2000',\n",
       "       'targetplace_1_kwh_fc_one_layer_3000',\n",
       "       'targetplace_1_kwh_fc_one_layer_4000',\n",
       "       'targetplace_1_kwh_fc_one_layer_5000',\n",
       "       'targetplace_1_kwh_fc_month_one_layer_1000',\n",
       "       'targetplace_1_kwh_fc_month_one_layer_2000',\n",
       "       'targetplace_1_kwh_fc_month_one_layer_3000',\n",
       "       'targetplace_1_kwh_fc_month_one_layer_4000',\n",
       "       'targetplace_1_kwh_fc_month_one_layer_5000',\n",
       "       'targetplace_1_kwh_fc_with_wc_month_one_layer_1000',\n",
       "       'targetplace_1_kwh_fc_with_wc_month_one_layer_2000',\n",
       "       'targetplace_1_kwh_fc_with_wc_month_one_layer_3000',\n",
       "       'targetplace_1_kwh_fc_with_wc_month_one_layer_4000',\n",
       "       'targetplace_1_kwh_fc_with_wc_month_one_layer_5000',\n",
       "       'targetplace_1_kwh_all_wfc_month_one_layer_1000',\n",
       "       'targetplace_1_kwh_all_wfc_month_one_layer_2000',\n",
       "       'targetplace_1_kwh_all_wfc_month_one_layer_3000',\n",
       "       'targetplace_1_kwh_all_wfc_month_one_layer_4000',\n",
       "       'targetplace_1_kwh_all_wfc_month_one_layer_5000',\n",
       "       'targetplace_1_kwh_fc_with_wc_month_one_layer_500',\n",
       "       'targetplace_1_kwh_fc_with_wc_month_one_layer_hidden_50_1000',\n",
       "       'targetplace_1_kwh_fc_with_wc_month_one_layer_hidden_50_2000',\n",
       "       'targetplace_1_kwh_all_wfc_month_one_layer_hidden_50_500',\n",
       "       'targetplace_1_kwh_all_wfc_month_one_layer_hidden_50_1000',\n",
       "       'targetplace_1_kwh_all_wfc_month_one_layer_hidden_50_2000',\n",
       "       'targetplace_1_kwh_all_wfc_month_one_layer_hidden_50_3000',\n",
       "       'targetplace_1_kwh_all_wfc_month_one_layer_hidden_50_4000',\n",
       "       'targetplace_1_limited_scaled_kwh_all_wfc_sigmoid_hidden_100_1000_1-3folds',\n",
       "       'targetplace_1_limited_scaled_kwh_all_wfc_sigmoid_hidden_100_1000_2-3folds',\n",
       "       'targetplace_1_limited_scaled_kwh_all_wfc_sigmoid_hidden_100_1000_3-3folds'],\n",
       "      dtype='object')"
      ]
     },
     "execution_count": 175,
     "metadata": {},
     "output_type": "execute_result"
    }
   ],
   "source": [
    "test_prediction.columns"
   ]
  },
  {
   "cell_type": "code",
   "execution_count": 181,
   "metadata": {},
   "outputs": [],
   "source": [
    "keys = [\"targetplace_1_limited_scaled_kwh_all_wfc_sigmoid_hidden_100_1000_1-3folds\",\n",
    "        \"targetplace_1_limited_scaled_kwh_all_wfc_sigmoid_hidden_100_1000_2-3folds\",\n",
    "        \"targetplace_1_limited_scaled_kwh_all_wfc_sigmoid_hidden_100_1000_3-3folds\"]\n",
    "tmp = test_prediction[keys]\n",
    "tmp = tmp.mean(axis=1)"
   ]
  },
  {
   "cell_type": "code",
   "execution_count": 182,
   "metadata": {},
   "outputs": [],
   "source": [
    "# 2016/01/01 00:00 ~ 2017/3/31 23:50の予測データを書き出す\n",
    "predict_data[\"blending_\"+str(target_place)] = tmp"
   ]
  },
  {
   "cell_type": "code",
   "execution_count": 183,
   "metadata": {
    "collapsed": true
   },
   "outputs": [],
   "source": [
    "target_place = 2"
   ]
  },
  {
   "cell_type": "code",
   "execution_count": 184,
   "metadata": {
    "collapsed": true
   },
   "outputs": [],
   "source": [
    "# いろんなモデルの予測値の集合(ほんちゃん)\n",
    "test_prediction = pd.read_csv(\"data/predicted_data/predict_SOLA0\"+str(target_place)+\".tsv\", delimiter=\"\\t\")\n",
    "test_prediction['datetime'] = test_prediction['datetime'].map(lambda x : pd.to_datetime(x))"
   ]
  },
  {
   "cell_type": "code",
   "execution_count": 185,
   "metadata": {
    "scrolled": true
   },
   "outputs": [
    {
     "data": {
      "text/plain": [
       "Index(['datetime', 'targetplace_2_kwh_fc_one_layer_2000',\n",
       "       'targetplace_2_kwh_fc_one_layer_3000',\n",
       "       'targetplace_2_kwh_fc_one_layer_4000',\n",
       "       'targetplace_2_kwh_fc_one_layer_5000',\n",
       "       'targetplace_2_kwh_fc_month_one_layer_1000',\n",
       "       'targetplace_2_kwh_fc_month_one_layer_2000',\n",
       "       'targetplace_2_kwh_fc_month_one_layer_3000',\n",
       "       'targetplace_2_kwh_fc_month_one_layer_4000',\n",
       "       'targetplace_2_kwh_fc_month_one_layer_5000',\n",
       "       'targetplace_2_kwh_fc_with_wc_month_one_layer_1000',\n",
       "       'targetplace_2_kwh_fc_with_wc_month_one_layer_2000',\n",
       "       'targetplace_2_kwh_fc_with_wc_month_one_layer_3000',\n",
       "       'targetplace_2_kwh_fc_with_wc_month_one_layer_4000',\n",
       "       'targetplace_2_kwh_fc_with_wc_month_one_layer_5000',\n",
       "       'targetplace_2_kwh_all_wfc_month_one_layer_1000',\n",
       "       'targetplace_2_kwh_all_wfc_month_one_layer_2000',\n",
       "       'targetplace_2_kwh_all_wfc_month_one_layer_3000',\n",
       "       'targetplace_2_kwh_all_wfc_month_one_layer_4000',\n",
       "       'targetplace_2_kwh_all_wfc_month_one_layer_5000',\n",
       "       'scaled_targetplace_2_kwh_all_wfc_month_one_layer_hidden_50_500',\n",
       "       'scaled_targetplace_2_kwh_all_wfc_month_one_layer_hidden_50_1000',\n",
       "       'scaled_targetplace_2_kwh_all_wfc_month_one_layer_hidden_50_2000',\n",
       "       'scaled_targetplace_2_kwh_all_wfc_month_one_layer_hidden_50_3000',\n",
       "       'scaled_targetplace_2_kwh_all_wfc_month_one_layer_hidden_50_4000',\n",
       "       'targetplace_2_limited_scaled_kwh_all_wfc_sigmoid_hidden_100_1000_1-3folds',\n",
       "       'targetplace_2_limited_scaled_kwh_all_wfc_sigmoid_hidden_100_1000_2-3folds',\n",
       "       'targetplace_2_limited_scaled_kwh_all_wfc_sigmoid_hidden_100_1000_3-3folds'],\n",
       "      dtype='object')"
      ]
     },
     "execution_count": 185,
     "metadata": {},
     "output_type": "execute_result"
    }
   ],
   "source": [
    "test_prediction.columns"
   ]
  },
  {
   "cell_type": "code",
   "execution_count": 186,
   "metadata": {
    "collapsed": true
   },
   "outputs": [],
   "source": [
    "keys = [\"targetplace_2_limited_scaled_kwh_all_wfc_sigmoid_hidden_100_1000_1-3folds\",\n",
    "        \"targetplace_2_limited_scaled_kwh_all_wfc_sigmoid_hidden_100_1000_2-3folds\",\n",
    "        \"targetplace_2_limited_scaled_kwh_all_wfc_sigmoid_hidden_100_1000_3-3folds\"]\n",
    "tmp = test_prediction[keys]\n",
    "tmp = tmp.mean(axis=1)"
   ]
  },
  {
   "cell_type": "code",
   "execution_count": 187,
   "metadata": {
    "collapsed": true
   },
   "outputs": [],
   "source": [
    "# 2016/01/01 00:00 ~ 2017/3/31 23:50の予測データを書き出す\n",
    "predict_data[\"blending_\"+str(target_place)] = tmp"
   ]
  },
  {
   "cell_type": "code",
   "execution_count": 188,
   "metadata": {
    "collapsed": true
   },
   "outputs": [],
   "source": [
    "target_place = 3"
   ]
  },
  {
   "cell_type": "code",
   "execution_count": 189,
   "metadata": {
    "collapsed": true
   },
   "outputs": [],
   "source": [
    "# いろんなモデルの予測値の集合(ほんちゃん)\n",
    "test_prediction = pd.read_csv(\"data/predicted_data/predict_SOLA0\"+str(target_place)+\".tsv\", delimiter=\"\\t\")\n",
    "test_prediction['datetime'] = test_prediction['datetime'].map(lambda x : pd.to_datetime(x))"
   ]
  },
  {
   "cell_type": "code",
   "execution_count": 190,
   "metadata": {
    "scrolled": true
   },
   "outputs": [
    {
     "data": {
      "text/plain": [
       "Index(['datetime', 'targetplace_3_kwh_fc_one_layer_2000',\n",
       "       'targetplace_3_kwh_fc_one_layer_3000',\n",
       "       'targetplace_3_kwh_fc_one_layer_4000',\n",
       "       'targetplace_3_kwh_fc_one_layer_5000',\n",
       "       'targetplace_3_kwh_fc_month_one_layer_1000',\n",
       "       'targetplace_3_kwh_fc_month_one_layer_2000',\n",
       "       'targetplace_3_kwh_fc_month_one_layer_3000',\n",
       "       'targetplace_3_kwh_fc_month_one_layer_4000',\n",
       "       'targetplace_3_kwh_fc_month_one_layer_5000',\n",
       "       'targetplace_3_kwh_fc_with_wc_month_one_layer_1000',\n",
       "       'targetplace_3_kwh_fc_with_wc_month_one_layer_2000',\n",
       "       'targetplace_3_kwh_fc_with_wc_month_one_layer_3000',\n",
       "       'targetplace_3_kwh_fc_with_wc_month_one_layer_4000',\n",
       "       'targetplace_3_kwh_fc_with_wc_month_one_layer_5000',\n",
       "       'targetplace_3_kwh_all_wfc_month_one_layer_1000',\n",
       "       'targetplace_3_kwh_all_wfc_month_one_layer_2000',\n",
       "       'targetplace_3_kwh_all_wfc_month_one_layer_3000',\n",
       "       'targetplace_3_kwh_all_wfc_month_one_layer_4000',\n",
       "       'targetplace_3_kwh_all_wfc_month_one_layer_5000',\n",
       "       'targetplace_3_kwh_all_wfc_month_one_layer_hidden_50_500',\n",
       "       'targetplace_3_kwh_all_wfc_month_one_layer_hidden_50_1000',\n",
       "       'targetplace_3_kwh_all_wfc_month_one_layer_hidden_50_2000',\n",
       "       'targetplace_3_kwh_all_wfc_month_one_layer_hidden_50_3000',\n",
       "       'targetplace_3_kwh_all_wfc_month_one_layer_hidden_50_4000',\n",
       "       'targetplace_3_limited_scaled_kwh_all_wfc_sigmoid_hidden_100_1000_1-3folds',\n",
       "       'targetplace_3_limited_scaled_kwh_all_wfc_sigmoid_hidden_100_1000_2-3folds',\n",
       "       'targetplace_3_limited_scaled_kwh_all_wfc_sigmoid_hidden_100_1000_3-3folds'],\n",
       "      dtype='object')"
      ]
     },
     "execution_count": 190,
     "metadata": {},
     "output_type": "execute_result"
    }
   ],
   "source": [
    "test_prediction.columns"
   ]
  },
  {
   "cell_type": "code",
   "execution_count": 191,
   "metadata": {
    "collapsed": true
   },
   "outputs": [],
   "source": [
    "keys = [\"targetplace_3_limited_scaled_kwh_all_wfc_sigmoid_hidden_100_1000_1-3folds\",\n",
    "        \"targetplace_3_limited_scaled_kwh_all_wfc_sigmoid_hidden_100_1000_2-3folds\",\n",
    "        \"targetplace_3_limited_scaled_kwh_all_wfc_sigmoid_hidden_100_1000_3-3folds\"]\n",
    "tmp = test_prediction[keys]\n",
    "tmp = tmp.mean(axis=1)"
   ]
  },
  {
   "cell_type": "code",
   "execution_count": 192,
   "metadata": {
    "collapsed": true
   },
   "outputs": [],
   "source": [
    "# 2016/01/01 00:00 ~ 2017/3/31 23:50の予測データを書き出す\n",
    "predict_data[\"blending_\"+str(target_place)] = tmp"
   ]
  },
  {
   "cell_type": "code",
   "execution_count": 193,
   "metadata": {
    "collapsed": true
   },
   "outputs": [],
   "source": [
    "def minus_to_zero(x):\n",
    "    if x < 0:\n",
    "        return 0\n",
    "    else:\n",
    "        return x"
   ]
  },
  {
   "cell_type": "code",
   "execution_count": 194,
   "metadata": {},
   "outputs": [],
   "source": [
    "predict_data[\"blending_1\"] = predict_data[\"blending_1\"].map(lambda x: minus_to_zero(x))\n",
    "predict_data[\"blending_2\"] = predict_data[\"blending_2\"].map(lambda x: minus_to_zero(x))\n",
    "predict_data[\"blending_3\"] = predict_data[\"blending_3\"].map(lambda x: minus_to_zero(x))"
   ]
  },
  {
   "cell_type": "code",
   "execution_count": 196,
   "metadata": {},
   "outputs": [
    {
     "data": {
      "text/html": [
       "<div>\n",
       "<style>\n",
       "    .dataframe thead tr:only-child th {\n",
       "        text-align: right;\n",
       "    }\n",
       "\n",
       "    .dataframe thead th {\n",
       "        text-align: left;\n",
       "    }\n",
       "\n",
       "    .dataframe tbody tr th {\n",
       "        vertical-align: top;\n",
       "    }\n",
       "</style>\n",
       "<table border=\"1\" class=\"dataframe\">\n",
       "  <thead>\n",
       "    <tr style=\"text-align: right;\">\n",
       "      <th></th>\n",
       "      <th>datetime</th>\n",
       "      <th>blending_1</th>\n",
       "      <th>blending_2</th>\n",
       "      <th>blending_3</th>\n",
       "    </tr>\n",
       "  </thead>\n",
       "  <tbody>\n",
       "    <tr>\n",
       "      <th>0</th>\n",
       "      <td>2016-01-01 00:00:00</td>\n",
       "      <td>0.000000</td>\n",
       "      <td>0.000000</td>\n",
       "      <td>0.000000</td>\n",
       "    </tr>\n",
       "    <tr>\n",
       "      <th>1</th>\n",
       "      <td>2016-01-01 00:30:00</td>\n",
       "      <td>0.000000</td>\n",
       "      <td>0.000000</td>\n",
       "      <td>0.000000</td>\n",
       "    </tr>\n",
       "    <tr>\n",
       "      <th>2</th>\n",
       "      <td>2016-01-01 01:00:00</td>\n",
       "      <td>0.000000</td>\n",
       "      <td>0.000000</td>\n",
       "      <td>0.000000</td>\n",
       "    </tr>\n",
       "    <tr>\n",
       "      <th>3</th>\n",
       "      <td>2016-01-01 01:30:00</td>\n",
       "      <td>0.000000</td>\n",
       "      <td>0.000000</td>\n",
       "      <td>0.000000</td>\n",
       "    </tr>\n",
       "    <tr>\n",
       "      <th>4</th>\n",
       "      <td>2016-01-01 02:00:00</td>\n",
       "      <td>0.000000</td>\n",
       "      <td>0.000000</td>\n",
       "      <td>0.000000</td>\n",
       "    </tr>\n",
       "    <tr>\n",
       "      <th>5</th>\n",
       "      <td>2016-01-01 02:30:00</td>\n",
       "      <td>0.000000</td>\n",
       "      <td>0.000000</td>\n",
       "      <td>0.000000</td>\n",
       "    </tr>\n",
       "    <tr>\n",
       "      <th>6</th>\n",
       "      <td>2016-01-01 03:00:00</td>\n",
       "      <td>0.000000</td>\n",
       "      <td>0.000000</td>\n",
       "      <td>0.000000</td>\n",
       "    </tr>\n",
       "    <tr>\n",
       "      <th>7</th>\n",
       "      <td>2016-01-01 03:30:00</td>\n",
       "      <td>0.000000</td>\n",
       "      <td>0.000000</td>\n",
       "      <td>0.000000</td>\n",
       "    </tr>\n",
       "    <tr>\n",
       "      <th>8</th>\n",
       "      <td>2016-01-01 04:00:00</td>\n",
       "      <td>0.000000</td>\n",
       "      <td>0.000000</td>\n",
       "      <td>0.000000</td>\n",
       "    </tr>\n",
       "    <tr>\n",
       "      <th>9</th>\n",
       "      <td>2016-01-01 04:30:00</td>\n",
       "      <td>0.000000</td>\n",
       "      <td>0.000000</td>\n",
       "      <td>0.000000</td>\n",
       "    </tr>\n",
       "    <tr>\n",
       "      <th>10</th>\n",
       "      <td>2016-01-01 05:00:00</td>\n",
       "      <td>25.280494</td>\n",
       "      <td>22.066389</td>\n",
       "      <td>0.000000</td>\n",
       "    </tr>\n",
       "    <tr>\n",
       "      <th>11</th>\n",
       "      <td>1970-01-01 00:00:00</td>\n",
       "      <td>0.000000</td>\n",
       "      <td>0.000000</td>\n",
       "      <td>0.000000</td>\n",
       "    </tr>\n",
       "    <tr>\n",
       "      <th>12</th>\n",
       "      <td>1970-01-01 00:00:00</td>\n",
       "      <td>0.000000</td>\n",
       "      <td>13.090041</td>\n",
       "      <td>0.000000</td>\n",
       "    </tr>\n",
       "    <tr>\n",
       "      <th>13</th>\n",
       "      <td>2016-01-01 06:30:00</td>\n",
       "      <td>20.329227</td>\n",
       "      <td>53.354539</td>\n",
       "      <td>0.000000</td>\n",
       "    </tr>\n",
       "    <tr>\n",
       "      <th>14</th>\n",
       "      <td>2016-01-01 07:00:00</td>\n",
       "      <td>134.263242</td>\n",
       "      <td>118.311881</td>\n",
       "      <td>46.925795</td>\n",
       "    </tr>\n",
       "    <tr>\n",
       "      <th>15</th>\n",
       "      <td>2016-01-01 07:30:00</td>\n",
       "      <td>302.395799</td>\n",
       "      <td>521.215628</td>\n",
       "      <td>402.400737</td>\n",
       "    </tr>\n",
       "    <tr>\n",
       "      <th>16</th>\n",
       "      <td>2016-01-01 08:00:00</td>\n",
       "      <td>623.347074</td>\n",
       "      <td>973.585407</td>\n",
       "      <td>966.569770</td>\n",
       "    </tr>\n",
       "    <tr>\n",
       "      <th>17</th>\n",
       "      <td>2016-01-01 08:30:00</td>\n",
       "      <td>1175.820784</td>\n",
       "      <td>1655.365490</td>\n",
       "      <td>1443.700804</td>\n",
       "    </tr>\n",
       "    <tr>\n",
       "      <th>18</th>\n",
       "      <td>2016-01-01 09:00:00</td>\n",
       "      <td>1461.655431</td>\n",
       "      <td>2044.177104</td>\n",
       "      <td>1938.758201</td>\n",
       "    </tr>\n",
       "    <tr>\n",
       "      <th>19</th>\n",
       "      <td>2016-01-01 09:30:00</td>\n",
       "      <td>1763.448444</td>\n",
       "      <td>2543.414874</td>\n",
       "      <td>2350.992016</td>\n",
       "    </tr>\n",
       "    <tr>\n",
       "      <th>20</th>\n",
       "      <td>2016-01-01 10:00:00</td>\n",
       "      <td>1961.858859</td>\n",
       "      <td>2929.556445</td>\n",
       "      <td>2731.562589</td>\n",
       "    </tr>\n",
       "    <tr>\n",
       "      <th>21</th>\n",
       "      <td>2016-01-01 10:30:00</td>\n",
       "      <td>2173.088216</td>\n",
       "      <td>3308.982375</td>\n",
       "      <td>2982.066159</td>\n",
       "    </tr>\n",
       "    <tr>\n",
       "      <th>22</th>\n",
       "      <td>2016-01-01 11:00:00</td>\n",
       "      <td>2384.536603</td>\n",
       "      <td>3605.922045</td>\n",
       "      <td>3192.699180</td>\n",
       "    </tr>\n",
       "    <tr>\n",
       "      <th>23</th>\n",
       "      <td>2016-01-01 11:30:00</td>\n",
       "      <td>2365.919753</td>\n",
       "      <td>3532.184029</td>\n",
       "      <td>3355.235165</td>\n",
       "    </tr>\n",
       "    <tr>\n",
       "      <th>24</th>\n",
       "      <td>2016-01-01 12:00:00</td>\n",
       "      <td>2338.239506</td>\n",
       "      <td>3684.430901</td>\n",
       "      <td>3472.694516</td>\n",
       "    </tr>\n",
       "    <tr>\n",
       "      <th>25</th>\n",
       "      <td>2016-01-01 12:30:00</td>\n",
       "      <td>2290.936906</td>\n",
       "      <td>3728.392352</td>\n",
       "      <td>3509.479114</td>\n",
       "    </tr>\n",
       "    <tr>\n",
       "      <th>26</th>\n",
       "      <td>2016-01-01 13:00:00</td>\n",
       "      <td>2235.544586</td>\n",
       "      <td>3357.317271</td>\n",
       "      <td>3405.695405</td>\n",
       "    </tr>\n",
       "    <tr>\n",
       "      <th>27</th>\n",
       "      <td>2016-01-01 13:30:00</td>\n",
       "      <td>2101.216619</td>\n",
       "      <td>3180.665619</td>\n",
       "      <td>3191.929169</td>\n",
       "    </tr>\n",
       "    <tr>\n",
       "      <th>28</th>\n",
       "      <td>2016-01-01 14:00:00</td>\n",
       "      <td>1897.583109</td>\n",
       "      <td>2665.871887</td>\n",
       "      <td>2832.284729</td>\n",
       "    </tr>\n",
       "    <tr>\n",
       "      <th>29</th>\n",
       "      <td>2016-01-01 14:30:00</td>\n",
       "      <td>1675.408797</td>\n",
       "      <td>2196.924918</td>\n",
       "      <td>2421.152054</td>\n",
       "    </tr>\n",
       "    <tr>\n",
       "      <th>...</th>\n",
       "      <td>...</td>\n",
       "      <td>...</td>\n",
       "      <td>...</td>\n",
       "      <td>...</td>\n",
       "    </tr>\n",
       "    <tr>\n",
       "      <th>21858</th>\n",
       "      <td>2017-03-31 09:00:00</td>\n",
       "      <td>964.162948</td>\n",
       "      <td>1539.169997</td>\n",
       "      <td>1818.468630</td>\n",
       "    </tr>\n",
       "    <tr>\n",
       "      <th>21859</th>\n",
       "      <td>2017-03-31 09:30:00</td>\n",
       "      <td>1017.378532</td>\n",
       "      <td>1669.753039</td>\n",
       "      <td>2179.481057</td>\n",
       "    </tr>\n",
       "    <tr>\n",
       "      <th>21860</th>\n",
       "      <td>2017-03-31 10:00:00</td>\n",
       "      <td>1130.538705</td>\n",
       "      <td>1887.678113</td>\n",
       "      <td>2655.110564</td>\n",
       "    </tr>\n",
       "    <tr>\n",
       "      <th>21861</th>\n",
       "      <td>2017-03-31 10:30:00</td>\n",
       "      <td>1195.605953</td>\n",
       "      <td>1886.129196</td>\n",
       "      <td>1762.733567</td>\n",
       "    </tr>\n",
       "    <tr>\n",
       "      <th>21862</th>\n",
       "      <td>2017-03-31 11:00:00</td>\n",
       "      <td>1155.138556</td>\n",
       "      <td>1814.326492</td>\n",
       "      <td>2226.582123</td>\n",
       "    </tr>\n",
       "    <tr>\n",
       "      <th>21863</th>\n",
       "      <td>2017-03-31 11:30:00</td>\n",
       "      <td>1020.477153</td>\n",
       "      <td>1633.984039</td>\n",
       "      <td>2703.272494</td>\n",
       "    </tr>\n",
       "    <tr>\n",
       "      <th>21864</th>\n",
       "      <td>2017-03-31 12:00:00</td>\n",
       "      <td>901.282286</td>\n",
       "      <td>1595.008081</td>\n",
       "      <td>3243.202182</td>\n",
       "    </tr>\n",
       "    <tr>\n",
       "      <th>21865</th>\n",
       "      <td>2017-03-31 12:30:00</td>\n",
       "      <td>861.023602</td>\n",
       "      <td>1573.616671</td>\n",
       "      <td>2761.960626</td>\n",
       "    </tr>\n",
       "    <tr>\n",
       "      <th>21866</th>\n",
       "      <td>2017-03-31 13:00:00</td>\n",
       "      <td>776.470820</td>\n",
       "      <td>1363.124294</td>\n",
       "      <td>2858.745403</td>\n",
       "    </tr>\n",
       "    <tr>\n",
       "      <th>21867</th>\n",
       "      <td>2017-03-31 13:30:00</td>\n",
       "      <td>686.432227</td>\n",
       "      <td>1203.890688</td>\n",
       "      <td>2475.306631</td>\n",
       "    </tr>\n",
       "    <tr>\n",
       "      <th>21868</th>\n",
       "      <td>2017-03-31 14:00:00</td>\n",
       "      <td>545.300028</td>\n",
       "      <td>904.540859</td>\n",
       "      <td>1546.285937</td>\n",
       "    </tr>\n",
       "    <tr>\n",
       "      <th>21869</th>\n",
       "      <td>2017-03-31 14:30:00</td>\n",
       "      <td>452.367122</td>\n",
       "      <td>742.644015</td>\n",
       "      <td>1516.689022</td>\n",
       "    </tr>\n",
       "    <tr>\n",
       "      <th>21870</th>\n",
       "      <td>2017-03-31 15:00:00</td>\n",
       "      <td>309.912047</td>\n",
       "      <td>569.997973</td>\n",
       "      <td>1041.157231</td>\n",
       "    </tr>\n",
       "    <tr>\n",
       "      <th>21871</th>\n",
       "      <td>2017-03-31 15:30:00</td>\n",
       "      <td>273.895712</td>\n",
       "      <td>299.821118</td>\n",
       "      <td>617.823058</td>\n",
       "    </tr>\n",
       "    <tr>\n",
       "      <th>21872</th>\n",
       "      <td>2017-03-31 16:00:00</td>\n",
       "      <td>190.045114</td>\n",
       "      <td>156.302144</td>\n",
       "      <td>286.329898</td>\n",
       "    </tr>\n",
       "    <tr>\n",
       "      <th>21873</th>\n",
       "      <td>2017-03-31 16:30:00</td>\n",
       "      <td>117.878071</td>\n",
       "      <td>91.413101</td>\n",
       "      <td>87.286405</td>\n",
       "    </tr>\n",
       "    <tr>\n",
       "      <th>21874</th>\n",
       "      <td>2017-03-31 17:00:00</td>\n",
       "      <td>6.698469</td>\n",
       "      <td>11.021985</td>\n",
       "      <td>0.000000</td>\n",
       "    </tr>\n",
       "    <tr>\n",
       "      <th>21875</th>\n",
       "      <td>2017-03-31 17:30:00</td>\n",
       "      <td>0.155630</td>\n",
       "      <td>0.000000</td>\n",
       "      <td>12.664082</td>\n",
       "    </tr>\n",
       "    <tr>\n",
       "      <th>21876</th>\n",
       "      <td>2017-03-31 18:00:00</td>\n",
       "      <td>37.211656</td>\n",
       "      <td>0.000000</td>\n",
       "      <td>0.000000</td>\n",
       "    </tr>\n",
       "    <tr>\n",
       "      <th>21877</th>\n",
       "      <td>2017-03-31 18:30:00</td>\n",
       "      <td>0.000000</td>\n",
       "      <td>0.000000</td>\n",
       "      <td>0.000000</td>\n",
       "    </tr>\n",
       "    <tr>\n",
       "      <th>21878</th>\n",
       "      <td>2017-03-31 19:00:00</td>\n",
       "      <td>0.000000</td>\n",
       "      <td>0.000000</td>\n",
       "      <td>0.000000</td>\n",
       "    </tr>\n",
       "    <tr>\n",
       "      <th>21879</th>\n",
       "      <td>2017-03-31 19:30:00</td>\n",
       "      <td>0.000000</td>\n",
       "      <td>0.000000</td>\n",
       "      <td>0.000000</td>\n",
       "    </tr>\n",
       "    <tr>\n",
       "      <th>21880</th>\n",
       "      <td>2017-03-31 20:00:00</td>\n",
       "      <td>0.000000</td>\n",
       "      <td>0.000000</td>\n",
       "      <td>0.000000</td>\n",
       "    </tr>\n",
       "    <tr>\n",
       "      <th>21881</th>\n",
       "      <td>2017-03-31 20:30:00</td>\n",
       "      <td>0.000000</td>\n",
       "      <td>0.000000</td>\n",
       "      <td>0.000000</td>\n",
       "    </tr>\n",
       "    <tr>\n",
       "      <th>21882</th>\n",
       "      <td>2017-03-31 21:00:00</td>\n",
       "      <td>0.000000</td>\n",
       "      <td>0.000000</td>\n",
       "      <td>0.000000</td>\n",
       "    </tr>\n",
       "    <tr>\n",
       "      <th>21883</th>\n",
       "      <td>2017-03-31 21:30:00</td>\n",
       "      <td>0.000000</td>\n",
       "      <td>0.000000</td>\n",
       "      <td>0.000000</td>\n",
       "    </tr>\n",
       "    <tr>\n",
       "      <th>21884</th>\n",
       "      <td>2017-03-31 22:00:00</td>\n",
       "      <td>0.000000</td>\n",
       "      <td>0.000000</td>\n",
       "      <td>0.000000</td>\n",
       "    </tr>\n",
       "    <tr>\n",
       "      <th>21885</th>\n",
       "      <td>2017-03-31 22:30:00</td>\n",
       "      <td>0.000000</td>\n",
       "      <td>0.000000</td>\n",
       "      <td>0.000000</td>\n",
       "    </tr>\n",
       "    <tr>\n",
       "      <th>21886</th>\n",
       "      <td>2017-03-31 23:00:00</td>\n",
       "      <td>0.000000</td>\n",
       "      <td>0.000000</td>\n",
       "      <td>0.000000</td>\n",
       "    </tr>\n",
       "    <tr>\n",
       "      <th>21887</th>\n",
       "      <td>2017-03-31 23:30:00</td>\n",
       "      <td>0.000000</td>\n",
       "      <td>0.000000</td>\n",
       "      <td>0.000000</td>\n",
       "    </tr>\n",
       "  </tbody>\n",
       "</table>\n",
       "<p>21888 rows × 4 columns</p>\n",
       "</div>"
      ],
      "text/plain": [
       "                 datetime   blending_1   blending_2   blending_3\n",
       "0     2016-01-01 00:00:00     0.000000     0.000000     0.000000\n",
       "1     2016-01-01 00:30:00     0.000000     0.000000     0.000000\n",
       "2     2016-01-01 01:00:00     0.000000     0.000000     0.000000\n",
       "3     2016-01-01 01:30:00     0.000000     0.000000     0.000000\n",
       "4     2016-01-01 02:00:00     0.000000     0.000000     0.000000\n",
       "5     2016-01-01 02:30:00     0.000000     0.000000     0.000000\n",
       "6     2016-01-01 03:00:00     0.000000     0.000000     0.000000\n",
       "7     2016-01-01 03:30:00     0.000000     0.000000     0.000000\n",
       "8     2016-01-01 04:00:00     0.000000     0.000000     0.000000\n",
       "9     2016-01-01 04:30:00     0.000000     0.000000     0.000000\n",
       "10    2016-01-01 05:00:00    25.280494    22.066389     0.000000\n",
       "11    1970-01-01 00:00:00     0.000000     0.000000     0.000000\n",
       "12    1970-01-01 00:00:00     0.000000    13.090041     0.000000\n",
       "13    2016-01-01 06:30:00    20.329227    53.354539     0.000000\n",
       "14    2016-01-01 07:00:00   134.263242   118.311881    46.925795\n",
       "15    2016-01-01 07:30:00   302.395799   521.215628   402.400737\n",
       "16    2016-01-01 08:00:00   623.347074   973.585407   966.569770\n",
       "17    2016-01-01 08:30:00  1175.820784  1655.365490  1443.700804\n",
       "18    2016-01-01 09:00:00  1461.655431  2044.177104  1938.758201\n",
       "19    2016-01-01 09:30:00  1763.448444  2543.414874  2350.992016\n",
       "20    2016-01-01 10:00:00  1961.858859  2929.556445  2731.562589\n",
       "21    2016-01-01 10:30:00  2173.088216  3308.982375  2982.066159\n",
       "22    2016-01-01 11:00:00  2384.536603  3605.922045  3192.699180\n",
       "23    2016-01-01 11:30:00  2365.919753  3532.184029  3355.235165\n",
       "24    2016-01-01 12:00:00  2338.239506  3684.430901  3472.694516\n",
       "25    2016-01-01 12:30:00  2290.936906  3728.392352  3509.479114\n",
       "26    2016-01-01 13:00:00  2235.544586  3357.317271  3405.695405\n",
       "27    2016-01-01 13:30:00  2101.216619  3180.665619  3191.929169\n",
       "28    2016-01-01 14:00:00  1897.583109  2665.871887  2832.284729\n",
       "29    2016-01-01 14:30:00  1675.408797  2196.924918  2421.152054\n",
       "...                   ...          ...          ...          ...\n",
       "21858 2017-03-31 09:00:00   964.162948  1539.169997  1818.468630\n",
       "21859 2017-03-31 09:30:00  1017.378532  1669.753039  2179.481057\n",
       "21860 2017-03-31 10:00:00  1130.538705  1887.678113  2655.110564\n",
       "21861 2017-03-31 10:30:00  1195.605953  1886.129196  1762.733567\n",
       "21862 2017-03-31 11:00:00  1155.138556  1814.326492  2226.582123\n",
       "21863 2017-03-31 11:30:00  1020.477153  1633.984039  2703.272494\n",
       "21864 2017-03-31 12:00:00   901.282286  1595.008081  3243.202182\n",
       "21865 2017-03-31 12:30:00   861.023602  1573.616671  2761.960626\n",
       "21866 2017-03-31 13:00:00   776.470820  1363.124294  2858.745403\n",
       "21867 2017-03-31 13:30:00   686.432227  1203.890688  2475.306631\n",
       "21868 2017-03-31 14:00:00   545.300028   904.540859  1546.285937\n",
       "21869 2017-03-31 14:30:00   452.367122   742.644015  1516.689022\n",
       "21870 2017-03-31 15:00:00   309.912047   569.997973  1041.157231\n",
       "21871 2017-03-31 15:30:00   273.895712   299.821118   617.823058\n",
       "21872 2017-03-31 16:00:00   190.045114   156.302144   286.329898\n",
       "21873 2017-03-31 16:30:00   117.878071    91.413101    87.286405\n",
       "21874 2017-03-31 17:00:00     6.698469    11.021985     0.000000\n",
       "21875 2017-03-31 17:30:00     0.155630     0.000000    12.664082\n",
       "21876 2017-03-31 18:00:00    37.211656     0.000000     0.000000\n",
       "21877 2017-03-31 18:30:00     0.000000     0.000000     0.000000\n",
       "21878 2017-03-31 19:00:00     0.000000     0.000000     0.000000\n",
       "21879 2017-03-31 19:30:00     0.000000     0.000000     0.000000\n",
       "21880 2017-03-31 20:00:00     0.000000     0.000000     0.000000\n",
       "21881 2017-03-31 20:30:00     0.000000     0.000000     0.000000\n",
       "21882 2017-03-31 21:00:00     0.000000     0.000000     0.000000\n",
       "21883 2017-03-31 21:30:00     0.000000     0.000000     0.000000\n",
       "21884 2017-03-31 22:00:00     0.000000     0.000000     0.000000\n",
       "21885 2017-03-31 22:30:00     0.000000     0.000000     0.000000\n",
       "21886 2017-03-31 23:00:00     0.000000     0.000000     0.000000\n",
       "21887 2017-03-31 23:30:00     0.000000     0.000000     0.000000\n",
       "\n",
       "[21888 rows x 4 columns]"
      ]
     },
     "execution_count": 196,
     "metadata": {},
     "output_type": "execute_result"
    }
   ],
   "source": [
    "predict_data"
   ]
  },
  {
   "cell_type": "code",
   "execution_count": 197,
   "metadata": {
    "collapsed": true
   },
   "outputs": [],
   "source": [
    "predict_data.to_csv('data/predicted_data/simple_blending_prediction.tsv', sep = '\\t', index=False)"
   ]
  },
  {
   "cell_type": "code",
   "execution_count": null,
   "metadata": {
    "collapsed": true
   },
   "outputs": [],
   "source": []
  }
 ],
 "metadata": {
  "kernelspec": {
   "display_name": "Python 3",
   "language": "python",
   "name": "python3"
  },
  "language_info": {
   "codemirror_mode": {
    "name": "ipython",
    "version": 3
   },
   "file_extension": ".py",
   "mimetype": "text/x-python",
   "name": "python",
   "nbconvert_exporter": "python",
   "pygments_lexer": "ipython3",
   "version": "3.5.3"
  }
 },
 "nbformat": 4,
 "nbformat_minor": 2
}
