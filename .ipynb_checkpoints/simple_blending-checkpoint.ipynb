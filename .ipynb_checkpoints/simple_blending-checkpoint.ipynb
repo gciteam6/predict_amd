{
 "cells": [
  {
   "cell_type": "markdown",
   "metadata": {},
   "source": [
    "# **シンプルなブレンディングを試してみる**"
   ]
  },
  {
   "cell_type": "markdown",
   "metadata": {},
   "source": [
    "### **必要な関数・ライブラリ**"
   ]
  },
  {
   "cell_type": "code",
   "execution_count": 153,
   "metadata": {
    "collapsed": true
   },
   "outputs": [],
   "source": [
    "# データ加工・処理・分析モジュール\n",
    "import numpy as np\n",
    "import pandas as pd\n",
    "import tensorflow as tf\n",
    "import matplotlib.pyplot as plt\n",
    "from sklearn.model_selection import train_test_split\n",
    "\n",
    "from sklearn.ensemble import RandomForestRegressor\n",
    "from sklearn import linear_model\n",
    "\n",
    "import os\n",
    "import random\n",
    "\n",
    "%matplotlib inline\n",
    "\n",
    "import time"
   ]
  },
  {
   "cell_type": "code",
   "execution_count": 2,
   "metadata": {
    "collapsed": true
   },
   "outputs": [],
   "source": [
    "def set_time(dataframe, col_name):\n",
    "    '''\n",
    "    to_datetimeを使うための前処理\n",
    "    '''\n",
    "    dataframe[col_name] = dataframe[col_name].map(lambda x : transform_time(x))\n",
    "    return dataframe"
   ]
  },
  {
   "cell_type": "code",
   "execution_count": 93,
   "metadata": {
    "collapsed": true
   },
   "outputs": [],
   "source": [
    "def add_time_sincos(input_data, key=\"datetime\"):\n",
    "    '''\n",
    "    時間や月のデータを加える\n",
    "    '''\n",
    "    input_data['hour'] = input_data['datetime'].map(lambda x: int(x.hour))\n",
    "    input_data['minute'] = input_data['datetime'].map(lambda x: int(x.minute))\n",
    "    input_data['month'] = input_data['datetime'].map(lambda x: int(x.month))\n",
    "    input_data['month_cos'] = input_data['month'].map(lambda x: np.cos(np.pi * x / 12))\n",
    "    input_data['month_sin'] = input_data['month'].map(lambda x: np.sin(np.pi * x / 12))\n",
    "    input_data['hour_cos'] = input_data['hour'].map(lambda x: np.cos(np.pi * x / 24))\n",
    "    input_data['hour_sin'] = input_data['hour'].map(lambda x: np.sin(np.pi * x / 24))\n",
    "    input_data['min_cos'] = input_data['minute'].map(lambda x: np.cos(np.pi * x / 60))\n",
    "    input_data['min_sin'] = input_data['minute'].map(lambda x: np.sin(np.pi * x / 60))\n",
    "    input_data['year'] = input_data['datetime'].map(lambda x: int(x.year))\n",
    "    input_data = input_data.drop(['hour', 'month', 'minute'], axis=1)\n",
    "    return input_data"
   ]
  },
  {
   "cell_type": "code",
   "execution_count": 4,
   "metadata": {
    "collapsed": true
   },
   "outputs": [],
   "source": [
    "def transform_time(x):\n",
    "    '''\n",
    "    set_time内で使う関数\n",
    "    to_datetimeで24時をサポートしないので00に変更する処理\n",
    "    '''\n",
    "    str_x = str(x)\n",
    "    res = ''\n",
    "    if str(x)[8:10] == '24':\n",
    "        res = str_x[0:4] + '-' + str_x[4:6] + '-' + str_x[6:8] + ' 00:'+str_x[10:12] \n",
    "    else:\n",
    "        res = str_x[0:4] + '-' + str_x[4:6] + '-' + str_x[6:8] + ' '+ str_x[8:10] +':'+str_x[10:12]\n",
    "    return res"
   ]
  },
  {
   "cell_type": "code",
   "execution_count": 5,
   "metadata": {
    "collapsed": true
   },
   "outputs": [],
   "source": [
    "def drop_nan(X, Y):\n",
    "    '''\n",
    "    正解データがnanであるデータの組を削除\n",
    "    '''\n",
    "    mask = np.isnan(Y)\n",
    "    X = X[~mask]\n",
    "    Y = Y[~mask]\n",
    "    return X, Y"
   ]
  },
  {
   "cell_type": "code",
   "execution_count": 233,
   "metadata": {
    "collapsed": true
   },
   "outputs": [],
   "source": [
    "def to_zero(prediction):\n",
    "    '''\n",
    "    2012年から2015年の間で一度も発電量がなかった時間帯を0と予測するようにする\n",
    "    '''\n",
    "    mask = np.array([0,0,0,0,0,0,0,0,0,0,1,1,\n",
    "                    1,1,1,1,1,1,1,1,1,1,1,1,\n",
    "                    1,1,1,1,1,1,1,1,1,1,1,1,\n",
    "                    1,1,0,0,0,0,0,0,0,0,0,0])\n",
    "    all_mask = np.array([0,0,0,0,0,0,0,0,0,0,1,1,\n",
    "                        1,1,1,1,1,1,1,1,1,1,1,1,\n",
    "                        1,1,1,1,1,1,1,1,1,1,1,1,\n",
    "                        1,1,0,0,0,0,0,0,0,0,0,0])\n",
    "    length = int(len(prediction)/48)\n",
    "    \n",
    "    for i in range(length-1):\n",
    "        all_mask = np.r_[all_mask, mask]\n",
    "    \n",
    "    return prediction * all_mask"
   ]
  },
  {
   "cell_type": "code",
   "execution_count": 6,
   "metadata": {
    "collapsed": true
   },
   "outputs": [],
   "source": [
    "n_estimators = 20\n",
    "max_depth = 5\n",
    "max_features = \"sqrt\""
   ]
  },
  {
   "cell_type": "code",
   "execution_count": 7,
   "metadata": {
    "collapsed": true
   },
   "outputs": [],
   "source": [
    "# 発電量データ\n",
    "all_output_30 = pd.read_csv('data/processed_data/out_put.tsv', delimiter = '\\t')\n",
    "all_output_30['datetime'] = all_output_30['datetime'].map(lambda x : pd.to_datetime(x))"
   ]
  },
  {
   "cell_type": "markdown",
   "metadata": {},
   "source": [
    "### **浮島発電所について**"
   ]
  },
  {
   "cell_type": "code",
   "execution_count": 94,
   "metadata": {
    "collapsed": true
   },
   "outputs": [],
   "source": [
    "target_place = 1"
   ]
  },
  {
   "cell_type": "code",
   "execution_count": 95,
   "metadata": {
    "collapsed": true
   },
   "outputs": [],
   "source": [
    "# 発電量データ\n",
    "output_30 = all_output_30[['datetime', 'SOLA0'+str(target_place)]]"
   ]
  },
  {
   "cell_type": "code",
   "execution_count": 96,
   "metadata": {
    "collapsed": true
   },
   "outputs": [],
   "source": [
    "# いろんなモデルの予測値の集合(学習用)\n",
    "train_prediction = pd.read_csv(\"data/predicted_data/predict_train_SOLA0\"+str(target_place)+\".tsv\", delimiter=\"\\t\")\n",
    "train_prediction['datetime'] = train_prediction['datetime'].map(lambda x : pd.to_datetime(x))"
   ]
  },
  {
   "cell_type": "code",
   "execution_count": 97,
   "metadata": {
    "collapsed": true
   },
   "outputs": [],
   "source": [
    "# いろんなモデルの予測値の集合(ほんちゃん)\n",
    "test_prediction = pd.read_csv(\"data/predicted_data/predict_SOLA0\"+str(target_place)+\".tsv\", delimiter=\"\\t\")\n",
    "test_prediction['datetime'] = test_prediction['datetime'].map(lambda x : pd.to_datetime(x))"
   ]
  },
  {
   "cell_type": "code",
   "execution_count": 98,
   "metadata": {
    "collapsed": true
   },
   "outputs": [],
   "source": [
    "# 月, 時間の情報を加える\n",
    "train_prediction = add_time_sincos(train_prediction)\n",
    "test_prediction = add_time_sincos(test_prediction)"
   ]
  },
  {
   "cell_type": "code",
   "execution_count": 99,
   "metadata": {
    "scrolled": false
   },
   "outputs": [
    {
     "data": {
      "text/plain": [
       "27"
      ]
     },
     "execution_count": 99,
     "metadata": {},
     "output_type": "execute_result"
    }
   ],
   "source": [
    "len(test_prediction.columns)"
   ]
  },
  {
   "cell_type": "code",
   "execution_count": 100,
   "metadata": {
    "collapsed": true
   },
   "outputs": [],
   "source": [
    "t_s_datetime = train_prediction['datetime'][0]\n",
    "t_e_datetime = train_prediction['datetime'][len(train_prediction)-1]\n",
    "train_y_s_idx = output_30[output_30['datetime'] == t_s_datetime].index[0]\n",
    "train_y_e_idx = output_30[output_30['datetime'] == t_e_datetime].index[0]\n",
    "\n",
    "X = np.array(train_prediction.drop([\"datetime\"], axis=1))\n",
    "Y = output_30[\"SOLA0\"+str(target_place)][train_y_s_idx:train_y_e_idx+1]\n",
    "X_test = np.array(test_prediction.drop([\"datetime\"], axis=1))"
   ]
  },
  {
   "cell_type": "code",
   "execution_count": 101,
   "metadata": {
    "collapsed": true
   },
   "outputs": [],
   "source": [
    "X, Y = drop_nan(X, Y)"
   ]
  },
  {
   "cell_type": "code",
   "execution_count": 102,
   "metadata": {
    "collapsed": true
   },
   "outputs": [],
   "source": [
    "X_train, X_val, Y_train, Y_val = train_test_split(X, Y, test_size=int((X.shape[0] * 0.3)))"
   ]
  },
  {
   "cell_type": "code",
   "execution_count": 103,
   "metadata": {
    "collapsed": true
   },
   "outputs": [],
   "source": [
    "train_maes = []\n",
    "val_maes = []\n",
    "for i in range(15):\n",
    "    rf = RandomForestRegressor(n_estimators = n_estimators, max_depth = i+1, max_features=max_features)\n",
    "    rf.fit(X_train, Y_train)\n",
    "    Y_train_pred = rf.predict(X_train)\n",
    "    Y_val_pred = rf.predict(X_val)\n",
    "    train_maes.append(np.abs(Y_train_pred - Y_train).mean())\n",
    "    val_maes.append(np.abs(Y_val_pred - Y_val).mean())\n",
    "#     print(\"train_mae : \", np.abs(Y_train_pred - Y_train).mean())\n",
    "#     print(\"val_mae : \", np.abs(Y_val_pred - Y_val).mean())"
   ]
  },
  {
   "cell_type": "code",
   "execution_count": 104,
   "metadata": {},
   "outputs": [
    {
     "data": {
      "text/plain": [
       "<matplotlib.legend.Legend at 0x1169bfef0>"
      ]
     },
     "execution_count": 104,
     "metadata": {},
     "output_type": "execute_result"
    },
    {
     "data": {
      "image/png": "[encoded data removed]",
      "text/plain": [
       "<matplotlib.figure.Figure at 0x117fc6470>"
      ]
     },
     "metadata": {},
     "output_type": "display_data"
    }
   ],
   "source": [
    "plt.plot(train_maes, label=\"train_maes\")\n",
    "plt.plot(val_maes, label=\"validation_maes\")\n",
    "plt.xlabel(\"max_depth\")\n",
    "plt.title(\"decide max_depth\")\n",
    "plt.legend()"
   ]
  },
  {
   "cell_type": "code",
   "execution_count": 105,
   "metadata": {},
   "outputs": [
    {
     "name": "stdout",
     "output_type": "stream",
     "text": [
      "train_mae :  85.9163509902\n",
      "val_mae :  88.0622312904\n"
     ]
    }
   ],
   "source": [
    "# ランダムフォレストリグレッサー\n",
    "# rf = RandomForestRegressor(n_estimators = n_estimators, max_depth = max_depth, max_features=max_features)\n",
    "rf = RandomForestRegressor(n_estimators = n_estimators, max_depth = 4, max_features=max_features)\n",
    "\n",
    "rf.fit(X_train, Y_train)\n",
    "Y_train_pred = rf.predict(X_train)\n",
    "Y_val_pred = rf.predict(X_val)\n",
    "print(\"train_mae : \", np.abs(Y_train_pred - Y_train).mean())\n",
    "print(\"val_mae : \", np.abs(Y_val_pred - Y_val).mean())"
   ]
  },
  {
   "cell_type": "code",
   "execution_count": 106,
   "metadata": {
    "collapsed": true
   },
   "outputs": [],
   "source": [
    "Y_test_pred = rf.predict(X_test)"
   ]
  },
  {
   "cell_type": "code",
   "execution_count": 107,
   "metadata": {
    "collapsed": true
   },
   "outputs": [],
   "source": [
    "s_idx = test_prediction[test_prediction['datetime'] == pd.to_datetime('2016/01/01 00:00')].index[0]\n",
    "e_idx = test_prediction[test_prediction['datetime'] == pd.to_datetime('2017/3/31 23:30')].index[0]\n",
    "predict_data = pd.DataFrame({\"datetime\":test_prediction['datetime'][s_idx:e_idx+1]})\n",
    "predict_data.index = np.arange(len(predict_data))"
   ]
  },
  {
   "cell_type": "code",
   "execution_count": 108,
   "metadata": {
    "collapsed": true
   },
   "outputs": [],
   "source": [
    "# 2016/01/01 00:00 ~ 2017/3/31 23:50の予測データを書き出す\n",
    "predict_data[\"blending_\"+str(target_place)] = Y_test_pred"
   ]
  },
  {
   "cell_type": "markdown",
   "metadata": {},
   "source": [
    "### **扇島発電所について**"
   ]
  },
  {
   "cell_type": "code",
   "execution_count": 109,
   "metadata": {
    "collapsed": true
   },
   "outputs": [],
   "source": [
    "target_place = 2"
   ]
  },
  {
   "cell_type": "code",
   "execution_count": 110,
   "metadata": {
    "collapsed": true
   },
   "outputs": [],
   "source": [
    "# 発電量データ\n",
    "output_30 = all_output_30[['datetime', 'SOLA0'+str(target_place)]]"
   ]
  },
  {
   "cell_type": "code",
   "execution_count": 111,
   "metadata": {
    "collapsed": true
   },
   "outputs": [],
   "source": [
    "# いろんなモデルの予測値の集合(学習用)\n",
    "train_prediction = pd.read_csv(\"data/predicted_data/predict_train_SOLA0\"+str(target_place)+\".tsv\", delimiter=\"\\t\")\n",
    "train_prediction['datetime'] = train_prediction['datetime'].map(lambda x : pd.to_datetime(x))"
   ]
  },
  {
   "cell_type": "code",
   "execution_count": 112,
   "metadata": {
    "collapsed": true
   },
   "outputs": [],
   "source": [
    "# いろんなモデルの予測値の集合(ほんちゃん)\n",
    "test_prediction = pd.read_csv(\"data/predicted_data/predict_SOLA0\"+str(target_place)+\".tsv\", delimiter=\"\\t\")\n",
    "test_prediction['datetime'] = test_prediction['datetime'].map(lambda x : pd.to_datetime(x))"
   ]
  },
  {
   "cell_type": "code",
   "execution_count": 113,
   "metadata": {
    "collapsed": true
   },
   "outputs": [],
   "source": [
    "# 月, 時間の情報を加える\n",
    "train_prediction = add_time_sincos(train_prediction)\n",
    "test_prediction = add_time_sincos(test_prediction)"
   ]
  },
  {
   "cell_type": "code",
   "execution_count": 114,
   "metadata": {},
   "outputs": [
    {
     "data": {
      "text/plain": [
       "27"
      ]
     },
     "execution_count": 114,
     "metadata": {},
     "output_type": "execute_result"
    }
   ],
   "source": [
    "len(test_prediction.columns)"
   ]
  },
  {
   "cell_type": "code",
   "execution_count": 115,
   "metadata": {
    "collapsed": true
   },
   "outputs": [],
   "source": [
    "t_s_datetime = train_prediction['datetime'][0]\n",
    "t_e_datetime = train_prediction['datetime'][len(train_prediction)-1]\n",
    "train_y_s_idx = output_30[output_30['datetime'] == t_s_datetime].index[0]\n",
    "train_y_e_idx = output_30[output_30['datetime'] == t_e_datetime].index[0]\n",
    "\n",
    "X = np.array(train_prediction.drop([\"datetime\"], axis=1))\n",
    "Y = output_30[\"SOLA0\"+str(target_place)][train_y_s_idx:train_y_e_idx+1]\n",
    "X_test = np.array(test_prediction.drop([\"datetime\"], axis=1))"
   ]
  },
  {
   "cell_type": "code",
   "execution_count": 116,
   "metadata": {
    "collapsed": true
   },
   "outputs": [],
   "source": [
    "X, Y = drop_nan(X, Y)"
   ]
  },
  {
   "cell_type": "code",
   "execution_count": 117,
   "metadata": {
    "collapsed": true
   },
   "outputs": [],
   "source": [
    "X_train, X_val, Y_train, Y_val = train_test_split(X, Y, test_size=int((X.shape[0] * 0.3)))"
   ]
  },
  {
   "cell_type": "code",
   "execution_count": 124,
   "metadata": {
    "collapsed": true
   },
   "outputs": [],
   "source": [
    "train_maes = []\n",
    "val_maes = []\n",
    "for i in range(15):\n",
    "    rf = RandomForestRegressor(n_estimators = n_estimators, max_depth = i+1, max_features=max_features)\n",
    "    rf.fit(X_train, Y_train)\n",
    "    Y_train_pred = rf.predict(X_train)\n",
    "    Y_val_pred = rf.predict(X_val)\n",
    "    train_maes.append(np.abs(Y_train_pred - Y_train).mean())\n",
    "    val_maes.append(np.abs(Y_val_pred - Y_val).mean())\n",
    "#     print(\"train_mae : \", np.abs(Y_train_pred - Y_train).mean())\n",
    "#     print(\"val_mae : \", np.abs(Y_val_pred - Y_val).mean())"
   ]
  },
  {
   "cell_type": "code",
   "execution_count": 125,
   "metadata": {},
   "outputs": [
    {
     "data": {
      "text/plain": [
       "<matplotlib.legend.Legend at 0x10bb51f28>"
      ]
     },
     "execution_count": 125,
     "metadata": {},
     "output_type": "execute_result"
    },
    {
     "data": {
      "image/png": "[encoded data removed]",
      "text/plain": [
       "<matplotlib.figure.Figure at 0x115682a90>"
      ]
     },
     "metadata": {},
     "output_type": "display_data"
    }
   ],
   "source": [
    "plt.plot(train_maes, label=\"train_maes\")\n",
    "plt.plot(val_maes, label=\"validation_maes\")\n",
    "plt.xlabel(\"max_depth\")\n",
    "plt.title(\"decide max_depth\")\n",
    "plt.legend()"
   ]
  },
  {
   "cell_type": "code",
   "execution_count": 126,
   "metadata": {},
   "outputs": [
    {
     "name": "stdout",
     "output_type": "stream",
     "text": [
      "train_mae :  146.464126743\n",
      "val_mae :  148.89742961\n"
     ]
    }
   ],
   "source": [
    "# ランダムフォレストリグレッサー\n",
    "rf = RandomForestRegressor(n_estimators = n_estimators, max_depth = 4, max_features=max_features)\n",
    "rf.fit(X_train, Y_train)\n",
    "Y_train_pred = rf.predict(X_train)\n",
    "Y_val_pred = rf.predict(X_val)\n",
    "print(\"train_mae : \", np.abs(Y_train_pred - Y_train).mean())\n",
    "print(\"val_mae : \", np.abs(Y_val_pred - Y_val).mean())"
   ]
  },
  {
   "cell_type": "code",
   "execution_count": 127,
   "metadata": {},
   "outputs": [],
   "source": [
    "Y_test_pred = rf.predict(X_test)"
   ]
  },
  {
   "cell_type": "code",
   "execution_count": 128,
   "metadata": {
    "collapsed": true
   },
   "outputs": [],
   "source": [
    "# 2016/01/01 00:00 ~ 2017/3/31 23:50の予測データを書き出す\n",
    "predict_data[\"blending_\"+str(target_place)] = Y_test_pred"
   ]
  },
  {
   "cell_type": "markdown",
   "metadata": {},
   "source": [
    "### **米倉山発電所について**"
   ]
  },
  {
   "cell_type": "code",
   "execution_count": 129,
   "metadata": {
    "collapsed": true
   },
   "outputs": [],
   "source": [
    "target_place = 3"
   ]
  },
  {
   "cell_type": "code",
   "execution_count": 130,
   "metadata": {
    "collapsed": true
   },
   "outputs": [],
   "source": [
    "# 発電量データ\n",
    "output_30 = all_output_30[['datetime', 'SOLA0'+str(target_place)]]"
   ]
  },
  {
   "cell_type": "code",
   "execution_count": 131,
   "metadata": {
    "collapsed": true
   },
   "outputs": [],
   "source": [
    "# いろんなモデルの予測値の集合(学習用)\n",
    "train_prediction = pd.read_csv(\"data/predicted_data/predict_train_SOLA0\"+str(target_place)+\".tsv\", delimiter=\"\\t\")\n",
    "train_prediction['datetime'] = train_prediction['datetime'].map(lambda x : pd.to_datetime(x))"
   ]
  },
  {
   "cell_type": "code",
   "execution_count": 132,
   "metadata": {
    "collapsed": true
   },
   "outputs": [],
   "source": [
    "# いろんなモデルの予測値の集合(ほんちゃん)\n",
    "test_prediction = pd.read_csv(\"data/predicted_data/predict_SOLA0\"+str(target_place)+\".tsv\", delimiter=\"\\t\")\n",
    "test_prediction['datetime'] = test_prediction['datetime'].map(lambda x : pd.to_datetime(x))"
   ]
  },
  {
   "cell_type": "code",
   "execution_count": 133,
   "metadata": {
    "collapsed": true
   },
   "outputs": [],
   "source": [
    "# 月, 時間の情報を加える\n",
    "train_prediction = add_time_sincos(train_prediction)\n",
    "test_prediction = add_time_sincos(test_prediction)"
   ]
  },
  {
   "cell_type": "code",
   "execution_count": 134,
   "metadata": {},
   "outputs": [
    {
     "data": {
      "text/plain": [
       "Index(['datetime', 'targetplace_3_kwh_fc_one_layer_2000',\n",
       "       'targetplace_3_kwh_fc_one_layer_3000',\n",
       "       'targetplace_3_kwh_fc_one_layer_4000',\n",
       "       'targetplace_3_kwh_fc_one_layer_5000',\n",
       "       'targetplace_3_kwh_fc_month_one_layer_1000',\n",
       "       'targetplace_3_kwh_fc_month_one_layer_2000',\n",
       "       'targetplace_3_kwh_fc_month_one_layer_3000',\n",
       "       'targetplace_3_kwh_fc_month_one_layer_4000',\n",
       "       'targetplace_3_kwh_fc_month_one_layer_5000',\n",
       "       'targetplace_3_kwh_fc_with_wc_month_one_layer_1000',\n",
       "       'targetplace_3_kwh_fc_with_wc_month_one_layer_2000',\n",
       "       'targetplace_3_kwh_fc_with_wc_month_one_layer_3000',\n",
       "       'targetplace_3_kwh_fc_with_wc_month_one_layer_4000',\n",
       "       'targetplace_3_kwh_fc_with_wc_month_one_layer_5000',\n",
       "       'targetplace_3_kwh_all_wfc_month_one_layer_1000',\n",
       "       'targetplace_3_kwh_all_wfc_month_one_layer_2000',\n",
       "       'targetplace_3_kwh_all_wfc_month_one_layer_3000',\n",
       "       'targetplace_3_kwh_all_wfc_month_one_layer_4000',\n",
       "       'targetplace_3_kwh_all_wfc_month_one_layer_5000', 'month_cos',\n",
       "       'month_sin', 'hour_cos', 'hour_sin', 'min_cos', 'min_sin', 'year'],\n",
       "      dtype='object')"
      ]
     },
     "execution_count": 134,
     "metadata": {},
     "output_type": "execute_result"
    }
   ],
   "source": [
    "len(train_prediction.columns)"
   ]
  },
  {
   "cell_type": "code",
   "execution_count": 135,
   "metadata": {
    "collapsed": true
   },
   "outputs": [],
   "source": [
    "t_s_datetime = train_prediction['datetime'][0]\n",
    "t_e_datetime = train_prediction['datetime'][len(train_prediction)-1]\n",
    "train_y_s_idx = output_30[output_30['datetime'] == t_s_datetime].index[0]\n",
    "train_y_e_idx = output_30[output_30['datetime'] == t_e_datetime].index[0]\n",
    "\n",
    "X = np.array(train_prediction.drop([\"datetime\"], axis=1))\n",
    "Y = output_30[\"SOLA0\"+str(target_place)][train_y_s_idx:train_y_e_idx+1]\n",
    "X_test = np.array(test_prediction.drop([\"datetime\"], axis=1))"
   ]
  },
  {
   "cell_type": "code",
   "execution_count": 136,
   "metadata": {
    "collapsed": true
   },
   "outputs": [],
   "source": [
    "X, Y = drop_nan(X, Y)"
   ]
  },
  {
   "cell_type": "code",
   "execution_count": 137,
   "metadata": {
    "collapsed": true
   },
   "outputs": [],
   "source": [
    "X_train, X_val, Y_train, Y_val = train_test_split(X, Y, test_size=int((X.shape[0] * 0.3)))"
   ]
  },
  {
   "cell_type": "code",
   "execution_count": 138,
   "metadata": {
    "collapsed": true
   },
   "outputs": [],
   "source": [
    "train_maes = []\n",
    "val_maes = []\n",
    "for i in range(15):\n",
    "    rf = RandomForestRegressor(n_estimators = n_estimators, max_depth = i+1, max_features=max_features)\n",
    "    rf.fit(X_train, Y_train)\n",
    "    Y_train_pred = rf.predict(X_train)\n",
    "    Y_val_pred = rf.predict(X_val)\n",
    "    train_maes.append(np.abs(Y_train_pred - Y_train).mean())\n",
    "    val_maes.append(np.abs(Y_val_pred - Y_val).mean())\n",
    "#     print(\"train_mae : \", np.abs(Y_train_pred - Y_train).mean())\n",
    "#     print(\"val_mae : \", np.abs(Y_val_pred - Y_val).mean())"
   ]
  },
  {
   "cell_type": "code",
   "execution_count": 139,
   "metadata": {},
   "outputs": [
    {
     "data": {
      "text/plain": [
       "<matplotlib.legend.Legend at 0x118205ef0>"
      ]
     },
     "execution_count": 139,
     "metadata": {},
     "output_type": "execute_result"
    },
    {
     "data": {
      "image/png": "[encoded data removed]",
      "text/plain": [
       "<matplotlib.figure.Figure at 0x1182c1908>"
      ]
     },
     "metadata": {},
     "output_type": "display_data"
    }
   ],
   "source": [
    "plt.plot(train_maes, label=\"train_maes\")\n",
    "plt.plot(val_maes, label=\"validation_maes\")\n",
    "plt.xlabel(\"max_depth\")\n",
    "plt.title(\"decide max_depth\")\n",
    "plt.legend()"
   ]
  },
  {
   "cell_type": "code",
   "execution_count": 140,
   "metadata": {},
   "outputs": [
    {
     "name": "stdout",
     "output_type": "stream",
     "text": [
      "train_mae :  115.304195694\n",
      "val_mae :  114.603457466\n"
     ]
    }
   ],
   "source": [
    "# ランダムフォレストリグレッサー\n",
    "rf = RandomForestRegressor(n_estimators = n_estimators, max_depth = 4, max_features=max_features)\n",
    "rf.fit(X_train, Y_train)\n",
    "Y_train_pred = rf.predict(X_train)\n",
    "Y_val_pred = rf.predict(X_val)\n",
    "print(\"train_mae : \", np.abs(Y_train_pred - Y_train).mean())\n",
    "print(\"val_mae : \", np.abs(Y_val_pred - Y_val).mean())"
   ]
  },
  {
   "cell_type": "code",
   "execution_count": 141,
   "metadata": {},
   "outputs": [],
   "source": [
    "Y_test_pred = rf.predict(X_test)"
   ]
  },
  {
   "cell_type": "code",
   "execution_count": 142,
   "metadata": {
    "collapsed": true
   },
   "outputs": [],
   "source": [
    "# 2016/01/01 00:00 ~ 2017/3/31 23:50の予測データを書き出す\n",
    "predict_data[\"blending_\"+str(target_place)] = Y_test_pred"
   ]
  },
  {
   "cell_type": "markdown",
   "metadata": {},
   "source": [
    "### **書き出す**"
   ]
  },
  {
   "cell_type": "code",
   "execution_count": 143,
   "metadata": {
    "collapsed": true
   },
   "outputs": [],
   "source": [
    "predict_data.to_csv('data/predicted_data/simple_blending_prediction.tsv', sep = '\\t', index=False)"
   ]
  },
  {
   "cell_type": "markdown",
   "metadata": {},
   "source": [
    "### 線形モデルでやってみる"
   ]
  },
  {
   "cell_type": "markdown",
   "metadata": {},
   "source": [
    "### **浮島**"
   ]
  },
  {
   "cell_type": "code",
   "execution_count": 238,
   "metadata": {
    "collapsed": true
   },
   "outputs": [],
   "source": [
    "target_place = 1"
   ]
  },
  {
   "cell_type": "code",
   "execution_count": 239,
   "metadata": {
    "collapsed": true
   },
   "outputs": [],
   "source": [
    "# 発電量データ\n",
    "output_30 = all_output_30[['datetime', 'SOLA0'+str(target_place)]]"
   ]
  },
  {
   "cell_type": "code",
   "execution_count": 240,
   "metadata": {
    "collapsed": true
   },
   "outputs": [],
   "source": [
    "# いろんなモデルの予測値の集合(学習用)\n",
    "train_prediction = pd.read_csv(\"data/predicted_data/predict_train_SOLA0\"+str(target_place)+\".tsv\", delimiter=\"\\t\")\n",
    "train_prediction['datetime'] = train_prediction['datetime'].map(lambda x : pd.to_datetime(x))"
   ]
  },
  {
   "cell_type": "code",
   "execution_count": 241,
   "metadata": {
    "collapsed": true
   },
   "outputs": [],
   "source": [
    "# いろんなモデルの予測値の集合(ほんちゃん)\n",
    "test_prediction = pd.read_csv(\"data/predicted_data/predict_SOLA0\"+str(target_place)+\".tsv\", delimiter=\"\\t\")\n",
    "test_prediction['datetime'] = test_prediction['datetime'].map(lambda x : pd.to_datetime(x))"
   ]
  },
  {
   "cell_type": "code",
   "execution_count": 242,
   "metadata": {},
   "outputs": [
    {
     "data": {
      "text/plain": [
       "20"
      ]
     },
     "execution_count": 242,
     "metadata": {},
     "output_type": "execute_result"
    }
   ],
   "source": [
    "len(train_prediction.columns)"
   ]
  },
  {
   "cell_type": "code",
   "execution_count": 243,
   "metadata": {
    "collapsed": true
   },
   "outputs": [],
   "source": [
    "t_s_datetime = train_prediction['datetime'][0]\n",
    "t_e_datetime = train_prediction['datetime'][len(train_prediction)-1]\n",
    "train_y_s_idx = output_30[output_30['datetime'] == t_s_datetime].index[0]\n",
    "train_y_e_idx = output_30[output_30['datetime'] == t_e_datetime].index[0]\n",
    "\n",
    "X = np.array(train_prediction.drop([\"datetime\"], axis=1))\n",
    "Y = output_30[\"SOLA0\"+str(target_place)][train_y_s_idx:train_y_e_idx+1]\n",
    "X_test = np.array(test_prediction.drop([\"datetime\"], axis=1))"
   ]
  },
  {
   "cell_type": "code",
   "execution_count": 244,
   "metadata": {
    "collapsed": true
   },
   "outputs": [],
   "source": [
    "X, Y = drop_nan(X, Y)"
   ]
  },
  {
   "cell_type": "code",
   "execution_count": 245,
   "metadata": {
    "collapsed": true
   },
   "outputs": [],
   "source": [
    "X_train, X_val, Y_train, Y_val = train_test_split(X, Y, test_size=int((X.shape[0] * 0.3)))"
   ]
  },
  {
   "cell_type": "code",
   "execution_count": 246,
   "metadata": {},
   "outputs": [
    {
     "name": "stdout",
     "output_type": "stream",
     "text": [
      "train_mae :  85.9317362591\n",
      "val_mae :  84.8381372641\n"
     ]
    }
   ],
   "source": [
    "# ランダムフォレストリグレッサー\n",
    "lin_model = linear_model.LinearRegression()\n",
    "rf.fit(X_train, Y_train)\n",
    "Y_train_pred = rf.predict(X_train)\n",
    "Y_val_pred = rf.predict(X_val)\n",
    "print(\"train_mae : \", np.abs(Y_train_pred - Y_train).mean())\n",
    "print(\"val_mae : \", np.abs(Y_val_pred - Y_val).mean())"
   ]
  },
  {
   "cell_type": "code",
   "execution_count": 247,
   "metadata": {
    "collapsed": true
   },
   "outputs": [],
   "source": [
    "Y_test_pred = rf.predict(X_test)"
   ]
  },
  {
   "cell_type": "code",
   "execution_count": 248,
   "metadata": {
    "collapsed": true
   },
   "outputs": [],
   "source": [
    "# 2016/01/01 00:00 ~ 2017/3/31 23:50の予測データを書き出す\n",
    "predict_data[\"blending_\"+str(target_place)] = Y_test_pred"
   ]
  },
  {
   "cell_type": "markdown",
   "metadata": {},
   "source": [
    "### **扇島**"
   ]
  },
  {
   "cell_type": "code",
   "execution_count": 249,
   "metadata": {
    "collapsed": true
   },
   "outputs": [],
   "source": [
    "target_place = 2"
   ]
  },
  {
   "cell_type": "code",
   "execution_count": 250,
   "metadata": {
    "collapsed": true
   },
   "outputs": [],
   "source": [
    "# 発電量データ\n",
    "output_30 = all_output_30[['datetime', 'SOLA0'+str(target_place)]]"
   ]
  },
  {
   "cell_type": "code",
   "execution_count": 251,
   "metadata": {
    "collapsed": true
   },
   "outputs": [],
   "source": [
    "# いろんなモデルの予測値の集合(学習用)\n",
    "train_prediction = pd.read_csv(\"data/predicted_data/predict_train_SOLA0\"+str(target_place)+\".tsv\", delimiter=\"\\t\")\n",
    "train_prediction['datetime'] = train_prediction['datetime'].map(lambda x : pd.to_datetime(x))"
   ]
  },
  {
   "cell_type": "code",
   "execution_count": 252,
   "metadata": {
    "collapsed": true
   },
   "outputs": [],
   "source": [
    "# いろんなモデルの予測値の集合(ほんちゃん)\n",
    "test_prediction = pd.read_csv(\"data/predicted_data/predict_SOLA0\"+str(target_place)+\".tsv\", delimiter=\"\\t\")\n",
    "test_prediction['datetime'] = test_prediction['datetime'].map(lambda x : pd.to_datetime(x))"
   ]
  },
  {
   "cell_type": "code",
   "execution_count": 253,
   "metadata": {},
   "outputs": [
    {
     "data": {
      "text/plain": [
       "20"
      ]
     },
     "execution_count": 253,
     "metadata": {},
     "output_type": "execute_result"
    }
   ],
   "source": [
    "len(train_prediction.columns)"
   ]
  },
  {
   "cell_type": "code",
   "execution_count": 254,
   "metadata": {
    "collapsed": true
   },
   "outputs": [],
   "source": [
    "t_s_datetime = train_prediction['datetime'][0]\n",
    "t_e_datetime = train_prediction['datetime'][len(train_prediction)-1]\n",
    "train_y_s_idx = output_30[output_30['datetime'] == t_s_datetime].index[0]\n",
    "train_y_e_idx = output_30[output_30['datetime'] == t_e_datetime].index[0]\n",
    "\n",
    "X = np.array(train_prediction.drop([\"datetime\"], axis=1))\n",
    "Y = output_30[\"SOLA0\"+str(target_place)][train_y_s_idx:train_y_e_idx+1]\n",
    "X_test = np.array(test_prediction.drop([\"datetime\"], axis=1))"
   ]
  },
  {
   "cell_type": "code",
   "execution_count": 255,
   "metadata": {
    "collapsed": true
   },
   "outputs": [],
   "source": [
    "X, Y = drop_nan(X, Y)"
   ]
  },
  {
   "cell_type": "code",
   "execution_count": 256,
   "metadata": {
    "collapsed": true
   },
   "outputs": [],
   "source": [
    "X_train, X_val, Y_train, Y_val = train_test_split(X, Y, test_size=int((X.shape[0] * 0.3)))"
   ]
  },
  {
   "cell_type": "code",
   "execution_count": 257,
   "metadata": {},
   "outputs": [
    {
     "name": "stdout",
     "output_type": "stream",
     "text": [
      "train_mae :  144.537050826\n",
      "val_mae :  146.28040389\n"
     ]
    }
   ],
   "source": [
    "# 線形モデル\n",
    "lin_model = linear_model.LinearRegression()\n",
    "rf.fit(X_train, Y_train)\n",
    "Y_train_pred = rf.predict(X_train)\n",
    "Y_val_pred = rf.predict(X_val)\n",
    "print(\"train_mae : \", np.abs(Y_train_pred - Y_train).mean())\n",
    "print(\"val_mae : \", np.abs(Y_val_pred - Y_val).mean())"
   ]
  },
  {
   "cell_type": "code",
   "execution_count": 258,
   "metadata": {
    "collapsed": true
   },
   "outputs": [],
   "source": [
    "Y_test_pred = rf.predict(X_test)"
   ]
  },
  {
   "cell_type": "code",
   "execution_count": 259,
   "metadata": {
    "collapsed": true
   },
   "outputs": [],
   "source": [
    "# 2016/01/01 00:00 ~ 2017/3/31 23:50の予測データを書き出す\n",
    "predict_data[\"blending_\"+str(target_place)] = Y_test_pred"
   ]
  },
  {
   "cell_type": "markdown",
   "metadata": {},
   "source": [
    "### **米倉山**"
   ]
  },
  {
   "cell_type": "code",
   "execution_count": 260,
   "metadata": {
    "collapsed": true
   },
   "outputs": [],
   "source": [
    "target_place = 3"
   ]
  },
  {
   "cell_type": "code",
   "execution_count": 261,
   "metadata": {
    "collapsed": true
   },
   "outputs": [],
   "source": [
    "# 発電量データ\n",
    "output_30 = all_output_30[['datetime', 'SOLA0'+str(target_place)]]"
   ]
  },
  {
   "cell_type": "code",
   "execution_count": 262,
   "metadata": {
    "collapsed": true
   },
   "outputs": [],
   "source": [
    "# いろんなモデルの予測値の集合(学習用)\n",
    "train_prediction = pd.read_csv(\"data/predicted_data/predict_train_SOLA0\"+str(target_place)+\".tsv\", delimiter=\"\\t\")\n",
    "train_prediction['datetime'] = train_prediction['datetime'].map(lambda x : pd.to_datetime(x))"
   ]
  },
  {
   "cell_type": "code",
   "execution_count": 263,
   "metadata": {
    "collapsed": true
   },
   "outputs": [],
   "source": [
    "# いろんなモデルの予測値の集合(ほんちゃん)\n",
    "test_prediction = pd.read_csv(\"data/predicted_data/predict_SOLA0\"+str(target_place)+\".tsv\", delimiter=\"\\t\")\n",
    "test_prediction['datetime'] = test_prediction['datetime'].map(lambda x : pd.to_datetime(x))"
   ]
  },
  {
   "cell_type": "code",
   "execution_count": 264,
   "metadata": {},
   "outputs": [
    {
     "data": {
      "text/plain": [
       "20"
      ]
     },
     "execution_count": 264,
     "metadata": {},
     "output_type": "execute_result"
    }
   ],
   "source": [
    "len(train_prediction.columns)"
   ]
  },
  {
   "cell_type": "code",
   "execution_count": 265,
   "metadata": {
    "collapsed": true
   },
   "outputs": [],
   "source": [
    "t_s_datetime = train_prediction['datetime'][0]\n",
    "t_e_datetime = train_prediction['datetime'][len(train_prediction)-1]\n",
    "train_y_s_idx = output_30[output_30['datetime'] == t_s_datetime].index[0]\n",
    "train_y_e_idx = output_30[output_30['datetime'] == t_e_datetime].index[0]\n",
    "\n",
    "X = np.array(train_prediction.drop([\"datetime\"], axis=1))\n",
    "Y = output_30[\"SOLA0\"+str(target_place)][train_y_s_idx:train_y_e_idx+1]\n",
    "X_test = np.array(test_prediction.drop([\"datetime\"], axis=1))"
   ]
  },
  {
   "cell_type": "code",
   "execution_count": 266,
   "metadata": {
    "collapsed": true
   },
   "outputs": [],
   "source": [
    "X, Y = drop_nan(X, Y)"
   ]
  },
  {
   "cell_type": "code",
   "execution_count": 267,
   "metadata": {
    "collapsed": true
   },
   "outputs": [],
   "source": [
    "X_train, X_val, Y_train, Y_val = train_test_split(X, Y, test_size=int((X.shape[0] * 0.3)))"
   ]
  },
  {
   "cell_type": "code",
   "execution_count": 268,
   "metadata": {},
   "outputs": [
    {
     "name": "stdout",
     "output_type": "stream",
     "text": [
      "train_mae :  112.988711149\n",
      "val_mae :  113.793410939\n"
     ]
    }
   ],
   "source": [
    "# 線形モデル\n",
    "lin_model = linear_model.LinearRegression()\n",
    "rf.fit(X_train, Y_train)\n",
    "Y_train_pred = rf.predict(X_train)\n",
    "Y_val_pred = rf.predict(X_val)\n",
    "print(\"train_mae : \", np.abs(Y_train_pred - Y_train).mean())\n",
    "print(\"val_mae : \", np.abs(Y_val_pred - Y_val).mean())"
   ]
  },
  {
   "cell_type": "code",
   "execution_count": 269,
   "metadata": {
    "collapsed": true
   },
   "outputs": [],
   "source": [
    "Y_test_pred = rf.predict(X_test)"
   ]
  },
  {
   "cell_type": "code",
   "execution_count": 270,
   "metadata": {
    "collapsed": true
   },
   "outputs": [],
   "source": [
    "# 2016/01/01 00:00 ~ 2017/3/31 23:50の予測データを書き出す\n",
    "predict_data[\"blending_\"+str(target_place)] = Y_test_pred"
   ]
  },
  {
   "cell_type": "markdown",
   "metadata": {},
   "source": [
    "### **書き出す**"
   ]
  },
  {
   "cell_type": "code",
   "execution_count": 271,
   "metadata": {
    "collapsed": true
   },
   "outputs": [],
   "source": [
    "predict_data.to_csv('data/predicted_data/simple_blending_prediction.tsv', sep = '\\t', index=False)"
   ]
  },
  {
   "cell_type": "code",
   "execution_count": null,
   "metadata": {
    "collapsed": true
   },
   "outputs": [],
   "source": []
  }
 ],
 "metadata": {
  "kernelspec": {
   "display_name": "Python 3",
   "language": "python",
   "name": "python3"
  },
  "language_info": {
   "codemirror_mode": {
    "name": "ipython",
    "version": 3
   },
   "file_extension": ".py",
   "mimetype": "text/x-python",
   "name": "python",
   "nbconvert_exporter": "python",
   "pygments_lexer": "ipython3",
   "version": "3.5.3"
  }
 },
 "nbformat": 4,
 "nbformat_minor": 2
}
