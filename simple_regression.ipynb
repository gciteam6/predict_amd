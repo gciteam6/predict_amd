{
 "cells": [
  {
   "cell_type": "markdown",
   "metadata": {},
   "source": [
    "# **チュートリアルを参考にしたデータハンドリングによって簡単な回帰を試してみる**"
   ]
  },
  {
   "cell_type": "markdown",
   "metadata": {},
   "source": [
    "### **必要な関数・ライブラリ**"
   ]
  },
  {
   "cell_type": "code",
   "execution_count": 1,
   "metadata": {
    "collapsed": true
   },
   "outputs": [],
   "source": [
    "# データ加工・処理・分析モジュール\n",
    "import numpy as np\n",
    "import pandas as pd\n",
    "import matplotlib.pyplot as plt\n",
    "\n",
    "from sklearn.model_selection import train_test_split\n",
    "from sklearn.model_selection import KFold\n",
    "\n",
    "import os\n",
    "import sys\n",
    "from new_MLP import MLP\n",
    "\n",
    "%matplotlib inline"
   ]
  },
  {
   "cell_type": "code",
   "execution_count": 2,
   "metadata": {
    "collapsed": true
   },
   "outputs": [],
   "source": [
    "def set_time(dataframe, col_name):\n",
    "    '''\n",
    "    to_datetimeを使うための前処理\n",
    "    '''\n",
    "    dataframe[col_name] = dataframe[col_name].map(lambda x : transform_time(x))\n",
    "    return dataframe"
   ]
  },
  {
   "cell_type": "code",
   "execution_count": 3,
   "metadata": {
    "collapsed": true
   },
   "outputs": [],
   "source": [
    "def transform_time(x):\n",
    "    '''\n",
    "    set_time内で使う関数\n",
    "    to_datetimeで24時をサポートしないので00に変更する処理\n",
    "    '''\n",
    "    str_x = str(x)\n",
    "    res = ''\n",
    "    if str(x)[8:10] == '24':\n",
    "        res = str_x[0:4] + '-' + str_x[4:6] + '-' + str_x[6:8] + ' 00:'+str_x[10:12] \n",
    "    else:\n",
    "        res = str_x[0:4] + '-' + str_x[4:6] + '-' + str_x[6:8] + ' '+ str_x[8:10] +':'+str_x[10:12]\n",
    "    return res"
   ]
  },
  {
   "cell_type": "code",
   "execution_count": 4,
   "metadata": {
    "collapsed": true
   },
   "outputs": [],
   "source": [
    "def add_hour_month(input_data):\n",
    "    '''\n",
    "    時間や月のデータを加える\n",
    "    '''\n",
    "    input_data['hour'] = input_data['datetime'].map(lambda x: int(x.hour))\n",
    "    input_data['minute'] = input_data['datetime'].map(lambda x: int(x.minute))\n",
    "    input_data['month'] = input_data['datetime'].map(lambda x: int(x.month))\n",
    "    input_data['month_cos'] = input_data['month'].map(lambda x: np.cos(np.pi * x / 12))\n",
    "    input_data['month_sin'] = input_data['month'].map(lambda x: np.sin(np.pi * x / 12))\n",
    "    input_data['hour_cos'] = input_data['hour'].map(lambda x: np.cos(np.pi * x / 24))\n",
    "    input_data['hour_sin'] = input_data['hour'].map(lambda x: np.sin(np.pi * x / 24))\n",
    "    input_data = input_data.drop(['hour', 'minute', 'month'], axis=1)\n",
    "    return input_data"
   ]
  },
  {
   "cell_type": "code",
   "execution_count": 5,
   "metadata": {
    "collapsed": true
   },
   "outputs": [],
   "source": [
    "def get_30(tmp_data):\n",
    "    '''\n",
    "    必要なカラムだけ拾ってきて30分ごのデータに整形\n",
    "    '''\n",
    "    tmp_data = tmp_data[[\"datetime\", \"pr\", \"max_ws\", \"ave_ws\", \"max_tp\", \"min_tp\", \"sl\"]]\n",
    "    \n",
    "    # 欠損値を一つ前の値で置換/output_data\n",
    "    tmp_data = tmp_data.fillna(method='bfill')\n",
    "    tmp_30 = tmp_data.set_index('datetime').groupby(pd.TimeGrouper(freq='1800s', closed='left')).sum()\n",
    "\n",
    "    # datetimeのカラムを復活させる\n",
    "    tmp_30['datetime'] = tmp_30.index\n",
    "    tmp_30.index = np.arange(len(tmp_30))\n",
    "    tmp_30.head()\n",
    "    return tmp_30"
   ]
  },
  {
   "cell_type": "code",
   "execution_count": 6,
   "metadata": {
    "collapsed": true
   },
   "outputs": [],
   "source": [
    "def add_time_data(input_data, key=\"datetime\"):\n",
    "    '''\n",
    "    時間や月のデータを加える\n",
    "    '''\n",
    "    input_data['month'] = input_data[key].map(lambda x: int(x.month))\n",
    "    input_data['month_cos'] = input_data['month'].map(lambda x: np.cos(np.pi * x / 12))\n",
    "    input_data['month_sin'] = input_data['month'].map(lambda x: np.sin(np.pi * x / 12))\n",
    "    input_data['hour'] = input_data[key].map(lambda x: int(x.month))\n",
    "    input_data['hour_cos'] = input_data['hour'].map(lambda x: np.cos(np.pi * x / 24))\n",
    "    input_data['hour_sin'] = input_data['hour'].map(lambda x: np.sin(np.pi * x / 24))\n",
    "    input_data = input_data.drop(['month', 'hour'], axis=1)\n",
    "    return input_data"
   ]
  },
  {
   "cell_type": "code",
   "execution_count": 7,
   "metadata": {
    "collapsed": true
   },
   "outputs": [],
   "source": [
    "def normalize_array(x):\n",
    "    '''\n",
    "    min, max, min-max正規化を行なった配列(np.array)を返す\n",
    "    '''\n",
    "    x = np.array(x)\n",
    "    x_min = x.min()\n",
    "    x_max = x.max()\n",
    "    normalized = (x - x_min) / (x_max - x_min) \n",
    "    return x_min, x_max, normalized"
   ]
  },
  {
   "cell_type": "code",
   "execution_count": 8,
   "metadata": {
    "collapsed": true
   },
   "outputs": [],
   "source": [
    "def denormalize_array(normalized_x, x_min, x_max):\n",
    "    '''\n",
    "    正規化前のmin, maxを用いて元のスケールに戻す\n",
    "    '''\n",
    "    normalized_x = np.array(normalized_x)\n",
    "    denormalize_array = (normalized_x) * (x_max - x_min) + x_min\n",
    "    return denormalize_array"
   ]
  },
  {
   "cell_type": "code",
   "execution_count": 9,
   "metadata": {
    "collapsed": true
   },
   "outputs": [],
   "source": [
    "def drop_nan(X, Y):\n",
    "    '''\n",
    "    正解データがnanであるデータの組を削除\n",
    "    '''\n",
    "    mask = np.isnan(Y)\n",
    "    X = X[~mask]\n",
    "    Y = Y[~mask]\n",
    "    return X, Y"
   ]
  },
  {
   "cell_type": "code",
   "execution_count": 10,
   "metadata": {
    "collapsed": true
   },
   "outputs": [],
   "source": [
    "def calc_mae(X, Y):\n",
    "    '''\n",
    "    X, Yがメモリを食いすぎるのでfor文で計算\n",
    "    '''\n",
    "    mse = 0\n",
    "    for i in range(len(X)):\n",
    "        mse += np.abs(X[i]- Y[i])\n",
    "    return mse/len(X)"
   ]
  },
  {
   "cell_type": "code",
   "execution_count": 11,
   "metadata": {
    "collapsed": true
   },
   "outputs": [],
   "source": [
    "def scaling_output(output_30):\n",
    "    '''\n",
    "    直近2015年の総発電量に合わせて他の年の初で量も合わせる関数\n",
    "    '''\n",
    "    output_30['year'] = output_30['datetime'].map(lambda x : x.year)\n",
    "    y_output = output_30.groupby(['year'], as_index=False).sum()\n",
    "    sum_2012 = y_output[\"SOLA0\"+str(target_place)][0]\n",
    "    sum_2013 = y_output[\"SOLA0\"+str(target_place)][1]\n",
    "    sum_2014 = y_output[\"SOLA0\"+str(target_place)][2]\n",
    "    sum_2015 = y_output[\"SOLA0\"+str(target_place)][3]\n",
    "    scaled_2012 = np.array(output_30[output_30['year'] == 2012][\"SOLA0\"+str(target_place)].map(lambda x : x * sum_2015/sum_2012))\n",
    "    scaled_2013 = np.array(output_30[output_30['year'] == 2013][\"SOLA0\"+str(target_place)].map(lambda x : x * sum_2015/sum_2013))\n",
    "    scaled_2014 = np.array(output_30[output_30['year'] == 2014][\"SOLA0\"+str(target_place)].map(lambda x : x * sum_2015/sum_2014))\n",
    "    scaled_2015 = np.array(output_30[output_30['year'] == 2015][\"SOLA0\"+str(target_place)])\n",
    "    tmp = np.r_[scaled_2012, scaled_2013, scaled_2014, scaled_2015]\n",
    "    output_30[\"SOLA0\"+str(target_place)] = tmp\n",
    "    \n",
    "    return output_30"
   ]
  },
  {
   "cell_type": "code",
   "execution_count": 12,
   "metadata": {
    "collapsed": true
   },
   "outputs": [],
   "source": [
    "def wv_to_sin(x):\n",
    "    '''\n",
    "    漢字になってる風向データをsinになおす\n",
    "    '''\n",
    "    if x == \"北\":\n",
    "        return -1.0\n",
    "    elif x == \"北西\":\n",
    "        return -0.5\n",
    "    elif x == \"西\":\n",
    "        return 0.0\n",
    "    elif x == \"南西\":\n",
    "        return 0.5\n",
    "    elif x == \"南\":\n",
    "        return 1.0\n",
    "    elif x == \"南東\":\n",
    "        return 0.5\n",
    "    elif x == \"東\":\n",
    "        return 0\n",
    "    else:\n",
    "        return -0.5"
   ]
  },
  {
   "cell_type": "code",
   "execution_count": 13,
   "metadata": {
    "collapsed": true
   },
   "outputs": [],
   "source": [
    "def wv_to_cos(x):\n",
    "    '''\n",
    "    漢字になってる風向データをcosになおす\n",
    "    '''\n",
    "    \n",
    "    if x == \"北\":\n",
    "        return 0.0\n",
    "    elif x == \"北西\":\n",
    "        return 0.5\n",
    "    elif x == \"西\":\n",
    "        return 1.0\n",
    "    elif x == \"南西\":\n",
    "        return 0.5\n",
    "    elif x == \"南\":\n",
    "        return 0.0\n",
    "    elif x == \"南東\":\n",
    "        return -0.5\n",
    "    elif x == \"東\":\n",
    "        return -1.0\n",
    "    else:\n",
    "        return -0.5"
   ]
  },
  {
   "cell_type": "code",
   "execution_count": 14,
   "metadata": {
    "collapsed": true
   },
   "outputs": [],
   "source": [
    "def extract_hours(output_30):\n",
    "    '''\n",
    "    決まった時間帯のみを予測するための関数\n",
    "    '''\n",
    "    output_30[ \"hour\"] = output_30[\"datetime\"].map(lambda x : x.hour)\n",
    "    output_30 = output_30[output_30[\"hour\"] > 6]\n",
    "    output_30 = output_30[output_30[\"hour\"] < 20]\n",
    "    output_30 = output_30.drop([\"hour\"], axis=1)\n",
    "    return output_30"
   ]
  },
  {
   "cell_type": "markdown",
   "metadata": {},
   "source": [
    "### **データの準備**"
   ]
  },
  {
   "cell_type": "code",
   "execution_count": 15,
   "metadata": {
    "collapsed": true
   },
   "outputs": [],
   "source": [
    "target_place = 3"
   ]
  },
  {
   "cell_type": "code",
   "execution_count": 16,
   "metadata": {
    "collapsed": true
   },
   "outputs": [],
   "source": [
    "# 発電量データ\n",
    "output_30 = pd.read_csv('data/processed_data/out_put.tsv', delimiter = '\\t')\n",
    "output_30['datetime'] = output_30['datetime'].map(lambda x : pd.to_datetime(x))\n",
    "output_30 = output_30[['datetime', 'SOLA0'+str(target_place)]]\n",
    "output_30 = scaling_output(output_30)"
   ]
  },
  {
   "cell_type": "code",
   "execution_count": 17,
   "metadata": {
    "collapsed": true
   },
   "outputs": [],
   "source": [
    "# 天気予報のデータを実は今まで使ってなかった\n",
    "if target_place == 1 or target_place == 2:\n",
    "    fc_data = pd.read_csv('data/raw_data/forecast_kanagawa.tsv', delimiter = '\\t')\n",
    "    fc_data['date'] = fc_data['date'].map(lambda x : pd.to_datetime(x))\n",
    "elif target_place == 3:\n",
    "    fc_data = pd.read_csv('data/raw_data/forecast_yamanashi.tsv', delimiter = '\\t')\n",
    "    fc_data['date'] = fc_data['date'].map(lambda x : pd.to_datetime(x))\n",
    "else:\n",
    "    raise ValueError(\"invalid input target_place\")"
   ]
  },
  {
   "cell_type": "code",
   "execution_count": 18,
   "metadata": {},
   "outputs": [
    {
     "data": {
      "text/plain": [
       "Index(['date', 'weather', 'weather_detail', 'wind', 'wave', 'pc_00-06',\n",
       "       'pc_06-12', 'pc_12-18', 'pc_18-24', 'we_00-03', 'we_03-06', 'we_06-09',\n",
       "       'we_09-12', 'we_12-15', 'we_15-18', 'we_18-21', 'we_21-24', 'wv_00-03',\n",
       "       'wv_03-06', 'wv_06-09', 'wv_09-12', 'wv_12-15', 'wv_15-18', 'wv_18-21',\n",
       "       'wv_21-24', 'wc_00-03', 'wc_03-06', 'wc_06-09', 'wc_09-12', 'wc_12-15',\n",
       "       'wc_15-18', 'wc_18-21', 'wc_21-24', 'min_tp', 'max_tp', 'tp_00-03',\n",
       "       'tp_03-06', 'tp_06-09', 'tp_09-12', 'tp_12-15', 'tp_15-18', 'tp_18-21',\n",
       "       'tp_21-24'],\n",
       "      dtype='object')"
      ]
     },
     "execution_count": 18,
     "metadata": {},
     "output_type": "execute_result"
    }
   ],
   "source": [
    "fc_data.columns"
   ]
  },
  {
   "cell_type": "code",
   "execution_count": 19,
   "metadata": {
    "collapsed": true
   },
   "outputs": [],
   "source": [
    "# 各データ期間のタイムスタンプを作成\n",
    "# 学習＋評価期間：30分間隔\n",
    "total_rng = pd.date_range(\"201201010000\", \"201703312330\", freq=\"30T\")"
   ]
  },
  {
   "cell_type": "code",
   "execution_count": 20,
   "metadata": {
    "collapsed": true
   },
   "outputs": [],
   "source": [
    "input_df= pd.DataFrame()\n",
    "input_df[\"datetime\"] = total_rng"
   ]
  },
  {
   "cell_type": "code",
   "execution_count": 21,
   "metadata": {
    "collapsed": true
   },
   "outputs": [],
   "source": [
    "# 3時間毎天気予報の追加\n",
    "fc_weather = fc_data.loc[:,fc_data.columns.str.startswith(\"we_\")]\n",
    "fc_weather = fc_weather.values.flatten()\n",
    "fc_weather = np.repeat(fc_weather, 6)\n",
    "input_df[\"weather\"] = fc_weather\n",
    "\n",
    "# 3時間毎気温の追加\n",
    "fc_weather = fc_data.loc[:,fc_data.columns.str.startswith(\"tp_\")]\n",
    "fc_weather = fc_weather.values.flatten()\n",
    "fc_weather = np.repeat(fc_weather, 6)\n",
    "input_df[\"tp\"] = fc_weather\n",
    "\n",
    "# 3時間毎風向の追加\n",
    "fc_weather = fc_data.loc[:,fc_data.columns.str.startswith(\"wv_\")]\n",
    "fc_weather = fc_weather.values.flatten()\n",
    "fc_weather = np.repeat(fc_weather, 6)\n",
    "input_df[\"wv\"] = fc_weather\n",
    "input_df[\"wv_cos\"] = input_df[\"wv\"].map(lambda x : wv_to_cos(x))\n",
    "input_df[\"wv_sin\"] = input_df[\"wv\"].map(lambda x : wv_to_sin(x))\n",
    "input_df = input_df.drop([\"wv\"], axis=1)\n",
    "\n",
    "# 3時間毎風速の追加\n",
    "fc_weather = fc_data.loc[:,fc_data.columns.str.startswith(\"wc_\")]\n",
    "fc_weather = fc_weather.values.flatten()\n",
    "fc_weather = np.repeat(fc_weather, 6)\n",
    "input_df[\"wc\"] = fc_weather\n",
    "\n",
    "# 6時間毎降水確率の追加\n",
    "fc_weather = fc_data.loc[:,fc_data.columns.str.startswith(\"pc_\")]\n",
    "fc_weather = fc_weather.values.flatten()\n",
    "fc_weather = np.repeat(fc_weather, 12)\n",
    "input_df[\"pc\"] = fc_weather"
   ]
  },
  {
   "cell_type": "code",
   "execution_count": 22,
   "metadata": {
    "collapsed": true
   },
   "outputs": [],
   "source": [
    "input_df['month'] = input_df['datetime'].map(lambda x: str(x.month))\n",
    "input_df['hour'] = input_df['datetime'].map(lambda x : str(x.hour))"
   ]
  },
  {
   "cell_type": "code",
   "execution_count": 23,
   "metadata": {
    "collapsed": true
   },
   "outputs": [],
   "source": [
    "# sincosのダミー変数は使わない\n",
    "input_df = pd.get_dummies(input_df)"
   ]
  },
  {
   "cell_type": "code",
   "execution_count": 24,
   "metadata": {},
   "outputs": [
    {
     "data": {
      "text/html": [
       "<div>\n",
       "<style>\n",
       "    .dataframe thead tr:only-child th {\n",
       "        text-align: right;\n",
       "    }\n",
       "\n",
       "    .dataframe thead th {\n",
       "        text-align: left;\n",
       "    }\n",
       "\n",
       "    .dataframe tbody tr th {\n",
       "        vertical-align: top;\n",
       "    }\n",
       "</style>\n",
       "<table border=\"1\" class=\"dataframe\">\n",
       "  <thead>\n",
       "    <tr style=\"text-align: right;\">\n",
       "      <th></th>\n",
       "      <th>datetime</th>\n",
       "      <th>tp</th>\n",
       "      <th>wv_cos</th>\n",
       "      <th>wv_sin</th>\n",
       "      <th>wc</th>\n",
       "      <th>pc</th>\n",
       "      <th>weather_くもり</th>\n",
       "      <th>weather_晴れ</th>\n",
       "      <th>weather_雨</th>\n",
       "      <th>weather_雪</th>\n",
       "      <th>...</th>\n",
       "      <th>hour_21</th>\n",
       "      <th>hour_22</th>\n",
       "      <th>hour_23</th>\n",
       "      <th>hour_3</th>\n",
       "      <th>hour_4</th>\n",
       "      <th>hour_5</th>\n",
       "      <th>hour_6</th>\n",
       "      <th>hour_7</th>\n",
       "      <th>hour_8</th>\n",
       "      <th>hour_9</th>\n",
       "    </tr>\n",
       "  </thead>\n",
       "  <tbody>\n",
       "    <tr>\n",
       "      <th>0</th>\n",
       "      <td>2012-01-01 00:00:00</td>\n",
       "      <td>1</td>\n",
       "      <td>0.5</td>\n",
       "      <td>0.5</td>\n",
       "      <td>2</td>\n",
       "      <td>10</td>\n",
       "      <td>1</td>\n",
       "      <td>0</td>\n",
       "      <td>0</td>\n",
       "      <td>0</td>\n",
       "      <td>...</td>\n",
       "      <td>0</td>\n",
       "      <td>0</td>\n",
       "      <td>0</td>\n",
       "      <td>0</td>\n",
       "      <td>0</td>\n",
       "      <td>0</td>\n",
       "      <td>0</td>\n",
       "      <td>0</td>\n",
       "      <td>0</td>\n",
       "      <td>0</td>\n",
       "    </tr>\n",
       "    <tr>\n",
       "      <th>1</th>\n",
       "      <td>2012-01-01 00:30:00</td>\n",
       "      <td>1</td>\n",
       "      <td>0.5</td>\n",
       "      <td>0.5</td>\n",
       "      <td>2</td>\n",
       "      <td>10</td>\n",
       "      <td>1</td>\n",
       "      <td>0</td>\n",
       "      <td>0</td>\n",
       "      <td>0</td>\n",
       "      <td>...</td>\n",
       "      <td>0</td>\n",
       "      <td>0</td>\n",
       "      <td>0</td>\n",
       "      <td>0</td>\n",
       "      <td>0</td>\n",
       "      <td>0</td>\n",
       "      <td>0</td>\n",
       "      <td>0</td>\n",
       "      <td>0</td>\n",
       "      <td>0</td>\n",
       "    </tr>\n",
       "    <tr>\n",
       "      <th>2</th>\n",
       "      <td>2012-01-01 01:00:00</td>\n",
       "      <td>1</td>\n",
       "      <td>0.5</td>\n",
       "      <td>0.5</td>\n",
       "      <td>2</td>\n",
       "      <td>10</td>\n",
       "      <td>1</td>\n",
       "      <td>0</td>\n",
       "      <td>0</td>\n",
       "      <td>0</td>\n",
       "      <td>...</td>\n",
       "      <td>0</td>\n",
       "      <td>0</td>\n",
       "      <td>0</td>\n",
       "      <td>0</td>\n",
       "      <td>0</td>\n",
       "      <td>0</td>\n",
       "      <td>0</td>\n",
       "      <td>0</td>\n",
       "      <td>0</td>\n",
       "      <td>0</td>\n",
       "    </tr>\n",
       "    <tr>\n",
       "      <th>3</th>\n",
       "      <td>2012-01-01 01:30:00</td>\n",
       "      <td>1</td>\n",
       "      <td>0.5</td>\n",
       "      <td>0.5</td>\n",
       "      <td>2</td>\n",
       "      <td>10</td>\n",
       "      <td>1</td>\n",
       "      <td>0</td>\n",
       "      <td>0</td>\n",
       "      <td>0</td>\n",
       "      <td>...</td>\n",
       "      <td>0</td>\n",
       "      <td>0</td>\n",
       "      <td>0</td>\n",
       "      <td>0</td>\n",
       "      <td>0</td>\n",
       "      <td>0</td>\n",
       "      <td>0</td>\n",
       "      <td>0</td>\n",
       "      <td>0</td>\n",
       "      <td>0</td>\n",
       "    </tr>\n",
       "    <tr>\n",
       "      <th>4</th>\n",
       "      <td>2012-01-01 02:00:00</td>\n",
       "      <td>1</td>\n",
       "      <td>0.5</td>\n",
       "      <td>0.5</td>\n",
       "      <td>2</td>\n",
       "      <td>10</td>\n",
       "      <td>1</td>\n",
       "      <td>0</td>\n",
       "      <td>0</td>\n",
       "      <td>0</td>\n",
       "      <td>...</td>\n",
       "      <td>0</td>\n",
       "      <td>0</td>\n",
       "      <td>0</td>\n",
       "      <td>0</td>\n",
       "      <td>0</td>\n",
       "      <td>0</td>\n",
       "      <td>0</td>\n",
       "      <td>0</td>\n",
       "      <td>0</td>\n",
       "      <td>0</td>\n",
       "    </tr>\n",
       "  </tbody>\n",
       "</table>\n",
       "<p>5 rows × 46 columns</p>\n",
       "</div>"
      ],
      "text/plain": [
       "             datetime  tp  wv_cos  wv_sin  wc  pc  weather_くもり  weather_晴れ  \\\n",
       "0 2012-01-01 00:00:00   1     0.5     0.5   2  10            1           0   \n",
       "1 2012-01-01 00:30:00   1     0.5     0.5   2  10            1           0   \n",
       "2 2012-01-01 01:00:00   1     0.5     0.5   2  10            1           0   \n",
       "3 2012-01-01 01:30:00   1     0.5     0.5   2  10            1           0   \n",
       "4 2012-01-01 02:00:00   1     0.5     0.5   2  10            1           0   \n",
       "\n",
       "   weather_雨  weather_雪   ...    hour_21  hour_22  hour_23  hour_3  hour_4  \\\n",
       "0          0          0   ...          0        0        0       0       0   \n",
       "1          0          0   ...          0        0        0       0       0   \n",
       "2          0          0   ...          0        0        0       0       0   \n",
       "3          0          0   ...          0        0        0       0       0   \n",
       "4          0          0   ...          0        0        0       0       0   \n",
       "\n",
       "   hour_5  hour_6  hour_7  hour_8  hour_9  \n",
       "0       0       0       0       0       0  \n",
       "1       0       0       0       0       0  \n",
       "2       0       0       0       0       0  \n",
       "3       0       0       0       0       0  \n",
       "4       0       0       0       0       0  \n",
       "\n",
       "[5 rows x 46 columns]"
      ]
     },
     "execution_count": 24,
     "metadata": {},
     "output_type": "execute_result"
    }
   ],
   "source": [
    "input_df.head()"
   ]
  },
  {
   "cell_type": "code",
   "execution_count": 25,
   "metadata": {},
   "outputs": [],
   "source": [
    "# モデル構築のためにデータを分割する\n",
    "wfc_data = input_df\n",
    "\n",
    "# 学習に必要なデータ\n",
    "# 前日の気象予報のデータで翌日の0:00 ~ 23:30を予測する\n",
    "train_x_s_idx = wfc_data[wfc_data['datetime'] == pd.to_datetime('2012-01-01 00:00')].index[0]\n",
    "train_x_e_idx = wfc_data[wfc_data['datetime'] == pd.to_datetime('2015-12-31 23:30')].index[0]\n",
    "train_y_s_idx = output_30[output_30['datetime'] == pd.to_datetime('2012-01-01 00:00')].index[0]\n",
    "train_y_e_idx = output_30[output_30['datetime'] == pd.to_datetime('2015-12-31 23:30')].index[0]\n",
    "\n",
    "# 決まった時間帯のみを予測する\n",
    "# output_kwh = output_30[train_y_s_idx:train_y_e_idx+1]\n",
    "# output_kwh = extract_hours(output_kwh)[\"SOLA0\"+str(target_place)]\n",
    "# input_data = wfc_data[train_x_s_idx:train_x_e_idx+1]\n",
    "# input_data = extract_hours(input_data).drop([\"datetime\"], axis=1)\n",
    "\n",
    "output_kwh = output_30[\"SOLA0\"+str(target_place)][train_y_s_idx:train_y_e_idx+1]\n",
    "input_data = wfc_data.drop([\"datetime\"], axis=1)[train_x_s_idx:train_x_e_idx+1]\n",
    "\n",
    "# 予測に必要なデータ\n",
    "# 前日の00:00 ~ 20:00のデータで翌日の0:00 ~ 23:30を予測する\n",
    "test_x_s_idx = wfc_data[wfc_data[\"datetime\"] == pd.to_datetime('2016-01-01 00:00')].index[0]\n",
    "test_x_e_idx = wfc_data[wfc_data[\"datetime\"] == pd.to_datetime('2017-3-31 23:30')].index[0]\n",
    "\n",
    "# 決まった時間のみを予測する\n",
    "# test_input_data = wfc_data[test_x_s_idx:test_x_e_idx+1]\n",
    "# test_input_data = extract_hours(test_input_data).drop([\"datetime\"], axis=1)\n",
    "\n",
    "test_input_data = wfc_data.drop([\"datetime\"], axis=1)[test_x_s_idx:test_x_e_idx+1]"
   ]
  },
  {
   "cell_type": "code",
   "execution_count": 26,
   "metadata": {
    "collapsed": true
   },
   "outputs": [],
   "source": [
    "# min-max正規化しておく\n",
    "normalized_input = (input_data - input_data.min()) / (input_data.max() - input_data.min())\n",
    "normalized_input = normalized_input.dropna(axis=1)\n",
    "normalized_input = np.array(normalized_input)\n",
    "normalized_kwh = (output_kwh) /( output_kwh.max())\n",
    "normalized_kwh = np.array(normalized_kwh)\n",
    "\n",
    "input_list = normalized_input\n",
    "kwh_list =normalized_kwh\n",
    "\n",
    "X, Y = drop_nan(input_list, kwh_list)\n",
    "\n",
    "# testデータの入力を用意\n",
    "normalized_test_input = (test_input_data - test_input_data.min()) / (test_input_data.max() - test_input_data.min())\n",
    "normalized_test_input = normalized_test_input.dropna(axis=1)\n",
    "normalized_test_input = np.array(normalized_test_input)\n",
    "\n",
    "X_test = normalized_test_input\n",
    "\n",
    "# denormalize用\n",
    "kwh_max = float(output_kwh.max())\n",
    "kwh_min = 0"
   ]
  },
  {
   "cell_type": "code",
   "execution_count": 27,
   "metadata": {
    "collapsed": true
   },
   "outputs": [],
   "source": [
    "X_train, X_val, Y_train, Y_val = train_test_split(X, Y, test_size=int((X.shape[0] * 0.3)))"
   ]
  },
  {
   "cell_type": "markdown",
   "metadata": {},
   "source": [
    "### **とりあえず発電しない時間帯を除かない状態でやってます**"
   ]
  },
  {
   "cell_type": "markdown",
   "metadata": {},
   "source": [
    "### **線形回帰**"
   ]
  },
  {
   "cell_type": "code",
   "execution_count": 64,
   "metadata": {
    "collapsed": true
   },
   "outputs": [],
   "source": [
    "from sklearn import linear_model"
   ]
  },
  {
   "cell_type": "code",
   "execution_count": 65,
   "metadata": {},
   "outputs": [
    {
     "name": "stdout",
     "output_type": "stream",
     "text": [
      "train_mae :  381.389526863\n",
      "test_mae :  378.700991064\n"
     ]
    }
   ],
   "source": [
    "lin_model = linear_model.LinearRegression()\n",
    "lin_model.fit(X_train, Y_train)\n",
    "\n",
    "Y_train_pred = lin_model.predict(X_train)\n",
    "Y_train_pred = denormalize_array(Y_train_pred, kwh_min, kwh_max)\n",
    "Y_train_true = denormalize_array(Y_train, kwh_min, kwh_max)\n",
    "\n",
    "Y_val_pred = lin_model.predict(X_val)\n",
    "Y_val_pred = denormalize_array(Y_val_pred, kwh_min, kwh_max)\n",
    "Y_val_true = denormalize_array(Y_val, kwh_min, kwh_max)\n",
    "\n",
    "print(\"train_mae : \", np.abs(Y_train_pred - Y_train_true).mean())\n",
    "print(\"test_mae : \", np.abs(Y_val_pred - Y_val_true).mean())"
   ]
  },
  {
   "cell_type": "code",
   "execution_count": 66,
   "metadata": {
    "collapsed": true
   },
   "outputs": [],
   "source": [
    "Y_test_pred = lin_model.predict(X_test)\n",
    "Y_test_pred = denormalize_array(Y_test_pred, kwh_min, kwh_max)"
   ]
  },
  {
   "cell_type": "code",
   "execution_count": 67,
   "metadata": {},
   "outputs": [
    {
     "data": {
      "text/plain": [
       "[<matplotlib.lines.Line2D at 0x11504f5c0>]"
      ]
     },
     "execution_count": 67,
     "metadata": {},
     "output_type": "execute_result"
    },
    {
     "data": {
      "image/png": "[encoded data removed]",
      "text/plain": [
       "<matplotlib.figure.Figure at 0x11504f4a8>"
      ]
     },
     "metadata": {},
     "output_type": "display_data"
    }
   ],
   "source": [
    "plt.plot(Y_val_pred[0:500])\n",
    "plt.plot(Y_val_true[0:500])"
   ]
  },
  {
   "cell_type": "markdown",
   "metadata": {},
   "source": [
    "### **マイナスを0にすれば幾分スコアは上がりそうだが...**\n",
    "**L1, L2ノルムを加えて正則化してどうこうの問題じゃないような気がする**"
   ]
  },
  {
   "cell_type": "markdown",
   "metadata": {},
   "source": [
    "### **PLS(なんか動かないです)**"
   ]
  },
  {
   "cell_type": "code",
   "execution_count": 34,
   "metadata": {
    "collapsed": true
   },
   "outputs": [],
   "source": [
    "# from sklearn.cross_decomposition import PLSRegression\n",
    "# from sklearn.model_selection import KFold"
   ]
  },
  {
   "cell_type": "code",
   "execution_count": 35,
   "metadata": {},
   "outputs": [
    {
     "name": "stdout",
     "output_type": "stream",
     "text": [
      "\n"
     ]
    }
   ],
   "source": [
    "'''\n",
    "# 交差検証\n",
    "t_maes = []\n",
    "v_maes = []\n",
    "n_splits = 5\n",
    "for train_idx, test_idx in KFold(n_splits=n_splits).split(X):\n",
    "    X_train = X[train_idx]\n",
    "    Y_train = Y[train_idx]\n",
    "    X_val = X[test_idx]\n",
    "    Y_val = Y[test_idx]\n",
    "    pls = PLSRegression(n_components = 3)\n",
    "    pls.fit(X_train, Y_train)\n",
    "    Y_train_pred = denormalize_array(pls.predict(X_train), kwh_min, kwh_max)\n",
    "    Y_val_pred = denormalize_array(pls.predict(X_val), kwh_min, kwh_max)\n",
    "    t_maes.append(np.abs(Y_train_pred - denormalize_array(Y_train, kwh_min, kwh_max)).mean())\n",
    "    v_maes.append(np.abs(Y_val_pred - denormalize_array(Y_val, kwh_min, kwh_max)).mean())\n",
    "'''\n",
    "print()"
   ]
  },
  {
   "cell_type": "markdown",
   "metadata": {},
   "source": [
    "### **random forest**"
   ]
  },
  {
   "cell_type": "code",
   "execution_count": 36,
   "metadata": {
    "collapsed": true
   },
   "outputs": [],
   "source": [
    "from sklearn.ensemble import RandomForestRegressor"
   ]
  },
  {
   "cell_type": "code",
   "execution_count": 38,
   "metadata": {},
   "outputs": [],
   "source": [
    "# 最適な深さを決める\n",
    "\n",
    "train_maes = []\n",
    "val_maes = []\n",
    "n = 30\n",
    "n_start = 10\n",
    "for i in range(n):\n",
    "    rf = RandomForestRegressor(n_estimators = 10, max_depth = i+n_start)\n",
    "    rf.fit(X_train, Y_train)\n",
    "    \n",
    "    Y_train_pred = rf.predict(X_train)\n",
    "    Y_train_pred = denormalize_array(Y_train_pred, kwh_min, kwh_max)\n",
    "    Y_train_true = denormalize_array(Y_train, kwh_min, kwh_max)\n",
    "    \n",
    "    Y_val_pred = rf.predict(X_val)\n",
    "    Y_val_pred = denormalize_array(Y_val_pred, kwh_min, kwh_max)\n",
    "    Y_val_true = denormalize_array(Y_val, kwh_min, kwh_max)\n",
    "    \n",
    "    train_maes.append(np.abs(Y_train_pred - Y_train_true).mean())\n",
    "    val_maes.append(np.abs(Y_val_pred - Y_val_true).mean())\n",
    "#     print(\"train_mae : \", np.abs(Y_train_pred - Y_train).mean())\n",
    "#     print(\"val_mae : \", np.abs(Y_val_pred - Y_val).mean())"
   ]
  },
  {
   "cell_type": "code",
   "execution_count": 39,
   "metadata": {},
   "outputs": [
    {
     "data": {
      "text/plain": [
       "<matplotlib.legend.Legend at 0x11553b978>"
      ]
     },
     "execution_count": 39,
     "metadata": {},
     "output_type": "execute_result"
    },
    {
     "data": {
      "image/png": "[encoded data removed]",
      "text/plain": [
       "<matplotlib.figure.Figure at 0x116ca2860>"
      ]
     },
     "metadata": {},
     "output_type": "display_data"
    }
   ],
   "source": [
    "plt.plot(train_maes, label=\"train_maes\")\n",
    "plt.plot(val_maes, label=\"validation_maes\")\n",
    "plt.xticks(np.arange(n), np.arange(n)+n_start)\n",
    "plt.xlabel(\"max_depth\")\n",
    "plt.title(\"decide max_depth\")\n",
    "plt.legend()"
   ]
  },
  {
   "cell_type": "markdown",
   "metadata": {},
   "source": [
    "### **17で十分なように見えるが5foldでやってみるとそうでもない**"
   ]
  },
  {
   "cell_type": "code",
   "execution_count": 51,
   "metadata": {
    "collapsed": true
   },
   "outputs": [],
   "source": [
    "n_estimators = 20\n",
    "max_depth = 30"
   ]
  },
  {
   "cell_type": "code",
   "execution_count": 52,
   "metadata": {},
   "outputs": [
    {
     "name": "stdout",
     "output_type": "stream",
     "text": [
      "train_mae :  118.215900325\n",
      "val_mae :  233.631965659\n"
     ]
    }
   ],
   "source": [
    "rf = RandomForestRegressor(n_estimators = n_estimators, max_depth = max_depth)\n",
    "\n",
    "rf.fit(X_train, Y_train)\n",
    "\n",
    "Y_train_pred = rf.predict(X_train)\n",
    "Y_train_pred = denormalize_array(Y_train_pred, kwh_min, kwh_max)\n",
    "Y_train_true = denormalize_array(Y_train, kwh_min, kwh_max)\n",
    "\n",
    "Y_val_pred = rf.predict(X_val)\n",
    "Y_val_pred = denormalize_array(Y_val_pred, kwh_min, kwh_max)\n",
    "Y_val_true = denormalize_array(Y_val, kwh_min, kwh_max)\n",
    "\n",
    "print(\"train_mae : \", np.abs(Y_train_pred - Y_train_true).mean())\n",
    "print(\"val_mae : \", np.abs(Y_val_pred - Y_val_true).mean())"
   ]
  },
  {
   "cell_type": "code",
   "execution_count": 53,
   "metadata": {
    "collapsed": true
   },
   "outputs": [],
   "source": [
    "# 交差検証\n",
    "t_maes = []\n",
    "v_maes = []\n",
    "n_splits = 5\n",
    "for train_idx, test_idx in KFold(n_splits=n_splits).split(X):\n",
    "    X_train = X[train_idx]\n",
    "    Y_train = Y[train_idx]\n",
    "    X_val = X[test_idx]\n",
    "    Y_val = Y[test_idx]\n",
    "    \n",
    "    rf = RandomForestRegressor(n_estimators = n_estimators, max_depth = max_depth, max_features=max_features)\n",
    "    rf.fit(X_train, Y_train)\n",
    "    \n",
    "    Y_train_pred = rf.predict(X_train)\n",
    "    Y_train_pred = denormalize_array(Y_train_pred, kwh_min, kwh_max)\n",
    "    Y_train_true = denormalize_array(Y_train, kwh_min, kwh_max)\n",
    "    \n",
    "    Y_val_pred = rf.predict(X_val)\n",
    "    Y_val_pred = denormalize_array(Y_val_pred, kwh_min, kwh_max)\n",
    "    Y_val_true = denormalize_array(Y_val, kwh_min, kwh_max)\n",
    "    \n",
    "    t_maes.append(np.abs(Y_train_pred - Y_train_true).mean())\n",
    "    v_maes.append( np.abs(Y_val_pred - Y_val_true).mean())"
   ]
  },
  {
   "cell_type": "code",
   "execution_count": 54,
   "metadata": {},
   "outputs": [
    {
     "data": {
      "image/png": "[encoded data removed]",
      "text/plain": [
       "<matplotlib.figure.Figure at 0x114e20c88>"
      ]
     },
     "metadata": {},
     "output_type": "display_data"
    },
    {
     "name": "stdout",
     "output_type": "stream",
     "text": [
      "281.526538658\n"
     ]
    }
   ],
   "source": [
    "plt.plot(t_maes, 's', label=\"train_maes\")\n",
    "plt.plot(v_maes, 'd', label=\"validation_maes\")\n",
    "plt.legend()\n",
    "plt.title(\"each maes of \"+str(n_splits)+\" folds at target_place_\"+str(target_place))\n",
    "plt.xticks(np.arange(n_splits), np.arange(n_splits)+1)\n",
    "plt.show()\n",
    "print(np.array(v_maes).mean())"
   ]
  },
  {
   "cell_type": "code",
   "execution_count": 48,
   "metadata": {
    "collapsed": true
   },
   "outputs": [],
   "source": [
    "Y_test_pred = rf.predict(X_test)\n",
    "Y_test_pred = denormalize_array(Y_test_pred, kwh_min, kwh_max)"
   ]
  },
  {
   "cell_type": "code",
   "execution_count": 50,
   "metadata": {},
   "outputs": [
    {
     "data": {
      "text/plain": [
       "[<matplotlib.lines.Line2D at 0x1172497b8>]"
      ]
     },
     "execution_count": 50,
     "metadata": {},
     "output_type": "execute_result"
    },
    {
     "data": {
      "image/png": "[encoded data removed]",
      "text/plain": [
       "<matplotlib.figure.Figure at 0x1172497f0>"
      ]
     },
     "metadata": {},
     "output_type": "display_data"
    }
   ],
   "source": [
    "plt.plot(Y_val_pred[0:500])\n",
    "plt.plot(Y_val_true[0:500])"
   ]
  },
  {
   "cell_type": "markdown",
   "metadata": {},
   "source": [
    "### *最適なmax_depthがtrain test split の分かれ方に依存しがち**"
   ]
  },
  {
   "cell_type": "markdown",
   "metadata": {},
   "source": [
    "### **KNN**"
   ]
  },
  {
   "cell_type": "code",
   "execution_count": 55,
   "metadata": {
    "collapsed": true
   },
   "outputs": [],
   "source": [
    "from sklearn.neighbors import KNeighborsRegressor"
   ]
  },
  {
   "cell_type": "code",
   "execution_count": 56,
   "metadata": {},
   "outputs": [],
   "source": [
    "# 最適なkを見つける\n",
    "# 実行に時間がかかります\n",
    "train_maes = []\n",
    "val_maes = []\n",
    "for i in range(10):\n",
    "    k = i+1\n",
    "    knn = KNeighborsRegressor(n_neighbors=k)\n",
    "    knn.fit(X_train, Y_train)\n",
    "\n",
    "    Y_train_pred = knn.predict(X_train)\n",
    "    Y_train_pred = denormalize_array(Y_train_pred, kwh_min, kwh_max)\n",
    "    Y_train_true = denormalize_array(Y_train, kwh_min, kwh_max)\n",
    "\n",
    "    Y_val_pred = knn.predict(X_val)\n",
    "    Y_val_pred = denormalize_array(Y_val_pred, kwh_min, kwh_max)\n",
    "    Y_val_true = denormalize_array(Y_val, kwh_min, kwh_max)\n",
    "    train_maes.append(np.abs(Y_train_pred - Y_train_true).mean())\n",
    "    val_maes.append(np.abs(Y_val_pred - Y_val_true).mean())\n",
    "#     print(\"train_mae : \", np.abs(Y_train_pred - Y_train_true).mean())\n",
    "#     print(\"val_mae : \", np.abs(Y_val_pred - Y_val_true).mean())"
   ]
  },
  {
   "cell_type": "code",
   "execution_count": 58,
   "metadata": {},
   "outputs": [
    {
     "data": {
      "text/plain": [
       "<matplotlib.legend.Legend at 0x11732c9e8>"
      ]
     },
     "execution_count": 58,
     "metadata": {},
     "output_type": "execute_result"
    },
    {
     "data": {
      "image/png": "[encoded data removed]",
      "text/plain": [
       "<matplotlib.figure.Figure at 0x115747940>"
      ]
     },
     "metadata": {},
     "output_type": "display_data"
    }
   ],
   "source": [
    "plt.plot(train_maes, label=\"train_maes\")\n",
    "plt.plot(val_maes, label=\"validation_maes\")\n",
    "plt.xticks(np.arange(10), np.arange(10))\n",
    "plt.xlabel(\"k neighbors\")\n",
    "plt.title(\"decide k\")\n",
    "plt.legend()"
   ]
  },
  {
   "cell_type": "code",
   "execution_count": 59,
   "metadata": {},
   "outputs": [
    {
     "name": "stdout",
     "output_type": "stream",
     "text": [
      "train_mae :  172.451748841\n",
      "val_mae :  239.972629839\n"
     ]
    }
   ],
   "source": [
    "k = 4\n",
    "knn = KNeighborsRegressor(n_neighbors=k)\n",
    "knn.fit(X_train, Y_train)\n",
    "\n",
    "Y_train_pred = knn.predict(X_train)\n",
    "Y_train_pred = denormalize_array(Y_train_pred, kwh_min, kwh_max)\n",
    "Y_train_true = denormalize_array(Y_train, kwh_min, kwh_max)\n",
    "\n",
    "Y_val_pred = knn.predict(X_val)\n",
    "Y_val_pred = denormalize_array(Y_val_pred, kwh_min, kwh_max)\n",
    "Y_val_true = denormalize_array(Y_val, kwh_min, kwh_max)\n",
    "\n",
    "print(\"train_mae : \", np.abs(Y_train_pred - Y_train_true).mean())\n",
    "print(\"val_mae : \", np.abs(Y_val_pred - Y_val_true).mean())"
   ]
  },
  {
   "cell_type": "code",
   "execution_count": 60,
   "metadata": {
    "collapsed": true
   },
   "outputs": [],
   "source": [
    "# 交差検証\n",
    "t_maes = []\n",
    "v_maes = []\n",
    "n_splits = 5\n",
    "k = 4\n",
    "for train_idx, test_idx in KFold(n_splits=n_splits).split(X):\n",
    "    X_train = X[train_idx]\n",
    "    Y_train = Y[train_idx]\n",
    "    X_val = X[test_idx]\n",
    "    Y_val = Y[test_idx]\n",
    "    \n",
    "    knn = KNeighborsRegressor(n_neighbors=k)\n",
    "    knn.fit(X_train, Y_train)\n",
    "    \n",
    "    Y_train_pred = knn.predict(X_train)\n",
    "    Y_train_pred = denormalize_array(Y_train_pred, kwh_min, kwh_max)\n",
    "    Y_train_true = denormalize_array(Y_train, kwh_min, kwh_max)\n",
    "    \n",
    "    Y_val_pred = knn.predict(X_val)\n",
    "    Y_val_pred = denormalize_array(Y_val_pred, kwh_min, kwh_max)\n",
    "    Y_val_true = denormalize_array(Y_val, kwh_min, kwh_max)\n",
    "    \n",
    "    t_maes.append(np.abs(Y_train_pred - Y_train_true).mean())\n",
    "    v_maes.append( np.abs(Y_val_pred - Y_val_true).mean())"
   ]
  },
  {
   "cell_type": "code",
   "execution_count": 61,
   "metadata": {},
   "outputs": [
    {
     "data": {
      "image/png": "[encoded data removed]",
      "text/plain": [
       "<matplotlib.figure.Figure at 0x115757860>"
      ]
     },
     "metadata": {},
     "output_type": "display_data"
    },
    {
     "name": "stdout",
     "output_type": "stream",
     "text": [
      "276.789402139\n"
     ]
    }
   ],
   "source": [
    "plt.plot(t_maes, 's', label=\"train_maes\")\n",
    "plt.plot(v_maes, 'd', label=\"validation_maes\")\n",
    "plt.legend()\n",
    "plt.title(\"each maes of \"+str(n_splits)+\" folds at target_place_\"+str(target_place))\n",
    "plt.xticks(np.arange(n_splits), np.arange(n_splits)+1)\n",
    "plt.show()\n",
    "print(np.array(v_maes).mean())"
   ]
  },
  {
   "cell_type": "code",
   "execution_count": 62,
   "metadata": {},
   "outputs": [
    {
     "data": {
      "text/plain": [
       "[<matplotlib.lines.Line2D at 0x11555cf98>]"
      ]
     },
     "execution_count": 62,
     "metadata": {},
     "output_type": "execute_result"
    },
    {
     "data": {
      "image/png": "[encoded data removed]",
      "text/plain": [
       "<matplotlib.figure.Figure at 0x11555c6a0>"
      ]
     },
     "metadata": {},
     "output_type": "display_data"
    }
   ],
   "source": [
    "plt.plot(Y_val_pred[0:500])\n",
    "plt.plot(Y_val_true[0:500])"
   ]
  },
  {
   "cell_type": "markdown",
   "metadata": {},
   "source": [
    "### **過去の検索に過ぎないから予測と言えるか...**\n",
    "**blending の時に入れると安定するかも？？**"
   ]
  },
  {
   "cell_type": "markdown",
   "metadata": {},
   "source": [
    "### **SVR**"
   ]
  },
  {
   "cell_type": "code",
   "execution_count": 68,
   "metadata": {
    "collapsed": true
   },
   "outputs": [],
   "source": [
    "from sklearn.svm import SVR"
   ]
  },
  {
   "cell_type": "code",
   "execution_count": 69,
   "metadata": {},
   "outputs": [
    {
     "name": "stdout",
     "output_type": "stream",
     "text": [
      "train_mae :  273.342238476\n",
      "val_mae :  249.211243348\n"
     ]
    }
   ],
   "source": [
    "C = 0.2\n",
    "epsilon = 0.001\n",
    "svr = SVR(C=C, epsilon=epsilon)\n",
    "svr.fit(X_train, Y_train) \n",
    "\n",
    "Y_train_pred = svr.predict(X_train)\n",
    "Y_train_pred = denormalize_array(Y_train_pred, kwh_min, kwh_max)\n",
    "Y_train_true = denormalize_array(Y_train, kwh_min, kwh_max)\n",
    "\n",
    "Y_val_pred = svr.predict(X_val)\n",
    "Y_val_pred = denormalize_array(Y_val_pred, kwh_min, kwh_max)\n",
    "Y_val_true = denormalize_array(Y_val, kwh_min, kwh_max)\n",
    "\n",
    "print(\"train_mae : \", np.abs(Y_train_pred - Y_train_true).mean())\n",
    "print(\"val_mae : \", np.abs(Y_val_pred - Y_val_true).mean())"
   ]
  },
  {
   "cell_type": "code",
   "execution_count": 70,
   "metadata": {},
   "outputs": [
    {
     "name": "stdout",
     "output_type": "stream",
     "text": [
      "train_mae :  292.859181267\n",
      "val_mae :  267.223127591\n"
     ]
    }
   ],
   "source": [
    "C = 0.1\n",
    "epsilon = 0.001\n",
    "svr = SVR(C=C, epsilon=epsilon, kernel=\"rbf\")\n",
    "svr.fit(X_train, Y_train) \n",
    "\n",
    "Y_train_pred = svr.predict(X_train)\n",
    "Y_train_pred = denormalize_array(Y_train_pred, kwh_min, kwh_max)\n",
    "Y_train_true = denormalize_array(Y_train, kwh_min, kwh_max)\n",
    "\n",
    "Y_val_pred = svr.predict(X_val)\n",
    "Y_val_pred = denormalize_array(Y_val_pred, kwh_min, kwh_max)\n",
    "Y_val_true = denormalize_array(Y_val, kwh_min, kwh_max)\n",
    "\n",
    "print(\"train_mae : \", np.abs(Y_train_pred - Y_train_true).mean())\n",
    "print(\"val_mae : \", np.abs(Y_val_pred - Y_val_true).mean())"
   ]
  },
  {
   "cell_type": "code",
   "execution_count": 71,
   "metadata": {},
   "outputs": [
    {
     "name": "stdout",
     "output_type": "stream",
     "text": [
      "train_mae :  669.616521403\n",
      "val_mae :  560.938476063\n"
     ]
    }
   ],
   "source": [
    "C = 0.1\n",
    "epsilon = 0.001\n",
    "svr = SVR(C=C, epsilon=epsilon, kernel=\"poly\", degree=3)\n",
    "svr.fit(X_train, Y_train) \n",
    "\n",
    "Y_train_pred = svr.predict(X_train)\n",
    "Y_train_pred = denormalize_array(Y_train_pred, kwh_min, kwh_max)\n",
    "Y_train_true = denormalize_array(Y_train, kwh_min, kwh_max)\n",
    "\n",
    "Y_val_pred = svr.predict(X_val)\n",
    "Y_val_pred = denormalize_array(Y_val_pred, kwh_min, kwh_max)\n",
    "Y_val_true = denormalize_array(Y_val, kwh_min, kwh_max)\n",
    "\n",
    "print(\"train_mae : \", np.abs(Y_train_pred - Y_train_true).mean())\n",
    "print(\"val_mae : \", np.abs(Y_val_pred - Y_val_true).mean())"
   ]
  },
  {
   "cell_type": "markdown",
   "metadata": {},
   "source": [
    "### **パラメータチューニングすれば可能性を感じなくもない**\n",
    "**train, valの分かれ方が偶然簡単だった説はある**"
   ]
  },
  {
   "cell_type": "markdown",
   "metadata": {
    "collapsed": true
   },
   "source": [
    "### ** MLP **"
   ]
  },
  {
   "cell_type": "code",
   "execution_count": 72,
   "metadata": {
    "collapsed": true
   },
   "outputs": [],
   "source": [
    "# MLPに突っ込むための準備をする\n",
    "\n",
    "# min-max正規化しておく\n",
    "normalized_input = (input_data - input_data.min()) / (input_data.max() - input_data.min())\n",
    "normalized_input = normalized_input.dropna(axis =1)\n",
    "normalized_input = np.array(normalized_input)\n",
    "normalized_kwh = (output_kwh - 0) /(output_kwh.max() - 0)\n",
    "normalized_kwh = np.array(normalized_kwh)\n",
    "\n",
    "# input_dataに関しては正規化すればそのまま使える\n",
    "input_list = normalized_input\n",
    "kwh_list = normalized_kwh\n",
    "\n",
    "# outputがnanであれば取り除く\n",
    "filtered_input_list, filtered_kwh_list = drop_nan(input_list, kwh_list)\n",
    "\n",
    "# testデータの入力を用意\n",
    "normalized_test_input = (test_input_data - input_data.min()) / (input_data.max() - input_data.min())\n",
    "normalized_test_input = normalized_test_input.dropna(axis=1)\n",
    "normalized_test_input = np.array(normalized_test_input)\n",
    "\n",
    "test_input_list = normalized_test_input\n",
    "\n",
    "# denormalize用\n",
    "kwh_max = float(output_kwh.max())\n",
    "kwh_min = 0\n",
    "\n",
    "# MLPに突っ込むためにデータを整形\n",
    "X = np.array(filtered_input_list).reshape(filtered_input_list.shape[0], filtered_input_list.shape[1])\n",
    "all_X = np.array(input_list).reshape(input_list.shape[0], input_list.shape[1])\n",
    "KWH = np.array(filtered_kwh_list).reshape(filtered_kwh_list.shape[0],1)\n",
    "X_predict = np.array(test_input_list).reshape(test_input_list.shape[0], test_input_list.shape[1])"
   ]
  },
  {
   "cell_type": "code",
   "execution_count": 73,
   "metadata": {},
   "outputs": [
    {
     "name": "stdout",
     "output_type": "stream",
     "text": [
      "directory already exists\n",
      "test\n"
     ]
    }
   ],
   "source": [
    "epochs = 1000\n",
    "hidden_size = 100\n",
    "batch_size = 100\n",
    "activation = \"sigmoid\"\n",
    "model_name = \"test\"\n",
    "batch_normalization = False\n",
    "try:\n",
    "    os.mkdir('./data/model/'+model_name)\n",
    "    print(\"make save directory\")\n",
    "except :\n",
    "    print(\"directory already exists\")\n",
    "\n",
    "print(model_name)"
   ]
  },
  {
   "cell_type": "code",
   "execution_count": 74,
   "metadata": {
    "collapsed": true
   },
   "outputs": [],
   "source": [
    "X_train, X_val, Y_train, Y_val = train_test_split(X, KWH, test_size=0.33)"
   ]
  },
  {
   "cell_type": "code",
   "execution_count": 75,
   "metadata": {
    "collapsed": true
   },
   "outputs": [],
   "source": [
    "mlp_model = MLP(X_train, Y_train, X_val, Y_val, epochs = epochs, hidden_size = hidden_size, batch_size = batch_size, model_name = model_name, activation = activation, batch_normalization = batch_normalization)"
   ]
  },
  {
   "cell_type": "code",
   "execution_count": 76,
   "metadata": {},
   "outputs": [
    {
     "name": "stdout",
     "output_type": "stream",
     "text": [
      "train#0, validation loss: 1.285564e-01\n",
      "train#20, validation loss: 5.806994e-02\n",
      "train#40, validation loss: 2.396666e-02\n",
      "train#60, validation loss: 1.759533e-02\n",
      "train#80, validation loss: 1.449029e-02\n",
      "train#100, validation loss: 1.585173e-02\n",
      "train#120, validation loss: 1.438929e-02\n",
      "train#140, validation loss: 1.308013e-02\n",
      "train#160, validation loss: 1.264205e-02\n",
      "train#180, validation loss: 1.306461e-02\n",
      "train#200, validation loss: 1.188160e-02\n",
      "train#220, validation loss: 1.147814e-02\n",
      "train#240, validation loss: 1.121900e-02\n",
      "train#260, validation loss: 1.287579e-02\n",
      "do early stopping\n"
     ]
    }
   ],
   "source": [
    "validation_losses = mlp_model.train()"
   ]
  },
  {
   "cell_type": "code",
   "execution_count": 77,
   "metadata": {},
   "outputs": [
    {
     "name": "stdout",
     "output_type": "stream",
     "text": [
      "\n"
     ]
    },
    {
     "data": {
      "image/png": "[encoded data removed]",
      "text/plain": [
       "<matplotlib.figure.Figure at 0x1158004a8>"
      ]
     },
     "metadata": {},
     "output_type": "display_data"
    }
   ],
   "source": [
    "length = len(validation_losses[:])\n",
    "plt.plot(validation_losses[:])\n",
    "plt.xticks(np.arange(length), (np.arange(length)+2))\n",
    "plt.title(\"validation loss during training\")\n",
    "plt.xlabel(\"* 10 epochs\")\n",
    "\n",
    "print()"
   ]
  },
  {
   "cell_type": "code",
   "execution_count": 78,
   "metadata": {},
   "outputs": [
    {
     "name": "stdout",
     "output_type": "stream",
     "text": [
      "training mae : [ 322.29806519]\n"
     ]
    },
    {
     "data": {
      "image/png": "[encoded data removed]",
      "text/plain": [
       "<matplotlib.figure.Figure at 0x1163c4dd8>"
      ]
     },
     "metadata": {},
     "output_type": "display_data"
    }
   ],
   "source": [
    "predictions = mlp_model.predict(X)[0]\n",
    "processed_prediction = denormalize_array(predictions, kwh_min, kwh_max)\n",
    "\n",
    "true = filtered_kwh_list\n",
    "true = denormalize_array(true, kwh_min, kwh_max)\n",
    "\n",
    "plt.figure(figsize=(20, 5))\n",
    "plt.plot(processed_prediction[500:1000], label = \"prediction\")\n",
    "plt.plot(true[500:1000], label = \"true\")\n",
    "plt.legend()\n",
    "plt.title(\"predict kwh\")\n",
    "\n",
    "print('training mae :', calc_mae(processed_prediction, true))"
   ]
  },
  {
   "cell_type": "code",
   "execution_count": 79,
   "metadata": {},
   "outputs": [
    {
     "name": "stdout",
     "output_type": "stream",
     "text": [
      "validation mae : [ 327.50777145]\n"
     ]
    }
   ],
   "source": [
    "validation = mlp_model.predict(mlp_model.X_val)[0]\n",
    "processed_validation = denormalize_array(validation, kwh_min, kwh_max)\n",
    "\n",
    "val = denormalize_array(mlp_model.Y_val, kwh_min, kwh_max)\n",
    "\n",
    "print('validation mae :', calc_mae(processed_validation, val))"
   ]
  },
  {
   "cell_type": "markdown",
   "metadata": {},
   "source": [
    "### "
   ]
  }
 ],
 "metadata": {
  "kernelspec": {
   "display_name": "Python 3",
   "language": "python",
   "name": "python3"
  },
  "language_info": {
   "codemirror_mode": {
    "name": "ipython",
    "version": 3
   },
   "file_extension": ".py",
   "mimetype": "text/x-python",
   "name": "python",
   "nbconvert_exporter": "python",
   "pygments_lexer": "ipython3",
   "version": "3.5.3"
  }
 },
 "nbformat": 4,
 "nbformat_minor": 2
}
