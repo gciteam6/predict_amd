{
 "cells": [
  {
   "cell_type": "markdown",
   "metadata": {},
   "source": [
    "# **前日の20:00までの気象予報データ全てを用いて翌日の00:00~23:30までの発電量をMLPで予測する**"
   ]
  },
  {
   "cell_type": "markdown",
   "metadata": {},
   "source": [
    "### **必要な関数・ライブラリ**"
   ]
  },
  {
   "cell_type": "code",
   "execution_count": 84,
   "metadata": {
    "collapsed": true
   },
   "outputs": [],
   "source": [
    "# データ加工・処理・分析モジュール\n",
    "import numpy as np\n",
    "import pandas as pd\n",
    "import matplotlib.pyplot as plt\n",
    "from sklearn.model_selection import train_test_split\n",
    "import os\n",
    "import MLP\n",
    "\n",
    "%matplotlib inline"
   ]
  },
  {
   "cell_type": "code",
   "execution_count": 85,
   "metadata": {
    "collapsed": true
   },
   "outputs": [],
   "source": [
    "def set_time(dataframe, col_name):\n",
    "    '''\n",
    "    to_datetimeを使うための前処理\n",
    "    '''\n",
    "    dataframe[col_name] = dataframe[col_name].map(lambda x : transform_time(x))\n",
    "    return dataframe"
   ]
  },
  {
   "cell_type": "code",
   "execution_count": 86,
   "metadata": {
    "collapsed": true
   },
   "outputs": [],
   "source": [
    "def transform_time(x):\n",
    "    '''\n",
    "    set_time内で使う関数\n",
    "    to_datetimeで24時をサポートしないので00に変更する処理\n",
    "    '''\n",
    "    str_x = str(x)\n",
    "    res = ''\n",
    "    if str(x)[8:10] == '24':\n",
    "        res = str_x[0:4] + '-' + str_x[4:6] + '-' + str_x[6:8] + ' 00:'+str_x[10:12] \n",
    "    else:\n",
    "        res = str_x[0:4] + '-' + str_x[4:6] + '-' + str_x[6:8] + ' '+ str_x[8:10] +':'+str_x[10:12]\n",
    "    return res"
   ]
  },
  {
   "cell_type": "code",
   "execution_count": 87,
   "metadata": {
    "collapsed": true
   },
   "outputs": [],
   "source": [
    "def set_datetime(x):\n",
    "    '''\n",
    "    指定されたdatetime形式になるように整形\n",
    "    '''\n",
    "    str_month = str(x.month)\n",
    "    if x.month - 10 < 0:\n",
    "        str_month = \"0\"+str(x.month)\n",
    "    str_day = str(x.day)\n",
    "    if x.day - 10 < 0:\n",
    "        str_day = \"0\"+str(x.day)\n",
    "    str_hour = str(x.hour)\n",
    "    if x.hour - 10 < 0:\n",
    "        str_hour = \"0\"+str(x.hour)\n",
    "    str_minute = str(x.minute)\n",
    "    if x.minute == 0:\n",
    "        str_minute = \"00\"\n",
    "    if x.minute == 0 and x.hour == 0:\n",
    "        str_minute = \"00\"\n",
    "        str_hour = \"24\"\n",
    "        str_day = str(x.day - 1)\n",
    "        if (x.day - 1) - 10 < 0:\n",
    "            str_day = \"0\"+str(x.day - 1)\n",
    "                              \n",
    "    return str(x.year)+str_month+str_day+str_hour+str_minute"
   ]
  },
  {
   "cell_type": "code",
   "execution_count": 88,
   "metadata": {
    "collapsed": true
   },
   "outputs": [],
   "source": [
    "def add_month_date(input_data, key=\"datetime\"):\n",
    "    '''\n",
    "    時間や月のデータを加える\n",
    "    '''\n",
    "    input_data['month'] = input_data[key].map(lambda x: int(x.month))\n",
    "    input_data['month_cos'] = input_data['month'].map(lambda x: np.cos(np.pi * x / 12))\n",
    "    input_data['month_sin'] = input_data['month'].map(lambda x: np.sin(np.pi * x / 12))\n",
    "    input_data = input_data.drop(['month'], axis=1)\n",
    "    return input_data"
   ]
  },
  {
   "cell_type": "code",
   "execution_count": 89,
   "metadata": {
    "collapsed": true
   },
   "outputs": [],
   "source": [
    "def get_30(tmp_data):\n",
    "    '''\n",
    "    必要なカラムだけ拾ってきて30分ごのデータに整形\n",
    "    '''\n",
    "    tmp_data = tmp_data[[\"datetime\", \"pr\", \"max_ws\", \"ave_ws\", \"max_tp\", \"min_tp\", \"sl\"]]\n",
    "    \n",
    "    # 欠損値を一つ前の値で置換/output_data\n",
    "    tmp_data = tmp_data.fillna(method='bfill')\n",
    "    tmp_30 = tmp_data.set_index('datetime').groupby(pd.TimeGrouper(freq='1800s', closed='left')).sum()\n",
    "\n",
    "    # datetimeのカラムを復活させる\n",
    "    tmp_30['datetime'] = tmp_30.index\n",
    "    tmp_30.index = np.arange(len(tmp_30))\n",
    "    tmp_30.head()\n",
    "    return tmp_30"
   ]
  },
  {
   "cell_type": "code",
   "execution_count": 90,
   "metadata": {
    "collapsed": true
   },
   "outputs": [],
   "source": [
    "def add_time_sincos(input_data):\n",
    "    '''\n",
    "    datetimeカラムがあることを前提に月時分の三角関数を足す\n",
    "    '''\n",
    "    input_data['hour'] = input_data['datetime'].map(lambda x: int(x.hour))\n",
    "    input_data['minute'] = input_data['datetime'].map(lambda x: int(x.minute))\n",
    "    input_data['month'] = input_data['datetime'].map(lambda x: int(x.month))\n",
    "    input_data['month_cos'] = input_data['month'].map(lambda x: np.cos(np.pi * x / 12))\n",
    "    input_data['month_sin'] = input_data['month'].map(lambda x: np.sin(np.pi * x / 12))\n",
    "    input_data['hour_cos'] = input_data['hour'].map(lambda x: np.cos(np.pi * x / 24))\n",
    "    input_data['hour_sin'] = input_data['hour'].map(lambda x: np.sin(np.pi * x / 24))\n",
    "    input_data['min_cos'] = input_data['minute'].map(lambda x: np.cos(np.pi * x / 60))\n",
    "    input_data['min_sin'] = input_data['minute'].map(lambda x: np.sin(np.pi * x / 60))\n",
    "    return input_data"
   ]
  },
  {
   "cell_type": "code",
   "execution_count": 91,
   "metadata": {
    "collapsed": true
   },
   "outputs": [],
   "source": [
    "def get_output_data(Y):\n",
    "    '''\n",
    "    全時系列データから00:00 ~ 23:30までのデータごとに分割する\n",
    "    '''\n",
    "    output_list = []\n",
    "    # 一日は48個の時間帯に分けられる\n",
    "    total_size = len(Y) // 48\n",
    "    for i in range(total_size):\n",
    "        each_data = Y[(i*48):(i*48+48)]\n",
    "        reshaped = each_data.reshape(48)\n",
    "        output_list.append(list(reshaped))\n",
    "    output_list = np.array(output_list)\n",
    "    return output_list"
   ]
  },
  {
   "cell_type": "code",
   "execution_count": 92,
   "metadata": {
    "collapsed": true
   },
   "outputs": [],
   "source": [
    "def normalize_array(x):\n",
    "    '''\n",
    "    min, max, min-max正規化を行なった配列(np.array)を返す\n",
    "    '''\n",
    "    x = np.array(x)\n",
    "    x_min = x.min()\n",
    "    x_max = x.max()\n",
    "    normalized = (x - x_min) / (x_max - x_min) \n",
    "    return x_min, x_max, normalized"
   ]
  },
  {
   "cell_type": "code",
   "execution_count": 93,
   "metadata": {
    "collapsed": true
   },
   "outputs": [],
   "source": [
    "def denormalize_array(normalized_x, x_min, x_max):\n",
    "    '''\n",
    "    正規化前のmin, maxを用いて元のスケールに戻す\n",
    "    '''\n",
    "    normalized_x = np.array(normalized_x)\n",
    "    denormalize_array = (normalized_x) * (x_max - x_min) + x_min\n",
    "    return denormalize_array"
   ]
  },
  {
   "cell_type": "code",
   "execution_count": 94,
   "metadata": {
    "collapsed": true
   },
   "outputs": [],
   "source": [
    "def drop_nan(X, Y):\n",
    "    '''\n",
    "    Yにnanが含まれるペアを削除(他のとこにあるdrop_nanとは別物なので注意)\n",
    "    '''\n",
    "    mask = []\n",
    "    for i in range(len(Y)):\n",
    "        if np.isnan(Y[i]).sum() == 0:\n",
    "            mask.append(True)\n",
    "        else:\n",
    "            mask.append(False)\n",
    "    X = X[mask]\n",
    "    Y = Y[mask]\n",
    "    return X, Y"
   ]
  },
  {
   "cell_type": "code",
   "execution_count": 95,
   "metadata": {
    "collapsed": true
   },
   "outputs": [],
   "source": [
    "def calc_mae(X, Y):\n",
    "    '''\n",
    "    X, Yがメモリを食いすぎるのでfor文で計算\n",
    "    '''\n",
    "    mse = 0\n",
    "    for i in range(len(X)):\n",
    "        mse += np.abs(X[i]- Y[i])\n",
    "    return mse/len(X)"
   ]
  },
  {
   "cell_type": "code",
   "execution_count": 96,
   "metadata": {
    "collapsed": true
   },
   "outputs": [],
   "source": [
    "def wv_to_sin(x):\n",
    "    '''\n",
    "    漢字になってる風向データをsinになおす\n",
    "    '''\n",
    "    if x == \"北\":\n",
    "        return -1.0\n",
    "    elif x == \"北西\":\n",
    "        return -0.5\n",
    "    elif x == \"西\":\n",
    "        return 0.0\n",
    "    elif x == \"南西\":\n",
    "        return 0.5\n",
    "    elif x == \"南\":\n",
    "        return 1.0\n",
    "    elif x == \"南東\":\n",
    "        return 0.5\n",
    "    elif x == \"東\":\n",
    "        return 0\n",
    "    else:\n",
    "        return -0.5"
   ]
  },
  {
   "cell_type": "code",
   "execution_count": 97,
   "metadata": {
    "collapsed": true
   },
   "outputs": [],
   "source": [
    "def wv_to_cos(x):\n",
    "    '''\n",
    "    漢字になってる風向データをcosになおす\n",
    "    '''\n",
    "    \n",
    "    if x == \"北\":\n",
    "        return 0.0\n",
    "    elif x == \"北西\":\n",
    "        return 0.5\n",
    "    elif x == \"西\":\n",
    "        return 1.0\n",
    "    elif x == \"南西\":\n",
    "        return 0.5\n",
    "    elif x == \"南\":\n",
    "        return 0.0\n",
    "    elif x == \"南東\":\n",
    "        return -0.5\n",
    "    elif x == \"東\":\n",
    "        return -1.0\n",
    "    else:\n",
    "        return -0.5"
   ]
  },
  {
   "cell_type": "markdown",
   "metadata": {},
   "source": [
    "### **データの準備**"
   ]
  },
  {
   "cell_type": "code",
   "execution_count": 98,
   "metadata": {
    "collapsed": true
   },
   "outputs": [],
   "source": [
    "target_place = 1"
   ]
  },
  {
   "cell_type": "code",
   "execution_count": 99,
   "metadata": {
    "collapsed": true
   },
   "outputs": [],
   "source": [
    "# 発電量データ\n",
    "output_30 = pd.read_csv('data/processed_data/out_put.tsv', delimiter = '\\t')\n",
    "output_30['datetime'] = output_30['datetime'].map(lambda x : pd.to_datetime(x))\n",
    "output_30 = output_30[['datetime', 'SOLA0'+str(target_place)]]"
   ]
  },
  {
   "cell_type": "code",
   "execution_count": 100,
   "metadata": {
    "collapsed": true
   },
   "outputs": [],
   "source": [
    "# 天気予報のデータを実は今まで使ってなかった\n",
    "if target_place == 1 or target_place == 2:\n",
    "    fc_data = pd.read_csv('data/raw_data/forecast_kanagawa.tsv', delimiter = '\\t')\n",
    "    fc_data['date'] = fc_data['date'].map(lambda x : pd.to_datetime(x))\n",
    "elif target_place == 3:\n",
    "    fc_data = pd.read_csv('data/raw_data/forecast_yamanashi.tsv', delimiter = '\\t')\n",
    "    fc_data['date'] = fc_data['date'].map(lambda x : pd.to_datetime(x))\n",
    "else:\n",
    "    raise ValueError(\"invalid input target_place\")"
   ]
  },
  {
   "cell_type": "code",
   "execution_count": 101,
   "metadata": {
    "collapsed": true
   },
   "outputs": [],
   "source": [
    "# 各降水確率, 各時間帯の天気, 気温のみを選択\n",
    "fc_data = fc_data.drop(['weather', 'weather_detail', 'wind', 'wave'], axis=1)"
   ]
  },
  {
   "cell_type": "code",
   "execution_count": 102,
   "metadata": {
    "collapsed": true
   },
   "outputs": [],
   "source": [
    "hours = ['we_00-03', 'we_03-06', 'we_06-09', 'we_09-12', 'we_12-15', 'we_15-18', 'we_18-21', 'we_21-24']\n",
    "for hour in hours:\n",
    "    dummy_df = pd.get_dummies(fc_data[[hour]])\n",
    "    fc_data = pd.concat([fc_data, dummy_df], axis=1, join='inner')\n",
    "    fc_data= fc_data.drop([hour], axis=1)"
   ]
  },
  {
   "cell_type": "code",
   "execution_count": 103,
   "metadata": {
    "collapsed": true
   },
   "outputs": [],
   "source": [
    "hours = ['wv_00-03', 'wv_03-06', 'wv_06-09', 'wv_09-12', 'wv_12-15', 'wv_15-18', 'wv_18-21', 'wv_21-24']\n",
    "for hour in hours:\n",
    "    fc_data[hour+'_cos'] = fc_data[hour].map(lambda x:wv_to_cos(x))\n",
    "    fc_data[hour+'_sin'] = fc_data[hour].map(lambda x:wv_to_sin(x))\n",
    "    fc_data= fc_data.drop([hour], axis=1)"
   ]
  },
  {
   "cell_type": "code",
   "execution_count": 104,
   "metadata": {
    "collapsed": true
   },
   "outputs": [],
   "source": [
    "fc_with_date = add_month_date(fc_data, key=\"date\")"
   ]
  },
  {
   "cell_type": "code",
   "execution_count": 105,
   "metadata": {},
   "outputs": [
    {
     "data": {
      "text/html": [
       "<div>\n",
       "<style>\n",
       "    .dataframe thead tr:only-child th {\n",
       "        text-align: right;\n",
       "    }\n",
       "\n",
       "    .dataframe thead th {\n",
       "        text-align: left;\n",
       "    }\n",
       "\n",
       "    .dataframe tbody tr th {\n",
       "        vertical-align: top;\n",
       "    }\n",
       "</style>\n",
       "<table border=\"1\" class=\"dataframe\">\n",
       "  <thead>\n",
       "    <tr style=\"text-align: right;\">\n",
       "      <th></th>\n",
       "      <th>date</th>\n",
       "      <th>pc_00-06</th>\n",
       "      <th>pc_06-12</th>\n",
       "      <th>pc_12-18</th>\n",
       "      <th>pc_18-24</th>\n",
       "      <th>wc_00-03</th>\n",
       "      <th>wc_03-06</th>\n",
       "      <th>wc_06-09</th>\n",
       "      <th>wc_09-12</th>\n",
       "      <th>wc_12-15</th>\n",
       "      <th>...</th>\n",
       "      <th>wv_12-15_cos</th>\n",
       "      <th>wv_12-15_sin</th>\n",
       "      <th>wv_15-18_cos</th>\n",
       "      <th>wv_15-18_sin</th>\n",
       "      <th>wv_18-21_cos</th>\n",
       "      <th>wv_18-21_sin</th>\n",
       "      <th>wv_21-24_cos</th>\n",
       "      <th>wv_21-24_sin</th>\n",
       "      <th>month_cos</th>\n",
       "      <th>month_sin</th>\n",
       "    </tr>\n",
       "  </thead>\n",
       "  <tbody>\n",
       "    <tr>\n",
       "      <th>0</th>\n",
       "      <td>2012-01-01</td>\n",
       "      <td>30</td>\n",
       "      <td>30</td>\n",
       "      <td>10</td>\n",
       "      <td>30</td>\n",
       "      <td>2</td>\n",
       "      <td>2</td>\n",
       "      <td>2</td>\n",
       "      <td>2</td>\n",
       "      <td>3</td>\n",
       "      <td>...</td>\n",
       "      <td>0.5</td>\n",
       "      <td>0.5</td>\n",
       "      <td>0.5</td>\n",
       "      <td>0.5</td>\n",
       "      <td>0.5</td>\n",
       "      <td>0.5</td>\n",
       "      <td>1.0</td>\n",
       "      <td>0.0</td>\n",
       "      <td>0.965926</td>\n",
       "      <td>0.258819</td>\n",
       "    </tr>\n",
       "    <tr>\n",
       "      <th>1</th>\n",
       "      <td>2012-01-02</td>\n",
       "      <td>20</td>\n",
       "      <td>20</td>\n",
       "      <td>10</td>\n",
       "      <td>10</td>\n",
       "      <td>2</td>\n",
       "      <td>2</td>\n",
       "      <td>3</td>\n",
       "      <td>4</td>\n",
       "      <td>4</td>\n",
       "      <td>...</td>\n",
       "      <td>0.0</td>\n",
       "      <td>-1.0</td>\n",
       "      <td>0.0</td>\n",
       "      <td>-1.0</td>\n",
       "      <td>0.0</td>\n",
       "      <td>-1.0</td>\n",
       "      <td>0.0</td>\n",
       "      <td>-1.0</td>\n",
       "      <td>0.965926</td>\n",
       "      <td>0.258819</td>\n",
       "    </tr>\n",
       "    <tr>\n",
       "      <th>2</th>\n",
       "      <td>2012-01-03</td>\n",
       "      <td>0</td>\n",
       "      <td>0</td>\n",
       "      <td>10</td>\n",
       "      <td>10</td>\n",
       "      <td>4</td>\n",
       "      <td>4</td>\n",
       "      <td>4</td>\n",
       "      <td>2</td>\n",
       "      <td>1</td>\n",
       "      <td>...</td>\n",
       "      <td>-1.0</td>\n",
       "      <td>0.0</td>\n",
       "      <td>-0.5</td>\n",
       "      <td>-0.5</td>\n",
       "      <td>-0.5</td>\n",
       "      <td>-0.5</td>\n",
       "      <td>0.0</td>\n",
       "      <td>-1.0</td>\n",
       "      <td>0.965926</td>\n",
       "      <td>0.258819</td>\n",
       "    </tr>\n",
       "    <tr>\n",
       "      <th>3</th>\n",
       "      <td>2012-01-04</td>\n",
       "      <td>10</td>\n",
       "      <td>10</td>\n",
       "      <td>30</td>\n",
       "      <td>20</td>\n",
       "      <td>2</td>\n",
       "      <td>1</td>\n",
       "      <td>2</td>\n",
       "      <td>2</td>\n",
       "      <td>2</td>\n",
       "      <td>...</td>\n",
       "      <td>1.0</td>\n",
       "      <td>0.0</td>\n",
       "      <td>0.0</td>\n",
       "      <td>-1.0</td>\n",
       "      <td>0.0</td>\n",
       "      <td>-1.0</td>\n",
       "      <td>0.0</td>\n",
       "      <td>-1.0</td>\n",
       "      <td>0.965926</td>\n",
       "      <td>0.258819</td>\n",
       "    </tr>\n",
       "    <tr>\n",
       "      <th>4</th>\n",
       "      <td>2012-01-05</td>\n",
       "      <td>10</td>\n",
       "      <td>0</td>\n",
       "      <td>0</td>\n",
       "      <td>0</td>\n",
       "      <td>4</td>\n",
       "      <td>4</td>\n",
       "      <td>2</td>\n",
       "      <td>2</td>\n",
       "      <td>2</td>\n",
       "      <td>...</td>\n",
       "      <td>0.5</td>\n",
       "      <td>-0.5</td>\n",
       "      <td>0.5</td>\n",
       "      <td>-0.5</td>\n",
       "      <td>0.0</td>\n",
       "      <td>-1.0</td>\n",
       "      <td>0.0</td>\n",
       "      <td>-1.0</td>\n",
       "      <td>0.965926</td>\n",
       "      <td>0.258819</td>\n",
       "    </tr>\n",
       "  </tbody>\n",
       "</table>\n",
       "<p>5 rows × 73 columns</p>\n",
       "</div>"
      ],
      "text/plain": [
       "        date  pc_00-06  pc_06-12  pc_12-18  pc_18-24  wc_00-03  wc_03-06  \\\n",
       "0 2012-01-01        30        30        10        30         2         2   \n",
       "1 2012-01-02        20        20        10        10         2         2   \n",
       "2 2012-01-03         0         0        10        10         4         4   \n",
       "3 2012-01-04        10        10        30        20         2         1   \n",
       "4 2012-01-05        10         0         0         0         4         4   \n",
       "\n",
       "   wc_06-09  wc_09-12  wc_12-15    ...      wv_12-15_cos  wv_12-15_sin  \\\n",
       "0         2         2         3    ...               0.5           0.5   \n",
       "1         3         4         4    ...               0.0          -1.0   \n",
       "2         4         2         1    ...              -1.0           0.0   \n",
       "3         2         2         2    ...               1.0           0.0   \n",
       "4         2         2         2    ...               0.5          -0.5   \n",
       "\n",
       "   wv_15-18_cos  wv_15-18_sin  wv_18-21_cos  wv_18-21_sin  wv_21-24_cos  \\\n",
       "0           0.5           0.5           0.5           0.5           1.0   \n",
       "1           0.0          -1.0           0.0          -1.0           0.0   \n",
       "2          -0.5          -0.5          -0.5          -0.5           0.0   \n",
       "3           0.0          -1.0           0.0          -1.0           0.0   \n",
       "4           0.5          -0.5           0.0          -1.0           0.0   \n",
       "\n",
       "   wv_21-24_sin  month_cos  month_sin  \n",
       "0           0.0   0.965926   0.258819  \n",
       "1          -1.0   0.965926   0.258819  \n",
       "2          -1.0   0.965926   0.258819  \n",
       "3          -1.0   0.965926   0.258819  \n",
       "4          -1.0   0.965926   0.258819  \n",
       "\n",
       "[5 rows x 73 columns]"
      ]
     },
     "execution_count": 105,
     "metadata": {},
     "output_type": "execute_result"
    }
   ],
   "source": [
    "fc_with_date.head()"
   ]
  },
  {
   "cell_type": "code",
   "execution_count": 106,
   "metadata": {
    "collapsed": true
   },
   "outputs": [],
   "source": [
    "# モデル構築のためにデータを分割する\n",
    "\n",
    "# 学習に必要なデータ\n",
    "# 前日の気象予報のデータで翌日の0:00 ~ 23:30を予測する\n",
    "train_x_s_idx = fc_data[fc_data['date'] == pd.to_datetime('2012-01-01')].index[0]\n",
    "train_x_e_idx = fc_data[fc_data['date'] == pd.to_datetime('2015-12-31')].index[0]\n",
    "train_y_s_idx = output_30[output_30['datetime'] == pd.to_datetime('2012-01-01 00:00')].index[0]\n",
    "train_y_e_idx = output_30[output_30['datetime'] == pd.to_datetime('2015-12-31 23:30')].index[0]\n",
    "\n",
    "output_kwh = output_30[\"SOLA0\"+str(target_place)][train_y_s_idx:train_y_e_idx+1]\n",
    "input_data = fc_data.drop([\"date\"], axis=1)[train_x_s_idx:train_x_e_idx+1]\n",
    "\n",
    "# 予測に必要なデータ\n",
    "# 前日の00:00 ~ 20:00のデータで翌日の0:00 ~ 23:30を予測する\n",
    "test_x_s_idx = fc_data[fc_data[\"date\"] == pd.to_datetime('2016-01-01')].index[0]\n",
    "test_x_e_idx = fc_data[fc_data[\"date\"] == pd.to_datetime('2017-3-31')].index[0]\n",
    "\n",
    "test_input_data = fc_data.drop([\"date\"], axis=1)[test_x_s_idx:test_x_e_idx+1]"
   ]
  },
  {
   "cell_type": "code",
   "execution_count": 107,
   "metadata": {
    "collapsed": true
   },
   "outputs": [],
   "source": [
    "# MLPに突っ込むための準備をする\n",
    "\n",
    "# min-max正規化しておく\n",
    "normalized_input = (input_data - input_data.min()) / (input_data.max() - input_data.min())\n",
    "normalized_input = np.array(normalized_input)\n",
    "normalized_kwh = (output_kwh - output_kwh.min()) /( output_kwh.max() - output_kwh.min())\n",
    "normalized_kwh = np.array(normalized_kwh)\n",
    "\n",
    "# input_dataに関しては正規化すればそのまま使える\n",
    "input_list = normalized_input\n",
    "kwh_list = get_output_data(normalized_kwh)\n",
    "\n",
    "# outputがnanであれば取り除く\n",
    "filtered_input_list, filtered_kwh_list = drop_nan(input_list, kwh_list)\n",
    "\n",
    "# testデータの入力を用意\n",
    "normalized_test_input = (test_input_data - input_data.min()) / (input_data.max() - input_data.min())\n",
    "normalized_test_input = np.array(normalized_test_input)\n",
    "\n",
    "test_input_list = normalized_test_input\n",
    "\n",
    "# denormalize用\n",
    "kwh_max = float(output_kwh.max())\n",
    "kwh_min = float(output_kwh.min())\n",
    "\n",
    "# MLPに突っ込むためにデータを整形\n",
    "X = np.array(filtered_input_list).reshape(filtered_input_list.shape[0], filtered_input_list.shape[1])\n",
    "all_X = np.array(input_list).reshape(input_list.shape[0], input_list.shape[1])\n",
    "KWH = np.array(filtered_kwh_list).reshape(filtered_kwh_list.shape[0],filtered_kwh_list.shape[1])\n",
    "X_predict = np.array(test_input_list).reshape(test_input_list.shape[0], test_input_list.shape[1])"
   ]
  },
  {
   "cell_type": "markdown",
   "metadata": {},
   "source": [
    "### **モデルの構築**"
   ]
  },
  {
   "cell_type": "markdown",
   "metadata": {},
   "source": [
    "条件:翌日の気温を予測するには前日の20:00までの気象情報しか使えない\n",
    "\n",
    "モデル:翌日の気象予報だけのデータで翌日の発電量を予測する\n",
    "\n",
    "入力:対象日の気象予報のデータ\n",
    "\n",
    "出力:0:00, 0:30, .... , 23:00, 23:30の気温の配列"
   ]
  },
  {
   "cell_type": "code",
   "execution_count": 65,
   "metadata": {},
   "outputs": [
    {
     "name": "stdout",
     "output_type": "stream",
     "text": [
      "make save directory\n",
      "targetplace_1_kwh_fc_with_wc_month_one_layer_hidden_50_2000\n"
     ]
    }
   ],
   "source": [
    "epochs = 2000\n",
    "model_name = \"targetplace_\"+str(target_place)+\"_kwh_fc_with_wc_month_one_layer_hidden_50_\"+str(epochs)\n",
    "try:\n",
    "    os.mkdir('./data/model/'+model_name)\n",
    "    print(\"make save directory\")\n",
    "except :\n",
    "    print(\"directory already exists\")\n",
    "\n",
    "print(model_name)"
   ]
  },
  {
   "cell_type": "code",
   "execution_count": 66,
   "metadata": {
    "collapsed": true
   },
   "outputs": [],
   "source": [
    "mlp_model = MLP.MLP(X, KWH, epochs = epochs, hidden_size = 50, batch_size = 100, model_name = model_name)"
   ]
  },
  {
   "cell_type": "code",
   "execution_count": 67,
   "metadata": {},
   "outputs": [
    {
     "name": "stdout",
     "output_type": "stream",
     "text": [
      "train#0, validation loss: 1.665510e-01\n",
      "train#100, validation loss: 1.099778e-02\n",
      "train#200, validation loss: 9.158380e-03\n",
      "train#300, validation loss: 8.176057e-03\n",
      "train#400, validation loss: 7.685503e-03\n",
      "train#500, validation loss: 7.717491e-03\n",
      "train#600, validation loss: 7.158621e-03\n",
      "train#700, validation loss: 7.214942e-03\n",
      "train#800, validation loss: 6.918987e-03\n",
      "train#900, validation loss: 6.898157e-03\n",
      "train#1000, validation loss: 7.125714e-03\n",
      "train#1100, validation loss: 6.734617e-03\n",
      "train#1200, validation loss: 7.072803e-03\n",
      "train#1300, validation loss: 6.331189e-03\n",
      "train#1400, validation loss: 6.314942e-03\n",
      "train#1500, validation loss: 6.111812e-03\n",
      "train#1600, validation loss: 6.027488e-03\n",
      "train#1700, validation loss: 5.885710e-03\n",
      "train#1800, validation loss: 6.044586e-03\n",
      "train#1900, validation loss: 5.806827e-03\n"
     ]
    }
   ],
   "source": [
    "# mlp_model.train()"
   ]
  },
  {
   "cell_type": "code",
   "execution_count": 68,
   "metadata": {
    "collapsed": true
   },
   "outputs": [],
   "source": [
    "predictions = mlp_model.predict(X)[0]\n",
    "predictions = predictions.reshape(predictions.shape[0] * predictions.shape[1])\n",
    "processed_prediction = denormalize_array(predictions, kwh_min, kwh_max)"
   ]
  },
  {
   "cell_type": "code",
   "execution_count": 69,
   "metadata": {
    "collapsed": true
   },
   "outputs": [],
   "source": [
    "true = denormalize_array(filtered_kwh_list.reshape(filtered_kwh_list.shape[0] * filtered_kwh_list.shape[1]), kwh_min, kwh_max)"
   ]
  },
  {
   "cell_type": "code",
   "execution_count": 70,
   "metadata": {},
   "outputs": [
    {
     "data": {
      "text/plain": [
       "<matplotlib.text.Text at 0x11dc2cba8>"
      ]
     },
     "execution_count": 70,
     "metadata": {},
     "output_type": "execute_result"
    },
    {
     "data": {
      "image/png": "[encoded data removed]",
      "text/plain": [
       "<matplotlib.figure.Figure at 0x11ce332e8>"
      ]
     },
     "metadata": {},
     "output_type": "display_data"
    }
   ],
   "source": [
    "plt.figure(figsize=(20, 5))\n",
    "plt.plot(processed_prediction[0:1000], label = \"prediction\")\n",
    "plt.plot(true[0:1000], label = \"true\")\n",
    "plt.legend()\n",
    "plt.title(\"predict kwh\")"
   ]
  },
  {
   "cell_type": "code",
   "execution_count": 71,
   "metadata": {},
   "outputs": [
    {
     "name": "stdout",
     "output_type": "stream",
     "text": [
      "training mae : 135.472632401\n"
     ]
    }
   ],
   "source": [
    "print('training mae :', calc_mae(processed_prediction, true))"
   ]
  },
  {
   "cell_type": "code",
   "execution_count": 72,
   "metadata": {
    "collapsed": true
   },
   "outputs": [],
   "source": [
    "predictions = mlp_model.predict(all_X)[0]\n",
    "predictions = predictions.reshape(predictions.shape[0] * predictions.shape[1])\n",
    "processed_prediction = denormalize_array(predictions, kwh_min, kwh_max)"
   ]
  },
  {
   "cell_type": "code",
   "execution_count": 73,
   "metadata": {
    "collapsed": true
   },
   "outputs": [],
   "source": [
    "try:\n",
    "    predict_data = pd.read_csv('data/predicted_data/predict_train_SOLA0'+str(target_place)+'.tsv', delimiter='\\t')\n",
    "    \n",
    "except FileNotFoundError:\n",
    "    s_idx = result[result['datetime'] == pd.to_datetime('2012/01/02 00:00')].index[0]\n",
    "    e_idx = result[result['datetime'] == pd.to_datetime('2015/12/31 23:30')].index[0]\n",
    "    predict_data = pd.DataFrame({\"datetime\":result['datetime'][s_idx:e_idx+1]})\n",
    "    predict_data.index = np.arange(len(predict_data))\n",
    "    predict_data.to_csv('data/predicted_data/predict_train_SOLA0'+str(target_place)+'.tsv', sep = '\\t', index=False)"
   ]
  },
  {
   "cell_type": "code",
   "execution_count": 74,
   "metadata": {
    "collapsed": true
   },
   "outputs": [],
   "source": [
    "# 2012/01/02 00:00 ~ 2015/12/31 23:30の予測データを書き出す\n",
    "predict_data[model_name] = np.append(processed_prediction[48:-1], processed_prediction[-1])"
   ]
  },
  {
   "cell_type": "code",
   "execution_count": 75,
   "metadata": {
    "collapsed": true
   },
   "outputs": [],
   "source": [
    "predict_data.to_csv('data/predicted_data/predict_train_SOLA0'+str(target_place)+'.tsv', sep = '\\t', index=False)"
   ]
  },
  {
   "cell_type": "code",
   "execution_count": 76,
   "metadata": {
    "collapsed": true
   },
   "outputs": [],
   "source": [
    "validation = mlp_model.predict(mlp_model.X_val)[0]\n",
    "validation = validation.reshape(validation.shape[0] * validation.shape[1])\n",
    "processed_validation = denormalize_array(validation, kwh_min, kwh_max)"
   ]
  },
  {
   "cell_type": "code",
   "execution_count": 77,
   "metadata": {
    "collapsed": true
   },
   "outputs": [],
   "source": [
    "Y_val = mlp_model.Y_val\n",
    "Y_val = Y_val.reshape(Y_val.shape[0] * Y_val.shape[1])\n",
    "Y_val = denormalize_array(Y_val, kwh_min, kwh_max)"
   ]
  },
  {
   "cell_type": "code",
   "execution_count": 78,
   "metadata": {},
   "outputs": [
    {
     "data": {
      "text/plain": [
       "<matplotlib.text.Text at 0x11dab94a8>"
      ]
     },
     "execution_count": 78,
     "metadata": {},
     "output_type": "execute_result"
    },
    {
     "data": {
      "image/png": "[encoded data removed]",
      "text/plain": [
       "<matplotlib.figure.Figure at 0x11c29c438>"
      ]
     },
     "metadata": {},
     "output_type": "display_data"
    }
   ],
   "source": [
    "plt.figure(figsize=(20, 5))\n",
    "plt.plot(processed_validation[0:1000], label = \"prediction\")\n",
    "plt.plot(Y_val[0:1000], label = \"true\")\n",
    "plt.legend()\n",
    "plt.title(\"predict output\")"
   ]
  },
  {
   "cell_type": "code",
   "execution_count": 79,
   "metadata": {},
   "outputs": [
    {
     "name": "stdout",
     "output_type": "stream",
     "text": [
      "validation mae : 130.301577447\n"
     ]
    }
   ],
   "source": [
    "print('validation mae :', calc_mae(processed_validation, Y_val))"
   ]
  },
  {
   "cell_type": "code",
   "execution_count": 80,
   "metadata": {
    "collapsed": true
   },
   "outputs": [],
   "source": [
    "# X_predictによる予測\n",
    "predictions = mlp_model.predict(X_predict)[0]\n",
    "predictions = predictions.reshape(predictions.shape[0] * predictions.shape[1])\n",
    "processed_prediction = denormalize_array(predictions, kwh_min, kwh_max)"
   ]
  },
  {
   "cell_type": "code",
   "execution_count": 81,
   "metadata": {
    "collapsed": true
   },
   "outputs": [],
   "source": [
    "try:\n",
    "    predict_data = pd.read_csv('data/predicted_data/predict_SOLA0'+str(target_place)+'.tsv', delimiter='\\t')\n",
    "    \n",
    "except FileNotFoundError:\n",
    "    s_idx = result[result['datetime'] == pd.to_datetime('2016/01/01 00:00')].index[0]\n",
    "    e_idx = result[result['datetime'] == pd.to_datetime('2017/3/31 23:30')].index[0]\n",
    "    predict_data = pd.DataFrame({\"datetime\":result['datetime'][s_idx:e_idx+1]})\n",
    "    predict_data.index = np.arange(len(predict_data))\n",
    "    predict_data.to_csv('data/predicted_data/predict_SOLA0'+str(target_place)+'.tsv', sep = '\\t', index=False)"
   ]
  },
  {
   "cell_type": "code",
   "execution_count": 82,
   "metadata": {
    "collapsed": true
   },
   "outputs": [],
   "source": [
    "# 2016/01/01 00:00 ~ 2017/3/31 23:30の予測データを書き出す\n",
    "predict_data[model_name] = processed_prediction"
   ]
  },
  {
   "cell_type": "code",
   "execution_count": 83,
   "metadata": {
    "collapsed": true
   },
   "outputs": [],
   "source": [
    "predict_data.to_csv('data/predicted_data/predict_SOLA0'+str(target_place)+'.tsv', sep = '\\t', index=False)"
   ]
  },
  {
   "cell_type": "code",
   "execution_count": 110,
   "metadata": {},
   "outputs": [
    {
     "name": "stdout",
     "output_type": "stream",
     "text": [
      "directory already exists\n",
      "targetplace_1_kwh_all_wfc_month_one_layer_hidden_50_500\n",
      "train#0, validation loss: 1.660005e-01\n",
      "train#25, validation loss: 2.213190e-02\n",
      "train#50, validation loss: 2.050049e-02\n",
      "train#75, validation loss: 1.456033e-02\n",
      "train#100, validation loss: 1.043045e-02\n",
      "train#125, validation loss: 9.329363e-03\n",
      "train#150, validation loss: 9.101856e-03\n",
      "train#175, validation loss: 8.598567e-03\n",
      "train#200, validation loss: 8.651716e-03\n",
      "train#225, validation loss: 8.444617e-03\n",
      "train#250, validation loss: 8.468607e-03\n",
      "train#275, validation loss: 8.212720e-03\n",
      "train#300, validation loss: 8.160624e-03\n",
      "train#325, validation loss: 8.178159e-03\n",
      "train#350, validation loss: 8.038452e-03\n",
      "train#375, validation loss: 7.879078e-03\n",
      "train#400, validation loss: 7.668861e-03\n",
      "train#425, validation loss: 8.193269e-03\n",
      "train#450, validation loss: 7.601175e-03\n",
      "train#475, validation loss: 7.590005e-03\n",
      "directory already exists\n",
      "targetplace_1_kwh_all_wfc_month_one_layer_hidden_50_1000\n",
      "train#0, validation loss: 1.502901e-01\n",
      "train#50, validation loss: 1.894262e-02\n",
      "train#100, validation loss: 1.148945e-02\n",
      "train#150, validation loss: 1.035564e-02\n",
      "train#200, validation loss: 1.037779e-02\n",
      "train#250, validation loss: 9.723611e-03\n",
      "train#300, validation loss: 9.490557e-03\n",
      "train#350, validation loss: 9.212196e-03\n",
      "train#400, validation loss: 9.172007e-03\n",
      "train#450, validation loss: 9.095617e-03\n",
      "train#500, validation loss: 8.977436e-03\n",
      "train#550, validation loss: 8.787913e-03\n",
      "train#600, validation loss: 8.646498e-03\n",
      "train#650, validation loss: 8.577364e-03\n",
      "train#700, validation loss: 8.521106e-03\n",
      "train#750, validation loss: 8.482265e-03\n",
      "train#800, validation loss: 8.350941e-03\n",
      "train#850, validation loss: 8.223758e-03\n",
      "train#900, validation loss: 8.179560e-03\n",
      "train#950, validation loss: 8.320754e-03\n",
      "directory already exists\n",
      "targetplace_1_kwh_all_wfc_month_one_layer_hidden_50_2000\n",
      "train#0, validation loss: 1.768781e-01\n",
      "train#100, validation loss: 1.197384e-02\n",
      "train#200, validation loss: 9.546343e-03\n",
      "train#300, validation loss: 8.255014e-03\n",
      "train#400, validation loss: 7.759009e-03\n",
      "train#500, validation loss: 7.811410e-03\n",
      "train#600, validation loss: 7.212952e-03\n",
      "train#700, validation loss: 7.264984e-03\n",
      "train#800, validation loss: 6.950885e-03\n",
      "train#900, validation loss: 6.907827e-03\n",
      "train#1000, validation loss: 7.238794e-03\n",
      "train#1100, validation loss: 6.652974e-03\n",
      "train#1200, validation loss: 6.925415e-03\n",
      "train#1300, validation loss: 6.308811e-03\n",
      "train#1400, validation loss: 6.373827e-03\n",
      "train#1500, validation loss: 6.169662e-03\n",
      "train#1600, validation loss: 6.072534e-03\n",
      "train#1700, validation loss: 5.910296e-03\n",
      "train#1800, validation loss: 6.061486e-03\n",
      "train#1900, validation loss: 5.898504e-03\n",
      "directory already exists\n",
      "targetplace_1_kwh_all_wfc_month_one_layer_hidden_50_3000\n",
      "train#0, validation loss: 1.772407e-01\n",
      "train#150, validation loss: 9.504533e-03\n",
      "train#300, validation loss: 8.431857e-03\n",
      "train#450, validation loss: 8.162507e-03\n",
      "train#600, validation loss: 7.827013e-03\n",
      "train#750, validation loss: 7.769094e-03\n",
      "train#900, validation loss: 7.237498e-03\n",
      "train#1050, validation loss: 7.230466e-03\n",
      "train#1200, validation loss: 7.014303e-03\n",
      "train#1350, validation loss: 6.953194e-03\n",
      "train#1500, validation loss: 7.080245e-03\n",
      "train#1650, validation loss: 6.483948e-03\n",
      "train#1800, validation loss: 6.439417e-03\n",
      "train#1950, validation loss: 6.950213e-03\n",
      "train#2100, validation loss: 6.178454e-03\n",
      "train#2250, validation loss: 5.976899e-03\n",
      "train#2400, validation loss: 5.962518e-03\n",
      "train#2550, validation loss: 5.687849e-03\n",
      "train#2700, validation loss: 5.654761e-03\n",
      "train#2850, validation loss: 5.340076e-03\n",
      "directory already exists\n",
      "targetplace_1_kwh_all_wfc_month_one_layer_hidden_50_4000\n",
      "train#0, validation loss: 1.586236e-01\n",
      "train#200, validation loss: 9.273479e-03\n",
      "train#400, validation loss: 7.938146e-03\n",
      "train#600, validation loss: 7.581194e-03\n",
      "train#800, validation loss: 7.276540e-03\n",
      "train#1000, validation loss: 7.345696e-03\n",
      "train#1200, validation loss: 7.267452e-03\n",
      "train#1400, validation loss: 6.940693e-03\n",
      "train#1600, validation loss: 6.812818e-03\n",
      "train#1800, validation loss: 6.720503e-03\n",
      "train#2000, validation loss: 6.333181e-03\n",
      "train#2200, validation loss: 6.262155e-03\n",
      "train#2400, validation loss: 5.991502e-03\n",
      "train#2600, validation loss: 6.042126e-03\n",
      "train#2800, validation loss: 5.884614e-03\n",
      "train#3000, validation loss: 5.409746e-03\n",
      "train#3200, validation loss: 5.320872e-03\n",
      "train#3400, validation loss: 5.178651e-03\n",
      "train#3600, validation loss: 5.060577e-03\n",
      "train#3800, validation loss: 4.729963e-03\n"
     ]
    }
   ],
   "source": [
    "'''\n",
    "epochs = [500, 1000, 2000, 3000, 4000]\n",
    "for epoch in epochs:\n",
    "    \n",
    "    model_name = \"targetplace_\"+str(target_place)+\"_kwh_all_wfc_month_one_layer_hidden_50_\"+str(epoch)\n",
    "    \n",
    "    try:\n",
    "        os.mkdir('./data/model/'+model_name)\n",
    "        print(\"make save directory\")\n",
    "    except :\n",
    "        print(\"directory already exists\")\n",
    "\n",
    "    print(model_name) \n",
    "    \n",
    "    mlp_model = MLP.MLP(X, KWH, epochs = epoch, hidden_size = 50, batch_size = 100, model_name = model_name)\n",
    "    \n",
    "    mlp_model.train()\n",
    "    \n",
    "    predictions = mlp_model.predict(all_X)[0]\n",
    "    predictions = predictions.reshape(predictions.shape[0] * predictions.shape[1])\n",
    "    processed_prediction = denormalize_array(predictions, kwh_min, kwh_max)\n",
    "    \n",
    "    try:\n",
    "        predict_data = pd.read_csv('data/predicted_data/predict_train_SOLA0'+str(target_place)+'.tsv', delimiter='\\t')\n",
    "    \n",
    "    except FileNotFoundError:\n",
    "        s_idx = result[result['datetime'] == pd.to_datetime('2012/01/02 00:00')].index[0]\n",
    "        e_idx = result[result['datetime'] == pd.to_datetime('2015/12/31 23:30')].index[0]\n",
    "        predict_data = pd.DataFrame({\"datetime\":result['datetime'][s_idx:e_idx+1]})\n",
    "        predict_data.index = np.arange(len(predict_data))\n",
    "        predict_data.to_csv('data/predicted_data/predict_train_SOLA0'+str(target_place)+'.tsv', sep = '\\t', index=False)\n",
    "    \n",
    "    # 2012/01/02 00:00 ~ 2015/12/31 23:30の予測データを書き出す\n",
    "    predict_data[model_name] = np.append(processed_prediction[48:-1], processed_prediction[-1])\n",
    "    \n",
    "    # X_predictによる予測\n",
    "    predictions = mlp_model.predict(X_predict)[0]\n",
    "    predictions = predictions.reshape(predictions.shape[0] * predictions.shape[1])\n",
    "    processed_prediction = denormalize_array(predictions, kwh_min, kwh_max)\n",
    "    \n",
    "    try:\n",
    "        predict_data = pd.read_csv('data/predicted_data/predict_SOLA0'+str(target_place)+'.tsv', delimiter='\\t')\n",
    "    \n",
    "    except FileNotFoundError:\n",
    "        s_idx = result[result['datetime'] == pd.to_datetime('2016/01/01 00:00')].index[0]\n",
    "        e_idx = result[result['datetime'] == pd.to_datetime('2017/3/31 23:30')].index[0]\n",
    "        predict_data = pd.DataFrame({\"datetime\":result['datetime'][s_idx:e_idx+1]})\n",
    "        predict_data.index = np.arange(len(predict_data))\n",
    "        predict_data.to_csv('data/predicted_data/predict_SOLA0'+str(target_place)+'.tsv', sep = '\\t', index=False)\n",
    "    \n",
    "    # 2016/01/01 00:00 ~ 2017/3/31 23:30の予測データを書き出す\n",
    "    predict_data[model_name] = processed_prediction\n",
    "    \n",
    "    predict_data.to_csv('data/predicted_data/predict_SOLA0'+str(target_place)+'.tsv', sep = '\\t', index=False)\n",
    "'''    "
   ]
  },
  {
   "cell_type": "code",
   "execution_count": null,
   "metadata": {
    "collapsed": true
   },
   "outputs": [],
   "source": []
  }
 ],
 "metadata": {
  "kernelspec": {
   "display_name": "Python 3",
   "language": "python",
   "name": "python3"
  },
  "language_info": {
   "codemirror_mode": {
    "name": "ipython",
    "version": 3
   },
   "file_extension": ".py",
   "mimetype": "text/x-python",
   "name": "python",
   "nbconvert_exporter": "python",
   "pygments_lexer": "ipython3",
   "version": "3.5.3"
  }
 },
 "nbformat": 4,
 "nbformat_minor": 2
}
