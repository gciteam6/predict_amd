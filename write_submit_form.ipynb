{
 "cells": [
  {
   "cell_type": "markdown",
   "metadata": {},
   "source": [
    "### **特定のモデルの予測値を書き出す**"
   ]
  },
  {
   "cell_type": "code",
   "execution_count": 2,
   "metadata": {
    "collapsed": true
   },
   "outputs": [],
   "source": [
    "# データ加工・処理・分析モジュール\n",
    "import numpy as np\n",
    "import pandas as pd\n",
    "import matplotlib.pyplot as plt\n",
    "\n",
    "from sklearn.ensemble import RandomForestRegressor\n",
    "from sklearn.model_selection import train_test_split\n",
    "from sklearn.model_selection import KFold\n",
    "\n",
    "import os\n",
    "import random\n",
    "\n",
    "%matplotlib inline\n",
    "\n",
    "import time"
   ]
  },
  {
   "cell_type": "code",
   "execution_count": 3,
   "metadata": {
    "collapsed": true
   },
   "outputs": [],
   "source": [
    "def set_time(dataframe, col_name):\n",
    "    '''\n",
    "    to_datetimeを使うための前処理\n",
    "    '''\n",
    "    dataframe[col_name] = dataframe[col_name].map(lambda x : transform_time(x))\n",
    "    return dataframe"
   ]
  },
  {
   "cell_type": "code",
   "execution_count": 4,
   "metadata": {
    "collapsed": true
   },
   "outputs": [],
   "source": [
    "def add_time_sincos(input_data, key=\"datetime\"):\n",
    "    '''\n",
    "    時間や月のデータを加える\n",
    "    '''\n",
    "    input_data['hour'] = input_data['datetime'].map(lambda x: int(x.hour))\n",
    "    input_data['minute'] = input_data['datetime'].map(lambda x: int(x.minute))\n",
    "    input_data['month'] = input_data['datetime'].map(lambda x: int(x.month))\n",
    "    input_data['month_cos'] = input_data['month'].map(lambda x: np.cos(np.pi * x / 12))\n",
    "    input_data['month_sin'] = input_data['month'].map(lambda x: np.sin(np.pi * x / 12))\n",
    "    input_data['hour_cos'] = input_data['hour'].map(lambda x: np.cos(np.pi * x / 24))\n",
    "    input_data['hour_sin'] = input_data['hour'].map(lambda x: np.sin(np.pi * x / 24))\n",
    "    input_data['year'] = input_data['datetime'].map(lambda x: int(x.year))\n",
    "    input_data = input_data.drop(['hour', 'month', 'minute'], axis=1)\n",
    "    return input_data"
   ]
  },
  {
   "cell_type": "code",
   "execution_count": 5,
   "metadata": {
    "collapsed": true
   },
   "outputs": [],
   "source": [
    "def transform_time(x):\n",
    "    '''\n",
    "    set_time内で使う関数\n",
    "    to_datetimeで24時をサポートしないので00に変更する処理\n",
    "    '''\n",
    "    str_x = str(x)\n",
    "    res = ''\n",
    "    if str(x)[8:10] == '24':\n",
    "        res = str_x[0:4] + '-' + str_x[4:6] + '-' + str_x[6:8] + ' 00:'+str_x[10:12] \n",
    "    else:\n",
    "        res = str_x[0:4] + '-' + str_x[4:6] + '-' + str_x[6:8] + ' '+ str_x[8:10] +':'+str_x[10:12]\n",
    "    return res"
   ]
  },
  {
   "cell_type": "code",
   "execution_count": 6,
   "metadata": {
    "collapsed": true
   },
   "outputs": [],
   "source": [
    "def drop_nan(X, Y):\n",
    "    '''\n",
    "    正解データがnanであるデータの組を削除\n",
    "    '''\n",
    "    mask = np.isnan(Y)\n",
    "    X = X[~mask]\n",
    "    Y = Y[~mask]\n",
    "    return X, Y"
   ]
  },
  {
   "cell_type": "code",
   "execution_count": 7,
   "metadata": {
    "collapsed": true
   },
   "outputs": [],
   "source": [
    "def to_zero(prediction):\n",
    "    '''\n",
    "    2012年から2015年の間で一度も発電量がなかった時間帯を0と予測するようにする\n",
    "    '''\n",
    "    mask = np.array([0,0,0,0,0,0,0,0,0,0,1,1,\n",
    "                    1,1,1,1,1,1,1,1,1,1,1,1,\n",
    "                    1,1,1,1,1,1,1,1,1,1,1,1,\n",
    "                    1,1,0,0,0,0,0,0,0,0,0,0])\n",
    "    all_mask = np.array([0,0,0,0,0,0,0,0,0,0,1,1,\n",
    "                        1,1,1,1,1,1,1,1,1,1,1,1,\n",
    "                        1,1,1,1,1,1,1,1,1,1,1,1,\n",
    "                        1,1,0,0,0,0,0,0,0,0,0,0])\n",
    "    length = int(len(prediction)/48)\n",
    "    \n",
    "    for i in range(length-1):\n",
    "        all_mask = np.r_[all_mask, mask]\n",
    "    \n",
    "    return prediction * all_mask"
   ]
  },
  {
   "cell_type": "code",
   "execution_count": 8,
   "metadata": {
    "collapsed": true
   },
   "outputs": [],
   "source": [
    "# 発電量データ\n",
    "all_output_30 = pd.read_csv('data/processed_data/out_put.tsv', delimiter = '\\t')\n",
    "all_output_30['datetime'] = all_output_30['datetime'].map(lambda x : pd.to_datetime(x))"
   ]
  },
  {
   "cell_type": "code",
   "execution_count": 9,
   "metadata": {
    "collapsed": true
   },
   "outputs": [],
   "source": [
    "target_place = 1"
   ]
  },
  {
   "cell_type": "code",
   "execution_count": 10,
   "metadata": {
    "collapsed": true
   },
   "outputs": [],
   "source": [
    "# いろんなモデルの予測値の集合(ほんちゃん)\n",
    "test_prediction = pd.read_csv(\"data/predicted_data/predict_SOLA0\"+str(target_place)+\".tsv\", delimiter=\"\\t\")\n",
    "test_prediction['datetime'] = test_prediction['datetime'].map(lambda x : pd.to_datetime(x))"
   ]
  },
  {
   "cell_type": "code",
   "execution_count": 11,
   "metadata": {},
   "outputs": [
    {
     "data": {
      "text/plain": [
       "Index(['datetime',\n",
       "       'targetplace_1_limited_scaled_kwh_all_wfc_sigmoid_hidden_100_1000_1-3folds',\n",
       "       'targetplace_1_limited_scaled_kwh_all_wfc_sigmoid_hidden_100_1000_2-3folds',\n",
       "       'targetplace_1_limited_scaled_kwh_all_wfc_sigmoid_hidden_100_1000_3-3folds',\n",
       "       'targetplace_1_limited_scaled_kwh_all_wfc_sigmoid_hidden_100_1000_1-5folds',\n",
       "       'targetplace_1_limited_scaled_kwh_all_wfc_sigmoid_hidden_100_1000_2-5folds',\n",
       "       'targetplace_1_limited_scaled_kwh_all_wfc_sigmoid_hidden_100_1000_3-5folds',\n",
       "       'targetplace_1_limited_scaled_kwh_all_wfc_sigmoid_hidden_100_1000_4-5folds',\n",
       "       'targetplace_1_limited_scaled_kwh_all_wfc_sigmoid_hidden_100_1000_5-5folds',\n",
       "       'targetplace_1_limited_scaled_kwh_all_wfc_month_dummy_sigmoid_hidden_100_1-5folds',\n",
       "       'targetplace_1_limited_scaled_kwh_all_wfc_month_dummy_sigmoid_hidden_100_2-5folds',\n",
       "       'targetplace_1_limited_scaled_kwh_all_wfc_month_dummy_sigmoid_hidden_100_3-5folds',\n",
       "       'targetplace_1_limited_scaled_kwh_all_wfc_month_dummy_sigmoid_hidden_100_4-5folds',\n",
       "       'targetplace_1_limited_scaled_kwh_all_wfc_month_dummy_sigmoid_hidden_100_5-5folds',\n",
       "       'targetplace_1_limited_scaled_kwh_all_wfc_no_sincos_sigmoid_hidden_100_1-5folds',\n",
       "       'targetplace_1_limited_scaled_kwh_all_wfc_no_sincos_sigmoid_hidden_100_2-5folds',\n",
       "       'targetplace_1_limited_scaled_kwh_all_wfc_no_sincos_sigmoid_hidden_100_3-5folds',\n",
       "       'targetplace_1_limited_scaled_kwh_all_wfc_no_sincos_sigmoid_hidden_100_4-5folds',\n",
       "       'targetplace_1_limited_scaled_kwh_all_wfc_no_sincos_sigmoid_hidden_100_5-5folds',\n",
       "       'target_place_1_svr_C_3_e_1e-05_1-5folds',\n",
       "       'target_place_1_svr_C_3_e_1e-05_2-5folds',\n",
       "       'target_place_1_svr_C_3_e_1e-05_3-5folds',\n",
       "       'target_place_1_svr_C_3_e_1e-05_4-5folds',\n",
       "       'target_place_1_svr_C_3_e_1e-05_5-5folds',\n",
       "       'target_place_1_svr_rbf_C_10_e_0.0003_1-5folds',\n",
       "       'target_place_1_svr_rbf_C_10_e_0.0003_2-5folds',\n",
       "       'target_place_1_svr_rbf_C_10_e_0.0003_3-5folds',\n",
       "       'target_place_1_svr_rbf_C_10_e_0.0003_4-5folds',\n",
       "       'target_place_1_svr_rbf_C_10_e_0.0003_5-5folds',\n",
       "       'target_place_1_svr_rbf_C_3_e_0.001_gamma_0.1_1-5folds',\n",
       "       'target_place_1_svr_rbf_C_3_e_0.001_gamma_0.1_2-5folds',\n",
       "       'target_place_1_svr_rbf_C_3_e_0.001_gamma_0.1_3-5folds',\n",
       "       'target_place_1_svr_rbf_C_3_e_0.001_gamma_0.1_4-5folds',\n",
       "       'target_place_1_svr_rbf_C_3_e_0.001_gamma_0.1_5-5folds'],\n",
       "      dtype='object')"
      ]
     },
     "execution_count": 11,
     "metadata": {},
     "output_type": "execute_result"
    }
   ],
   "source": [
    "test_prediction.columns"
   ]
  },
  {
   "cell_type": "code",
   "execution_count": 12,
   "metadata": {
    "collapsed": true
   },
   "outputs": [],
   "source": [
    "keys = ['target_place_1_svr_rbf_C_3_e_0.001_gamma_0.1_1-5folds',\n",
    "       'target_place_1_svr_rbf_C_3_e_0.001_gamma_0.1_2-5folds',\n",
    "       'target_place_1_svr_rbf_C_3_e_0.001_gamma_0.1_3-5folds',\n",
    "       'target_place_1_svr_rbf_C_3_e_0.001_gamma_0.1_4-5folds',\n",
    "       'target_place_1_svr_rbf_C_3_e_0.001_gamma_0.1_5-5folds']\n",
    "tmp = test_prediction[keys]\n",
    "tmp = tmp.mean(axis=1)"
   ]
  },
  {
   "cell_type": "code",
   "execution_count": 13,
   "metadata": {
    "collapsed": true
   },
   "outputs": [],
   "source": [
    "predict_data = pd.DataFrame()"
   ]
  },
  {
   "cell_type": "code",
   "execution_count": 14,
   "metadata": {
    "collapsed": true
   },
   "outputs": [],
   "source": [
    "# 2016/01/01 00:00 ~ 2017/3/31 23:30の予測データを書き出す\n",
    "predict_data[\"blending_\"+str(target_place)] = tmp"
   ]
  },
  {
   "cell_type": "code",
   "execution_count": 15,
   "metadata": {
    "collapsed": true
   },
   "outputs": [],
   "source": [
    "target_place = 2"
   ]
  },
  {
   "cell_type": "code",
   "execution_count": 16,
   "metadata": {
    "collapsed": true
   },
   "outputs": [],
   "source": [
    "# いろんなモデルの予測値の集合(ほんちゃん)\n",
    "test_prediction = pd.read_csv(\"data/predicted_data/predict_SOLA0\"+str(target_place)+\".tsv\", delimiter=\"\\t\")\n",
    "test_prediction['datetime'] = test_prediction['datetime'].map(lambda x : pd.to_datetime(x))"
   ]
  },
  {
   "cell_type": "code",
   "execution_count": 17,
   "metadata": {},
   "outputs": [
    {
     "data": {
      "text/plain": [
       "Index(['datetime',\n",
       "       'targetplace_2_limited_scaled_kwh_all_wfc_sigmoid_hidden_100_1000_1-3folds',\n",
       "       'targetplace_2_limited_scaled_kwh_all_wfc_sigmoid_hidden_100_1000_2-3folds',\n",
       "       'targetplace_2_limited_scaled_kwh_all_wfc_sigmoid_hidden_100_1000_3-3folds',\n",
       "       'targetplace_2_limited_scaled_kwh_all_wfc_sigmoid_hidden_100_1000_1-5folds',\n",
       "       'targetplace_2_limited_scaled_kwh_all_wfc_sigmoid_hidden_100_1000_2-5folds',\n",
       "       'targetplace_2_limited_scaled_kwh_all_wfc_sigmoid_hidden_100_1000_3-5folds',\n",
       "       'targetplace_2_limited_scaled_kwh_all_wfc_sigmoid_hidden_100_1000_4-5folds',\n",
       "       'targetplace_2_limited_scaled_kwh_all_wfc_sigmoid_hidden_100_1000_5-5folds',\n",
       "       'targetplace_2_limited_scaled_kwh_all_wfc_month_dummy_sigmoid_hidden_100_1-5folds',\n",
       "       'targetplace_2_limited_scaled_kwh_all_wfc_month_dummy_sigmoid_hidden_100_2-5folds',\n",
       "       'targetplace_2_limited_scaled_kwh_all_wfc_month_dummy_sigmoid_hidden_100_3-5folds',\n",
       "       'targetplace_2_limited_scaled_kwh_all_wfc_month_dummy_sigmoid_hidden_100_4-5folds',\n",
       "       'targetplace_2_limited_scaled_kwh_all_wfc_month_dummy_sigmoid_hidden_100_5-5folds',\n",
       "       'targetplace_2_limited_scaled_kwh_all_wfc_no_sincos_sigmoid_hidden_100_1-5folds',\n",
       "       'targetplace_2_limited_scaled_kwh_all_wfc_no_sincos_sigmoid_hidden_100_2-5folds',\n",
       "       'targetplace_2_limited_scaled_kwh_all_wfc_no_sincos_sigmoid_hidden_100_3-5folds',\n",
       "       'targetplace_2_limited_scaled_kwh_all_wfc_no_sincos_sigmoid_hidden_100_4-5folds',\n",
       "       'targetplace_2_limited_scaled_kwh_all_wfc_no_sincos_sigmoid_hidden_100_5-5folds',\n",
       "       'target_place_2_svr_C_3_e_1e-05_1-5folds',\n",
       "       'target_place_2_svr_C_3_e_1e-05_2-5folds',\n",
       "       'target_place_2_svr_C_3_e_1e-05_3-5folds',\n",
       "       'target_place_2_svr_C_3_e_1e-05_4-5folds',\n",
       "       'target_place_2_svr_C_3_e_1e-05_5-5folds',\n",
       "       'target_place_2_svr_rbf_C_10_e_0.0003_1-5folds',\n",
       "       'target_place_2_svr_rbf_C_10_e_0.0003_2-5folds',\n",
       "       'target_place_2_svr_rbf_C_10_e_0.0003_3-5folds',\n",
       "       'target_place_2_svr_rbf_C_10_e_0.0003_4-5folds',\n",
       "       'target_place_2_svr_rbf_C_10_e_0.0003_5-5folds',\n",
       "       'target_place_2_svr_rbf_C_3_e_0.001_gamma_0.1_1-5folds',\n",
       "       'target_place_2_svr_rbf_C_3_e_0.001_gamma_0.1_2-5folds',\n",
       "       'target_place_2_svr_rbf_C_3_e_0.001_gamma_0.1_3-5folds',\n",
       "       'target_place_2_svr_rbf_C_3_e_0.001_gamma_0.1_4-5folds',\n",
       "       'target_place_2_svr_rbf_C_3_e_0.001_gamma_0.1_5-5folds'],\n",
       "      dtype='object')"
      ]
     },
     "execution_count": 17,
     "metadata": {},
     "output_type": "execute_result"
    }
   ],
   "source": [
    "test_prediction.columns"
   ]
  },
  {
   "cell_type": "code",
   "execution_count": 18,
   "metadata": {
    "collapsed": true
   },
   "outputs": [],
   "source": [
    "keys = ['target_place_2_svr_rbf_C_3_e_0.001_gamma_0.1_1-5folds',\n",
    "       'target_place_2_svr_rbf_C_3_e_0.001_gamma_0.1_2-5folds',\n",
    "       'target_place_2_svr_rbf_C_3_e_0.001_gamma_0.1_3-5folds',\n",
    "       'target_place_2_svr_rbf_C_3_e_0.001_gamma_0.1_4-5folds',\n",
    "       'target_place_2_svr_rbf_C_3_e_0.001_gamma_0.1_5-5folds']\n",
    "tmp = test_prediction[keys]\n",
    "tmp = tmp.mean(axis=1)"
   ]
  },
  {
   "cell_type": "code",
   "execution_count": 19,
   "metadata": {
    "collapsed": true
   },
   "outputs": [],
   "source": [
    "# 2016/01/01 00:00 ~ 2017/3/31 23:30の予測データを書き出す\n",
    "predict_data[\"blending_\"+str(target_place)] = tmp"
   ]
  },
  {
   "cell_type": "code",
   "execution_count": 20,
   "metadata": {
    "collapsed": true
   },
   "outputs": [],
   "source": [
    "target_place = 3"
   ]
  },
  {
   "cell_type": "code",
   "execution_count": 21,
   "metadata": {
    "collapsed": true
   },
   "outputs": [],
   "source": [
    "# いろんなモデルの予測値の集合(ほんちゃん)\n",
    "test_prediction = pd.read_csv(\"data/predicted_data/predict_SOLA0\"+str(target_place)+\".tsv\", delimiter=\"\\t\")\n",
    "test_prediction['datetime'] = test_prediction['datetime'].map(lambda x : pd.to_datetime(x))"
   ]
  },
  {
   "cell_type": "code",
   "execution_count": 22,
   "metadata": {},
   "outputs": [
    {
     "data": {
      "text/plain": [
       "Index(['datetime',\n",
       "       'targetplace_3_limited_scaled_kwh_all_wfc_sigmoid_hidden_100_1000_1-3folds',\n",
       "       'targetplace_3_limited_scaled_kwh_all_wfc_sigmoid_hidden_100_1000_2-3folds',\n",
       "       'targetplace_3_limited_scaled_kwh_all_wfc_sigmoid_hidden_100_1000_3-3folds',\n",
       "       'targetplace_3_limited_scaled_kwh_all_wfc_sigmoid_hidden_100_1000_1-5folds',\n",
       "       'targetplace_3_limited_scaled_kwh_all_wfc_sigmoid_hidden_100_1000_2-5folds',\n",
       "       'targetplace_3_limited_scaled_kwh_all_wfc_sigmoid_hidden_100_1000_3-5folds',\n",
       "       'targetplace_3_limited_scaled_kwh_all_wfc_sigmoid_hidden_100_1000_4-5folds',\n",
       "       'targetplace_3_limited_scaled_kwh_all_wfc_sigmoid_hidden_100_1000_5-5folds',\n",
       "       'targetplace_3_limited_scaled_kwh_all_wfc_month_dummy_sigmoid_hidden_100_1-5folds',\n",
       "       'targetplace_3_limited_scaled_kwh_all_wfc_month_dummy_sigmoid_hidden_100_2-5folds',\n",
       "       'targetplace_3_limited_scaled_kwh_all_wfc_month_dummy_sigmoid_hidden_100_3-5folds',\n",
       "       'targetplace_3_limited_scaled_kwh_all_wfc_month_dummy_sigmoid_hidden_100_4-5folds',\n",
       "       'targetplace_3_limited_scaled_kwh_all_wfc_month_dummy_sigmoid_hidden_100_5-5folds',\n",
       "       'targetplace_3_limited_scaled_kwh_all_wfc_no_sincos_sigmoid_hidden_100_1-5folds',\n",
       "       'targetplace_3_limited_scaled_kwh_all_wfc_no_sincos_sigmoid_hidden_100_2-5folds',\n",
       "       'targetplace_3_limited_scaled_kwh_all_wfc_no_sincos_sigmoid_hidden_100_3-5folds',\n",
       "       'targetplace_3_limited_scaled_kwh_all_wfc_no_sincos_sigmoid_hidden_100_4-5folds',\n",
       "       'targetplace_3_limited_scaled_kwh_all_wfc_no_sincos_sigmoid_hidden_100_5-5folds',\n",
       "       'target_place_3_svr_C_3_e_1e-05_1-5folds',\n",
       "       'target_place_3_svr_C_3_e_1e-05_2-5folds',\n",
       "       'target_place_3_svr_C_3_e_1e-05_3-5folds',\n",
       "       'target_place_3_svr_C_3_e_1e-05_4-5folds',\n",
       "       'target_place_3_svr_C_3_e_1e-05_5-5folds',\n",
       "       'target_place_3_svr_rbf_C_10_e_0.0003_1-5folds',\n",
       "       'target_place_3_svr_rbf_C_10_e_0.0003_2-5folds',\n",
       "       'target_place_3_svr_rbf_C_10_e_0.0003_3-5folds',\n",
       "       'target_place_3_svr_rbf_C_10_e_0.0003_4-5folds',\n",
       "       'target_place_3_svr_rbf_C_10_e_0.0003_5-5folds',\n",
       "       'target_place_3_svr_rbf_C_3_e_0.001_gamma_0.1_1-5folds',\n",
       "       'target_place_3_svr_rbf_C_3_e_0.001_gamma_0.1_2-5folds',\n",
       "       'target_place_3_svr_rbf_C_3_e_0.001_gamma_0.1_3-5folds',\n",
       "       'target_place_3_svr_rbf_C_3_e_0.001_gamma_0.1_4-5folds',\n",
       "       'target_place_3_svr_rbf_C_3_e_0.001_gamma_0.1_5-5folds'],\n",
       "      dtype='object')"
      ]
     },
     "execution_count": 22,
     "metadata": {},
     "output_type": "execute_result"
    }
   ],
   "source": [
    "test_prediction.columns"
   ]
  },
  {
   "cell_type": "code",
   "execution_count": 23,
   "metadata": {
    "collapsed": true
   },
   "outputs": [],
   "source": [
    "keys = ['target_place_3_svr_rbf_C_3_e_0.001_gamma_0.1_1-5folds',\n",
    "       'target_place_3_svr_rbf_C_3_e_0.001_gamma_0.1_2-5folds',\n",
    "       'target_place_3_svr_rbf_C_3_e_0.001_gamma_0.1_3-5folds',\n",
    "       'target_place_3_svr_rbf_C_3_e_0.001_gamma_0.1_4-5folds',\n",
    "       'target_place_3_svr_rbf_C_3_e_0.001_gamma_0.1_5-5folds']\n",
    "tmp = test_prediction[keys]\n",
    "tmp = tmp.mean(axis=1)"
   ]
  },
  {
   "cell_type": "code",
   "execution_count": 24,
   "metadata": {
    "collapsed": true
   },
   "outputs": [],
   "source": [
    "# 2016/01/01 00:00 ~ 2017/3/31 23:30の予測データを書き出す\n",
    "predict_data[\"blending_\"+str(target_place)] = tmp"
   ]
  },
  {
   "cell_type": "code",
   "execution_count": 25,
   "metadata": {
    "collapsed": true
   },
   "outputs": [],
   "source": [
    "def minus_to_zero(x):\n",
    "    if x < 0:\n",
    "        return 0\n",
    "    else:\n",
    "        return x"
   ]
  },
  {
   "cell_type": "code",
   "execution_count": 26,
   "metadata": {
    "collapsed": true
   },
   "outputs": [],
   "source": [
    "predict_data[\"blending_1\"] = predict_data[\"blending_1\"].map(lambda x: minus_to_zero(x))\n",
    "predict_data[\"blending_2\"] = predict_data[\"blending_2\"].map(lambda x: minus_to_zero(x))\n",
    "predict_data[\"blending_3\"] = predict_data[\"blending_3\"].map(lambda x: minus_to_zero(x))"
   ]
  },
  {
   "cell_type": "code",
   "execution_count": 27,
   "metadata": {},
   "outputs": [
    {
     "data": {
      "text/html": [
       "<div>\n",
       "<style>\n",
       "    .dataframe thead tr:only-child th {\n",
       "        text-align: right;\n",
       "    }\n",
       "\n",
       "    .dataframe thead th {\n",
       "        text-align: left;\n",
       "    }\n",
       "\n",
       "    .dataframe tbody tr th {\n",
       "        vertical-align: top;\n",
       "    }\n",
       "</style>\n",
       "<table border=\"1\" class=\"dataframe\">\n",
       "  <thead>\n",
       "    <tr style=\"text-align: right;\">\n",
       "      <th></th>\n",
       "      <th>blending_1</th>\n",
       "      <th>blending_2</th>\n",
       "      <th>blending_3</th>\n",
       "    </tr>\n",
       "  </thead>\n",
       "  <tbody>\n",
       "    <tr>\n",
       "      <th>0</th>\n",
       "      <td>0.330205</td>\n",
       "      <td>0.000000</td>\n",
       "      <td>2.909009</td>\n",
       "    </tr>\n",
       "    <tr>\n",
       "      <th>1</th>\n",
       "      <td>0.330205</td>\n",
       "      <td>0.000000</td>\n",
       "      <td>2.909009</td>\n",
       "    </tr>\n",
       "    <tr>\n",
       "      <th>2</th>\n",
       "      <td>0.247943</td>\n",
       "      <td>0.000000</td>\n",
       "      <td>2.484367</td>\n",
       "    </tr>\n",
       "    <tr>\n",
       "      <th>3</th>\n",
       "      <td>0.247943</td>\n",
       "      <td>0.000000</td>\n",
       "      <td>2.484367</td>\n",
       "    </tr>\n",
       "    <tr>\n",
       "      <th>4</th>\n",
       "      <td>0.423133</td>\n",
       "      <td>0.000000</td>\n",
       "      <td>2.504006</td>\n",
       "    </tr>\n",
       "    <tr>\n",
       "      <th>5</th>\n",
       "      <td>0.423133</td>\n",
       "      <td>0.000000</td>\n",
       "      <td>2.504006</td>\n",
       "    </tr>\n",
       "    <tr>\n",
       "      <th>6</th>\n",
       "      <td>0.614250</td>\n",
       "      <td>1.025419</td>\n",
       "      <td>0.000000</td>\n",
       "    </tr>\n",
       "    <tr>\n",
       "      <th>7</th>\n",
       "      <td>0.614250</td>\n",
       "      <td>1.025419</td>\n",
       "      <td>0.000000</td>\n",
       "    </tr>\n",
       "    <tr>\n",
       "      <th>8</th>\n",
       "      <td>0.624772</td>\n",
       "      <td>1.185721</td>\n",
       "      <td>0.000000</td>\n",
       "    </tr>\n",
       "    <tr>\n",
       "      <th>9</th>\n",
       "      <td>0.624772</td>\n",
       "      <td>1.185721</td>\n",
       "      <td>0.000000</td>\n",
       "    </tr>\n",
       "    <tr>\n",
       "      <th>10</th>\n",
       "      <td>0.573287</td>\n",
       "      <td>0.885039</td>\n",
       "      <td>0.000000</td>\n",
       "    </tr>\n",
       "    <tr>\n",
       "      <th>11</th>\n",
       "      <td>0.573287</td>\n",
       "      <td>0.885039</td>\n",
       "      <td>0.000000</td>\n",
       "    </tr>\n",
       "    <tr>\n",
       "      <th>12</th>\n",
       "      <td>8.793247</td>\n",
       "      <td>9.480236</td>\n",
       "      <td>10.048534</td>\n",
       "    </tr>\n",
       "    <tr>\n",
       "      <th>13</th>\n",
       "      <td>8.793247</td>\n",
       "      <td>9.480236</td>\n",
       "      <td>10.048534</td>\n",
       "    </tr>\n",
       "    <tr>\n",
       "      <th>14</th>\n",
       "      <td>122.041884</td>\n",
       "      <td>280.728977</td>\n",
       "      <td>143.371916</td>\n",
       "    </tr>\n",
       "    <tr>\n",
       "      <th>15</th>\n",
       "      <td>122.041884</td>\n",
       "      <td>280.728977</td>\n",
       "      <td>143.371916</td>\n",
       "    </tr>\n",
       "    <tr>\n",
       "      <th>16</th>\n",
       "      <td>914.803910</td>\n",
       "      <td>1178.121042</td>\n",
       "      <td>1251.484006</td>\n",
       "    </tr>\n",
       "    <tr>\n",
       "      <th>17</th>\n",
       "      <td>914.803910</td>\n",
       "      <td>1178.121042</td>\n",
       "      <td>1251.484006</td>\n",
       "    </tr>\n",
       "    <tr>\n",
       "      <th>18</th>\n",
       "      <td>1620.421027</td>\n",
       "      <td>2288.076194</td>\n",
       "      <td>2220.846539</td>\n",
       "    </tr>\n",
       "    <tr>\n",
       "      <th>19</th>\n",
       "      <td>1620.421027</td>\n",
       "      <td>2288.076194</td>\n",
       "      <td>2220.846539</td>\n",
       "    </tr>\n",
       "    <tr>\n",
       "      <th>20</th>\n",
       "      <td>2076.258892</td>\n",
       "      <td>3014.141178</td>\n",
       "      <td>2848.726052</td>\n",
       "    </tr>\n",
       "    <tr>\n",
       "      <th>21</th>\n",
       "      <td>2076.258892</td>\n",
       "      <td>3014.141178</td>\n",
       "      <td>2848.726052</td>\n",
       "    </tr>\n",
       "    <tr>\n",
       "      <th>22</th>\n",
       "      <td>2284.537491</td>\n",
       "      <td>3337.400280</td>\n",
       "      <td>3143.508029</td>\n",
       "    </tr>\n",
       "    <tr>\n",
       "      <th>23</th>\n",
       "      <td>2284.537491</td>\n",
       "      <td>3337.400280</td>\n",
       "      <td>3143.508029</td>\n",
       "    </tr>\n",
       "    <tr>\n",
       "      <th>24</th>\n",
       "      <td>2285.869638</td>\n",
       "      <td>3386.470204</td>\n",
       "      <td>3242.016221</td>\n",
       "    </tr>\n",
       "    <tr>\n",
       "      <th>25</th>\n",
       "      <td>2285.869638</td>\n",
       "      <td>3386.470204</td>\n",
       "      <td>3242.016221</td>\n",
       "    </tr>\n",
       "    <tr>\n",
       "      <th>26</th>\n",
       "      <td>2012.833424</td>\n",
       "      <td>2919.307368</td>\n",
       "      <td>2901.528640</td>\n",
       "    </tr>\n",
       "    <tr>\n",
       "      <th>27</th>\n",
       "      <td>2012.833424</td>\n",
       "      <td>2919.307368</td>\n",
       "      <td>2901.528640</td>\n",
       "    </tr>\n",
       "    <tr>\n",
       "      <th>28</th>\n",
       "      <td>1558.490095</td>\n",
       "      <td>2149.494065</td>\n",
       "      <td>2260.286250</td>\n",
       "    </tr>\n",
       "    <tr>\n",
       "      <th>29</th>\n",
       "      <td>1558.490095</td>\n",
       "      <td>2149.494065</td>\n",
       "      <td>2260.286250</td>\n",
       "    </tr>\n",
       "    <tr>\n",
       "      <th>...</th>\n",
       "      <td>...</td>\n",
       "      <td>...</td>\n",
       "      <td>...</td>\n",
       "    </tr>\n",
       "    <tr>\n",
       "      <th>21858</th>\n",
       "      <td>1173.314647</td>\n",
       "      <td>1559.424697</td>\n",
       "      <td>1730.605428</td>\n",
       "    </tr>\n",
       "    <tr>\n",
       "      <th>21859</th>\n",
       "      <td>1173.314647</td>\n",
       "      <td>1559.424697</td>\n",
       "      <td>1730.605428</td>\n",
       "    </tr>\n",
       "    <tr>\n",
       "      <th>21860</th>\n",
       "      <td>1464.508608</td>\n",
       "      <td>1985.840831</td>\n",
       "      <td>2270.100610</td>\n",
       "    </tr>\n",
       "    <tr>\n",
       "      <th>21861</th>\n",
       "      <td>1464.508608</td>\n",
       "      <td>1985.840831</td>\n",
       "      <td>2270.100610</td>\n",
       "    </tr>\n",
       "    <tr>\n",
       "      <th>21862</th>\n",
       "      <td>1562.771272</td>\n",
       "      <td>2109.393042</td>\n",
       "      <td>2436.659472</td>\n",
       "    </tr>\n",
       "    <tr>\n",
       "      <th>21863</th>\n",
       "      <td>1562.771272</td>\n",
       "      <td>2109.393042</td>\n",
       "      <td>2436.659472</td>\n",
       "    </tr>\n",
       "    <tr>\n",
       "      <th>21864</th>\n",
       "      <td>1410.624527</td>\n",
       "      <td>1931.799751</td>\n",
       "      <td>2160.016275</td>\n",
       "    </tr>\n",
       "    <tr>\n",
       "      <th>21865</th>\n",
       "      <td>1410.624527</td>\n",
       "      <td>1931.799751</td>\n",
       "      <td>2160.016275</td>\n",
       "    </tr>\n",
       "    <tr>\n",
       "      <th>21866</th>\n",
       "      <td>1211.134161</td>\n",
       "      <td>1642.318759</td>\n",
       "      <td>1757.104652</td>\n",
       "    </tr>\n",
       "    <tr>\n",
       "      <th>21867</th>\n",
       "      <td>1211.134161</td>\n",
       "      <td>1642.318759</td>\n",
       "      <td>1757.104652</td>\n",
       "    </tr>\n",
       "    <tr>\n",
       "      <th>21868</th>\n",
       "      <td>915.357207</td>\n",
       "      <td>1263.963884</td>\n",
       "      <td>1272.890649</td>\n",
       "    </tr>\n",
       "    <tr>\n",
       "      <th>21869</th>\n",
       "      <td>915.357207</td>\n",
       "      <td>1263.963884</td>\n",
       "      <td>1272.890649</td>\n",
       "    </tr>\n",
       "    <tr>\n",
       "      <th>21870</th>\n",
       "      <td>645.351428</td>\n",
       "      <td>865.637748</td>\n",
       "      <td>540.955340</td>\n",
       "    </tr>\n",
       "    <tr>\n",
       "      <th>21871</th>\n",
       "      <td>645.351428</td>\n",
       "      <td>865.637748</td>\n",
       "      <td>540.955340</td>\n",
       "    </tr>\n",
       "    <tr>\n",
       "      <th>21872</th>\n",
       "      <td>297.722808</td>\n",
       "      <td>368.998289</td>\n",
       "      <td>239.886578</td>\n",
       "    </tr>\n",
       "    <tr>\n",
       "      <th>21873</th>\n",
       "      <td>297.722808</td>\n",
       "      <td>368.998289</td>\n",
       "      <td>239.886578</td>\n",
       "    </tr>\n",
       "    <tr>\n",
       "      <th>21874</th>\n",
       "      <td>7.950711</td>\n",
       "      <td>4.767763</td>\n",
       "      <td>3.683919</td>\n",
       "    </tr>\n",
       "    <tr>\n",
       "      <th>21875</th>\n",
       "      <td>7.950711</td>\n",
       "      <td>4.767763</td>\n",
       "      <td>3.683919</td>\n",
       "    </tr>\n",
       "    <tr>\n",
       "      <th>21876</th>\n",
       "      <td>0.000000</td>\n",
       "      <td>0.000000</td>\n",
       "      <td>0.000000</td>\n",
       "    </tr>\n",
       "    <tr>\n",
       "      <th>21877</th>\n",
       "      <td>0.000000</td>\n",
       "      <td>0.000000</td>\n",
       "      <td>0.000000</td>\n",
       "    </tr>\n",
       "    <tr>\n",
       "      <th>21878</th>\n",
       "      <td>0.000000</td>\n",
       "      <td>0.000000</td>\n",
       "      <td>0.000000</td>\n",
       "    </tr>\n",
       "    <tr>\n",
       "      <th>21879</th>\n",
       "      <td>0.000000</td>\n",
       "      <td>0.000000</td>\n",
       "      <td>0.000000</td>\n",
       "    </tr>\n",
       "    <tr>\n",
       "      <th>21880</th>\n",
       "      <td>0.000000</td>\n",
       "      <td>0.000000</td>\n",
       "      <td>0.000000</td>\n",
       "    </tr>\n",
       "    <tr>\n",
       "      <th>21881</th>\n",
       "      <td>0.000000</td>\n",
       "      <td>0.000000</td>\n",
       "      <td>0.000000</td>\n",
       "    </tr>\n",
       "    <tr>\n",
       "      <th>21882</th>\n",
       "      <td>0.000000</td>\n",
       "      <td>0.000000</td>\n",
       "      <td>0.000000</td>\n",
       "    </tr>\n",
       "    <tr>\n",
       "      <th>21883</th>\n",
       "      <td>0.000000</td>\n",
       "      <td>0.000000</td>\n",
       "      <td>0.000000</td>\n",
       "    </tr>\n",
       "    <tr>\n",
       "      <th>21884</th>\n",
       "      <td>0.000000</td>\n",
       "      <td>0.000000</td>\n",
       "      <td>0.000000</td>\n",
       "    </tr>\n",
       "    <tr>\n",
       "      <th>21885</th>\n",
       "      <td>0.000000</td>\n",
       "      <td>0.000000</td>\n",
       "      <td>0.000000</td>\n",
       "    </tr>\n",
       "    <tr>\n",
       "      <th>21886</th>\n",
       "      <td>0.000000</td>\n",
       "      <td>0.000000</td>\n",
       "      <td>0.000000</td>\n",
       "    </tr>\n",
       "    <tr>\n",
       "      <th>21887</th>\n",
       "      <td>0.000000</td>\n",
       "      <td>0.000000</td>\n",
       "      <td>0.000000</td>\n",
       "    </tr>\n",
       "  </tbody>\n",
       "</table>\n",
       "<p>21888 rows × 3 columns</p>\n",
       "</div>"
      ],
      "text/plain": [
       "        blending_1   blending_2   blending_3\n",
       "0         0.330205     0.000000     2.909009\n",
       "1         0.330205     0.000000     2.909009\n",
       "2         0.247943     0.000000     2.484367\n",
       "3         0.247943     0.000000     2.484367\n",
       "4         0.423133     0.000000     2.504006\n",
       "5         0.423133     0.000000     2.504006\n",
       "6         0.614250     1.025419     0.000000\n",
       "7         0.614250     1.025419     0.000000\n",
       "8         0.624772     1.185721     0.000000\n",
       "9         0.624772     1.185721     0.000000\n",
       "10        0.573287     0.885039     0.000000\n",
       "11        0.573287     0.885039     0.000000\n",
       "12        8.793247     9.480236    10.048534\n",
       "13        8.793247     9.480236    10.048534\n",
       "14      122.041884   280.728977   143.371916\n",
       "15      122.041884   280.728977   143.371916\n",
       "16      914.803910  1178.121042  1251.484006\n",
       "17      914.803910  1178.121042  1251.484006\n",
       "18     1620.421027  2288.076194  2220.846539\n",
       "19     1620.421027  2288.076194  2220.846539\n",
       "20     2076.258892  3014.141178  2848.726052\n",
       "21     2076.258892  3014.141178  2848.726052\n",
       "22     2284.537491  3337.400280  3143.508029\n",
       "23     2284.537491  3337.400280  3143.508029\n",
       "24     2285.869638  3386.470204  3242.016221\n",
       "25     2285.869638  3386.470204  3242.016221\n",
       "26     2012.833424  2919.307368  2901.528640\n",
       "27     2012.833424  2919.307368  2901.528640\n",
       "28     1558.490095  2149.494065  2260.286250\n",
       "29     1558.490095  2149.494065  2260.286250\n",
       "...            ...          ...          ...\n",
       "21858  1173.314647  1559.424697  1730.605428\n",
       "21859  1173.314647  1559.424697  1730.605428\n",
       "21860  1464.508608  1985.840831  2270.100610\n",
       "21861  1464.508608  1985.840831  2270.100610\n",
       "21862  1562.771272  2109.393042  2436.659472\n",
       "21863  1562.771272  2109.393042  2436.659472\n",
       "21864  1410.624527  1931.799751  2160.016275\n",
       "21865  1410.624527  1931.799751  2160.016275\n",
       "21866  1211.134161  1642.318759  1757.104652\n",
       "21867  1211.134161  1642.318759  1757.104652\n",
       "21868   915.357207  1263.963884  1272.890649\n",
       "21869   915.357207  1263.963884  1272.890649\n",
       "21870   645.351428   865.637748   540.955340\n",
       "21871   645.351428   865.637748   540.955340\n",
       "21872   297.722808   368.998289   239.886578\n",
       "21873   297.722808   368.998289   239.886578\n",
       "21874     7.950711     4.767763     3.683919\n",
       "21875     7.950711     4.767763     3.683919\n",
       "21876     0.000000     0.000000     0.000000\n",
       "21877     0.000000     0.000000     0.000000\n",
       "21878     0.000000     0.000000     0.000000\n",
       "21879     0.000000     0.000000     0.000000\n",
       "21880     0.000000     0.000000     0.000000\n",
       "21881     0.000000     0.000000     0.000000\n",
       "21882     0.000000     0.000000     0.000000\n",
       "21883     0.000000     0.000000     0.000000\n",
       "21884     0.000000     0.000000     0.000000\n",
       "21885     0.000000     0.000000     0.000000\n",
       "21886     0.000000     0.000000     0.000000\n",
       "21887     0.000000     0.000000     0.000000\n",
       "\n",
       "[21888 rows x 3 columns]"
      ]
     },
     "execution_count": 27,
     "metadata": {},
     "output_type": "execute_result"
    }
   ],
   "source": [
    "predict_data"
   ]
  },
  {
   "cell_type": "code",
   "execution_count": 28,
   "metadata": {
    "collapsed": true
   },
   "outputs": [],
   "source": [
    "predict_data.to_csv('data/predicted_data/simple_blending_prediction.tsv', sep = '\\t', index=False)"
   ]
  },
  {
   "cell_type": "code",
   "execution_count": null,
   "metadata": {
    "collapsed": true
   },
   "outputs": [],
   "source": []
  }
 ],
 "metadata": {
  "kernelspec": {
   "display_name": "Python 3",
   "language": "python",
   "name": "python3"
  },
  "language_info": {
   "codemirror_mode": {
    "name": "ipython",
    "version": 3
   },
   "file_extension": ".py",
   "mimetype": "text/x-python",
   "name": "python",
   "nbconvert_exporter": "python",
   "pygments_lexer": "ipython3",
   "version": "3.5.3"
  }
 },
 "nbformat": 4,
 "nbformat_minor": 2
}
