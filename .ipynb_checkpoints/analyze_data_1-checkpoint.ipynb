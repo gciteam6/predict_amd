{
 "cells": [
  {
   "cell_type": "markdown",
   "metadata": {},
   "source": [
    "# **発電量のデータを分析する**"
   ]
  },
  {
   "cell_type": "markdown",
   "metadata": {},
   "source": [
    "### **必要な関数・モジュール**"
   ]
  },
  {
   "cell_type": "code",
   "execution_count": 39,
   "metadata": {
    "collapsed": true
   },
   "outputs": [],
   "source": [
    "# データ加工・処理・分析モジュール\n",
    "import numpy as np\n",
    "import pandas as pd\n",
    "import matplotlib.pyplot as plt\n",
    "import os\n",
    "\n",
    "%matplotlib inline\n",
    "\n",
    "import time"
   ]
  },
  {
   "cell_type": "code",
   "execution_count": 40,
   "metadata": {
    "collapsed": true
   },
   "outputs": [],
   "source": [
    "def set_time(dataframe, col_name):\n",
    "    '''\n",
    "    to_datetimeを使うための前処理\n",
    "    '''\n",
    "    dataframe[col_name] = dataframe[col_name].map(lambda x : transform_time(x))\n",
    "    return dataframe"
   ]
  },
  {
   "cell_type": "code",
   "execution_count": 41,
   "metadata": {
    "collapsed": true
   },
   "outputs": [],
   "source": [
    "def transform_time(x):\n",
    "    '''\n",
    "    set_time内で使う関数\n",
    "    to_datetimeで24時をサポートしないので00に変更する処理\n",
    "    '''\n",
    "    str_x = str(x)\n",
    "    res = ''\n",
    "    if str(x)[8:10] == '24':\n",
    "        res = str_x[0:4] + '-' + str_x[4:6] + '-' + str_x[6:8] + ' 00:'+str_x[10:12] \n",
    "    else:\n",
    "        res = str_x[0:4] + '-' + str_x[4:6] + '-' + str_x[6:8] + ' '+ str_x[8:10] +':'+str_x[10:12]\n",
    "    return res"
   ]
  },
  {
   "cell_type": "code",
   "execution_count": 42,
   "metadata": {
    "collapsed": true
   },
   "outputs": [],
   "source": [
    "def get_hours(x):\n",
    "    '''\n",
    "    時間帯毎に分類するための関数\n",
    "    '''\n",
    "    num = 0\n",
    "    num += int(x.hour) * 2\n",
    "    if int(x.minute) == 30:\n",
    "        num += 1\n",
    "    return num"
   ]
  },
  {
   "cell_type": "code",
   "execution_count": 43,
   "metadata": {
    "collapsed": true
   },
   "outputs": [],
   "source": [
    "def add_times(df):\n",
    "    '''\n",
    "    datetimeカラムがあることを前提に年, 月, 時カラムを足す\n",
    "    '''\n",
    "    df['hours'] = df['datetime'].map(lambda x: get_hours(x))\n",
    "    df['month'] = df['datetime'].map(lambda x: x.month)\n",
    "    df['year'] = df['datetime'].map(lambda x: x.year)\n",
    "    return df"
   ]
  },
  {
   "cell_type": "code",
   "execution_count": 44,
   "metadata": {
    "collapsed": true
   },
   "outputs": [],
   "source": [
    "def denormalize_array(normalized_x, x_min, x_max):\n",
    "    '''\n",
    "    正規化前のmin, maxを用いて元のスケールに戻す\n",
    "    '''\n",
    "    normalized_x = np.array(normalized_x)\n",
    "    denormalize_array = (normalized_x) * (x_max - x_min) + x_min\n",
    "    return denormalize_array"
   ]
  },
  {
   "cell_type": "code",
   "execution_count": 45,
   "metadata": {
    "collapsed": true
   },
   "outputs": [],
   "source": [
    "def get_input_data(X):\n",
    "    '''\n",
    "    全時系列データから00:00 ~ 20:00までのデータごとに分割する\n",
    "    '''\n",
    "    input_list = []\n",
    "    # 一日は48個の時間帯に分けられる\n",
    "    total_size = len(X) // 48\n",
    "    reshaped_size = X[0:41].shape[0] * X[0:41].shape[1]\n",
    "    for i in range(total_size+1):\n",
    "        each_data = X[(i*48):(i*48+41)]\n",
    "        reshaped = each_data.reshape(reshaped_size)\n",
    "        input_list.append(list(reshaped))\n",
    "    input_list = np.array(input_list)\n",
    "    return input_list"
   ]
  },
  {
   "cell_type": "code",
   "execution_count": 46,
   "metadata": {
    "collapsed": true
   },
   "outputs": [],
   "source": [
    "def get_output_data(Y):\n",
    "    '''\n",
    "    全時系列データから00:00 ~ 23:30までのデータごとに分割する\n",
    "    '''\n",
    "    output_list = []\n",
    "    # 一日は48個の時間帯に分けられる\n",
    "    total_size = len(Y) // 48\n",
    "    for i in range(total_size):\n",
    "        each_data = Y[(i*48):(i*48+48)]\n",
    "        reshaped = each_data.reshape(48)\n",
    "        output_list.append(list(reshaped))\n",
    "    output_list = np.array(output_list)\n",
    "    return output_list"
   ]
  },
  {
   "cell_type": "code",
   "execution_count": 47,
   "metadata": {
    "collapsed": true
   },
   "outputs": [],
   "source": [
    "def drop_nan(X, Y):\n",
    "    '''\n",
    "    Yにnanが含まれるペアを削除(他のとこにあるdrop_nanとは別物なので注意)\n",
    "    '''\n",
    "    mask = []\n",
    "    for i in range(len(Y)):\n",
    "        if np.isnan(Y[i]).sum() == 0:\n",
    "            mask.append(True)\n",
    "        else:\n",
    "            mask.append(False)\n",
    "    X = X[mask]\n",
    "    Y = Y[mask]\n",
    "    return X, Y"
   ]
  },
  {
   "cell_type": "code",
   "execution_count": 48,
   "metadata": {
    "collapsed": true
   },
   "outputs": [],
   "source": [
    "def calc_mae(X, Y):\n",
    "    '''\n",
    "    X, Yがメモリを食いすぎるのでfor文で計算\n",
    "    '''\n",
    "    mse = 0\n",
    "    for i in range(len(X)):\n",
    "        mse += np.abs(X[i]- Y[i])\n",
    "    return mse/len(X)"
   ]
  },
  {
   "cell_type": "markdown",
   "metadata": {},
   "source": [
    "### **データを読み込む**"
   ]
  },
  {
   "cell_type": "code",
   "execution_count": 49,
   "metadata": {
    "collapsed": true
   },
   "outputs": [],
   "source": [
    "target_place = 1"
   ]
  },
  {
   "cell_type": "code",
   "execution_count": 50,
   "metadata": {
    "collapsed": true
   },
   "outputs": [],
   "source": [
    "# 発電量データ\n",
    "output_30 = pd.read_csv('data/processed_data/out_put.tsv', delimiter = '\\t')\n",
    "output_30['datetime'] = output_30['datetime'].map(lambda x : pd.to_datetime(x))"
   ]
  },
  {
   "cell_type": "code",
   "execution_count": 51,
   "metadata": {
    "collapsed": true
   },
   "outputs": [],
   "source": [
    "# 分析するモデル対象\n",
    "model_name = \"targetplace_1_kwh_all_wfc_month_one_layer_5000\""
   ]
  },
  {
   "cell_type": "code",
   "execution_count": 52,
   "metadata": {},
   "outputs": [],
   "source": [
    "# 予測データ\n",
    "predict_30 = pd.read_csv('data/predicted_data/predict_SOLA0'+str(target_place)+'.tsv', delimiter = '\\t')\n",
    "predict_30['datetime'] = predict_30['datetime'].map(lambda x : pd.to_datetime(x))\n",
    "predict_30 = predict_30[['datetime', model_name]]\n",
    "predict_30.columns = [['datetime', 'prediction']]"
   ]
  },
  {
   "cell_type": "code",
   "execution_count": 53,
   "metadata": {
    "collapsed": true
   },
   "outputs": [],
   "source": [
    "# 予測データ\n",
    "predict_train_30 = pd.read_csv('data/predicted_data/predict_train_SOLA0'+str(target_place)+'.tsv', delimiter = '\\t')\n",
    "predict_train_30['datetime'] = predict_train_30['datetime'].map(lambda x : pd.to_datetime(x))\n",
    "predict_train_30 = predict_train_30[['datetime', model_name]]\n",
    "predict_train_30.columns = [['datetime', 'prediction']]"
   ]
  },
  {
   "cell_type": "code",
   "execution_count": 54,
   "metadata": {
    "collapsed": true
   },
   "outputs": [],
   "source": [
    "output_30 = output_30[['datetime', 'SOLA0'+str(target_place)]]\n",
    "output_30.columns = [['datetime', 'actual']]"
   ]
  },
  {
   "cell_type": "code",
   "execution_count": 55,
   "metadata": {
    "collapsed": true
   },
   "outputs": [],
   "source": [
    "output_30 = add_times(output_30)"
   ]
  },
  {
   "cell_type": "code",
   "execution_count": 56,
   "metadata": {
    "collapsed": true
   },
   "outputs": [],
   "source": [
    "# 2016/1/1 ~ 2017/3/31\n",
    "predict_30 = add_times(predict_30)"
   ]
  },
  {
   "cell_type": "code",
   "execution_count": 57,
   "metadata": {
    "collapsed": true
   },
   "outputs": [],
   "source": [
    "# 2012/1/1 ~ 2015/12/31\n",
    "predict_train_30 = add_times(predict_train_30)"
   ]
  },
  {
   "cell_type": "code",
   "execution_count": 58,
   "metadata": {
    "collapsed": true
   },
   "outputs": [],
   "source": [
    "hours_output = output_30.groupby(['hours'], as_index=False).sum()\n",
    "hours_predict = predict_30.groupby(['hours'], as_index=False).sum()\n",
    "hours_t_predict = predict_train_30.groupby(['hours'], as_index=False).sum()"
   ]
  },
  {
   "cell_type": "markdown",
   "metadata": {},
   "source": [
    "### **発電量自体の分析**"
   ]
  },
  {
   "cell_type": "code",
   "execution_count": 59,
   "metadata": {
    "collapsed": true
   },
   "outputs": [],
   "source": [
    "ymh_output = output_30.groupby(['year', 'month', 'hours'], as_index=False).sum()"
   ]
  },
  {
   "cell_type": "code",
   "execution_count": 60,
   "metadata": {
    "scrolled": true
   },
   "outputs": [
    {
     "data": {
      "text/plain": [
       "<matplotlib.text.Text at 0x115d43a58>"
      ]
     },
     "execution_count": 60,
     "metadata": {},
     "output_type": "execute_result"
    },
    {
     "data": {
      "image/png": "[encoded data removed]",
      "text/plain": [
       "<matplotlib.figure.Figure at 0x11612d0f0>"
      ]
     },
     "metadata": {},
     "output_type": "display_data"
    }
   ],
   "source": [
    "tmp = ymh_output.groupby(['year'], as_index = False).sum()\n",
    "left = np.array(tmp['year'])\n",
    "height = np.array(tmp['actual'])\n",
    "plt.bar(left, height, tick_label = [2012, 2013, 2014, 2015], width=0.8)\n",
    "plt.title(\"yealy tendency\")\n",
    "plt.xlabel(\"year\")\n",
    "plt.ylabel(\"output kwh\")"
   ]
  },
  {
   "cell_type": "code",
   "execution_count": 61,
   "metadata": {
    "collapsed": true
   },
   "outputs": [],
   "source": [
    "monthly_output = output_30.groupby(['month'], as_index=False).sum()"
   ]
  },
  {
   "cell_type": "code",
   "execution_count": 62,
   "metadata": {},
   "outputs": [
    {
     "data": {
      "text/plain": [
       "<matplotlib.text.Text at 0x115be1e48>"
      ]
     },
     "execution_count": 62,
     "metadata": {},
     "output_type": "execute_result"
    },
    {
     "data": {
      "image/png": "[encoded data removed]",
      "text/plain": [
       "<matplotlib.figure.Figure at 0x11612d5c0>"
      ]
     },
     "metadata": {},
     "output_type": "display_data"
    }
   ],
   "source": [
    "plt.bar(monthly_output['month'], monthly_output['actual'], tick_label=np.arange(12)+1, width = 0.8)\n",
    "plt.xlabel(\"month\")\n",
    "plt.ylabel(\"output kwh\")\n",
    "plt.title(\"monthly tendency\")"
   ]
  },
  {
   "cell_type": "code",
   "execution_count": 63,
   "metadata": {
    "collapsed": true
   },
   "outputs": [],
   "source": [
    "ym_output = output_30.groupby(['year', 'month'], as_index=False).sum()"
   ]
  },
  {
   "cell_type": "code",
   "execution_count": 64,
   "metadata": {},
   "outputs": [
    {
     "data": {
      "text/plain": [
       "<matplotlib.text.Text at 0x116f7c518>"
      ]
     },
     "execution_count": 64,
     "metadata": {},
     "output_type": "execute_result"
    },
    {
     "data": {
      "image/png": "[encoded data removed]",
      "text/plain": [
       "<matplotlib.figure.Figure at 0x11610e320>"
      ]
     },
     "metadata": {},
     "output_type": "display_data"
    }
   ],
   "source": [
    "plt.figure(figsize=(20, 10))\n",
    "month = np.arange(len(ym_output))\n",
    "plt.bar(month[0:12], ym_output['actual'][0:12], width = 0.5, label=\"2012\")\n",
    "plt.bar(month[12:24], ym_output['actual'][12:24], width = 0.5, label=\"2013\")\n",
    "plt.bar(month[24:36], ym_output['actual'][24:36], width = 0.5, label=\"2014\")\n",
    "plt.bar(month[36:48], ym_output['actual'][36:48], width = 0.5, label=\"2015\")\n",
    "plt.xticks(np.arange(len(ym_output)), month % 12 + 1)\n",
    "plt.legend()\n",
    "plt.xlabel(\"month\")\n",
    "plt.ylabel(\"output kwh\")\n",
    "plt.title(\"monthly tendency\")"
   ]
  },
  {
   "cell_type": "code",
   "execution_count": 65,
   "metadata": {},
   "outputs": [
    {
     "data": {
      "text/plain": [
       "<matplotlib.text.Text at 0x10f6ea940>"
      ]
     },
     "execution_count": 65,
     "metadata": {},
     "output_type": "execute_result"
    },
    {
     "data": {
      "image/png": "[encoded data removed]",
      "text/plain": [
       "<matplotlib.figure.Figure at 0x11612d9b0>"
      ]
     },
     "metadata": {},
     "output_type": "display_data"
    }
   ],
   "source": [
    "month = np.array(ym_output['month'][0:12])\n",
    "left_1 = month*3 - 0.75\n",
    "height_1 = np.array(ym_output['actual'][0:12])\n",
    "left_2 = month*3 - 0.25\n",
    "height_2 = np.array(ym_output['actual'][12:24])\n",
    "left_3 = month*3 + 0.25\n",
    "height_3 = np.array(ym_output['actual'][24:36])\n",
    "left_4 = month*3 + 0.75\n",
    "height_4 = np.array(ym_output['actual'][36:48])\n",
    "plt.figure(figsize=(20, 10))\n",
    "plt.bar(left_1, height_1, width=0.5, label = \"2012\")\n",
    "plt.bar(left_2, height_2, width=0.5, label = \"2013\")\n",
    "plt.bar(left_3, height_3, width=0.5, label = \"2014\")\n",
    "plt.bar(left_4, height_4, width=0.5, label = \"2015\")\n",
    "plt.title(\"monthly output comparing year\")\n",
    "plt.legend()\n",
    "plt.xticks(month * 3, month)\n",
    "plt.xlabel(\"each hours\")\n",
    "plt.ylabel(\"output kwh\")"
   ]
  },
  {
   "cell_type": "markdown",
   "metadata": {},
   "source": [
    "### **浮島発電所と挙動が違いすぎない？？2015年減りすぎでは？**"
   ]
  },
  {
   "cell_type": "markdown",
   "metadata": {},
   "source": [
    "### **分析スタート**"
   ]
  },
  {
   "cell_type": "code",
   "execution_count": 66,
   "metadata": {
    "scrolled": false
   },
   "outputs": [
    {
     "data": {
      "text/plain": [
       "<matplotlib.text.Text at 0x116add2b0>"
      ]
     },
     "execution_count": 66,
     "metadata": {},
     "output_type": "execute_result"
    },
    {
     "data": {
      "image/png": "[encoded data removed]",
      "text/plain": [
       "<matplotlib.figure.Figure at 0x10f9cb828>"
      ]
     },
     "metadata": {},
     "output_type": "display_data"
    }
   ],
   "source": [
    "left_1 = np.array(hours_output['hours']) - 0.15\n",
    "height_1 = np.array(hours_output['actual'])\n",
    "left_2 = np.array(hours_t_predict['hours']) + 0.15\n",
    "height_2 = np.array(hours_t_predict['prediction'])\n",
    "plt.figure(figsize=(20, 10))\n",
    "plt.bar(left_1, height_1, width=0.3, label = \"actual value\", align=\"center\")\n",
    "# plt.bar(left_2, height_2, width=0.3, label = \"predicted value\", align=\"center\")\n",
    "plt.title(\"actual output vs prediction\")\n",
    "plt.legend()\n",
    "plt.xticks(left_1+0.15, np.array(hours_output['hours']))\n",
    "plt.xlabel(\"each hours\")\n",
    "plt.ylabel(\"output kwh\")"
   ]
  },
  {
   "cell_type": "code",
   "execution_count": 67,
   "metadata": {},
   "outputs": [
    {
     "data": {
      "text/html": [
       "<div>\n",
       "<style>\n",
       "    .dataframe thead tr:only-child th {\n",
       "        text-align: right;\n",
       "    }\n",
       "\n",
       "    .dataframe thead th {\n",
       "        text-align: left;\n",
       "    }\n",
       "\n",
       "    .dataframe tbody tr th {\n",
       "        vertical-align: top;\n",
       "    }\n",
       "</style>\n",
       "<table border=\"1\" class=\"dataframe\">\n",
       "  <thead>\n",
       "    <tr style=\"text-align: right;\">\n",
       "      <th></th>\n",
       "      <th>hours</th>\n",
       "      <th>actual</th>\n",
       "      <th>month</th>\n",
       "      <th>year</th>\n",
       "    </tr>\n",
       "  </thead>\n",
       "  <tbody>\n",
       "    <tr>\n",
       "      <th>0</th>\n",
       "      <td>0</td>\n",
       "      <td>0</td>\n",
       "      <td>9530</td>\n",
       "      <td>2941722</td>\n",
       "    </tr>\n",
       "    <tr>\n",
       "      <th>1</th>\n",
       "      <td>1</td>\n",
       "      <td>0</td>\n",
       "      <td>9530</td>\n",
       "      <td>2941722</td>\n",
       "    </tr>\n",
       "    <tr>\n",
       "      <th>2</th>\n",
       "      <td>2</td>\n",
       "      <td>0</td>\n",
       "      <td>9530</td>\n",
       "      <td>2941722</td>\n",
       "    </tr>\n",
       "    <tr>\n",
       "      <th>3</th>\n",
       "      <td>3</td>\n",
       "      <td>0</td>\n",
       "      <td>9530</td>\n",
       "      <td>2941722</td>\n",
       "    </tr>\n",
       "    <tr>\n",
       "      <th>4</th>\n",
       "      <td>4</td>\n",
       "      <td>0</td>\n",
       "      <td>9530</td>\n",
       "      <td>2941722</td>\n",
       "    </tr>\n",
       "    <tr>\n",
       "      <th>5</th>\n",
       "      <td>5</td>\n",
       "      <td>0</td>\n",
       "      <td>9530</td>\n",
       "      <td>2941722</td>\n",
       "    </tr>\n",
       "    <tr>\n",
       "      <th>6</th>\n",
       "      <td>6</td>\n",
       "      <td>0</td>\n",
       "      <td>9530</td>\n",
       "      <td>2941722</td>\n",
       "    </tr>\n",
       "    <tr>\n",
       "      <th>7</th>\n",
       "      <td>7</td>\n",
       "      <td>0</td>\n",
       "      <td>9530</td>\n",
       "      <td>2941722</td>\n",
       "    </tr>\n",
       "    <tr>\n",
       "      <th>8</th>\n",
       "      <td>8</td>\n",
       "      <td>0</td>\n",
       "      <td>9530</td>\n",
       "      <td>2941722</td>\n",
       "    </tr>\n",
       "    <tr>\n",
       "      <th>9</th>\n",
       "      <td>9</td>\n",
       "      <td>127</td>\n",
       "      <td>9530</td>\n",
       "      <td>2941722</td>\n",
       "    </tr>\n",
       "    <tr>\n",
       "      <th>10</th>\n",
       "      <td>10</td>\n",
       "      <td>14208</td>\n",
       "      <td>9530</td>\n",
       "      <td>2941722</td>\n",
       "    </tr>\n",
       "    <tr>\n",
       "      <th>11</th>\n",
       "      <td>11</td>\n",
       "      <td>71580</td>\n",
       "      <td>9530</td>\n",
       "      <td>2941722</td>\n",
       "    </tr>\n",
       "    <tr>\n",
       "      <th>12</th>\n",
       "      <td>12</td>\n",
       "      <td>190149</td>\n",
       "      <td>9530</td>\n",
       "      <td>2941722</td>\n",
       "    </tr>\n",
       "    <tr>\n",
       "      <th>13</th>\n",
       "      <td>13</td>\n",
       "      <td>387204</td>\n",
       "      <td>9530</td>\n",
       "      <td>2941722</td>\n",
       "    </tr>\n",
       "    <tr>\n",
       "      <th>14</th>\n",
       "      <td>14</td>\n",
       "      <td>651232</td>\n",
       "      <td>9530</td>\n",
       "      <td>2941722</td>\n",
       "    </tr>\n",
       "    <tr>\n",
       "      <th>15</th>\n",
       "      <td>15</td>\n",
       "      <td>978493</td>\n",
       "      <td>9530</td>\n",
       "      <td>2941722</td>\n",
       "    </tr>\n",
       "    <tr>\n",
       "      <th>16</th>\n",
       "      <td>16</td>\n",
       "      <td>1364546</td>\n",
       "      <td>9530</td>\n",
       "      <td>2941722</td>\n",
       "    </tr>\n",
       "    <tr>\n",
       "      <th>17</th>\n",
       "      <td>17</td>\n",
       "      <td>1755674</td>\n",
       "      <td>9530</td>\n",
       "      <td>2941722</td>\n",
       "    </tr>\n",
       "    <tr>\n",
       "      <th>18</th>\n",
       "      <td>18</td>\n",
       "      <td>2083391</td>\n",
       "      <td>9530</td>\n",
       "      <td>2941722</td>\n",
       "    </tr>\n",
       "    <tr>\n",
       "      <th>19</th>\n",
       "      <td>19</td>\n",
       "      <td>2349956</td>\n",
       "      <td>9530</td>\n",
       "      <td>2941722</td>\n",
       "    </tr>\n",
       "    <tr>\n",
       "      <th>20</th>\n",
       "      <td>20</td>\n",
       "      <td>2553272</td>\n",
       "      <td>9530</td>\n",
       "      <td>2941722</td>\n",
       "    </tr>\n",
       "    <tr>\n",
       "      <th>21</th>\n",
       "      <td>21</td>\n",
       "      <td>2690525</td>\n",
       "      <td>9530</td>\n",
       "      <td>2941722</td>\n",
       "    </tr>\n",
       "    <tr>\n",
       "      <th>22</th>\n",
       "      <td>22</td>\n",
       "      <td>2809371</td>\n",
       "      <td>9530</td>\n",
       "      <td>2941722</td>\n",
       "    </tr>\n",
       "    <tr>\n",
       "      <th>23</th>\n",
       "      <td>23</td>\n",
       "      <td>2825595</td>\n",
       "      <td>9530</td>\n",
       "      <td>2941722</td>\n",
       "    </tr>\n",
       "    <tr>\n",
       "      <th>24</th>\n",
       "      <td>24</td>\n",
       "      <td>2794148</td>\n",
       "      <td>9530</td>\n",
       "      <td>2941722</td>\n",
       "    </tr>\n",
       "    <tr>\n",
       "      <th>25</th>\n",
       "      <td>25</td>\n",
       "      <td>2708770</td>\n",
       "      <td>9530</td>\n",
       "      <td>2941722</td>\n",
       "    </tr>\n",
       "    <tr>\n",
       "      <th>26</th>\n",
       "      <td>26</td>\n",
       "      <td>2583492</td>\n",
       "      <td>9530</td>\n",
       "      <td>2941722</td>\n",
       "    </tr>\n",
       "    <tr>\n",
       "      <th>27</th>\n",
       "      <td>27</td>\n",
       "      <td>2386515</td>\n",
       "      <td>9530</td>\n",
       "      <td>2941722</td>\n",
       "    </tr>\n",
       "    <tr>\n",
       "      <th>28</th>\n",
       "      <td>28</td>\n",
       "      <td>2134653</td>\n",
       "      <td>9530</td>\n",
       "      <td>2941722</td>\n",
       "    </tr>\n",
       "    <tr>\n",
       "      <th>29</th>\n",
       "      <td>29</td>\n",
       "      <td>1815720</td>\n",
       "      <td>9530</td>\n",
       "      <td>2941722</td>\n",
       "    </tr>\n",
       "    <tr>\n",
       "      <th>30</th>\n",
       "      <td>30</td>\n",
       "      <td>1481530</td>\n",
       "      <td>9530</td>\n",
       "      <td>2941722</td>\n",
       "    </tr>\n",
       "    <tr>\n",
       "      <th>31</th>\n",
       "      <td>31</td>\n",
       "      <td>1077650</td>\n",
       "      <td>9530</td>\n",
       "      <td>2941722</td>\n",
       "    </tr>\n",
       "    <tr>\n",
       "      <th>32</th>\n",
       "      <td>32</td>\n",
       "      <td>734623</td>\n",
       "      <td>9530</td>\n",
       "      <td>2941722</td>\n",
       "    </tr>\n",
       "    <tr>\n",
       "      <th>33</th>\n",
       "      <td>33</td>\n",
       "      <td>452407</td>\n",
       "      <td>9530</td>\n",
       "      <td>2941722</td>\n",
       "    </tr>\n",
       "    <tr>\n",
       "      <th>34</th>\n",
       "      <td>34</td>\n",
       "      <td>244997</td>\n",
       "      <td>9530</td>\n",
       "      <td>2941722</td>\n",
       "    </tr>\n",
       "    <tr>\n",
       "      <th>35</th>\n",
       "      <td>35</td>\n",
       "      <td>106602</td>\n",
       "      <td>9530</td>\n",
       "      <td>2941722</td>\n",
       "    </tr>\n",
       "    <tr>\n",
       "      <th>36</th>\n",
       "      <td>36</td>\n",
       "      <td>32717</td>\n",
       "      <td>9530</td>\n",
       "      <td>2941722</td>\n",
       "    </tr>\n",
       "    <tr>\n",
       "      <th>37</th>\n",
       "      <td>37</td>\n",
       "      <td>2302</td>\n",
       "      <td>9530</td>\n",
       "      <td>2941722</td>\n",
       "    </tr>\n",
       "    <tr>\n",
       "      <th>38</th>\n",
       "      <td>38</td>\n",
       "      <td>0</td>\n",
       "      <td>9530</td>\n",
       "      <td>2941722</td>\n",
       "    </tr>\n",
       "    <tr>\n",
       "      <th>39</th>\n",
       "      <td>39</td>\n",
       "      <td>0</td>\n",
       "      <td>9530</td>\n",
       "      <td>2941722</td>\n",
       "    </tr>\n",
       "    <tr>\n",
       "      <th>40</th>\n",
       "      <td>40</td>\n",
       "      <td>0</td>\n",
       "      <td>9530</td>\n",
       "      <td>2941722</td>\n",
       "    </tr>\n",
       "    <tr>\n",
       "      <th>41</th>\n",
       "      <td>41</td>\n",
       "      <td>0</td>\n",
       "      <td>9530</td>\n",
       "      <td>2941722</td>\n",
       "    </tr>\n",
       "    <tr>\n",
       "      <th>42</th>\n",
       "      <td>42</td>\n",
       "      <td>0</td>\n",
       "      <td>9530</td>\n",
       "      <td>2941722</td>\n",
       "    </tr>\n",
       "    <tr>\n",
       "      <th>43</th>\n",
       "      <td>43</td>\n",
       "      <td>0</td>\n",
       "      <td>9530</td>\n",
       "      <td>2941722</td>\n",
       "    </tr>\n",
       "    <tr>\n",
       "      <th>44</th>\n",
       "      <td>44</td>\n",
       "      <td>0</td>\n",
       "      <td>9530</td>\n",
       "      <td>2941722</td>\n",
       "    </tr>\n",
       "    <tr>\n",
       "      <th>45</th>\n",
       "      <td>45</td>\n",
       "      <td>0</td>\n",
       "      <td>9530</td>\n",
       "      <td>2941722</td>\n",
       "    </tr>\n",
       "    <tr>\n",
       "      <th>46</th>\n",
       "      <td>46</td>\n",
       "      <td>0</td>\n",
       "      <td>9530</td>\n",
       "      <td>2941722</td>\n",
       "    </tr>\n",
       "    <tr>\n",
       "      <th>47</th>\n",
       "      <td>47</td>\n",
       "      <td>0</td>\n",
       "      <td>9530</td>\n",
       "      <td>2941722</td>\n",
       "    </tr>\n",
       "  </tbody>\n",
       "</table>\n",
       "</div>"
      ],
      "text/plain": [
       "    hours   actual  month     year\n",
       "0       0        0   9530  2941722\n",
       "1       1        0   9530  2941722\n",
       "2       2        0   9530  2941722\n",
       "3       3        0   9530  2941722\n",
       "4       4        0   9530  2941722\n",
       "5       5        0   9530  2941722\n",
       "6       6        0   9530  2941722\n",
       "7       7        0   9530  2941722\n",
       "8       8        0   9530  2941722\n",
       "9       9      127   9530  2941722\n",
       "10     10    14208   9530  2941722\n",
       "11     11    71580   9530  2941722\n",
       "12     12   190149   9530  2941722\n",
       "13     13   387204   9530  2941722\n",
       "14     14   651232   9530  2941722\n",
       "15     15   978493   9530  2941722\n",
       "16     16  1364546   9530  2941722\n",
       "17     17  1755674   9530  2941722\n",
       "18     18  2083391   9530  2941722\n",
       "19     19  2349956   9530  2941722\n",
       "20     20  2553272   9530  2941722\n",
       "21     21  2690525   9530  2941722\n",
       "22     22  2809371   9530  2941722\n",
       "23     23  2825595   9530  2941722\n",
       "24     24  2794148   9530  2941722\n",
       "25     25  2708770   9530  2941722\n",
       "26     26  2583492   9530  2941722\n",
       "27     27  2386515   9530  2941722\n",
       "28     28  2134653   9530  2941722\n",
       "29     29  1815720   9530  2941722\n",
       "30     30  1481530   9530  2941722\n",
       "31     31  1077650   9530  2941722\n",
       "32     32   734623   9530  2941722\n",
       "33     33   452407   9530  2941722\n",
       "34     34   244997   9530  2941722\n",
       "35     35   106602   9530  2941722\n",
       "36     36    32717   9530  2941722\n",
       "37     37     2302   9530  2941722\n",
       "38     38        0   9530  2941722\n",
       "39     39        0   9530  2941722\n",
       "40     40        0   9530  2941722\n",
       "41     41        0   9530  2941722\n",
       "42     42        0   9530  2941722\n",
       "43     43        0   9530  2941722\n",
       "44     44        0   9530  2941722\n",
       "45     45        0   9530  2941722\n",
       "46     46        0   9530  2941722\n",
       "47     47        0   9530  2941722"
      ]
     },
     "execution_count": 67,
     "metadata": {},
     "output_type": "execute_result"
    }
   ],
   "source": [
    "hours_output"
   ]
  },
  {
   "cell_type": "code",
   "execution_count": 29,
   "metadata": {},
   "outputs": [
    {
     "data": {
      "text/plain": [
       "<matplotlib.text.Text at 0x10f57c5c0>"
      ]
     },
     "execution_count": 29,
     "metadata": {},
     "output_type": "execute_result"
    },
    {
     "data": {
      "image/png": "[encoded data removed]",
      "text/plain": [
       "<matplotlib.figure.Figure at 0x10eee6908>"
      ]
     },
     "metadata": {},
     "output_type": "display_data"
    }
   ],
   "source": [
    "left = np.array(hours_output['hours'])\n",
    "height = np.array(hours_output['actual']) - np.array(hours_t_predict['prediction'])\n",
    "plt.figure(figsize=(20, 10))\n",
    "plt.bar(left, height, width=0.8, align=\"center\")\n",
    "plt.title(\"diff\")\n",
    "plt.xticks(left, np.array(hours_output['hours']))\n",
    "plt.xlabel(\"each hours\")\n",
    "plt.ylabel(\"output kwh\")"
   ]
  },
  {
   "cell_type": "markdown",
   "metadata": {},
   "source": [
    "** ピークの位置がずれている、午後の時間を過大に評価している(2015年の影響？？)** "
   ]
  },
  {
   "cell_type": "code",
   "execution_count": 30,
   "metadata": {},
   "outputs": [
    {
     "data": {
      "text/plain": [
       "<matplotlib.text.Text at 0x10f8f9470>"
      ]
     },
     "execution_count": 30,
     "metadata": {},
     "output_type": "execute_result"
    },
    {
     "data": {
      "image/png": "[encoded data removed]",
      "text/plain": [
       "<matplotlib.figure.Figure at 0x10f1f3cc0>"
      ]
     },
     "metadata": {},
     "output_type": "display_data"
    }
   ],
   "source": [
    "m_output_30 = output_30.groupby(['month'], as_index=False).mean()\n",
    "m_t_predict_30 = predict_train_30.groupby(['month'], as_index=False).mean()\n",
    "height_1 = np.array(m_output_30['actual'])\n",
    "height_2 = np.array(m_t_predict_30['prediction'])\n",
    "left_1 = np.arange(12) - 0.15\n",
    "left_2 = np.arange(12) + 0.15\n",
    "plt.bar(left_1, height_1, width=0.3)\n",
    "plt.bar(left_2, height_2, width=0.3)\n",
    "plt.xticks(left_1+0.15, np.arange(12)+1)\n",
    "plt.title(\"yealy tendency\")\n",
    "plt.xlabel(\"year\")\n",
    "plt.ylabel(\"output kwh\")"
   ]
  },
  {
   "cell_type": "code",
   "execution_count": 31,
   "metadata": {},
   "outputs": [
    {
     "data": {
      "text/plain": [
       "<matplotlib.text.Text at 0x10f8d3eb8>"
      ]
     },
     "execution_count": 31,
     "metadata": {},
     "output_type": "execute_result"
    },
    {
     "data": {
      "image/png": "[encoded data removed]",
      "text/plain": [
       "<matplotlib.figure.Figure at 0x10e41ed68>"
      ]
     },
     "metadata": {},
     "output_type": "display_data"
    }
   ],
   "source": [
    "left = np.arange(12)\n",
    "height = np.array(m_output_30['actual']) - np.array(m_t_predict_30['prediction'])\n",
    "plt.bar(left, height, width=0.8, align=\"center\")\n",
    "plt.title(\"diff\")\n",
    "plt.xticks(left, left+1)\n",
    "plt.xlabel(\"each hours\")\n",
    "plt.ylabel(\"output kwh\")"
   ]
  },
  {
   "cell_type": "markdown",
   "metadata": {},
   "source": [
    "### **どの月が苦手とかはないっぽい(強いて言えば冬か？)**"
   ]
  },
  {
   "cell_type": "code",
   "execution_count": 32,
   "metadata": {
    "collapsed": true
   },
   "outputs": [],
   "source": [
    "ym_output = output_30.groupby(['year', 'month'], as_index=False).sum()\n",
    "ym_t_predict = predict_train_30.groupby(['year', 'month'], as_index=False).sum()"
   ]
  },
  {
   "cell_type": "code",
   "execution_count": 33,
   "metadata": {},
   "outputs": [
    {
     "data": {
      "text/plain": [
       "<matplotlib.text.Text at 0x110242860>"
      ]
     },
     "execution_count": 33,
     "metadata": {},
     "output_type": "execute_result"
    },
    {
     "data": {
      "image/png": "[encoded data removed]",
      "text/plain": [
       "<matplotlib.figure.Figure at 0x1102076a0>"
      ]
     },
     "metadata": {},
     "output_type": "display_data"
    }
   ],
   "source": [
    "plt.figure(figsize=(20, 10))\n",
    "month = np.arange(len(ym_output))\n",
    "plt.bar(month-0.5, ym_output['actual'], width = 0.25, label=\"actual\")\n",
    "plt.bar(month, ym_t_predict['prediction'], width = 0.25, label=\"prediction\")\n",
    "plt.xticks(np.arange(len(ym_output)), month % 12 + 1)\n",
    "plt.legend()\n",
    "plt.xlabel(\"month\")\n",
    "plt.ylabel(\"output kwh\")\n",
    "plt.title(\"monthly tendency\")"
   ]
  },
  {
   "cell_type": "code",
   "execution_count": 34,
   "metadata": {
    "collapsed": true
   },
   "outputs": [],
   "source": [
    "# 年と時間帯を合わせた分析もしとこうかな？\n",
    "yh_output = output_30.groupby(['year', 'hours'], as_index=False).mean()\n",
    "yh_t_predict = predict_train_30.groupby(['year', 'hours'], as_index=False).mean()"
   ]
  },
  {
   "cell_type": "code",
   "execution_count": 35,
   "metadata": {},
   "outputs": [
    {
     "data": {
      "text/plain": [
       "<matplotlib.text.Text at 0x114bd07f0>"
      ]
     },
     "execution_count": 35,
     "metadata": {},
     "output_type": "execute_result"
    },
    {
     "data": {
      "image/png": "[encoded data removed]",
      "text/plain": [
       "<matplotlib.figure.Figure at 0x1103916a0>"
      ]
     },
     "metadata": {},
     "output_type": "display_data"
    }
   ],
   "source": [
    "hours = np.arange(192)\n",
    "plt.figure(figsize=(20,10))\n",
    "plt.bar(hours-0.5, yh_output['actual'], width = 0.25, label=\"actual\")\n",
    "plt.bar(hours, yh_t_predict['prediction'], width = 0.25, label=\"prediction\")\n",
    "plt.xticks(np.arange(len(yh_output)), hours % 48 + 1)\n",
    "plt.legend()\n",
    "plt.xlabel(\"month\")\n",
    "plt.ylabel(\"output kwh\")\n",
    "plt.title(\"hourly tendency\")"
   ]
  },
  {
   "cell_type": "code",
   "execution_count": 36,
   "metadata": {},
   "outputs": [
    {
     "data": {
      "text/plain": [
       "<matplotlib.text.Text at 0x11528e9e8>"
      ]
     },
     "execution_count": 36,
     "metadata": {},
     "output_type": "execute_result"
    },
    {
     "data": {
      "image/png": "[encoded data removed]",
      "text/plain": [
       "<matplotlib.figure.Figure at 0x110207748>"
      ]
     },
     "metadata": {},
     "output_type": "display_data"
    }
   ],
   "source": [
    "hours = np.arange(192)\n",
    "plt.figure(figsize=(20,10))\n",
    "plt.bar(hours, yh_output['actual'] - yh_t_predict['prediction'], width = 0.5)\n",
    "plt.xticks(np.arange(len(yh_output)), hours % 48 + 1)\n",
    "plt.xlabel(\"hours\")\n",
    "plt.ylabel(\"actual - prediction\")\n",
    "plt.title(\"hourly diff\")"
   ]
  },
  {
   "cell_type": "markdown",
   "metadata": {},
   "source": [
    "### **どの年も午後の予測が下手だなぁ**"
   ]
  },
  {
   "cell_type": "code",
   "execution_count": null,
   "metadata": {
    "collapsed": true
   },
   "outputs": [],
   "source": []
  }
 ],
 "metadata": {
  "kernelspec": {
   "display_name": "Python 3",
   "language": "python",
   "name": "python3"
  },
  "language_info": {
   "codemirror_mode": {
    "name": "ipython",
    "version": 3
   },
   "file_extension": ".py",
   "mimetype": "text/x-python",
   "name": "python",
   "nbconvert_exporter": "python",
   "pygments_lexer": "ipython3",
   "version": "3.5.3"
  }
 },
 "nbformat": 4,
 "nbformat_minor": 2
}
