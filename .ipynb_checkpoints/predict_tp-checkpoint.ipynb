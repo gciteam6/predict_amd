{
 "cells": [
  {
   "cell_type": "markdown",
   "metadata": {},
   "source": [
    "# **前日の20:00までのデータを用いて翌日の00:00~23:50までの気温が予測する**"
   ]
  },
  {
   "cell_type": "markdown",
   "metadata": {},
   "source": [
    "### **必要な関数・ライブラリ**"
   ]
  },
  {
   "cell_type": "code",
   "execution_count": 1,
   "metadata": {
    "collapsed": true
   },
   "outputs": [],
   "source": [
    "# データ加工・処理・分析モジュール\n",
    "import numpy as np\n",
    "import pandas as pd\n",
    "import tensorflow as tf\n",
    "import matplotlib.pyplot as plt\n",
    "from sklearn.model_selection import train_test_split\n",
    "import random\n",
    "\n",
    "%matplotlib inline\n",
    "\n",
    "import time"
   ]
  },
  {
   "cell_type": "code",
   "execution_count": 2,
   "metadata": {
    "collapsed": true
   },
   "outputs": [],
   "source": [
    "def set_time(dataframe, col_name):\n",
    "    '''\n",
    "    to_datetimeを使うための前処理\n",
    "    '''\n",
    "    dataframe[col_name] = dataframe[col_name].map(lambda x : transform_time(x))\n",
    "    return dataframe"
   ]
  },
  {
   "cell_type": "code",
   "execution_count": 3,
   "metadata": {
    "collapsed": true
   },
   "outputs": [],
   "source": [
    "def transform_time(x):\n",
    "    '''\n",
    "    set_time内で使う関数\n",
    "    to_datetimeで24時をサポートしないので00に変更する処理\n",
    "    '''\n",
    "    str_x = str(x)\n",
    "    res = ''\n",
    "    if str(x)[8:10] == '24':\n",
    "        res = str_x[0:4] + '-' + str_x[4:6] + '-' + str_x[6:8] + ' 00:'+str_x[10:12] \n",
    "    else:\n",
    "        res = str_x[0:4] + '-' + str_x[4:6] + '-' + str_x[6:8] + ' '+ str_x[8:10] +':'+str_x[10:12]\n",
    "    return res"
   ]
  },
  {
   "cell_type": "code",
   "execution_count": 4,
   "metadata": {
    "collapsed": true
   },
   "outputs": [],
   "source": [
    "def normalize_array(x):\n",
    "    '''\n",
    "    min, max, min-max正規化を行なった配列(np.array)を返す\n",
    "    '''\n",
    "    x = np.array(x)\n",
    "    x_min = x.min()\n",
    "    x_max = x.max()\n",
    "    normalized = (x - x_min) / (x_max - x_min) \n",
    "    return x_min, x_max, normalized"
   ]
  },
  {
   "cell_type": "code",
   "execution_count": 5,
   "metadata": {
    "collapsed": true
   },
   "outputs": [],
   "source": [
    "def denormalize_array(normalized_x, x_min, x_max):\n",
    "    '''\n",
    "    正規化前のmin, maxを用いて元のスケールに戻す\n",
    "    '''\n",
    "    normalized_x = np.array(normalized_x)\n",
    "    denormalize_array = (normalized_x) * (x_max - x_min) + x_min\n",
    "    return denormalize_array"
   ]
  },
  {
   "cell_type": "code",
   "execution_count": 6,
   "metadata": {
    "collapsed": true
   },
   "outputs": [],
   "source": [
    "def get_chunked_data(x, chunk_size):\n",
    "    '''\n",
    "    rnnに突っ込むためのchunk_sizeごとに区切った系列データを作る\n",
    "    '''\n",
    "    input_list = []\n",
    "    for i in range(0, len(x) - chunk_size + 1):\n",
    "        input_list.append(x[i : i + chunk_size])\n",
    "    input_list = np.array(input_list)\n",
    "    return input_list"
   ]
  },
  {
   "cell_type": "code",
   "execution_count": 7,
   "metadata": {
    "collapsed": true
   },
   "outputs": [],
   "source": [
    "def drop_nan(X, Y):\n",
    "    '''\n",
    "    正解データがnanであるデータの組を削除\n",
    "    '''\n",
    "    mask = np.isnan(Y)\n",
    "    X = X[~mask]\n",
    "    Y = Y[~mask]\n",
    "    return X, Y"
   ]
  },
  {
   "cell_type": "markdown",
   "metadata": {},
   "source": [
    "### **データの準備**"
   ]
  },
  {
   "cell_type": "code",
   "execution_count": 9,
   "metadata": {
    "collapsed": true
   },
   "outputs": [],
   "source": [
    "# 予測する発電所番号を決める\n",
    "target_place = 2\n",
    "model_name = \"model_\"+str(target_place)\n",
    "\n",
    "chunk_size = 144"
   ]
  },
  {
   "cell_type": "code",
   "execution_count": 10,
   "metadata": {},
   "outputs": [],
   "source": [
    "# アメダスデータの読み込み\n",
    "\n",
    "if target_place == 1 or target_place == 2:\n",
    "    # 横浜アメダスのデータを使って予測する, amd_46106\n",
    "    # 各amdidはamd_masterに記載されている\n",
    "    amd_data = pd.read_csv('data/raw_data/amd_46106.tsv', delimiter = '\\t')\n",
    "    amd_data = set_time(amd_data, 'datetime')\n",
    "    amd_data['datetime'] = amd_data['datetime'].map(lambda x : pd.to_datetime(x))\n",
    "    amd_data.head()\n",
    "elif target_place == 3:\n",
    "    # 甲府アメダスのデータを使って予測する, amd_49142\n",
    "    # 各amdidはamd_masterに記載されている\n",
    "    amd_data = pd.read_csv('data/raw_data/amd_49142.tsv', delimiter = '\\t')\n",
    "    amd_data = set_time(amd_data, 'datetime')\n",
    "    amd_data['datetime'] = amd_data['datetime'].map(lambda x : pd.to_datetime(x))\n",
    "    amd_data.head()\n",
    "else:\n",
    "    raise ValueError(\"invalid input target_place_num\")"
   ]
  },
  {
   "cell_type": "code",
   "execution_count": 35,
   "metadata": {},
   "outputs": [
    {
     "data": {
      "text/html": [
       "<div>\n",
       "<style>\n",
       "    .dataframe thead tr:only-child th {\n",
       "        text-align: right;\n",
       "    }\n",
       "\n",
       "    .dataframe thead th {\n",
       "        text-align: left;\n",
       "    }\n",
       "\n",
       "    .dataframe tbody tr th {\n",
       "        vertical-align: top;\n",
       "    }\n",
       "</style>\n",
       "<table border=\"1\" class=\"dataframe\">\n",
       "  <thead>\n",
       "    <tr style=\"text-align: right;\">\n",
       "      <th></th>\n",
       "      <th>datetime</th>\n",
       "      <th>pr</th>\n",
       "      <th>f_pr</th>\n",
       "      <th>max_ws</th>\n",
       "      <th>f_max_ws</th>\n",
       "      <th>ave_wv</th>\n",
       "      <th>f_ave_wv</th>\n",
       "      <th>ave_ws</th>\n",
       "      <th>f_ave_ws</th>\n",
       "      <th>max_tp</th>\n",
       "      <th>f_max_tp</th>\n",
       "      <th>min_tp</th>\n",
       "      <th>f_min_tp</th>\n",
       "      <th>sl</th>\n",
       "      <th>f_sl</th>\n",
       "      <th>sd</th>\n",
       "      <th>f_sd</th>\n",
       "      <th>dsd</th>\n",
       "      <th>f_dsd</th>\n",
       "    </tr>\n",
       "  </thead>\n",
       "  <tbody>\n",
       "    <tr>\n",
       "      <th>276043</th>\n",
       "      <td>2017-03-31 23:20:00</td>\n",
       "      <td>0</td>\n",
       "      <td>0</td>\n",
       "      <td>56.0</td>\n",
       "      <td>0</td>\n",
       "      <td>1.0</td>\n",
       "      <td>0</td>\n",
       "      <td>32.0</td>\n",
       "      <td>0</td>\n",
       "      <td>54.0</td>\n",
       "      <td>0</td>\n",
       "      <td>53.0</td>\n",
       "      <td>0</td>\n",
       "      <td>0.0</td>\n",
       "      <td>2</td>\n",
       "      <td>0.0</td>\n",
       "      <td>0</td>\n",
       "      <td>0.0</td>\n",
       "      <td>0</td>\n",
       "    </tr>\n",
       "    <tr>\n",
       "      <th>276044</th>\n",
       "      <td>2017-03-31 23:30:00</td>\n",
       "      <td>5</td>\n",
       "      <td>0</td>\n",
       "      <td>61.0</td>\n",
       "      <td>0</td>\n",
       "      <td>1.0</td>\n",
       "      <td>0</td>\n",
       "      <td>35.0</td>\n",
       "      <td>0</td>\n",
       "      <td>54.0</td>\n",
       "      <td>0</td>\n",
       "      <td>53.0</td>\n",
       "      <td>0</td>\n",
       "      <td>0.0</td>\n",
       "      <td>2</td>\n",
       "      <td>0.0</td>\n",
       "      <td>0</td>\n",
       "      <td>0.0</td>\n",
       "      <td>0</td>\n",
       "    </tr>\n",
       "    <tr>\n",
       "      <th>276045</th>\n",
       "      <td>2017-03-31 23:40:00</td>\n",
       "      <td>0</td>\n",
       "      <td>0</td>\n",
       "      <td>55.0</td>\n",
       "      <td>0</td>\n",
       "      <td>1.0</td>\n",
       "      <td>0</td>\n",
       "      <td>33.0</td>\n",
       "      <td>0</td>\n",
       "      <td>54.0</td>\n",
       "      <td>0</td>\n",
       "      <td>53.0</td>\n",
       "      <td>0</td>\n",
       "      <td>0.0</td>\n",
       "      <td>2</td>\n",
       "      <td>0.0</td>\n",
       "      <td>0</td>\n",
       "      <td>0.0</td>\n",
       "      <td>0</td>\n",
       "    </tr>\n",
       "    <tr>\n",
       "      <th>276046</th>\n",
       "      <td>2017-03-31 23:50:00</td>\n",
       "      <td>5</td>\n",
       "      <td>0</td>\n",
       "      <td>65.0</td>\n",
       "      <td>0</td>\n",
       "      <td>36.0</td>\n",
       "      <td>0</td>\n",
       "      <td>39.0</td>\n",
       "      <td>0</td>\n",
       "      <td>54.0</td>\n",
       "      <td>0</td>\n",
       "      <td>52.0</td>\n",
       "      <td>0</td>\n",
       "      <td>0.0</td>\n",
       "      <td>2</td>\n",
       "      <td>0.0</td>\n",
       "      <td>0</td>\n",
       "      <td>0.0</td>\n",
       "      <td>0</td>\n",
       "    </tr>\n",
       "    <tr>\n",
       "      <th>276047</th>\n",
       "      <td>2017-03-31 00:00:00</td>\n",
       "      <td>0</td>\n",
       "      <td>0</td>\n",
       "      <td>72.0</td>\n",
       "      <td>0</td>\n",
       "      <td>36.0</td>\n",
       "      <td>0</td>\n",
       "      <td>45.0</td>\n",
       "      <td>0</td>\n",
       "      <td>54.0</td>\n",
       "      <td>0</td>\n",
       "      <td>53.0</td>\n",
       "      <td>0</td>\n",
       "      <td>0.0</td>\n",
       "      <td>2</td>\n",
       "      <td>0.0</td>\n",
       "      <td>0</td>\n",
       "      <td>0.0</td>\n",
       "      <td>0</td>\n",
       "    </tr>\n",
       "  </tbody>\n",
       "</table>\n",
       "</div>"
      ],
      "text/plain": [
       "                  datetime  pr  f_pr  max_ws  f_max_ws  ave_wv  f_ave_wv  \\\n",
       "276043 2017-03-31 23:20:00   0     0    56.0         0     1.0         0   \n",
       "276044 2017-03-31 23:30:00   5     0    61.0         0     1.0         0   \n",
       "276045 2017-03-31 23:40:00   0     0    55.0         0     1.0         0   \n",
       "276046 2017-03-31 23:50:00   5     0    65.0         0    36.0         0   \n",
       "276047 2017-03-31 00:00:00   0     0    72.0         0    36.0         0   \n",
       "\n",
       "        ave_ws  f_ave_ws  max_tp  f_max_tp  min_tp  f_min_tp   sl  f_sl   sd  \\\n",
       "276043    32.0         0    54.0         0    53.0         0  0.0     2  0.0   \n",
       "276044    35.0         0    54.0         0    53.0         0  0.0     2  0.0   \n",
       "276045    33.0         0    54.0         0    53.0         0  0.0     2  0.0   \n",
       "276046    39.0         0    54.0         0    52.0         0  0.0     2  0.0   \n",
       "276047    45.0         0    54.0         0    53.0         0  0.0     2  0.0   \n",
       "\n",
       "        f_sd  dsd  f_dsd  \n",
       "276043     0  0.0      0  \n",
       "276044     0  0.0      0  \n",
       "276045     0  0.0      0  \n",
       "276046     0  0.0      0  \n",
       "276047     0  0.0      0  "
      ]
     },
     "execution_count": 35,
     "metadata": {},
     "output_type": "execute_result"
    }
   ],
   "source": [
    "amd_data.tail()"
   ]
  },
  {
   "cell_type": "code",
   "execution_count": 52,
   "metadata": {},
   "outputs": [],
   "source": [
    "# モデル構築のためにデータを分割する\n",
    "\n",
    "# 日射量の欠損値を一つ前の値で置換/output_data\n",
    "amd_data['max_tp'] = amd_data['max_tp'].fillna(method='bfill')\n",
    "\n",
    "# 学習に必要なデータ\n",
    "# 144ステップ分のデータで次ステップを予測する\n",
    "train_x_s_idx = amd_data[amd_data['datetime'] == pd.to_datetime('2012-01-01 00:10')].index[0]\n",
    "train_x_e_idx = amd_data[amd_data['datetime'] == pd.to_datetime('2015-12-31 23:40')].index[0]\n",
    "train_y_s_idx = train_x_startID + chunk_size\n",
    "train_y_e_idx = amd_data[amd_data['datetime'] == pd.to_datetime('2015-12-31 23:50')].index[0]\n",
    "\n",
    "output_tp = amd_data[['max_tp']][train_y_s_idx:train_y_e_idx+1]\n",
    "input_tp = amd_data[['max_tp']][train_x_s_idx:train_x_e_idx+1]\n",
    "\n",
    "# 予測に必要なデータ\n",
    "# 144ステップ分のデータで次の予測をする\n",
    "# test_y_s_idx = amd_data[amd_data['datetime'] == pd.to_datetime('2016-01-01 00:00')].index[0]\n",
    "# test_y_e_idx = amd_data[amd_data['datetime'] == pd.to_datetime('2017-3-31 23:50')].index[0]\n",
    "# test_x_s_idx = \n",
    "# test_x_e_idx = test_x_\n",
    "\n",
    "# test_tp_data = amd_data[['max_tp']][test_startID:(test_endID+1)]"
   ]
  },
  {
   "cell_type": "code",
   "execution_count": 53,
   "metadata": {
    "collapsed": true
   },
   "outputs": [],
   "source": [
    "# rnnに突っ込むための準備\n",
    "\n",
    "# rnnに突っ込むためにmin-max正規化しておく\n",
    "normalized_input = (input_tp - input_tp.min()) / (input_tp.max() - input_tp.min())\n",
    "normalized_input = np.array(normalized_input)\n",
    "normalized_output = (output_tp - output_tp.min()) / (output_tp.max() - output_tp.min())\n",
    "normalized_output = np.array(normalized_output)\n",
    "\n",
    "#時系列データのリストにする\n",
    "input_list = get_chunked_data(normalized_input, chunk_size)\n",
    "\n",
    "# testデータの入力を用意\n",
    "# test_input_list = get_chunked_data(normalized_test_amd, chunk_size)\n",
    "\n",
    "# RNNに突っ込むためにデータを整形\n",
    "X = np.array(input_list).reshape(len(input_list), chunk_size, input_list.shape[2])\n",
    "Y = np.array(normalized_output).reshape(len(input_list), 1)\n",
    "# X_predict = np.array(test_input_list).reshape(len(test_input_list), chunk_size, test_input_list.shape[2])"
   ]
  },
  {
   "cell_type": "code",
   "execution_count": 40,
   "metadata": {},
   "outputs": [
    {
     "data": {
      "text/plain": [
       "[<matplotlib.lines.Line2D at 0x1219a8940>]"
      ]
     },
     "execution_count": 40,
     "metadata": {},
     "output_type": "execute_result"
    },
    {
     "data": {
      "image/png": "[encoded data removed]",
      "text/plain": [
       "<matplotlib.figure.Figure at 0x1218fb5f8>"
      ]
     },
     "metadata": {},
     "output_type": "display_data"
    }
   ],
   "source": [
    "plt.figure(figsize=(20, 10))\n",
    "plt.plot(input_tp['max_tp'][0:1000])"
   ]
  },
  {
   "cell_type": "markdown",
   "metadata": {},
   "source": [
    "### **モデルの構築**"
   ]
  },
  {
   "cell_type": "markdown",
   "metadata": {},
   "source": [
    "条件:翌日の気温を予測するには前日の20:00までの気象情報しか使えない\n",
    "\n",
    "モデル：8/17の00:00 ~ 23:50までのデータを予測するとき\n",
    "\n",
    "8/15 20:10 ~ 8/16 20:00のデータから8/16の20:10のデータを\n",
    "\n",
    "8/15 20:20 ~ 8/16 20:10のデータから8/16の20:20のデータを\n",
    "\n",
    "....\n",
    "\n",
    "8/16 23:50 ~ 8/17 23:40のデータから8/17の23:50のデータを予測する\n"
   ]
  },
  {
   "cell_type": "code",
   "execution_count": 65,
   "metadata": {
    "collapsed": true
   },
   "outputs": [],
   "source": [
    "# 今までLSTMやってたからとりあえずLSTMでやってみる\n",
    "\n",
    "class simpleLSTM:\n",
    "    def __init__(self, X, Y, epochs = 50, batch_size = 150, model_name = \"test_model\"):\n",
    "        # 学習データと検証用データに分けておく\n",
    "        X_train, X_val, Y_train, Y_val = train_test_split(X, Y, test_size=int((X.shape[0] * 0.1)))\n",
    "        self.X = X # 入力\n",
    "        self.Y = Y # 教師\n",
    "        self.X_val = X_val # 検証用\n",
    "        self.Y_val = Y_val #検証用\n",
    "        \n",
    "        '''\n",
    "        諸変数の設定\n",
    "        '''\n",
    "        self.input_layer_size = self.X.shape[2] #入力層の数\n",
    "        self.hidden_layer_size = 200 # 隠れ層の数、適当\n",
    "        self.output_layer_size = 1 #出力層の数、求める値は時間あたりの発電量の値1つなので1\n",
    "        self.batch_size = batch_size #バッチサイズ、適当\n",
    "        self.chunk_size = self.X.shape[1] # 一回の系列データの長さ\n",
    "        self.learning_rate = 0.01 # 学習率 適当\n",
    "        self.forget_bias = 0.9  # 忘却率\n",
    "        self.epochs = epochs #エポック数\n",
    "        \n",
    "        # 学習データの保存\n",
    "        self.model_name = str(model_name)\n",
    "        \n",
    "        \n",
    "    def shuffle(self):\n",
    "        '''\n",
    "        ミニバッチかする際にランダムにシャッフル\n",
    "        '''\n",
    "        idx = [i for i in range(self.X.shape[0])]\n",
    "        np.random.shuffle(idx)\n",
    "        xs = np.array([[y for y in list(self.X[r])] for r in idx])\n",
    "        ys = np.array([self.Y[r] for r in idx])\n",
    "        return xs, ys\n",
    "        \n",
    "    def inference(self, input_ph, inistate_ph):\n",
    "        '''\n",
    "        グラフの構築\n",
    "        '''\n",
    "        \n",
    "        # 重みとバイアスの初期化\n",
    "        hidden_w = tf.Variable(tf.truncated_normal([self.input_layer_size, self.hidden_layer_size], stddev=0.01), name='hidden_w')\n",
    "        hidden_b = tf.Variable(tf.truncated_normal([self.hidden_layer_size]), name='hidden_b')\n",
    "        output_w = tf.Variable(tf.truncated_normal([self.hidden_layer_size, self.output_layer_size], stddev=0.01), name='output_w')\n",
    "        output_b = tf.Variable(tf.truncated_normal([self.output_layer_size]), name='output_b')\n",
    "        \n",
    "        #　input_phの整型  \n",
    "        in1 = tf.transpose(input_ph, [1, 0, 2]) \n",
    "        in2 = tf.reshape(in1, [-1, self.input_layer_size]) \n",
    "        in3 = tf.matmul(in2, hidden_w) + hidden_b\n",
    "        in4 = tf.split(in3, self.chunk_size, 0)\n",
    "          \n",
    "        # BasicLSTMCellを定義\n",
    "        cell = tf.contrib.rnn.BasicLSTMCell(self.hidden_layer_size, forget_bias=self.forget_bias, state_is_tuple=False)\n",
    "        rnn_outputs, states = tf.contrib.rnn.static_rnn(cell, in4, initial_state=inistate_ph)\n",
    "        output = tf.matmul(rnn_outputs[-1], output_w) + output_b\n",
    "        results = [hidden_w, output_w, hidden_w, hidden_b]\n",
    "        return output, states, results\n",
    "        \n",
    "    def loss(self, output_ph, actual_ph):\n",
    "        '''\n",
    "        お題と同じmean absolute errorを仕様\n",
    "        '''\n",
    "        cost = tf.reduce_mean(tf.abs((output_ph - actual_ph)))\n",
    "        tf.summary.scalar('loss', cost)\n",
    "        return cost\n",
    "    \n",
    "    def training(self, cost):\n",
    "        '''\n",
    "        adamを仕様beta1, beta2は元論文の推奨値を仕様\n",
    "        '''\n",
    "        with tf.name_scope(\"training\") as scope:\n",
    "            optimizer = tf.train.AdamOptimizer(learning_rate=self.learning_rate, beta1=0.9, beta2=0.999).minimize(cost)\n",
    "            return optimizer\n",
    "    \n",
    "    def train(self):\n",
    "        '''\n",
    "        学習\n",
    "        '''\n",
    "        random.seed(0)\n",
    "        np.random.seed(0)\n",
    "        tf.set_random_seed(0)\n",
    "        n_batch = self.X.shape[0] // self.batch_size\n",
    "        \n",
    "        with tf.Graph().as_default():\n",
    "            # 変数の用意\n",
    "            input_ph = tf.placeholder('float', [None, self.chunk_size, self.input_layer_size], name='input')\n",
    "            actual_ph = tf.placeholder('float', [None, self.output_layer_size], name='actual_value')\n",
    "            inistate_ph = tf.placeholder('float', [None, self.hidden_layer_size * 2], name='inistate')\n",
    "\n",
    "            prediction, state, weights = self.inference(input_ph, inistate_ph)\n",
    "            cost = self.loss(prediction, actual_ph)\n",
    "            optimizer = self.training(cost)\n",
    "\n",
    "            # TensorBoardで可視化する\n",
    "            summary = tf.summary.merge_all()\n",
    "            # 初期化\n",
    "            init = tf.global_variables_initializer()\n",
    "                \n",
    "            # ここから学習\n",
    "            with tf.Session() as sess:\n",
    "                # 学習したモデルも保存しておく\n",
    "                saver = tf.train.Saver()\n",
    "                summary_writer = tf.summary.FileWriter(\"/tmp/tensorflow_log\", graph=sess.graph)\n",
    "                sess.run(init)\n",
    "\n",
    "                for epoch in range(self.epochs):\n",
    "                    X_, Y_ = self.shuffle()\n",
    "                    for i in range(n_batch):\n",
    "                        start = i * self.batch_size\n",
    "                        end = start + self.batch_size\n",
    "                        inputs  = X_[start:end]\n",
    "                        actuals = Y_[start:end]\n",
    "                        train_dict = {\n",
    "                            input_ph:      inputs,\n",
    "                            actual_ph:     actuals,\n",
    "                            inistate_ph:     np.zeros((self.batch_size, self.hidden_layer_size * 2)),\n",
    "                        }\n",
    "                    \n",
    "                    sess.run(optimizer, feed_dict=train_dict)\n",
    "\n",
    "                    if (epoch) % (self.epochs//10) == 0:\n",
    "                        val_dict = {\n",
    "                            input_ph:      self.X_val,\n",
    "                            actual_ph:     self.Y_val,\n",
    "                            inistate_ph:     np.zeros((self.X_val.shape[0], self.hidden_layer_size * 2)),\n",
    "                        }\n",
    "                        summary_str, train_loss = sess.run([summary, cost], feed_dict=val_dict)\n",
    "                        print(\"train#%d, validation loss: %e\" % (epoch, train_loss))\n",
    "                        summary_writer.add_summary(summary_str, epoch)\n",
    "                        \n",
    "                    datas = sess.run(weights)\n",
    "                    saver.save(sess, \"./data/model_\"+str(target_place)+\"/\" + str(self.model_name) + \".ckpt\")\n",
    "                    \n",
    "                datas = sess.run(weights)\n",
    "                saver.save(sess, \"./data/model_\"+str(target_place)+ \"/\" + str(self.model_name) + \".ckpt\")\n",
    "                \n",
    "    def predict(self, X_predict, model_name = \"test_model\"):\n",
    "        '''\n",
    "        予測期間に該当するデータから予測\n",
    "        '''\n",
    "        # 予測に使う変数の用意\n",
    "        tf.reset_default_graph()\n",
    "        input_ph = tf.placeholder(\"float\", [None, self.chunk_size, self.input_layer_size], name='input')\n",
    "        inistate_ph = tf.placeholder(\"float\", [None, self.hidden_layer_size * 2], name='inistate')\n",
    "        prediction, state, weights = self.inference(input_ph, inistate_ph)\n",
    "        pre_dict = {\n",
    "            input_ph: X_predict,\n",
    "            inistate_ph: np.zeros((X_predict.shape[0], self.hidden_layer_size*2))\n",
    "        }\n",
    "        \n",
    "        # 初期化\n",
    "        init = tf.global_variables_initializer()\n",
    "\n",
    "        with tf.Session() as sess:\n",
    "            # 保存したモデルをロード\n",
    "            saver = tf.train.Saver()\n",
    "            saver.restore(sess, \"./data/model_\"+str(target_place)+ \"/\" + str(self.model_name) + \".ckpt\")\n",
    "\n",
    "            # ロードしたモデルを使って予測結果を計算\n",
    "            expected_output = sess.run([prediction], feed_dict=pre_dict)\n",
    "\n",
    "\n",
    "        return expected_output"
   ]
  },
  {
   "cell_type": "code",
   "execution_count": 66,
   "metadata": {
    "collapsed": true
   },
   "outputs": [],
   "source": [
    "tp_lstm = simpleLSTM(X, Y, model_name = model_name)"
   ]
  },
  {
   "cell_type": "code",
   "execution_count": 67,
   "metadata": {},
   "outputs": [
    {
     "name": "stdout",
     "output_type": "stream",
     "text": [
      "WARNING:tensorflow:<tensorflow.contrib.rnn.python.ops.core_rnn_cell_impl.BasicLSTMCell object at 0x184629438>: Using a concatenated state is slower and will soon be deprecated.  Use state_is_tuple=True.\n",
      "train#0, validation loss: 5.015610e-01\n",
      "train#5, validation loss: 1.965206e-01\n",
      "train#10, validation loss: 1.851998e-01\n",
      "train#15, validation loss: 1.924454e-01\n",
      "train#20, validation loss: 2.017173e-01\n",
      "train#25, validation loss: 2.138339e-01\n",
      "train#30, validation loss: 1.896817e-01\n",
      "train#35, validation loss: 1.829903e-01\n",
      "train#40, validation loss: 1.983812e-01\n",
      "train#45, validation loss: 2.061468e-01\n"
     ]
    }
   ],
   "source": [
    "tp_lstm.train()"
   ]
  },
  {
   "cell_type": "code",
   "execution_count": null,
   "metadata": {
    "collapsed": true
   },
   "outputs": [],
   "source": []
  }
 ],
 "metadata": {
  "kernelspec": {
   "display_name": "Python 3",
   "language": "python",
   "name": "python3"
  },
  "language_info": {
   "codemirror_mode": {
    "name": "ipython",
    "version": 3
   },
   "file_extension": ".py",
   "mimetype": "text/x-python",
   "name": "python",
   "nbconvert_exporter": "python",
   "pygments_lexer": "ipython3",
   "version": "3.5.3"
  }
 },
 "nbformat": 4,
 "nbformat_minor": 2
}
